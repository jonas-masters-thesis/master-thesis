{
 "cells": [
  {
   "cell_type": "code",
   "execution_count": 1,
   "id": "b19dddd5-3538-4876-b948-7242eae6caec",
   "metadata": {
    "execution": {
     "iopub.execute_input": "2021-12-14T05:21:28.511954Z",
     "iopub.status.busy": "2021-12-14T05:21:28.511954Z",
     "iopub.status.idle": "2021-12-14T05:21:29.012611Z",
     "shell.execute_reply": "2021-12-14T05:21:29.011807Z",
     "shell.execute_reply.started": "2021-12-14T05:21:28.511954Z"
    },
    "tags": []
   },
   "outputs": [],
   "source": [
    "import json\n",
    "import numpy as np\n",
    "import pandas as pd\n",
    "from IPython.display import display_html"
   ]
  },
  {
   "cell_type": "code",
   "execution_count": 2,
   "id": "05aa61ac-3b49-4197-bafc-ab79d32adba3",
   "metadata": {
    "execution": {
     "iopub.execute_input": "2021-12-14T05:21:31.804432Z",
     "iopub.status.busy": "2021-12-14T05:21:31.804432Z",
     "iopub.status.idle": "2021-12-14T05:21:31.936986Z",
     "shell.execute_reply": "2021-12-14T05:21:31.936133Z",
     "shell.execute_reply.started": "2021-12-14T05:21:31.804432Z"
    },
    "tags": []
   },
   "outputs": [],
   "source": [
    "with open('results/clr-test-predictions-w-snippetId.json', 'r') as f:\n",
    "    clr_predictions = json.load(f)"
   ]
  },
  {
   "cell_type": "code",
   "execution_count": 3,
   "id": "696da2e9-d611-4cb6-963e-694b679ad041",
   "metadata": {
    "execution": {
     "iopub.execute_input": "2021-12-14T05:21:32.607981Z",
     "iopub.status.busy": "2021-12-14T05:21:32.606992Z",
     "iopub.status.idle": "2021-12-14T05:21:32.821544Z",
     "shell.execute_reply": "2021-12-14T05:21:32.818515Z",
     "shell.execute_reply.started": "2021-12-14T05:21:32.607981Z"
    },
    "tags": []
   },
   "outputs": [],
   "source": [
    "with open('results/supmmd_test_predictions-w-snippetId.json', 'r') as f:\n",
    "    supmmd_predictions = json.load(f)"
   ]
  },
  {
   "cell_type": "code",
   "execution_count": 4,
   "id": "b6ae66c0-31cb-4f81-860d-8416a59fce66",
   "metadata": {
    "execution": {
     "iopub.execute_input": "2021-12-14T05:21:33.475660Z",
     "iopub.status.busy": "2021-12-14T05:21:33.474783Z",
     "iopub.status.idle": "2021-12-14T05:21:33.602355Z",
     "shell.execute_reply": "2021-12-14T05:21:33.602355Z",
     "shell.execute_reply.started": "2021-12-14T05:21:33.475660Z"
    },
    "tags": []
   },
   "outputs": [],
   "source": [
    "with open('../baseline/results/baseline-test-predictions-w-snippetId.json', 'r') as f:\n",
    "    baseline_predictions = json.load(f)"
   ]
  },
  {
   "cell_type": "code",
   "execution_count": 5,
   "id": "f2da049c-f262-408c-9fe3-a0789e6214c9",
   "metadata": {
    "execution": {
     "iopub.execute_input": "2021-12-14T05:21:35.993018Z",
     "iopub.status.busy": "2021-12-14T05:21:35.992019Z",
     "iopub.status.idle": "2021-12-14T05:21:36.001017Z",
     "shell.execute_reply": "2021-12-14T05:21:36.000015Z",
     "shell.execute_reply.started": "2021-12-14T05:21:35.993018Z"
    },
    "tags": []
   },
   "outputs": [],
   "source": [
    "def snippet_id(arg_id, query, approach):\n",
    "    data = f'{arg_id}+{query}+{approach}'\n",
    "    # Standard Base64 Encoding\n",
    "    encodedBytes = base64.b64encode(data.encode(\"utf-8\"))\n",
    "    encodedStr = str(encodedBytes, \"utf-8\")\n",
    "\n",
    "    #print(encodedStr)\n",
    "    return encodedStr\n",
    "    #decodedBytes = base64.b64decode(encodedStr.encode('utf-8'))\n",
    "    #decodedStr = str(decodedBytes, 'utf-8')\n",
    "    #print(decodedStr)"
   ]
  },
  {
   "cell_type": "code",
   "execution_count": 83,
   "id": "a26bbb3b-68a5-4290-8a91-c6e873bcdbbe",
   "metadata": {
    "execution": {
     "iopub.execute_input": "2021-11-05T08:26:30.347695Z",
     "iopub.status.busy": "2021-11-05T08:26:30.347695Z",
     "iopub.status.idle": "2021-11-05T08:26:31.883160Z",
     "shell.execute_reply": "2021-11-05T08:26:31.883160Z",
     "shell.execute_reply.started": "2021-11-05T08:26:30.347695Z"
    },
    "tags": []
   },
   "outputs": [],
   "source": [
    "for a in clr_predictions:\n",
    "    a['snippet_id'] = snippet_id(a['arg_id'], a['query'], 'clr')\n",
    "with open('results/clr-test-predictions-w-snippetId.json', 'w') as f:\n",
    "    json.dump(clr_predictions, f)\n",
    "    \n",
    "for a in supmmd_predictions:\n",
    "    a['snippet_id'] = snippet_id(a['arg_id'], a['query'], 'supmmd')\n",
    "with open('results/supmmd_test_predictions-w-snippetId.json', 'w') as f:\n",
    "    json.dump(supmmd_predictions, f)\n",
    "\n",
    "for a in baseline_predictions:\n",
    "    a['snippet_id'] = snippet_id(a['arg_id'], a['query'], 'baseline')    \n",
    "with open('../baseline/results/baseline-test-predictions-w-snippetId.json', 'w') as f:\n",
    "    json.dump(baseline_predictions, f)"
   ]
  },
  {
   "cell_type": "code",
   "execution_count": 6,
   "id": "8b1f801a-39a5-4997-8714-c14e23d257d3",
   "metadata": {
    "execution": {
     "iopub.execute_input": "2021-12-14T05:21:39.845869Z",
     "iopub.status.busy": "2021-12-14T05:21:39.845869Z",
     "iopub.status.idle": "2021-12-14T05:21:39.924699Z",
     "shell.execute_reply": "2021-12-14T05:21:39.923872Z",
     "shell.execute_reply.started": "2021-12-14T05:21:39.845869Z"
    },
    "tags": []
   },
   "outputs": [],
   "source": [
    "with open('results/full-text-test-corpus.json', 'r') as f:\n",
    "    full_text = json.load(f)"
   ]
  },
  {
   "cell_type": "code",
   "execution_count": 7,
   "id": "bb3b523b-da29-47c3-b399-d37a3e097405",
   "metadata": {
    "execution": {
     "iopub.execute_input": "2021-12-14T05:21:41.673302Z",
     "iopub.status.busy": "2021-12-14T05:21:41.672304Z",
     "iopub.status.idle": "2021-12-14T05:21:41.696261Z",
     "shell.execute_reply": "2021-12-14T05:21:41.695272Z",
     "shell.execute_reply.started": "2021-12-14T05:21:41.673302Z"
    },
    "tags": []
   },
   "outputs": [
    {
     "data": {
      "text/plain": [
       "3744"
      ]
     },
     "execution_count": 7,
     "metadata": {},
     "output_type": "execute_result"
    }
   ],
   "source": [
    "ids = [e['arg_id'] for e in full_text]\n",
    "len(ids)"
   ]
  },
  {
   "cell_type": "code",
   "execution_count": 8,
   "id": "d5a08938-8081-4f4f-bc56-5144842f3395",
   "metadata": {
    "execution": {
     "iopub.execute_input": "2021-12-14T05:21:42.739282Z",
     "iopub.status.busy": "2021-12-14T05:21:42.738283Z",
     "iopub.status.idle": "2021-12-14T05:21:42.763312Z",
     "shell.execute_reply": "2021-12-14T05:21:42.762317Z",
     "shell.execute_reply.started": "2021-12-14T05:21:42.739282Z"
    },
    "tags": []
   },
   "outputs": [],
   "source": [
    "clr_ids = set([a['arg_id'] + ' ' +a['query'] for a in clr_predictions])\n",
    "supmmd_ids = set([a['arg_id'] + ' ' +a['query'] for a in supmmd_predictions])\n",
    "baseline_ids = set([a['arg_id'] + ' ' +a['query'] for a in baseline_predictions])"
   ]
  },
  {
   "cell_type": "code",
   "execution_count": 13,
   "id": "97e11401-2327-42ed-8fb1-dbca525bee3a",
   "metadata": {
    "execution": {
     "iopub.execute_input": "2021-12-14T05:21:57.461857Z",
     "iopub.status.busy": "2021-12-14T05:21:57.461857Z",
     "iopub.status.idle": "2021-12-14T05:21:57.477790Z",
     "shell.execute_reply": "2021-12-14T05:21:57.476790Z",
     "shell.execute_reply.started": "2021-12-14T05:21:57.461857Z"
    },
    "tags": []
   },
   "outputs": [
    {
     "name": "stdout",
     "output_type": "stream",
     "text": [
      "3282\n",
      "3282\n",
      "3282\n"
     ]
    }
   ],
   "source": [
    "print(len(clr_ids))\n",
    "print(len(supmmd_ids))\n",
    "print(len(baseline_ids))"
   ]
  },
  {
   "cell_type": "code",
   "execution_count": 14,
   "id": "0c318dad-78ab-4864-8ea4-3d80340df026",
   "metadata": {
    "execution": {
     "iopub.execute_input": "2021-12-14T05:22:00.312186Z",
     "iopub.status.busy": "2021-12-14T05:22:00.311232Z",
     "iopub.status.idle": "2021-12-14T05:22:00.326747Z",
     "shell.execute_reply": "2021-12-14T05:22:00.325742Z",
     "shell.execute_reply.started": "2021-12-14T05:22:00.311232Z"
    },
    "tags": []
   },
   "outputs": [],
   "source": [
    "clr_predictions = list(filter(lambda a: a['arg_id'] + ' ' +a['query'] in baseline_ids, clr_predictions))\n",
    "supmmd_predictions = list(filter(lambda a: a['arg_id'] + ' ' +a['query'] in baseline_ids, supmmd_predictions))"
   ]
  },
  {
   "cell_type": "code",
   "execution_count": 11,
   "id": "c498616a-819b-432a-9616-f600611c4aef",
   "metadata": {
    "execution": {
     "iopub.execute_input": "2021-12-14T05:21:48.103979Z",
     "iopub.status.busy": "2021-12-14T05:21:48.102977Z",
     "iopub.status.idle": "2021-12-14T05:21:48.285432Z",
     "shell.execute_reply": "2021-12-14T05:21:48.283440Z",
     "shell.execute_reply.started": "2021-12-14T05:21:48.103979Z"
    },
    "tags": []
   },
   "outputs": [
    {
     "ename": "IndexError",
     "evalue": "list index out of range",
     "output_type": "error",
     "traceback": [
      "\u001b[1;31m---------------------------------------------------------------------------\u001b[0m",
      "\u001b[1;31mIndexError\u001b[0m                                Traceback (most recent call last)",
      "\u001b[1;32m~\\AppData\\Local\\Temp/ipykernel_3904/3514713359.py\u001b[0m in \u001b[0;36m<module>\u001b[1;34m\u001b[0m\n\u001b[0;32m      3\u001b[0m \u001b[0mnone_equal\u001b[0m \u001b[1;33m=\u001b[0m \u001b[0mlist\u001b[0m\u001b[1;33m(\u001b[0m\u001b[1;33m)\u001b[0m\u001b[1;33m\u001b[0m\u001b[1;33m\u001b[0m\u001b[0m\n\u001b[0;32m      4\u001b[0m \u001b[1;32mfor\u001b[0m \u001b[0mid\u001b[0m \u001b[1;32min\u001b[0m \u001b[0mids\u001b[0m\u001b[1;33m:\u001b[0m\u001b[1;33m\u001b[0m\u001b[1;33m\u001b[0m\u001b[0m\n\u001b[1;32m----> 5\u001b[1;33m     \u001b[0msm\u001b[0m \u001b[1;33m=\u001b[0m \u001b[1;33m[\u001b[0m\u001b[0ma\u001b[0m \u001b[1;32mfor\u001b[0m \u001b[0ma\u001b[0m \u001b[1;32min\u001b[0m \u001b[0msupmmd_predictions\u001b[0m \u001b[1;32mif\u001b[0m \u001b[0ma\u001b[0m\u001b[1;33m[\u001b[0m\u001b[1;34m'arg_id'\u001b[0m\u001b[1;33m]\u001b[0m \u001b[1;33m==\u001b[0m \u001b[0mid\u001b[0m\u001b[1;33m]\u001b[0m\u001b[1;33m[\u001b[0m\u001b[1;36m0\u001b[0m\u001b[1;33m]\u001b[0m\u001b[1;33m\u001b[0m\u001b[1;33m\u001b[0m\u001b[0m\n\u001b[0m\u001b[0;32m      6\u001b[0m     \u001b[0mcm\u001b[0m \u001b[1;33m=\u001b[0m \u001b[1;33m[\u001b[0m\u001b[0ma\u001b[0m \u001b[1;32mfor\u001b[0m \u001b[0ma\u001b[0m \u001b[1;32min\u001b[0m \u001b[0mclr_predictions\u001b[0m \u001b[1;32mif\u001b[0m \u001b[0ma\u001b[0m\u001b[1;33m[\u001b[0m\u001b[1;34m'arg_id'\u001b[0m\u001b[1;33m]\u001b[0m \u001b[1;33m==\u001b[0m \u001b[0mid\u001b[0m\u001b[1;33m]\u001b[0m\u001b[1;33m[\u001b[0m\u001b[1;36m0\u001b[0m\u001b[1;33m]\u001b[0m\u001b[1;33m\u001b[0m\u001b[1;33m\u001b[0m\u001b[0m\n\u001b[0;32m      7\u001b[0m     \u001b[1;32mif\u001b[0m \u001b[1;33m(\u001b[0m\u001b[0msm\u001b[0m\u001b[1;33m[\u001b[0m\u001b[1;34m'excerpt'\u001b[0m\u001b[1;33m]\u001b[0m\u001b[1;33m[\u001b[0m\u001b[1;36m0\u001b[0m\u001b[1;33m]\u001b[0m \u001b[1;33m==\u001b[0m \u001b[0mcm\u001b[0m\u001b[1;33m[\u001b[0m\u001b[1;34m'excerpt'\u001b[0m\u001b[1;33m]\u001b[0m\u001b[1;33m[\u001b[0m\u001b[1;36m0\u001b[0m\u001b[1;33m]\u001b[0m\u001b[1;33m)\u001b[0m \u001b[1;32mand\u001b[0m \u001b[1;33m(\u001b[0m\u001b[0msm\u001b[0m\u001b[1;33m[\u001b[0m\u001b[1;34m'excerpt'\u001b[0m\u001b[1;33m]\u001b[0m\u001b[1;33m[\u001b[0m\u001b[1;36m1\u001b[0m\u001b[1;33m]\u001b[0m \u001b[1;33m==\u001b[0m \u001b[0mcm\u001b[0m\u001b[1;33m[\u001b[0m\u001b[1;34m'excerpt'\u001b[0m\u001b[1;33m]\u001b[0m\u001b[1;33m[\u001b[0m\u001b[1;36m1\u001b[0m\u001b[1;33m]\u001b[0m\u001b[1;33m)\u001b[0m\u001b[1;33m:\u001b[0m\u001b[1;33m\u001b[0m\u001b[1;33m\u001b[0m\u001b[0m\n",
      "\u001b[1;31mIndexError\u001b[0m: list index out of range"
     ]
    }
   ],
   "source": [
    "all_equal = list()\n",
    "any_equal = list()\n",
    "none_equal = list()\n",
    "for id in ids:\n",
    "    sm = [a for a in supmmd_predictions if a['arg_id'] == id][0]\n",
    "    cm = [a for a in clr_predictions if a['arg_id'] == id][0]\n",
    "    if (sm['excerpt'][0] == cm['excerpt'][0]) and (sm['excerpt'][1] == cm['excerpt'][1]):\n",
    "        all_equal.append(id)\n",
    "    elif (sm['excerpt'][0] == cm['excerpt'][0]) or (sm['excerpt'][1] == cm['excerpt'][1]):\n",
    "        any_equal.append(id)\n",
    "    else:\n",
    "        none_equal.append(id)"
   ]
  },
  {
   "cell_type": "code",
   "execution_count": 12,
   "id": "5d98f56e-7769-4f82-a4a7-3e7fd079af1b",
   "metadata": {
    "execution": {
     "iopub.execute_input": "2021-12-14T05:21:50.494689Z",
     "iopub.status.busy": "2021-12-14T05:21:50.493692Z",
     "iopub.status.idle": "2021-12-14T05:21:50.508691Z",
     "shell.execute_reply": "2021-12-14T05:21:50.507707Z",
     "shell.execute_reply.started": "2021-12-14T05:21:50.494689Z"
    },
    "tags": []
   },
   "outputs": [
    {
     "name": "stdout",
     "output_type": "stream",
     "text": [
      "4\n",
      "12\n",
      "68\n"
     ]
    }
   ],
   "source": [
    "print(len(all_equal))\n",
    "print(len(any_equal))\n",
    "print(len(none_equal))"
   ]
  },
  {
   "cell_type": "markdown",
   "id": "4bee1db6-c600-4020-8a34-8cfd419ec9cd",
   "metadata": {},
   "source": [
    "# Paraphrase results"
   ]
  },
  {
   "cell_type": "code",
   "execution_count": 15,
   "id": "799ad1bc-7cf1-49e7-8b1b-44f57036be03",
   "metadata": {
    "execution": {
     "iopub.execute_input": "2021-12-14T05:22:14.274708Z",
     "iopub.status.busy": "2021-12-14T05:22:14.274708Z",
     "iopub.status.idle": "2021-12-14T05:22:14.293232Z",
     "shell.execute_reply": "2021-12-14T05:22:14.292234Z",
     "shell.execute_reply.started": "2021-12-14T05:22:14.274708Z"
    },
    "tags": []
   },
   "outputs": [],
   "source": [
    "def print_para(id, preds):\n",
    "    a = [a for a in preds if a['arg_id'] == id][0]\n",
    "    html_str = f'<p style=\"text-align:right\">{a[\"arg_id\"]}</p><div style=\"border: solid black 1px; padding-left: 5px\">'\n",
    "    for idx, excerpt in enumerate(a['excerpt']):\n",
    "        html_str += f'<span style=\"color:grey\">{idx+1:02d} </span><span>{excerpt}</span><br>'    \n",
    "    html_str += '<hr><span style=\"font-weight: bold;\">Paraphrased versions of the first sentence:</span><br>'\n",
    "    for para in a['paraphrased_1']:\n",
    "        html_str += f'<span>{para}</span><br>'\n",
    "    html_str += '<hr><span style=\"font-weight: bold;\">Paraphrased versions of the second sentence:</span><br>'\n",
    "    for para in a['paraphrased_2']:\n",
    "        html_str += f'<span>{para}</span><br>'\n",
    "        \n",
    "    html_str += '<hr><span style=\"font-weight: bold;\">Paraphrased versions of both sentences combined:</span><br>'\n",
    "    for para in a['paraphrased_both']:\n",
    "        html_str += f'<span>{para}</span><br>'\n",
    "        \n",
    "    display_html(html_str+'</p>', raw=True)"
   ]
  },
  {
   "cell_type": "code",
   "execution_count": 9,
   "id": "94ef0d9e-02a1-4462-b96e-ab84483ea7e3",
   "metadata": {
    "collapsed": true,
    "execution": {
     "iopub.execute_input": "2021-11-02T09:39:21.208897Z",
     "iopub.status.busy": "2021-11-02T09:39:21.207910Z",
     "iopub.status.idle": "2021-11-02T09:39:21.244899Z",
     "shell.execute_reply": "2021-11-02T09:39:21.242897Z",
     "shell.execute_reply.started": "2021-11-02T09:39:21.208897Z"
    },
    "jupyter": {
     "outputs_hidden": true
    },
    "tags": []
   },
   "outputs": [
    {
     "data": {
      "text/html": [
       "<p style=\"text-align:right\">S5b257ac2-A4016055e</p><div style=\"border: solid black 1px; padding-left: 5px\"><span style=\"color:grey\">01 </span><span>Also, I will not be giving suggestions on how to address the economic crisis.</span><br><span style=\"color:grey\">02 </span><span>At the same time, as this article shows:</span><br><hr><span style=\"font-weight: bold;\">Paraphrased versions of the first sentence:</span><br><span>I won't be suggesting ways to address the economic crisis.</span><br><span>I won't be giving suggestions on how to address the economic crisis.</span><br><span>I won't be giving suggestions on how to fix the economy.</span><br><hr><span style=\"font-weight: bold;\">Paraphrased versions of the second sentence:</span><br><span>This article shows that at the same time.</span><br><span>As this article shows, at the same time.</span><br><span>The article shows that at the same time.</span><br><hr><span style=\"font-weight: bold;\">Paraphrased versions of both sentences combined:</span><br><span>I won't be giving suggestions on how to address the economic crisis.</span><br><span>I will not be giving suggestions on how to address the economic crisis.</span><br><span>I won't be giving suggestions on how to address the crisis.</span><br></p>"
      ]
     },
     "metadata": {},
     "output_type": "display_data"
    },
    {
     "data": {
      "text/html": [
       "<p style=\"text-align:right\">S5b257ac2-A4016055e</p><div style=\"border: solid black 1px; padding-left: 5px\"><span style=\"color:grey\">01 </span><span>Here are my arguments for why I disagree with the statement that the ecological crisis, e.g.</span><br><span style=\"color:grey\">02 </span><span>I will simply make the case that something along these lines should be done to address the economic crisis first.</span><br><hr><span style=\"font-weight: bold;\">Paraphrased versions of the first sentence:</span><br><span>I disagree with the statement about the ecological crisis.</span><br><span>I disagree with the statement that the ecological crisis is occurring.</span><br><span>I disagree with the statement that the ecological crisis is happening.</span><br><hr><span style=\"font-weight: bold;\">Paraphrased versions of the second sentence:</span><br><span>I will make the case that something should be done to address the economic crisis first.</span><br><span>I will argue that something should be done to address the economic crisis first.</span><br><span>I will make the case that something should be done to address the economic crisis before anything else.</span><br><hr><span style=\"font-weight: bold;\">Paraphrased versions of both sentences combined:</span><br><span>I disagree with the statement that the ecological crisis needs to be addressed first.</span><br><span>I disagree with the statement that the ecological crisis should be addressed first.</span><br><span>I disagree with the statement that the ecological crisis needs to be solved first.</span><br></p>"
      ]
     },
     "metadata": {},
     "output_type": "display_data"
    }
   ],
   "source": [
    "print_para('S5b257ac2-A4016055e', clr_predictions)\n",
    "print_para('S5b257ac2-A4016055e', supmmd_predictions)"
   ]
  },
  {
   "cell_type": "markdown",
   "id": "75a1c2a7-e13b-47f7-a413-3cee8b970263",
   "metadata": {},
   "source": [
    "Joint paraphrasing changes the meaning."
   ]
  },
  {
   "cell_type": "code",
   "execution_count": 10,
   "id": "4bd30a99-c1f3-4eda-8529-937121b4fc2d",
   "metadata": {
    "collapsed": true,
    "execution": {
     "iopub.execute_input": "2021-11-02T09:39:44.382931Z",
     "iopub.status.busy": "2021-11-02T09:39:44.381930Z",
     "iopub.status.idle": "2021-11-02T09:39:44.407936Z",
     "shell.execute_reply": "2021-11-02T09:39:44.405933Z",
     "shell.execute_reply.started": "2021-11-02T09:39:44.382931Z"
    },
    "jupyter": {
     "outputs_hidden": true
    },
    "tags": []
   },
   "outputs": [
    {
     "data": {
      "text/html": [
       "<p style=\"text-align:right\">Sedb85154-Ade6b34a4</p><div style=\"border: solid black 1px; padding-left: 5px\"><span style=\"color:grey\">01 </span><span>2: humans are netting 15 gigatons of carbon into the atmosphere that has no place in the carbon cycle.</span><br><span style=\"color:grey\">02 </span><span>You can't point to one location.</span><br><hr><span style=\"font-weight: bold;\">Paraphrased versions of the first sentence:</span><br><span>Humans are taking 15 gigatons of carbon out of the atmosphere that has no place in the carbon cycle.</span><br><span>Humans are taking 15 gigatons of carbon into the atmosphere that has no place in the carbon cycle.</span><br><span>Humans are taking 15 gigatons of carbon out of the atmosphere that doesn't belong in the carbon cycle.</span><br><hr><span style=\"font-weight: bold;\">Paraphrased versions of the second sentence:</span><br><span>You can't point to a single location.</span><br><span>You can't point to one place.</span><br><span>You can't point to a specific location.</span><br><hr><span style=\"font-weight: bold;\">Paraphrased versions of both sentences combined:</span><br><span>Humans are taking carbon out of the atmosphere that has no place in the carbon cycle.</span><br><span>Humans are taking carbon out of the atmosphere that doesn't belong in the carbon cycle.</span><br><span>Humans are taking carbon out of the atmosphere and putting it in the carbon cycle.</span><br></p>"
      ]
     },
     "metadata": {},
     "output_type": "display_data"
    },
    {
     "data": {
      "text/html": [
       "<p style=\"text-align:right\">Sedb85154-Ade6b34a4</p><div style=\"border: solid black 1px; padding-left: 5px\"><span style=\"color:grey\">01 </span><span>I would like to see logical sequential ideas that lead to the notion that climate change must be all natural.</span><br><span style=\"color:grey\">02 </span><span>Green house gasses cause global warming.</span><br><hr><span style=\"font-weight: bold;\">Paraphrased versions of the first sentence:</span><br><span>I would like to see sequential ideas that lead to the idea that climate change must be natural.</span><br><span>I would like to see ideas that lead to the idea that climate change must be natural.</span><br><span>I would like to see sequential ideas that lead to the idea that climate change is a natural phenomenon.</span><br><hr><span style=\"font-weight: bold;\">Paraphrased versions of the second sentence:</span><br><span>Global warming is caused by green house gasses.</span><br><span>Green house gasses cause global warming.</span><br><span>Green house gasses are a cause of global warming.</span><br><hr><span style=\"font-weight: bold;\">Paraphrased versions of both sentences combined:</span><br><span>Climate change must be all natural if logical sequential ideas are to be believed.</span><br><span>I would like to see logical ideas that lead to the idea that climate change must be natural.</span><br><span>I would like to see logical ideas that lead to the idea that climate change must be a natural phenomenon.</span><br></p>"
      ]
     },
     "metadata": {},
     "output_type": "display_data"
    }
   ],
   "source": [
    "_id ='Sedb85154-Ade6b34a4'\n",
    "print_para(_id, clr_predictions)\n",
    "print_para(_id, supmmd_predictions)"
   ]
  },
  {
   "cell_type": "code",
   "execution_count": 11,
   "id": "9f7b36b9-b9f6-4434-9926-f0e95decefd7",
   "metadata": {
    "collapsed": true,
    "execution": {
     "iopub.execute_input": "2021-11-02T09:39:56.670537Z",
     "iopub.status.busy": "2021-11-02T09:39:56.669537Z",
     "iopub.status.idle": "2021-11-02T09:39:56.695542Z",
     "shell.execute_reply": "2021-11-02T09:39:56.692600Z",
     "shell.execute_reply.started": "2021-11-02T09:39:56.670537Z"
    },
    "jupyter": {
     "outputs_hidden": true
    },
    "tags": []
   },
   "outputs": [
    {
     "data": {
      "text/html": [
       "<p style=\"text-align:right\">S44b0e2cd-A94526f86</p><div style=\"border: solid black 1px; padding-left: 5px\"><span style=\"color:grey\">01 </span><span>The Toyota Camry is more spacious compared to the GTR.</span><br><span style=\"color:grey\">02 </span><span>Larger vehicles often carry their mass higher off the ground.</span><br><hr><span style=\"font-weight: bold;\">Paraphrased versions of the first sentence:</span><br><span>The Camry is larger than the GTR.</span><br><span>The Toyota Camry is larger than the GTR.</span><br><span>The Toyota Camry is larger.</span><br><hr><span style=\"font-weight: bold;\">Paraphrased versions of the second sentence:</span><br><span>Larger vehicles carry their mass higher up.</span><br><span>Larger vehicles can carry their mass higher up.</span><br><span>Larger vehicles carry their mass higher up the ground.</span><br><hr><span style=\"font-weight: bold;\">Paraphrased versions of both sentences combined:</span><br><span>The Toyota Camry is larger than the GTR.</span><br><span>The Toyota Camry has more space than the GTR.</span><br><span>The Camry is larger than the GTR.</span><br></p>"
      ]
     },
     "metadata": {},
     "output_type": "display_data"
    },
    {
     "data": {
      "text/html": [
       "<p style=\"text-align:right\">S44b0e2cd-A94526f86</p><div style=\"border: solid black 1px; padding-left: 5px\"><span style=\"color:grey\">01 </span><span>Because of the Toyota Camry's size, it's more convenient for people who are taller in height.</span><br><span style=\"color:grey\">02 </span><span>The Toyota Camry is more spacious compared to the GTR.</span><br><hr><span style=\"font-weight: bold;\">Paraphrased versions of the first sentence:</span><br><span>It's more convenient for taller people to use the Toyota Camry.</span><br><span>It's more convenient for people who are taller to use the Toyota Camry.</span><br><span>It's more convenient for people who are taller to use the Camry.</span><br><hr><span style=\"font-weight: bold;\">Paraphrased versions of the second sentence:</span><br><span>The Camry is larger than the GTR.</span><br><span>The Toyota Camry is larger than the GTR.</span><br><span>The Toyota Camry is larger.</span><br><hr><span style=\"font-weight: bold;\">Paraphrased versions of both sentences combined:</span><br><span>The Toyota Camry is more convenient for taller people.</span><br><span>The Toyota Camry is more spacious than the GTR.</span><br><span>The Toyota Camry is more spacious than the GTR, which makes it more convenient for taller people.</span><br></p>"
      ]
     },
     "metadata": {},
     "output_type": "display_data"
    }
   ],
   "source": [
    "_id = 'S44b0e2cd-A94526f86'\n",
    "print_para(_id, clr_predictions)\n",
    "print_para(_id, supmmd_predictions)"
   ]
  },
  {
   "cell_type": "code",
   "execution_count": 12,
   "id": "585edcfe-8353-45b5-af02-2fad35c8b3af",
   "metadata": {
    "collapsed": true,
    "execution": {
     "iopub.execute_input": "2021-11-02T09:40:12.226492Z",
     "iopub.status.busy": "2021-11-02T09:40:12.226492Z",
     "iopub.status.idle": "2021-11-02T09:40:12.246587Z",
     "shell.execute_reply": "2021-11-02T09:40:12.245590Z",
     "shell.execute_reply.started": "2021-11-02T09:40:12.226492Z"
    },
    "jupyter": {
     "outputs_hidden": true
    },
    "tags": []
   },
   "outputs": [
    {
     "data": {
      "text/html": [
       "<p style=\"text-align:right\">S43726286-A6b0a804e</p><div style=\"border: solid black 1px; padding-left: 5px\"><span style=\"color:grey\">01 </span><span>ladies and gentlemen my debate first of all amir khan has a more fans then preity .</span><br><span style=\"color:grey\">02 </span><span>but i agree its ur opinion. amir khan really has made more movies then preity amir khan has made :tera zameen per, and way more but i don't know how to spell urda next i am not saying preity is ugly i am saying that she has poor profermonce. preity is a talented actress but it is her fans that are letting her down.</span><br><hr><span style=\"font-weight: bold;\">Paraphrased versions of the first sentence:</span><br><span>First of all, amir khan has more fans than preity.</span><br><span>First of all, amir khan has more fans than preity, so I'm not going to debate him.</span><br><span>First of all, amir khan has more fans then preity, so I'm not going to debate him.</span><br><hr><span style=\"font-weight: bold;\">Paraphrased versions of the second sentence:</span><br><span>I agree that amir khan has made more movies than preity, but I don't know how to spell it.</span><br><span>I agree that amir khan has made more movies than preity, but I don't know how to spell urda.</span><br><span>I agree that amir khan has made more movies then preity, but I don't know how to spell it.</span><br><hr><span style=\"font-weight: bold;\">Paraphrased versions of both sentences combined:</span><br><span>I agree with you that amir khan has more fans than preity.</span><br><span>I agree with you that amir khan has more fans then preity.</span><br><span>I agree that amir khan has more fans than preity.</span><br></p>"
      ]
     },
     "metadata": {},
     "output_type": "display_data"
    },
    {
     "data": {
      "text/html": [
       "<p style=\"text-align:right\">S43726286-A6b0a804e</p><div style=\"border: solid black 1px; padding-left: 5px\"><span style=\"color:grey\">01 </span><span>My Argument amir khan has have 10 super hit and 3 flops. how many did preity have.if u are going to want to help preity to be the best female actress u are going to have to alot of work and i am talking about alot.fans websites ,polls, and posters.amir khan 3 all time blockbusters.preity zinta in 2007 all of her movies are flops.she makes so many faces on screem and she does not act mature and she is a freaking retard.amir khan on the other hand is a mature and shows responsibility.amir khan has won more awards then preity zinta ans his directors are really good and he really has a smart agent.amir khan has won the best acter award and best directer in taare zameen par. and preity zinta has not won any awards she just wastes her time at the shows.amir khan has stared acting in 1988 and preity zinta ugly stared in 1988 and she is still a flop actress but she only had 1 super hit that is nothing compared to amir khan rep.that all.</span><br><span style=\"color:grey\">02 </span><span>but i agree its ur opinion. amir khan really has made more movies then preity amir khan has made :tera zameen per, and way more but i don't know how to spell urda next i am not saying preity is ugly i am saying that she has poor profermonce. preity is a talented actress but it is her fans that are letting her down.</span><br><hr><span style=\"font-weight: bold;\">Paraphrased versions of the first sentence:</span><br><span>My argument is that amir khan has had 10 hits and 3 flops, how many did preity have?</span><br><span>My argument is that amir khan has had 10 hit and 3 flop movies, how many did preity have?</span><br><span>My argument is that amir khan has had 10 hit and 3 flop movies.</span><br><hr><span style=\"font-weight: bold;\">Paraphrased versions of the second sentence:</span><br><span>I agree that amir khan has made more movies than preity, but I don't know how to spell it.</span><br><span>I agree that amir khan has made more movies than preity, but I don't know how to spell urda.</span><br><span>I agree that amir khan has made more movies then preity, but I don't know how to spell it.</span><br><hr><span style=\"font-weight: bold;\">Paraphrased versions of both sentences combined:</span><br><span>My argument is that amir khan has had 10 hits and 3 flops, how many did preity have?</span><br><span>My argument is that amir khan has had 10 hit and 3 flop movies, how many did preity have?</span><br><span>My argument is that amir khan has had 10 hit and 3 flop movies.</span><br></p>"
      ]
     },
     "metadata": {},
     "output_type": "display_data"
    }
   ],
   "source": [
    "_id = np.random.choice(ids)\n",
    "print_para(_id, clr_predictions)\n",
    "print_para(_id, supmmd_predictions)"
   ]
  },
  {
   "cell_type": "code",
   "execution_count": 14,
   "id": "4431891e-1811-4581-bc63-57cb4c45462f",
   "metadata": {
    "collapsed": true,
    "execution": {
     "iopub.execute_input": "2021-11-02T09:40:44.592017Z",
     "iopub.status.busy": "2021-11-02T09:40:44.592017Z",
     "iopub.status.idle": "2021-11-02T09:40:44.616901Z",
     "shell.execute_reply": "2021-11-02T09:40:44.608853Z",
     "shell.execute_reply.started": "2021-11-02T09:40:44.592017Z"
    },
    "jupyter": {
     "outputs_hidden": true
    },
    "tags": []
   },
   "outputs": [
    {
     "data": {
      "text/html": [
       "<p style=\"text-align:right\">S7fed04bf-Ac713bfc</p><div style=\"border: solid black 1px; padding-left: 5px\"><span style=\"color:grey\">01 </span><span>For example, when you take them for a walk you walk too and lose weight.</span><br><span style=\"color:grey\">02 </span><span>They have sharp teeth to protect you.</span><br><hr><span style=\"font-weight: bold;\">Paraphrased versions of the first sentence:</span><br><span>When you take them for a walk, you also lose weight.</span><br><span>When you take them for a walk, you lose weight as well.</span><br><span>You lose weight when you walk with them.</span><br><hr><span style=\"font-weight: bold;\">Paraphrased versions of the second sentence:</span><br><span>They have sharp teeth.</span><br><span>They have teeth that are sharp.</span><br><span>They have sharp teeth to protect you.</span><br><hr><span style=\"font-weight: bold;\">Paraphrased versions of both sentences combined:</span><br><span>When you take them for a walk, you also lose weight.</span><br><span>When you take them for a walk, you lose weight as well.</span><br><span>When you take them for a walk, you lose weight.</span><br></p>"
      ]
     },
     "metadata": {},
     "output_type": "display_data"
    },
    {
     "data": {
      "text/html": [
       "<p style=\"text-align:right\">S7fed04bf-Ac713bfc</p><div style=\"border: solid black 1px; padding-left: 5px\"><span style=\"color:grey\">01 </span><span>Dogs are better.</span><br><span style=\"color:grey\">02 </span><span>Thats why dogs are better.</span><br><hr><span style=\"font-weight: bold;\">Paraphrased versions of the first sentence:</span><br><span>Dogs are better.</span><br><span>Dogs are better than humans.</span><br><span>Dogs are superior.</span><br><hr><span style=\"font-weight: bold;\">Paraphrased versions of the second sentence:</span><br><span>That is the reason dogs are better.</span><br><span>Dogs are better because of that.</span><br><span>That's why dogs are better.</span><br><hr><span style=\"font-weight: bold;\">Paraphrased versions of both sentences combined:</span><br><span>Dogs are better because of that.</span><br><span>Dogs are better.</span><br><span>Dogs are better because of this.</span><br></p>"
      ]
     },
     "metadata": {},
     "output_type": "display_data"
    }
   ],
   "source": [
    "_id = 'S7fed04bf-Ac713bfc'\n",
    "print_para(_id, clr_predictions)\n",
    "print_para(_id, supmmd_predictions)"
   ]
  },
  {
   "cell_type": "code",
   "execution_count": 15,
   "id": "5ebaf815-7b28-409f-ba67-6d044e1ccc0e",
   "metadata": {
    "collapsed": true,
    "execution": {
     "iopub.execute_input": "2021-11-02T09:41:02.130682Z",
     "iopub.status.busy": "2021-11-02T09:41:02.129687Z",
     "iopub.status.idle": "2021-11-02T09:41:02.165686Z",
     "shell.execute_reply": "2021-11-02T09:41:02.163686Z",
     "shell.execute_reply.started": "2021-11-02T09:41:02.130682Z"
    },
    "jupyter": {
     "outputs_hidden": true
    },
    "tags": []
   },
   "outputs": [
    {
     "data": {
      "text/html": [
       "<p style=\"text-align:right\">S24035fd1-A3c3daa20</p><div style=\"border: solid black 1px; padding-left: 5px\"><span style=\"color:grey\">01 </span><span>To begin with this third round, I would like to bring up the point of embarrassment.</span><br><span style=\"color:grey\">02 </span><span>(2) I would like to bring up the point of cost.</span><br><hr><span style=\"font-weight: bold;\">Paraphrased versions of the first sentence:</span><br><span>I would like to point out the point of embarrassment.</span><br><span>I would like to bring up the point of embarrassment in this third round.</span><br><span>I would like to bring up the point of embarrassment.</span><br><hr><span style=\"font-weight: bold;\">Paraphrased versions of the second sentence:</span><br><span>The point of cost is something I would like to bring up.</span><br><span>The point of cost is something I would like to discuss.</span><br><span>The point of cost is something that I would like to bring up.</span><br><hr><span style=\"font-weight: bold;\">Paraphrased versions of both sentences combined:</span><br><span>I would like to bring up the point of embarrassment.</span><br><span>I would like to bring up the point of embarrassment and cost.</span><br><span>I would like to bring up the embarrassment and cost in this third round.</span><br></p>"
      ]
     },
     "metadata": {},
     "output_type": "display_data"
    },
    {
     "data": {
      "text/html": [
       "<p style=\"text-align:right\">S24035fd1-A3c3daa20</p><div style=\"border: solid black 1px; padding-left: 5px\"><span style=\"color:grey\">01 </span><span>In overall, having uniforms would cause chaos to occur and would drive up the cost that students and parents don't want to pay.</span><br><span style=\"color:grey\">02 </span><span>To get started, I can agree to some of a extent with you that some violence does drop but that is still not weight to what cons having school uniforms have.</span><br><hr><span style=\"font-weight: bold;\">Paraphrased versions of the first sentence:</span><br><span>The cost that students and parents don't want to pay would be caused by having uniforms.</span><br><span>The cost that students and parents don't want to pay would be caused by uniforms.</span><br><span>The cost that students and parents don't want to pay would be caused by the chaos that uniforms would cause.</span><br><hr><span style=\"font-weight: bold;\">Paraphrased versions of the second sentence:</span><br><span>I agree with you that some violence does go down, but it's still not as important as what school uniforms do.</span><br><span>I agree with you that some violence does go down, but it's still not enough to make me like school uniforms.</span><br><span>I agree with you that some violence does go down, but it's still not as important as what school uniforms have.</span><br><hr><span style=\"font-weight: bold;\">Paraphrased versions of both sentences combined:</span><br><span>I agree with you that some violence does drop, but that is still not a reason to have school uniforms.</span><br><span>I agree with you that some violence does drop, but that is still not a reason to have uniforms.</span><br><span>I agree with you that some violence does drop, but that is still not enough to explain the cons of having school uniforms.</span><br></p>"
      ]
     },
     "metadata": {},
     "output_type": "display_data"
    }
   ],
   "source": [
    "_id = np.random.choice(ids)\n",
    "print_para(_id, clr_predictions)\n",
    "print_para(_id, supmmd_predictions)"
   ]
  },
  {
   "cell_type": "code",
   "execution_count": null,
   "id": "3df98827-4dd6-4704-84a7-b12148cb6c18",
   "metadata": {},
   "outputs": [],
   "source": []
  },
  {
   "cell_type": "markdown",
   "id": "0b01955c-cfc7-49c9-ab0d-1fe70614de59",
   "metadata": {},
   "source": [
    "# Annotation study"
   ]
  },
  {
   "cell_type": "code",
   "execution_count": 16,
   "id": "d2446c0a-56dd-4629-a10f-6d656ef5c0c6",
   "metadata": {
    "execution": {
     "iopub.execute_input": "2021-12-14T05:22:24.889289Z",
     "iopub.status.busy": "2021-12-14T05:22:24.889289Z",
     "iopub.status.idle": "2021-12-14T05:22:24.903812Z",
     "shell.execute_reply": "2021-12-14T05:22:24.902809Z",
     "shell.execute_reply.started": "2021-12-14T05:22:24.889289Z"
    },
    "tags": []
   },
   "outputs": [],
   "source": [
    "contexts = [a['query'] for a in clr_predictions]"
   ]
  },
  {
   "cell_type": "code",
   "execution_count": 17,
   "id": "e70b8c23-8014-454b-b67b-fa872f13bd77",
   "metadata": {
    "execution": {
     "iopub.execute_input": "2021-12-14T05:22:26.673691Z",
     "iopub.status.busy": "2021-12-14T05:22:26.672694Z",
     "iopub.status.idle": "2021-12-14T05:22:26.953962Z",
     "shell.execute_reply": "2021-12-14T05:22:26.952974Z",
     "shell.execute_reply.started": "2021-12-14T05:22:26.673691Z"
    },
    "tags": []
   },
   "outputs": [],
   "source": [
    "records = list()\n",
    "for k in set(contexts):\n",
    "    cont = [c for c in clr_predictions if c['query']==k]\n",
    "    a = [len(b['sentences']) for b in cont]\n",
    "    #print(a)\n",
    "    records.append({\n",
    "        'context': k,\n",
    "        'len': len(cont),\n",
    "        'arg_lengths': a,\n",
    "        'mean_arg_length':  np.mean(a),\n",
    "        'std_arg_length':  np.std(a),\n",
    "        'median_arg_length': np.median(a),\n",
    "        'max_arg_length': np.max(a),\n",
    "    })\n",
    "context_sizes = pd.DataFrame.from_records(records)"
   ]
  },
  {
   "cell_type": "code",
   "execution_count": 18,
   "id": "c5790670-98af-49ec-b4be-b25eaac99973",
   "metadata": {
    "execution": {
     "iopub.execute_input": "2021-12-14T05:22:27.983247Z",
     "iopub.status.busy": "2021-12-14T05:22:27.983247Z",
     "iopub.status.idle": "2021-12-14T05:22:28.019904Z",
     "shell.execute_reply": "2021-12-14T05:22:28.018905Z",
     "shell.execute_reply.started": "2021-12-14T05:22:27.983247Z"
    },
    "tags": []
   },
   "outputs": [
    {
     "data": {
      "text/html": [
       "<div>\n",
       "<style scoped>\n",
       "    .dataframe tbody tr th:only-of-type {\n",
       "        vertical-align: middle;\n",
       "    }\n",
       "\n",
       "    .dataframe tbody tr th {\n",
       "        vertical-align: top;\n",
       "    }\n",
       "\n",
       "    .dataframe thead th {\n",
       "        text-align: right;\n",
       "    }\n",
       "</style>\n",
       "<table border=\"1\" class=\"dataframe\">\n",
       "  <thead>\n",
       "    <tr style=\"text-align: right;\">\n",
       "      <th></th>\n",
       "      <th>context</th>\n",
       "      <th>len</th>\n",
       "      <th>arg_lengths</th>\n",
       "      <th>mean_arg_length</th>\n",
       "      <th>std_arg_length</th>\n",
       "      <th>median_arg_length</th>\n",
       "      <th>max_arg_length</th>\n",
       "    </tr>\n",
       "  </thead>\n",
       "  <tbody>\n",
       "    <tr>\n",
       "      <th>0</th>\n",
       "      <td>royals</td>\n",
       "      <td>5</td>\n",
       "      <td>[5, 9, 13, 3, 3]</td>\n",
       "      <td>6.600000</td>\n",
       "      <td>3.878144</td>\n",
       "      <td>5.0</td>\n",
       "      <td>13</td>\n",
       "    </tr>\n",
       "    <tr>\n",
       "      <th>1</th>\n",
       "      <td>buying_a_car</td>\n",
       "      <td>7</td>\n",
       "      <td>[3, 3, 10, 5, 41, 14, 22]</td>\n",
       "      <td>14.000000</td>\n",
       "      <td>12.716693</td>\n",
       "      <td>10.0</td>\n",
       "      <td>41</td>\n",
       "    </tr>\n",
       "    <tr>\n",
       "      <th>2</th>\n",
       "      <td>sexism</td>\n",
       "      <td>8</td>\n",
       "      <td>[4, 6, 19, 13, 4, 9, 4, 6]</td>\n",
       "      <td>8.125000</td>\n",
       "      <td>5.035809</td>\n",
       "      <td>6.0</td>\n",
       "      <td>19</td>\n",
       "    </tr>\n",
       "    <tr>\n",
       "      <th>3</th>\n",
       "      <td>bike_helmets</td>\n",
       "      <td>8</td>\n",
       "      <td>[20, 17, 22, 13, 23, 3, 4, 20]</td>\n",
       "      <td>15.250000</td>\n",
       "      <td>7.378177</td>\n",
       "      <td>18.5</td>\n",
       "      <td>23</td>\n",
       "    </tr>\n",
       "    <tr>\n",
       "      <th>4</th>\n",
       "      <td>gaza</td>\n",
       "      <td>8</td>\n",
       "      <td>[33, 3, 31, 24, 22, 5, 3, 3]</td>\n",
       "      <td>15.500000</td>\n",
       "      <td>12.449900</td>\n",
       "      <td>13.5</td>\n",
       "      <td>33</td>\n",
       "    </tr>\n",
       "    <tr>\n",
       "      <th>...</th>\n",
       "      <td>...</td>\n",
       "      <td>...</td>\n",
       "      <td>...</td>\n",
       "      <td>...</td>\n",
       "      <td>...</td>\n",
       "      <td>...</td>\n",
       "      <td>...</td>\n",
       "    </tr>\n",
       "    <tr>\n",
       "      <th>451</th>\n",
       "      <td>corona_vaccination_leads_to_death</td>\n",
       "      <td>5</td>\n",
       "      <td>[36, 46, 28, 76, 65]</td>\n",
       "      <td>50.200000</td>\n",
       "      <td>17.870646</td>\n",
       "      <td>46.0</td>\n",
       "      <td>76</td>\n",
       "    </tr>\n",
       "    <tr>\n",
       "      <th>452</th>\n",
       "      <td>nuclear_energy_is_bad</td>\n",
       "      <td>2</td>\n",
       "      <td>[12, 60]</td>\n",
       "      <td>36.000000</td>\n",
       "      <td>24.000000</td>\n",
       "      <td>36.0</td>\n",
       "      <td>60</td>\n",
       "    </tr>\n",
       "    <tr>\n",
       "      <th>453</th>\n",
       "      <td>muslim_ban</td>\n",
       "      <td>8</td>\n",
       "      <td>[25, 16, 7, 24, 5, 39, 21, 4]</td>\n",
       "      <td>17.625000</td>\n",
       "      <td>11.313018</td>\n",
       "      <td>18.5</td>\n",
       "      <td>39</td>\n",
       "    </tr>\n",
       "    <tr>\n",
       "      <th>454</th>\n",
       "      <td>subsidize_school</td>\n",
       "      <td>8</td>\n",
       "      <td>[41, 36, 44, 10, 24, 8, 3, 26]</td>\n",
       "      <td>24.000000</td>\n",
       "      <td>14.705441</td>\n",
       "      <td>25.0</td>\n",
       "      <td>44</td>\n",
       "    </tr>\n",
       "    <tr>\n",
       "      <th>455</th>\n",
       "      <td>urbanization</td>\n",
       "      <td>3</td>\n",
       "      <td>[3, 9, 8]</td>\n",
       "      <td>6.666667</td>\n",
       "      <td>2.624669</td>\n",
       "      <td>8.0</td>\n",
       "      <td>9</td>\n",
       "    </tr>\n",
       "  </tbody>\n",
       "</table>\n",
       "<p>456 rows × 7 columns</p>\n",
       "</div>"
      ],
      "text/plain": [
       "                               context  len                     arg_lengths  \\\n",
       "0                               royals    5                [5, 9, 13, 3, 3]   \n",
       "1                         buying_a_car    7       [3, 3, 10, 5, 41, 14, 22]   \n",
       "2                               sexism    8      [4, 6, 19, 13, 4, 9, 4, 6]   \n",
       "3                         bike_helmets    8  [20, 17, 22, 13, 23, 3, 4, 20]   \n",
       "4                                 gaza    8    [33, 3, 31, 24, 22, 5, 3, 3]   \n",
       "..                                 ...  ...                             ...   \n",
       "451  corona_vaccination_leads_to_death    5            [36, 46, 28, 76, 65]   \n",
       "452              nuclear_energy_is_bad    2                        [12, 60]   \n",
       "453                         muslim_ban    8   [25, 16, 7, 24, 5, 39, 21, 4]   \n",
       "454                   subsidize_school    8  [41, 36, 44, 10, 24, 8, 3, 26]   \n",
       "455                       urbanization    3                       [3, 9, 8]   \n",
       "\n",
       "     mean_arg_length  std_arg_length  median_arg_length  max_arg_length  \n",
       "0           6.600000        3.878144                5.0              13  \n",
       "1          14.000000       12.716693               10.0              41  \n",
       "2           8.125000        5.035809                6.0              19  \n",
       "3          15.250000        7.378177               18.5              23  \n",
       "4          15.500000       12.449900               13.5              33  \n",
       "..               ...             ...                ...             ...  \n",
       "451        50.200000       17.870646               46.0              76  \n",
       "452        36.000000       24.000000               36.0              60  \n",
       "453        17.625000       11.313018               18.5              39  \n",
       "454        24.000000       14.705441               25.0              44  \n",
       "455         6.666667        2.624669                8.0               9  \n",
       "\n",
       "[456 rows x 7 columns]"
      ]
     },
     "execution_count": 18,
     "metadata": {},
     "output_type": "execute_result"
    }
   ],
   "source": [
    "context_sizes"
   ]
  },
  {
   "cell_type": "code",
   "execution_count": 19,
   "id": "2e3be348-c94c-4b27-949b-3933aeb7c210",
   "metadata": {
    "execution": {
     "iopub.execute_input": "2021-12-14T05:22:34.015100Z",
     "iopub.status.busy": "2021-12-14T05:22:34.014101Z",
     "iopub.status.idle": "2021-12-14T05:22:34.618804Z",
     "shell.execute_reply": "2021-12-14T05:22:34.617803Z",
     "shell.execute_reply.started": "2021-12-14T05:22:34.015100Z"
    },
    "tags": []
   },
   "outputs": [
    {
     "data": {
      "text/plain": [
       "<AxesSubplot:>"
      ]
     },
     "execution_count": 19,
     "metadata": {},
     "output_type": "execute_result"
    },
    {
     "data": {
      "image/png": "[encoded data removed]",
      "text/plain": [
       "<Figure size 432x288 with 1 Axes>"
      ]
     },
     "metadata": {
      "needs_background": "light"
     },
     "output_type": "display_data"
    }
   ],
   "source": [
    "context_sizes['max_arg_length'].hist()"
   ]
  },
  {
   "cell_type": "code",
   "execution_count": 16,
   "id": "a0d680a4-c24f-45ff-998c-138d1a8d5eee",
   "metadata": {
    "execution": {
     "iopub.execute_input": "2021-11-05T07:05:02.954307Z",
     "iopub.status.busy": "2021-11-05T07:05:02.954307Z",
     "iopub.status.idle": "2021-11-05T07:05:03.017049Z",
     "shell.execute_reply": "2021-11-05T07:05:03.017049Z",
     "shell.execute_reply.started": "2021-11-05T07:05:02.954307Z"
    },
    "tags": []
   },
   "outputs": [
    {
     "data": {
      "text/html": [
       "<div>\n",
       "<style scoped>\n",
       "    .dataframe tbody tr th:only-of-type {\n",
       "        vertical-align: middle;\n",
       "    }\n",
       "\n",
       "    .dataframe tbody tr th {\n",
       "        vertical-align: top;\n",
       "    }\n",
       "\n",
       "    .dataframe thead th {\n",
       "        text-align: right;\n",
       "    }\n",
       "</style>\n",
       "<table border=\"1\" class=\"dataframe\">\n",
       "  <thead>\n",
       "    <tr style=\"text-align: right;\">\n",
       "      <th></th>\n",
       "      <th>context</th>\n",
       "      <th>len</th>\n",
       "      <th>arg_lengths</th>\n",
       "      <th>mean_arg_length</th>\n",
       "      <th>std_arg_length</th>\n",
       "      <th>median_arg_length</th>\n",
       "      <th>max_arg_length</th>\n",
       "    </tr>\n",
       "  </thead>\n",
       "  <tbody>\n",
       "    <tr>\n",
       "      <th>215</th>\n",
       "      <td>earth_is_flat</td>\n",
       "      <td>1</td>\n",
       "      <td>[6]</td>\n",
       "      <td>6.0</td>\n",
       "      <td>0.000000</td>\n",
       "      <td>6.0</td>\n",
       "      <td>6</td>\n",
       "    </tr>\n",
       "    <tr>\n",
       "      <th>283</th>\n",
       "      <td>nuclear_power</td>\n",
       "      <td>1</td>\n",
       "      <td>[45]</td>\n",
       "      <td>45.0</td>\n",
       "      <td>0.000000</td>\n",
       "      <td>45.0</td>\n",
       "      <td>45</td>\n",
       "    </tr>\n",
       "    <tr>\n",
       "      <th>368</th>\n",
       "      <td>rich_tax</td>\n",
       "      <td>1</td>\n",
       "      <td>[15]</td>\n",
       "      <td>15.0</td>\n",
       "      <td>0.000000</td>\n",
       "      <td>15.0</td>\n",
       "      <td>15</td>\n",
       "    </tr>\n",
       "    <tr>\n",
       "      <th>425</th>\n",
       "      <td>open_source_software</td>\n",
       "      <td>2</td>\n",
       "      <td>[10, 12]</td>\n",
       "      <td>11.0</td>\n",
       "      <td>1.000000</td>\n",
       "      <td>11.0</td>\n",
       "      <td>12</td>\n",
       "    </tr>\n",
       "    <tr>\n",
       "      <th>401</th>\n",
       "      <td>islam_threat</td>\n",
       "      <td>2</td>\n",
       "      <td>[39, 47]</td>\n",
       "      <td>43.0</td>\n",
       "      <td>4.000000</td>\n",
       "      <td>43.0</td>\n",
       "      <td>47</td>\n",
       "    </tr>\n",
       "    <tr>\n",
       "      <th>...</th>\n",
       "      <td>...</td>\n",
       "      <td>...</td>\n",
       "      <td>...</td>\n",
       "      <td>...</td>\n",
       "      <td>...</td>\n",
       "      <td>...</td>\n",
       "      <td>...</td>\n",
       "    </tr>\n",
       "    <tr>\n",
       "      <th>151</th>\n",
       "      <td>surgery</td>\n",
       "      <td>10</td>\n",
       "      <td>[8, 6, 33, 30, 4, 12, 14, 15, 4, 7]</td>\n",
       "      <td>13.3</td>\n",
       "      <td>9.829039</td>\n",
       "      <td>10.0</td>\n",
       "      <td>33</td>\n",
       "    </tr>\n",
       "    <tr>\n",
       "      <th>333</th>\n",
       "      <td>immigration</td>\n",
       "      <td>10</td>\n",
       "      <td>[27, 7, 28, 49, 7, 6, 4, 5, 16, 13]</td>\n",
       "      <td>16.2</td>\n",
       "      <td>13.746272</td>\n",
       "      <td>10.0</td>\n",
       "      <td>49</td>\n",
       "    </tr>\n",
       "    <tr>\n",
       "      <th>77</th>\n",
       "      <td>live_streaming</td>\n",
       "      <td>10</td>\n",
       "      <td>[10, 13, 15, 13, 6, 24, 8, 38, 26, 4]</td>\n",
       "      <td>15.7</td>\n",
       "      <td>10.050373</td>\n",
       "      <td>13.0</td>\n",
       "      <td>38</td>\n",
       "    </tr>\n",
       "    <tr>\n",
       "      <th>73</th>\n",
       "      <td>indian_independence</td>\n",
       "      <td>10</td>\n",
       "      <td>[29, 36, 29, 40, 20, 16, 14, 32, 18, 48]</td>\n",
       "      <td>28.2</td>\n",
       "      <td>10.628264</td>\n",
       "      <td>29.0</td>\n",
       "      <td>48</td>\n",
       "    </tr>\n",
       "    <tr>\n",
       "      <th>369</th>\n",
       "      <td>electric_cars</td>\n",
       "      <td>10</td>\n",
       "      <td>[12, 5, 28, 22, 22, 24, 3, 11, 20, 11]</td>\n",
       "      <td>15.8</td>\n",
       "      <td>8.072174</td>\n",
       "      <td>16.0</td>\n",
       "      <td>28</td>\n",
       "    </tr>\n",
       "  </tbody>\n",
       "</table>\n",
       "<p>294 rows × 7 columns</p>\n",
       "</div>"
      ],
      "text/plain": [
       "                  context  len                               arg_lengths  \\\n",
       "215         earth_is_flat    1                                       [6]   \n",
       "283         nuclear_power    1                                      [45]   \n",
       "368              rich_tax    1                                      [15]   \n",
       "425  open_source_software    2                                  [10, 12]   \n",
       "401          islam_threat    2                                  [39, 47]   \n",
       "..                    ...  ...                                       ...   \n",
       "151               surgery   10       [8, 6, 33, 30, 4, 12, 14, 15, 4, 7]   \n",
       "333           immigration   10       [27, 7, 28, 49, 7, 6, 4, 5, 16, 13]   \n",
       "77         live_streaming   10     [10, 13, 15, 13, 6, 24, 8, 38, 26, 4]   \n",
       "73    indian_independence   10  [29, 36, 29, 40, 20, 16, 14, 32, 18, 48]   \n",
       "369         electric_cars   10    [12, 5, 28, 22, 22, 24, 3, 11, 20, 11]   \n",
       "\n",
       "     mean_arg_length  std_arg_length  median_arg_length  max_arg_length  \n",
       "215              6.0        0.000000                6.0               6  \n",
       "283             45.0        0.000000               45.0              45  \n",
       "368             15.0        0.000000               15.0              15  \n",
       "425             11.0        1.000000               11.0              12  \n",
       "401             43.0        4.000000               43.0              47  \n",
       "..               ...             ...                ...             ...  \n",
       "151             13.3        9.829039               10.0              33  \n",
       "333             16.2       13.746272               10.0              49  \n",
       "77              15.7       10.050373               13.0              38  \n",
       "73              28.2       10.628264               29.0              48  \n",
       "369             15.8        8.072174               16.0              28  \n",
       "\n",
       "[294 rows x 7 columns]"
      ]
     },
     "execution_count": 16,
     "metadata": {},
     "output_type": "execute_result"
    }
   ],
   "source": [
    "subset = context_sizes\\\n",
    "    [\\\n",
    "     #(context_sizes.len <= 5) &\\\n",
    "     (context_sizes.max_arg_length <= 50)\\\n",
    "    ]\\\n",
    "    .sort_values(by=['len'], ascending=True)\n",
    "subset"
   ]
  },
  {
   "cell_type": "code",
   "execution_count": 17,
   "id": "b32535ac-5d91-4bc6-8f5c-4ecc06411bed",
   "metadata": {
    "execution": {
     "iopub.execute_input": "2021-11-05T07:05:09.182560Z",
     "iopub.status.busy": "2021-11-05T07:05:09.182560Z",
     "iopub.status.idle": "2021-11-05T07:05:09.201557Z",
     "shell.execute_reply": "2021-11-05T07:05:09.200554Z",
     "shell.execute_reply.started": "2021-11-05T07:05:09.182560Z"
    },
    "tags": []
   },
   "outputs": [
    {
     "data": {
      "text/plain": [
       "1979"
      ]
     },
     "execution_count": 17,
     "metadata": {},
     "output_type": "execute_result"
    }
   ],
   "source": [
    "subset['len'].values.sum()"
   ]
  },
  {
   "cell_type": "code",
   "execution_count": 18,
   "id": "324da973-f968-47c0-bce7-aad1d06c52dc",
   "metadata": {
    "execution": {
     "iopub.execute_input": "2021-11-05T07:05:21.008444Z",
     "iopub.status.busy": "2021-11-05T07:05:21.008344Z",
     "iopub.status.idle": "2021-11-05T07:05:21.039697Z",
     "shell.execute_reply": "2021-11-05T07:05:21.039697Z",
     "shell.execute_reply.started": "2021-11-05T07:05:21.008444Z"
    },
    "tags": []
   },
   "outputs": [
    {
     "data": {
      "text/html": [
       "<div>\n",
       "<style scoped>\n",
       "    .dataframe tbody tr th:only-of-type {\n",
       "        vertical-align: middle;\n",
       "    }\n",
       "\n",
       "    .dataframe tbody tr th {\n",
       "        vertical-align: top;\n",
       "    }\n",
       "\n",
       "    .dataframe thead th {\n",
       "        text-align: right;\n",
       "    }\n",
       "</style>\n",
       "<table border=\"1\" class=\"dataframe\">\n",
       "  <thead>\n",
       "    <tr style=\"text-align: right;\">\n",
       "      <th></th>\n",
       "      <th>context</th>\n",
       "    </tr>\n",
       "    <tr>\n",
       "      <th>len</th>\n",
       "      <th></th>\n",
       "    </tr>\n",
       "  </thead>\n",
       "  <tbody>\n",
       "    <tr>\n",
       "      <th>1</th>\n",
       "      <td>3</td>\n",
       "    </tr>\n",
       "    <tr>\n",
       "      <th>2</th>\n",
       "      <td>12</td>\n",
       "    </tr>\n",
       "    <tr>\n",
       "      <th>3</th>\n",
       "      <td>19</td>\n",
       "    </tr>\n",
       "    <tr>\n",
       "      <th>4</th>\n",
       "      <td>24</td>\n",
       "    </tr>\n",
       "    <tr>\n",
       "      <th>5</th>\n",
       "      <td>25</td>\n",
       "    </tr>\n",
       "    <tr>\n",
       "      <th>6</th>\n",
       "      <td>40</td>\n",
       "    </tr>\n",
       "    <tr>\n",
       "      <th>7</th>\n",
       "      <td>43</td>\n",
       "    </tr>\n",
       "    <tr>\n",
       "      <th>8</th>\n",
       "      <td>48</td>\n",
       "    </tr>\n",
       "    <tr>\n",
       "      <th>9</th>\n",
       "      <td>51</td>\n",
       "    </tr>\n",
       "    <tr>\n",
       "      <th>10</th>\n",
       "      <td>29</td>\n",
       "    </tr>\n",
       "  </tbody>\n",
       "</table>\n",
       "</div>"
      ],
      "text/plain": [
       "     context\n",
       "len         \n",
       "1          3\n",
       "2         12\n",
       "3         19\n",
       "4         24\n",
       "5         25\n",
       "6         40\n",
       "7         43\n",
       "8         48\n",
       "9         51\n",
       "10        29"
      ]
     },
     "execution_count": 18,
     "metadata": {},
     "output_type": "execute_result"
    }
   ],
   "source": [
    "subset_sizes = subset[['len', 'context']].groupby(by=['len']).count()\n",
    "subset_sizes"
   ]
  },
  {
   "cell_type": "code",
   "execution_count": 19,
   "id": "c42d41a5-0f1c-4016-9261-b15fb0851a7d",
   "metadata": {
    "execution": {
     "iopub.execute_input": "2021-11-05T07:06:06.975217Z",
     "iopub.status.busy": "2021-11-05T07:06:06.975217Z",
     "iopub.status.idle": "2021-11-05T07:06:07.007369Z",
     "shell.execute_reply": "2021-11-05T07:06:07.006386Z",
     "shell.execute_reply.started": "2021-11-05T07:06:06.975217Z"
    },
    "tags": []
   },
   "outputs": [
    {
     "name": "stdout",
     "output_type": "stream",
     "text": [
      "50\n",
      "[290, 411, 218, 141, 4, 379, 96, 22, 97, 39, 317, 41, 267, 227, 377, 249, 136, 297, 146, 29, 247, 285, 263, 170, 191, 145, 307, 386, 116, 380, 14, 230, 6, 355, 189, 237, 150, 234, 176, 340, 259, 106, 252, 202, 316, 217, 23, 112, 260, 440]\n"
     ]
    }
   ],
   "source": [
    "context_indices = list()\n",
    "for l in range(3,11):\n",
    "    subsubset = subset[subset['len']==l]\n",
    "    #print(subsubset.shape)\n",
    "    if l == 3 or l == 4:\n",
    "        context_indices.extend(np.random.choice(subsubset.index, 7, replace=False))\n",
    "    else:\n",
    "        context_indices.extend(np.random.choice(subsubset.index, 6, replace=False))\n",
    "        \n",
    "print(len(context_indices))\n",
    "print(context_indices)"
   ]
  },
  {
   "cell_type": "code",
   "execution_count": 21,
   "id": "af781f72-12db-4f48-aa2e-57d18e26b807",
   "metadata": {
    "execution": {
     "iopub.execute_input": "2021-11-05T07:07:13.280363Z",
     "iopub.status.busy": "2021-11-05T07:07:13.280363Z",
     "iopub.status.idle": "2021-11-05T07:07:13.295984Z",
     "shell.execute_reply": "2021-11-05T07:07:13.295984Z",
     "shell.execute_reply.started": "2021-11-05T07:07:13.280363Z"
    },
    "tags": []
   },
   "outputs": [],
   "source": [
    "context_indices[context_indices.index(146)] = 147\n",
    "#context_indices[context_indices.index(142)] = 143"
   ]
  },
  {
   "cell_type": "code",
   "execution_count": 16,
   "id": "5f832bda-7613-4897-acba-9f27c0972d4e",
   "metadata": {
    "execution": {
     "iopub.execute_input": "2021-11-02T12:56:31.675807Z",
     "iopub.status.busy": "2021-11-02T12:56:31.675807Z",
     "iopub.status.idle": "2021-11-02T12:56:31.813829Z",
     "shell.execute_reply": "2021-11-02T12:56:31.812823Z",
     "shell.execute_reply.started": "2021-11-02T12:56:31.675807Z"
    },
    "tags": []
   },
   "outputs": [
    {
     "ename": "NameError",
     "evalue": "name 'context_indices' is not defined",
     "output_type": "error",
     "traceback": [
      "\u001b[1;31m---------------------------------------------------------------------------\u001b[0m",
      "\u001b[1;31mNameError\u001b[0m                                 Traceback (most recent call last)",
      "\u001b[1;32m<ipython-input-16-0213f25d9e81>\u001b[0m in \u001b[0;36m<module>\u001b[1;34m\u001b[0m\n\u001b[1;32m----> 1\u001b[1;33m \u001b[0msubset\u001b[0m\u001b[1;33m.\u001b[0m\u001b[0mloc\u001b[0m\u001b[1;33m[\u001b[0m\u001b[0mcontext_indices\u001b[0m\u001b[1;33m]\u001b[0m\u001b[1;33m[\u001b[0m\u001b[1;34m'max_arg_length'\u001b[0m\u001b[1;33m]\u001b[0m\u001b[1;33m.\u001b[0m\u001b[0mhist\u001b[0m\u001b[1;33m(\u001b[0m\u001b[1;33m)\u001b[0m\u001b[1;33m\u001b[0m\u001b[1;33m\u001b[0m\u001b[0m\n\u001b[0m",
      "\u001b[1;31mNameError\u001b[0m: name 'context_indices' is not defined"
     ]
    }
   ],
   "source": [
    "subset.loc[context_indices]['max_arg_length'].hist()"
   ]
  },
  {
   "cell_type": "code",
   "execution_count": 22,
   "id": "63750459-3a1d-4c25-a156-0c443d5e57ed",
   "metadata": {
    "execution": {
     "iopub.execute_input": "2021-11-05T07:07:15.662908Z",
     "iopub.status.busy": "2021-11-05T07:07:15.662908Z",
     "iopub.status.idle": "2021-11-05T07:07:15.708586Z",
     "shell.execute_reply": "2021-11-05T07:07:15.706623Z",
     "shell.execute_reply.started": "2021-11-05T07:07:15.662908Z"
    },
    "tags": []
   },
   "outputs": [
    {
     "data": {
      "text/html": [
       "<div>\n",
       "<style scoped>\n",
       "    .dataframe tbody tr th:only-of-type {\n",
       "        vertical-align: middle;\n",
       "    }\n",
       "\n",
       "    .dataframe tbody tr th {\n",
       "        vertical-align: top;\n",
       "    }\n",
       "\n",
       "    .dataframe thead th {\n",
       "        text-align: right;\n",
       "    }\n",
       "</style>\n",
       "<table border=\"1\" class=\"dataframe\">\n",
       "  <thead>\n",
       "    <tr style=\"text-align: right;\">\n",
       "      <th></th>\n",
       "      <th>context</th>\n",
       "      <th>len</th>\n",
       "      <th>arg_lengths</th>\n",
       "      <th>mean_arg_length</th>\n",
       "      <th>std_arg_length</th>\n",
       "      <th>median_arg_length</th>\n",
       "      <th>max_arg_length</th>\n",
       "    </tr>\n",
       "  </thead>\n",
       "  <tbody>\n",
       "    <tr>\n",
       "      <th>290</th>\n",
       "      <td>cars</td>\n",
       "      <td>3</td>\n",
       "      <td>[9, 4, 15]</td>\n",
       "      <td>9.333333</td>\n",
       "      <td>4.496913</td>\n",
       "      <td>9.0</td>\n",
       "      <td>15</td>\n",
       "    </tr>\n",
       "    <tr>\n",
       "      <th>411</th>\n",
       "      <td>urbanization</td>\n",
       "      <td>3</td>\n",
       "      <td>[3, 9, 8]</td>\n",
       "      <td>6.666667</td>\n",
       "      <td>2.624669</td>\n",
       "      <td>8.0</td>\n",
       "      <td>9</td>\n",
       "    </tr>\n",
       "    <tr>\n",
       "      <th>218</th>\n",
       "      <td>merkel</td>\n",
       "      <td>3</td>\n",
       "      <td>[6, 4, 4]</td>\n",
       "      <td>4.666667</td>\n",
       "      <td>0.942809</td>\n",
       "      <td>4.0</td>\n",
       "      <td>6</td>\n",
       "    </tr>\n",
       "    <tr>\n",
       "      <th>141</th>\n",
       "      <td>should_hydraulic_fracturing_be_used</td>\n",
       "      <td>3</td>\n",
       "      <td>[3, 3, 34]</td>\n",
       "      <td>13.333333</td>\n",
       "      <td>14.613540</td>\n",
       "      <td>3.0</td>\n",
       "      <td>34</td>\n",
       "    </tr>\n",
       "    <tr>\n",
       "      <th>4</th>\n",
       "      <td>school_uniform</td>\n",
       "      <td>3</td>\n",
       "      <td>[9, 6, 32]</td>\n",
       "      <td>15.666667</td>\n",
       "      <td>11.614168</td>\n",
       "      <td>9.0</td>\n",
       "      <td>32</td>\n",
       "    </tr>\n",
       "    <tr>\n",
       "      <th>379</th>\n",
       "      <td>law</td>\n",
       "      <td>3</td>\n",
       "      <td>[9, 7, 4]</td>\n",
       "      <td>6.666667</td>\n",
       "      <td>2.054805</td>\n",
       "      <td>7.0</td>\n",
       "      <td>9</td>\n",
       "    </tr>\n",
       "    <tr>\n",
       "      <th>96</th>\n",
       "      <td>deep_learning</td>\n",
       "      <td>3</td>\n",
       "      <td>[3, 33, 3]</td>\n",
       "      <td>13.000000</td>\n",
       "      <td>14.142136</td>\n",
       "      <td>3.0</td>\n",
       "      <td>33</td>\n",
       "    </tr>\n",
       "    <tr>\n",
       "      <th>22</th>\n",
       "      <td>is_golf_a_sport</td>\n",
       "      <td>4</td>\n",
       "      <td>[7, 3, 6, 13]</td>\n",
       "      <td>7.250000</td>\n",
       "      <td>3.631460</td>\n",
       "      <td>6.5</td>\n",
       "      <td>13</td>\n",
       "    </tr>\n",
       "    <tr>\n",
       "      <th>97</th>\n",
       "      <td>india</td>\n",
       "      <td>4</td>\n",
       "      <td>[5, 7, 7, 7]</td>\n",
       "      <td>6.500000</td>\n",
       "      <td>0.866025</td>\n",
       "      <td>7.0</td>\n",
       "      <td>7</td>\n",
       "    </tr>\n",
       "    <tr>\n",
       "      <th>39</th>\n",
       "      <td>marihuana</td>\n",
       "      <td>4</td>\n",
       "      <td>[5, 39, 4, 28]</td>\n",
       "      <td>19.000000</td>\n",
       "      <td>15.016657</td>\n",
       "      <td>16.5</td>\n",
       "      <td>39</td>\n",
       "    </tr>\n",
       "    <tr>\n",
       "      <th>317</th>\n",
       "      <td>black_lives</td>\n",
       "      <td>4</td>\n",
       "      <td>[23, 33, 5, 3]</td>\n",
       "      <td>16.000000</td>\n",
       "      <td>12.529964</td>\n",
       "      <td>14.0</td>\n",
       "      <td>33</td>\n",
       "    </tr>\n",
       "    <tr>\n",
       "      <th>41</th>\n",
       "      <td>refugees</td>\n",
       "      <td>4</td>\n",
       "      <td>[5, 6, 24, 4]</td>\n",
       "      <td>9.750000</td>\n",
       "      <td>8.257572</td>\n",
       "      <td>5.5</td>\n",
       "      <td>24</td>\n",
       "    </tr>\n",
       "    <tr>\n",
       "      <th>267</th>\n",
       "      <td>rick_and_morty</td>\n",
       "      <td>4</td>\n",
       "      <td>[5, 5, 7, 5]</td>\n",
       "      <td>5.500000</td>\n",
       "      <td>0.866025</td>\n",
       "      <td>5.0</td>\n",
       "      <td>7</td>\n",
       "    </tr>\n",
       "    <tr>\n",
       "      <th>227</th>\n",
       "      <td>trade_network</td>\n",
       "      <td>4</td>\n",
       "      <td>[6, 3, 6, 7]</td>\n",
       "      <td>5.500000</td>\n",
       "      <td>1.500000</td>\n",
       "      <td>6.0</td>\n",
       "      <td>7</td>\n",
       "    </tr>\n",
       "    <tr>\n",
       "      <th>377</th>\n",
       "      <td>india_covid</td>\n",
       "      <td>5</td>\n",
       "      <td>[6, 5, 4, 3, 5]</td>\n",
       "      <td>4.600000</td>\n",
       "      <td>1.019804</td>\n",
       "      <td>5.0</td>\n",
       "      <td>6</td>\n",
       "    </tr>\n",
       "    <tr>\n",
       "      <th>249</th>\n",
       "      <td>lesbian</td>\n",
       "      <td>5</td>\n",
       "      <td>[4, 11, 7, 3, 7]</td>\n",
       "      <td>6.400000</td>\n",
       "      <td>2.800000</td>\n",
       "      <td>7.0</td>\n",
       "      <td>11</td>\n",
       "    </tr>\n",
       "    <tr>\n",
       "      <th>136</th>\n",
       "      <td>sausage</td>\n",
       "      <td>5</td>\n",
       "      <td>[7, 12, 4, 6, 11]</td>\n",
       "      <td>8.000000</td>\n",
       "      <td>3.033150</td>\n",
       "      <td>7.0</td>\n",
       "      <td>12</td>\n",
       "    </tr>\n",
       "    <tr>\n",
       "      <th>297</th>\n",
       "      <td>is_social_media_good</td>\n",
       "      <td>5</td>\n",
       "      <td>[18, 20, 13, 8, 19]</td>\n",
       "      <td>15.600000</td>\n",
       "      <td>4.498889</td>\n",
       "      <td>18.0</td>\n",
       "      <td>20</td>\n",
       "    </tr>\n",
       "    <tr>\n",
       "      <th>147</th>\n",
       "      <td>lionel_messi_is_the_best_player</td>\n",
       "      <td>8</td>\n",
       "      <td>[3, 10, 23, 5, 16, 16, 23, 3]</td>\n",
       "      <td>12.375000</td>\n",
       "      <td>7.809249</td>\n",
       "      <td>13.0</td>\n",
       "      <td>23</td>\n",
       "    </tr>\n",
       "    <tr>\n",
       "      <th>29</th>\n",
       "      <td>america_citizenship</td>\n",
       "      <td>5</td>\n",
       "      <td>[9, 5, 25, 32, 5]</td>\n",
       "      <td>15.200000</td>\n",
       "      <td>11.178551</td>\n",
       "      <td>9.0</td>\n",
       "      <td>32</td>\n",
       "    </tr>\n",
       "    <tr>\n",
       "      <th>247</th>\n",
       "      <td>dragon</td>\n",
       "      <td>6</td>\n",
       "      <td>[3, 6, 6, 18, 16, 13]</td>\n",
       "      <td>10.333333</td>\n",
       "      <td>5.617433</td>\n",
       "      <td>9.5</td>\n",
       "      <td>18</td>\n",
       "    </tr>\n",
       "    <tr>\n",
       "      <th>285</th>\n",
       "      <td>covid_is_a_cold</td>\n",
       "      <td>6</td>\n",
       "      <td>[16, 6, 41, 41, 16, 3]</td>\n",
       "      <td>20.500000</td>\n",
       "      <td>15.261608</td>\n",
       "      <td>16.0</td>\n",
       "      <td>41</td>\n",
       "    </tr>\n",
       "    <tr>\n",
       "      <th>263</th>\n",
       "      <td>travelling_trains</td>\n",
       "      <td>6</td>\n",
       "      <td>[4, 8, 4, 4, 3, 3]</td>\n",
       "      <td>4.333333</td>\n",
       "      <td>1.699673</td>\n",
       "      <td>4.0</td>\n",
       "      <td>8</td>\n",
       "    </tr>\n",
       "    <tr>\n",
       "      <th>170</th>\n",
       "      <td>apples</td>\n",
       "      <td>6</td>\n",
       "      <td>[18, 3, 7, 4, 10, 28]</td>\n",
       "      <td>11.666667</td>\n",
       "      <td>8.806563</td>\n",
       "      <td>8.5</td>\n",
       "      <td>28</td>\n",
       "    </tr>\n",
       "    <tr>\n",
       "      <th>191</th>\n",
       "      <td>forests</td>\n",
       "      <td>6</td>\n",
       "      <td>[3, 9, 4, 4, 4, 8]</td>\n",
       "      <td>5.333333</td>\n",
       "      <td>2.285218</td>\n",
       "      <td>4.0</td>\n",
       "      <td>9</td>\n",
       "    </tr>\n",
       "    <tr>\n",
       "      <th>145</th>\n",
       "      <td>gay_marriage</td>\n",
       "      <td>6</td>\n",
       "      <td>[21, 13, 3, 16, 14, 20]</td>\n",
       "      <td>14.500000</td>\n",
       "      <td>5.909033</td>\n",
       "      <td>15.0</td>\n",
       "      <td>21</td>\n",
       "    </tr>\n",
       "    <tr>\n",
       "      <th>307</th>\n",
       "      <td>enviroment</td>\n",
       "      <td>7</td>\n",
       "      <td>[18, 17, 46, 36, 36, 35, 13]</td>\n",
       "      <td>28.714286</td>\n",
       "      <td>11.609286</td>\n",
       "      <td>35.0</td>\n",
       "      <td>46</td>\n",
       "    </tr>\n",
       "    <tr>\n",
       "      <th>386</th>\n",
       "      <td>tattoos</td>\n",
       "      <td>7</td>\n",
       "      <td>[18, 19, 29, 4, 47, 43, 35]</td>\n",
       "      <td>27.857143</td>\n",
       "      <td>14.106013</td>\n",
       "      <td>29.0</td>\n",
       "      <td>47</td>\n",
       "    </tr>\n",
       "    <tr>\n",
       "      <th>116</th>\n",
       "      <td>decision_theory_important</td>\n",
       "      <td>7</td>\n",
       "      <td>[30, 16, 18, 16, 14, 27, 9]</td>\n",
       "      <td>18.571429</td>\n",
       "      <td>6.842246</td>\n",
       "      <td>16.0</td>\n",
       "      <td>30</td>\n",
       "    </tr>\n",
       "    <tr>\n",
       "      <th>380</th>\n",
       "      <td>testing</td>\n",
       "      <td>7</td>\n",
       "      <td>[32, 5, 18, 23, 6, 28, 8]</td>\n",
       "      <td>17.142857</td>\n",
       "      <td>10.204041</td>\n",
       "      <td>18.0</td>\n",
       "      <td>32</td>\n",
       "    </tr>\n",
       "    <tr>\n",
       "      <th>14</th>\n",
       "      <td>marketing</td>\n",
       "      <td>7</td>\n",
       "      <td>[7, 48, 4, 4, 4, 50, 4]</td>\n",
       "      <td>17.285714</td>\n",
       "      <td>20.090611</td>\n",
       "      <td>4.0</td>\n",
       "      <td>50</td>\n",
       "    </tr>\n",
       "    <tr>\n",
       "      <th>230</th>\n",
       "      <td>pro_and_cons_of_view</td>\n",
       "      <td>7</td>\n",
       "      <td>[4, 10, 3, 27, 23, 17, 3]</td>\n",
       "      <td>12.428571</td>\n",
       "      <td>9.255996</td>\n",
       "      <td>10.0</td>\n",
       "      <td>27</td>\n",
       "    </tr>\n",
       "    <tr>\n",
       "      <th>6</th>\n",
       "      <td>fish</td>\n",
       "      <td>8</td>\n",
       "      <td>[8, 3, 4, 50, 21, 3, 31, 6]</td>\n",
       "      <td>15.750000</td>\n",
       "      <td>16.013666</td>\n",
       "      <td>7.0</td>\n",
       "      <td>50</td>\n",
       "    </tr>\n",
       "    <tr>\n",
       "      <th>355</th>\n",
       "      <td>videogames</td>\n",
       "      <td>8</td>\n",
       "      <td>[3, 5, 6, 9, 5, 41, 20, 8]</td>\n",
       "      <td>12.125000</td>\n",
       "      <td>11.962833</td>\n",
       "      <td>7.0</td>\n",
       "      <td>41</td>\n",
       "    </tr>\n",
       "    <tr>\n",
       "      <th>189</th>\n",
       "      <td>house</td>\n",
       "      <td>8</td>\n",
       "      <td>[4, 15, 3, 4, 5, 4, 10, 20]</td>\n",
       "      <td>8.125000</td>\n",
       "      <td>5.904183</td>\n",
       "      <td>4.5</td>\n",
       "      <td>20</td>\n",
       "    </tr>\n",
       "    <tr>\n",
       "      <th>237</th>\n",
       "      <td>gaming</td>\n",
       "      <td>8</td>\n",
       "      <td>[10, 8, 12, 4, 5, 16, 42, 3]</td>\n",
       "      <td>12.500000</td>\n",
       "      <td>11.874342</td>\n",
       "      <td>9.0</td>\n",
       "      <td>42</td>\n",
       "    </tr>\n",
       "    <tr>\n",
       "      <th>150</th>\n",
       "      <td>bike_helmets</td>\n",
       "      <td>8</td>\n",
       "      <td>[20, 17, 22, 13, 23, 3, 4, 20]</td>\n",
       "      <td>15.250000</td>\n",
       "      <td>7.378177</td>\n",
       "      <td>18.5</td>\n",
       "      <td>23</td>\n",
       "    </tr>\n",
       "    <tr>\n",
       "      <th>234</th>\n",
       "      <td>khan</td>\n",
       "      <td>8</td>\n",
       "      <td>[27, 12, 15, 26, 3, 3, 6, 11]</td>\n",
       "      <td>12.875000</td>\n",
       "      <td>8.823796</td>\n",
       "      <td>11.5</td>\n",
       "      <td>27</td>\n",
       "    </tr>\n",
       "    <tr>\n",
       "      <th>176</th>\n",
       "      <td>how_to_live</td>\n",
       "      <td>9</td>\n",
       "      <td>[6, 40, 22, 4, 7, 9, 10, 3, 4]</td>\n",
       "      <td>11.666667</td>\n",
       "      <td>11.382247</td>\n",
       "      <td>7.0</td>\n",
       "      <td>40</td>\n",
       "    </tr>\n",
       "    <tr>\n",
       "      <th>340</th>\n",
       "      <td>bible</td>\n",
       "      <td>9</td>\n",
       "      <td>[3, 22, 4, 30, 22, 10, 8, 5, 11]</td>\n",
       "      <td>12.777778</td>\n",
       "      <td>9.028077</td>\n",
       "      <td>10.0</td>\n",
       "      <td>30</td>\n",
       "    </tr>\n",
       "    <tr>\n",
       "      <th>259</th>\n",
       "      <td>globalization</td>\n",
       "      <td>9</td>\n",
       "      <td>[44, 3, 3, 25, 34, 18, 40, 18, 29]</td>\n",
       "      <td>23.777778</td>\n",
       "      <td>13.886666</td>\n",
       "      <td>25.0</td>\n",
       "      <td>44</td>\n",
       "    </tr>\n",
       "    <tr>\n",
       "      <th>106</th>\n",
       "      <td>britain</td>\n",
       "      <td>9</td>\n",
       "      <td>[3, 7, 9, 4, 16, 4, 6, 4, 3]</td>\n",
       "      <td>6.222222</td>\n",
       "      <td>3.937788</td>\n",
       "      <td>4.0</td>\n",
       "      <td>16</td>\n",
       "    </tr>\n",
       "    <tr>\n",
       "      <th>252</th>\n",
       "      <td>child_marriage</td>\n",
       "      <td>9</td>\n",
       "      <td>[15, 10, 21, 8, 7, 37, 11, 8, 8]</td>\n",
       "      <td>13.888889</td>\n",
       "      <td>9.194738</td>\n",
       "      <td>10.0</td>\n",
       "      <td>37</td>\n",
       "    </tr>\n",
       "    <tr>\n",
       "      <th>202</th>\n",
       "      <td>gay</td>\n",
       "      <td>9</td>\n",
       "      <td>[7, 11, 15, 12, 13, 14, 3, 3, 13]</td>\n",
       "      <td>10.111111</td>\n",
       "      <td>4.357483</td>\n",
       "      <td>12.0</td>\n",
       "      <td>15</td>\n",
       "    </tr>\n",
       "    <tr>\n",
       "      <th>316</th>\n",
       "      <td>german_language</td>\n",
       "      <td>10</td>\n",
       "      <td>[8, 21, 12, 3, 11, 28, 13, 49, 39, 6]</td>\n",
       "      <td>19.000000</td>\n",
       "      <td>14.422205</td>\n",
       "      <td>12.5</td>\n",
       "      <td>49</td>\n",
       "    </tr>\n",
       "    <tr>\n",
       "      <th>217</th>\n",
       "      <td>guns</td>\n",
       "      <td>10</td>\n",
       "      <td>[15, 9, 34, 17, 19, 11, 18, 7, 10, 14]</td>\n",
       "      <td>15.400000</td>\n",
       "      <td>7.282857</td>\n",
       "      <td>14.5</td>\n",
       "      <td>34</td>\n",
       "    </tr>\n",
       "    <tr>\n",
       "      <th>23</th>\n",
       "      <td>homework</td>\n",
       "      <td>10</td>\n",
       "      <td>[9, 23, 20, 14, 11, 19, 24, 13, 11, 10]</td>\n",
       "      <td>15.400000</td>\n",
       "      <td>5.314132</td>\n",
       "      <td>13.5</td>\n",
       "      <td>24</td>\n",
       "    </tr>\n",
       "    <tr>\n",
       "      <th>112</th>\n",
       "      <td>uber</td>\n",
       "      <td>10</td>\n",
       "      <td>[5, 7, 37, 21, 12, 8, 48, 24, 4, 39]</td>\n",
       "      <td>20.500000</td>\n",
       "      <td>15.187166</td>\n",
       "      <td>16.5</td>\n",
       "      <td>48</td>\n",
       "    </tr>\n",
       "    <tr>\n",
       "      <th>260</th>\n",
       "      <td>climate_crisis</td>\n",
       "      <td>10</td>\n",
       "      <td>[27, 10, 11, 27, 3, 4, 9, 7, 11, 33]</td>\n",
       "      <td>14.200000</td>\n",
       "      <td>10.137061</td>\n",
       "      <td>10.5</td>\n",
       "      <td>33</td>\n",
       "    </tr>\n",
       "    <tr>\n",
       "      <th>440</th>\n",
       "      <td>aliens</td>\n",
       "      <td>10</td>\n",
       "      <td>[3, 11, 4, 4, 14, 4, 4, 7, 6, 4]</td>\n",
       "      <td>6.100000</td>\n",
       "      <td>3.448188</td>\n",
       "      <td>4.0</td>\n",
       "      <td>14</td>\n",
       "    </tr>\n",
       "  </tbody>\n",
       "</table>\n",
       "</div>"
      ],
      "text/plain": [
       "                                 context  len  \\\n",
       "290                                 cars    3   \n",
       "411                         urbanization    3   \n",
       "218                               merkel    3   \n",
       "141  should_hydraulic_fracturing_be_used    3   \n",
       "4                         school_uniform    3   \n",
       "379                                  law    3   \n",
       "96                         deep_learning    3   \n",
       "22                       is_golf_a_sport    4   \n",
       "97                                 india    4   \n",
       "39                             marihuana    4   \n",
       "317                          black_lives    4   \n",
       "41                              refugees    4   \n",
       "267                       rick_and_morty    4   \n",
       "227                        trade_network    4   \n",
       "377                          india_covid    5   \n",
       "249                              lesbian    5   \n",
       "136                              sausage    5   \n",
       "297                 is_social_media_good    5   \n",
       "147      lionel_messi_is_the_best_player    8   \n",
       "29                   america_citizenship    5   \n",
       "247                               dragon    6   \n",
       "285                      covid_is_a_cold    6   \n",
       "263                    travelling_trains    6   \n",
       "170                               apples    6   \n",
       "191                              forests    6   \n",
       "145                         gay_marriage    6   \n",
       "307                           enviroment    7   \n",
       "386                              tattoos    7   \n",
       "116            decision_theory_important    7   \n",
       "380                              testing    7   \n",
       "14                             marketing    7   \n",
       "230                 pro_and_cons_of_view    7   \n",
       "6                                   fish    8   \n",
       "355                           videogames    8   \n",
       "189                                house    8   \n",
       "237                               gaming    8   \n",
       "150                         bike_helmets    8   \n",
       "234                                 khan    8   \n",
       "176                          how_to_live    9   \n",
       "340                                bible    9   \n",
       "259                        globalization    9   \n",
       "106                              britain    9   \n",
       "252                       child_marriage    9   \n",
       "202                                  gay    9   \n",
       "316                      german_language   10   \n",
       "217                                 guns   10   \n",
       "23                              homework   10   \n",
       "112                                 uber   10   \n",
       "260                       climate_crisis   10   \n",
       "440                               aliens   10   \n",
       "\n",
       "                                 arg_lengths  mean_arg_length  std_arg_length  \\\n",
       "290                               [9, 4, 15]         9.333333        4.496913   \n",
       "411                                [3, 9, 8]         6.666667        2.624669   \n",
       "218                                [6, 4, 4]         4.666667        0.942809   \n",
       "141                               [3, 3, 34]        13.333333       14.613540   \n",
       "4                                 [9, 6, 32]        15.666667       11.614168   \n",
       "379                                [9, 7, 4]         6.666667        2.054805   \n",
       "96                                [3, 33, 3]        13.000000       14.142136   \n",
       "22                             [7, 3, 6, 13]         7.250000        3.631460   \n",
       "97                              [5, 7, 7, 7]         6.500000        0.866025   \n",
       "39                            [5, 39, 4, 28]        19.000000       15.016657   \n",
       "317                           [23, 33, 5, 3]        16.000000       12.529964   \n",
       "41                             [5, 6, 24, 4]         9.750000        8.257572   \n",
       "267                             [5, 5, 7, 5]         5.500000        0.866025   \n",
       "227                             [6, 3, 6, 7]         5.500000        1.500000   \n",
       "377                          [6, 5, 4, 3, 5]         4.600000        1.019804   \n",
       "249                         [4, 11, 7, 3, 7]         6.400000        2.800000   \n",
       "136                        [7, 12, 4, 6, 11]         8.000000        3.033150   \n",
       "297                      [18, 20, 13, 8, 19]        15.600000        4.498889   \n",
       "147            [3, 10, 23, 5, 16, 16, 23, 3]        12.375000        7.809249   \n",
       "29                         [9, 5, 25, 32, 5]        15.200000       11.178551   \n",
       "247                    [3, 6, 6, 18, 16, 13]        10.333333        5.617433   \n",
       "285                   [16, 6, 41, 41, 16, 3]        20.500000       15.261608   \n",
       "263                       [4, 8, 4, 4, 3, 3]         4.333333        1.699673   \n",
       "170                    [18, 3, 7, 4, 10, 28]        11.666667        8.806563   \n",
       "191                       [3, 9, 4, 4, 4, 8]         5.333333        2.285218   \n",
       "145                  [21, 13, 3, 16, 14, 20]        14.500000        5.909033   \n",
       "307             [18, 17, 46, 36, 36, 35, 13]        28.714286       11.609286   \n",
       "386              [18, 19, 29, 4, 47, 43, 35]        27.857143       14.106013   \n",
       "116              [30, 16, 18, 16, 14, 27, 9]        18.571429        6.842246   \n",
       "380                [32, 5, 18, 23, 6, 28, 8]        17.142857       10.204041   \n",
       "14                   [7, 48, 4, 4, 4, 50, 4]        17.285714       20.090611   \n",
       "230                [4, 10, 3, 27, 23, 17, 3]        12.428571        9.255996   \n",
       "6                [8, 3, 4, 50, 21, 3, 31, 6]        15.750000       16.013666   \n",
       "355               [3, 5, 6, 9, 5, 41, 20, 8]        12.125000       11.962833   \n",
       "189              [4, 15, 3, 4, 5, 4, 10, 20]         8.125000        5.904183   \n",
       "237             [10, 8, 12, 4, 5, 16, 42, 3]        12.500000       11.874342   \n",
       "150           [20, 17, 22, 13, 23, 3, 4, 20]        15.250000        7.378177   \n",
       "234            [27, 12, 15, 26, 3, 3, 6, 11]        12.875000        8.823796   \n",
       "176           [6, 40, 22, 4, 7, 9, 10, 3, 4]        11.666667       11.382247   \n",
       "340         [3, 22, 4, 30, 22, 10, 8, 5, 11]        12.777778        9.028077   \n",
       "259       [44, 3, 3, 25, 34, 18, 40, 18, 29]        23.777778       13.886666   \n",
       "106             [3, 7, 9, 4, 16, 4, 6, 4, 3]         6.222222        3.937788   \n",
       "252         [15, 10, 21, 8, 7, 37, 11, 8, 8]        13.888889        9.194738   \n",
       "202        [7, 11, 15, 12, 13, 14, 3, 3, 13]        10.111111        4.357483   \n",
       "316    [8, 21, 12, 3, 11, 28, 13, 49, 39, 6]        19.000000       14.422205   \n",
       "217   [15, 9, 34, 17, 19, 11, 18, 7, 10, 14]        15.400000        7.282857   \n",
       "23   [9, 23, 20, 14, 11, 19, 24, 13, 11, 10]        15.400000        5.314132   \n",
       "112     [5, 7, 37, 21, 12, 8, 48, 24, 4, 39]        20.500000       15.187166   \n",
       "260     [27, 10, 11, 27, 3, 4, 9, 7, 11, 33]        14.200000       10.137061   \n",
       "440         [3, 11, 4, 4, 14, 4, 4, 7, 6, 4]         6.100000        3.448188   \n",
       "\n",
       "     median_arg_length  max_arg_length  \n",
       "290                9.0              15  \n",
       "411                8.0               9  \n",
       "218                4.0               6  \n",
       "141                3.0              34  \n",
       "4                  9.0              32  \n",
       "379                7.0               9  \n",
       "96                 3.0              33  \n",
       "22                 6.5              13  \n",
       "97                 7.0               7  \n",
       "39                16.5              39  \n",
       "317               14.0              33  \n",
       "41                 5.5              24  \n",
       "267                5.0               7  \n",
       "227                6.0               7  \n",
       "377                5.0               6  \n",
       "249                7.0              11  \n",
       "136                7.0              12  \n",
       "297               18.0              20  \n",
       "147               13.0              23  \n",
       "29                 9.0              32  \n",
       "247                9.5              18  \n",
       "285               16.0              41  \n",
       "263                4.0               8  \n",
       "170                8.5              28  \n",
       "191                4.0               9  \n",
       "145               15.0              21  \n",
       "307               35.0              46  \n",
       "386               29.0              47  \n",
       "116               16.0              30  \n",
       "380               18.0              32  \n",
       "14                 4.0              50  \n",
       "230               10.0              27  \n",
       "6                  7.0              50  \n",
       "355                7.0              41  \n",
       "189                4.5              20  \n",
       "237                9.0              42  \n",
       "150               18.5              23  \n",
       "234               11.5              27  \n",
       "176                7.0              40  \n",
       "340               10.0              30  \n",
       "259               25.0              44  \n",
       "106                4.0              16  \n",
       "252               10.0              37  \n",
       "202               12.0              15  \n",
       "316               12.5              49  \n",
       "217               14.5              34  \n",
       "23                13.5              24  \n",
       "112               16.5              48  \n",
       "260               10.5              33  \n",
       "440                4.0              14  "
      ]
     },
     "execution_count": 22,
     "metadata": {},
     "output_type": "execute_result"
    }
   ],
   "source": [
    "subset.loc[context_indices]"
   ]
  },
  {
   "cell_type": "code",
   "execution_count": 23,
   "id": "a8c70967-f098-4c46-a9c2-4151eaa423f8",
   "metadata": {
    "execution": {
     "iopub.execute_input": "2021-11-05T07:07:57.104990Z",
     "iopub.status.busy": "2021-11-05T07:07:57.104990Z",
     "iopub.status.idle": "2021-11-05T07:07:57.120601Z",
     "shell.execute_reply": "2021-11-05T07:07:57.120601Z",
     "shell.execute_reply.started": "2021-11-05T07:07:57.104990Z"
    },
    "tags": []
   },
   "outputs": [],
   "source": [
    "contexts = set(subset.loc[context_indices].context.values)"
   ]
  },
  {
   "cell_type": "code",
   "execution_count": 24,
   "id": "d28b4f05-e36a-4248-94fc-dbd98daa9722",
   "metadata": {
    "collapsed": true,
    "execution": {
     "iopub.execute_input": "2021-11-05T07:07:57.923081Z",
     "iopub.status.busy": "2021-11-05T07:07:57.923081Z",
     "iopub.status.idle": "2021-11-05T07:07:57.938731Z",
     "shell.execute_reply": "2021-11-05T07:07:57.938731Z",
     "shell.execute_reply.started": "2021-11-05T07:07:57.923081Z"
    },
    "jupyter": {
     "outputs_hidden": true
    },
    "tags": []
   },
   "outputs": [
    {
     "data": {
      "text/plain": [
       "{'aliens',\n",
       " 'america_citizenship',\n",
       " 'apples',\n",
       " 'bible',\n",
       " 'bike_helmets',\n",
       " 'black_lives',\n",
       " 'britain',\n",
       " 'cars',\n",
       " 'child_marriage',\n",
       " 'climate_crisis',\n",
       " 'covid_is_a_cold',\n",
       " 'decision_theory_important',\n",
       " 'deep_learning',\n",
       " 'dragon',\n",
       " 'enviroment',\n",
       " 'fish',\n",
       " 'forests',\n",
       " 'gaming',\n",
       " 'gay',\n",
       " 'gay_marriage',\n",
       " 'german_language',\n",
       " 'globalization',\n",
       " 'guns',\n",
       " 'homework',\n",
       " 'house',\n",
       " 'how_to_live',\n",
       " 'india',\n",
       " 'india_covid',\n",
       " 'is_golf_a_sport',\n",
       " 'is_social_media_good',\n",
       " 'khan',\n",
       " 'law',\n",
       " 'lesbian',\n",
       " 'lionel_messi_is_the_best_player',\n",
       " 'marihuana',\n",
       " 'marketing',\n",
       " 'merkel',\n",
       " 'pro_and_cons_of_view',\n",
       " 'refugees',\n",
       " 'rick_and_morty',\n",
       " 'sausage',\n",
       " 'school_uniform',\n",
       " 'should_hydraulic_fracturing_be_used',\n",
       " 'tattoos',\n",
       " 'testing',\n",
       " 'trade_network',\n",
       " 'travelling_trains',\n",
       " 'uber',\n",
       " 'urbanization',\n",
       " 'videogames'}"
      ]
     },
     "execution_count": 24,
     "metadata": {},
     "output_type": "execute_result"
    }
   ],
   "source": [
    "contexts"
   ]
  },
  {
   "cell_type": "code",
   "execution_count": 29,
   "id": "90a2a986-5f25-4446-8f2e-c9480e9fccd4",
   "metadata": {
    "collapsed": true,
    "execution": {
     "iopub.execute_input": "2021-11-05T07:09:09.711836Z",
     "iopub.status.busy": "2021-11-05T07:09:09.711836Z",
     "iopub.status.idle": "2021-11-05T07:09:09.722836Z",
     "shell.execute_reply": "2021-11-05T07:09:09.721870Z",
     "shell.execute_reply.started": "2021-11-05T07:09:09.711836Z"
    },
    "jupyter": {
     "outputs_hidden": true
    },
    "tags": []
   },
   "outputs": [
    {
     "name": "stdout",
     "output_type": "stream",
     "text": [
      "{\n",
      "    \"is_golf_a_sport\": [\n",
      "        \"Sbb04abe6-A43a15a87\",\n",
      "        \"Sedab086a-A1b2b69e2\",\n",
      "        \"Sbb04abe6-A259c1dbe\"\n",
      "    ],\n",
      "    \"guns\": [\n",
      "        \"Sb26baaaa-A12208ca2\",\n",
      "        \"Se336bc76-A7db3f984\",\n",
      "        \"Se336bc76-A458aeab0\"\n",
      "    ],\n",
      "    \"house\": [\n",
      "        \"S8b6b5263-A951f52dc\",\n",
      "        \"S8b6b5263-A45e721c6\",\n",
      "        \"Sd2402c6e-A21c0d37f\"\n",
      "    ],\n",
      "    \"decision_theory_important\": [\n",
      "        \"Saafba5ea-A9f9feea6\",\n",
      "        \"S58ef3225-A411bf761\",\n",
      "        \"Se638a5c7-A952ded99\"\n",
      "    ],\n",
      "    \"dragon\": [\n",
      "        \"Sf748a3c2-A1332cb73\",\n",
      "        \"S7913c94f-Aabfd4541\",\n",
      "        \"Seb320d78-A17f51d60\"\n",
      "    ],\n",
      "    \"gay_marriage\": [\n",
      "        \"S6335c83f-Afec513a4\",\n",
      "        \"S63356ea3-A4a6fee6c\",\n",
      "        \"S63346f21-A57f57574\"\n",
      "    ],\n",
      "    \"bible\": [\n",
      "        \"Se39fd920-A219380e9\",\n",
      "        \"Se39fd920-A53827160\",\n",
      "        \"S683276a4-A5989bb8e\"\n",
      "    ],\n",
      "    \"lionel_messi_is_the_best_player\": [\n",
      "        \"S7bdf34f9-Affd53a29\",\n",
      "        \"S41366f41-Ad66f0570\",\n",
      "        \"S41366f60-Ad66f0570\"\n",
      "    ],\n",
      "    \"homework\": [\n",
      "        \"Scf3337ae-Af4bf99c6\",\n",
      "        \"S1b0e2739-A85da2e2a\",\n",
      "        \"Scf3337cd-Af22c4d7c\"\n",
      "    ],\n",
      "    \"forests\": [\n",
      "        \"S251db9fe-Ad3fddddf\",\n",
      "        \"S4d2e82ff-Aab1e1cae\",\n",
      "        \"Sa657588d-A3147b8c8\"\n",
      "    ],\n",
      "    \"merkel\": [\n",
      "        \"S11630b3-Ab501d5be\",\n",
      "        \"S9375304d-Ab2fe2155\",\n",
      "        \"S9375304d-A3628d843\"\n",
      "    ],\n",
      "    \"school_uniform\": [\n",
      "        \"S6a52a7bf-A93edab2f\",\n",
      "        \"Sf380cbdd-A4b1d0fd1\",\n",
      "        \"S637bf47b-A62cc5120\"\n",
      "    ],\n",
      "    \"german_language\": [\n",
      "        \"Sb8a4ea1d-Ad19ccfba\",\n",
      "        \"S3d0a3810-Af3249b53\",\n",
      "        \"Sfee342e6-A2ce5d9b4\"\n",
      "    ],\n",
      "    \"lesbian\": [\n",
      "        \"S63f15303-A3dd6c46d\",\n",
      "        \"Sae05bef2-A6077b677\",\n",
      "        \"Sc5a50eab-Adb4beb27\"\n",
      "    ],\n",
      "    \"america_citizenship\": [\n",
      "        \"S27d7329-A3f0bd713\",\n",
      "        \"Sed2ba9d8-A86e15559\",\n",
      "        \"Sdee26282-Acfc43e16\"\n",
      "    ],\n",
      "    \"apples\": [\n",
      "        \"Sdb59ad99-A8c0a2944\",\n",
      "        \"Sa61c3f65-A6c278724\",\n",
      "        \"Se1784e73-A122691e0\"\n",
      "    ],\n",
      "    \"black_lives\": [\n",
      "        \"Se5f50a64-Af7c8cf9a\",\n",
      "        \"Sb4d65c02-A6fb8bf01\",\n",
      "        \"Sae17cce3-Aba22f7d\"\n",
      "    ],\n",
      "    \"deep_learning\": [\n",
      "        \"Sb0b290ba-Af4fa428f\",\n",
      "        \"Safbc888b-A6e09c006\",\n",
      "        \"Se634e766-A929aae3b\"\n",
      "    ],\n",
      "    \"child_marriage\": [\n",
      "        \"S633571aa-Ab88f4292\",\n",
      "        \"Seb8b217-Aa9087da4\",\n",
      "        \"S63356702-A433aeaaf\"\n",
      "    ],\n",
      "    \"bike_helmets\": [\n",
      "        \"Sad73916e-A5686603b\",\n",
      "        \"S9b02f8c-A494266ac\",\n",
      "        \"S9b02f8c-A6c26cfc4\"\n",
      "    ],\n",
      "    \"covid_is_a_cold\": [\n",
      "        \"S791b263a-Ae38f6724\",\n",
      "        \"Scbcc7f3a-A8068f557\",\n",
      "        \"Sa442c039-A96ea7072\"\n",
      "    ],\n",
      "    \"fish\": [\n",
      "        \"S9e003bf8-A6cc0e8d2\",\n",
      "        \"Sd6155d38-A683a7758\",\n",
      "        \"S22f0783f-A7199940\"\n",
      "    ],\n",
      "    \"cars\": [\n",
      "        \"S3f0e51cf-Aefc4a468\",\n",
      "        \"S9f700dcb-A84d925e5\",\n",
      "        \"S9f700dcb-A8e20a458\"\n",
      "    ],\n",
      "    \"trade_network\": [\n",
      "        \"S88834c69-Ac48d7624\",\n",
      "        \"Sb579644e-A7bf3694a\",\n",
      "        \"S3064bbce-A6ac03e42\"\n",
      "    ],\n",
      "    \"aliens\": [\n",
      "        \"S1fad6ae1-Ab659e087\",\n",
      "        \"S442b0585-Aab7703cb\",\n",
      "        \"S1166b4b0-Aabb8aa9d\"\n",
      "    ],\n",
      "    \"india\": [\n",
      "        \"Sb8abe960-Ab334cb1\",\n",
      "        \"Sb8abe960-A56aa0454\",\n",
      "        \"S8fcba9c5-Aa4a007b6\"\n",
      "    ],\n",
      "    \"globalization\": [\n",
      "        \"S2304355-A42e72a14\",\n",
      "        \"S43d81132-A94ac14f9\",\n",
      "        \"S2304355-A712b2d53\"\n",
      "    ],\n",
      "    \"gay\": [\n",
      "        \"S1d71c55b-A6ddc32f7\",\n",
      "        \"S847e73c4-A5ccb0c9f\",\n",
      "        \"S1d71c53c-A5431b16\"\n",
      "    ],\n",
      "    \"climate_crisis\": [\n",
      "        \"S5b257ac2-A4016055e\",\n",
      "        \"S5b257ac2-Aeb360663\",\n",
      "        \"Se7f83d8f-A22e25743\"\n",
      "    ],\n",
      "    \"is_social_media_good\": [\n",
      "        \"S862bd0ff-A45be89f5\",\n",
      "        \"Sdebe8f3f-A84e797a0\",\n",
      "        \"S70068293-A8ba345c3\"\n",
      "    ],\n",
      "    \"travelling_trains\": [\n",
      "        \"Sbac8e841-Aba0a0846\",\n",
      "        \"Sbac8e841-Abd01aa02\",\n",
      "        \"Sbac8e841-A63a161ed\"\n",
      "    ],\n",
      "    \"pro_and_cons_of_view\": [\n",
      "        \"S4aa4d1c5-Aed25a2fb\",\n",
      "        \"S7581a608-Adf27753f\",\n",
      "        \"S79fbe3d5-Ab24ef\"\n",
      "    ],\n",
      "    \"marihuana\": [\n",
      "        \"Sc6588e53-A58e5c536\",\n",
      "        \"Sc6588e72-A6ac51257\",\n",
      "        \"S746de2a4-Ad6e34918\"\n",
      "    ],\n",
      "    \"how_to_live\": [\n",
      "        \"Sa006e74f-Ab91c61b2\",\n",
      "        \"S1b4638e1-Acac65a60\",\n",
      "        \"S1b4638e1-A294c132f\"\n",
      "    ],\n",
      "    \"refugees\": [\n",
      "        \"Sf82c3166-A8c0f62c2\",\n",
      "        \"S164b799e-Ab081e5df\",\n",
      "        \"S41e6e4c3-Aa026a10b\"\n",
      "    ],\n",
      "    \"urbanization\": [\n",
      "        \"Sa23b7f6a-A558db42f\",\n",
      "        \"Sa23b7f6a-A66239477\",\n",
      "        \"S2894508c-A707029d\"\n",
      "    ],\n",
      "    \"india_covid\": [\n",
      "        \"Sc8617abb-A1304b034\",\n",
      "        \"S50494ba8-A572c56de\",\n",
      "        \"Sb2eeab1c-A9e9f36f9\"\n",
      "    ],\n",
      "    \"marketing\": [\n",
      "        \"Sefbdcc9f-Af779e7c2\",\n",
      "        \"Sf7ea685-A1ca586f5\",\n",
      "        \"Sd5aa9ae2-A22fb5cca\"\n",
      "    ],\n",
      "    \"sausage\": [\n",
      "        \"S5a6d78f8-Aed40c10\",\n",
      "        \"S5a6d78f8-A776bec8e\",\n",
      "        \"S5a6d78f8-A5eb07e32\"\n",
      "    ],\n",
      "    \"law\": [\n",
      "        \"Sccb2cd3b-A64e0401\",\n",
      "        \"S838c9eec-Aa9606e58\",\n",
      "        \"Sc66f7c55-A331e55ef\"\n",
      "    ],\n",
      "    \"testing\": [\n",
      "        \"S61bcb28d-A3336e143\",\n",
      "        \"Sb8d48a5b-Ab1814bc0\",\n",
      "        \"S5ef4ba1a-A4ca0ece3\"\n",
      "    ],\n",
      "    \"videogames\": [\n",
      "        \"S644d22c3-Aca157526\",\n",
      "        \"Se2a4e556-Aa5d8fd5\",\n",
      "        \"S1f7903b2-Aed669da5\"\n",
      "    ],\n",
      "    \"khan\": [\n",
      "        \"S43726286-A7a6f90a7\",\n",
      "        \"Sfb5287bb-Aa255be6a\",\n",
      "        \"Sd97ae235-Ac5a8124b\"\n",
      "    ],\n",
      "    \"britain\": [\n",
      "        \"Sd26fe720-A9bab46d7\",\n",
      "        \"S504d98e7-A991c1eb7\",\n",
      "        \"S72e845b6-Ae2b6a871\"\n",
      "    ],\n",
      "    \"rick_and_morty\": [\n",
      "        \"Sb06b713c-A4ef94a62\",\n",
      "        \"Sb06b713c-A7307d6ef\",\n",
      "        \"S660135ed-Ada811459\"\n",
      "    ],\n",
      "    \"gaming\": [\n",
      "        \"S78b8ee6-A577037e8\",\n",
      "        \"S78b8ee6-Ac4e514e2\",\n",
      "        \"S78b8e6a-A1f0ecc9b\"\n",
      "    ],\n",
      "    \"enviroment\": [\n",
      "        \"Sbf75a2e-Adb7ac2c5\",\n",
      "        \"Sbf75a2e-A9eca7cd5\",\n",
      "        \"S1020d1e8-A185d6bd6\"\n",
      "    ],\n",
      "    \"uber\": [\n",
      "        \"Sd900c329-A12de472\",\n",
      "        \"Sd900c329-A381be9d8\",\n",
      "        \"Sd900c329-A81e68259\"\n",
      "    ],\n",
      "    \"should_hydraulic_fracturing_be_used\": [\n",
      "        \"S6abdbffe-Ae2ba50da\",\n",
      "        \"S6abdbffe-Afd4941b\",\n",
      "        \"S6abdbffe-A55b0fc1c\"\n",
      "    ],\n",
      "    \"tattoos\": [\n",
      "        \"Se68a1956-Aa6b0e9ce\",\n",
      "        \"Se68a19b3-A47456203\",\n",
      "        \"S6f244286-A714f78b8\"\n",
      "    ]\n",
      "}\n"
     ]
    }
   ],
   "source": [
    "print(json.dumps(context_and_ids, indent=4))"
   ]
  },
  {
   "cell_type": "code",
   "execution_count": 25,
   "id": "3b6e9bde-a81b-4c2c-a723-27cc37c7ec95",
   "metadata": {
    "execution": {
     "iopub.execute_input": "2021-11-05T07:08:32.163189Z",
     "iopub.status.busy": "2021-11-05T07:08:32.163189Z",
     "iopub.status.idle": "2021-11-05T07:08:32.216597Z",
     "shell.execute_reply": "2021-11-05T07:08:32.216597Z",
     "shell.execute_reply.started": "2021-11-05T07:08:32.163189Z"
    },
    "tags": []
   },
   "outputs": [],
   "source": [
    "context_and_ids = dict()\n",
    "for c in contexts:\n",
    "    clr_context = [a['arg_id'] for a in clr_predictions if a['query'] == c]\n",
    "    #supmmd_context = [a['arg_id'] for a in supmmd_predictions if a['query'] == c]\n",
    "    arg_ids = np.random.choice(clr_context, 3, replace=False).tolist()\n",
    "    context_and_ids[c] = arg_ids    "
   ]
  },
  {
   "cell_type": "code",
   "execution_count": 26,
   "id": "9294cb29-bebf-4a36-b932-240fd0311446",
   "metadata": {
    "execution": {
     "iopub.execute_input": "2021-11-05T07:08:49.006416Z",
     "iopub.status.busy": "2021-11-05T07:08:48.990791Z",
     "iopub.status.idle": "2021-11-05T07:08:49.086236Z",
     "shell.execute_reply": "2021-11-05T07:08:49.086236Z",
     "shell.execute_reply.started": "2021-11-05T07:08:49.006416Z"
    },
    "tags": []
   },
   "outputs": [],
   "source": [
    "for k in context_and_ids.keys():\n",
    "    for id in context_and_ids[k]:\n",
    "        in_supmmd = False\n",
    "        for a in supmmd_predictions:\n",
    "            if a['arg_id'] == id:\n",
    "                in_supmmd = True\n",
    "                break\n",
    "        in_full_text = False\n",
    "        for a in full_text:\n",
    "            if a['arg_id'] == id:\n",
    "                in_full_text = True\n",
    "                break\n",
    "        if not (in_supmmd and in_full_text):\n",
    "            print(f'{id}')"
   ]
  },
  {
   "cell_type": "code",
   "execution_count": 27,
   "id": "d817427a-ede2-451d-9c71-4c2a244dff58",
   "metadata": {
    "execution": {
     "iopub.execute_input": "2021-11-05T07:08:51.941418Z",
     "iopub.status.busy": "2021-11-05T07:08:51.941418Z",
     "iopub.status.idle": "2021-11-05T07:08:51.974397Z",
     "shell.execute_reply": "2021-11-05T07:08:51.973396Z",
     "shell.execute_reply.started": "2021-11-05T07:08:51.941418Z"
    },
    "tags": []
   },
   "outputs": [],
   "source": [
    "with open('context_and_ids.json', 'w') as f:\n",
    "    json.dump(context_and_ids, f)"
   ]
  },
  {
   "cell_type": "code",
   "execution_count": 20,
   "id": "6e2fcee2-f390-4995-87f1-89fe1b31d91d",
   "metadata": {
    "execution": {
     "iopub.execute_input": "2021-12-14T05:23:05.721653Z",
     "iopub.status.busy": "2021-12-14T05:23:05.720676Z",
     "iopub.status.idle": "2021-12-14T05:23:05.743654Z",
     "shell.execute_reply": "2021-12-14T05:23:05.742659Z",
     "shell.execute_reply.started": "2021-12-14T05:23:05.721653Z"
    },
    "tags": []
   },
   "outputs": [],
   "source": [
    "with open('context_and_ids.json', 'r') as f:\n",
    "    context_and_ids = json.load(f)"
   ]
  },
  {
   "cell_type": "code",
   "execution_count": 21,
   "id": "b151e5b7-cfe8-45e9-baf7-c74d20d7a627",
   "metadata": {
    "execution": {
     "iopub.execute_input": "2021-12-14T05:23:06.972039Z",
     "iopub.status.busy": "2021-12-14T05:23:06.972039Z",
     "iopub.status.idle": "2021-12-14T05:23:07.045791Z",
     "shell.execute_reply": "2021-12-14T05:23:07.044796Z",
     "shell.execute_reply.started": "2021-12-14T05:23:06.972039Z"
    },
    "tags": []
   },
   "outputs": [],
   "source": [
    "milad_list = dict()\n",
    "milad_list_wo_ids = list()\n",
    "for k in context_and_ids.keys():\n",
    "    argids = set([a['arg_id'] for a in full_text if a['arg_id'] in context_and_ids[k]])\n",
    "    cont = list()\n",
    "    added = set()\n",
    "    for a in full_text:\n",
    "        if a['arg_id'] in argids and a['arg_id'] not in added:\n",
    "            cont.append(a)\n",
    "            added.add(a['arg_id'])\n",
    "    #cont_wo_ids = [a['text'] for a in full_text if a['arg_id'] in context_and_ids[k]]\n",
    "    milad_list[k]=  cont\n",
    "    #milad_list_wo_ids.append(cont_wo_ids)\n",
    "        "
   ]
  },
  {
   "cell_type": "code",
   "execution_count": 22,
   "id": "655eb895-526c-4099-922a-2638d8f5e474",
   "metadata": {
    "execution": {
     "iopub.execute_input": "2021-12-14T05:23:08.439679Z",
     "iopub.status.busy": "2021-12-14T05:23:08.438679Z",
     "iopub.status.idle": "2021-12-14T05:23:08.450677Z",
     "shell.execute_reply": "2021-12-14T05:23:08.449676Z",
     "shell.execute_reply.started": "2021-12-14T05:23:08.439679Z"
    },
    "tags": []
   },
   "outputs": [
    {
     "data": {
      "text/plain": [
       "dict_keys(['is_golf_a_sport', 'guns', 'house', 'decision_theory_important', 'dragon', 'gay_marriage', 'bible', 'lionel_messi_is_the_best_player', 'homework', 'forests', 'merkel', 'school_uniform', 'german_language', 'lesbian', 'america_citizenship', 'apples', 'black_lives', 'deep_learning', 'child_marriage', 'bike_helmets', 'covid_is_a_cold', 'fish', 'cars', 'trade_network', 'aliens', 'india', 'globalization', 'gay', 'climate_crisis', 'is_social_media_good', 'travelling_trains', 'pro_and_cons_of_view', 'marihuana', 'how_to_live', 'refugees', 'urbanization', 'india_covid', 'marketing', 'sausage', 'law', 'testing', 'videogames', 'khan', 'britain', 'rick_and_morty', 'gaming', 'enviroment', 'uber', 'should_hydraulic_fracturing_be_used', 'tattoos'])"
      ]
     },
     "execution_count": 22,
     "metadata": {},
     "output_type": "execute_result"
    }
   ],
   "source": [
    "milad_list.keys()"
   ]
  },
  {
   "cell_type": "code",
   "execution_count": 32,
   "id": "5e8d5e4f-b07b-4460-84be-bc5e3f941c5d",
   "metadata": {
    "execution": {
     "iopub.execute_input": "2021-11-05T07:09:49.757889Z",
     "iopub.status.busy": "2021-11-05T07:09:49.756891Z",
     "iopub.status.idle": "2021-11-05T07:09:49.780459Z",
     "shell.execute_reply": "2021-11-05T07:09:49.779718Z",
     "shell.execute_reply.started": "2021-11-05T07:09:49.757889Z"
    },
    "tags": []
   },
   "outputs": [],
   "source": [
    "with open('kp-input.json', 'w') as f:\n",
    "    json.dump(milad_list_wo_ids, f, indent=4)"
   ]
  },
  {
   "cell_type": "code",
   "execution_count": 9,
   "id": "6608030e-19fb-425a-92dc-97906c62c0bc",
   "metadata": {
    "execution": {
     "iopub.execute_input": "2021-11-09T11:17:18.151281Z",
     "iopub.status.busy": "2021-11-09T11:17:18.151281Z",
     "iopub.status.idle": "2021-11-09T11:17:18.415003Z",
     "shell.execute_reply": "2021-11-09T11:17:18.413993Z",
     "shell.execute_reply.started": "2021-11-09T11:17:18.151281Z"
    },
    "tags": []
   },
   "outputs": [
    {
     "ename": "NameError",
     "evalue": "name 'milad_list' is not defined",
     "output_type": "error",
     "traceback": [
      "\u001b[1;31m---------------------------------------------------------------------------\u001b[0m",
      "\u001b[1;31mNameError\u001b[0m                                 Traceback (most recent call last)",
      "\u001b[1;32m<ipython-input-9-8adf75c28a4f>\u001b[0m in \u001b[0;36m<module>\u001b[1;34m\u001b[0m\n\u001b[0;32m      1\u001b[0m \u001b[1;32mwith\u001b[0m \u001b[0mopen\u001b[0m\u001b[1;33m(\u001b[0m\u001b[1;34m'kp-input-dict.json'\u001b[0m\u001b[1;33m,\u001b[0m \u001b[1;34m'w'\u001b[0m\u001b[1;33m)\u001b[0m \u001b[1;32mas\u001b[0m \u001b[0mf\u001b[0m\u001b[1;33m:\u001b[0m\u001b[1;33m\u001b[0m\u001b[1;33m\u001b[0m\u001b[0m\n\u001b[1;32m----> 2\u001b[1;33m     \u001b[0mjson\u001b[0m\u001b[1;33m.\u001b[0m\u001b[0mdump\u001b[0m\u001b[1;33m(\u001b[0m\u001b[0mmilad_list\u001b[0m\u001b[1;33m,\u001b[0m \u001b[0mf\u001b[0m\u001b[1;33m,\u001b[0m \u001b[0mindent\u001b[0m\u001b[1;33m=\u001b[0m\u001b[1;36m4\u001b[0m\u001b[1;33m)\u001b[0m\u001b[1;33m\u001b[0m\u001b[1;33m\u001b[0m\u001b[0m\n\u001b[0m",
      "\u001b[1;31mNameError\u001b[0m: name 'milad_list' is not defined"
     ]
    }
   ],
   "source": [
    "with open('kp-input-dict.json', 'w') as f:\n",
    "    json.dump(milad_list, f, indent=4)"
   ]
  },
  {
   "cell_type": "markdown",
   "id": "92ecceed-3515-4a93-8313-0fb2430bf8f2",
   "metadata": {},
   "source": [
    "# Annotation tasks"
   ]
  },
  {
   "cell_type": "code",
   "execution_count": 23,
   "id": "5ddc002d-864b-438a-abce-f3a0cc5c1578",
   "metadata": {
    "execution": {
     "iopub.execute_input": "2021-12-14T05:23:22.106898Z",
     "iopub.status.busy": "2021-12-14T05:23:22.105939Z",
     "iopub.status.idle": "2021-12-14T05:23:22.124899Z",
     "shell.execute_reply": "2021-12-14T05:23:22.123897Z",
     "shell.execute_reply.started": "2021-12-14T05:23:22.106898Z"
    },
    "tags": []
   },
   "outputs": [],
   "source": [
    "def print_task1(arg_id, context, all_ids):\n",
    "    html_str = f'<p style=\"text-align:left\">{context}</p><div style=\"border: solid black 1px; padding-left: 5px\">'\n",
    "    html_str += f'<table><tr>'\n",
    "    cont_args = list()\n",
    "    cont_ids = set()\n",
    "    for a in full_text:\n",
    "        if a['arg_id'] in all_ids and a['arg_id'] not in cont_ids:\n",
    "            cont_args.append(a)\n",
    "            cont_ids.add(a['arg_id'])\n",
    "    for ft in cont_args:\n",
    "        html_str += f'<td >{ft[\"text\"]}</td>'\n",
    "    html_str += f'</tr></table>'\n",
    "    text = [a['text'] for a in full_text if a['arg_id']==arg_id][0]\n",
    "    clr = [a for a in clr_predictions if a['arg_id']==arg_id][0]\n",
    "    smmd = [a for a in supmmd_predictions if a['arg_id']==arg_id][0]\n",
    "    #html_str += f'<span>{text}</span><hr>'\n",
    "    html_str += f'<span style=\"font-weight: bold;\">clr</span><br><span>{clr[\"paraphrased_1\"][0]}<br>{clr[\"paraphrased_2\"][0]}</span><hr>'\n",
    "    html_str += f'<span style=\"font-weight: bold;\">supmmd</span><br><span>{smmd[\"paraphrased_1\"][0]}<br>{smmd[\"paraphrased_2\"][0]}</span>'\n",
    "    \n",
    "    display_html(html_str+'</p>', raw=True)"
   ]
  },
  {
   "cell_type": "code",
   "execution_count": 85,
   "id": "c50bb8f9-b0f1-485f-a051-bb8da3d51b6b",
   "metadata": {
    "execution": {
     "iopub.execute_input": "2021-11-02T13:44:51.163160Z",
     "iopub.status.busy": "2021-11-02T13:44:51.163160Z",
     "iopub.status.idle": "2021-11-02T13:44:51.184496Z",
     "shell.execute_reply": "2021-11-02T13:44:51.180536Z",
     "shell.execute_reply.started": "2021-11-02T13:44:51.163160Z"
    },
    "tags": []
   },
   "outputs": [],
   "source": [
    "def rand_task1():\n",
    "    random_context = np.random.choice(list(context_and_ids.keys()))\n",
    "    random_arg_snippet = np.random.choice(context_and_ids[random_context])\n",
    "    print(random_context, random_arg_snippet)\n",
    "    print_task1(random_arg_snippet, random_context, context_and_ids[random_context])"
   ]
  },
  {
   "cell_type": "code",
   "execution_count": 80,
   "id": "86d1f34e-2795-483f-9f56-5c93940a759a",
   "metadata": {
    "collapsed": true,
    "execution": {
     "iopub.execute_input": "2021-11-02T13:34:57.620493Z",
     "iopub.status.busy": "2021-11-02T13:34:57.620493Z",
     "iopub.status.idle": "2021-11-02T13:34:57.639239Z",
     "shell.execute_reply": "2021-11-02T13:34:57.638239Z",
     "shell.execute_reply.started": "2021-11-02T13:34:57.620493Z"
    },
    "jupyter": {
     "outputs_hidden": true
    },
    "tags": []
   },
   "outputs": [
    {
     "data": {
      "text/html": [
       "<p style=\"text-align:left\">pro-environmental_behaviors</p><div style=\"border: solid black 1px; padding-left: 5px\"><table><tr><td >I will go ahead and make my case since the con has the first argument in each round. However, first I would like to lay down ground rules. The Pro (me) will have the responsibility of demonstrating why changes to behavior key to environmental sustainability, particularly in regards to climate change, however I will touch on other areas. The con will have presumption. In the first and second rounds both teams may bring up new arguments, in the third and fourth rounds, no new arguments, no exceptions. Fourth round, both teams will respond to any final arguments made previously, and conclude their arguments and show why they should win the debate. Additionally we must define several terms before we begin. 1) Behavior shall refer to how individuals and society act and function. 2) Change shall be defined as an alteration 3) Environmental Sustainability shall refer to maintenence of the factors and practices that contribute to preserving the quality of the environment, and its ability to support human life, on a long term basis. Moving on to my arguments. First Argument: Mitigating Climate Change requires behavioral changes Climate change is by far the greatest environmental issue we face in our world today. Climate change is caused by rising global tempertrues (ie Global Warming) which is caused by the accumulation of greenhouse gases (chiefly CO2) in the atmostphere. Human activity has been linked to the accumulation of Greenhouse gases in the atmostphere, through our consumption of fossil fuels. According to the UN, humans must severly limit CO2 emissions in order to combat climate change. This will mean that humans will need to end the practice of burning fossil fuels and transition to renewable energy. This would be a behavioral change as fossil fuels have been used to power societies since the industrial revolution. http://www.theguardian.com... Second Argument: Over consumption harms biodiversity, Biodiversity is key In our world today, fish stocks are being rapdily depleted thanks to overfishing. It is belived 70% of fish stocks have been depleted or exhausted. Bluefin Tuna stocks alone have dropped 96%. This is havgin serious harmful impacts on marine biodiversity. Biodiversity is vital to earth's \"life support systems\", and losing it has severe consequences of the long term sustainability of life on earth. In order to stop this loss of biodiversity, we must curtail our consumption of fish, thereby reducing demand and allowing stocks to replinish. http://www.seaweb.org... http://www.un.org...</td><td >Exactly!...It DOES NOT counter my argument infact, it enhances it and supports it 100%.. Limited Access or NOT. My point here to you stands firm when i say to you that Access to condoms and other contraceptives do lead to promiscuity and irresponsible sexual behaviors. \"Laws limiting teenagers access to contraceptive services and information fail to reduce sexual activity and increase the risk of unintended pregnancy and sexually transmitted diseases (STDs), according to two studies released this week \" The key term here is 'FAIL'... and according to www.google.com it is defined as neglect to do something. Therefore, access or not! it still has a major impact on teenagers.</td><td >I will answer your question: No i've never said this to myself but you never know someone else might have said it to themselves. People have different minds and they think differently so you may not say that to yourself but another person will. Take a good look at this site and read carefully https://guttmacher.org...</td></tr></table><span style=\"font-weight: bold;\">clr</span><br><span>70% of fish stocks have been exhausted.<br>Blue fin tuna stocks have plummeted.</span><hr><span style=\"font-weight: bold;\">supmmd</span><br><span>We must reduce our consumption of fish in order to stop the loss of biodiversity.<br>The long term viability of life on earth is dependent on the health of the flora and fauna.</span></p>"
      ]
     },
     "metadata": {},
     "output_type": "display_data"
    }
   ],
   "source": [
    "print_task1('S462448b6-A382aeb92', 'pro-environmental_behaviors', context_and_ids['pro-environmental_behaviors'])"
   ]
  },
  {
   "cell_type": "code",
   "execution_count": 81,
   "id": "e3dce370-44a9-493a-adff-eb3296fc31f1",
   "metadata": {
    "collapsed": true,
    "execution": {
     "iopub.execute_input": "2021-11-02T13:36:30.996614Z",
     "iopub.status.busy": "2021-11-02T13:36:30.995617Z",
     "iopub.status.idle": "2021-11-02T13:36:31.018218Z",
     "shell.execute_reply": "2021-11-02T13:36:31.017183Z",
     "shell.execute_reply.started": "2021-11-02T13:36:30.996614Z"
    },
    "jupyter": {
     "outputs_hidden": true
    },
    "tags": []
   },
   "outputs": [
    {
     "name": "stdout",
     "output_type": "stream",
     "text": [
      "ms_dhoni\n"
     ]
    },
    {
     "data": {
      "text/html": [
       "<p style=\"text-align:left\">ms_dhoni</p><div style=\"border: solid black 1px; padding-left: 5px\"><table><tr><td >I agree that Dhoni is a spectacular batsman and captain but he has not been able to perform well in the recent series Various countries have different captains for different formats so why not the Indian team tries this once A suitable alternative is now available in Virat Kohli. He has leadership experience as captain of Indian youth teams and, more importantly, he's now the right age and has matured into a top-class batsman. Even more importantly, he has shown his mettle overseas by scoring runs in difficult arenas like the WACA and the Bullring This is the sort of inspiration India need to boost their overseas record. However, what they need even more is a proactive captain who can get the best out of his bowlers when playing in unfamiliar conditions Kohli needs to be brave as an India captain. Instead of placing defensive fields for Ishant Sharma's wayward deliveries he has to challenge him by deploying men designed to aid the bowler, as long as he maintains line and length. If Ishant can't oblige him, he has to find another bowler who can. While Dhoni's tendency to rely on batsmen making mistakes and getting themselves out works brilliantly in the shorter forms of the game, the ploy is often exposed as flawed when gritty opponents like McCullum mount a counterattack in Test matches Dhoni's latest injury may be fortuitous. It gives the selectors a chance to evaluate Kohli's leadership credentials in the one-day arena, and if he's successful, they should appoint him Test captain</td><td >VIRAT KOHLI,the emerging star of our Indian cricket team has brought various laurels for our country.his records proves to be quite appealing to the cricket lovers but as far as captaincy is concerned every team wants and need to have the senior player so that he can handle his team members well in every situation.every person doesn't have leadership qualities in him. i can justify it by taking the example of Master Blaster SACHIN TENDULKAR. indeed,he was the greatest player in the world of cricket who owns brilliant records but as a captain he never marked the expectations.India has lost nearly 60% matches under his captaincy. Secondly,virat kohli is considered to be the aggressive player on and off the field whose name is attached with the various issues regarding his conduct on the field but captain should be of the kind that he should handle all the situations cooly . India lost the match under Kohli's captaincy from pakistan in this Asia cup</td><td >Graeme Smith had played all of eight Test matches, was 22 years old and although he averaged 55, his early reputation suggested his bark was more incisive than his bite. He was replacing Shaun Pollock who had done little wrong in his three years at the helm - winning 14 of 26 Tests and 59 of 92 ODIs. He had commanded the ship with grace in the aftermath of the match-fixing turbulence and was all of 30. Surely, a brain freeze on a Duckworth-Lewis equation wasn't enough reason to show him the door? South Africa though weren't swayed by the numbers. When Pollock replaced Hansie Cronje, he was the right man for the wrong time. He was now the good man at the wrong time. From his innate decency, South Africa needed to graduate to a new language. Its cricketers needed a new man to re-ignite their joy of playing cricket. Smith was a young and passionate, talented and ambitious. He may or may not have been ready to be captain, but his country's cricket team needed his kind in-charge. India faces a similar dilemma at this point and must make a similar choice. MS Dhoni has the numbers to stay on at the helm, but appears to have lost the sparkle that once defined his leadership. His decision-making has been consistently feeble and often frustrating over the last 18 months. His poise in explaining away defeats was once endearing but increasingly sounds like a shallow play on words. Nonchalance is admirable but when the setbacks pile up - eight straight overseas defeats and three consecutive World Twenty20s without a place in the semis - the skipper can't swat the gnawing questions aside. Theorising about cricket captaincy is one of the great pastimes of the game. Must he lead by example at all times? Must he first command a place as a player? Must he be tactically sound or simply rely on instinct? Must he inspire and cajole? Or must he merely rely on a nudge and a quiet word? It is unlike any other job in the world, sporting or otherwise. You are captain one day and a mere player on another. One day you lead, on another you are led. One day you could move a man from third man to point, the next you could be following a similar diktat. In Dhoni's case several boxes are being rapidly unchecked. Over the last year, he has first been picked as captain and is then somehow fit into the XI, especially in Test and Twenty20 cricket. Over the seven Tests he played in England and Australia, Dhoni scored a mere 322 runs at an average of 27. In the World Twenty20, he batted all of 51 balls in the entire competition, when several occasions demanded he promote himself in the batting order. In the longest and shortest formats of the game, Dhoni is captain first and wicketkeeper-batsman almost as an afterthought. Power equations in Indian cricket have meant Dhoni's position has been unquestioned. Murmurs suggest a move to remove him as captain for the Asia Cup immediately after the tour of Australia was scuttled. His writ is the final word on marginal selections - RP Singh's sudden recall and Suresh Raina's re-instatement in the Test team are glaring examples. Five years in the job with all the machinations around Indian cricket have meant Dhoni is now conditioned to being captain first and all else later. But the aura has faded as the results have nosedived. If only for his own good, Dhoni the cricketer now needs to be disengaged from Dhoni the captain. He must be free to fight with claimants to the spot of India's No.1 wicket-keeper batsman. He must re-discover the joy of clattering the cricket ball into orbit, much in the manner when he first emerged. He must be allowed to relish the contest at par with the pretenders to his place in the squad. Tactics and player management should no longer be his lookout, his mind and body must be liberated to play cricket. There comes a time when cricketers should be cricketers alone- and with Dhoni that time is now. It won't take a genius to find the successor. Much like Smith in 2003, Virat Kohli is a feisty young man with the world at his feet. He is the first name on all Indian teams these days - Test, ODI and Twenty20. His tears at the end of the World Twenty20 were a reminder that failure must rankle before it is explained. That India's cricket team impacts its followers and must do the same to its players. Does he have the nous and the tactical acumen? He may or may not, but unless he gets the opportunity one will never know. India starts an arduous journey in late 2013 in South Africa which will take them to New Zealand, England and Australia over the next year. The next Indian captain shouldn't start in the job with that itinerary staring at him. The opportunity to blood Kohli is now - make him captain starting with the Test series against England. He is the new language India needs - one that will lift them from this listlessness. The opponent may set forth his or her argument</td></tr></table><span style=\"font-weight: bold;\">clr</span><br><span>The emerging star of our Indian cricket team has brought various laurels for our country.his records proves to be quite appealing to the cricket lovers but as far as captaincy is concerned every team wants and need to have the senior player so that he can handle his team members well<br>virat kohli is considered to be the aggressive player on and off the field who has his name attached with the various issues regarding his conduct on the field but captain should be of the kind that he should handle all the situations cooly.</span><hr><span style=\"font-weight: bold;\">supmmd</span><br><span>I can show you the example of master blaster, he was the greatest player in the world of cricket, but as a captain he never marked the expectations.<br>The emerging star of our Indian cricket team has brought various laurels for our country.his records proves to be quite appealing to the cricket lovers but as far as captaincy is concerned every team wants and need to have the senior player so that he can handle his team members well</span></p>"
      ]
     },
     "metadata": {},
     "output_type": "display_data"
    }
   ],
   "source": [
    "rand_task1()"
   ]
  },
  {
   "cell_type": "code",
   "execution_count": 82,
   "id": "1a12f1e2-5d4f-4d8d-9f60-9578f4e04b0e",
   "metadata": {
    "collapsed": true,
    "execution": {
     "iopub.execute_input": "2021-11-02T13:39:17.501155Z",
     "iopub.status.busy": "2021-11-02T13:39:17.501155Z",
     "iopub.status.idle": "2021-11-02T13:39:17.527137Z",
     "shell.execute_reply": "2021-11-02T13:39:17.524133Z",
     "shell.execute_reply.started": "2021-11-02T13:39:17.501155Z"
    },
    "jupyter": {
     "outputs_hidden": true
    },
    "tags": []
   },
   "outputs": [
    {
     "name": "stdout",
     "output_type": "stream",
     "text": [
      "trade_network\n"
     ]
    },
    {
     "data": {
      "text/html": [
       "<p style=\"text-align:left\">trade_network</p><div style=\"border: solid black 1px; padding-left: 5px\"><table><tr><td >The use of ICT and creating a network of professional experts enables learning and knowledge transfer between health workers and academics. In addition to the brain-drain, whereby skilled health professionals continue to emigrate from Zambia, Zambia also shows a slow rate of training of new health workers. Therefore the VDP provides a vital learning tool. VDP provides practical skills by healthcare workers to learn from first-hand experience while having access to a field of experts, or advisers, able to answer any questions. The quality of healthcare will be improved as workers in remote locations are given access to information and correct answers for diagnosis. A global pool of skills can be drawn upon, and utilised, when required.</td><td >The SIM card tax will provide positive knock-on effects for network expansion and improvement. By enforcing tax payment to individual users, mobile phone customers are able to demand better service quality and distribution. The public-sector have the obligation and responsibility to ensure tax can be justified so will encourage the development of the network – and if necessary use some of the taxes raised to pay for it.</td><td >Natural resources are a source of economic revenue for Africa. If managed well then this can become a genuine source of prosperity. Africa does not currently have developed secondary and tertiary sectors yet[1], most of the continent’s economics surrounds primary sector activity such as resource extraction and farming. The high commodity price of items such as gold, diamonds and uranium is therefore valuable for Africa’s trade. Profits from this trade have allowed countries to strengthen their economic position by reducing debt and accumulating external reserves, a prime example of this being Nigeria. [1] Maritz,J. ‘Manufacturing: Can Africa become the next China?’ How We Made Africa 24 May 2011 http://www.howwemadeitinafrica.com/manufacturing-can-africa-become-the-next-china/9959/</td></tr></table><span style=\"font-weight: bold;\">clr</span><br><span>VDP gives practical skills to healthcare workers to learn from first-hand experience while giving them access to a field of experts who can answer any questions.<br>The quality of healthcare will be improved when workers in remote locations have access to information and correct answers for diagnoses.</span><hr><span style=\"font-weight: bold;\">supmmd</span><br><span>Learning and knowledge transfer between health workers and academics can be achieved through the use of information and communication technology.<br>The brain-drain and slow rate of training of new health workers are related to the fact that skilled health professionals continue to emigrate from Zambia.</span></p>"
      ]
     },
     "metadata": {},
     "output_type": "display_data"
    }
   ],
   "source": [
    "rand_task1()"
   ]
  },
  {
   "cell_type": "code",
   "execution_count": 83,
   "id": "c049dbf2-bba7-4903-b44a-a3e974667cd1",
   "metadata": {
    "collapsed": true,
    "execution": {
     "iopub.execute_input": "2021-11-02T13:41:14.750424Z",
     "iopub.status.busy": "2021-11-02T13:41:14.750424Z",
     "iopub.status.idle": "2021-11-02T13:41:14.774451Z",
     "shell.execute_reply": "2021-11-02T13:41:14.764444Z",
     "shell.execute_reply.started": "2021-11-02T13:41:14.750424Z"
    },
    "jupyter": {
     "outputs_hidden": true
    },
    "tags": []
   },
   "outputs": [
    {
     "name": "stdout",
     "output_type": "stream",
     "text": [
      "dragon\n"
     ]
    },
    {
     "data": {
      "text/html": [
       "<p style=\"text-align:left\">dragon</p><div style=\"border: solid black 1px; padding-left: 5px\"><table><tr><td >I will argue that Dragon Ball GT is better than Dragon Ball Super. Dragon Ball GT is better because it has a very interesting plot line and because Dragon Ball Super's animation is just bad. Just take a look at the horror show that is Dragon Ball Super's animation: http://pm1.narvii.com...; /> http://pm1.narvii.com...; /></td><td >Defence: 1. Religion is belief, yes, but there is a dragon in your basement is not beleif.. It's fact. 2. The dragon is not a statement, 'There is a deagon in my basement' IS a statement. 3. No, I can't believe that there is a dragon based on lack of evidence as I don't beleive anything with less evidence, all the less NO evidence. 4. You have no proof that I'm bad at debating, all the less horrible at debating.</td><td >Hi, Im Adil Muhammad from Qatar. No, there aren't any dragins in your basement as yuo bave no evidence. Also, the burden of proof is on you, but you haven't proven that there is actually a dragon. You love dragons, But that doesn't mean that there should be a dragon in your basement. I too love dragon but have none in my house. I have no doubts.. Im sure of whatever Im saying</td></tr></table><span style=\"font-weight: bold;\">clr</span><br><span>'There is a deagon in my basement' is not a statement by the dragon.<br>I don't believe that there is a dragon based on lack of evidence as I don't believe anything with less evidence.</span><hr><span style=\"font-weight: bold;\">supmmd</span><br><span>Religion is belief, but there is a dragon in your basement.<br>You don't have any proof that I'm bad at debating.</span></p>"
      ]
     },
     "metadata": {},
     "output_type": "display_data"
    }
   ],
   "source": [
    "rand_task1()"
   ]
  },
  {
   "cell_type": "code",
   "execution_count": 84,
   "id": "eea2dbe8-fe43-421d-93e0-4a422cdb41b5",
   "metadata": {
    "collapsed": true,
    "execution": {
     "iopub.execute_input": "2021-11-02T13:43:04.937736Z",
     "iopub.status.busy": "2021-11-02T13:43:04.937736Z",
     "iopub.status.idle": "2021-11-02T13:43:04.973781Z",
     "shell.execute_reply": "2021-11-02T13:43:04.967832Z",
     "shell.execute_reply.started": "2021-11-02T13:43:04.937736Z"
    },
    "jupyter": {
     "outputs_hidden": true
    },
    "tags": []
   },
   "outputs": [
    {
     "name": "stdout",
     "output_type": "stream",
     "text": [
      "bangladesh\n"
     ]
    },
    {
     "data": {
      "text/html": [
       "<p style=\"text-align:left\">bangladesh</p><div style=\"border: solid black 1px; padding-left: 5px\"><table><tr><td >Religious Violence: Compared to the thousand or more that died in the past riots that con has mentioned, the Muzaffarnagar violence resulted in only 63 deaths (not that they don't matter but compared to the thousands that died in previous riots this is not much), and this is at a time where the BJP is very prominent in Indian politics as my opponent mentioned. So the union will not have much of a problem in the long term. In any case Hindu-nationalist parties like the BJP will ultimately lose their power in the proposed union since minority religions like Islam will become larger, which is obviously not good for the BJP, and similar religious parties. My opponent might say that the BJP will prevent such a union from taking place, but I would like to remind him/her that in this debate it is assumed that the union takes place. My opponent stated this - \"Besides, corruption itself is one of the reasons why the union won't fall through.\" Again, it is assumed that the union takes place. Terrorists in India: My opponent mentioned that India isn't \"decisive enough to take a stand against the extremists who plague THEIR OWN LAND\" In the past there have been rebellions and insurgents too, like Khalistan rebels in Punjab. They were dealt with by the Indian army. Even the Maoist insurgency that my opponent mentioned has been on sharp decline since 2010. http://en.wikipedia.org... So this proves that India is capable of dealing with insurgencies and terrorism, the islamists are no different. So the proposed Union will be able to deal with the Islamists, the same way India dealt with these insurgents. My opponent has requested that I state new arguments for this round, I shall gladly do so. I will be focusing on Pakistan. Pakistan and internal violence: Pakistan has always considered India as its number one enemy. This presence of hostilities has always been the reason for Pakistan to be spending money for making larger armed forces, rather than spending it on development. Terrorists/Insurgents like Al Qaeda and the Baluchistani Insurgents wreck havoc on the country while the government is too concerned with politics with India. Pakistan's own allies, the US is drone striking Pakistani territories and killing civilians. The US became allied with Pakistan because India had close ties with USSR in the cold war era (and still continues close ties with Russia), if the US was not allied with Pakistan, the Pakistani government would never have allowed such drone strikes, thus the historical tension with India indirectly led to the US drone strikes. In the proposed Union, the Insurgents will be defeated as tensions cease to exist between India and Pakistan and the focus of the governments can be on the Insurgents. Also the US will not be allowed to use their drones since it is more likely that the union will have the political viewpoints of India (since it is larger and at the center) and not Pakistan. The US may stop themselves as they do not want to anger a much larger country. http://www.dnaindia.com... http://en.wikipedia.org... The Threat of Nuclear War: This is perhaps the biggest concern in the region. India and Pakistan, which together hold more than 14% or 1/7 of the worlds population, are nuclear armed. The two countries are engaging in an arms race (similar to the cold war but a smaller scale) http://tribune.com.pk... If the two countries EVER exchange nuclear weapons it could be catastrophic to the world, due to nuclear winter/famine and of course the radiation. http://www.telegraph.co.uk... The two countries have come very close to having a nuclear war http://en.wikipedia.org... http://news.bbc.co.uk... As stated in the article, the Pakistani PM refused to renounce the first use of nuclear weapons Neither Pakistan nor India has signed the non proliferation treaty, so they don't plan to abandon Nuclear weapons anytime soon. In the proposed Union there will be no such threats since the tensions between India and Pakistan don't exist since they are one and the same in the Union. A summary of my points: - Though there is religious violence now, casualties are far fewer than before, and they will continue to fall in the proposed Union since very religious parties like the BJP will lose power. Even if current level of religious violence continues in the union, it is not a high rate for a country of almost 1.5 BILLION people. - India has proven itself to deal with insurgencies and continues to do so against the Naxalites. The same will be done to the Islamists in the proposed Union. Pakistan is not capable of doing the same as it is too distracted with politics with India. - War, especially nuclear war can have a huge impact on the region and even the world, India and Pakistan are likely to keep bickering and even possibly exchanging nukes. A Union would put an end to all the international disputes between India and Pakistan.</td><td >However, Pro has also made some insensitive assertions, and his stand continues to be quite unrealistic. _____________________________________________________________________________________________________________________ Rebuttals _____________________________________________________________________________________________________________________ Compared to the thousand or more that died in the past riots that con has mentioned, the Muzaffarnagar violence resulted in only 63 deaths How can Pro say such a thing? I know he said that they do matter, but in my opinion it is still extremely insensitive to say that just because the number of casualties is reducing, communal violence is reducing. More than FIFTY THOUSAND people were rendered homeless. What does Pro have to say about them? It is extremely saddening that Pro thinks communal riots are about death tolls alone. Communal violence should not only be spoken in terms of how many people died. The death toll only serves to show the loss of life, and not of property. The violence is either there, or not there. Right now, IT'S STILL THERE. The death toll can rise or fall depending on many factors, and NOT just people's sentiments as my opponent thinks. Besides the death toll, there's also the figures of the number of people injured, those displaced, those arrested and those convicted. Unless my opponent takes these into account, I simply cannot take his thoughts on communal riots seriously. --------------------------------------- My opponent might say that the BJP will prevent such a union... but I would like to remind him/her that in this debate it is assumed that the union takes place. My opponent stated this - \"Besides, corruption... the union won't fall through.\" Again, it is assumed that the union takes place. And it is a VERY SHAKY assumption, Mr. Pro. At the moment, it only looks like the union will fall through BECAUSE OF AN IMPULSIVE REACTION from the people and the government. The situation is quite similar to the appointment of Pratibha Patil as the president of India. Everybody wanted a woman on the throne, and so they reacted on the impulse. Soon enough, everyone regretted it. http://zeenews.india.com... Therefore, based on current arguments, I believe everyone will end up regretting Pro's union, and it won't last long. Reasons: - Sooner or later, when corruption reduces(provided we take Pro's word for it), the \"netas\" will realize their positions are in trouble, and propose to annul the union. - Sooner or later, the Hindu-Muslim tension will boil over, and we'll have mayhem. - Sooner or later, the Tamils and the Sinhalese will get fed up of living in the same country, and the LTTE will return with the next Prabhakaran. -------------------------------------- So this proves that India is capable of dealing with insurgencies and terrorism, the islamists are no different. So the proposed Union will be able to deal with the Islamists, the same way India dealt with these insurgents. If it is the same way India dealt with the insurgents, then I weep for the future of the union. For some reason, Pro thinks that India's efforts to quell insurgency are effective. If India's methods really were that effective, the Maoists would never have reared their head above the ground. The Naxalites have been plaguing India for 46 YEARS (since 1967), and the government brought out their integrated action plan NO SOONER THAN 2009. http://www.globalresearch.ca... If THIS is what Pro calls effective, then very well. I'll believe that the union can deal with the Islamist faction. But I'm sure that it will be ANYTHING BUT IMMEDIATE. --------------------------------------- Terrorists/Insurgents like Al Qaeda and the Baluchistani Insurgents wreck havoc on the country while the government is too concerned with politics with India. I would like to remind Pro that Pakistan and India used to be one and the same. It is very obvious that the government would've thought of political tension with India before they demanded the partition. If they were so concerned about the tension with India, why did they still push for the partition? The answer is simple: THE PAKISTANIS WOULD RATHER SUFFER FROM VIOLENCE AND POLITICAL TURMOIL THAN UNITE WITH THE INDIANS. ---------------------------------------- The US may stop themselves as they do not want to anger a much larger country. The expanse of a country never stopped the US from angering the USSR. That's all I have to say. ---------------------------------------- In the proposed Union there will be no such (nuclear) threats since the tensions between India and Pakistan don't exist since they are one and the same in the Union. Once again, I would like to remind Pro of the pre-1947 scene. Even then, India and Pakistan were one and the same in a union. That didn't deter the Muslim League in the slightest. Can't history repeat itself? _____________________________________________________________________________________________________________________ Con's remarks _____________________________________________________________________________________________________________________ Though there is religious violence now, casualties are far fewer than before... An extremely blunt and insensitive statement. It is appalling that Pro didn't take loss of property into account. Is the death of people the only standard against which my opponent measures violence? Even if current level of religious violence continues in the union, it is not a high rate for a country of almost 1.5 BILLION people. Another insensitive remark by Pro. Religious violence is bad, whether it is in a country of 1.5 billion people, or 1.5 million people. It is either there, or not there. It will still persist in the union, and that is bad enough. ---------------------------------------- India has proven itself to deal with insurgencies and continues to do so against the Naxalites. India has proven itself to deal TOO LITTLE, TOO LATE with insurgencies. HOW DOES PRO JUSTIFY THE TENS OF THOUSANDS KILLED IN THE 40 YEARS THE INDIAN GOVERNMENT TOOK TO COME UP WITH A VIABLE COURSE OF ACTION? ---------------------------------------- A Union would put an end to all the international disputes between India and Pakistan. Most definitely not, as I showed earlier. A UNION WOULD TURN THE INTERNATIONAL DISPUTES INTO INTER-STATE DISPUTES, nothing more. _____________________________________________________________________________________________________________________ My opponent has failed to even convincingly show how Pakistan and India can co-exist pecafully. PRO HASN'T EVEN GOTTEN TO THE SUBJECT OF SRI LANKA AND BANGLADESH'S CO-OPERATION. I await my opponent's closing statements in the final round.</td><td >Challenge accepted. I shall be taking the side of Con for this debate. Pro's resolution is that ALL FIVE countries, namely India, Pakistan, Bhutan, Nepal, Sri Lanka, must be united into one nation. Hence, in order to win, I have to prove that the union of the countries shall be detrimental in an overall sense, and hence the countries should remain separate. I shall now proceed to refute my opponent's arguments. (Note: text in underlined italics refers to direct quote(s) from Pro) ____________________________________________________________________________________________________________________ Rebuttals ____________________________________________________________________________________________________________________ there are Muslims in India who live as peacefully as Hindus or any other religion... The above statement is NOT accurate. India has a bloody history of violence against, or instigated by, Muslims. Examples: - 1983 Nellie massacre A six-hour massacre that took place in Assam. Estimates of the death toll are as high as 5000. The reason: growing resentment against largely muslim immigrants from Bangladesh. http://www.hindu.com... http://en.wikipedia.org... - 1992-93 Bombay riots Hindu-Muslim riots, that were followed by the 1993 Bombay blasts. These riots occurred due to the demolition of the Babri Mosque by Hindu nationalists. Official death toll is around 900. http://kractivist.wordpress.com... http://en.wikipedia.org...; - 2002 Gujarat riots A passenger train was set on fire by a crowd of Muslims. What followed was another Hindu-Muslim conflict. Death toll estimates are over 1000. http://en.wikipedia.org...; -------------------------------------- ...so why is there a separate Muslim country? For good reason. If these riots and massacres in the past are an indication of anything, it is that there is still hate brewing between the loyalist Hindu and Muslim factions, and that the existence of Muslims in India is definitely not peaceful. The Muslim League demanded independence from India because they felt that Muslims can never live freely in a nation that literally calls itself \"Hindustan\", which means land of the Hindus. --------------------------------------- ...India has many cultures yet they all live side by side with no problem. Once again, my opponent is wrong. To state that there is \"no problem\" between the people of many cultures in India is highly ignorant. Hindu-Muslim conflicts in India need no introduction. Apart from this, there have been conflicts between Muslims & Christians, Hindus & Christians, Muslims & Sikhs, Hindus & Sikhs, and even Muslims & Buddhists. http://www.e-ir.info... http://www.culturalsurvival.org... http://en.wikipedia.org... Cultural boycotts are still commonplace in many states in India. Though India puts up a front of being the most secular nation in the world, there is sizeable tension between cultural and ethnic groups. --------------------------------------- India, the closest thing in the present day to a united south Asia, is doing well. I'm afraid Pro does not know India's current economic and political situation well enough. The country's current government is little more than a sham, being mired in multiple corruption scams. The resentment among people has gone so far that common men are forming political parties to seize control of the nation. At present, India is NOT doing well. http://articles.economictimes.indiatimes.com... ...(India) has the world's third largest and disputably one of the strongest army in the world It is true that India has a large army. But numbers don't mean strength. In all their wars, India has never once managed to win convincingly against Pakistan, whose numbers have always been far inferior to their own. The Indian army does have capable generals and brave soldiers. But the ugly truth is that it isn't getting enough support from the government. http://www.csmonitor.com...(page)/2 --------------------------------------- If all the countries unite then certainly all of the problems listed above will be minimized. I find this statement false. My reasons are as follows: - India, which clearly seems to be the leader in Pro's proposed union, has more than enough problems of its own. - Pakistan, by uniting with India, brings the danger of many parts India themselves being a target of terrorist attacks. There is no guarantee of the attacks on Pakistan reducing, but the probability of India being attacked more often definitely increases. - Accommodating the economically weaker countries of Sri Lanka, Nepal and Bhutan is only going to put a larger strain on India's own economy, which, at present, is anything but stable. - Many (although not all) Muslims in Pakistan and Bangladesh are well known to harbour hatred and ill-will against the Hindu population of India. The feeling is mutual among the Hindus as well. A union raises the possibility of communal violence. - Sri Lanka hates the Indian state of Tamil Nadu, and Tamil Nadu hates Sri Lanka. I know that Pro assumed all countries agreeing to the union, but it seems HIGHLY UNLIKELY at this point. ...fear of terrorism would be lower and the economy will be better The fear of terrorism will definitely not be lower, as I stated earlier. As goes for the economy, it will only be better for the weaker nations, whereas India will suffer. Overall, the situation remains the same. The average standard of living will remain unchanged. ____________________________________________________________________________________________________________________ What Pro is trying to propose can be compared to dumping sewage in a river. The sewage does become cleaner than, but the river gets polluted as well. It is nothing more than a process of dilution, which my opponent does not seem to have noticed. I eagerly await Pro's response in round 2.</td></tr></table><span style=\"font-weight: bold;\">clr</span><br><span>Pro.<br>I have nothing else to say.</span><hr><span style=\"font-weight: bold;\">supmmd</span><br><span>Compared to the thousand or more that died in the past riots, the Muzaffarnagar violence resulted in only 63 deaths.<br>Can history repeat itself?</span></p>"
      ]
     },
     "metadata": {},
     "output_type": "display_data"
    }
   ],
   "source": [
    "rand_task1()"
   ]
  },
  {
   "cell_type": "code",
   "execution_count": 86,
   "id": "41374b1c-4895-425e-86db-b8d03c0f6556",
   "metadata": {
    "collapsed": true,
    "execution": {
     "iopub.execute_input": "2021-11-02T13:44:58.685953Z",
     "iopub.status.busy": "2021-11-02T13:44:58.685953Z",
     "iopub.status.idle": "2021-11-02T13:44:58.726983Z",
     "shell.execute_reply": "2021-11-02T13:44:58.716999Z",
     "shell.execute_reply.started": "2021-11-02T13:44:58.685953Z"
    },
    "jupyter": {
     "outputs_hidden": true
    },
    "tags": []
   },
   "outputs": [
    {
     "name": "stdout",
     "output_type": "stream",
     "text": [
      "nuclear_energy Sb4dd79cd-Ae87a8038\n"
     ]
    },
    {
     "data": {
      "text/html": [
       "<p style=\"text-align:left\">nuclear_energy</p><div style=\"border: solid black 1px; padding-left: 5px\"><table><tr><td >Resolved: The United States federal government should increase investment in nuclear power sources. I am representing the affirmative position of the resolution. I will be claming that the USFG does need to increase investment in nuclear energy. Definitions: 1) Investment--a contribution of something such as time, energy, or effort to an activity, project, or undertaking, in the expectation of a benefit (source: MicrosoftWorks dictionary) 2) Nuclear power--the use of sustained nuclear fission to generate heat and do useful work, most of the time with the goal of producing commercially servicable electricity. Contentions: 1) Nuclear energy is a more environmentally friendly alternative to other, more conventional means of producing electricity. 2) Increased investment into nuclear energy would alleviate the United States' dependence on imported, environmentally unfriendly, petroleum-based energy sources. 3) Nuclear energy is a scientifically proven, known energy source that is \"ready for market\". Explanation of Contentions: 1) Nuclear energy is a more environmentally friendly alternative to other, more conventional means of producing electricity. Nuclear energy is among one of the world's cleanest energy sources. It produces very low levels of CO2 emissions and, during its lifetime, is comparable to so called \"green\" energy sources such as wind, solar, and hydro emissions [1]. The most up-to-date study, conducted at the Forsmark nuclear power facility in Sweden during 2005, shows that the plant was producing only 3.10 grams of CO2 per kilowatt per hour [1]. In contrast, information gathered from the Department of Energy and Environmental Protection Agency shows that the average coal power plant in the United States during the year 2000 produced 2.095 pounds of CO2 per kilowatt per hour [2]. A simple mathematical calculation revels that nuclear power, on average, produces almost 97.8 percent less carbon dioxide emissions than coal power. Thus, nuclear power would be beneficial because it would lower carbon emissions consequently increasing air quality and curtailing this nation's contribution to global climate change. 2) Increased investment into nuclear energy would alleviate the United States' dependence on imported, environmentally unfriendly, petroleum-based energy sources. Currently, oil is the lifeblood of the American economy. Oil supplies 40 percent of the United States' total energy demands [3]. Today, nearly 60 percent of the oil utilized and consumed in the United States is imported from foreign countries [4]. Using middle school math, we can concur that 24 percent (nearly one-fourth) of our energy is supplied by oil drilled, refined, or otherwise produced in foreign countries. Noting the current geopolitical situation and the worldwide increase in oil demand, relying on foreign oil does not seem like a viable long-term economic strategy for the United States. Thus, the United States should be investing in other sources that can supply our nation with the energy its needs for continued global economic dominance. Nuclear power is the energy source that is best positioned to take that role as it has become one of the leading energy sources in the world. For example, nearly 75% of all energy consumed in France is produced by nuclear sources [5]. Not only has nuclear energy provided the French people with energy security, it has lead France to become a net energy exporter as it gains over 3 billion Euros (4,312,800,000 USD) from exporting nuclear power and nuclear power technology [5]. As it is clear to see in the precedent set by the French government, nuclear energy is a sustainable long-term energy source that can lessen a nation's dependence on unreliable, foreign-energy sources. 3) Nuclear energy is a scientifically proven, known energy source that is \"ready for market\". Unlike wind and solar energy, nuclear energy is a proven energy source that has been in use since 1942 [6]. Thus, the wide-scale adoption of nuclear energy in the United States would require very little additional research and development as most of the technologies to be used have already been formulated. Furthermore, the more widespread adoption of nuclear power in the United States would require no changes be made to the national power grid as it was constructed with nuclear energy in mind. In contrast, there are some questions about the practicality of wind, solar, and geothermal energy sources. I thank whoever shall accept this debate challenge in advance. Happy debating! Sources: [1] http://www.world-nuclear.org... [2] http://www.eia.gov... [3] http://www.energy.gov... [4] http://www.quoteoil.com... [5] http://www.world-nuclear.org... [6] http://en.wikipedia.org...</td><td >This is going to be a simple Pro Nuclear Energy vs Con Nuclear Energy. No specific resolution, just the broad subject of using nuclear energy. Burden of Proof - The BoP falls equally on both debaters to support and defend their arguments while refuting their opponent's. For example, Con can focus on negative effects to the environment, safety issues, or better alternatives rendering Nuclear obsolete, but Con cannot just disagree with everything Pro puts up (and vise versa). I will go ahead and present some definitions. Unless Con finds these definitions to be abusive, they are to be accepted. If Con finds them abusive, Con is free to present alternative definitions, but then it will be up to the voters to agree if my definitions are abusive or not. Nuclear energy (as it pertains to this debate) - The gathering of energy from nuclear fission or nuclear fusion to use in commercial purposes (such as electricity). Nuclear fission - A nuclear reaction in which a heavy nucleus splits spontaneously or on impact with another particle, with the release of energy. [1] Nuclear fusion - A nuclear reaction in which atomic nuclei of low atomic number fuse to form a heavier nucleus with the release of energy. [2] Con may present any additional definitions that they choose and may start debating in their R1, however, they are also free to pass it back to me to start in my R2. Additional definitions may be added as needed throughout the entire debate. [1] https://www.google.com...= [2] https://www.google.com...=</td><td >I will begin with my opponent's case and then present an alternative to nuclear energy. Opening statement: My opponent has produced some very impressive data on the efficiency of nuclear energy. Prima facie or first glance could easily sway a person to support nuclear energy. I vaguely recall having done rudimentary research on nuclear energy for a Lincoln-Douglas topic last fall. In fact, a conversation I had with our science department head revealed only one significant pitfall, what to do with the waste? My opponent has even identified dis-ads of nuclear waste and offered suggestions on the very subject of nuclear waste. If we dig deeper though, what are other concerns? Let's explore! 1) Effectiveness. At first glance the only disagreements I could identify were really nitpicky stuff. I could say that some of the water which became steam would inevitably evaporate and have to be replaced. I could even strengthen my opponent's defense by saying that the moving parts replacement schedule is likely very minimal. There is no shame in expanding Robert Fulton's use of steam even if it is an old idea. We still use wheels right? :o) There is no doubt that nuclear energy can offer power to communities. I, and the judges, are likely tired of semantical battles of topicality, that being said; much of my opponent's first point are stipulated and conceded. 2) Safety. This is a cause for concern. While technologically developed nations such as the U.S.A., the U.K., and France have operated plants for upwards of 60 years without serious incident, that does not make them immune to trouble. Many safeguards have been implemented since the 1950's to improve and upgrade the facilities. Yet, even superpowers such as the U.S. (3 mile island) and the former Soviet Union (Chernobyl) have had their share of growing pains. Most recently, another developed nation, Japan, experienced a calamity of catastrophic proportion. Are nuclear power plants compeletly safe? No. Now consider lesser developed nations that are seeking nuclear power, Iran and North Korea for example. Both are suspect for being politically unstable as well as using nuclear energy to develop nuclear weapons. Oversight can be a tricky thing when a more radical nation prefers not to be inspected or have other's watching over their shoulders as they attempt to develop energy, or secretly weaponry. This forces them to be sneaky, which may lead to shortcuts, which may lead to disaster. Security of nuclear facilities. There are high protocol, likely classified, to protect the integrity of nuclear facilities in developed nations. Unfortunately, the same cannot be said for less stable nations. Can anyone, with any certainty, verify the count of every spent rod or piece of weaponry from the the Former Soviet Union, especially after the breakup of the former into 15 separate and independent nations? I would have to say no. Further, what would prevent well organized and well funded terrorists from acquiring nuclear materials in lesser developed nations? This too eats away at the safety argument. An article I discovered addresses nuclear waste in a different light than that of my opponent. Like my opponent, it identfied waste that was short term and had reduced effects with proper handling and recycling. Also, like my opponent it identified longer term waste. However; the safety of the longer term waste was the compelling factor. It is quite dangerous, ecologically unfriendly, and can take an estimated 1000 years to decay. http://www.scienceclarified.com... These are a few \"what if\" or otherwise hypothetical scenarios that challenge nuclear energy safety as well as historical examples such as 3 mile island, Chernobyl, and Japan. While precautions and protocol do exist, they are far from foolproof, and are not necessarily as safe as my opponent would have us believe. http://www.nirs.org... 3) Costs. My opponent has demonstrated that nuclear energy does indeed exceed the effectiveness of fossil fuels. It's common knowledge and widely accepted that once established, nuclear is more logical than fossil. It appears to be cleaner in emissions, and uses fewer resources in producing more energy. At first glance, this seems to make perfect sense. This leads me to ask a question. Why then isn't everyone using nuclear energy then? A Smithsonian study showed that only approximately 16% of the worl'd energy is nuclear based. Since it is demonstrably more effective as shown by my opponent's CBA, why aren't most nations using it? Simply put, the necessary precautions make it cost prohibitive. Many African and Central American nations struggle to even provide basic necessities to their citizens. Citizens in African nations do not enjoy clean water, adequate food, clothing, or shelter. Haiti and Honduras don't even have a pot to piss in. In fact, many nations have substandard living conditions to include plumbing and basic sanitation. Constructing a nuclear power plant is not in their foreseeable future. My case: At first glance my alternative seems to be a reinvention of the wheel. There are alternatives to nuclear energy though. All of which can be done at a fraction of the cost of nuclear energy, and boast a much better safety record. HYDRO: Every nation does have rivers. Dams can be constructed, and power can be retrieved via hydro energy. SOLAR: Especially with so many \"experts\" verifying the existence of greenhouse gases and global warming, you would think that would open the door even wider for good ol' solar power. Yes the sun shines all over the earth! Yes, solar panels are expensive, and yes, at present they need to be rather large to capture this energy. Why can't every roof be a solar panel? This is worth research and development money! Opportunity is knocking! (For my beloved Israelis, I am offering triple mitzvah points if you discover it first) Who among us on this earth will be the first to develop more efficient solar power for all to enjoy? WIND: The wind blows. Meterologists have ways to track weather and determine the most strategic locations to place wind energy generators. KINETIC GENERATORS: Quite possibly the world's best kept secret! These puppies are built at a nominal cost, and run virtually clean, quiet, and very efficient. This is probably the better answer to the energy crisis. We (Collectively) have put boo-koodles of investment money into so many things. It makes sense to look into research for the large scale, big picture. http://www.homestandbygeneratorsystems.com... In closing: While nuclear energy is a better alternative than fossil fuels, it has yet to replace them. Why? It is both dangerous, and cost prohibitive. I am suggesting that nuclear energy research monies be diverted toward large scale research of kinetic generators. Thank you!</td></tr></table><span style=\"font-weight: bold;\">clr</span><br><span>The BoP falls on both debaters to support and defend their arguments.<br>Con is free to present alternative definitions if he finds them abusive, but it will be up to the voters to decide if my definitions are abusive or not.</span><hr><span style=\"font-weight: bold;\">supmmd</span><br><span>This will be a simple Pro Nuclear Energy vs Con Nuclear Energy.<br>They are free to give me any additional definitions that they choose, however, they are also free to give it back to me to debate in my R2.</span></p>"
      ]
     },
     "metadata": {},
     "output_type": "display_data"
    }
   ],
   "source": [
    "rand_task1()"
   ]
  },
  {
   "cell_type": "markdown",
   "id": "50203ecc-df7a-4060-9df4-5cd082639d80",
   "metadata": {},
   "source": [
    "# Create annotation files"
   ]
  },
  {
   "cell_type": "code",
   "execution_count": 26,
   "id": "b839fa42-cb5f-44a6-a0b4-d42bf17d2c21",
   "metadata": {
    "execution": {
     "iopub.execute_input": "2021-12-14T05:23:49.459909Z",
     "iopub.status.busy": "2021-12-14T05:23:49.459909Z",
     "iopub.status.idle": "2021-12-14T05:23:49.473918Z",
     "shell.execute_reply": "2021-12-14T05:23:49.472903Z",
     "shell.execute_reply.started": "2021-12-14T05:23:49.459909Z"
    },
    "tags": []
   },
   "outputs": [
    {
     "data": {
      "text/plain": [
       "'gay'"
      ]
     },
     "execution_count": 26,
     "metadata": {},
     "output_type": "execute_result"
    }
   ],
   "source": [
    "random_context_key = np.random.choice(list(context_and_ids.keys()))\n",
    "random_context_key"
   ]
  },
  {
   "cell_type": "code",
   "execution_count": 27,
   "id": "cc7689e9-e1f2-4d10-a2b2-d6b3ff34428c",
   "metadata": {
    "execution": {
     "iopub.execute_input": "2021-12-14T05:23:50.690556Z",
     "iopub.status.busy": "2021-12-14T05:23:50.690556Z",
     "iopub.status.idle": "2021-12-14T05:23:50.831296Z",
     "shell.execute_reply": "2021-12-14T05:23:50.830293Z",
     "shell.execute_reply.started": "2021-12-14T05:23:50.690556Z"
    },
    "tags": []
   },
   "outputs": [
    {
     "data": {
      "text/html": [
       "<div>\n",
       "<style scoped>\n",
       "    .dataframe tbody tr th:only-of-type {\n",
       "        vertical-align: middle;\n",
       "    }\n",
       "\n",
       "    .dataframe tbody tr th {\n",
       "        vertical-align: top;\n",
       "    }\n",
       "\n",
       "    .dataframe thead th {\n",
       "        text-align: right;\n",
       "    }\n",
       "</style>\n",
       "<table border=\"1\" class=\"dataframe\">\n",
       "  <thead>\n",
       "    <tr style=\"text-align: right;\">\n",
       "      <th></th>\n",
       "      <th>argument1</th>\n",
       "      <th>argument2</th>\n",
       "      <th>argument3</th>\n",
       "      <th>meta</th>\n",
       "    </tr>\n",
       "  </thead>\n",
       "  <tbody>\n",
       "    <tr>\n",
       "      <th>0</th>\n",
       "      <td>S847e73c4-A5ccb0c9f</td>\n",
       "      <td>S1d71c53c-A5431b16</td>\n",
       "      <td>S1d71c55b-A6ddc32f7</td>\n",
       "      <td>NaN</td>\n",
       "    </tr>\n",
       "    <tr>\n",
       "      <th>1</th>\n",
       "      <td>Oh man, this is a five-round debate. Your sour...</td>\n",
       "      <td>Hello, I don't think that there is so much hea...</td>\n",
       "      <td>Gays.... ya or nay. I say nay as in the flambo...</td>\n",
       "      <td>NaN</td>\n",
       "    </tr>\n",
       "    <tr>\n",
       "      <th>2</th>\n",
       "      <td>Snippet A</td>\n",
       "      <td>My friends say that it depends on the health o...</td>\n",
       "      <td>---</td>\n",
       "      <td>UzFkNzFjNTNjLUE1NDMxYjE2K2dheStjbHI=</td>\n",
       "    </tr>\n",
       "    <tr>\n",
       "      <th>3</th>\n",
       "      <td></td>\n",
       "      <td></td>\n",
       "      <td></td>\n",
       "      <td>NaN</td>\n",
       "    </tr>\n",
       "    <tr>\n",
       "      <th>4</th>\n",
       "      <td>----------------------------------------------...</td>\n",
       "      <td>----------------------------------------------...</td>\n",
       "      <td>----------------------------------------------...</td>\n",
       "      <td>NaN</td>\n",
       "    </tr>\n",
       "    <tr>\n",
       "      <th>5</th>\n",
       "      <td>Snippet B</td>\n",
       "      <td>If there is any gay people out there reading t...</td>\n",
       "      <td>---</td>\n",
       "      <td>UzFkNzFjNTNjLUE1NDMxYjE2K2dheStzdXBtbWQ=</td>\n",
       "    </tr>\n",
       "    <tr>\n",
       "      <th>6</th>\n",
       "      <td></td>\n",
       "      <td></td>\n",
       "      <td></td>\n",
       "      <td>NaN</td>\n",
       "    </tr>\n",
       "    <tr>\n",
       "      <th>7</th>\n",
       "      <td>----------------------------------------------...</td>\n",
       "      <td>----------------------------------------------...</td>\n",
       "      <td>----------------------------------------------...</td>\n",
       "      <td>NaN</td>\n",
       "    </tr>\n",
       "    <tr>\n",
       "      <th>8</th>\n",
       "      <td>Snippet C</td>\n",
       "      <td>I don't believe God hates gay people because t...</td>\n",
       "      <td>---</td>\n",
       "      <td>UzFkNzFjNTNjLUE1NDMxYjE2K2dheStiYXNlbGluZQ==</td>\n",
       "    </tr>\n",
       "    <tr>\n",
       "      <th>9</th>\n",
       "      <td></td>\n",
       "      <td></td>\n",
       "      <td></td>\n",
       "      <td>NaN</td>\n",
       "    </tr>\n",
       "    <tr>\n",
       "      <th>10</th>\n",
       "      <td>'=============================================...</td>\n",
       "      <td>'=============================================...</td>\n",
       "      <td>'=============================================...</td>\n",
       "      <td>NaN</td>\n",
       "    </tr>\n",
       "  </tbody>\n",
       "</table>\n",
       "</div>"
      ],
      "text/plain": [
       "                                            argument1  \\\n",
       "0                                 S847e73c4-A5ccb0c9f   \n",
       "1   Oh man, this is a five-round debate. Your sour...   \n",
       "2                                           Snippet A   \n",
       "3                                                       \n",
       "4   ----------------------------------------------...   \n",
       "5                                           Snippet B   \n",
       "6                                                       \n",
       "7   ----------------------------------------------...   \n",
       "8                                           Snippet C   \n",
       "9                                                       \n",
       "10  '=============================================...   \n",
       "\n",
       "                                            argument2  \\\n",
       "0                                  S1d71c53c-A5431b16   \n",
       "1   Hello, I don't think that there is so much hea...   \n",
       "2   My friends say that it depends on the health o...   \n",
       "3                                                       \n",
       "4   ----------------------------------------------...   \n",
       "5   If there is any gay people out there reading t...   \n",
       "6                                                       \n",
       "7   ----------------------------------------------...   \n",
       "8   I don't believe God hates gay people because t...   \n",
       "9                                                       \n",
       "10  '=============================================...   \n",
       "\n",
       "                                            argument3  \\\n",
       "0                                 S1d71c55b-A6ddc32f7   \n",
       "1   Gays.... ya or nay. I say nay as in the flambo...   \n",
       "2                                                 ---   \n",
       "3                                                       \n",
       "4   ----------------------------------------------...   \n",
       "5                                                 ---   \n",
       "6                                                       \n",
       "7   ----------------------------------------------...   \n",
       "8                                                 ---   \n",
       "9                                                       \n",
       "10  '=============================================...   \n",
       "\n",
       "                                            meta  \n",
       "0                                            NaN  \n",
       "1                                            NaN  \n",
       "2           UzFkNzFjNTNjLUE1NDMxYjE2K2dheStjbHI=  \n",
       "3                                            NaN  \n",
       "4                                            NaN  \n",
       "5       UzFkNzFjNTNjLUE1NDMxYjE2K2dheStzdXBtbWQ=  \n",
       "6                                            NaN  \n",
       "7                                            NaN  \n",
       "8   UzFkNzFjNTNjLUE1NDMxYjE2K2dheStiYXNlbGluZQ==  \n",
       "9                                            NaN  \n",
       "10                                           NaN  "
      ]
     },
     "execution_count": 27,
     "metadata": {},
     "output_type": "execute_result"
    }
   ],
   "source": [
    "def inst_task1(context_key, save=True):\n",
    "    ft_arguments = [a for a in full_text if a['arg_id'] in context_and_ids[context_key]]\n",
    "    #print(ft_arguments)\n",
    "    records = [\n",
    "        {\n",
    "        'argument1': ft_arguments[0]['arg_id'],\n",
    "        'argument2': ft_arguments[1]['arg_id'],\n",
    "        'argument3': ft_arguments[2]['arg_id'],\n",
    "        },\n",
    "        {\n",
    "        'argument1': ft_arguments[0]['text'],\n",
    "        'argument2': ft_arguments[1]['text'],\n",
    "        'argument3': ft_arguments[2]['text'],\n",
    "        }\n",
    "    ]\n",
    "    \n",
    "    random_arg_id = np.random.choice(context_and_ids[context_key])\n",
    "    clr = [a for a in clr_predictions if a['arg_id'] == random_arg_id and a['query']==context_key][0]\n",
    "    records.extend([\n",
    "        {\n",
    "        'argument1': 'Snippet A',\n",
    "        'argument2': clr[\"paraphrased_1\"][0] + ' ' + clr[\"paraphrased_2\"][0],\n",
    "        'argument3': '---',\n",
    "        'meta': clr['snippet_id']\n",
    "        },\n",
    "        {\n",
    "        'argument1': '',\n",
    "        'argument2': '',\n",
    "        'argument3': '',\n",
    "        },\n",
    "        {\n",
    "        'argument1': \"-\" * 50,\n",
    "        'argument2': \"-\" * 50,\n",
    "        'argument3': \"-\" * 50,\n",
    "        }        \n",
    "    ])\n",
    "    \n",
    "    supmmd = [a for a in supmmd_predictions if a['arg_id'] == random_arg_id and a['query']==context_key][0]\n",
    "    records.extend([\n",
    "        {\n",
    "        'argument1': 'Snippet B',\n",
    "        'argument2': supmmd[\"paraphrased_1\"][0] + ' ' + supmmd[\"paraphrased_2\"][0],\n",
    "        'argument3': '---',\n",
    "        'meta': supmmd['snippet_id']\n",
    "        },\n",
    "        {\n",
    "        'argument1': '',\n",
    "        'argument2': '',\n",
    "        'argument3': '',\n",
    "        },\n",
    "        {\n",
    "        'argument1': \"-\" * 50,\n",
    "        'argument2': \"-\" * 50,\n",
    "        'argument3': \"-\" * 50,\n",
    "        }        \n",
    "    ])\n",
    "    \n",
    "    baseline = [a for a in baseline_predictions if a['arg_id'] == random_arg_id and a['query']==context_key][0]\n",
    "    records.extend([\n",
    "        {\n",
    "        'argument1': 'Snippet C',\n",
    "        'argument2': baseline[\"paraphrased_1\"][0] + ' ' + baseline[\"paraphrased_2\"][0],\n",
    "        'argument3': '---',\n",
    "        'meta': baseline['snippet_id']\n",
    "        },\n",
    "        {\n",
    "        'argument1': '',\n",
    "        'argument2': '',\n",
    "        'argument3': '',\n",
    "        }\n",
    "    ])\n",
    "    \n",
    "    records.extend([\n",
    "        {\n",
    "        'argument1': \"'\"+ (\"=\" * 50),\n",
    "        'argument2': \"'\"+ (\"=\" * 50),\n",
    "        'argument3': \"'\"+ (\"=\" * 50),\n",
    "        },\n",
    "    ])\n",
    "    \n",
    "    df = pd.DataFrame.from_records(records)\n",
    "    if save:\n",
    "        with pd.ExcelWriter(\"path_to_file.xlsx\", engine='xlsxwriter') as writer:\n",
    "            sheetname='sheet 1'\n",
    "            df.to_excel(writer, index=False, sheet_name=sheetname)\n",
    "            form = writer.book.add_format()\n",
    "            form.set_text_wrap()\n",
    "            form.set_align('left')\n",
    "            form.set_align('top')\n",
    "\n",
    "            worksheet = writer.sheets[sheetname]  # pull worksheet object\n",
    "            for idx, col in enumerate(df):  # loop through all columns\n",
    "                series = df[col]\n",
    "                max_len = 80\n",
    "                worksheet.set_column(idx, idx, max_len, form)  # set column width\n",
    "            #writer.save()\n",
    "\n",
    "    return df\n",
    "        \n",
    "inst_task1(random_context_key)"
   ]
  },
  {
   "cell_type": "code",
   "execution_count": 28,
   "id": "fbe11769-313d-485a-b754-c694dcf897a0",
   "metadata": {
    "execution": {
     "iopub.execute_input": "2021-12-14T05:23:55.250053Z",
     "iopub.status.busy": "2021-12-14T05:23:55.249057Z",
     "iopub.status.idle": "2021-12-14T05:23:57.629153Z",
     "shell.execute_reply": "2021-12-14T05:23:57.628150Z",
     "shell.execute_reply.started": "2021-12-14T05:23:55.250053Z"
    },
    "tags": []
   },
   "outputs": [],
   "source": [
    "dfs = list()\n",
    "for k in list(context_and_ids.keys()):\n",
    "    dfs.append(inst_task1(k))"
   ]
  },
  {
   "cell_type": "code",
   "execution_count": 43,
   "id": "f7012407-3cac-44c2-ab3d-766528edbf16",
   "metadata": {
    "execution": {
     "iopub.execute_input": "2021-11-05T07:11:43.684383Z",
     "iopub.status.busy": "2021-11-05T07:11:43.684383Z",
     "iopub.status.idle": "2021-11-05T07:11:43.711825Z",
     "shell.execute_reply": "2021-11-05T07:11:43.711825Z",
     "shell.execute_reply.started": "2021-11-05T07:11:43.684383Z"
    },
    "tags": []
   },
   "outputs": [
    {
     "data": {
      "text/plain": [
       "array([[0, 1, 2, 3, 4],\n",
       "       [5, 6, 7, 8, 9]])"
      ]
     },
     "execution_count": 43,
     "metadata": {},
     "output_type": "execute_result"
    }
   ],
   "source": [
    "np.reshape([0,1,2,3,4,5,6,7,8,9], (2,5))"
   ]
  },
  {
   "cell_type": "code",
   "execution_count": 27,
   "id": "1d2ee887-168f-4fd6-8257-d3bb051cf4a8",
   "metadata": {
    "execution": {
     "iopub.execute_input": "2021-11-09T11:31:28.764867Z",
     "iopub.status.busy": "2021-11-09T11:31:28.764867Z",
     "iopub.status.idle": "2021-11-09T11:31:28.794930Z",
     "shell.execute_reply": "2021-11-09T11:31:28.783892Z",
     "shell.execute_reply.started": "2021-11-09T11:31:28.764867Z"
    },
    "tags": []
   },
   "outputs": [],
   "source": [
    "new_dfs = list()\n",
    "for i in range(10):\n",
    "    new_dfs.append(dfs[i:i+5])"
   ]
  },
  {
   "cell_type": "code",
   "execution_count": 28,
   "id": "86a8be25-4e70-450a-9359-2b78a0da674d",
   "metadata": {
    "execution": {
     "iopub.execute_input": "2021-11-09T11:31:29.874439Z",
     "iopub.status.busy": "2021-11-09T11:31:29.874439Z",
     "iopub.status.idle": "2021-11-09T11:31:30.096692Z",
     "shell.execute_reply": "2021-11-09T11:31:30.095716Z",
     "shell.execute_reply.started": "2021-11-09T11:31:29.874439Z"
    },
    "tags": []
   },
   "outputs": [],
   "source": [
    "with pd.ExcelWriter(\"task1.xlsx\", engine='xlsxwriter') as writer:\n",
    "    for idx, dfs_ in enumerate(new_dfs):\n",
    "        df = pd.concat(dfs_, axis=0)\n",
    "        sheetname = f'sheet {idx}'\n",
    "        df.to_excel(writer, index=False, sheet_name=sheetname)\n",
    "        form = writer.book.add_format()\n",
    "        form.set_text_wrap()\n",
    "        form.set_align('left')\n",
    "        form.set_align('top')\n",
    "\n",
    "        worksheet = writer.sheets[sheetname]  # pull worksheet object\n",
    "        for idx, col in enumerate(df):  # loop through all columns\n",
    "            series = df[col]\n",
    "            max_len = 80\n",
    "            if idx < 3:\n",
    "                worksheet.set_column(idx, idx, max_len, form)  # set column width\n",
    "            else:\n",
    "                worksheet.set_column(idx, idx, 5)  # set column width"
   ]
  },
  {
   "cell_type": "code",
   "execution_count": 18,
   "id": "e8fd379f-7996-40b3-aac8-d2005ce00875",
   "metadata": {
    "execution": {
     "iopub.execute_input": "2021-11-09T11:20:33.129656Z",
     "iopub.status.busy": "2021-11-09T11:20:33.129656Z",
     "iopub.status.idle": "2021-11-09T11:20:33.153170Z",
     "shell.execute_reply": "2021-11-09T11:20:33.144177Z",
     "shell.execute_reply.started": "2021-11-09T11:20:33.129656Z"
    },
    "tags": []
   },
   "outputs": [
    {
     "name": "stdout",
     "output_type": "stream",
     "text": [
      "0 argument1\n",
      "1 argument2\n",
      "2 argument3\n",
      "3 meta\n"
     ]
    }
   ],
   "source": [
    "for idx, col in enumerate(df):\n",
    "    print(idx, col)"
   ]
  },
  {
   "cell_type": "code",
   "execution_count": 39,
   "id": "1f6a20c3-99ff-4ac1-b495-8259795b0a9f",
   "metadata": {
    "execution": {
     "iopub.execute_input": "2021-12-14T05:29:34.047602Z",
     "iopub.status.busy": "2021-12-14T05:29:34.047602Z",
     "iopub.status.idle": "2021-12-14T05:29:34.329735Z",
     "shell.execute_reply": "2021-12-14T05:29:34.328766Z",
     "shell.execute_reply.started": "2021-12-14T05:29:34.047602Z"
    },
    "tags": []
   },
   "outputs": [],
   "source": [
    "dataframes = list()\n",
    "for context_key in context_and_ids.keys():\n",
    "    #ft_arguments = [a for a in full_text if a['arg_id'] in context_and_ids[context_key]]\n",
    "    clr = np.random.choice([a for a in clr_predictions if a['arg_id'] in context_and_ids[context_key] and a['query']==context_key])\n",
    "    supmmd = np.random.choice([a for a in supmmd_predictions if a['arg_id'] in context_and_ids[context_key] and a['query']==context_key])\n",
    "    baseline = np.random.choice([a for a in baseline_predictions if a['arg_id'] in context_and_ids[context_key] and a['query']==context_key])\n",
    "    \n",
    "    records = ([\n",
    "        {\n",
    "            'Snippet A': clr[\"snippet_id\"],\n",
    "            'Snippet B': supmmd[\"snippet_id\"],\n",
    "            'Snippet C': baseline[\"snippet_id\"],\n",
    "        },\n",
    "        {\n",
    "            'Snippet A': clr[\"paraphrased_1\"][0] + ' ' + clr[\"paraphrased_2\"][0],\n",
    "            'Snippet B': supmmd[\"paraphrased_1\"][0] + ' ' + supmmd[\"paraphrased_2\"][0],\n",
    "            'Snippet C': baseline[\"paraphrased_1\"][0] + ' ' + baseline[\"paraphrased_2\"][0],\n",
    "        },\n",
    "        {\n",
    "            'Snippet A': 'Diversity score:',\n",
    "            'Snippet B': '',\n",
    "            'Snippet C': '---',\n",
    "        },\n",
    "        {\n",
    "            'Snippet A': \"'\"+ (\"=\" * 50),\n",
    "            'Snippet B': \"'\"+ (\"=\" * 50),\n",
    "            'Snippet C': \"'\"+ (\"=\" * 50),\n",
    "        }\n",
    "    ])\n",
    "    dataframes.append(pd.DataFrame.from_records(records))\n",
    "\n",
    "dfs = list()\n",
    "for i in range(6):\n",
    "    dfs.append(dataframes[i:i+25])\n",
    "    \n",
    "with pd.ExcelWriter(\"task2.xlsx\", engine='xlsxwriter') as writer:\n",
    "    for idx, dfs_ in enumerate(dfs):\n",
    "        df = pd.concat(dfs_, axis=0)\n",
    "        sheetname = f'sheet {idx}'\n",
    "        df.to_excel(writer, index=False, sheet_name=sheetname)\n",
    "        form = writer.book.add_format()\n",
    "        form.set_text_wrap()\n",
    "        form.set_align('left')\n",
    "        form.set_align('top')\n",
    "\n",
    "        worksheet = writer.sheets[sheetname]  # pull worksheet object\n",
    "        for idx, col in enumerate(df):  # loop through all columns\n",
    "            series = df[col]\n",
    "            max_len = 80\n",
    "            worksheet.set_column(idx, idx, max_len, form)  # set column width"
   ]
  },
  {
   "cell_type": "code",
   "execution_count": 38,
   "id": "67139e5f-7147-454d-b9af-6bb770ea78fb",
   "metadata": {
    "execution": {
     "iopub.execute_input": "2021-12-14T05:28:47.520321Z",
     "iopub.status.busy": "2021-12-14T05:28:47.519306Z",
     "iopub.status.idle": "2021-12-14T05:28:47.665551Z",
     "shell.execute_reply": "2021-12-14T05:28:47.664551Z",
     "shell.execute_reply.started": "2021-12-14T05:28:47.519306Z"
    },
    "tags": []
   },
   "outputs": [],
   "source": [
    "dataframes = list()\n",
    "for context_key in context_and_ids.keys():\n",
    "    #ft_arguments = [a for a in full_text if a['arg_id'] in context_and_ids[context_key]]\n",
    "    clr = np.random.choice([a for a in clr_predictions if a['arg_id'] in context_and_ids[context_key] and a['query']==context_key])\n",
    "    supmmd = np.random.choice([a for a in supmmd_predictions if a['arg_id'] in context_and_ids[context_key] and a['query']==context_key])\n",
    "    baseline = np.random.choice([a for a in baseline_predictions if a['arg_id'] in context_and_ids[context_key] and a['query']==context_key])\n",
    "    \n",
    "    records = ([\n",
    "        {\n",
    "            'Snippet A': clr[\"snippet_id\"],\n",
    "            'Snippet B': supmmd[\"snippet_id\"],\n",
    "            'Snippet C': baseline[\"snippet_id\"],\n",
    "        },\n",
    "        {\n",
    "            'Snippet A': clr[\"paraphrased_1\"][0] + ' ' + clr[\"paraphrased_2\"][0],\n",
    "            'Snippet B': supmmd[\"paraphrased_1\"][0] + ' ' + supmmd[\"paraphrased_2\"][0],\n",
    "            'Snippet C': baseline[\"paraphrased_1\"][0] + ' ' + baseline[\"paraphrased_2\"][0],\n",
    "        },\n",
    "        {\n",
    "            'Snippet A': 'Diversity score:',\n",
    "            'Snippet B': '',\n",
    "            'Snippet C': '---',\n",
    "        },\n",
    "        {\n",
    "            'Snippet A': \"'\"+ (\"=\" * 50),\n",
    "            'Snippet B': \"'\"+ (\"=\" * 50),\n",
    "            'Snippet C': \"'\"+ (\"=\" * 50),\n",
    "        }\n",
    "    ])\n",
    "    dataframes.append(pd.DataFrame.from_records(records))"
   ]
  },
  {
   "cell_type": "code",
   "execution_count": 35,
   "id": "3b545685-3034-4360-8955-5d29470e2f89",
   "metadata": {
    "execution": {
     "iopub.execute_input": "2021-12-14T05:28:23.802063Z",
     "iopub.status.busy": "2021-12-14T05:28:23.801022Z",
     "iopub.status.idle": "2021-12-14T05:28:23.817060Z",
     "shell.execute_reply": "2021-12-14T05:28:23.816077Z",
     "shell.execute_reply.started": "2021-12-14T05:28:23.802063Z"
    },
    "tags": []
   },
   "outputs": [
    {
     "data": {
      "text/html": [
       "<div>\n",
       "<style scoped>\n",
       "    .dataframe tbody tr th:only-of-type {\n",
       "        vertical-align: middle;\n",
       "    }\n",
       "\n",
       "    .dataframe tbody tr th {\n",
       "        vertical-align: top;\n",
       "    }\n",
       "\n",
       "    .dataframe thead th {\n",
       "        text-align: right;\n",
       "    }\n",
       "</style>\n",
       "<table border=\"1\" class=\"dataframe\">\n",
       "  <thead>\n",
       "    <tr style=\"text-align: right;\">\n",
       "      <th></th>\n",
       "      <th>Snippet A</th>\n",
       "      <th>Snippet B</th>\n",
       "      <th>Snippet C</th>\n",
       "    </tr>\n",
       "  </thead>\n",
       "  <tbody>\n",
       "    <tr>\n",
       "      <th>0</th>\n",
       "      <td>U2JiMDRhYmU2LUEyNTljMWRiZStpc19nb2xmX2Ffc3Bvcn...</td>\n",
       "      <td>U2VkYWIwODZhLUExYjJiNjllMitpc19nb2xmX2Ffc3Bvcn...</td>\n",
       "      <td>U2VkYWIwODZhLUExYjJiNjllMitpc19nb2xmX2Ffc3Bvcn...</td>\n",
       "    </tr>\n",
       "    <tr>\n",
       "      <th>1</th>\n",
       "      <td>I have no bad feelings towards you for favorin...</td>\n",
       "      <td>Golf is not a sport based on my definition. Yo...</td>\n",
       "      <td>Golfing is not vigorous activity. Golf is not ...</td>\n",
       "    </tr>\n",
       "    <tr>\n",
       "      <th>2</th>\n",
       "      <td>Diversity score:</td>\n",
       "      <td></td>\n",
       "      <td>---</td>\n",
       "    </tr>\n",
       "    <tr>\n",
       "      <th>3</th>\n",
       "      <td>'=============================================...</td>\n",
       "      <td>'=============================================...</td>\n",
       "      <td>'=============================================...</td>\n",
       "    </tr>\n",
       "  </tbody>\n",
       "</table>\n",
       "</div>"
      ],
      "text/plain": [
       "                                           Snippet A  \\\n",
       "0  U2JiMDRhYmU2LUEyNTljMWRiZStpc19nb2xmX2Ffc3Bvcn...   \n",
       "1  I have no bad feelings towards you for favorin...   \n",
       "2                                   Diversity score:   \n",
       "3  '=============================================...   \n",
       "\n",
       "                                           Snippet B  \\\n",
       "0  U2VkYWIwODZhLUExYjJiNjllMitpc19nb2xmX2Ffc3Bvcn...   \n",
       "1  Golf is not a sport based on my definition. Yo...   \n",
       "2                                                      \n",
       "3  '=============================================...   \n",
       "\n",
       "                                           Snippet C  \n",
       "0  U2VkYWIwODZhLUExYjJiNjllMitpc19nb2xmX2Ffc3Bvcn...  \n",
       "1  Golfing is not vigorous activity. Golf is not ...  \n",
       "2                                                ---  \n",
       "3  '=============================================...  "
      ]
     },
     "execution_count": 35,
     "metadata": {},
     "output_type": "execute_result"
    }
   ],
   "source": [
    "dataframes[0]"
   ]
  },
  {
   "cell_type": "code",
   "execution_count": null,
   "id": "51265396-15ab-4622-a236-bec04c13a4e9",
   "metadata": {},
   "outputs": [],
   "source": []
  },
  {
   "cell_type": "code",
   "execution_count": null,
   "id": "e664bbc0-9a41-4508-8f1a-45dd6b1dc12f",
   "metadata": {},
   "outputs": [],
   "source": []
  },
  {
   "cell_type": "code",
   "execution_count": 69,
   "id": "e26d22f5-76c9-4768-916d-0a9d5e5868da",
   "metadata": {
    "execution": {
     "iopub.execute_input": "2021-11-02T10:12:55.645066Z",
     "iopub.status.busy": "2021-11-02T10:12:55.645066Z",
     "iopub.status.idle": "2021-11-02T10:12:55.672261Z",
     "shell.execute_reply": "2021-11-02T10:12:55.668269Z",
     "shell.execute_reply.started": "2021-11-02T10:12:55.645066Z"
    },
    "tags": []
   },
   "outputs": [],
   "source": [
    "def print_arg(arg, hl=None):\n",
    "    html_str = f'<p style=\"text-align:right\">{arg[\"arg_id\"]}</p><div style=\"border: solid black 1px; padding-left: 5px\">'\n",
    "    for idx, s in enumerate(arg['sentences']):\n",
    "        if hl is None:\n",
    "            html_str += f'<span style=\"color:grey\">{idx+1:02d} </span><span style=\"width:50%; background-color:{\"yellow\" if s in arg[\"excerpt\"] else \"white\"}\">{s}</span><br>'\n",
    "        else:\n",
    "            html_str += f'<span style=\"color:grey\">{idx+1:02d} </span><span style=\"width:50%; background-color:{\"yellow\" if idx in hl else \"white\"}\">{s}</span><br>'\n",
    "    display_html(html_str+ '</div>', raw=True)\n",
    "    #return html_str+ '</div>'\n",
    "    \n",
    "def print_context(context):\n",
    "    html_str = f\"\"\"<table><tr><th style=\"text-align: center;\">clr</th><th style=\"text-align: center;\">supmmd</th></tr>\"\"\"\n",
    "    sa = supmmd_arg_contexts[context]\n",
    "    ca = clr_arg_contexts[context]\n",
    "    \n",
    "    for a in sa:\n",
    "        x = [arg for arg in ca if arg['arg_id'] == a['arg_id']][0]\n",
    "        html_str += f\"\"\"\n",
    "            <tr>\n",
    "                <td style=\"text-align: left;\">{print_arg(x, x.excerpt_indices)}</td>\n",
    "                <td style=\"text-align: left;\">{print_arg(a, a.excerpt_indices)}</td>\n",
    "            </tr\n",
    "        \"\"\"\n",
    "    display_html(html_str+'</table>', raw=True)"
   ]
  },
  {
   "cell_type": "code",
   "execution_count": 70,
   "id": "debda03e-6cc9-4872-be64-1f0029e948f4",
   "metadata": {
    "collapsed": true,
    "execution": {
     "iopub.execute_input": "2021-11-02T10:12:56.290052Z",
     "iopub.status.busy": "2021-11-02T10:12:56.289998Z",
     "iopub.status.idle": "2021-11-02T10:12:56.306978Z",
     "shell.execute_reply": "2021-11-02T10:12:56.306011Z",
     "shell.execute_reply.started": "2021-11-02T10:12:56.290052Z"
    },
    "jupyter": {
     "outputs_hidden": true
    },
    "tags": []
   },
   "outputs": [
    {
     "data": {
      "text/html": [
       "<p style=\"text-align:right\">Sd0e40cfa-Ab6191894</p><div style=\"border: solid black 1px; padding-left: 5px\"><span style=\"color:grey\">01 </span><span style=\"width:50%; background-color:white\">Please spare me your outrage.</span><br><span style=\"color:grey\">02 </span><span style=\"width:50%; background-color:white\">I'm tired of hearing the same old argument trotted out again and again.</span><br><span style=\"color:grey\">03 </span><span style=\"width:50%; background-color:white\">You said yourself that this round is for fcats [sic].</span><br><span style=\"color:grey\">04 </span><span style=\"width:50%; background-color:white\">Plain, empirical facts.</span><br><span style=\"color:grey\">05 </span><span style=\"width:50%; background-color:yellow\">You 'ABOTION in the eyes of god is hate you should never kill a creation of GOD i konw i would never kill my baby and neither should anyone else you need to love the baby or if you dont dont have kids .... ' I'm just going to dissect this and pull it apart.</span><br><span style=\"color:grey\">06 </span><span style=\"width:50%; background-color:white\">ABOTION in the eyes of god is hate' As I said above, the mind of 'God' is unknowable. you should never kill a creation of GOD ' You need to prove a 'God' exists before this argument approaches anything like validity. i konw i would never kill my baby' You really need to understand that not being born is not the same thing as killing, and that pretty well invalidates your whole argument for this round. neither should anyone else' You can't just go marching in and say 'Right, I think that abortion is wrong, now you go and stop having them.' you need to love the baby' Not disputing this, but this has no relevance to your argument 'or if you dont dont have kids ....' You are now doing nothing more than rambling.</span><br><span style=\"color:grey\">07 </span><span style=\"width:50%; background-color:yellow\">I challenge Con to now show why, in fact 'ABOTION in the eyes of god is hate'.</span><br><span style=\"color:grey\">08 </span><span style=\"width:50%; background-color:white\">And let's see if she can actually spell it right.</span><br></div>"
      ]
     },
     "metadata": {},
     "output_type": "display_data"
    },
    {
     "data": {
      "text/html": [
       "<p style=\"text-align:right\">Sd0e40cfa-A124008ac</p><div style=\"border: solid black 1px; padding-left: 5px\"><span style=\"color:grey\">01 </span><span style=\"width:50%; background-color:white\">Again, I will dissect my opponent's argument- in painstaking detail.</span><br><span style=\"color:grey\">02 </span><span style=\"width:50%; background-color:white\">Abotion to people is different not everyone thinks abortion is good and some people think it is' Correct. but to god it is not because you are killing something he made and put in the mother of the child' Again, you must first prove God exists for this argument to have any validity. and then the woman who doesn't want it and goes and kills it ' This is an unfair characterization, for the following reasons.</span><br><span style=\"color:grey\">03 </span><span style=\"width:50%; background-color:white\">Either the woman chooses to have sexual intercourse unprotected with a man or 2.</span><br><span style=\"color:grey\">04 </span><span style=\"width:50%; background-color:white\">The woman cannot have protected sex, therefore she did not choose to have the baby, or 3.</span><br><span style=\"color:grey\">05 </span><span style=\"width:50%; background-color:white\">The woman cannot afford the baby.</span><br><span style=\"color:grey\">06 </span><span style=\"width:50%; background-color:white\">Unrelated to the previous, that not being born is not the same as killing.</span><br><span style=\"color:grey\">07 </span><span style=\"width:50%; background-color:white\">Is bringing a child into the world, who will have a life of suffering fair?</span><br><span style=\"color:grey\">08 </span><span style=\"width:50%; background-color:yellow\">When you think of GOD you probley think what that is a mith but its not God makes every baby that is born You have now contradicted yourself.</span><br><span style=\"color:grey\">09 </span><span style=\"width:50%; background-color:yellow\">I quote from above in your round 3 argument 'you are killing something he made and put in the mother of the child'.</span><br><span style=\"color:grey\">10 </span><span style=\"width:50%; background-color:white\">Well, which is it?</span><br><span style=\"color:grey\">11 </span><span style=\"width:50%; background-color:white\">Does a God make babies, or does he not? less babys because woman think the best thing to do is abort that baby ' I see what you mean here, but this is irrelevant.</span><br><span style=\"color:grey\">12 </span><span style=\"width:50%; background-color:white\">I think the 2000 babies born every day in the UK puts the lie to this. its not the best thing to do when girl gets pregnet you have many options and most girls go for abotion ' In fact, most 'girls' go and have the baby any way, and then the baby is brought up in poverty, turns to crime, votes UKIP etc etc. but there is more then that you can put the baby up for adoption there are many couples who would love to adopt a baby' Well how about the third world countries, where most women have more than enough children to deal with. so ladies font think there is only one option you have many to choose from' Not true.</span><br><span style=\"color:grey\">13 </span><span style=\"width:50%; background-color:white\">In fact, because of people like you who refuse to give access to abortion there is a growing rate of teenage births, and education about abortion.</span><br><span style=\"color:grey\">14 </span><span style=\"width:50%; background-color:white\">You're welcome to take me up on my challenge to spell the subject matter right any time.</span><br></div>"
      ]
     },
     "metadata": {},
     "output_type": "display_data"
    },
    {
     "data": {
      "text/html": [
       "<p style=\"text-align:right\">Sea5d090a-Ac6f0a78e</p><div style=\"border: solid black 1px; padding-left: 5px\"><span style=\"color:grey\">01 </span><span style=\"width:50%; background-color:white\">I thank my opponent for starting this debate.</span><br><span style=\"color:grey\">02 </span><span style=\"width:50%; background-color:white\">With the failure of my opponent to post a contention for round one, I shall attempt to elucidate the resolution with definitions and contentions.</span><br><span style=\"color:grey\">03 </span><span style=\"width:50%; background-color:white\">The resolution states, Abotion is not a dead baby.</span><br><span style=\"color:grey\">04 </span><span style=\"width:50%; background-color:white\">(I assume abotion is supposed to be abortion, for my opponent stated the word 'abortion' in round 1) Abortion is in fact not a dead baby.</span><br><span style=\"color:grey\">05 </span><span style=\"width:50%; background-color:white\">Abortion is defined as any of various surgical methods for terminating a pregnancy.</span><br><span style=\"color:grey\">06 </span><span style=\"width:50%; background-color:white\">Because abortion is not a dead baby, my side (Pro) is supported by the statement.</span><br><span style=\"color:grey\">07 </span><span style=\"width:50%; background-color:white\">The resolution further states, Babies arent babies at the time of Abortions.</span><br><span style=\"color:grey\">08 </span><span style=\"width:50%; background-color:white\">Babies in fact are not recognized as babies at the time of abortion.</span><br><span style=\"color:grey\">09 </span><span style=\"width:50%; background-color:yellow\">A baby is defined as a newborn or very young child.</span><br><span style=\"color:grey\">10 </span><span style=\"width:50%; background-color:white\">Because a baby is classified as a newborn/very young child, that means a baby is out of the mother's womb, and since abortions only take place when the fetus is in the womb, I have shown that in fact the fetus is not known as a baby at the time of abortions.</span><br><span style=\"color:grey\">11 </span><span style=\"width:50%; background-color:white\">I believe I have cleared it up, but I would hope my opponent exemplifies her points further in the following round.</span><br><span style=\"color:grey\">12 </span><span style=\"width:50%; background-color:white\">People say that at the time of Abortions, that they are not yet babies This does not present an argument, so no rebuttal is necessary.</span><br><span style=\"color:grey\">13 </span><span style=\"width:50%; background-color:yellow\">I have shown the statements in the resolution to support my side.</span><br><span style=\"color:grey\">14 </span><span style=\"width:50%; background-color:white\">I urge a Pro vote.</span><br></div>"
      ]
     },
     "metadata": {},
     "output_type": "display_data"
    },
    {
     "data": {
      "text/html": [
       "<p style=\"text-align:right\">Sd0e40cfa-Acfa53560</p><div style=\"border: solid black 1px; padding-left: 5px\"><span style=\"color:grey\">01 </span><span style=\"width:50%; background-color:white\">OK, so I agree to abide by the rules of this debate set by my opponent, and I will comply, but first- Rebuttal 'but to us christian people' I will tackle this in a later round, as my security software will not let me research this further.</span><br><span style=\"color:grey\">02 </span><span style=\"width:50%; background-color:yellow\">to god' Assumptions needed A being, or power that is known as 'God' exists.</span><br><span style=\"color:grey\">03 </span><span style=\"width:50%; background-color:white\">Said being is omnipotent, omniscient etc.</span><br><span style=\"color:grey\">04 </span><span style=\"width:50%; background-color:yellow\">Now if this being is omniscient, it is impossible to know the mind of 'God'.</span><br><span style=\"color:grey\">05 </span><span style=\"width:50%; background-color:white\">Therefore, the statement made is illogical, and therfore untrue.</span><br><span style=\"color:grey\">06 </span><span style=\"width:50%; background-color:white\">Opinon It makes not the slightest shred of difference in this debate, but I am pro-choice for abortion, that means I am pro the woman having a choice to abort her baby.</span><br></div>"
      ]
     },
     "metadata": {},
     "output_type": "display_data"
    },
    {
     "data": {
      "text/html": [
       "<p style=\"text-align:right\">Sd0e40cfa-A57e6331f</p><div style=\"border: solid black 1px; padding-left: 5px\"><span style=\"color:grey\">01 </span><span style=\"width:50%; background-color:white\">So, summing up my opponent's arguments.</span><br><span style=\"color:grey\">02 </span><span style=\"width:50%; background-color:white\">You are killing something that god made.</span><br><span style=\"color:grey\">03 </span><span style=\"width:50%; background-color:white\">I then replied to that by saying a) You must first prove god exists. b) The mind of god is unknowable. c) Killing is not the same as not being born.</span><br><span style=\"color:grey\">04 </span><span style=\"width:50%; background-color:yellow\">People will think that abortion is the only way to go.</span><br><span style=\"color:grey\">05 </span><span style=\"width:50%; background-color:white\">I said that the very example of 2000 babies being born every day in the UK disproves that.</span><br><span style=\"color:grey\">06 </span><span style=\"width:50%; background-color:white\">Therefore, my opponent has made only 2 arguments, both of which have been conclusively rebutted, and therefore, as she made no mention of BoP, she is Pro, therefore I automatically win the debate because none of her arguments stand.</span><br><span style=\"color:grey\">07 </span><span style=\"width:50%; background-color:yellow\">(By the way, notice that my opponent went the whole debate without spelling abortion properly.)</span><br></div>"
      ]
     },
     "metadata": {},
     "output_type": "display_data"
    },
    {
     "data": {
      "text/html": [
       "<p style=\"text-align:right\">S86fd338d-A92bfbaa3</p><div style=\"border: solid black 1px; padding-left: 5px\"><span style=\"color:grey\">01 </span><span style=\"width:50%; background-color:white\">Con initiated and argued first.</span><br><span style=\"color:grey\">02 </span><span style=\"width:50%; background-color:yellow\">That's confusing, so I'll just remind people thateven though I'm refutingI am Pro.</span><br><span style=\"color:grey\">03 </span><span style=\"width:50%; background-color:white\">Con had the burden of proof, but he never really argued for the resolution.</span><br><span style=\"color:grey\">04 </span><span style=\"width:50%; background-color:white\">He didn't meet his burden of proof.</span><br><span style=\"color:grey\">05 </span><span style=\"width:50%; background-color:white\">Vote Pro.</span><br><span style=\"color:grey\">06 </span><span style=\"width:50%; background-color:yellow\">Even though I didn't have the burden of proof, I pointed out that there are times when abortion can solve a problem.</span><br><span style=\"color:grey\">07 </span><span style=\"width:50%; background-color:white\">Therefore, the resolution is defeated.</span><br><span style=\"color:grey\">08 </span><span style=\"width:50%; background-color:white\">Vote Pro.</span><br><span style=\"color:grey\">09 </span><span style=\"width:50%; background-color:white\">Con forfeited.</span><br></div>"
      ]
     },
     "metadata": {},
     "output_type": "display_data"
    },
    {
     "data": {
      "text/html": [
       "<p style=\"text-align:right\">S86fd338d-Af8c444e6</p><div style=\"border: solid black 1px; padding-left: 5px\"><span style=\"color:grey\">01 </span><span style=\"width:50%; background-color:yellow\">Firstly, it goes without saying that abortion is terrible procedure.</span><br><span style=\"color:grey\">02 </span><span style=\"width:50%; background-color:yellow\">I am personally against abortions, but I understand in some situations in which abortion maybe seen as an appropiate option.</span><br><span style=\"color:grey\">03 </span><span style=\"width:50%; background-color:white\">I am a firm believer in God all that goes with it, but in my case it's not so much a religion belief as it is a personal belief.</span><br><span style=\"color:grey\">04 </span><span style=\"width:50%; background-color:white\">I don't fully grasp the idea of harming an unborn soul because one would simply not want the responsibility.</span><br><span style=\"color:grey\">05 </span><span style=\"width:50%; background-color:white\">There are many other options as opposed to aborting that are also much healthier.</span><br><span style=\"color:grey\">06 </span><span style=\"width:50%; background-color:white\">As I have said many times before, To each their own.</span><br></div>"
      ]
     },
     "metadata": {},
     "output_type": "display_data"
    }
   ],
   "source": [
    "for a in [c for c in clr_predictions if c['query']=='abotion']:\n",
    "    print_arg(a)"
   ]
  }
 ],
 "metadata": {
  "kernelspec": {
   "display_name": "thesis",
   "language": "python",
   "name": "thesis"
  },
  "language_info": {
   "codemirror_mode": {
    "name": "ipython",
    "version": 3
   },
   "file_extension": ".py",
   "mimetype": "text/x-python",
   "name": "python",
   "nbconvert_exporter": "python",
   "pygments_lexer": "ipython3",
   "version": "3.7.10"
  }
 },
 "nbformat": 4,
 "nbformat_minor": 5
}
