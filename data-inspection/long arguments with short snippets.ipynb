{
 "cells": [
  {
   "cell_type": "code",
   "execution_count": 1,
   "id": "d4943b27-73b1-4566-9f6b-33194f9a36ce",
   "metadata": {
    "execution": {
     "iopub.execute_input": "2022-01-04T09:16:01.622039Z",
     "iopub.status.busy": "2022-01-04T09:16:01.621037Z",
     "iopub.status.idle": "2022-01-04T09:16:08.366641Z",
     "shell.execute_reply": "2022-01-04T09:16:08.365992Z",
     "shell.execute_reply.started": "2022-01-04T09:16:01.622039Z"
    },
    "tags": []
   },
   "outputs": [],
   "source": [
    "import numpy as np\n",
    "import pandas as pd\n",
    "import json\n",
    "import pickle\n",
    "import sys\n",
    "from typing import List\n",
    "from collections import namedtuple\n",
    "from tqdm import tqdm\n",
    "from sklearn.pipeline import Pipeline\n",
    "import matplotlib.pyplot as plt\n",
    "from nltk.tokenize import word_tokenize"
   ]
  },
  {
   "cell_type": "code",
   "execution_count": 2,
   "id": "0e4dad04-8680-4d1d-9290-db9c653d53fd",
   "metadata": {
    "execution": {
     "iopub.execute_input": "2022-01-04T09:16:08.371643Z",
     "iopub.status.busy": "2022-01-04T09:16:08.371643Z",
     "iopub.status.idle": "2022-01-04T09:16:17.217600Z",
     "shell.execute_reply": "2022-01-04T09:16:17.215858Z",
     "shell.execute_reply.started": "2022-01-04T09:16:08.371643Z"
    },
    "tags": []
   },
   "outputs": [
    {
     "name": "stderr",
     "output_type": "stream",
     "text": [
      "C:\\ProgramData\\Anaconda3\\envs\\thesis\\lib\\site-packages\\requests\\__init__.py:91: RequestsDependencyWarning: urllib3 (1.26.7) or chardet (4.0.0) doesn't match a supported version!\n",
      "  RequestsDependencyWarning)\n"
     ]
    }
   ],
   "source": [
    "paths = ['../mmd', '../shared', '../contra-lexrank']\n",
    "\n",
    "for p in paths:\n",
    "    if p not in sys.path:\n",
    "        sys.path.append(p)\n",
    "        \n",
    "from Argument import Argument\n",
    "from DataHandler import DataHandler\n",
    "from ArgumentativenessScorer import ArgumentativenessScorer\n",
    "from ContrastivenessScorer import ContrastivenessScorer\n",
    "from ContraLexRank import ContraLexRank\n",
    "from WordEmbeddingTransformer import WordEmbeddingTransformer\n",
    "from CentralityScorer import CentralityScorer\n",
    "from FeaturedArgument import FeaturedArgument\n",
    "from myutils import cosine_similarity"
   ]
  },
  {
   "cell_type": "markdown",
   "id": "732376df-de8f-4723-9a0b-1314c479dfc1",
   "metadata": {},
   "source": [
    "# Ansatz A"
   ]
  },
  {
   "cell_type": "code",
   "execution_count": 3,
   "id": "6a9e613e-91d2-45c3-815d-9f381f757771",
   "metadata": {
    "execution": {
     "iopub.execute_input": "2022-01-04T09:16:17.229595Z",
     "iopub.status.busy": "2022-01-04T09:16:17.229152Z",
     "iopub.status.idle": "2022-01-04T09:16:17.341770Z",
     "shell.execute_reply": "2022-01-04T09:16:17.340919Z",
     "shell.execute_reply.started": "2022-01-04T09:16:17.229595Z"
    },
    "tags": []
   },
   "outputs": [],
   "source": [
    "data = DataHandler()\n",
    "data.load_bin(r\"C:\\Users\\Jonas\\git\\thesis\\not-gitted\\argsme-crawled\\1632239915.4824035-4390-arguments-cleaned-test.pickle\")"
   ]
  },
  {
   "cell_type": "code",
   "execution_count": 4,
   "id": "6c5709c1-667b-42e5-aec1-e592f3c18366",
   "metadata": {
    "execution": {
     "iopub.execute_input": "2022-01-04T09:16:17.442681Z",
     "iopub.status.busy": "2022-01-04T09:16:17.442681Z",
     "iopub.status.idle": "2022-01-04T09:16:17.466602Z",
     "shell.execute_reply": "2022-01-04T09:16:17.465741Z",
     "shell.execute_reply.started": "2022-01-04T09:16:17.442681Z"
    },
    "tags": []
   },
   "outputs": [
    {
     "data": {
      "text/plain": [
       "False"
      ]
     },
     "execution_count": 4,
     "metadata": {},
     "output_type": "execute_result"
    }
   ],
   "source": [
    "data.validate()"
   ]
  },
  {
   "cell_type": "code",
   "execution_count": 5,
   "id": "c647eb54-8dc6-4a61-84f9-184038524417",
   "metadata": {
    "execution": {
     "iopub.execute_input": "2022-01-04T09:16:17.496566Z",
     "iopub.status.busy": "2022-01-04T09:16:17.495310Z",
     "iopub.status.idle": "2022-01-04T09:16:17.512812Z",
     "shell.execute_reply": "2022-01-04T09:16:17.511812Z",
     "shell.execute_reply.started": "2022-01-04T09:16:17.496566Z"
    },
    "tags": []
   },
   "outputs": [
    {
     "data": {
      "text/plain": [
       "530"
      ]
     },
     "execution_count": 5,
     "metadata": {},
     "output_type": "execute_result"
    }
   ],
   "source": [
    "keys = data.get_query_context_keys(data.get_arguments())\n",
    "len(keys)"
   ]
  },
  {
   "cell_type": "code",
   "execution_count": 6,
   "id": "f6fa1f10-39cf-4be4-9b87-587baf7e987d",
   "metadata": {
    "execution": {
     "iopub.execute_input": "2022-01-04T09:16:17.516815Z",
     "iopub.status.busy": "2022-01-04T09:16:17.516815Z",
     "iopub.status.idle": "2022-01-04T09:16:17.559368Z",
     "shell.execute_reply": "2022-01-04T09:16:17.558508Z",
     "shell.execute_reply.started": "2022-01-04T09:16:17.516815Z"
    },
    "tags": []
   },
   "outputs": [],
   "source": [
    "random_context_keys = np.random.choice(list(keys), size=10, replace=False)"
   ]
  },
  {
   "cell_type": "code",
   "execution_count": 7,
   "id": "3eab6584-2933-40b9-a9ed-f84c280feaa4",
   "metadata": {
    "execution": {
     "iopub.execute_input": "2022-01-04T09:16:17.565719Z",
     "iopub.status.busy": "2022-01-04T09:16:17.564821Z",
     "iopub.status.idle": "2022-01-04T09:16:17.589816Z",
     "shell.execute_reply": "2022-01-04T09:16:17.589193Z",
     "shell.execute_reply.started": "2022-01-04T09:16:17.565719Z"
    },
    "tags": []
   },
   "outputs": [],
   "source": [
    "subset_arguments = list()\n",
    "for k in random_context_keys:\n",
    "    subset_arguments.extend(DataHandler.get_query_context(data.get_arguments(), k))"
   ]
  },
  {
   "cell_type": "code",
   "execution_count": 8,
   "id": "06cd9b03-703e-41ca-85f2-198f52926081",
   "metadata": {
    "execution": {
     "iopub.execute_input": "2022-01-04T09:16:18.851588Z",
     "iopub.status.busy": "2022-01-04T09:16:18.851588Z",
     "iopub.status.idle": "2022-01-04T09:16:18.864671Z",
     "shell.execute_reply": "2022-01-04T09:16:18.863672Z",
     "shell.execute_reply.started": "2022-01-04T09:16:18.851588Z"
    },
    "tags": []
   },
   "outputs": [
    {
     "data": {
      "text/plain": [
       "82"
      ]
     },
     "execution_count": 8,
     "metadata": {},
     "output_type": "execute_result"
    }
   ],
   "source": [
    "len(subset_arguments)"
   ]
  },
  {
   "cell_type": "code",
   "execution_count": 9,
   "id": "2d6a5b24-abf4-4d36-bbaa-9c0bf5f3316b",
   "metadata": {
    "execution": {
     "iopub.execute_input": "2022-01-04T09:17:24.119412Z",
     "iopub.status.busy": "2022-01-04T09:17:24.119412Z",
     "iopub.status.idle": "2022-01-04T09:17:26.550679Z",
     "shell.execute_reply": "2022-01-04T09:17:26.549897Z",
     "shell.execute_reply.started": "2022-01-04T09:17:24.119412Z"
    },
    "tags": []
   },
   "outputs": [],
   "source": [
    "wet = WordEmbeddingTransformer()"
   ]
  },
  {
   "cell_type": "code",
   "execution_count": 10,
   "id": "466e548a-9c13-4dcd-9c42-d0cc7c8fed4f",
   "metadata": {
    "execution": {
     "iopub.execute_input": "2022-01-04T09:17:26.555676Z",
     "iopub.status.busy": "2022-01-04T09:17:26.555676Z",
     "iopub.status.idle": "2022-01-04T09:19:06.271960Z",
     "shell.execute_reply": "2022-01-04T09:19:06.270960Z",
     "shell.execute_reply.started": "2022-01-04T09:17:26.555676Z"
    },
    "tags": []
   },
   "outputs": [
    {
     "name": "stderr",
     "output_type": "stream",
     "text": [
      "100%|██████████████████████████████████████████████████████████████████████████████████| 82/82 [01:39<00:00,  1.22s/it]\n"
     ]
    }
   ],
   "source": [
    "embedded_arguments = wet.transform(subset_arguments)"
   ]
  },
  {
   "cell_type": "code",
   "execution_count": 12,
   "id": "8d858368-65c2-405c-a712-7f5e6793eb27",
   "metadata": {
    "execution": {
     "iopub.execute_input": "2022-01-04T09:35:40.894552Z",
     "iopub.status.busy": "2022-01-04T09:35:40.893552Z",
     "iopub.status.idle": "2022-01-04T09:35:40.911217Z",
     "shell.execute_reply": "2022-01-04T09:35:40.910333Z",
     "shell.execute_reply.started": "2022-01-04T09:35:40.893552Z"
    },
    "tags": []
   },
   "outputs": [
    {
     "data": {
      "text/plain": [
       "True"
      ]
     },
     "execution_count": 12,
     "metadata": {},
     "output_type": "execute_result"
    }
   ],
   "source": [
    "data = DataHandler(embedded_arguments)\n",
    "data.validate()"
   ]
  },
  {
   "cell_type": "code",
   "execution_count": null,
   "id": "757bbf1f-22c4-4c4a-8f9e-30eb3c05d8d1",
   "metadata": {
    "tags": []
   },
   "outputs": [],
   "source": [
    "pipeline = Pipeline(steps=[\n",
    "    ('argumentativeness', ArgumentativenessScorer(discourse_markers='../contra-lexrank/discourse-markers.txt', claim_lexicon='../contra-lexrank/ClaimLexicon.txt')),\n",
    "    ('contrastiveness', ContrastivenessScorer()),\n",
    "    ('centrality', CentralityScorer()),\n",
    "    ('clr', ContraLexRank(d_1=.8, d_2=.9, d_3=.7, limit=2)),\n",
    "])\n",
    "pipeline.predict(subset_arguments)"
   ]
  },
  {
   "cell_type": "code",
   "execution_count": 14,
   "id": "4a5f8f99-38d7-4031-84cc-1d21015f6fdb",
   "metadata": {
    "execution": {
     "iopub.execute_input": "2022-01-04T09:36:13.576982Z",
     "iopub.status.busy": "2022-01-04T09:36:13.576194Z",
     "iopub.status.idle": "2022-01-04T09:36:13.599601Z",
     "shell.execute_reply": "2022-01-04T09:36:13.598605Z",
     "shell.execute_reply.started": "2022-01-04T09:36:13.576982Z"
    },
    "tags": []
   },
   "outputs": [],
   "source": [
    "args = sorted(data.get_arguments(), key=lambda a: len(a.sentences))"
   ]
  },
  {
   "cell_type": "code",
   "execution_count": 15,
   "id": "002ff303-195c-490b-83da-fbcb3e5cede9",
   "metadata": {
    "execution": {
     "iopub.execute_input": "2022-01-04T09:36:15.136518Z",
     "iopub.status.busy": "2022-01-04T09:36:15.135877Z",
     "iopub.status.idle": "2022-01-04T09:36:15.154035Z",
     "shell.execute_reply": "2022-01-04T09:36:15.153037Z",
     "shell.execute_reply.started": "2022-01-04T09:36:15.136518Z"
    },
    "tags": []
   },
   "outputs": [
    {
     "data": {
      "text/plain": [
       "(3, 57)"
      ]
     },
     "execution_count": 15,
     "metadata": {},
     "output_type": "execute_result"
    }
   ],
   "source": [
    "len(args[0].sentences), len(args[-1].sentences)"
   ]
  },
  {
   "cell_type": "code",
   "execution_count": 43,
   "id": "8ec0048c-4c92-41db-9072-4a9fcf7018f2",
   "metadata": {
    "execution": {
     "iopub.execute_input": "2022-01-04T09:43:29.207859Z",
     "iopub.status.busy": "2022-01-04T09:43:29.207859Z",
     "iopub.status.idle": "2022-01-04T09:43:29.224938Z",
     "shell.execute_reply": "2022-01-04T09:43:29.224035Z",
     "shell.execute_reply.started": "2022-01-04T09:43:29.207859Z"
    },
    "tags": []
   },
   "outputs": [
    {
     "name": "stdout",
     "output_type": "stream",
     "text": [
      "40 42\n"
     ]
    }
   ],
   "source": [
    "shorts = args[:40]\n",
    "longs = args[40:]\n",
    "print(len(shorts), len(longs))"
   ]
  },
  {
   "cell_type": "code",
   "execution_count": 44,
   "id": "7870f3c5-5434-46ac-bc83-ccdb62139aeb",
   "metadata": {
    "execution": {
     "iopub.execute_input": "2022-01-04T09:43:30.323910Z",
     "iopub.status.busy": "2022-01-04T09:43:30.322910Z",
     "iopub.status.idle": "2022-01-04T09:43:30.408383Z",
     "shell.execute_reply": "2022-01-04T09:43:30.407368Z",
     "shell.execute_reply.started": "2022-01-04T09:43:30.323728Z"
    },
    "tags": []
   },
   "outputs": [],
   "source": [
    "short_a_long_s = sorted(shorts, key=lambda a: len(word_tokenize(\" \".join(np.take(a.sentences, a.excerpt_indices)))))[20:]\n",
    "short_a_short_s = sorted(shorts, key=lambda a: len(word_tokenize(\" \".join(np.take(a.sentences, a.excerpt_indices)))))[:20]\n",
    "long_a_short_s = sorted(longs, key=lambda a: len(word_tokenize(\" \".join(np.take(a.sentences, a.excerpt_indices)))))[:20]\n",
    "long_a_long_s = sorted(longs, key=lambda a: len(word_tokenize(\" \".join(np.take(a.sentences, a.excerpt_indices)))))[20:]"
   ]
  },
  {
   "cell_type": "code",
   "execution_count": 28,
   "id": "720b04e3-fe6e-436b-9797-23722641d3e7",
   "metadata": {
    "execution": {
     "iopub.execute_input": "2022-01-04T09:39:15.448406Z",
     "iopub.status.busy": "2022-01-04T09:39:15.448406Z",
     "iopub.status.idle": "2022-01-04T09:39:15.458779Z",
     "shell.execute_reply": "2022-01-04T09:39:15.457786Z",
     "shell.execute_reply.started": "2022-01-04T09:39:15.448406Z"
    },
    "tags": []
   },
   "outputs": [],
   "source": [
    "def snippet_scores(arguments, getter= lambda b: b.centrality_scores[0]):\n",
    "    _snippet_cs = list()\n",
    "    for i, a in enumerate(arguments):\n",
    "        temp = getter(a).take(a.excerpt_indices)\n",
    "        _snippet_cs.extend(temp)\n",
    "        \n",
    "    return _snippet_cs"
   ]
  },
  {
   "cell_type": "code",
   "execution_count": 46,
   "id": "cb871503-b0bd-47e4-bdcc-e53b9ef9ac18",
   "metadata": {
    "execution": {
     "iopub.execute_input": "2022-01-04T09:43:34.333374Z",
     "iopub.status.busy": "2022-01-04T09:43:34.332493Z",
     "iopub.status.idle": "2022-01-04T09:43:34.500790Z",
     "shell.execute_reply": "2022-01-04T09:43:34.499791Z",
     "shell.execute_reply.started": "2022-01-04T09:43:34.333374Z"
    },
    "tags": []
   },
   "outputs": [
    {
     "name": "stdout",
     "output_type": "stream",
     "text": [
      "(40,)\n"
     ]
    },
    {
     "data": {
      "text/plain": [
       "(array([ 1.,  0.,  0.,  0.,  6., 10.,  5.,  6.,  2., 10.]),\n",
       " array([-0.75070807, -0.57563726, -0.40056645, -0.22549565, -0.05042484,\n",
       "         0.12464597,  0.29971677,  0.47478758,  0.64985839,  0.82492919,\n",
       "         1.        ]),\n",
       " <BarContainer object of 10 artists>)"
      ]
     },
     "execution_count": 46,
     "metadata": {},
     "output_type": "execute_result"
    },
    {
     "data": {
      "image/png": "[encoded data removed]",
      "text/plain": [
       "<Figure size 432x288 with 1 Axes>"
      ]
     },
     "metadata": {
      "needs_background": "light"
     },
     "output_type": "display_data"
    }
   ],
   "source": [
    "a = snippet_scores(short_a_long_s)\n",
    "print(np.array(a).shape)\n",
    "plt.hist(a)"
   ]
  },
  {
   "cell_type": "code",
   "execution_count": 47,
   "id": "e9cb5484-b980-4bd8-92c6-0da51e494ac8",
   "metadata": {
    "execution": {
     "iopub.execute_input": "2022-01-04T09:43:42.586779Z",
     "iopub.status.busy": "2022-01-04T09:43:42.586779Z",
     "iopub.status.idle": "2022-01-04T09:43:42.772759Z",
     "shell.execute_reply": "2022-01-04T09:43:42.772218Z",
     "shell.execute_reply.started": "2022-01-04T09:43:42.586779Z"
    },
    "tags": []
   },
   "outputs": [
    {
     "data": {
      "text/plain": [
       "(array([ 3.,  2.,  5.,  8.,  2.,  4.,  1.,  1., 13.,  1.]),\n",
       " array([-1.29672244e-01, -5.13261910e-04,  1.28645720e-01,  2.57804701e-01,\n",
       "         3.86963683e-01,  5.16122665e-01,  6.45281646e-01,  7.74440628e-01,\n",
       "         9.03599610e-01,  1.03275859e+00,  1.16191757e+00]),\n",
       " <BarContainer object of 10 artists>)"
      ]
     },
     "execution_count": 47,
     "metadata": {},
     "output_type": "execute_result"
    },
    {
     "data": {
      "image/png": "[encoded data removed]",
      "text/plain": [
       "<Figure size 432x288 with 1 Axes>"
      ]
     },
     "metadata": {
      "needs_background": "light"
     },
     "output_type": "display_data"
    }
   ],
   "source": [
    "plt.hist(snippet_scores(short_a_short_s))"
   ]
  },
  {
   "cell_type": "code",
   "execution_count": 48,
   "id": "637d1cd6-bcfd-41bc-9195-784b8b01cae1",
   "metadata": {
    "execution": {
     "iopub.execute_input": "2022-01-04T09:43:47.196761Z",
     "iopub.status.busy": "2022-01-04T09:43:47.195749Z",
     "iopub.status.idle": "2022-01-04T09:43:47.426541Z",
     "shell.execute_reply": "2022-01-04T09:43:47.426541Z",
     "shell.execute_reply.started": "2022-01-04T09:43:47.196761Z"
    },
    "tags": []
   },
   "outputs": [
    {
     "data": {
      "text/plain": [
       "(array([ 4., 20.,  6.,  2.,  0.,  0.,  0.,  0.,  0.,  8.]),\n",
       " array([-0.14137428, -0.02723685,  0.08690058,  0.20103801,  0.31517543,\n",
       "         0.42931286,  0.54345029,  0.65758772,  0.77172514,  0.88586257,\n",
       "         1.        ]),\n",
       " <BarContainer object of 10 artists>)"
      ]
     },
     "execution_count": 48,
     "metadata": {},
     "output_type": "execute_result"
    },
    {
     "data": {
      "image/png": "[encoded data removed]",
      "text/plain": [
       "<Figure size 432x288 with 1 Axes>"
      ]
     },
     "metadata": {
      "needs_background": "light"
     },
     "output_type": "display_data"
    }
   ],
   "source": [
    "plt.hist(snippet_scores(long_a_short_s))"
   ]
  },
  {
   "cell_type": "code",
   "execution_count": 49,
   "id": "d2106846-6fa4-48f2-9855-5d715169d333",
   "metadata": {
    "execution": {
     "iopub.execute_input": "2022-01-04T09:43:49.665570Z",
     "iopub.status.busy": "2022-01-04T09:43:49.664531Z",
     "iopub.status.idle": "2022-01-04T09:43:49.850732Z",
     "shell.execute_reply": "2022-01-04T09:43:49.850255Z",
     "shell.execute_reply.started": "2022-01-04T09:43:49.665570Z"
    },
    "tags": []
   },
   "outputs": [
    {
     "data": {
      "text/plain": [
       "(array([20., 18.,  3.,  0.,  0.,  0.,  0.,  0.,  0.,  3.]),\n",
       " array([-0.00246453,  0.09778193,  0.19802838,  0.29827483,  0.39852128,\n",
       "         0.49876774,  0.59901419,  0.69926064,  0.79950709,  0.89975355,\n",
       "         1.        ]),\n",
       " <BarContainer object of 10 artists>)"
      ]
     },
     "execution_count": 49,
     "metadata": {},
     "output_type": "execute_result"
    },
    {
     "data": {
      "image/png": "[encoded data removed]",
      "text/plain": [
       "<Figure size 432x288 with 1 Axes>"
      ]
     },
     "metadata": {
      "needs_background": "light"
     },
     "output_type": "display_data"
    }
   ],
   "source": [
    "plt.hist(snippet_scores(long_a_long_s))"
   ]
  },
  {
   "cell_type": "code",
   "execution_count": 50,
   "id": "8699229e-702a-4ce8-aedd-ffcb4f12090f",
   "metadata": {
    "execution": {
     "iopub.execute_input": "2022-01-04T09:44:54.527252Z",
     "iopub.status.busy": "2022-01-04T09:44:54.526255Z",
     "iopub.status.idle": "2022-01-04T09:44:54.675032Z",
     "shell.execute_reply": "2022-01-04T09:44:54.674015Z",
     "shell.execute_reply.started": "2022-01-04T09:44:54.526255Z"
    },
    "tags": []
   },
   "outputs": [
    {
     "name": "stdout",
     "output_type": "stream",
     "text": [
      "(40,)\n"
     ]
    },
    {
     "data": {
      "text/plain": [
       "(array([ 1.,  0.,  0.,  0.,  7.,  5.,  8., 10.,  5.,  4.]),\n",
       " array([0.12277844, 0.17768589, 0.23259333, 0.28750078, 0.34240823,\n",
       "        0.39731568, 0.45222313, 0.50713057, 0.56203802, 0.61694547,\n",
       "        0.67185292]),\n",
       " <BarContainer object of 10 artists>)"
      ]
     },
     "execution_count": 50,
     "metadata": {},
     "output_type": "execute_result"
    },
    {
     "data": {
      "image/png": "[encoded data removed]",
      "text/plain": [
       "<Figure size 432x288 with 1 Axes>"
      ]
     },
     "metadata": {
      "needs_background": "light"
     },
     "output_type": "display_data"
    }
   ],
   "source": [
    "a = snippet_scores(short_a_long_s, getter=lambda b: b.context_similarity)\n",
    "print(np.array(a).shape)\n",
    "plt.hist(a)"
   ]
  },
  {
   "cell_type": "code",
   "execution_count": 51,
   "id": "4a89c1c8-9f4b-452e-9654-e92b088953a1",
   "metadata": {
    "execution": {
     "iopub.execute_input": "2022-01-04T09:45:01.366704Z",
     "iopub.status.busy": "2022-01-04T09:45:01.366704Z",
     "iopub.status.idle": "2022-01-04T09:45:01.530147Z",
     "shell.execute_reply": "2022-01-04T09:45:01.529248Z",
     "shell.execute_reply.started": "2022-01-04T09:45:01.366704Z"
    },
    "tags": []
   },
   "outputs": [
    {
     "data": {
      "text/plain": [
       "(array([2., 1., 2., 6., 2., 6., 5., 8., 5., 3.]),\n",
       " array([0.18184202, 0.22530335, 0.26876468, 0.31222601, 0.35568734,\n",
       "        0.39914868, 0.44261001, 0.48607134, 0.52953267, 0.572994  ,\n",
       "        0.61645533]),\n",
       " <BarContainer object of 10 artists>)"
      ]
     },
     "execution_count": 51,
     "metadata": {},
     "output_type": "execute_result"
    },
    {
     "data": {
      "image/png": "[encoded data removed]",
      "text/plain": [
       "<Figure size 432x288 with 1 Axes>"
      ]
     },
     "metadata": {
      "needs_background": "light"
     },
     "output_type": "display_data"
    }
   ],
   "source": [
    "plt.hist(snippet_scores(short_a_short_s, getter=lambda b: b.context_similarity))"
   ]
  },
  {
   "cell_type": "code",
   "execution_count": 52,
   "id": "ec07ba33-0dd4-40cd-8819-68e6ef6eaff6",
   "metadata": {
    "execution": {
     "iopub.execute_input": "2022-01-04T09:45:07.514368Z",
     "iopub.status.busy": "2022-01-04T09:45:07.514368Z",
     "iopub.status.idle": "2022-01-04T09:45:07.671881Z",
     "shell.execute_reply": "2022-01-04T09:45:07.670993Z",
     "shell.execute_reply.started": "2022-01-04T09:45:07.514368Z"
    },
    "tags": []
   },
   "outputs": [
    {
     "data": {
      "text/plain": [
       "(array([ 2.,  2., 13.,  8.,  3.,  3.,  3.,  1.,  3.,  2.]),\n",
       " array([-0.05491662, -0.00375405,  0.04740852,  0.0985711 ,  0.14973367,\n",
       "         0.20089624,  0.25205881,  0.30322138,  0.35438395,  0.40554653,\n",
       "         0.4567091 ]),\n",
       " <BarContainer object of 10 artists>)"
      ]
     },
     "execution_count": 52,
     "metadata": {},
     "output_type": "execute_result"
    },
    {
     "data": {
      "image/png": "[encoded data removed]",
      "text/plain": [
       "<Figure size 432x288 with 1 Axes>"
      ]
     },
     "metadata": {
      "needs_background": "light"
     },
     "output_type": "display_data"
    }
   ],
   "source": [
    "plt.hist(snippet_scores(long_a_short_s, getter=lambda b: b.context_similarity))"
   ]
  },
  {
   "cell_type": "code",
   "execution_count": 53,
   "id": "99a089ce-7aa1-4b77-bb4f-dc80fdaca9d3",
   "metadata": {
    "execution": {
     "iopub.execute_input": "2022-01-04T09:45:11.146350Z",
     "iopub.status.busy": "2022-01-04T09:45:11.145356Z",
     "iopub.status.idle": "2022-01-04T09:45:11.304224Z",
     "shell.execute_reply": "2022-01-04T09:45:11.303235Z",
     "shell.execute_reply.started": "2022-01-04T09:45:11.145356Z"
    },
    "tags": []
   },
   "outputs": [
    {
     "data": {
      "text/plain": [
       "(array([1., 4., 8., 8., 8., 3., 4., 5., 2., 1.]),\n",
       " array([0.04583942, 0.10406824, 0.16229705, 0.22052586, 0.27875468,\n",
       "        0.33698349, 0.39521231, 0.45344112, 0.51166993, 0.56989875,\n",
       "        0.62812756]),\n",
       " <BarContainer object of 10 artists>)"
      ]
     },
     "execution_count": 53,
     "metadata": {},
     "output_type": "execute_result"
    },
    {
     "data": {
      "image/png": "[encoded data removed]",
      "text/plain": [
       "<Figure size 432x288 with 1 Axes>"
      ]
     },
     "metadata": {
      "needs_background": "light"
     },
     "output_type": "display_data"
    }
   ],
   "source": [
    "plt.hist(snippet_scores(long_a_long_s, getter=lambda b: b.context_similarity))"
   ]
  },
  {
   "cell_type": "markdown",
   "id": "b1608204-1797-4c91-9356-f293c434798c",
   "metadata": {},
   "source": [
    " # Ansatz B"
   ]
  },
  {
   "cell_type": "code",
   "execution_count": 4,
   "id": "edf5db29-eb70-4f8c-b0b3-f0059ea939d6",
   "metadata": {
    "execution": {
     "iopub.execute_input": "2022-01-02T15:04:33.932913Z",
     "iopub.status.busy": "2022-01-02T15:04:33.932913Z",
     "iopub.status.idle": "2022-01-02T15:04:33.947926Z",
     "shell.execute_reply": "2022-01-02T15:04:33.946915Z",
     "shell.execute_reply.started": "2022-01-02T15:04:33.932913Z"
    },
    "tags": []
   },
   "outputs": [],
   "source": [
    "def get_data(normalize_surface_features: bool = False) -> List[FeaturedArgument]:\n",
    "    with open(\n",
    "            '../heuristic-data-creation/data/GW '\n",
    "            '2021-08-31/FeaturedArguments-w-reference-snippets-r_0.1-args-me-supmmd-train.pickle',\n",
    "            'rb') as f:\n",
    "        X = pickle.load(f)  # [:10000]\n",
    "\n",
    "    embs = np.load('../mmd/embeddings.npa.npy', allow_pickle=True)\n",
    "    for i in range(len(X)):\n",
    "        X[i].sentence_embeddings = embs[i]\n",
    "        X[i].query = X[i].topic\n",
    "\n",
    "    if normalize_surface_features:\n",
    "        normalize(X)\n",
    "\n",
    "    return X"
   ]
  },
  {
   "cell_type": "code",
   "execution_count": 4,
   "id": "0bf3aa0c-d674-47c6-a565-16b86fe4b705",
   "metadata": {
    "execution": {
     "iopub.execute_input": "2021-12-17T13:01:39.282514Z",
     "iopub.status.busy": "2021-12-17T13:01:39.282514Z",
     "iopub.status.idle": "2021-12-17T13:01:50.581215Z",
     "shell.execute_reply": "2021-12-17T13:01:50.579103Z",
     "shell.execute_reply.started": "2021-12-17T13:01:39.282514Z"
    },
    "tags": []
   },
   "outputs": [],
   "source": [
    "X = get_data()"
   ]
  },
  {
   "cell_type": "code",
   "execution_count": 5,
   "id": "7b9fb5b9-5495-47d0-9f9e-7a9839adf51c",
   "metadata": {
    "execution": {
     "iopub.execute_input": "2021-12-17T13:01:50.581215Z",
     "iopub.status.busy": "2021-12-17T13:01:50.581215Z",
     "iopub.status.idle": "2021-12-17T13:01:50.599361Z",
     "shell.execute_reply": "2021-12-17T13:01:50.599361Z",
     "shell.execute_reply.started": "2021-12-17T13:01:50.581215Z"
    },
    "tags": []
   },
   "outputs": [],
   "source": [
    "Sofa = namedtuple('Sofa', ['lengths', 'vectors'])"
   ]
  },
  {
   "cell_type": "code",
   "execution_count": 6,
   "id": "0b512d78-6848-425a-b030-2c47f6290532",
   "metadata": {
    "execution": {
     "iopub.execute_input": "2021-12-17T13:01:50.601445Z",
     "iopub.status.busy": "2021-12-17T13:01:50.601445Z",
     "iopub.status.idle": "2021-12-17T13:01:50.619695Z",
     "shell.execute_reply": "2021-12-17T13:01:50.619695Z",
     "shell.execute_reply.started": "2021-12-17T13:01:50.601445Z"
    },
    "tags": []
   },
   "outputs": [],
   "source": [
    "Sentence = namedtuple('Sentence', ['length', 'vector'])"
   ]
  },
  {
   "cell_type": "code",
   "execution_count": 7,
   "id": "e7ce7cc1-2942-4263-9277-a29c89c1d640",
   "metadata": {
    "execution": {
     "iopub.execute_input": "2021-12-17T13:01:50.619695Z",
     "iopub.status.busy": "2021-12-17T13:01:50.619695Z",
     "iopub.status.idle": "2021-12-17T13:01:50.651156Z",
     "shell.execute_reply": "2021-12-17T13:01:50.651156Z",
     "shell.execute_reply.started": "2021-12-17T13:01:50.619695Z"
    },
    "tags": []
   },
   "outputs": [
    {
     "data": {
      "text/plain": [
       "array([26., 11., 21.,  6., 21., 14., 11.,  2.,  2.])"
      ]
     },
     "execution_count": 7,
     "metadata": {},
     "output_type": "execute_result"
    }
   ],
   "source": [
    "X[0].surface_features[:,1].detach().numpy()"
   ]
  },
  {
   "cell_type": "code",
   "execution_count": 8,
   "id": "bbd356d5-537b-4214-87ba-a991843104ad",
   "metadata": {
    "execution": {
     "iopub.execute_input": "2021-12-17T13:01:50.651156Z",
     "iopub.status.busy": "2021-12-17T13:01:50.651156Z",
     "iopub.status.idle": "2021-12-17T13:01:50.666586Z",
     "shell.execute_reply": "2021-12-17T13:01:50.666586Z",
     "shell.execute_reply.started": "2021-12-17T13:01:50.651156Z"
    },
    "tags": []
   },
   "outputs": [],
   "source": [
    "sofas = list()"
   ]
  },
  {
   "cell_type": "code",
   "execution_count": 9,
   "id": "d48cbc22-3f3e-4e61-81ee-c3b1b779dfd5",
   "metadata": {
    "execution": {
     "iopub.execute_input": "2021-12-17T13:01:55.474017Z",
     "iopub.status.busy": "2021-12-17T13:01:55.474017Z",
     "iopub.status.idle": "2021-12-17T13:01:56.238380Z",
     "shell.execute_reply": "2021-12-17T13:01:56.238380Z",
     "shell.execute_reply.started": "2021-12-17T13:01:55.474017Z"
    },
    "tags": []
   },
   "outputs": [
    {
     "name": "stderr",
     "output_type": "stream",
     "text": [
      "100%|█████████████████████████████████████████████████████████████████████████| 44279/44279 [00:00<00:00, 59137.42it/s]\n"
     ]
    }
   ],
   "source": [
    "for a in tqdm(X):\n",
    "    sofas.append(\n",
    "        Sofa(\n",
    "            a.surface_features[:,1].detach().numpy(),\n",
    "            a.sentence_embeddings\n",
    "        )\n",
    "    )"
   ]
  },
  {
   "cell_type": "code",
   "execution_count": 10,
   "id": "f49b5773-46b6-4447-9201-025819e1a445",
   "metadata": {
    "execution": {
     "iopub.execute_input": "2021-12-17T13:01:58.646897Z",
     "iopub.status.busy": "2021-12-17T13:01:58.646897Z",
     "iopub.status.idle": "2021-12-17T13:01:59.094148Z",
     "shell.execute_reply": "2021-12-17T13:01:59.094148Z",
     "shell.execute_reply.started": "2021-12-17T13:01:58.646897Z"
    },
    "tags": []
   },
   "outputs": [],
   "source": [
    "del X"
   ]
  },
  {
   "cell_type": "code",
   "execution_count": 11,
   "id": "c9730e80-9b8a-44e9-b21a-a7d60ffca68d",
   "metadata": {
    "execution": {
     "iopub.execute_input": "2021-12-17T13:02:04.022025Z",
     "iopub.status.busy": "2021-12-17T13:02:04.022025Z",
     "iopub.status.idle": "2021-12-17T13:02:05.903081Z",
     "shell.execute_reply": "2021-12-17T13:02:05.903081Z",
     "shell.execute_reply.started": "2021-12-17T13:02:04.022025Z"
    },
    "tags": []
   },
   "outputs": [
    {
     "name": "stderr",
     "output_type": "stream",
     "text": [
      "100%|█████████████████████████████████████████████████████████████████████████| 44279/44279 [00:01<00:00, 24024.13it/s]\n"
     ]
    }
   ],
   "source": [
    "sentences = list()\n",
    "for sofa in tqdm(sofas):\n",
    "    for i in range(len(sofa.lengths)):\n",
    "        s = Sentence(\n",
    "                sofa.lengths[i],\n",
    "                sofa.vectors[i]\n",
    "            )\n",
    "        #print(s.length)\n",
    "        sentences.append(s)\n",
    "        \n",
    "    #break"
   ]
  },
  {
   "cell_type": "code",
   "execution_count": 12,
   "id": "39e3560e-e1ab-48ca-a348-4308ece61dd7",
   "metadata": {
    "execution": {
     "iopub.execute_input": "2021-12-17T13:02:34.193664Z",
     "iopub.status.busy": "2021-12-17T13:02:34.193664Z",
     "iopub.status.idle": "2021-12-17T13:02:34.645100Z",
     "shell.execute_reply": "2021-12-17T13:02:34.645100Z",
     "shell.execute_reply.started": "2021-12-17T13:02:34.193664Z"
    },
    "tags": []
   },
   "outputs": [],
   "source": [
    "sentences.sort(key=lambda s: s.length)"
   ]
  },
  {
   "cell_type": "code",
   "execution_count": 13,
   "id": "93d7b935-5aaa-429b-b640-8748c98c3543",
   "metadata": {
    "execution": {
     "iopub.execute_input": "2021-12-17T13:02:35.379794Z",
     "iopub.status.busy": "2021-12-17T13:02:35.379794Z",
     "iopub.status.idle": "2021-12-17T13:02:35.395366Z",
     "shell.execute_reply": "2021-12-17T13:02:35.395366Z",
     "shell.execute_reply.started": "2021-12-17T13:02:35.379794Z"
    },
    "tags": []
   },
   "outputs": [],
   "source": [
    "increment = int(len(sentences)/5)"
   ]
  },
  {
   "cell_type": "code",
   "execution_count": 26,
   "id": "0e193b24-c885-496b-939d-e9c8db95b1a2",
   "metadata": {
    "execution": {
     "iopub.execute_input": "2021-12-17T13:13:24.857863Z",
     "iopub.status.busy": "2021-12-17T13:13:24.857863Z",
     "iopub.status.idle": "2021-12-17T13:13:24.920358Z",
     "shell.execute_reply": "2021-12-17T13:13:24.920358Z",
     "shell.execute_reply.started": "2021-12-17T13:13:24.857863Z"
    },
    "tags": []
   },
   "outputs": [],
   "source": [
    "first_fifth = sentences[:increment]\n",
    "#second_fifth = sentences[increment:2*increment]\n",
    "#third_fifth = sentences[2*increment:3*increment]\n",
    "forth_fifth = sentences[3*increment:4*increment]\n",
    "fifth_fifth = sentences[increment:]"
   ]
  },
  {
   "cell_type": "code",
   "execution_count": null,
   "id": "c2a03c91-097f-4190-a9b5-c0ecfa238e9b",
   "metadata": {},
   "outputs": [],
   "source": [
    "del second_fifth\n",
    "del third fifth\n",
    "del fifth_fifth"
   ]
  },
  {
   "cell_type": "code",
   "execution_count": 15,
   "id": "129391e4-a1f0-4eaf-851f-3bc41eecabe3",
   "metadata": {
    "execution": {
     "iopub.execute_input": "2021-12-17T13:02:39.185213Z",
     "iopub.status.busy": "2021-12-17T13:02:39.185213Z",
     "iopub.status.idle": "2021-12-17T13:02:39.200858Z",
     "shell.execute_reply": "2021-12-17T13:02:39.200858Z",
     "shell.execute_reply.started": "2021-12-17T13:02:39.185213Z"
    },
    "tags": []
   },
   "outputs": [],
   "source": [
    "n = len(first_fifth)"
   ]
  },
  {
   "cell_type": "code",
   "execution_count": 27,
   "id": "2b399d37-b30d-440d-8090-79d45228a483",
   "metadata": {
    "execution": {
     "iopub.execute_input": "2021-12-17T13:13:35.711411Z",
     "iopub.status.busy": "2021-12-17T13:13:35.711411Z",
     "iopub.status.idle": "2021-12-17T13:13:35.742677Z",
     "shell.execute_reply": "2021-12-17T13:13:35.742677Z",
     "shell.execute_reply.started": "2021-12-17T13:13:35.711411Z"
    },
    "tags": []
   },
   "outputs": [],
   "source": [
    "first = first_fifth[np.random.choice(range(len(first_fifth)))]"
   ]
  },
  {
   "cell_type": "code",
   "execution_count": 24,
   "id": "8c45b7fa-30c3-47d8-a150-00e81bd9cf5c",
   "metadata": {
    "execution": {
     "iopub.execute_input": "2021-12-17T13:12:34.892002Z",
     "iopub.status.busy": "2021-12-17T13:12:34.892002Z",
     "iopub.status.idle": "2021-12-17T13:12:37.650811Z",
     "shell.execute_reply": "2021-12-17T13:12:37.648744Z",
     "shell.execute_reply.started": "2021-12-17T13:12:34.892002Z"
    },
    "tags": []
   },
   "outputs": [],
   "source": [
    "summed_sim = 0\n",
    "for f in forth_fifth:\n",
    "    sim = cosine_similarity(first.vector, f.vector)\n",
    "    summed_sim += sim\n",
    "    \n",
    "mean = (summed_sim / len(forth_fifth))"
   ]
  },
  {
   "cell_type": "code",
   "execution_count": 25,
   "id": "39628ba6-8cbb-49e9-a828-efbbe964d31c",
   "metadata": {
    "execution": {
     "iopub.execute_input": "2021-12-17T13:12:37.650811Z",
     "iopub.status.busy": "2021-12-17T13:12:37.650811Z",
     "iopub.status.idle": "2021-12-17T13:12:37.671014Z",
     "shell.execute_reply": "2021-12-17T13:12:37.668971Z",
     "shell.execute_reply.started": "2021-12-17T13:12:37.650811Z"
    },
    "tags": []
   },
   "outputs": [
    {
     "data": {
      "text/plain": [
       "0.06789204916608879"
      ]
     },
     "execution_count": 25,
     "metadata": {},
     "output_type": "execute_result"
    }
   ],
   "source": [
    "mean"
   ]
  },
  {
   "cell_type": "code",
   "execution_count": null,
   "id": "edcf484b-fcd0-456a-9bd3-5caa9d5fd4b5",
   "metadata": {
    "execution": {
     "iopub.execute_input": "2021-12-17T13:50:54.593388Z",
     "iopub.status.busy": "2021-12-17T13:50:54.593388Z"
    },
    "tags": []
   },
   "outputs": [
    {
     "name": "stderr",
     "output_type": "stream",
     "text": [
      "  0%|                                                                         | 140/212625 [27:52<702:45:38, 11.91s/it]"
     ]
    }
   ],
   "source": [
    "ssim = 0\n",
    "count = 0\n",
    "for f in tqdm(first_fifth):\n",
    "    for c in fifth_fifth:\n",
    "        sim = cosine_similarity(f.vector, c.vector)\n",
    "        nm = (ssim + sim) / (count + 1)\n",
    "        ssim = nm\n",
    "        count +=1"
   ]
  },
  {
   "cell_type": "code",
   "execution_count": null,
   "id": "754419d3-e442-41c0-9fc2-991c9a1ad0d0",
   "metadata": {
    "execution": {
     "iopub.status.busy": "2021-12-17T13:50:43.511912Z",
     "iopub.status.idle": "2021-12-17T13:50:43.511912Z",
     "shell.execute_reply": "2021-12-17T13:50:43.511912Z",
     "shell.execute_reply.started": "2021-12-17T13:50:43.511912Z"
    }
   },
   "outputs": [],
   "source": [
    "ssim"
   ]
  }
 ],
 "metadata": {
  "kernelspec": {
   "display_name": "thesis",
   "language": "python",
   "name": "thesis"
  },
  "language_info": {
   "codemirror_mode": {
    "name": "ipython",
    "version": 3
   },
   "file_extension": ".py",
   "mimetype": "text/x-python",
   "name": "python",
   "nbconvert_exporter": "python",
   "pygments_lexer": "ipython3",
   "version": "3.7.10"
  }
 },
 "nbformat": 4,
 "nbformat_minor": 5
}
