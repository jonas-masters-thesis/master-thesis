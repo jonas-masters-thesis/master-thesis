{
 "cells": [
  {
   "cell_type": "code",
   "execution_count": 1,
   "id": "01e97442",
   "metadata": {
    "execution": {
     "iopub.execute_input": "2021-12-20T15:59:29.001215Z",
     "iopub.status.busy": "2021-12-20T15:59:28.999705Z",
     "iopub.status.idle": "2021-12-20T15:59:58.539888Z",
     "shell.execute_reply": "2021-12-20T15:59:58.539028Z",
     "shell.execute_reply.started": "2021-12-20T15:59:29.000669Z"
    },
    "tags": []
   },
   "outputs": [
    {
     "name": "stderr",
     "output_type": "stream",
     "text": [
      "C:\\ProgramData\\Anaconda3\\envs\\thesis\\lib\\site-packages\\requests\\__init__.py:91: RequestsDependencyWarning: urllib3 (1.26.7) or chardet (4.0.0) doesn't match a supported version!\n",
      "  RequestsDependencyWarning)\n"
     ]
    }
   ],
   "source": [
    "import numpy as np\n",
    "import pandas as pd\n",
    "import pickle\n",
    "from IPython.display import display_html\n",
    "import torch\n",
    "from transformers import BertForSequenceClassification, AutoTokenizer, TextClassificationPipeline"
   ]
  },
  {
   "cell_type": "code",
   "execution_count": 2,
   "id": "9abadd1e",
   "metadata": {
    "execution": {
     "iopub.execute_input": "2021-12-20T15:59:58.541908Z",
     "iopub.status.busy": "2021-12-20T15:59:58.541381Z",
     "iopub.status.idle": "2021-12-20T15:59:58.556036Z",
     "shell.execute_reply": "2021-12-20T15:59:58.555063Z",
     "shell.execute_reply.started": "2021-12-20T15:59:58.541908Z"
    },
    "tags": []
   },
   "outputs": [],
   "source": [
    "import os\n",
    "import sys\n",
    "shared_path = '../shared/'\n",
    "if shared_path not in sys.path:\n",
    "    sys.path.append(shared_path)\n",
    "    \n",
    "eval_path = '../evaluation/'\n",
    "if eval_path not in sys.path:\n",
    "    sys.path.append(eval_path)\n",
    "    \n",
    "mmd_path = '../mmd/'\n",
    "if mmd_path not in sys.path:\n",
    "    sys.path.append(mmd_path)\n",
    "    \n",
    "clr_path = '../contra-lexrank/'\n",
    "if clr_path not in sys.path:\n",
    "    sys.path.append(clr_path)"
   ]
  },
  {
   "cell_type": "code",
   "execution_count": 3,
   "id": "6e95b2ba",
   "metadata": {
    "execution": {
     "iopub.execute_input": "2021-12-20T15:59:58.557028Z",
     "iopub.status.busy": "2021-12-20T15:59:58.557028Z",
     "iopub.status.idle": "2021-12-20T15:59:59.750518Z",
     "shell.execute_reply": "2021-12-20T15:59:59.746792Z",
     "shell.execute_reply.started": "2021-12-20T15:59:58.557028Z"
    },
    "tags": []
   },
   "outputs": [],
   "source": [
    "from Argument import Argument\n",
    "from DataHandler import DataHandler\n",
    "\n",
    "from SilhouetteCoefficient import SilhouetteCoefficient\n",
    "from EdgeCorrelation import EdgeCorrelation\n",
    "from SentenceArgReAllocator import SentenceArgReAllocator\n",
    "from MMDBase import MMDBase\n",
    "from TradeOffScorer import TradeOffScorer"
   ]
  },
  {
   "cell_type": "markdown",
   "id": "e4f56f45",
   "metadata": {},
   "source": [
    "The following shows some arguments from the corpus used by [Alshomary et al. (2020)](#Alshomary.2020), henceforth ArgsMe-Snippet corpus. This analysis aims at getting a gut feeling on how difficult the task of CAS is. Since this is a manually performed analysis, it is done only for a small subset of the arguments."
   ]
  },
  {
   "cell_type": "markdown",
   "id": "b517f50f",
   "metadata": {},
   "source": [
    "The pickle file already contains sentence embeddings that are computed using SBERT by [Reimers and Gurevych (2019)](#Reimers.2019) that will be used in a later step."
   ]
  },
  {
   "cell_type": "code",
   "execution_count": 4,
   "id": "827c2e7b",
   "metadata": {
    "execution": {
     "iopub.execute_input": "2021-12-20T15:59:59.758860Z",
     "iopub.status.busy": "2021-12-20T15:59:59.757871Z",
     "iopub.status.idle": "2021-12-20T15:59:59.778680Z",
     "shell.execute_reply": "2021-12-20T15:59:59.777679Z",
     "shell.execute_reply.started": "2021-12-20T15:59:59.758860Z"
    },
    "tags": []
   },
   "outputs": [],
   "source": [
    "AMSC_PATH = '../../not-gitted/dataset_as_json_file.pickle'"
   ]
  },
  {
   "cell_type": "code",
   "execution_count": 5,
   "id": "3f3c4607",
   "metadata": {
    "execution": {
     "iopub.execute_input": "2021-12-20T15:59:59.780703Z",
     "iopub.status.busy": "2021-12-20T15:59:59.779684Z",
     "iopub.status.idle": "2021-12-20T15:59:59.809031Z",
     "shell.execute_reply": "2021-12-20T15:59:59.808162Z",
     "shell.execute_reply.started": "2021-12-20T15:59:59.780703Z"
    },
    "tags": []
   },
   "outputs": [],
   "source": [
    "data = DataHandler()\n",
    "data.load_bin(AMSC_PATH)"
   ]
  },
  {
   "cell_type": "markdown",
   "id": "fa6cf5d7",
   "metadata": {},
   "source": [
    "# General information"
   ]
  },
  {
   "cell_type": "markdown",
   "id": "3a567d88",
   "metadata": {
    "execution": {
     "iopub.execute_input": "2021-08-05T07:29:43.685308Z",
     "iopub.status.busy": "2021-08-05T07:29:43.685308Z",
     "iopub.status.idle": "2021-08-05T07:29:43.698308Z",
     "shell.execute_reply": "2021-08-05T07:29:43.696391Z",
     "shell.execute_reply.started": "2021-08-05T07:29:43.685308Z"
    },
    "tags": []
   },
   "source": [
    "We discard arguments that fall short of minimum length (3 sentences)."
   ]
  },
  {
   "cell_type": "code",
   "execution_count": 6,
   "id": "2387b472",
   "metadata": {
    "execution": {
     "iopub.execute_input": "2021-12-20T15:59:59.810030Z",
     "iopub.status.busy": "2021-12-20T15:59:59.810030Z",
     "iopub.status.idle": "2021-12-20T15:59:59.824831Z",
     "shell.execute_reply": "2021-12-20T15:59:59.823920Z",
     "shell.execute_reply.started": "2021-12-20T15:59:59.810030Z"
    },
    "tags": []
   },
   "outputs": [],
   "source": [
    "filtered_arguments = data.get_filtered_arguments([DataHandler.get_args_filter_length(length=3)])"
   ]
  },
  {
   "cell_type": "code",
   "execution_count": 7,
   "id": "72c0d56b",
   "metadata": {
    "execution": {
     "iopub.execute_input": "2021-12-20T15:59:59.826850Z",
     "iopub.status.busy": "2021-12-20T15:59:59.825836Z",
     "iopub.status.idle": "2021-12-20T15:59:59.856998Z",
     "shell.execute_reply": "2021-12-20T15:59:59.854708Z",
     "shell.execute_reply.started": "2021-12-20T15:59:59.826850Z"
    },
    "tags": []
   },
   "outputs": [
    {
     "data": {
      "text/html": [
       "The filter reduced the corpus size from 100 arguments to 77."
      ]
     },
     "metadata": {},
     "output_type": "display_data"
    }
   ],
   "source": [
    "display_html(f'The filter reduced the corpus size from 100 arguments to {len(filtered_arguments)}.', raw=True)"
   ]
  },
  {
   "cell_type": "markdown",
   "id": "f868903b",
   "metadata": {},
   "source": [
    "Look at some stats about the length."
   ]
  },
  {
   "cell_type": "code",
   "execution_count": 8,
   "id": "8dcd2b63",
   "metadata": {
    "execution": {
     "iopub.execute_input": "2021-12-20T15:59:59.859745Z",
     "iopub.status.busy": "2021-12-20T15:59:59.858743Z",
     "iopub.status.idle": "2021-12-20T16:00:00.013555Z",
     "shell.execute_reply": "2021-12-20T16:00:00.011644Z",
     "shell.execute_reply.started": "2021-12-20T15:59:59.859745Z"
    },
    "tags": []
   },
   "outputs": [
    {
     "data": {
      "text/html": [
       "<div>\n",
       "<style scoped>\n",
       "    .dataframe tbody tr th:only-of-type {\n",
       "        vertical-align: middle;\n",
       "    }\n",
       "\n",
       "    .dataframe tbody tr th {\n",
       "        vertical-align: top;\n",
       "    }\n",
       "\n",
       "    .dataframe thead th {\n",
       "        text-align: right;\n",
       "    }\n",
       "</style>\n",
       "<table border=\"1\" class=\"dataframe\">\n",
       "  <thead>\n",
       "    <tr style=\"text-align: right;\">\n",
       "      <th></th>\n",
       "      <th>context</th>\n",
       "      <th>number_of_args</th>\n",
       "      <th>mean_length_in_sentences</th>\n",
       "      <th>std_length_in_sentences</th>\n",
       "      <th>min_length_in_sentences</th>\n",
       "      <th>max_length_in_sentences</th>\n",
       "      <th>argument_lengths</th>\n",
       "    </tr>\n",
       "  </thead>\n",
       "  <tbody>\n",
       "    <tr>\n",
       "      <th>0</th>\n",
       "      <td>vegan</td>\n",
       "      <td>8</td>\n",
       "      <td>34.875000</td>\n",
       "      <td>31.640312</td>\n",
       "      <td>3</td>\n",
       "      <td>84</td>\n",
       "      <td>[18, 84, 84, 5, 47, 3, 32, 6]</td>\n",
       "    </tr>\n",
       "    <tr>\n",
       "      <th>1</th>\n",
       "      <td>feminism</td>\n",
       "      <td>9</td>\n",
       "      <td>7.333333</td>\n",
       "      <td>6.765928</td>\n",
       "      <td>3</td>\n",
       "      <td>26</td>\n",
       "      <td>[4, 7, 3, 4, 5, 8, 5, 4, 26]</td>\n",
       "    </tr>\n",
       "    <tr>\n",
       "      <th>2</th>\n",
       "      <td>brexit</td>\n",
       "      <td>9</td>\n",
       "      <td>15.555556</td>\n",
       "      <td>14.667508</td>\n",
       "      <td>3</td>\n",
       "      <td>48</td>\n",
       "      <td>[33, 9, 14, 4, 7, 48, 3, 19, 3]</td>\n",
       "    </tr>\n",
       "    <tr>\n",
       "      <th>3</th>\n",
       "      <td>death_penalty</td>\n",
       "      <td>9</td>\n",
       "      <td>14.111111</td>\n",
       "      <td>9.085329</td>\n",
       "      <td>4</td>\n",
       "      <td>36</td>\n",
       "      <td>[6, 12, 13, 6, 4, 36, 15, 18, 17]</td>\n",
       "    </tr>\n",
       "    <tr>\n",
       "      <th>4</th>\n",
       "      <td>trump</td>\n",
       "      <td>5</td>\n",
       "      <td>16.800000</td>\n",
       "      <td>2.481935</td>\n",
       "      <td>14</td>\n",
       "      <td>20</td>\n",
       "      <td>[14, 19, 20, 17, 14]</td>\n",
       "    </tr>\n",
       "    <tr>\n",
       "      <th>5</th>\n",
       "      <td>google</td>\n",
       "      <td>8</td>\n",
       "      <td>8.750000</td>\n",
       "      <td>4.351724</td>\n",
       "      <td>3</td>\n",
       "      <td>17</td>\n",
       "      <td>[13, 3, 6, 10, 6, 17, 10, 5]</td>\n",
       "    </tr>\n",
       "    <tr>\n",
       "      <th>6</th>\n",
       "      <td>nuclear_energy</td>\n",
       "      <td>3</td>\n",
       "      <td>36.000000</td>\n",
       "      <td>31.822424</td>\n",
       "      <td>13</td>\n",
       "      <td>81</td>\n",
       "      <td>[81, 13, 14]</td>\n",
       "    </tr>\n",
       "    <tr>\n",
       "      <th>7</th>\n",
       "      <td>climate change</td>\n",
       "      <td>6</td>\n",
       "      <td>15.500000</td>\n",
       "      <td>15.777093</td>\n",
       "      <td>4</td>\n",
       "      <td>50</td>\n",
       "      <td>[7, 8, 9, 15, 4, 50]</td>\n",
       "    </tr>\n",
       "    <tr>\n",
       "      <th>8</th>\n",
       "      <td>abortion</td>\n",
       "      <td>10</td>\n",
       "      <td>15.800000</td>\n",
       "      <td>13.962808</td>\n",
       "      <td>3</td>\n",
       "      <td>48</td>\n",
       "      <td>[6, 3, 10, 17, 32, 24, 6, 6, 6, 48]</td>\n",
       "    </tr>\n",
       "    <tr>\n",
       "      <th>9</th>\n",
       "      <td>donald trump</td>\n",
       "      <td>10</td>\n",
       "      <td>13.900000</td>\n",
       "      <td>14.727186</td>\n",
       "      <td>3</td>\n",
       "      <td>53</td>\n",
       "      <td>[6, 3, 28, 9, 7, 12, 3, 12, 6, 53]</td>\n",
       "    </tr>\n",
       "  </tbody>\n",
       "</table>\n",
       "</div>"
      ],
      "text/plain": [
       "          context  number_of_args  mean_length_in_sentences  \\\n",
       "0           vegan               8                 34.875000   \n",
       "1        feminism               9                  7.333333   \n",
       "2          brexit               9                 15.555556   \n",
       "3   death_penalty               9                 14.111111   \n",
       "4           trump               5                 16.800000   \n",
       "5          google               8                  8.750000   \n",
       "6  nuclear_energy               3                 36.000000   \n",
       "7  climate change               6                 15.500000   \n",
       "8        abortion              10                 15.800000   \n",
       "9    donald trump              10                 13.900000   \n",
       "\n",
       "   std_length_in_sentences  min_length_in_sentences  max_length_in_sentences  \\\n",
       "0                31.640312                        3                       84   \n",
       "1                 6.765928                        3                       26   \n",
       "2                14.667508                        3                       48   \n",
       "3                 9.085329                        4                       36   \n",
       "4                 2.481935                       14                       20   \n",
       "5                 4.351724                        3                       17   \n",
       "6                31.822424                       13                       81   \n",
       "7                15.777093                        4                       50   \n",
       "8                13.962808                        3                       48   \n",
       "9                14.727186                        3                       53   \n",
       "\n",
       "                      argument_lengths  \n",
       "0        [18, 84, 84, 5, 47, 3, 32, 6]  \n",
       "1         [4, 7, 3, 4, 5, 8, 5, 4, 26]  \n",
       "2      [33, 9, 14, 4, 7, 48, 3, 19, 3]  \n",
       "3    [6, 12, 13, 6, 4, 36, 15, 18, 17]  \n",
       "4                 [14, 19, 20, 17, 14]  \n",
       "5         [13, 3, 6, 10, 6, 17, 10, 5]  \n",
       "6                         [81, 13, 14]  \n",
       "7                 [7, 8, 9, 15, 4, 50]  \n",
       "8  [6, 3, 10, 17, 32, 24, 6, 6, 6, 48]  \n",
       "9   [6, 3, 28, 9, 7, 12, 3, 12, 6, 53]  "
      ]
     },
     "execution_count": 8,
     "metadata": {},
     "output_type": "execute_result"
    }
   ],
   "source": [
    "contexts = DataHandler.get_query_context_keys(filtered_arguments)\n",
    "records = list()\n",
    "for c in contexts:\n",
    "    arguments_c = DataHandler.get_query_context(filtered_arguments, c)\n",
    "    \n",
    "    records.append({\n",
    "        'context': c,\n",
    "        'number_of_args': len(arguments_c),\n",
    "        'mean_length_in_sentences': np.mean([len(a.sentences) for a in arguments_c]),\n",
    "        'std_length_in_sentences': np.std([len(a.sentences) for a in arguments_c]),\n",
    "        'min_length_in_sentences': len(min(arguments_c, key=lambda a: len(a.sentences)).sentences),\n",
    "        'max_length_in_sentences': len(max(arguments_c, key=lambda a: len(a.sentences)).sentences),\n",
    "        'argument_lengths': [len(a.sentences) for a in arguments_c]\n",
    "    })\n",
    "    \n",
    "pd.DataFrame.from_records(records)"
   ]
  },
  {
   "cell_type": "markdown",
   "id": "a6c9ef1d",
   "metadata": {},
   "source": [
    "# Snippet Analysis"
   ]
  },
  {
   "cell_type": "markdown",
   "id": "42e96d21",
   "metadata": {},
   "source": [
    "## Feminism"
   ]
  },
  {
   "cell_type": "markdown",
   "id": "bd687533",
   "metadata": {},
   "source": [
    "Let's have a more detailed look at some arguments and their generic snippets. We start with a few short arguments to see how complicated it is to keep everything in mind. Therefore, we chosse some arguments from context 'feminism'. Highlighting marks snippet sentences."
   ]
  },
  {
   "cell_type": "code",
   "execution_count": 10,
   "id": "44f71997",
   "metadata": {
    "execution": {
     "iopub.execute_input": "2021-12-20T16:01:04.608041Z",
     "iopub.status.busy": "2021-12-20T16:01:04.608041Z",
     "iopub.status.idle": "2021-12-20T16:01:04.641188Z",
     "shell.execute_reply": "2021-12-20T16:01:04.638053Z",
     "shell.execute_reply.started": "2021-12-20T16:01:04.608041Z"
    },
    "tags": []
   },
   "outputs": [
    {
     "data": {
      "text/html": [
       "<p style=\"text-align:right\">feminism-01</p><div style=\"border: solid black 1px; padding-left: 5px\"><span style=\"color:grey\">01 </span><span style=\"width:50%; background-color:white\">Do American women still need feminism?</span><br><span style=\"color:grey\">02 </span><span style=\"width:50%; background-color:yellow\">A controversial social media movement called Women Against Feminism features women explaining \" mostly in \"selfies\" with handwritten signs \" why they do not.</span><br><span style=\"color:grey\">03 </span><span style=\"width:50%; background-color:white\">Feminist responses have ranged from bafflement to vitriol or mockery to arguments that these women don\"t know what feminism is.</span><br><span style=\"color:grey\">04 </span><span style=\"width:50%; background-color:yellow\">But while this new movement has its silly aspects, it raises some much-needed questions about feminism\"s present and future state \" and, in the weeks since it first attracted notice, many prominent feminists have helped validate some of the criticisms.</span><br></div>"
      ]
     },
     "metadata": {},
     "output_type": "display_data"
    },
    {
     "name": "stdout",
     "output_type": "stream",
     "text": [
      "\\noindent\\begin{tabularx}{\\textwidth}{|rX|}\n",
      "\t\t\\multicolumn{2}{r}{\\textcolor{gray}{feminism-01}}\\\\\n",
      "        \\hline\n",
      "\\textcolor{gray}{01}&{Do American women still need feminism?}\\\\\n",
      "\\textcolor{gray}{02}&\\hl{A controversial social media movement called Women Against Feminism features women explaining \" mostly in \"selfies\" with handwritten signs \" why they do not.}\\\\\n",
      "\\textcolor{gray}{03}&{Feminist responses have ranged from bafflement to vitriol or mockery to arguments that these women don\"t know what feminism is.}\\\\\n",
      "\\textcolor{gray}{04}&\\hl{But while this new movement has its silly aspects, it raises some much-needed questions about feminism\"s present and future state \" and, in the weeks since it first attracted notice, many prominent feminists have helped validate some of the criticisms.}\\\\\n",
      "\\hline\n",
      "\\end{tabularx}\n"
     ]
    },
    {
     "data": {
      "text/html": [
       "<p style=\"text-align:right\">feminism-02</p><div style=\"border: solid black 1px; padding-left: 5px\"><span style=\"color:grey\">01 </span><span style=\"width:50%; background-color:white\">Women don't need feminism.</span><br><span style=\"color:grey\">02 </span><span style=\"width:50%; background-color:white\">They are highly capable of taking care of themselves, but you know who does?</span><br><span style=\"color:grey\">03 </span><span style=\"width:50%; background-color:white\">Women who get splashed in the face with acid because they want education.</span><br><span style=\"color:grey\">04 </span><span style=\"width:50%; background-color:white\">Woman who are mistreated and not respected.</span><br><span style=\"color:grey\">05 </span><span style=\"width:50%; background-color:yellow\">Women do not need modern Feminism.</span><br><span style=\"color:grey\">06 </span><span style=\"width:50%; background-color:yellow\">They do want equality just as men, but feminism is more just than opportunities.</span><br><span style=\"color:grey\">07 </span><span style=\"width:50%; background-color:white\">It is about equality or more likely dominating men.</span><br></div>"
      ]
     },
     "metadata": {},
     "output_type": "display_data"
    },
    {
     "name": "stdout",
     "output_type": "stream",
     "text": [
      "\\noindent\\begin{tabularx}{\\textwidth}{|rX|}\n",
      "\t\t\\multicolumn{2}{r}{\\textcolor{gray}{feminism-02}}\\\\\n",
      "        \\hline\n",
      "\\textcolor{gray}{01}&{Women don't need feminism.}\\\\\n",
      "\\textcolor{gray}{02}&{They are highly capable of taking care of themselves, but you know who does?}\\\\\n",
      "\\textcolor{gray}{03}&{Women who get splashed in the face with acid because they want education.}\\\\\n",
      "\\textcolor{gray}{04}&{Woman who are mistreated and not respected.}\\\\\n",
      "\\textcolor{gray}{05}&\\hl{Women do not need modern Feminism.}\\\\\n",
      "\\textcolor{gray}{06}&\\hl{They do want equality just as men, but feminism is more just than opportunities.}\\\\\n",
      "\\textcolor{gray}{07}&{It is about equality or more likely dominating men.}\\\\\n",
      "\\hline\n",
      "\\end{tabularx}\n"
     ]
    },
    {
     "data": {
      "text/html": [
       "<p style=\"text-align:right\">feminism-03</p><div style=\"border: solid black 1px; padding-left: 5px\"><span style=\"color:grey\">01 </span><span style=\"width:50%; background-color:yellow\">Feminism says they want the equality but the definition of the Feminism doesn't say anything about promoting men's rights so it basically assumes men are not oppressed so it's unnecessary to promote the men's rights.</span><br><span style=\"color:grey\">02 </span><span style=\"width:50%; background-color:white\">but this is completely a myth because men are oppressed all the time from every single way.</span><br><span style=\"color:grey\">03 </span><span style=\"width:50%; background-color:yellow\">so modern Feminism is not about equality it's about Female Supremacy to suppress to dominant over men.</span><br></div>"
      ]
     },
     "metadata": {},
     "output_type": "display_data"
    },
    {
     "name": "stdout",
     "output_type": "stream",
     "text": [
      "\\noindent\\begin{tabularx}{\\textwidth}{|rX|}\n",
      "\t\t\\multicolumn{2}{r}{\\textcolor{gray}{feminism-03}}\\\\\n",
      "        \\hline\n",
      "\\textcolor{gray}{01}&\\hl{Feminism says they want the equality but the definition of the Feminism doesn't say anything about promoting men's rights so it basically assumes men are not oppressed so it's unnecessary to promote the men's rights.}\\\\\n",
      "\\textcolor{gray}{02}&{but this is completely a myth because men are oppressed all the time from every single way.}\\\\\n",
      "\\textcolor{gray}{03}&\\hl{so modern Feminism is not about equality it's about Female Supremacy to suppress to dominant over men.}\\\\\n",
      "\\hline\n",
      "\\end{tabularx}\n"
     ]
    },
    {
     "data": {
      "text/html": [
       "<p style=\"text-align:right\">feminism-04</p><div style=\"border: solid black 1px; padding-left: 5px\"><span style=\"color:grey\">01 </span><span style=\"width:50%; background-color:white\">One might assume that Women Against Feminism is a traditionalist backlash against gender equality.</span><br><span style=\"color:grey\">02 </span><span style=\"width:50%; background-color:yellow\">Yet many of the women say they reject feminism precisely because they are pro-equality.</span><br><span style=\"color:grey\">03 </span><span style=\"width:50%; background-color:yellow\">A blogger who goes by AstrokidNJ has analyzed a week\"s worth of posts on Women Against Feminism and found that 46 percent were egalitarian, 19 percent endorsed men\"s issues, and 12 percent criticized feminist intolerance toward dissent.</span><br><span style=\"color:grey\">04 </span><span style=\"width:50%; background-color:white\">Only 23 percent reflected traditionalist views such as support for distinct sex roles, chivalry, or full-time motherhood.</span><br></div>"
      ]
     },
     "metadata": {},
     "output_type": "display_data"
    },
    {
     "name": "stdout",
     "output_type": "stream",
     "text": [
      "\\noindent\\begin{tabularx}{\\textwidth}{|rX|}\n",
      "\t\t\\multicolumn{2}{r}{\\textcolor{gray}{feminism-04}}\\\\\n",
      "        \\hline\n",
      "\\textcolor{gray}{01}&{One might assume that Women Against Feminism is a traditionalist backlash against gender equality.}\\\\\n",
      "\\textcolor{gray}{02}&\\hl{Yet many of the women say they reject feminism precisely because they are pro-equality.}\\\\\n",
      "\\textcolor{gray}{03}&\\hl{A blogger who goes by AstrokidNJ has analyzed a week\"s worth of posts on Women Against Feminism and found that 46 percent were egalitarian, 19 percent endorsed men\"s issues, and 12 percent criticized feminist intolerance toward dissent.}\\\\\n",
      "\\textcolor{gray}{04}&{Only 23 percent reflected traditionalist views such as support for distinct sex roles, chivalry, or full-time motherhood.}\\\\\n",
      "\\hline\n",
      "\\end{tabularx}\n"
     ]
    }
   ],
   "source": [
    "feminism_args = DataHandler.get_query_context(filtered_arguments, 'feminism')\n",
    "\n",
    "def print_arg(arg, hl=None):\n",
    "    html_str = f'<p style=\"text-align:right\">{arg.arg_id}</p><div style=\"border: solid black 1px; padding-left: 5px\">'\n",
    "    tex_str = r\"\"\"\\noindent\\begin{tabularx}{\\textwidth}{|rX|}\n",
    "\t\t\\multicolumn{2}{r}{\\textcolor{gray}{\"\"\" + arg.arg_id + r\"\"\"}}\\\\\n",
    "        \\hline\"\"\" + '\\n'\n",
    "    for idx, s in enumerate(arg.sentences):\n",
    "        if hl is None:\n",
    "            html_str += f'<span style=\"color:grey\">{idx+1:02d} </span><span style=\"width:50%; background-color:{\"yellow\" if s in arg.snippet else \"white\"}\">{s}</span><br>'\n",
    "            tex_str += (r'\\textcolor{gray}{'+ f'{idx+1:02d}' + r'}&'+ ('\\\\hl' if s in arg.snippet else '') + r'{'+ s +r'}\\\\' + '\\n')\n",
    "        else:\n",
    "            html_str += f'<span style=\"color:grey\">{idx+1:02d} </span><span style=\"width:50%; background-color:{\"yellow\" if idx in hl else \"white\"}\">{s}</span><br>'\n",
    "            tex_str += (r'\\textcolor{gray}{'+ f'{idx+1:02d}' + r'}&'+ ('\\\\hl' if idx in hl else '') + r'{'+ s +r'}\\\\' + '\\n')\n",
    "    display_html(html_str+ '</div>', raw=True)\n",
    "    print(tex_str+'\\hline\\n\\end{tabularx}')\n",
    "    \n",
    "print_arg(feminism_args[0])\n",
    "print_arg(feminism_args[1])\n",
    "print_arg(feminism_args[2])\n",
    "print_arg(feminism_args[3])"
   ]
  },
  {
   "cell_type": "markdown",
   "id": "8b1ac5c2",
   "metadata": {},
   "source": [
    "At a first sight, the shown arguments convey con-stance towards the issue. Their criticism concentrate on the aspect that modern feminism is not about equality anymore, and this triggered the movement _Women Against Feminism_. Looking at the highlighted sentences &mdash; the snippets &mdash;, leads to the observation that they capture the lack-of-equality aspect pretty well despite the different wording. But since this is the most prevalent aspect, every snippet contains it. Solely the first argument has a slightly different perspective: It rather considers criticism on the movement. Anyhow, it is noticeable that these rather short arguments do not capture many more aspects, thus contrastive summarization can only try to highlight different details on the present aspect(s) (instead of highlighting different aspects)."
   ]
  },
  {
   "cell_type": "markdown",
   "id": "0edc598d",
   "metadata": {},
   "source": [
    "If we try to select sentences for a constrative snippet from the above arguments, we most likely leave the first snippet as it is. For the second argument, we select its second sentence instead the sixth since it provides the autonomy aspect. And to increase readability, we select the first instead of the fifth."
   ]
  },
  {
   "cell_type": "code",
   "execution_count": 10,
   "id": "6fc48ea1",
   "metadata": {
    "execution": {
     "iopub.execute_input": "2021-12-02T13:34:06.633134Z",
     "iopub.status.busy": "2021-12-02T13:34:06.633134Z",
     "iopub.status.idle": "2021-12-02T13:34:06.648130Z",
     "shell.execute_reply": "2021-12-02T13:34:06.647132Z",
     "shell.execute_reply.started": "2021-12-02T13:34:06.633134Z"
    },
    "tags": []
   },
   "outputs": [
    {
     "data": {
      "text/html": [
       "<p style=\"text-align:right\">feminism-02</p><div style=\"border: solid black 1px; padding-left: 5px\"><span style=\"color:grey\">01 </span><span style=\"width:50%; background-color:yellow\">Women don't need feminism.</span><br><span style=\"color:grey\">02 </span><span style=\"width:50%; background-color:yellow\">They are highly capable of taking care of themselves, but you know who does?</span><br><span style=\"color:grey\">03 </span><span style=\"width:50%; background-color:white\">Women who get splashed in the face with acid because they want education.</span><br><span style=\"color:grey\">04 </span><span style=\"width:50%; background-color:white\">Woman who are mistreated and not respected.</span><br><span style=\"color:grey\">05 </span><span style=\"width:50%; background-color:white\">Women do not need modern Feminism.</span><br><span style=\"color:grey\">06 </span><span style=\"width:50%; background-color:white\">They do want equality just as men, but feminism is more just than opportunities.</span><br><span style=\"color:grey\">07 </span><span style=\"width:50%; background-color:white\">It is about equality or more likely dominating men.</span><br></div>"
      ]
     },
     "metadata": {},
     "output_type": "display_data"
    },
    {
     "name": "stdout",
     "output_type": "stream",
     "text": [
      "\\noindent\\begin{tabularx}{\\textwidth}{|rX|}\n",
      "\t\t\\multicolumn{2}{r}{\\textcolor{gray}{feminism-02}}\\\\\n",
      "        \\hline\n",
      "\\textcolor{gray}{01}&\\hl\\textcolor{gray}{02}&\\hl{Women who get splashed in the face with acid because they want education.}\\\\\n",
      "{Woman who are mistreated and not respected.}\\\\\n",
      "{Women do not need modern Feminism.}\\\\\n",
      "{They do want equality just as men, but feminism is more just than opportunities.}\\\\\n",
      "{It is about equality or more likely dominating men.}\\\\\n",
      "\\hline\n",
      "\\end{tabularx}\n"
     ]
    }
   ],
   "source": [
    "feminism_args[0].excerpt_indices = [0,2]\n",
    "feminism_args[1].excerpt_indices = [0,1]\n",
    "print_arg(feminism_args[1], hl=[0,1])"
   ]
  },
  {
   "cell_type": "markdown",
   "id": "cecbbc36",
   "metadata": {},
   "source": [
    "In argument feminism-03 is only one other possibility to select. But since the second sentence builds on the first, and the third is a kind of conclusion, we cannot reject the first sentence. By taking the only possible option, we also add information on oppression of men."
   ]
  },
  {
   "cell_type": "code",
   "execution_count": 11,
   "id": "290c6f49",
   "metadata": {
    "execution": {
     "iopub.execute_input": "2021-12-02T13:34:06.652130Z",
     "iopub.status.busy": "2021-12-02T13:34:06.652130Z",
     "iopub.status.idle": "2021-12-02T13:34:06.680690Z",
     "shell.execute_reply": "2021-12-02T13:34:06.678690Z",
     "shell.execute_reply.started": "2021-12-02T13:34:06.652130Z"
    },
    "tags": []
   },
   "outputs": [
    {
     "data": {
      "text/html": [
       "<p style=\"text-align:right\">feminism-03</p><div style=\"border: solid black 1px; padding-left: 5px\"><span style=\"color:grey\">01 </span><span style=\"width:50%; background-color:yellow\">Feminism says they want the equality but the definition of the Feminism doesn't say anything about promoting men's rights so it basically assumes men are not oppressed so it's unnecessary to promote the men's rights.</span><br><span style=\"color:grey\">02 </span><span style=\"width:50%; background-color:yellow\">but this is completely a myth because men are oppressed all the time from every single way.</span><br><span style=\"color:grey\">03 </span><span style=\"width:50%; background-color:white\">so modern Feminism is not about equality it's about Female Supremacy to suppress to dominant over men.</span><br></div>"
      ]
     },
     "metadata": {},
     "output_type": "display_data"
    },
    {
     "name": "stdout",
     "output_type": "stream",
     "text": [
      "\\noindent\\begin{tabularx}{\\textwidth}{|rX|}\n",
      "\t\t\\multicolumn{2}{r}{\\textcolor{gray}{feminism-03}}\\\\\n",
      "        \\hline\n",
      "\\textcolor{gray}{01}&\\hl\\textcolor{gray}{02}&\\hl{so modern Feminism is not about equality it's about Female Supremacy to suppress to dominant over men.}\\\\\n",
      "\\hline\n",
      "\\end{tabularx}\n"
     ]
    }
   ],
   "source": [
    "feminism_args[2].excerpt_indices = [0,1]\n",
    "print_arg(feminism_args[2], hl=[0,1])"
   ]
  },
  {
   "cell_type": "markdown",
   "id": "3f721623",
   "metadata": {},
   "source": [
    "Please note that sentence 3 of feminism-03 is quite similar to sentence 2 of feminism-04. And as we throw sentence 3 out of the snippet of feminism-03, we have the possibility to keep sentence 2 for the last snippet. Sentence 3 should still be a part of the snippet because it provides additional statistics that the other arguments do not have."
   ]
  },
  {
   "cell_type": "markdown",
   "id": "cfb4732c",
   "metadata": {},
   "source": [
    "In conclusion, we saw that these rather short arguments does not have multiple aspects that they cover. Consequently, contrastive argument summarization can not select another one, but it has to highlight different details, which indeed seems to be possible."
   ]
  },
  {
   "cell_type": "markdown",
   "id": "ff0ee954",
   "metadata": {},
   "source": [
    "## Trump"
   ]
  },
  {
   "cell_type": "markdown",
   "id": "02fec869",
   "metadata": {},
   "source": [
    "Now, we continue with arguments that have more sentences and hopefully more aspects they cover. Since it might be difficult to keep multiple argument with more than 30 sentences in mind, we look at some from context 'trump' and 'death_penalty' with 10&ndash;20 sentences."
   ]
  },
  {
   "cell_type": "code",
   "execution_count": 11,
   "id": "07dd4a1c",
   "metadata": {
    "execution": {
     "iopub.execute_input": "2021-12-20T16:01:19.220580Z",
     "iopub.status.busy": "2021-12-20T16:01:19.220580Z",
     "iopub.status.idle": "2021-12-20T16:01:19.226769Z",
     "shell.execute_reply": "2021-12-20T16:01:19.225638Z",
     "shell.execute_reply.started": "2021-12-20T16:01:19.220580Z"
    },
    "tags": []
   },
   "outputs": [],
   "source": [
    "trump_args = DataHandler.get_query_context(filtered_arguments, 'trump')"
   ]
  },
  {
   "cell_type": "markdown",
   "id": "d02eb041",
   "metadata": {},
   "source": [
    "We skipped trump-01 at this point because it was either meant as a rhetorical joke, or the author misunterstood the topic. Argument trump-03 falls short of the length requirement."
   ]
  },
  {
   "cell_type": "code",
   "execution_count": 12,
   "id": "d93ff257",
   "metadata": {
    "execution": {
     "iopub.execute_input": "2021-12-20T16:01:22.504889Z",
     "iopub.status.busy": "2021-12-20T16:01:22.503890Z",
     "iopub.status.idle": "2021-12-20T16:01:22.532992Z",
     "shell.execute_reply": "2021-12-20T16:01:22.532237Z",
     "shell.execute_reply.started": "2021-12-20T16:01:22.503890Z"
    },
    "tags": []
   },
   "outputs": [
    {
     "data": {
      "text/html": [
       "<p style=\"text-align:right\">trump-02</p><div style=\"border: solid black 1px; padding-left: 5px\"><span style=\"color:grey\">01 </span><span style=\"width:50%; background-color:yellow\">Trump is the most openly racist Presidential candidate since pre Civil Rights.</span><br><span style=\"color:grey\">02 </span><span style=\"width:50%; background-color:white\">Source 1: ( here comes Donald Trump, who started his campaign by ranting about how Mexican immigrants are rapists and drug dealers (...) After a Black Lives Matter protester was punched and kicked at a Trump rally, Trump said \"Maybe he should have been roughed up.\"</span><br><span style=\"color:grey\">03 </span><span style=\"width:50%; background-color:white\">And he retweeted a graphic with fake statistics about black people supposedly murdering whites, which turns out to have been created by a neo-Nazi.</span><br><span style=\"color:grey\">04 </span><span style=\"width:50%; background-color:white\">(...) the thing Trump is trying to communicate with this story.</span><br><span style=\"color:grey\">05 </span><span style=\"width:50%; background-color:white\">(...) Your Muslim friends and neighbors?</span><br><span style=\"color:grey\">06 </span><span style=\"width:50%; background-color:white\">They're not the assimilated, patriotic Americans they want you to believe.</span><br><span style=\"color:grey\">07 </span><span style=\"width:50%; background-color:white\">They're not regular people with jobs and families and lives like yours.</span><br><span style=\"color:grey\">08 </span><span style=\"width:50%; background-color:white\">They're a threat, people to be surveilled and harassed and hated and feared.</span><br><span style=\"color:grey\">09 </span><span style=\"width:50%; background-color:white\">(...) the most disheartening thing of all: not that there's a candidate willing to make these repugnant appeals, but that so many Republican voters hear them and cheer.</span><br><span style=\"color:grey\">10 </span><span style=\"width:50%; background-color:yellow\">And, racism is wrong.</span><br><span style=\"color:grey\">11 </span><span style=\"width:50%; background-color:white\">Source 2: ( Racism has a significant impact both on the individuals who experience it and the wider community.</span><br><span style=\"color:grey\">12 </span><span style=\"width:50%; background-color:white\">Research shows that there are significant links between experiences of racism and discrimination and poor physical and mental health, reduced productivity and reduced life expectancy.</span><br><span style=\"color:grey\">13 </span><span style=\"width:50%; background-color:white\">Further, it is well-recognised that racism presents barriers to social and economic participation which can in turn cause social exclusion and entrench disadvantage, sometimes for generations.</span><br><span style=\"color:grey\">14 </span><span style=\"width:50%; background-color:white\">(...) It harbours mistrust.</span><br><span style=\"color:grey\">15 </span><span style=\"width:50%; background-color:white\">It incites hatred.</span><br><span style=\"color:grey\">16 </span><span style=\"width:50%; background-color:white\">It stops the word `community' in its tracks.</span><br><span style=\"color:grey\">17 </span><span style=\"width:50%; background-color:white\">Trump's rhetoric is dangerous and will destroy the US.</span><br><span style=\"color:grey\">18 </span><span style=\"width:50%; background-color:white\">It destroys communities, causes crime, etc..</span><br><span style=\"color:grey\">19 </span><span style=\"width:50%; background-color:white\">Why would you EVER support Trump?</span><br></div>"
      ]
     },
     "metadata": {},
     "output_type": "display_data"
    },
    {
     "name": "stdout",
     "output_type": "stream",
     "text": [
      "\\noindent\\begin{tabularx}{\\textwidth}{|rX|}\n",
      "\t\t\\multicolumn{2}{r}{\\textcolor{gray}{trump-02}}\\\\\n",
      "        \\hline\n",
      "\\textcolor{gray}{01}&\\hl{Trump is the most openly racist Presidential candidate since pre Civil Rights.}\\\\\n",
      "\\textcolor{gray}{02}&{Source 1: ( here comes Donald Trump, who started his campaign by ranting about how Mexican immigrants are rapists and drug dealers (...) After a Black Lives Matter protester was punched and kicked at a Trump rally, Trump said \"Maybe he should have been roughed up.\"}\\\\\n",
      "\\textcolor{gray}{03}&{And he retweeted a graphic with fake statistics about black people supposedly murdering whites, which turns out to have been created by a neo-Nazi.}\\\\\n",
      "\\textcolor{gray}{04}&{(...) the thing Trump is trying to communicate with this story.}\\\\\n",
      "\\textcolor{gray}{05}&{(...) Your Muslim friends and neighbors?}\\\\\n",
      "\\textcolor{gray}{06}&{They're not the assimilated, patriotic Americans they want you to believe.}\\\\\n",
      "\\textcolor{gray}{07}&{They're not regular people with jobs and families and lives like yours.}\\\\\n",
      "\\textcolor{gray}{08}&{They're a threat, people to be surveilled and harassed and hated and feared.}\\\\\n",
      "\\textcolor{gray}{09}&{(...) the most disheartening thing of all: not that there's a candidate willing to make these repugnant appeals, but that so many Republican voters hear them and cheer.}\\\\\n",
      "\\textcolor{gray}{10}&\\hl{And, racism is wrong.}\\\\\n",
      "\\textcolor{gray}{11}&{Source 2: ( Racism has a significant impact both on the individuals who experience it and the wider community.}\\\\\n",
      "\\textcolor{gray}{12}&{Research shows that there are significant links between experiences of racism and discrimination and poor physical and mental health, reduced productivity and reduced life expectancy.}\\\\\n",
      "\\textcolor{gray}{13}&{Further, it is well-recognised that racism presents barriers to social and economic participation which can in turn cause social exclusion and entrench disadvantage, sometimes for generations.}\\\\\n",
      "\\textcolor{gray}{14}&{(...) It harbours mistrust.}\\\\\n",
      "\\textcolor{gray}{15}&{It incites hatred.}\\\\\n",
      "\\textcolor{gray}{16}&{It stops the word `community' in its tracks.}\\\\\n",
      "\\textcolor{gray}{17}&{Trump's rhetoric is dangerous and will destroy the US.}\\\\\n",
      "\\textcolor{gray}{18}&{It destroys communities, causes crime, etc..}\\\\\n",
      "\\textcolor{gray}{19}&{Why would you EVER support Trump?}\\\\\n",
      "\\hline\n",
      "\\end{tabularx}\n"
     ]
    },
    {
     "data": {
      "text/html": [
       "<p style=\"text-align:right\">trump-04</p><div style=\"border: solid black 1px; padding-left: 5px\"><span style=\"color:grey\">01 </span><span style=\"width:50%; background-color:white\">AustinMe forfeited this round.</span><br><span style=\"color:grey\">02 </span><span style=\"width:50%; background-color:white\">Pro Here is the source I will be using: - This website lists 13 reasons why Trump will make a great president.</span><br><span style=\"color:grey\">03 </span><span style=\"width:50%; background-color:white\">I am only going to copy and comment on two of them.</span><br><span style=\"color:grey\">04 </span><span style=\"width:50%; background-color:white\">12.</span><br><span style=\"color:grey\">05 </span><span style=\"width:50%; background-color:white\">\"Trump is planning to build a great, great wall (yes\"two \"greats\") on our southern border between the U.S. and Mexico.</span><br><span style=\"color:grey\">06 </span><span style=\"width:50%; background-color:white\">The best part?</span><br><span style=\"color:grey\">07 </span><span style=\"width:50%; background-color:white\">He\"s planning to have Mexico pay for that wall, and mark his words, \"\" I will immediately terminate President Obama\"s illegal executive order on immigration.\"\"</span><br><span style=\"color:grey\">08 </span><span style=\"width:50%; background-color:white\">\"Plus, with less authentic delicious Mexican food here in the U.S., obesity rates will probably drop.\"</span><br><span style=\"color:grey\">09 </span><span style=\"width:50%; background-color:yellow\">-regardless of of Trump's racist bigotry used to appeal to an old, racist crowd, Immigration IS a problem here in the US and he plans to put an end to it.</span><br><span style=\"color:grey\">10 </span><span style=\"width:50%; background-color:white\">1.</span><br><span style=\"color:grey\">11 </span><span style=\"width:50%; background-color:white\">\"Why would Trump make the best president of all time?</span><br><span style=\"color:grey\">12 </span><span style=\"width:50%; background-color:white\">Because he said so.</span><br><span style=\"color:grey\">13 </span><span style=\"width:50%; background-color:white\">\"I will be the greatest jobs president that God ever created, I tell you that.</span><br><span style=\"color:grey\">14 </span><span style=\"width:50%; background-color:white\">I\"ll bring back our jobs from China, from Japan, from Mexico and from so many places.</span><br><span style=\"color:grey\">15 </span><span style=\"width:50%; background-color:white\">I\"ll bring back our money. \"</span><br><span style=\"color:grey\">16 </span><span style=\"width:50%; background-color:white\">Sadly, the American dream is dead.</span><br><span style=\"color:grey\">17 </span><span style=\"width:50%; background-color:white\">But if I get elected president, I will bring it back bigger and better and stronger than ever before, and we will make America great again.\"\"</span><br><span style=\"color:grey\">18 </span><span style=\"width:50%; background-color:yellow\">By building a wall, fighting ISIS, and strengthening the Christian religion, Trump will make the greatest president of all time.</span><br><span style=\"color:grey\">19 </span><span style=\"width:50%; background-color:white\">That is my argument.</span><br><span style=\"color:grey\">20 </span><span style=\"width:50%; background-color:white\">Thankyou</span><br></div>"
      ]
     },
     "metadata": {},
     "output_type": "display_data"
    },
    {
     "name": "stdout",
     "output_type": "stream",
     "text": [
      "\\noindent\\begin{tabularx}{\\textwidth}{|rX|}\n",
      "\t\t\\multicolumn{2}{r}{\\textcolor{gray}{trump-04}}\\\\\n",
      "        \\hline\n",
      "\\textcolor{gray}{01}&{AustinMe forfeited this round.}\\\\\n",
      "\\textcolor{gray}{02}&{Pro Here is the source I will be using: - This website lists 13 reasons why Trump will make a great president.}\\\\\n",
      "\\textcolor{gray}{03}&{I am only going to copy and comment on two of them.}\\\\\n",
      "\\textcolor{gray}{04}&{12.}\\\\\n",
      "\\textcolor{gray}{05}&{\"Trump is planning to build a great, great wall (yes\"two \"greats\") on our southern border between the U.S. and Mexico.}\\\\\n",
      "\\textcolor{gray}{06}&{The best part?}\\\\\n",
      "\\textcolor{gray}{07}&{He\"s planning to have Mexico pay for that wall, and mark his words, \"\" I will immediately terminate President Obama\"s illegal executive order on immigration.\"\"}\\\\\n",
      "\\textcolor{gray}{08}&{\"Plus, with less authentic delicious Mexican food here in the U.S., obesity rates will probably drop.\"}\\\\\n",
      "\\textcolor{gray}{09}&\\hl{-regardless of of Trump's racist bigotry used to appeal to an old, racist crowd, Immigration IS a problem here in the US and he plans to put an end to it.}\\\\\n",
      "\\textcolor{gray}{10}&{1.}\\\\\n",
      "\\textcolor{gray}{11}&{\"Why would Trump make the best president of all time?}\\\\\n",
      "\\textcolor{gray}{12}&{Because he said so.}\\\\\n",
      "\\textcolor{gray}{13}&{\"I will be the greatest jobs president that God ever created, I tell you that.}\\\\\n",
      "\\textcolor{gray}{14}&{I\"ll bring back our jobs from China, from Japan, from Mexico and from so many places.}\\\\\n",
      "\\textcolor{gray}{15}&{I\"ll bring back our money. \"}\\\\\n",
      "\\textcolor{gray}{16}&{Sadly, the American dream is dead.}\\\\\n",
      "\\textcolor{gray}{17}&{But if I get elected president, I will bring it back bigger and better and stronger than ever before, and we will make America great again.\"\"}\\\\\n",
      "\\textcolor{gray}{18}&\\hl{By building a wall, fighting ISIS, and strengthening the Christian religion, Trump will make the greatest president of all time.}\\\\\n",
      "\\textcolor{gray}{19}&{That is my argument.}\\\\\n",
      "\\textcolor{gray}{20}&{Thankyou}\\\\\n",
      "\\hline\n",
      "\\end{tabularx}\n"
     ]
    },
    {
     "data": {
      "text/html": [
       "<p style=\"text-align:right\">trump-05</p><div style=\"border: solid black 1px; padding-left: 5px\"><span style=\"color:grey\">01 </span><span style=\"width:50%; background-color:white\">First of all, I support O'Malley, but that isn't important.</span><br><span style=\"color:grey\">02 </span><span style=\"width:50%; background-color:white\">It looks like this debate comes down to Trump's stance on immigration.</span><br><span style=\"color:grey\">03 </span><span style=\"width:50%; background-color:white\">I showed clear harms from racism - shattered communities, (look at Ferguson if you want proof lol) poor mental and physical health, economic downturns, etc..</span><br><span style=\"color:grey\">04 </span><span style=\"width:50%; background-color:white\">If Trump becomes president and embraces racism, all these impacts will go nationwide.</span><br><span style=\"color:grey\">05 </span><span style=\"width:50%; background-color:white\">My opponent has no response to this, so insofar as I can prove Trump is racist, you vote neg.</span><br><span style=\"color:grey\">06 </span><span style=\"width:50%; background-color:white\">And I showed clear evidence of that, but if you want more, here's how illegal immigrants are treated.</span><br><span style=\"color:grey\">07 </span><span style=\"width:50%; background-color:white\">Source 3: ( These Minutemen inspired by rightwing Republican Pat Buchanan's claim that urgent action is needed to preserve the U.S. as an ethnically white, Christian-European nation.</span><br><span style=\"color:grey\">08 </span><span style=\"width:50%; background-color:white\">(...) The cold-blooded vigilante attacks on immigrants aren't a new development.</span><br><span style=\"color:grey\">09 </span><span style=\"width:50%; background-color:yellow\">Ranchers in Arizona have killed undocumented immigrants for years.</span><br><span style=\"color:grey\">10 </span><span style=\"width:50%; background-color:white\">They have terrorized them, hunted them down with dogs, and handed them over to the Border Patrol at gunpoint.</span><br><span style=\"color:grey\">11 </span><span style=\"width:50%; background-color:white\">(...) they have developed deep ties with powerful forces high in the government\"and are operating in the era where any paranoid appeal for more security quickly gets official backing and a public hearing.</span><br><span style=\"color:grey\">12 </span><span style=\"width:50%; background-color:white\">(...) Mile by mile, walls and barbed wire have cut off Mexico from the United States, forcing more and more immigrants to cross over in the dangerous desolate stretches of border in Arizona.</span><br><span style=\"color:grey\">13 </span><span style=\"width:50%; background-color:white\">It has created an intense conflict zone, as desperate immigrant workers try to cross and survive, and an intensified government crackdown hunts them through the dry hills to trap them, capture them, (...) this reactionary Minuteman movement has emerged to demand even more extreme and violent actions against the immigrants.</span><br><span style=\"color:grey\">14 </span><span style=\"width:50%; background-color:white\">They have criticized the proposals made by President Bush and Mexico's President Vicente Fox to create a legal program for bringing Mexican immigrants into the U.S..</span><br><span style=\"color:grey\">15 </span><span style=\"width:50%; background-color:white\">So these Minutemen kill and hunt down not only illegal immigrants, but also innocent Americans.</span><br><span style=\"color:grey\">16 </span><span style=\"width:50%; background-color:white\">Clearly more anti immigration laws will simply fuel more racism, and the death of innocent people.</span><br><span style=\"color:grey\">17 </span><span style=\"width:50%; background-color:yellow\">So since Trump will cause more terrible organizations like this to form, please vote neg - vote down Trump.</span><br></div>"
      ]
     },
     "metadata": {},
     "output_type": "display_data"
    },
    {
     "name": "stdout",
     "output_type": "stream",
     "text": [
      "\\noindent\\begin{tabularx}{\\textwidth}{|rX|}\n",
      "\t\t\\multicolumn{2}{r}{\\textcolor{gray}{trump-05}}\\\\\n",
      "        \\hline\n",
      "\\textcolor{gray}{01}&{First of all, I support O'Malley, but that isn't important.}\\\\\n",
      "\\textcolor{gray}{02}&{It looks like this debate comes down to Trump's stance on immigration.}\\\\\n",
      "\\textcolor{gray}{03}&{I showed clear harms from racism - shattered communities, (look at Ferguson if you want proof lol) poor mental and physical health, economic downturns, etc..}\\\\\n",
      "\\textcolor{gray}{04}&{If Trump becomes president and embraces racism, all these impacts will go nationwide.}\\\\\n",
      "\\textcolor{gray}{05}&{My opponent has no response to this, so insofar as I can prove Trump is racist, you vote neg.}\\\\\n",
      "\\textcolor{gray}{06}&{And I showed clear evidence of that, but if you want more, here's how illegal immigrants are treated.}\\\\\n",
      "\\textcolor{gray}{07}&{Source 3: ( These Minutemen inspired by rightwing Republican Pat Buchanan's claim that urgent action is needed to preserve the U.S. as an ethnically white, Christian-European nation.}\\\\\n",
      "\\textcolor{gray}{08}&{(...) The cold-blooded vigilante attacks on immigrants aren't a new development.}\\\\\n",
      "\\textcolor{gray}{09}&\\hl{Ranchers in Arizona have killed undocumented immigrants for years.}\\\\\n",
      "\\textcolor{gray}{10}&{They have terrorized them, hunted them down with dogs, and handed them over to the Border Patrol at gunpoint.}\\\\\n",
      "\\textcolor{gray}{11}&{(...) they have developed deep ties with powerful forces high in the government\"and are operating in the era where any paranoid appeal for more security quickly gets official backing and a public hearing.}\\\\\n",
      "\\textcolor{gray}{12}&{(...) Mile by mile, walls and barbed wire have cut off Mexico from the United States, forcing more and more immigrants to cross over in the dangerous desolate stretches of border in Arizona.}\\\\\n",
      "\\textcolor{gray}{13}&{It has created an intense conflict zone, as desperate immigrant workers try to cross and survive, and an intensified government crackdown hunts them through the dry hills to trap them, capture them, (...) this reactionary Minuteman movement has emerged to demand even more extreme and violent actions against the immigrants.}\\\\\n",
      "\\textcolor{gray}{14}&{They have criticized the proposals made by President Bush and Mexico's President Vicente Fox to create a legal program for bringing Mexican immigrants into the U.S..}\\\\\n",
      "\\textcolor{gray}{15}&{So these Minutemen kill and hunt down not only illegal immigrants, but also innocent Americans.}\\\\\n",
      "\\textcolor{gray}{16}&{Clearly more anti immigration laws will simply fuel more racism, and the death of innocent people.}\\\\\n",
      "\\textcolor{gray}{17}&\\hl{So since Trump will cause more terrible organizations like this to form, please vote neg - vote down Trump.}\\\\\n",
      "\\hline\n",
      "\\end{tabularx}\n"
     ]
    }
   ],
   "source": [
    "#print_arg(trump_args[0])\n",
    "print_arg(trump_args[1])\n",
    "print_arg(trump_args[2])\n",
    "print_arg(trump_args[3])"
   ]
  },
  {
   "cell_type": "code",
   "execution_count": 14,
   "id": "d784b4d8-3cd0-4b07-94d1-a5cc5124f05e",
   "metadata": {
    "execution": {
     "iopub.execute_input": "2021-12-02T13:34:06.728254Z",
     "iopub.status.busy": "2021-12-02T13:34:06.727247Z",
     "iopub.status.idle": "2021-12-02T13:34:06.741243Z",
     "shell.execute_reply": "2021-12-02T13:34:06.741243Z",
     "shell.execute_reply.started": "2021-12-02T13:34:06.728254Z"
    },
    "tags": []
   },
   "outputs": [],
   "source": [
    "trump_args[1].excerpt_indices = [0,9]\n",
    "trump_args[2].excerpt_indices = [8,17]\n",
    "trump_args[3].excerpt_indices = [8,16]"
   ]
  },
  {
   "cell_type": "markdown",
   "id": "baf4f17b",
   "metadata": {},
   "source": [
    "The arguments above convey con stance towards Trump. They express criticism that addresses mainly racism and his position towards immigration. trump-02 starts with showing that Trump is a racist, continues with declaring racism is wrong, and finally gives evidence that it harms society. Its corresponding snippet points out that he is a racist and racism is wrong. trump-04 takes up some points made by pro-side regarding racism and immigration. Its first snippet sentence is the author's comment on the pro-point, while the second seems to be part of the pro-point itself. The last argument gives reasons why racism is bad, especially on a nationwide scale. Furthermore, it mentions problems with a militia that hunts immigrants. Its snippet captures the latter and that Trump causes such organizations.\n",
    "\n",
    "Finding other snippets that introduce more contrastiveness seems to be difficult (if we also want to preserve some representativeness): Even though the main aspects are racism and immigration, each of the arguments shows different facets and is thereby already sufficiently contrastive. "
   ]
  },
  {
   "cell_type": "markdown",
   "id": "f95a4385",
   "metadata": {},
   "source": [
    "## Death penalty"
   ]
  },
  {
   "cell_type": "code",
   "execution_count": 13,
   "id": "3ab718af",
   "metadata": {
    "execution": {
     "iopub.execute_input": "2021-12-20T16:31:23.827795Z",
     "iopub.status.busy": "2021-12-20T16:31:23.826762Z",
     "iopub.status.idle": "2021-12-20T16:31:23.838894Z",
     "shell.execute_reply": "2021-12-20T16:31:23.837914Z",
     "shell.execute_reply.started": "2021-12-20T16:31:23.827795Z"
    },
    "tags": []
   },
   "outputs": [],
   "source": [
    "dp_arguments = DataHandler.get_query_context(filtered_arguments, 'death_penalty')"
   ]
  },
  {
   "cell_type": "code",
   "execution_count": 14,
   "id": "368721dc",
   "metadata": {
    "execution": {
     "iopub.execute_input": "2021-12-20T16:31:24.720304Z",
     "iopub.status.busy": "2021-12-20T16:31:24.720008Z",
     "iopub.status.idle": "2021-12-20T16:31:24.742984Z",
     "shell.execute_reply": "2021-12-20T16:31:24.742332Z",
     "shell.execute_reply.started": "2021-12-20T16:31:24.720304Z"
    },
    "tags": []
   },
   "outputs": [
    {
     "data": {
      "text/html": [
       "<p style=\"text-align:right\">death_penalty-07</p><div style=\"border: solid black 1px; padding-left: 5px\"><span style=\"color:grey\">01 </span><span style=\"width:50%; background-color:white\">Rebuttal 1: Why not just do it with a firing squad?</span><br><span style=\"color:grey\">02 </span><span style=\"width:50%; background-color:white\">Let them donate the guns and ammunition to kill them.</span><br><span style=\"color:grey\">03 </span><span style=\"width:50%; background-color:white\">Let the family or concerned citizens execute them or you can just hang them or use the electric chair.</span><br><span style=\"color:grey\">04 </span><span style=\"width:50%; background-color:white\">All of these are cost efficient ways of executing the death penalty.</span><br><span style=\"color:grey\">05 </span><span style=\"width:50%; background-color:white\">My opponent may also state that the trial will take longer, but the trial is going to cost money anyways.</span><br><span style=\"color:grey\">06 </span><span style=\"width:50%; background-color:white\">Death penalty or no death penalty.</span><br><span style=\"color:grey\">07 </span><span style=\"width:50%; background-color:white\">We can shorten the trials.</span><br><span style=\"color:grey\">08 </span><span style=\"width:50%; background-color:white\">My opponent also needs to take into account how much money it takes to feed someone for life.</span><br><span style=\"color:grey\">09 </span><span style=\"width:50%; background-color:white\">Rebuttal 2: These are just taken by citizens who have not witnessed the death penalty and don't know the effect of the death penalty.</span><br><span style=\"color:grey\">10 </span><span style=\"width:50%; background-color:white\">You also fail to understand the variety of states.</span><br><span style=\"color:grey\">11 </span><span style=\"width:50%; background-color:white\">States have different Almost all of these non-death penalty states, are generally small states.</span><br><span style=\"color:grey\">12 </span><span style=\"width:50%; background-color:white\">You also have to take into account gun control and general crime in the area.</span><br><span style=\"color:grey\">13 </span><span style=\"width:50%; background-color:white\">Seriously who ever heard a serious news story coming from Alaska?</span><br><span style=\"color:grey\">14 </span><span style=\"width:50%; background-color:white\">Then you have Texas, Louisiana and Alabama, all who are against gun control.</span><br><span style=\"color:grey\">15 </span><span style=\"width:50%; background-color:white\">Here are the crimes committed in Texas.</span><br><span style=\"color:grey\">16 </span><span style=\"width:50%; background-color:white\">(1) with the crimes committed in Minnesota, (2) you will see that Minnesota have generally less crime, whether it be assault, or property, than Texas.</span><br><span style=\"color:grey\">17 </span><span style=\"width:50%; background-color:white\">You also give a compare country to country.</span><br><span style=\"color:grey\">18 </span><span style=\"width:50%; background-color:white\">You fail to take into account the general crime and culture of the area there!</span><br><span style=\"color:grey\">19 </span><span style=\"width:50%; background-color:white\">Rebuttal 3: You have one case where the U.S got it wrong.</span><br><span style=\"color:grey\">20 </span><span style=\"width:50%; background-color:white\">The burning of the DNA test could've just been an error.</span><br><span style=\"color:grey\">21 </span><span style=\"width:50%; background-color:white\">That is not a problem with the death penalty.</span><br><span style=\"color:grey\">22 </span><span style=\"width:50%; background-color:white\">it is a problem with the jobs the cops do on the trail, and can easily be fixed.</span><br><span style=\"color:grey\">23 </span><span style=\"width:50%; background-color:white\">Rebuttal 4: Well, I have to give him this statement because a lot has changed....</span><br><span style=\"color:grey\">24 </span><span style=\"width:50%; background-color:white\">Nope!</span><br><span style=\"color:grey\">25 </span><span style=\"width:50%; background-color:white\">Murder was still murder back then, as it is now.</span><br><span style=\"color:grey\">26 </span><span style=\"width:50%; background-color:white\">For a source, read in a 6th grade history book.</span><br><span style=\"color:grey\">27 </span><span style=\"width:50%; background-color:white\">Rebuttal 5: MY OPPONENT HAS ADDMITED THAT THE DEATH PENALTY DETURED CRIME.</span><br><span style=\"color:grey\">28 </span><span style=\"width:50%; background-color:yellow\">In states with more murders, the death penalty has helped lower like Texas, Louisiana, and Alabama.</span><br><span style=\"color:grey\">29 </span><span style=\"width:50%; background-color:yellow\">These are where many murders happen, and they have started to go down.</span><br><span style=\"color:grey\">30 </span><span style=\"width:50%; background-color:white\">So, a main chunk of that is the states with the death penalty.</span><br><span style=\"color:grey\">31 </span><span style=\"width:50%; background-color:white\">Then I ask you this, why do criminals, when they go to court, ask for life and not death.</span><br><span style=\"color:grey\">32 </span><span style=\"width:50%; background-color:white\">People commit stupid things because YOLO.</span><br><span style=\"color:grey\">33 </span><span style=\"width:50%; background-color:white\">People commit suicide because they are depressed.</span><br><span style=\"color:grey\">34 </span><span style=\"width:50%; background-color:white\">people join the military to get out of trouble, for structure, and pride in our nation.</span><br><span style=\"color:grey\">35 </span><span style=\"width:50%; background-color:white\">Ladies And Gentleman, I have proved that: Murders do go down as executions rise Death Penalty is cost-efficient Removing the death penalty will have negative effects The death penalty is morally justified Thank you 1.</span><br><span style=\"color:grey\">36 </span><span style=\"width:50%; background-color:white\">2.</span><br></div>"
      ]
     },
     "metadata": {},
     "output_type": "display_data"
    },
    {
     "name": "stdout",
     "output_type": "stream",
     "text": [
      "\\noindent\\begin{tabularx}{\\textwidth}{|rX|}\n",
      "\t\t\\multicolumn{2}{r}{\\textcolor{gray}{death_penalty-07}}\\\\\n",
      "        \\hline\n",
      "\\textcolor{gray}{01}&{Rebuttal 1: Why not just do it with a firing squad?}\\\\\n",
      "\\textcolor{gray}{02}&{Let them donate the guns and ammunition to kill them.}\\\\\n",
      "\\textcolor{gray}{03}&{Let the family or concerned citizens execute them or you can just hang them or use the electric chair.}\\\\\n",
      "\\textcolor{gray}{04}&{All of these are cost efficient ways of executing the death penalty.}\\\\\n",
      "\\textcolor{gray}{05}&{My opponent may also state that the trial will take longer, but the trial is going to cost money anyways.}\\\\\n",
      "\\textcolor{gray}{06}&{Death penalty or no death penalty.}\\\\\n",
      "\\textcolor{gray}{07}&{We can shorten the trials.}\\\\\n",
      "\\textcolor{gray}{08}&{My opponent also needs to take into account how much money it takes to feed someone for life.}\\\\\n",
      "\\textcolor{gray}{09}&{Rebuttal 2: These are just taken by citizens who have not witnessed the death penalty and don't know the effect of the death penalty.}\\\\\n",
      "\\textcolor{gray}{10}&{You also fail to understand the variety of states.}\\\\\n",
      "\\textcolor{gray}{11}&{States have different Almost all of these non-death penalty states, are generally small states.}\\\\\n",
      "\\textcolor{gray}{12}&{You also have to take into account gun control and general crime in the area.}\\\\\n",
      "\\textcolor{gray}{13}&{Seriously who ever heard a serious news story coming from Alaska?}\\\\\n",
      "\\textcolor{gray}{14}&{Then you have Texas, Louisiana and Alabama, all who are against gun control.}\\\\\n",
      "\\textcolor{gray}{15}&{Here are the crimes committed in Texas.}\\\\\n",
      "\\textcolor{gray}{16}&{(1) with the crimes committed in Minnesota, (2) you will see that Minnesota have generally less crime, whether it be assault, or property, than Texas.}\\\\\n",
      "\\textcolor{gray}{17}&{You also give a compare country to country.}\\\\\n",
      "\\textcolor{gray}{18}&{You fail to take into account the general crime and culture of the area there!}\\\\\n",
      "\\textcolor{gray}{19}&{Rebuttal 3: You have one case where the U.S got it wrong.}\\\\\n",
      "\\textcolor{gray}{20}&{The burning of the DNA test could've just been an error.}\\\\\n",
      "\\textcolor{gray}{21}&{That is not a problem with the death penalty.}\\\\\n",
      "\\textcolor{gray}{22}&{it is a problem with the jobs the cops do on the trail, and can easily be fixed.}\\\\\n",
      "\\textcolor{gray}{23}&{Rebuttal 4: Well, I have to give him this statement because a lot has changed....}\\\\\n",
      "\\textcolor{gray}{24}&{Nope!}\\\\\n",
      "\\textcolor{gray}{25}&{Murder was still murder back then, as it is now.}\\\\\n",
      "\\textcolor{gray}{26}&{For a source, read in a 6th grade history book.}\\\\\n",
      "\\textcolor{gray}{27}&{Rebuttal 5: MY OPPONENT HAS ADDMITED THAT THE DEATH PENALTY DETURED CRIME.}\\\\\n",
      "\\textcolor{gray}{28}&\\hl{In states with more murders, the death penalty has helped lower like Texas, Louisiana, and Alabama.}\\\\\n",
      "\\textcolor{gray}{29}&\\hl{These are where many murders happen, and they have started to go down.}\\\\\n",
      "\\textcolor{gray}{30}&{So, a main chunk of that is the states with the death penalty.}\\\\\n",
      "\\textcolor{gray}{31}&{Then I ask you this, why do criminals, when they go to court, ask for life and not death.}\\\\\n",
      "\\textcolor{gray}{32}&{People commit stupid things because YOLO.}\\\\\n",
      "\\textcolor{gray}{33}&{People commit suicide because they are depressed.}\\\\\n",
      "\\textcolor{gray}{34}&{people join the military to get out of trouble, for structure, and pride in our nation.}\\\\\n",
      "\\textcolor{gray}{35}&{Ladies And Gentleman, I have proved that: Murders do go down as executions rise Death Penalty is cost-efficient Removing the death penalty will have negative effects The death penalty is morally justified Thank you 1.}\\\\\n",
      "\\textcolor{gray}{36}&{2.}\\\\\n",
      "\\hline\n",
      "\\end{tabularx}\n"
     ]
    },
    {
     "data": {
      "text/html": [
       "<p style=\"text-align:right\">death_penalty-08</p><div style=\"border: solid black 1px; padding-left: 5px\"><span style=\"color:grey\">01 </span><span style=\"width:50%; background-color:white\">My opponent speaks no form of fact or statistic but morally on his/her opinion.</span><br><span style=\"color:grey\">02 </span><span style=\"width:50%; background-color:white\">I could sit here and talk about how I think the death penalty is good.</span><br><span style=\"color:grey\">03 </span><span style=\"width:50%; background-color:white\">But i'm not using facts or sources.</span><br><span style=\"color:grey\">04 </span><span style=\"width:50%; background-color:white\">If you need a reason on why the death penalty is a good idea; here are a few.</span><br><span style=\"color:grey\">05 </span><span style=\"width:50%; background-color:yellow\">One small but important reason on why the death penalty is a good idea is that it decreases the prisoner population, which saves even more tax payers money.</span><br><span style=\"color:grey\">06 </span><span style=\"width:50%; background-color:yellow\">Another reason why the death penalty is a good idea, Once a criminal is executed, he cannot kill again.</span><br><span style=\"color:grey\">07 </span><span style=\"width:50%; background-color:white\">The case for this would be Kenneth Allen McDuff who was on Death Row when the death penalty was declared unconstitutional in the 1970's.</span><br><span style=\"color:grey\">08 </span><span style=\"width:50%; background-color:white\">His sentence was commuted to life and he was eventually released on parole and killed again.</span><br><span style=\"color:grey\">09 </span><span style=\"width:50%; background-color:white\">He has since been executed My final reason for this round is that the death penalty is actually a very good deterrence.</span><br><span style=\"color:grey\">10 </span><span style=\"width:50%; background-color:white\">If you look at this link: You see a chart.</span><br><span style=\"color:grey\">11 </span><span style=\"width:50%; background-color:white\">The chart is documenting the number of yearly homicide rate per 100,000 population.</span><br><span style=\"color:grey\">12 </span><span style=\"width:50%; background-color:white\">The chart also documents the years 1950-2002.</span><br><span style=\"color:grey\">13 </span><span style=\"width:50%; background-color:white\">Lastly, the chart documents the yearly number of executions.</span><br><span style=\"color:grey\">14 </span><span style=\"width:50%; background-color:white\">The death penalty is actually considered a deterrent.</span><br><span style=\"color:grey\">15 </span><span style=\"width:50%; background-color:white\">My mistake.</span><br></div>"
      ]
     },
     "metadata": {},
     "output_type": "display_data"
    },
    {
     "name": "stdout",
     "output_type": "stream",
     "text": [
      "\\noindent\\begin{tabularx}{\\textwidth}{|rX|}\n",
      "\t\t\\multicolumn{2}{r}{\\textcolor{gray}{death_penalty-08}}\\\\\n",
      "        \\hline\n",
      "\\textcolor{gray}{01}&{My opponent speaks no form of fact or statistic but morally on his/her opinion.}\\\\\n",
      "\\textcolor{gray}{02}&{I could sit here and talk about how I think the death penalty is good.}\\\\\n",
      "\\textcolor{gray}{03}&{But i'm not using facts or sources.}\\\\\n",
      "\\textcolor{gray}{04}&{If you need a reason on why the death penalty is a good idea; here are a few.}\\\\\n",
      "\\textcolor{gray}{05}&\\hl{One small but important reason on why the death penalty is a good idea is that it decreases the prisoner population, which saves even more tax payers money.}\\\\\n",
      "\\textcolor{gray}{06}&\\hl{Another reason why the death penalty is a good idea, Once a criminal is executed, he cannot kill again.}\\\\\n",
      "\\textcolor{gray}{07}&{The case for this would be Kenneth Allen McDuff who was on Death Row when the death penalty was declared unconstitutional in the 1970's.}\\\\\n",
      "\\textcolor{gray}{08}&{His sentence was commuted to life and he was eventually released on parole and killed again.}\\\\\n",
      "\\textcolor{gray}{09}&{He has since been executed My final reason for this round is that the death penalty is actually a very good deterrence.}\\\\\n",
      "\\textcolor{gray}{10}&{If you look at this link: You see a chart.}\\\\\n",
      "\\textcolor{gray}{11}&{The chart is documenting the number of yearly homicide rate per 100,000 population.}\\\\\n",
      "\\textcolor{gray}{12}&{The chart also documents the years 1950-2002.}\\\\\n",
      "\\textcolor{gray}{13}&{Lastly, the chart documents the yearly number of executions.}\\\\\n",
      "\\textcolor{gray}{14}&{The death penalty is actually considered a deterrent.}\\\\\n",
      "\\textcolor{gray}{15}&{My mistake.}\\\\\n",
      "\\hline\n",
      "\\end{tabularx}\n"
     ]
    },
    {
     "data": {
      "text/html": [
       "<p style=\"text-align:right\">death_penalty-09</p><div style=\"border: solid black 1px; padding-left: 5px\"><span style=\"color:grey\">01 </span><span style=\"width:50%; background-color:white\">The death penalty has a purpose.</span><br><span style=\"color:grey\">02 </span><span style=\"width:50%; background-color:white\">People who have killed many and even thousands cant be sentence to death?</span><br><span style=\"color:grey\">03 </span><span style=\"width:50%; background-color:white\">Death penalty should exist because when someone commits a crime that's so violent the end result can cause hundreds to die.</span><br><span style=\"color:grey\">04 </span><span style=\"width:50%; background-color:white\">If there is no death penalty then the maniac will still kill more people.</span><br><span style=\"color:grey\">05 </span><span style=\"width:50%; background-color:white\">Death penalty is used to get rid of bad people so bad that hundreds die.</span><br><span style=\"color:grey\">06 </span><span style=\"width:50%; background-color:white\">If you think the Death penalty is bad because it kills people you must not know what the purpose of it is.</span><br><span style=\"color:grey\">07 </span><span style=\"width:50%; background-color:white\">The death penalty is a way to put fear into the criminal and to put fear into others.</span><br><span style=\"color:grey\">08 </span><span style=\"width:50%; background-color:white\">Crime has decreased and the death penalty still lives.</span><br><span style=\"color:grey\">09 </span><span style=\"width:50%; background-color:white\">Several tests have shown that the death penalty is an effective deterrent of future crimes.</span><br><span style=\"color:grey\">10 </span><span style=\"width:50%; background-color:white\">Do people who commit heinous crimes, such as the bombers, really have human rights.</span><br><span style=\"color:grey\">11 </span><span style=\"width:50%; background-color:white\">To say that we are lowering ourselves to that level is wrong.</span><br><span style=\"color:grey\">12 </span><span style=\"width:50%; background-color:white\">Killing over 200 innocent lives.</span><br><span style=\"color:grey\">13 </span><span style=\"width:50%; background-color:white\">We have to look as well at the possibilities of these criminals committing crimes again.</span><br><span style=\"color:grey\">14 </span><span style=\"width:50%; background-color:white\">In Australia murder, on average, is imprisonment for 12 years.</span><br><span style=\"color:grey\">15 </span><span style=\"width:50%; background-color:white\">This means many murders are set free, able to commit further crimes.</span><br><span style=\"color:grey\">16 </span><span style=\"width:50%; background-color:yellow\">Benefits of death penalty - decreases jail over population - puts fear into other criminals and shows a purpose - It avenges innocent lives - It decreases crime.</span><br><span style=\"color:grey\">17 </span><span style=\"width:50%; background-color:yellow\">Without the death penalty -Over population of crime in jail - More criminals roam around - citizen would be feared.</span><br><span style=\"color:grey\">18 </span><span style=\"width:50%; background-color:white\">Probably could cause strikes on government, - Crime rate goes up It is on to you now</span><br></div>"
      ]
     },
     "metadata": {},
     "output_type": "display_data"
    },
    {
     "name": "stdout",
     "output_type": "stream",
     "text": [
      "\\noindent\\begin{tabularx}{\\textwidth}{|rX|}\n",
      "\t\t\\multicolumn{2}{r}{\\textcolor{gray}{death_penalty-09}}\\\\\n",
      "        \\hline\n",
      "\\textcolor{gray}{01}&{The death penalty has a purpose.}\\\\\n",
      "\\textcolor{gray}{02}&{People who have killed many and even thousands cant be sentence to death?}\\\\\n",
      "\\textcolor{gray}{03}&{Death penalty should exist because when someone commits a crime that's so violent the end result can cause hundreds to die.}\\\\\n",
      "\\textcolor{gray}{04}&{If there is no death penalty then the maniac will still kill more people.}\\\\\n",
      "\\textcolor{gray}{05}&{Death penalty is used to get rid of bad people so bad that hundreds die.}\\\\\n",
      "\\textcolor{gray}{06}&{If you think the Death penalty is bad because it kills people you must not know what the purpose of it is.}\\\\\n",
      "\\textcolor{gray}{07}&{The death penalty is a way to put fear into the criminal and to put fear into others.}\\\\\n",
      "\\textcolor{gray}{08}&{Crime has decreased and the death penalty still lives.}\\\\\n",
      "\\textcolor{gray}{09}&{Several tests have shown that the death penalty is an effective deterrent of future crimes.}\\\\\n",
      "\\textcolor{gray}{10}&{Do people who commit heinous crimes, such as the bombers, really have human rights.}\\\\\n",
      "\\textcolor{gray}{11}&{To say that we are lowering ourselves to that level is wrong.}\\\\\n",
      "\\textcolor{gray}{12}&{Killing over 200 innocent lives.}\\\\\n",
      "\\textcolor{gray}{13}&{We have to look as well at the possibilities of these criminals committing crimes again.}\\\\\n",
      "\\textcolor{gray}{14}&{In Australia murder, on average, is imprisonment for 12 years.}\\\\\n",
      "\\textcolor{gray}{15}&{This means many murders are set free, able to commit further crimes.}\\\\\n",
      "\\textcolor{gray}{16}&\\hl{Benefits of death penalty - decreases jail over population - puts fear into other criminals and shows a purpose - It avenges innocent lives - It decreases crime.}\\\\\n",
      "\\textcolor{gray}{17}&\\hl{Without the death penalty -Over population of crime in jail - More criminals roam around - citizen would be feared.}\\\\\n",
      "\\textcolor{gray}{18}&{Probably could cause strikes on government, - Crime rate goes up It is on to you now}\\\\\n",
      "\\hline\n",
      "\\end{tabularx}\n"
     ]
    }
   ],
   "source": [
    "print_arg(dp_arguments[5])\n",
    "print_arg(dp_arguments[6])\n",
    "print_arg(dp_arguments[7])"
   ]
  },
  {
   "cell_type": "markdown",
   "id": "2a7bb34e",
   "metadata": {},
   "source": [
    "In contrast to the Trump debate, death penalty comprises more aspects, e.g. costs, deterrence, number of inmates, elimination of repeated crimes (committed by one person). Looking at the snippets, leads to the observation that they briefly mention nearly all of the aspects, and thus they are not contrastive. To split the information to the different snippets the following snippets seem suitable. death_penalty-07's snippet keeps sentence 28 and takes sentence 35 instead of 29."
   ]
  },
  {
   "cell_type": "code",
   "execution_count": 17,
   "id": "2320e3d1",
   "metadata": {
    "execution": {
     "iopub.execute_input": "2021-12-02T13:34:06.808250Z",
     "iopub.status.busy": "2021-12-02T13:34:06.808250Z",
     "iopub.status.idle": "2021-12-02T13:34:06.821242Z",
     "shell.execute_reply": "2021-12-02T13:34:06.821242Z",
     "shell.execute_reply.started": "2021-12-02T13:34:06.808250Z"
    },
    "tags": []
   },
   "outputs": [
    {
     "data": {
      "text/html": [
       "<p style=\"text-align:right\">death_penalty-07</p><div style=\"border: solid black 1px; padding-left: 5px\"><span style=\"color:grey\">01 </span><span style=\"width:50%; background-color:white\">Rebuttal 1: Why not just do it with a firing squad?</span><br><span style=\"color:grey\">02 </span><span style=\"width:50%; background-color:white\">Let them donate the guns and ammunition to kill them.</span><br><span style=\"color:grey\">03 </span><span style=\"width:50%; background-color:white\">Let the family or concerned citizens execute them or you can just hang them or use the electric chair.</span><br><span style=\"color:grey\">04 </span><span style=\"width:50%; background-color:white\">All of these are cost efficient ways of executing the death penalty.</span><br><span style=\"color:grey\">05 </span><span style=\"width:50%; background-color:white\">My opponent may also state that the trial will take longer, but the trial is going to cost money anyways.</span><br><span style=\"color:grey\">06 </span><span style=\"width:50%; background-color:white\">Death penalty or no death penalty.</span><br><span style=\"color:grey\">07 </span><span style=\"width:50%; background-color:white\">We can shorten the trials.</span><br><span style=\"color:grey\">08 </span><span style=\"width:50%; background-color:white\">My opponent also needs to take into account how much money it takes to feed someone for life.</span><br><span style=\"color:grey\">09 </span><span style=\"width:50%; background-color:white\">Rebuttal 2: These are just taken by citizens who have not witnessed the death penalty and don't know the effect of the death penalty.</span><br><span style=\"color:grey\">10 </span><span style=\"width:50%; background-color:white\">You also fail to understand the variety of states.</span><br><span style=\"color:grey\">11 </span><span style=\"width:50%; background-color:white\">States have different Almost all of these non-death penalty states, are generally small states.</span><br><span style=\"color:grey\">12 </span><span style=\"width:50%; background-color:white\">You also have to take into account gun control and general crime in the area.</span><br><span style=\"color:grey\">13 </span><span style=\"width:50%; background-color:white\">Seriously who ever heard a serious news story coming from Alaska?</span><br><span style=\"color:grey\">14 </span><span style=\"width:50%; background-color:white\">Then you have Texas, Louisiana and Alabama, all who are against gun control.</span><br><span style=\"color:grey\">15 </span><span style=\"width:50%; background-color:white\">Here are the crimes committed in Texas.</span><br><span style=\"color:grey\">16 </span><span style=\"width:50%; background-color:white\">(1) with the crimes committed in Minnesota, (2) you will see that Minnesota have generally less crime, whether it be assault, or property, than Texas.</span><br><span style=\"color:grey\">17 </span><span style=\"width:50%; background-color:white\">You also give a compare country to country.</span><br><span style=\"color:grey\">18 </span><span style=\"width:50%; background-color:white\">You fail to take into account the general crime and culture of the area there!</span><br><span style=\"color:grey\">19 </span><span style=\"width:50%; background-color:white\">Rebuttal 3: You have one case where the U.S got it wrong.</span><br><span style=\"color:grey\">20 </span><span style=\"width:50%; background-color:white\">The burning of the DNA test could've just been an error.</span><br><span style=\"color:grey\">21 </span><span style=\"width:50%; background-color:white\">That is not a problem with the death penalty.</span><br><span style=\"color:grey\">22 </span><span style=\"width:50%; background-color:white\">it is a problem with the jobs the cops do on the trail, and can easily be fixed.</span><br><span style=\"color:grey\">23 </span><span style=\"width:50%; background-color:white\">Rebuttal 4: Well, I have to give him this statement because a lot has changed....</span><br><span style=\"color:grey\">24 </span><span style=\"width:50%; background-color:white\">Nope!</span><br><span style=\"color:grey\">25 </span><span style=\"width:50%; background-color:white\">Murder was still murder back then, as it is now.</span><br><span style=\"color:grey\">26 </span><span style=\"width:50%; background-color:white\">For a source, read in a 6th grade history book.</span><br><span style=\"color:grey\">27 </span><span style=\"width:50%; background-color:white\">Rebuttal 5: MY OPPONENT HAS ADDMITED THAT THE DEATH PENALTY DETURED CRIME.</span><br><span style=\"color:grey\">28 </span><span style=\"width:50%; background-color:yellow\">In states with more murders, the death penalty has helped lower like Texas, Louisiana, and Alabama.</span><br><span style=\"color:grey\">29 </span><span style=\"width:50%; background-color:white\">These are where many murders happen, and they have started to go down.</span><br><span style=\"color:grey\">30 </span><span style=\"width:50%; background-color:white\">So, a main chunk of that is the states with the death penalty.</span><br><span style=\"color:grey\">31 </span><span style=\"width:50%; background-color:white\">Then I ask you this, why do criminals, when they go to court, ask for life and not death.</span><br><span style=\"color:grey\">32 </span><span style=\"width:50%; background-color:white\">People commit stupid things because YOLO.</span><br><span style=\"color:grey\">33 </span><span style=\"width:50%; background-color:white\">People commit suicide because they are depressed.</span><br><span style=\"color:grey\">34 </span><span style=\"width:50%; background-color:white\">people join the military to get out of trouble, for structure, and pride in our nation.</span><br><span style=\"color:grey\">35 </span><span style=\"width:50%; background-color:yellow\">Ladies And Gentleman, I have proved that: Murders do go down as executions rise Death Penalty is cost-efficient Removing the death penalty will have negative effects The death penalty is morally justified Thank you 1.</span><br><span style=\"color:grey\">36 </span><span style=\"width:50%; background-color:white\">2.</span><br></div>"
      ]
     },
     "metadata": {},
     "output_type": "display_data"
    },
    {
     "name": "stdout",
     "output_type": "stream",
     "text": [
      "\\noindent\\begin{tabularx}{\\textwidth}{|rX|}\n",
      "\t\t\\multicolumn{2}{r}{\\textcolor{gray}{death_penalty-07}}\\\\\n",
      "        \\hline\n",
      "{Rebuttal 1: Why not just do it with a firing squad?}\\\\\n",
      "{Let them donate the guns and ammunition to kill them.}\\\\\n",
      "{Let the family or concerned citizens execute them or you can just hang them or use the electric chair.}\\\\\n",
      "{All of these are cost efficient ways of executing the death penalty.}\\\\\n",
      "{My opponent may also state that the trial will take longer, but the trial is going to cost money anyways.}\\\\\n",
      "{Death penalty or no death penalty.}\\\\\n",
      "{We can shorten the trials.}\\\\\n",
      "{My opponent also needs to take into account how much money it takes to feed someone for life.}\\\\\n",
      "{Rebuttal 2: These are just taken by citizens who have not witnessed the death penalty and don't know the effect of the death penalty.}\\\\\n",
      "{You also fail to understand the variety of states.}\\\\\n",
      "{States have different Almost all of these non-death penalty states, are generally small states.}\\\\\n",
      "{You also have to take into account gun control and general crime in the area.}\\\\\n",
      "{Seriously who ever heard a serious news story coming from Alaska?}\\\\\n",
      "{Then you have Texas, Louisiana and Alabama, all who are against gun control.}\\\\\n",
      "{Here are the crimes committed in Texas.}\\\\\n",
      "{(1) with the crimes committed in Minnesota, (2) you will see that Minnesota have generally less crime, whether it be assault, or property, than Texas.}\\\\\n",
      "{You also give a compare country to country.}\\\\\n",
      "{You fail to take into account the general crime and culture of the area there!}\\\\\n",
      "{Rebuttal 3: You have one case where the U.S got it wrong.}\\\\\n",
      "{The burning of the DNA test could've just been an error.}\\\\\n",
      "{That is not a problem with the death penalty.}\\\\\n",
      "{it is a problem with the jobs the cops do on the trail, and can easily be fixed.}\\\\\n",
      "{Rebuttal 4: Well, I have to give him this statement because a lot has changed....}\\\\\n",
      "{Nope!}\\\\\n",
      "{Murder was still murder back then, as it is now.}\\\\\n",
      "{For a source, read in a 6th grade history book.}\\\\\n",
      "{Rebuttal 5: MY OPPONENT HAS ADDMITED THAT THE DEATH PENALTY DETURED CRIME.}\\\\\n",
      "\\textcolor{gray}{28}&\\hl{These are where many murders happen, and they have started to go down.}\\\\\n",
      "{So, a main chunk of that is the states with the death penalty.}\\\\\n",
      "{Then I ask you this, why do criminals, when they go to court, ask for life and not death.}\\\\\n",
      "{People commit stupid things because YOLO.}\\\\\n",
      "{People commit suicide because they are depressed.}\\\\\n",
      "{people join the military to get out of trouble, for structure, and pride in our nation.}\\\\\n",
      "\\textcolor{gray}{35}&\\hl{2.}\\\\\n",
      "\\hline\n",
      "\\end{tabularx}\n"
     ]
    }
   ],
   "source": [
    "dp_arguments[5].excerpt_indices = [27,34]\n",
    "print_arg(dp_arguments[5], hl=[27,34])"
   ]
  },
  {
   "cell_type": "markdown",
   "id": "4c3e5582",
   "metadata": {},
   "source": [
    "Since the decrease of prisoner population, the consequent savings, and the elimination of repeated crimes are not part of the first argument's snippet, we adhere to the snippet for death_penalty-08. Regarding the last argument (death_penalty-09), we choose sentence 7 to add the fear aspect, and sentence 10 to introduce the human rights question."
   ]
  },
  {
   "cell_type": "code",
   "execution_count": 18,
   "id": "1ab12088",
   "metadata": {
    "execution": {
     "iopub.execute_input": "2021-12-02T13:34:06.823245Z",
     "iopub.status.busy": "2021-12-02T13:34:06.822242Z",
     "iopub.status.idle": "2021-12-02T13:34:06.837240Z",
     "shell.execute_reply": "2021-12-02T13:34:06.837240Z",
     "shell.execute_reply.started": "2021-12-02T13:34:06.823245Z"
    },
    "tags": []
   },
   "outputs": [
    {
     "data": {
      "text/html": [
       "<p style=\"text-align:right\">death_penalty-09</p><div style=\"border: solid black 1px; padding-left: 5px\"><span style=\"color:grey\">01 </span><span style=\"width:50%; background-color:white\">The death penalty has a purpose.</span><br><span style=\"color:grey\">02 </span><span style=\"width:50%; background-color:white\">People who have killed many and even thousands cant be sentence to death?</span><br><span style=\"color:grey\">03 </span><span style=\"width:50%; background-color:white\">Death penalty should exist because when someone commits a crime that's so violent the end result can cause hundreds to die.</span><br><span style=\"color:grey\">04 </span><span style=\"width:50%; background-color:white\">If there is no death penalty then the maniac will still kill more people.</span><br><span style=\"color:grey\">05 </span><span style=\"width:50%; background-color:white\">Death penalty is used to get rid of bad people so bad that hundreds die.</span><br><span style=\"color:grey\">06 </span><span style=\"width:50%; background-color:white\">If you think the Death penalty is bad because it kills people you must not know what the purpose of it is.</span><br><span style=\"color:grey\">07 </span><span style=\"width:50%; background-color:yellow\">The death penalty is a way to put fear into the criminal and to put fear into others.</span><br><span style=\"color:grey\">08 </span><span style=\"width:50%; background-color:white\">Crime has decreased and the death penalty still lives.</span><br><span style=\"color:grey\">09 </span><span style=\"width:50%; background-color:white\">Several tests have shown that the death penalty is an effective deterrent of future crimes.</span><br><span style=\"color:grey\">10 </span><span style=\"width:50%; background-color:yellow\">Do people who commit heinous crimes, such as the bombers, really have human rights.</span><br><span style=\"color:grey\">11 </span><span style=\"width:50%; background-color:white\">To say that we are lowering ourselves to that level is wrong.</span><br><span style=\"color:grey\">12 </span><span style=\"width:50%; background-color:white\">Killing over 200 innocent lives.</span><br><span style=\"color:grey\">13 </span><span style=\"width:50%; background-color:white\">We have to look as well at the possibilities of these criminals committing crimes again.</span><br><span style=\"color:grey\">14 </span><span style=\"width:50%; background-color:white\">In Australia murder, on average, is imprisonment for 12 years.</span><br><span style=\"color:grey\">15 </span><span style=\"width:50%; background-color:white\">This means many murders are set free, able to commit further crimes.</span><br><span style=\"color:grey\">16 </span><span style=\"width:50%; background-color:white\">Benefits of death penalty - decreases jail over population - puts fear into other criminals and shows a purpose - It avenges innocent lives - It decreases crime.</span><br><span style=\"color:grey\">17 </span><span style=\"width:50%; background-color:white\">Without the death penalty -Over population of crime in jail - More criminals roam around - citizen would be feared.</span><br><span style=\"color:grey\">18 </span><span style=\"width:50%; background-color:white\">Probably could cause strikes on government, - Crime rate goes up It is on to you now</span><br></div>"
      ]
     },
     "metadata": {},
     "output_type": "display_data"
    },
    {
     "name": "stdout",
     "output_type": "stream",
     "text": [
      "\\noindent\\begin{tabularx}{\\textwidth}{|rX|}\n",
      "\t\t\\multicolumn{2}{r}{\\textcolor{gray}{death_penalty-09}}\\\\\n",
      "        \\hline\n",
      "{The death penalty has a purpose.}\\\\\n",
      "{People who have killed many and even thousands cant be sentence to death?}\\\\\n",
      "{Death penalty should exist because when someone commits a crime that's so violent the end result can cause hundreds to die.}\\\\\n",
      "{If there is no death penalty then the maniac will still kill more people.}\\\\\n",
      "{Death penalty is used to get rid of bad people so bad that hundreds die.}\\\\\n",
      "{If you think the Death penalty is bad because it kills people you must not know what the purpose of it is.}\\\\\n",
      "\\textcolor{gray}{07}&\\hl{Crime has decreased and the death penalty still lives.}\\\\\n",
      "{Several tests have shown that the death penalty is an effective deterrent of future crimes.}\\\\\n",
      "\\textcolor{gray}{10}&\\hl{To say that we are lowering ourselves to that level is wrong.}\\\\\n",
      "{Killing over 200 innocent lives.}\\\\\n",
      "{We have to look as well at the possibilities of these criminals committing crimes again.}\\\\\n",
      "{In Australia murder, on average, is imprisonment for 12 years.}\\\\\n",
      "{This means many murders are set free, able to commit further crimes.}\\\\\n",
      "{Benefits of death penalty - decreases jail over population - puts fear into other criminals and shows a purpose - It avenges innocent lives - It decreases crime.}\\\\\n",
      "{Without the death penalty -Over population of crime in jail - More criminals roam around - citizen would be feared.}\\\\\n",
      "{Probably could cause strikes on government, - Crime rate goes up It is on to you now}\\\\\n",
      "\\hline\n",
      "\\end{tabularx}\n"
     ]
    }
   ],
   "source": [
    "dp_arguments[6].excerpt_indices = [4,5]\n",
    "dp_arguments[7].excerpt_indices = [6,9]\n",
    "print_arg(dp_arguments[7], hl=[6,9])"
   ]
  },
  {
   "cell_type": "markdown",
   "id": "d15da681",
   "metadata": {},
   "source": [
    "# Sentence graph"
   ]
  },
  {
   "cell_type": "markdown",
   "id": "8c94fdb7",
   "metadata": {},
   "source": [
    "This section sheds light on the semantic similarity of sentences according to the sentences embeddings. To do so, we look at the feminism context along with the sentence similarity graphs. Nodes of the graphs are sentences, each is annotated with the argument it belongs to and the sentence number as in the text block. Edges represent similarity, the lighter the edge the lower the similarity and vice versa."
   ]
  },
  {
   "cell_type": "code",
   "execution_count": 19,
   "id": "a0213435",
   "metadata": {
    "execution": {
     "iopub.execute_input": "2021-12-02T13:34:06.839242Z",
     "iopub.status.busy": "2021-12-02T13:34:06.839242Z",
     "iopub.status.idle": "2021-12-02T13:34:06.853240Z",
     "shell.execute_reply": "2021-12-02T13:34:06.853240Z",
     "shell.execute_reply.started": "2021-12-02T13:34:06.839242Z"
    },
    "tags": []
   },
   "outputs": [
    {
     "data": {
      "text/html": [
       "<p style=\"text-align:right\">feminism-01</p><div style=\"border: solid black 1px; padding-left: 5px\"><span style=\"color:grey\">01 </span><span style=\"width:50%; background-color:white\">Do American women still need feminism?</span><br><span style=\"color:grey\">02 </span><span style=\"width:50%; background-color:yellow\">A controversial social media movement called Women Against Feminism features women explaining \" mostly in \"selfies\" with handwritten signs \" why they do not.</span><br><span style=\"color:grey\">03 </span><span style=\"width:50%; background-color:white\">Feminist responses have ranged from bafflement to vitriol or mockery to arguments that these women don\"t know what feminism is.</span><br><span style=\"color:grey\">04 </span><span style=\"width:50%; background-color:yellow\">But while this new movement has its silly aspects, it raises some much-needed questions about feminism\"s present and future state \" and, in the weeks since it first attracted notice, many prominent feminists have helped validate some of the criticisms.</span><br></div>"
      ]
     },
     "metadata": {},
     "output_type": "display_data"
    },
    {
     "name": "stdout",
     "output_type": "stream",
     "text": [
      "\\noindent\\begin{tabularx}{\\textwidth}{|rX|}\n",
      "\t\t\\multicolumn{2}{r}{\\textcolor{gray}{feminism-01}}\\\\\n",
      "        \\hline\n",
      "\\textcolor{gray}{01}&{Do American women still need feminism?}\\\\\n",
      "\\textcolor{gray}{02}&\\hl{A controversial social media movement called Women Against Feminism features women explaining \" mostly in \"selfies\" with handwritten signs \" why they do not.}\\\\\n",
      "\\textcolor{gray}{03}&{Feminist responses have ranged from bafflement to vitriol or mockery to arguments that these women don\"t know what feminism is.}\\\\\n",
      "\\textcolor{gray}{04}&\\hl{But while this new movement has its silly aspects, it raises some much-needed questions about feminism\"s present and future state \" and, in the weeks since it first attracted notice, many prominent feminists have helped validate some of the criticisms.}\\\\\n",
      "\\hline\n",
      "\\end{tabularx}\n"
     ]
    }
   ],
   "source": [
    "print_arg(feminism_args[0])"
   ]
  },
  {
   "cell_type": "markdown",
   "id": "2f1f6a9b",
   "metadata": {},
   "source": [
    "<img src=\"feminism-01.png\" height=\"500\" width=\"500\"/>"
   ]
  },
  {
   "cell_type": "markdown",
   "id": "f7d3c157",
   "metadata": {},
   "source": [
    "We can observe that the snippet sentences are central in terms of being similar to the remaining ones, and therefore, they are representative for the argument."
   ]
  },
  {
   "cell_type": "code",
   "execution_count": 20,
   "id": "8a75c400",
   "metadata": {
    "execution": {
     "iopub.execute_input": "2021-12-02T13:34:06.854242Z",
     "iopub.status.busy": "2021-12-02T13:34:06.854242Z",
     "iopub.status.idle": "2021-12-02T13:34:06.869242Z",
     "shell.execute_reply": "2021-12-02T13:34:06.869242Z",
     "shell.execute_reply.started": "2021-12-02T13:34:06.854242Z"
    },
    "tags": []
   },
   "outputs": [
    {
     "data": {
      "text/html": [
       "<p style=\"text-align:right\">feminism-02</p><div style=\"border: solid black 1px; padding-left: 5px\"><span style=\"color:grey\">01 </span><span style=\"width:50%; background-color:white\">Women don't need feminism.</span><br><span style=\"color:grey\">02 </span><span style=\"width:50%; background-color:white\">They are highly capable of taking care of themselves, but you know who does?</span><br><span style=\"color:grey\">03 </span><span style=\"width:50%; background-color:white\">Women who get splashed in the face with acid because they want education.</span><br><span style=\"color:grey\">04 </span><span style=\"width:50%; background-color:white\">Woman who are mistreated and not respected.</span><br><span style=\"color:grey\">05 </span><span style=\"width:50%; background-color:yellow\">Women do not need modern Feminism.</span><br><span style=\"color:grey\">06 </span><span style=\"width:50%; background-color:yellow\">They do want equality just as men, but feminism is more just than opportunities.</span><br><span style=\"color:grey\">07 </span><span style=\"width:50%; background-color:white\">It is about equality or more likely dominating men.</span><br></div>"
      ]
     },
     "metadata": {},
     "output_type": "display_data"
    },
    {
     "name": "stdout",
     "output_type": "stream",
     "text": [
      "\\noindent\\begin{tabularx}{\\textwidth}{|rX|}\n",
      "\t\t\\multicolumn{2}{r}{\\textcolor{gray}{feminism-02}}\\\\\n",
      "        \\hline\n",
      "\\textcolor{gray}{01}&{Women don't need feminism.}\\\\\n",
      "\\textcolor{gray}{02}&{They are highly capable of taking care of themselves, but you know who does?}\\\\\n",
      "\\textcolor{gray}{03}&{Women who get splashed in the face with acid because they want education.}\\\\\n",
      "\\textcolor{gray}{04}&{Woman who are mistreated and not respected.}\\\\\n",
      "\\textcolor{gray}{05}&\\hl{Women do not need modern Feminism.}\\\\\n",
      "\\textcolor{gray}{06}&\\hl{They do want equality just as men, but feminism is more just than opportunities.}\\\\\n",
      "\\textcolor{gray}{07}&{It is about equality or more likely dominating men.}\\\\\n",
      "\\hline\n",
      "\\end{tabularx}\n"
     ]
    }
   ],
   "source": [
    "print_arg(feminism_args[1])"
   ]
  },
  {
   "cell_type": "markdown",
   "id": "acad383b",
   "metadata": {},
   "source": [
    "<img src=\"feminism-02.png\" height=\"500\" width=\"500\"/>"
   ]
  },
  {
   "cell_type": "markdown",
   "id": "2b4784cb",
   "metadata": {},
   "source": [
    "We can observe a similar pattern as in the previous graph: The snippet (sentence 5 and 6) have a higher degree centrality than the others."
   ]
  },
  {
   "cell_type": "code",
   "execution_count": 21,
   "id": "acb24331",
   "metadata": {
    "execution": {
     "iopub.execute_input": "2021-12-02T13:34:06.871243Z",
     "iopub.status.busy": "2021-12-02T13:34:06.871243Z",
     "iopub.status.idle": "2021-12-02T13:34:06.886246Z",
     "shell.execute_reply": "2021-12-02T13:34:06.885245Z",
     "shell.execute_reply.started": "2021-12-02T13:34:06.871243Z"
    },
    "tags": []
   },
   "outputs": [
    {
     "data": {
      "text/html": [
       "<p style=\"text-align:right\">feminism-03</p><div style=\"border: solid black 1px; padding-left: 5px\"><span style=\"color:grey\">01 </span><span style=\"width:50%; background-color:yellow\">Feminism says they want the equality but the definition of the Feminism doesn't say anything about promoting men's rights so it basically assumes men are not oppressed so it's unnecessary to promote the men's rights.</span><br><span style=\"color:grey\">02 </span><span style=\"width:50%; background-color:white\">but this is completely a myth because men are oppressed all the time from every single way.</span><br><span style=\"color:grey\">03 </span><span style=\"width:50%; background-color:yellow\">so modern Feminism is not about equality it's about Female Supremacy to suppress to dominant over men.</span><br></div>"
      ]
     },
     "metadata": {},
     "output_type": "display_data"
    },
    {
     "name": "stdout",
     "output_type": "stream",
     "text": [
      "\\noindent\\begin{tabularx}{\\textwidth}{|rX|}\n",
      "\t\t\\multicolumn{2}{r}{\\textcolor{gray}{feminism-03}}\\\\\n",
      "        \\hline\n",
      "\\textcolor{gray}{01}&\\hl{Feminism says they want the equality but the definition of the Feminism doesn't say anything about promoting men's rights so it basically assumes men are not oppressed so it's unnecessary to promote the men's rights.}\\\\\n",
      "\\textcolor{gray}{02}&{but this is completely a myth because men are oppressed all the time from every single way.}\\\\\n",
      "\\textcolor{gray}{03}&\\hl{so modern Feminism is not about equality it's about Female Supremacy to suppress to dominant over men.}\\\\\n",
      "\\hline\n",
      "\\end{tabularx}\n"
     ]
    }
   ],
   "source": [
    "print_arg(feminism_args[2])"
   ]
  },
  {
   "cell_type": "markdown",
   "id": "1567d082",
   "metadata": {},
   "source": [
    "<img src=\"feminism-03.png\" height=\"500\" width=\"500\"/>"
   ]
  },
  {
   "cell_type": "markdown",
   "id": "73b9a075",
   "metadata": {},
   "source": [
    "Again, the snippet seems well selected to represent the argument."
   ]
  },
  {
   "cell_type": "markdown",
   "id": "3009b740",
   "metadata": {},
   "source": [
    "For CAS, it is interesting to see similarities across single arguments. The following graphs display the above arguments' sentences, and only the snippet sentences have colored nodes (generic snippet in the left-hand side graph, and previously selected contrastive snippet on the right-hand side)."
   ]
  },
  {
   "cell_type": "markdown",
   "id": "afffc9b9",
   "metadata": {},
   "source": [
    "<img src=\"feminism-01-02-03.png\" height=\"500\" width=\"1200\"/>"
   ]
  },
  {
   "cell_type": "markdown",
   "id": "bf60d239",
   "metadata": {},
   "source": [
    "The contrastive snippet of feminism-02 was completely changed compared to the generic one. At least sentence 2 seems to be less connected than sentence 6, and thus, a step towards more contrastiveness among the snippets. A similar situation holds for feminism-03:03 which was rejected to include feminism-03:02 instead. Based on this, it seems possible to infer contrastiveness and corresponding snippets from similarity of sentence embeddings.\n",
    "\n",
    "Now, we will look at the snippet graph as above and think about which sentences are not sufficiently contrastive in the context. We start with two short arguments from context 'climate change'. As we know from the feminism example, we expect rather few distinct aspects but different facets and details to extract with the contrastive snippet."
   ]
  },
  {
   "cell_type": "code",
   "execution_count": 22,
   "id": "03307b29",
   "metadata": {
    "execution": {
     "iopub.execute_input": "2021-12-02T13:34:06.887245Z",
     "iopub.status.busy": "2021-12-02T13:34:06.887245Z",
     "iopub.status.idle": "2021-12-02T13:34:06.900802Z",
     "shell.execute_reply": "2021-12-02T13:34:06.900802Z",
     "shell.execute_reply.started": "2021-12-02T13:34:06.887245Z"
    },
    "tags": []
   },
   "outputs": [],
   "source": [
    "cc_arguments = DataHandler.get_query_context(filtered_arguments, 'climate change')"
   ]
  },
  {
   "cell_type": "markdown",
   "id": "e7195ff6",
   "metadata": {},
   "source": [
    "| <img src=\"cc-06-08-heatmap.png\" width=\"700\" height=\"500\" /> | <img src=\"cc-06-08.png\" width=\"700\" height=\"500\" /> |\n",
    "|:---:|:---:|\n",
    "| inter-sentence similarities | sentence similarity graph |"
   ]
  },
  {
   "cell_type": "markdown",
   "id": "a33ec166",
   "metadata": {},
   "source": [
    "The figure above pictures sentences from climate change-06 and 08. The heatmap on the left-hand displays the same similarities as the edges in the graph (CC-08 on the x-axis, CC-06 on the y-axis). We see that snippet sentences are connected not only among sentences from their arguments but also across argument borders. Especially, CC-06:02 is similar to CC-08:01 and CC-08:02, and thus, is a good candidate to be dropped for a contrastive snippet. Sentences CC-06:01 and CC-06:03 are pretty connected among the sentences of their argument and therefore might be representative while they are less similar to sentences of CC-08. If we select CC-06:01 and CC-06:03 as the contrastive snippet, we choose CC-08:03 instead of CC-08:01 to further increase contrastivness between the snippets. The arguments' texts are shown below. The first print highlights generic snippets and the second highlights the contrastive ones."
   ]
  },
  {
   "cell_type": "code",
   "execution_count": 23,
   "id": "4e189ce1",
   "metadata": {
    "execution": {
     "iopub.execute_input": "2021-12-02T13:34:06.902799Z",
     "iopub.status.busy": "2021-12-02T13:34:06.901799Z",
     "iopub.status.idle": "2021-12-02T13:34:06.917325Z",
     "shell.execute_reply": "2021-12-02T13:34:06.916322Z",
     "shell.execute_reply.started": "2021-12-02T13:34:06.902799Z"
    },
    "tags": []
   },
   "outputs": [
    {
     "data": {
      "text/html": [
       "<p style=\"text-align:right\">climate change-06</p><div style=\"border: solid black 1px; padding-left: 5px\"><span style=\"color:grey\">01 </span><span style=\"width:50%; background-color:white\">My position on climate change is that not only do I believe in it but I believe it is man caused.</span><br><span style=\"color:grey\">02 </span><span style=\"width:50%; background-color:yellow\">I will start My opening argument to state that global warming is a proven fact and anyone that disagrees with me is ignorant on this subject.</span><br><span style=\"color:grey\">03 </span><span style=\"width:50%; background-color:white\">97% of scientists believe that climate change is primarily human caused.</span><br><span style=\"color:grey\">04 </span><span style=\"width:50%; background-color:yellow\">Also the arguments stated by Human-caused climate change deniers are pointless and not fact driven.</span><br><span style=\"color:grey\">05 </span><span style=\"width:50%; background-color:white\">I wish my opponent the best of luck.</span><br><span style=\"color:grey\">06 </span><span style=\"width:50%; background-color:white\">Sources(s): Shaftel, H. (Ed.)</span><br><span style=\"color:grey\">07 </span><span style=\"width:50%; background-color:white\">.</span><br><span style=\"color:grey\">08 </span><span style=\"width:50%; background-color:white\">(2012, January 5).</span><br><span style=\"color:grey\">09 </span><span style=\"width:50%; background-color:white\">Global Climate Change: Consensus.</span><br></div>"
      ]
     },
     "metadata": {},
     "output_type": "display_data"
    },
    {
     "name": "stdout",
     "output_type": "stream",
     "text": [
      "\\noindent\\begin{tabularx}{\\textwidth}{|rX|}\n",
      "\t\t\\multicolumn{2}{r}{\\textcolor{gray}{climate change-06}}\\\\\n",
      "        \\hline\n",
      "{My position on climate change is that not only do I believe in it but I believe it is man caused.}\\\\\n",
      "\\textcolor{gray}{02}&\\hl{97% of scientists believe that climate change is primarily human caused.}\\\\\n",
      "\\textcolor{gray}{04}&\\hl{I wish my opponent the best of luck.}\\\\\n",
      "{Sources(s): Shaftel, H. (Ed.)}\\\\\n",
      "{.}\\\\\n",
      "{(2012, January 5).}\\\\\n",
      "{Global Climate Change: Consensus.}\\\\\n",
      "\\hline\n",
      "\\end{tabularx}\n"
     ]
    },
    {
     "data": {
      "text/html": [
       "<p style=\"text-align:right\">climate change-08</p><div style=\"border: solid black 1px; padding-left: 5px\"><span style=\"color:grey\">01 </span><span style=\"width:50%; background-color:yellow\">Climate Change is causing the Earth to warm up measurably, and there are already signs of disaster.</span><br><span style=\"color:grey\">02 </span><span style=\"width:50%; background-color:yellow\">I argue that this is happening because there are scientific facts to prove it.</span><br><span style=\"color:grey\">03 </span><span style=\"width:50%; background-color:white\">Out of 918 peer-reviewed scientific papers on this subject, 0% disagreed that climate change is happening, but in newspaper articles, 53% were unsure.</span><br><span style=\"color:grey\">04 </span><span style=\"width:50%; background-color:white\">This proves that climate change is happening, but scientists are having trouble conveying the information and other data to the people of the world.</span><br></div>"
      ]
     },
     "metadata": {},
     "output_type": "display_data"
    },
    {
     "name": "stdout",
     "output_type": "stream",
     "text": [
      "\\noindent\\begin{tabularx}{\\textwidth}{|rX|}\n",
      "\t\t\\multicolumn{2}{r}{\\textcolor{gray}{climate change-08}}\\\\\n",
      "        \\hline\n",
      "\\textcolor{gray}{01}&\\hl\\textcolor{gray}{02}&\\hl{Out of 918 peer-reviewed scientific papers on this subject, 0% disagreed that climate change is happening, but in newspaper articles, 53% were unsure.}\\\\\n",
      "{This proves that climate change is happening, but scientists are having trouble conveying the information and other data to the people of the world.}\\\\\n",
      "\\hline\n",
      "\\end{tabularx}\n"
     ]
    }
   ],
   "source": [
    "# generic snippets\n",
    "print_arg(cc_arguments[2], hl=[1,3])\n",
    "print_arg(cc_arguments[4], hl=[0,1])"
   ]
  },
  {
   "cell_type": "markdown",
   "id": "75e9598c",
   "metadata": {},
   "source": [
    "Both of the generic snippets point out that climate change is a proven fact and that it causes global warming. climate change-06 also states, it is human-caused."
   ]
  },
  {
   "cell_type": "code",
   "execution_count": 24,
   "id": "dc1eb415",
   "metadata": {
    "execution": {
     "iopub.execute_input": "2021-12-02T13:34:06.918323Z",
     "iopub.status.busy": "2021-12-02T13:34:06.918323Z",
     "iopub.status.idle": "2021-12-02T13:34:06.933325Z",
     "shell.execute_reply": "2021-12-02T13:34:06.932328Z",
     "shell.execute_reply.started": "2021-12-02T13:34:06.918323Z"
    },
    "tags": []
   },
   "outputs": [
    {
     "data": {
      "text/html": [
       "<p style=\"text-align:right\">climate change-06</p><div style=\"border: solid black 1px; padding-left: 5px\"><span style=\"color:grey\">01 </span><span style=\"width:50%; background-color:yellow\">My position on climate change is that not only do I believe in it but I believe it is man caused.</span><br><span style=\"color:grey\">02 </span><span style=\"width:50%; background-color:white\">I will start My opening argument to state that global warming is a proven fact and anyone that disagrees with me is ignorant on this subject.</span><br><span style=\"color:grey\">03 </span><span style=\"width:50%; background-color:yellow\">97% of scientists believe that climate change is primarily human caused.</span><br><span style=\"color:grey\">04 </span><span style=\"width:50%; background-color:white\">Also the arguments stated by Human-caused climate change deniers are pointless and not fact driven.</span><br><span style=\"color:grey\">05 </span><span style=\"width:50%; background-color:white\">I wish my opponent the best of luck.</span><br><span style=\"color:grey\">06 </span><span style=\"width:50%; background-color:white\">Sources(s): Shaftel, H. (Ed.)</span><br><span style=\"color:grey\">07 </span><span style=\"width:50%; background-color:white\">.</span><br><span style=\"color:grey\">08 </span><span style=\"width:50%; background-color:white\">(2012, January 5).</span><br><span style=\"color:grey\">09 </span><span style=\"width:50%; background-color:white\">Global Climate Change: Consensus.</span><br></div>"
      ]
     },
     "metadata": {},
     "output_type": "display_data"
    },
    {
     "name": "stdout",
     "output_type": "stream",
     "text": [
      "\\noindent\\begin{tabularx}{\\textwidth}{|rX|}\n",
      "\t\t\\multicolumn{2}{r}{\\textcolor{gray}{climate change-06}}\\\\\n",
      "        \\hline\n",
      "\\textcolor{gray}{01}&\\hl{I will start My opening argument to state that global warming is a proven fact and anyone that disagrees with me is ignorant on this subject.}\\\\\n",
      "\\textcolor{gray}{03}&\\hl{Also the arguments stated by Human-caused climate change deniers are pointless and not fact driven.}\\\\\n",
      "{I wish my opponent the best of luck.}\\\\\n",
      "{Sources(s): Shaftel, H. (Ed.)}\\\\\n",
      "{.}\\\\\n",
      "{(2012, January 5).}\\\\\n",
      "{Global Climate Change: Consensus.}\\\\\n",
      "\\hline\n",
      "\\end{tabularx}\n"
     ]
    },
    {
     "data": {
      "text/html": [
       "<p style=\"text-align:right\">climate change-08</p><div style=\"border: solid black 1px; padding-left: 5px\"><span style=\"color:grey\">01 </span><span style=\"width:50%; background-color:white\">Climate Change is causing the Earth to warm up measurably, and there are already signs of disaster.</span><br><span style=\"color:grey\">02 </span><span style=\"width:50%; background-color:yellow\">I argue that this is happening because there are scientific facts to prove it.</span><br><span style=\"color:grey\">03 </span><span style=\"width:50%; background-color:yellow\">Out of 918 peer-reviewed scientific papers on this subject, 0% disagreed that climate change is happening, but in newspaper articles, 53% were unsure.</span><br><span style=\"color:grey\">04 </span><span style=\"width:50%; background-color:white\">This proves that climate change is happening, but scientists are having trouble conveying the information and other data to the people of the world.</span><br></div>"
      ]
     },
     "metadata": {},
     "output_type": "display_data"
    },
    {
     "name": "stdout",
     "output_type": "stream",
     "text": [
      "\\noindent\\begin{tabularx}{\\textwidth}{|rX|}\n",
      "\t\t\\multicolumn{2}{r}{\\textcolor{gray}{climate change-08}}\\\\\n",
      "        \\hline\n",
      "{Climate Change is causing the Earth to warm up measurably, and there are already signs of disaster.}\\\\\n",
      "\\textcolor{gray}{02}&\\hl\\textcolor{gray}{03}&\\hl{This proves that climate change is happening, but scientists are having trouble conveying the information and other data to the people of the world.}\\\\\n",
      "\\hline\n",
      "\\end{tabularx}\n"
     ]
    }
   ],
   "source": [
    "# contrastive snippets\n",
    "cc_arguments[2].excerpt_indices = [0,2]\n",
    "cc_arguments[4].excerpt_indices = [1,2]\n",
    "print_arg(cc_arguments[2], hl=[0,2])\n",
    "print_arg(cc_arguments[4], hl=[1,2])"
   ]
  },
  {
   "cell_type": "markdown",
   "id": "a676b2bd",
   "metadata": {},
   "source": [
    "The contrastive snippet of climate change-06 shifts the focus solely on human-caused climate change aspect. climate change-08's contrastive snippet adheres to sentence 02 and adds new background information with sentence 03. Comparing both CC-08's and CC-06's generic snippets with their contrastive counterparts, leads to the observation that the latter are indeed more contrastive.\n",
    "\n",
    "This example has shown that finding contrastive snippets is also possible using only sentence similarity information. Also, without the need to keep the arguments in mind, it seems to be easier."
   ]
  },
  {
   "cell_type": "markdown",
   "id": "a1a7249e-85df-431a-a9d6-12f299ceaa23",
   "metadata": {},
   "source": [
    "# Remarks on snippet creation\n",
    "This examination investigated how contrastive the generic snippets already are and how difficult it is to select contrastive ones. It turned out that most of generic snippets analyzed here have the potential to be more contrastive. To find a contrastive snippet for a given context is a non-trivial task but is manually feasible with short arguments."
   ]
  },
  {
   "cell_type": "markdown",
   "id": "6f3bae7f-9a2f-48a8-8a82-8328a03c545a",
   "metadata": {},
   "source": [
    "# Evaluation measures"
   ]
  },
  {
   "cell_type": "markdown",
   "id": "a06b9f23-8360-4914-9ab9-60ecd843f830",
   "metadata": {},
   "source": [
    "This section reveals how the automatic metrics evaluate the generic and contrastive snippet as created above. We assess the three dimensions representativeness, contrastiveness, and argumentativeness. The former two are computed based on the spatial position of the sentences in the embedding space. Since argumentativeness is not encoded in the same way, we employ automatic argument quality assessment by [Gretz et al. (2020)](#Gretz.2020). For all measures, it holds higher values are better."
   ]
  },
  {
   "cell_type": "code",
   "execution_count": 25,
   "id": "cb78a724-22b0-47f9-a856-b79c86768258",
   "metadata": {
    "execution": {
     "iopub.execute_input": "2021-12-02T13:34:06.935321Z",
     "iopub.status.busy": "2021-12-02T13:34:06.934321Z",
     "iopub.status.idle": "2021-12-02T13:34:06.949329Z",
     "shell.execute_reply": "2021-12-02T13:34:06.948326Z",
     "shell.execute_reply.started": "2021-12-02T13:34:06.934321Z"
    },
    "tags": []
   },
   "outputs": [],
   "source": [
    "args_to_evaluate = [\n",
    "    cc_arguments[2],\n",
    "    cc_arguments[4],\n",
    "    feminism_args[0],\n",
    "    feminism_args[1],\n",
    "    feminism_args[2],\n",
    "    dp_arguments[5],\n",
    "    dp_arguments[6],\n",
    "    dp_arguments[7],\n",
    "    trump_args[1],\n",
    "    trump_args[2],\n",
    "    trump_args[3],\n",
    "]"
   ]
  },
  {
   "cell_type": "code",
   "execution_count": 26,
   "id": "e817d1ee-be4c-47e5-8f66-91d68ebd4373",
   "metadata": {
    "execution": {
     "iopub.execute_input": "2021-12-02T13:34:06.950323Z",
     "iopub.status.busy": "2021-12-02T13:34:06.950323Z",
     "iopub.status.idle": "2021-12-02T13:34:06.996330Z",
     "shell.execute_reply": "2021-12-02T13:34:06.995325Z",
     "shell.execute_reply.started": "2021-12-02T13:34:06.950323Z"
    },
    "tags": []
   },
   "outputs": [],
   "source": [
    "silhouette = SilhouetteCoefficient()\n",
    "silhouette_generic = silhouette.silhouette_coefficient(args_to_evaluate)"
   ]
  },
  {
   "cell_type": "code",
   "execution_count": 27,
   "id": "667e2742-a0d2-4b88-b11c-29002fa0baff",
   "metadata": {
    "execution": {
     "iopub.execute_input": "2021-12-02T13:34:06.998326Z",
     "iopub.status.busy": "2021-12-02T13:34:06.998326Z",
     "iopub.status.idle": "2021-12-02T13:34:07.219460Z",
     "shell.execute_reply": "2021-12-02T13:34:07.217469Z",
     "shell.execute_reply.started": "2021-12-02T13:34:06.998326Z"
    },
    "tags": []
   },
   "outputs": [],
   "source": [
    "edge = EdgeCorrelation()\n",
    "edge_generic = edge.edge_correlation(args_to_evaluate)"
   ]
  },
  {
   "cell_type": "code",
   "execution_count": 28,
   "id": "a322c166-cafb-4f7c-82f7-e1a664c555c5",
   "metadata": {
    "execution": {
     "iopub.execute_input": "2021-12-02T13:34:07.222463Z",
     "iopub.status.busy": "2021-12-02T13:34:07.221458Z",
     "iopub.status.idle": "2021-12-02T13:34:09.535335Z",
     "shell.execute_reply": "2021-12-02T13:34:09.534336Z",
     "shell.execute_reply.started": "2021-12-02T13:34:07.222463Z"
    },
    "tags": []
   },
   "outputs": [],
   "source": [
    "# Pseudo-clustering\n",
    "realloc = SentenceArgReAllocator()\n",
    "realloc.prepare_snippet_embeddings(args_to_evaluate)\n",
    "realloc.re_allocate(args_to_evaluate)\n",
    "new_args = realloc.convert_to_argument()"
   ]
  },
  {
   "cell_type": "code",
   "execution_count": 29,
   "id": "e268961c-f034-4d2d-b872-a94316094748",
   "metadata": {
    "execution": {
     "iopub.execute_input": "2021-12-02T13:34:09.537349Z",
     "iopub.status.busy": "2021-12-02T13:34:09.536337Z",
     "iopub.status.idle": "2021-12-02T13:34:09.583336Z",
     "shell.execute_reply": "2021-12-02T13:34:09.582334Z",
     "shell.execute_reply.started": "2021-12-02T13:34:09.536337Z"
    },
    "tags": []
   },
   "outputs": [],
   "source": [
    "silhouette = SilhouetteCoefficient()\n",
    "silhouette_contrastive = silhouette.silhouette_coefficient(new_args)"
   ]
  },
  {
   "cell_type": "code",
   "execution_count": 30,
   "id": "6b288f8b-c3f8-4eaf-916a-92705cd07a68",
   "metadata": {
    "execution": {
     "iopub.execute_input": "2021-12-02T13:34:09.587356Z",
     "iopub.status.busy": "2021-12-02T13:34:09.585349Z",
     "iopub.status.idle": "2021-12-02T13:34:09.866877Z",
     "shell.execute_reply": "2021-12-02T13:34:09.866877Z",
     "shell.execute_reply.started": "2021-12-02T13:34:09.587356Z"
    },
    "tags": []
   },
   "outputs": [],
   "source": [
    "edge = EdgeCorrelation()\n",
    "edge_contrastive = edge.edge_correlation(new_args)"
   ]
  },
  {
   "cell_type": "markdown",
   "id": "670280f7-6a07-4e8d-ba18-586795c9cdf2",
   "metadata": {},
   "source": [
    "The first assumption states that contrastive snippets form better clusters than the generic counterparts. In order to measure this difference in clustering performance, we compute silhouette coefficient that relates the intra- and inter-cluster distances, and\n",
    "edge correlation which inspects correlation between similarity and cluster belonging. Results are shown in the table blow."
   ]
  },
  {
   "cell_type": "code",
   "execution_count": 31,
   "id": "3948a94a-6519-45c8-8e96-c44086c5419d",
   "metadata": {
    "execution": {
     "iopub.execute_input": "2021-12-02T13:34:09.868877Z",
     "iopub.status.busy": "2021-12-02T13:34:09.867877Z",
     "iopub.status.idle": "2021-12-02T13:34:09.883879Z",
     "shell.execute_reply": "2021-12-02T13:34:09.882881Z",
     "shell.execute_reply.started": "2021-12-02T13:34:09.868877Z"
    },
    "tags": []
   },
   "outputs": [
    {
     "data": {
      "text/html": [
       "<div>\n",
       "<style scoped>\n",
       "    .dataframe tbody tr th:only-of-type {\n",
       "        vertical-align: middle;\n",
       "    }\n",
       "\n",
       "    .dataframe tbody tr th {\n",
       "        vertical-align: top;\n",
       "    }\n",
       "\n",
       "    .dataframe thead th {\n",
       "        text-align: right;\n",
       "    }\n",
       "</style>\n",
       "<table border=\"1\" class=\"dataframe\">\n",
       "  <thead>\n",
       "    <tr style=\"text-align: right;\">\n",
       "      <th></th>\n",
       "      <th>silhouette_generic</th>\n",
       "      <th>silhouette_contrastive</th>\n",
       "      <th>edge_generic</th>\n",
       "      <th>edge_contrastive</th>\n",
       "    </tr>\n",
       "  </thead>\n",
       "  <tbody>\n",
       "    <tr>\n",
       "      <th>trump</th>\n",
       "      <td>0.026988</td>\n",
       "      <td>0.053604</td>\n",
       "      <td>0.185904</td>\n",
       "      <td>0.194402</td>\n",
       "    </tr>\n",
       "    <tr>\n",
       "      <th>climate change</th>\n",
       "      <td>-0.013672</td>\n",
       "      <td>0.040551</td>\n",
       "      <td>0.011311</td>\n",
       "      <td>0.164829</td>\n",
       "    </tr>\n",
       "    <tr>\n",
       "      <th>feminism</th>\n",
       "      <td>0.029515</td>\n",
       "      <td>0.244845</td>\n",
       "      <td>0.098836</td>\n",
       "      <td>0.431865</td>\n",
       "    </tr>\n",
       "    <tr>\n",
       "      <th>death_penalty</th>\n",
       "      <td>-0.025475</td>\n",
       "      <td>0.045079</td>\n",
       "      <td>-0.010937</td>\n",
       "      <td>0.142791</td>\n",
       "    </tr>\n",
       "  </tbody>\n",
       "</table>\n",
       "</div>"
      ],
      "text/plain": [
       "                silhouette_generic  silhouette_contrastive  edge_generic  \\\n",
       "trump                     0.026988                0.053604      0.185904   \n",
       "climate change           -0.013672                0.040551      0.011311   \n",
       "feminism                  0.029515                0.244845      0.098836   \n",
       "death_penalty            -0.025475                0.045079     -0.010937   \n",
       "\n",
       "                edge_contrastive  \n",
       "trump                   0.194402  \n",
       "climate change          0.164829  \n",
       "feminism                0.431865  \n",
       "death_penalty           0.142791  "
      ]
     },
     "execution_count": 31,
     "metadata": {},
     "output_type": "execute_result"
    }
   ],
   "source": [
    "table = pd.DataFrame.from_records([silhouette_generic, silhouette_contrastive, {k:edge_generic[k].correlation for k in edge_generic.keys()}, {k:edge_contrastive[k].correlation for k in edge_contrastive.keys()}])\n",
    "table.index = ['silhouette_generic', 'silhouette_contrastive', 'edge_generic', 'edge_contrastive']\n",
    "table.transpose()"
   ]
  },
  {
   "cell_type": "code",
   "execution_count": 44,
   "id": "02cf68cc-3934-497c-a4da-c1c044d0187d",
   "metadata": {
    "execution": {
     "iopub.execute_input": "2021-12-02T14:05:09.172572Z",
     "iopub.status.busy": "2021-12-02T14:05:09.171542Z",
     "iopub.status.idle": "2021-12-02T14:05:09.192441Z",
     "shell.execute_reply": "2021-12-02T14:05:09.191476Z",
     "shell.execute_reply.started": "2021-12-02T14:05:09.172572Z"
    },
    "tags": []
   },
   "outputs": [
    {
     "data": {
      "text/html": [
       "<div>\n",
       "<style scoped>\n",
       "    .dataframe tbody tr th:only-of-type {\n",
       "        vertical-align: middle;\n",
       "    }\n",
       "\n",
       "    .dataframe tbody tr th {\n",
       "        vertical-align: top;\n",
       "    }\n",
       "\n",
       "    .dataframe thead th {\n",
       "        text-align: right;\n",
       "    }\n",
       "</style>\n",
       "<table border=\"1\" class=\"dataframe\">\n",
       "  <thead>\n",
       "    <tr style=\"text-align: right;\">\n",
       "      <th></th>\n",
       "      <th>silhouette_generic</th>\n",
       "      <th>silhouette_contrastive</th>\n",
       "      <th>diff</th>\n",
       "      <th>edge_generic</th>\n",
       "      <th>edge_contrastive</th>\n",
       "      <th>diff_e</th>\n",
       "    </tr>\n",
       "  </thead>\n",
       "  <tbody>\n",
       "    <tr>\n",
       "      <th>trump</th>\n",
       "      <td>0.026988</td>\n",
       "      <td>0.053604</td>\n",
       "      <td>0.026616</td>\n",
       "      <td>0.185904</td>\n",
       "      <td>0.194402</td>\n",
       "      <td>0.008498</td>\n",
       "    </tr>\n",
       "    <tr>\n",
       "      <th>climate change</th>\n",
       "      <td>-0.013672</td>\n",
       "      <td>0.040551</td>\n",
       "      <td>0.054223</td>\n",
       "      <td>0.011311</td>\n",
       "      <td>0.164829</td>\n",
       "      <td>0.153518</td>\n",
       "    </tr>\n",
       "    <tr>\n",
       "      <th>feminism</th>\n",
       "      <td>0.029515</td>\n",
       "      <td>0.244845</td>\n",
       "      <td>0.215330</td>\n",
       "      <td>0.098836</td>\n",
       "      <td>0.431865</td>\n",
       "      <td>0.333029</td>\n",
       "    </tr>\n",
       "    <tr>\n",
       "      <th>death_penalty</th>\n",
       "      <td>-0.025475</td>\n",
       "      <td>0.045079</td>\n",
       "      <td>0.070554</td>\n",
       "      <td>-0.010937</td>\n",
       "      <td>0.142791</td>\n",
       "      <td>0.153728</td>\n",
       "    </tr>\n",
       "  </tbody>\n",
       "</table>\n",
       "</div>"
      ],
      "text/plain": [
       "                silhouette_generic  silhouette_contrastive      diff  \\\n",
       "trump                     0.026988                0.053604  0.026616   \n",
       "climate change           -0.013672                0.040551  0.054223   \n",
       "feminism                  0.029515                0.244845  0.215330   \n",
       "death_penalty            -0.025475                0.045079  0.070554   \n",
       "\n",
       "                edge_generic  edge_contrastive    diff_e  \n",
       "trump               0.185904          0.194402  0.008498  \n",
       "climate change      0.011311          0.164829  0.153518  \n",
       "feminism            0.098836          0.431865  0.333029  \n",
       "death_penalty      -0.010937          0.142791  0.153728  "
      ]
     },
     "execution_count": 44,
     "metadata": {},
     "output_type": "execute_result"
    }
   ],
   "source": [
    "ltable = table.transpose()\n",
    "s_g_c = ltable.silhouette_contrastive.values - ltable.silhouette_generic.values\n",
    "rel_s_g_c = s_g_c / abs(ltable.silhouette_generic.values)\n",
    "ltable.insert(loc = 2,\n",
    "          column = 'diff',\n",
    "          value = s_g_c)\n",
    "#ltable.insert(loc = 3,\n",
    "#          column = 'rel diff',\n",
    "#          value = rel_s_g_c)\n",
    "e_g_c = ltable.edge_contrastive.values - ltable.edge_generic.values\n",
    "ltable.insert(loc = 5,\n",
    "          column = 'diff_e',\n",
    "          value = e_g_c)\n",
    "ltable"
   ]
  },
  {
   "cell_type": "code",
   "execution_count": 45,
   "id": "a2a2e489-94b2-4610-8a63-c42a7f4329d8",
   "metadata": {
    "execution": {
     "iopub.execute_input": "2021-12-02T14:05:39.671748Z",
     "iopub.status.busy": "2021-12-02T14:05:39.671748Z",
     "iopub.status.idle": "2021-12-02T14:05:39.702033Z",
     "shell.execute_reply": "2021-12-02T14:05:39.701033Z",
     "shell.execute_reply.started": "2021-12-02T14:05:39.671748Z"
    },
    "tags": []
   },
   "outputs": [
    {
     "name": "stdout",
     "output_type": "stream",
     "text": [
      "\\begin{tabular}{lrrrrrr}\n",
      "\\toprule\n",
      "{} &  silhouette\\_generic &  silhouette\\_contrastive &      diff &  edge\\_generic &  edge\\_contrastive &    diff\\_e \\\\\n",
      "\\midrule\n",
      "trump          &            0.026988 &                0.053604 &  0.026616 &      0.185904 &          0.194402 &  0.008498 \\\\\n",
      "climate change &           -0.013672 &                0.040551 &  0.054223 &      0.011311 &          0.164829 &  0.153518 \\\\\n",
      "feminism       &            0.029515 &                0.244845 &  0.215330 &      0.098836 &          0.431865 &  0.333029 \\\\\n",
      "death\\_penalty  &           -0.025475 &                0.045079 &  0.070554 &     -0.010937 &          0.142791 &  0.153728 \\\\\n",
      "\\bottomrule\n",
      "\\end{tabular}\n",
      "\n"
     ]
    }
   ],
   "source": [
    "print(ltable.to_latex())"
   ]
  },
  {
   "cell_type": "markdown",
   "id": "9ec4dbdc-c518-43d5-9e70-e0b4fdbc7fba",
   "metadata": {},
   "source": [
    "We can observe that both silhouette coefficient and edge correlation yield higher values for the contrastive snippets than the generic ones, as expected. Since we did not changed the contrastive snippet compared to the generic for the context 'trump', we observe only a marginal change. Context 'feminism' shows the largest increase, followed by death_penalty and climate change. Furthermore, we see that the metrics depict a similar situation.\n",
    "\n",
    "We now focus on representativeness which we measure by the weighted degree centrality in the sentence similarity graph (what we did when we looked at the graphs earlier, just with numbers), and the cosine similarity between the snippets and the complete argument."
   ]
  },
  {
   "cell_type": "code",
   "execution_count": 32,
   "id": "c267f80a-78c9-49ce-8517-05be003c118a",
   "metadata": {
    "execution": {
     "iopub.execute_input": "2021-12-02T13:34:09.885880Z",
     "iopub.status.busy": "2021-12-02T13:34:09.884879Z",
     "iopub.status.idle": "2021-12-02T13:34:13.705273Z",
     "shell.execute_reply": "2021-12-02T13:34:13.705273Z",
     "shell.execute_reply.started": "2021-12-02T13:34:09.885880Z"
    },
    "tags": []
   },
   "outputs": [],
   "source": [
    "scorer = TradeOffScorer()\n",
    "scorer.transform(args_to_evaluate)"
   ]
  },
  {
   "cell_type": "code",
   "execution_count": 33,
   "id": "b0b787e8-43f4-4994-8079-8c057d7e4718",
   "metadata": {
    "execution": {
     "iopub.execute_input": "2021-12-02T13:34:13.707275Z",
     "iopub.status.busy": "2021-12-02T13:34:13.706276Z",
     "iopub.status.idle": "2021-12-02T13:34:13.725282Z",
     "shell.execute_reply": "2021-12-02T13:34:13.721295Z",
     "shell.execute_reply.started": "2021-12-02T13:34:13.707275Z"
    },
    "tags": []
   },
   "outputs": [],
   "source": [
    "sim_func = MMDBase(param_gamma=.0, param_lambda=.0).cosine_kernel_matrix"
   ]
  },
  {
   "cell_type": "code",
   "execution_count": 34,
   "id": "724a10c3-2e96-4f28-a081-3769a1679b83",
   "metadata": {
    "execution": {
     "iopub.execute_input": "2021-12-02T13:34:13.731277Z",
     "iopub.status.busy": "2021-12-02T13:34:13.730284Z",
     "iopub.status.idle": "2021-12-02T13:34:13.791285Z",
     "shell.execute_reply": "2021-12-02T13:34:13.784292Z",
     "shell.execute_reply.started": "2021-12-02T13:34:13.731277Z"
    },
    "tags": []
   },
   "outputs": [
    {
     "data": {
      "text/html": [
       "<div>\n",
       "<style scoped>\n",
       "    .dataframe tbody tr th:only-of-type {\n",
       "        vertical-align: middle;\n",
       "    }\n",
       "\n",
       "    .dataframe tbody tr th {\n",
       "        vertical-align: top;\n",
       "    }\n",
       "\n",
       "    .dataframe thead th {\n",
       "        text-align: right;\n",
       "    }\n",
       "</style>\n",
       "<table border=\"1\" class=\"dataframe\">\n",
       "  <thead>\n",
       "    <tr style=\"text-align: right;\">\n",
       "      <th></th>\n",
       "      <th>id</th>\n",
       "      <th>generic_degree_centrality</th>\n",
       "      <th>contrastive_degree_centrality</th>\n",
       "      <th>change_in_degree_centrality</th>\n",
       "      <th>generic_soc</th>\n",
       "      <th>contrastive_soc</th>\n",
       "      <th>change_in_soc</th>\n",
       "    </tr>\n",
       "  </thead>\n",
       "  <tbody>\n",
       "    <tr>\n",
       "      <th>0</th>\n",
       "      <td>climate change-06</td>\n",
       "      <td>4.668279</td>\n",
       "      <td>4.668279</td>\n",
       "      <td>0.000000</td>\n",
       "      <td>0.631397</td>\n",
       "      <td>0.631397</td>\n",
       "      <td>5.960464e-08</td>\n",
       "    </tr>\n",
       "    <tr>\n",
       "      <th>1</th>\n",
       "      <td>climate change-08</td>\n",
       "      <td>4.336589</td>\n",
       "      <td>3.669940</td>\n",
       "      <td>-0.666649</td>\n",
       "      <td>0.878635</td>\n",
       "      <td>0.830405</td>\n",
       "      <td>-4.822963e-02</td>\n",
       "    </tr>\n",
       "    <tr>\n",
       "      <th>2</th>\n",
       "      <td>feminism-01</td>\n",
       "      <td>5.767579</td>\n",
       "      <td>5.730258</td>\n",
       "      <td>-0.037321</td>\n",
       "      <td>0.947536</td>\n",
       "      <td>0.944310</td>\n",
       "      <td>-3.226697e-03</td>\n",
       "    </tr>\n",
       "    <tr>\n",
       "      <th>3</th>\n",
       "      <td>feminism-02</td>\n",
       "      <td>5.980761</td>\n",
       "      <td>5.268937</td>\n",
       "      <td>-0.711823</td>\n",
       "      <td>0.872578</td>\n",
       "      <td>0.787552</td>\n",
       "      <td>-8.502597e-02</td>\n",
       "    </tr>\n",
       "    <tr>\n",
       "      <th>4</th>\n",
       "      <td>feminism-03</td>\n",
       "      <td>3.902555</td>\n",
       "      <td>3.649980</td>\n",
       "      <td>-0.252576</td>\n",
       "      <td>0.927434</td>\n",
       "      <td>0.940326</td>\n",
       "      <td>1.289177e-02</td>\n",
       "    </tr>\n",
       "    <tr>\n",
       "      <th>5</th>\n",
       "      <td>death_penalty-07</td>\n",
       "      <td>19.561958</td>\n",
       "      <td>19.500824</td>\n",
       "      <td>-0.061134</td>\n",
       "      <td>0.697997</td>\n",
       "      <td>0.700546</td>\n",
       "      <td>2.549171e-03</td>\n",
       "    </tr>\n",
       "    <tr>\n",
       "      <th>6</th>\n",
       "      <td>death_penalty-08</td>\n",
       "      <td>10.267973</td>\n",
       "      <td>10.267973</td>\n",
       "      <td>0.000000</td>\n",
       "      <td>0.758006</td>\n",
       "      <td>0.758006</td>\n",
       "      <td>1.192093e-07</td>\n",
       "    </tr>\n",
       "    <tr>\n",
       "      <th>7</th>\n",
       "      <td>death_penalty-09</td>\n",
       "      <td>18.414980</td>\n",
       "      <td>15.602402</td>\n",
       "      <td>-2.812578</td>\n",
       "      <td>0.875187</td>\n",
       "      <td>0.789306</td>\n",
       "      <td>-8.588105e-02</td>\n",
       "    </tr>\n",
       "    <tr>\n",
       "      <th>8</th>\n",
       "      <td>trump-02</td>\n",
       "      <td>15.187593</td>\n",
       "      <td>15.187593</td>\n",
       "      <td>0.000000</td>\n",
       "      <td>0.790560</td>\n",
       "      <td>0.790560</td>\n",
       "      <td>0.000000e+00</td>\n",
       "    </tr>\n",
       "    <tr>\n",
       "      <th>9</th>\n",
       "      <td>trump-04</td>\n",
       "      <td>8.598515</td>\n",
       "      <td>8.598515</td>\n",
       "      <td>0.000000</td>\n",
       "      <td>0.605476</td>\n",
       "      <td>0.605476</td>\n",
       "      <td>-1.788139e-07</td>\n",
       "    </tr>\n",
       "    <tr>\n",
       "      <th>10</th>\n",
       "      <td>trump-05</td>\n",
       "      <td>10.660955</td>\n",
       "      <td>10.660955</td>\n",
       "      <td>0.000000</td>\n",
       "      <td>0.763458</td>\n",
       "      <td>0.763458</td>\n",
       "      <td>-5.960464e-08</td>\n",
       "    </tr>\n",
       "  </tbody>\n",
       "</table>\n",
       "</div>"
      ],
      "text/plain": [
       "                   id  generic_degree_centrality  \\\n",
       "0   climate change-06                   4.668279   \n",
       "1   climate change-08                   4.336589   \n",
       "2         feminism-01                   5.767579   \n",
       "3         feminism-02                   5.980761   \n",
       "4         feminism-03                   3.902555   \n",
       "5    death_penalty-07                  19.561958   \n",
       "6    death_penalty-08                  10.267973   \n",
       "7    death_penalty-09                  18.414980   \n",
       "8            trump-02                  15.187593   \n",
       "9            trump-04                   8.598515   \n",
       "10           trump-05                  10.660955   \n",
       "\n",
       "    contrastive_degree_centrality  change_in_degree_centrality  generic_soc  \\\n",
       "0                        4.668279                     0.000000     0.631397   \n",
       "1                        3.669940                    -0.666649     0.878635   \n",
       "2                        5.730258                    -0.037321     0.947536   \n",
       "3                        5.268937                    -0.711823     0.872578   \n",
       "4                        3.649980                    -0.252576     0.927434   \n",
       "5                       19.500824                    -0.061134     0.697997   \n",
       "6                       10.267973                     0.000000     0.758006   \n",
       "7                       15.602402                    -2.812578     0.875187   \n",
       "8                       15.187593                     0.000000     0.790560   \n",
       "9                        8.598515                     0.000000     0.605476   \n",
       "10                      10.660955                     0.000000     0.763458   \n",
       "\n",
       "    contrastive_soc  change_in_soc  \n",
       "0          0.631397   5.960464e-08  \n",
       "1          0.830405  -4.822963e-02  \n",
       "2          0.944310  -3.226697e-03  \n",
       "3          0.787552  -8.502597e-02  \n",
       "4          0.940326   1.289177e-02  \n",
       "5          0.700546   2.549171e-03  \n",
       "6          0.758006   1.192093e-07  \n",
       "7          0.789306  -8.588105e-02  \n",
       "8          0.790560   0.000000e+00  \n",
       "9          0.605476  -1.788139e-07  \n",
       "10         0.763458  -5.960464e-08  "
      ]
     },
     "execution_count": 34,
     "metadata": {},
     "output_type": "execute_result"
    }
   ],
   "source": [
    "representativeness = list()\n",
    "for a in args_to_evaluate:\n",
    "    sim_mat = sim_func(torch.tensor(a.sentence_embeddings))\n",
    "    g0 = a.sentences.index(a.snippet[0])\n",
    "    g1 = a.sentences.index(a.snippet[1])\n",
    "    c0 = a.excerpt_indices[0]\n",
    "    c1 = a.excerpt_indices[1]\n",
    "    gdc = float(sum(sim_mat[g0])+sum(sim_mat[g1]))\n",
    "    cdc = float(sum(sim_mat[c0])+sum(sim_mat[c1]))\n",
    "    representativeness.append({\n",
    "        'id': a.arg_id,\n",
    "        'generic_degree_centrality':gdc,\n",
    "        'contrastive_degree_centrality':cdc ,\n",
    "        'change_in_degree_centrality': cdc-gdc,\n",
    "        'generic_soc': a.soc_sn,\n",
    "        'contrastive_soc': a.soc_ex,\n",
    "        'change_in_soc': a.soc_ex-a.soc_sn\n",
    "    })\n",
    "    \n",
    "pd.DataFrame.from_records(representativeness)"
   ]
  },
  {
   "cell_type": "markdown",
   "id": "f5d2a0ae-98d8-4018-a6a5-b35251ae17c2",
   "metadata": {},
   "source": [
    "The degree centrality is zero where we left the snippets unchanged. All other contrastive snippets show a decrease compared to the generics, but this is expected as we have to drop a representativeness to some degree in order to integrate contrastiveness. Put differently, we take a step away from the snippet that represents the argument optimally.\n",
    "\n",
    "The snippet-original comparison (soc), i.e. the cosine similarity between the snippet and the complete argument, shows a slightly different situation. First, note that the `change_in_soc` should be zero where `change_in_degree_centrality` is zero, too. It seems, we face floating point computation errors. In almost all cases, soc shows a negative change, too. In contrast, feminism-03, death_penalty-07, death_penalty-08 depict an increase in similarity between the contrastive snippet and the argument compared to the generic snippet and the argument. This indicates the contrastive snippet matches the argument better than the generic one, and therefore, no loss in representativeness.\n",
    "\n",
    "Finally, we consider the argumentative nature of the summarized texts. We fine-tuned a pre-trained BERT model on the regression task defined by [Gretz et al. (2020)](#Gretz.2020). Target values are their weighted-average scores. They reported a performance of Spearman correlation  of $\\rho = .47$ and Pearson correlation coefficient of $r=.51$. Our model achieves similar results:\n",
    "```log\n",
    "2021-08-03 13:17:30,787 __main__ \t [INFO] \t Pearson r: (0.5152595582724522, 0.0)\n",
    "2021-08-03 13:17:30,787 __main__ \t [INFO] \t Spearman p: SpearmanrResult(correlation=0.4673681293955043, pvalue=0.0)\n",
    "```"
   ]
  },
  {
   "cell_type": "code",
   "execution_count": 35,
   "id": "230a94f7-7ee2-4364-ba94-9c34847f3630",
   "metadata": {
    "execution": {
     "iopub.execute_input": "2021-12-02T13:34:13.796284Z",
     "iopub.status.busy": "2021-12-02T13:34:13.795284Z",
     "iopub.status.idle": "2021-12-02T13:34:20.298217Z",
     "shell.execute_reply": "2021-12-02T13:34:20.297206Z",
     "shell.execute_reply.started": "2021-12-02T13:34:13.796284Z"
    },
    "tags": []
   },
   "outputs": [],
   "source": [
    "model = BertForSequenceClassification.from_pretrained('../bert-finetuning/results/argQ-bert-base-uncased', local_files_only=True)\n",
    "tokenizer = AutoTokenizer.from_pretrained('bert-base-uncased')\n",
    "pipeline = TextClassificationPipeline(model=model, tokenizer=tokenizer, framework='pt', task='ArgQ')"
   ]
  },
  {
   "cell_type": "code",
   "execution_count": 36,
   "id": "b1c05847-63d4-49e9-88e9-3f948b067cae",
   "metadata": {
    "execution": {
     "iopub.execute_input": "2021-12-02T13:34:20.298217Z",
     "iopub.status.busy": "2021-12-02T13:34:20.298217Z",
     "iopub.status.idle": "2021-12-02T13:34:20.313230Z",
     "shell.execute_reply": "2021-12-02T13:34:20.312222Z",
     "shell.execute_reply.started": "2021-12-02T13:34:20.298217Z"
    },
    "tags": []
   },
   "outputs": [],
   "source": [
    "generic_snippets = [\" \".join(a.snippet) for a in args_to_evaluate]"
   ]
  },
  {
   "cell_type": "code",
   "execution_count": null,
   "id": "1ac2fa40-d78d-44e0-b2a5-74f743d3dcfc",
   "metadata": {
    "tags": []
   },
   "outputs": [],
   "source": [
    "generic_results = pipeline(generic_snippets, device=-1)"
   ]
  },
  {
   "cell_type": "code",
   "execution_count": null,
   "id": "622afe25-1c9c-475f-b441-93eba3813bc2",
   "metadata": {
    "execution": {
     "iopub.status.busy": "2021-12-02T13:34:41.394111Z",
     "iopub.status.idle": "2021-12-02T13:34:41.394111Z",
     "shell.execute_reply": "2021-12-02T13:34:41.394111Z",
     "shell.execute_reply.started": "2021-12-02T13:34:41.394111Z"
    },
    "tags": []
   },
   "outputs": [],
   "source": [
    "contrastive_snippets = [\" \".join(np.take(a.sentences, a.excerpt_indices)) for a in args_to_evaluate]"
   ]
  },
  {
   "cell_type": "code",
   "execution_count": null,
   "id": "ec815808-37b3-41ae-a444-5aafd7cf3efa",
   "metadata": {
    "execution": {
     "iopub.status.busy": "2021-12-02T13:34:41.395109Z",
     "iopub.status.idle": "2021-12-02T13:34:41.396117Z",
     "shell.execute_reply": "2021-12-02T13:34:41.395109Z",
     "shell.execute_reply.started": "2021-12-02T13:34:41.395109Z"
    },
    "tags": []
   },
   "outputs": [],
   "source": [
    "contrastive_results = pipeline(contrastive_snippets, device=-1)"
   ]
  },
  {
   "cell_type": "code",
   "execution_count": null,
   "id": "83583bd5-ebec-4074-96ea-ae72419345db",
   "metadata": {
    "execution": {
     "iopub.status.busy": "2021-12-02T13:34:41.398125Z",
     "iopub.status.idle": "2021-12-02T13:34:41.398125Z",
     "shell.execute_reply": "2021-12-02T13:34:41.398125Z",
     "shell.execute_reply.started": "2021-12-02T13:34:41.398125Z"
    },
    "tags": []
   },
   "outputs": [],
   "source": [
    "arg_score_records = list()\n",
    "for i, a in enumerate(args_to_evaluate):\n",
    "    arg_score_records.append({\n",
    "        'id': a.arg_id,\n",
    "        'generic_snippets_argumentativeness': generic_results[i]['score'],\n",
    "        'contrastive_snippets_argumentativeness': contrastive_results[i]['score'],\n",
    "        'change': contrastive_results[i]['score']-generic_results[i]['score'],\n",
    "    })"
   ]
  },
  {
   "cell_type": "code",
   "execution_count": null,
   "id": "81e1c8c0-8781-43e1-8978-de2d0ebe54da",
   "metadata": {
    "execution": {
     "iopub.status.busy": "2021-12-02T13:34:41.400109Z",
     "iopub.status.idle": "2021-12-02T13:34:41.404125Z",
     "shell.execute_reply": "2021-12-02T13:34:41.402176Z",
     "shell.execute_reply.started": "2021-12-02T13:34:41.401112Z"
    },
    "tags": []
   },
   "outputs": [],
   "source": [
    "pd.DataFrame.from_records(arg_score_records)"
   ]
  },
  {
   "cell_type": "markdown",
   "id": "e4b8e6ea-13e5-46c4-9c51-aa1cefd52c06",
   "metadata": {},
   "source": [
    "We assess the argumentativeness/quality for all snippet sentences jointly. The results show slightly decreasing to slightly increasing, but mostly stable values."
   ]
  },
  {
   "cell_type": "markdown",
   "id": "c65b57b2-2b06-4828-ba8f-44060914d6f8",
   "metadata": {},
   "source": [
    "# Remarks on evaluation\n",
    "Assessment of the contrastiveness show expected results. We can take the fact that the scores for context 'trump' changed only slightly as a hint that the generic snippets are already contrastive while also representing their arguments. A decrease in the representativeness assessment was expected, too. Only the increase of the snippet-original comparison of some arguments give rise to the question whether the metrics are suitable or if face an unexpected phenomenon of representative contrastive snippets. Regarding the argumentativeness, we have to keep in mind that scores themselves are results of another model which might not reflect reality perfectly."
   ]
  },
  {
   "cell_type": "markdown",
   "id": "b1da1ac8",
   "metadata": {},
   "source": [
    "# References"
   ]
  },
  {
   "cell_type": "markdown",
   "id": "0dff07af",
   "metadata": {},
   "source": [
    "<a id=\"Alshomary.2020\"></a> \n",
    "Milad Alshomary, Nick Düsterhus, and Henning Wachsmuth. 2020. Extractive snip\u0002pet generation for arguments. In SIGIR ’20, pages 1969–1972, New York, NY. Association for Computing Machinery."
   ]
  },
  {
   "cell_type": "markdown",
   "id": "470a91cc",
   "metadata": {},
   "source": [
    "<a id=\"Reimers.2019\"></a> \n",
    "Nils Reimers and Iryna Gurevych. 2019. Sentence-bert: Sentence embeddings using siamese bert-networks. In Proceedings of the 2019 Conference on Empirical Methods in Natural Language Processing. Association for Computational Linguistics."
   ]
  },
  {
   "cell_type": "markdown",
   "id": "772398cb-e283-488e-8c38-6fc97e0f1e3e",
   "metadata": {},
   "source": [
    "<a id=\"Gretz.2020\"></a> \n",
    "Shai Gretz, Roni Friedman, Edo Cohen-Karlik, Assaf Toledo, Dan Lahav, Ranit Aharonov, and Noam Slonim. 2020. A large-scale dataset for argument quality rank\u0002ing: Construction and analysis. Proceedings of the AAAI Conference on Artificial Intelligence, 34(05):7805–7813."
   ]
  }
 ],
 "metadata": {
  "kernelspec": {
   "display_name": "thesis",
   "language": "python",
   "name": "thesis"
  },
  "language_info": {
   "codemirror_mode": {
    "name": "ipython",
    "version": 3
   },
   "file_extension": ".py",
   "mimetype": "text/x-python",
   "name": "python",
   "nbconvert_exporter": "python",
   "pygments_lexer": "ipython3",
   "version": "3.7.10"
  },
  "toc-autonumbering": true
 },
 "nbformat": 4,
 "nbformat_minor": 5
}
