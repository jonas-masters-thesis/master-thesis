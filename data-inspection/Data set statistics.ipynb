{
 "cells": [
  {
   "cell_type": "code",
   "execution_count": 4,
   "id": "e8ec7dc8-fec5-4bbe-ab3e-c10d5a8cdba3",
   "metadata": {
    "execution": {
     "iopub.execute_input": "2021-12-22T12:02:26.404167Z",
     "iopub.status.busy": "2021-12-22T12:02:26.404167Z",
     "iopub.status.idle": "2021-12-22T12:02:26.465494Z",
     "shell.execute_reply": "2021-12-22T12:02:26.464682Z",
     "shell.execute_reply.started": "2021-12-22T12:02:26.404167Z"
    },
    "tags": []
   },
   "outputs": [],
   "source": [
    "import numpy as np\n",
    "import pandas as pd\n",
    "import matplotlib.pyplot as plt\n",
    "import pickle\n",
    "import json\n",
    "import sys\n",
    "from typing import List\n",
    "from collections import namedtuple\n",
    "from tqdm import tqdm"
   ]
  },
  {
   "cell_type": "code",
   "execution_count": 7,
   "id": "6528adda-a2d3-40cc-a3e0-5faf49bd3d32",
   "metadata": {
    "execution": {
     "iopub.execute_input": "2021-12-22T12:02:46.652460Z",
     "iopub.status.busy": "2021-12-22T12:02:46.651401Z",
     "iopub.status.idle": "2021-12-22T12:02:46.675499Z",
     "shell.execute_reply": "2021-12-22T12:02:46.674534Z",
     "shell.execute_reply.started": "2021-12-22T12:02:46.651702Z"
    },
    "tags": []
   },
   "outputs": [],
   "source": [
    "paths = ['../mmd', '../shared']\n",
    "\n",
    "for p in paths:\n",
    "    if p not in sys.path:\n",
    "        sys.path.append(p)\n",
    "        \n",
    "from Argument import Argument\n",
    "from DataHandler import DataHandler\n",
    "from FeaturedArgument import FeaturedArgument\n",
    "from myutils import cosine_similarity"
   ]
  },
  {
   "cell_type": "markdown",
   "id": "5c5d6968-491d-4589-a876-99aefb4c5307",
   "metadata": {},
   "source": [
    "## Wiki controversial topics"
   ]
  },
  {
   "cell_type": "code",
   "execution_count": 6,
   "id": "ddf95224-693c-4238-827f-5ad9aa6f87f7",
   "metadata": {
    "execution": {
     "iopub.execute_input": "2021-12-22T12:02:45.645284Z",
     "iopub.status.busy": "2021-12-22T12:02:45.645284Z",
     "iopub.status.idle": "2021-12-22T12:02:46.647584Z",
     "shell.execute_reply": "2021-12-22T12:02:46.643637Z",
     "shell.execute_reply.started": "2021-12-22T12:02:45.645284Z"
    },
    "tags": []
   },
   "outputs": [],
   "source": [
    "clr_train_set = pickle.load(open(r\"C:\\Users\\Jonas\\git\\thesis\\not-gitted\\argsme-crawled\\1629700068.9873986-4566-arguments-cleaned.pickle\", 'rb'))"
   ]
  },
  {
   "cell_type": "code",
   "execution_count": 8,
   "id": "4a6dbe4a-5627-4de7-98c0-6385842e8dec",
   "metadata": {
    "execution": {
     "iopub.execute_input": "2021-12-22T12:03:21.970460Z",
     "iopub.status.busy": "2021-12-22T12:03:21.969493Z",
     "iopub.status.idle": "2021-12-22T12:03:21.986119Z",
     "shell.execute_reply": "2021-12-22T12:03:21.986119Z",
     "shell.execute_reply.started": "2021-12-22T12:03:21.970460Z"
    },
    "tags": []
   },
   "outputs": [],
   "source": [
    "clr_train_data = DataHandler(clr_train_set)"
   ]
  },
  {
   "cell_type": "code",
   "execution_count": 12,
   "id": "88fa3c69-72bc-4a80-b47f-ceafa6a16149",
   "metadata": {
    "execution": {
     "iopub.execute_input": "2021-12-22T12:08:19.095178Z",
     "iopub.status.busy": "2021-12-22T12:08:19.091185Z",
     "iopub.status.idle": "2021-12-22T12:08:19.110446Z",
     "shell.execute_reply": "2021-12-22T12:08:19.108999Z",
     "shell.execute_reply.started": "2021-12-22T12:08:19.095178Z"
    },
    "tags": []
   },
   "outputs": [
    {
     "data": {
      "text/plain": [
       "4566"
      ]
     },
     "execution_count": 12,
     "metadata": {},
     "output_type": "execute_result"
    }
   ],
   "source": [
    "len(clr_train_data.get_arguments())"
   ]
  },
  {
   "cell_type": "code",
   "execution_count": 16,
   "id": "1e14b309-be99-4e3f-af2c-538e84411a63",
   "metadata": {
    "execution": {
     "iopub.execute_input": "2021-12-22T12:09:52.471565Z",
     "iopub.status.busy": "2021-12-22T12:09:52.470719Z",
     "iopub.status.idle": "2021-12-22T12:09:52.501338Z",
     "shell.execute_reply": "2021-12-22T12:09:52.500787Z",
     "shell.execute_reply.started": "2021-12-22T12:09:52.471565Z"
    },
    "tags": []
   },
   "outputs": [
    {
     "data": {
      "text/plain": [
       "4566"
      ]
     },
     "execution_count": 16,
     "metadata": {},
     "output_type": "execute_result"
    }
   ],
   "source": [
    "len(clr_train_data.get_filtered_arguments([DataHandler.get_args_filter_length(3)]))"
   ]
  },
  {
   "cell_type": "code",
   "execution_count": 11,
   "id": "cb416f79-fc74-45c5-943a-7ce6af93a151",
   "metadata": {
    "execution": {
     "iopub.execute_input": "2021-12-22T12:07:40.200093Z",
     "iopub.status.busy": "2021-12-22T12:07:40.199545Z",
     "iopub.status.idle": "2021-12-22T12:07:40.226440Z",
     "shell.execute_reply": "2021-12-22T12:07:40.225039Z",
     "shell.execute_reply.started": "2021-12-22T12:07:40.200093Z"
    },
    "tags": []
   },
   "outputs": [
    {
     "data": {
      "text/plain": [
       "646"
      ]
     },
     "execution_count": 11,
     "metadata": {},
     "output_type": "execute_result"
    }
   ],
   "source": [
    "context_keys = DataHandler.get_query_context_keys(clr_train_data.get_arguments())\n",
    "len(context_keys)"
   ]
  },
  {
   "cell_type": "code",
   "execution_count": 21,
   "id": "44b8120c-4369-445f-8e6c-e69649520b0e",
   "metadata": {
    "execution": {
     "iopub.execute_input": "2021-12-22T12:13:50.699775Z",
     "iopub.status.busy": "2021-12-22T12:13:50.698773Z",
     "iopub.status.idle": "2021-12-22T12:13:51.532197Z",
     "shell.execute_reply": "2021-12-22T12:13:51.531213Z",
     "shell.execute_reply.started": "2021-12-22T12:13:50.699775Z"
    },
    "tags": []
   },
   "outputs": [],
   "source": [
    "contexts = dict()\n",
    "for k in context_keys:\n",
    "    contexts[k] = DataHandler.get_query_context(clr_train_data.get_arguments(), k)"
   ]
  },
  {
   "cell_type": "code",
   "execution_count": 28,
   "id": "475dace7-e557-432d-95e6-0745913a8581",
   "metadata": {
    "execution": {
     "iopub.execute_input": "2021-12-22T12:17:09.053597Z",
     "iopub.status.busy": "2021-12-22T12:17:09.053597Z",
     "iopub.status.idle": "2021-12-22T12:17:09.073423Z",
     "shell.execute_reply": "2021-12-22T12:17:09.063814Z",
     "shell.execute_reply.started": "2021-12-22T12:17:09.053597Z"
    },
    "tags": []
   },
   "outputs": [],
   "source": [
    "context_sizes = np.array([len(v) for v in contexts.values()])"
   ]
  },
  {
   "cell_type": "code",
   "execution_count": 30,
   "id": "731cfbe1-edc0-434f-b832-ba9875aca565",
   "metadata": {
    "execution": {
     "iopub.execute_input": "2021-12-22T12:17:51.850428Z",
     "iopub.status.busy": "2021-12-22T12:17:51.847705Z",
     "iopub.status.idle": "2021-12-22T12:17:51.874802Z",
     "shell.execute_reply": "2021-12-22T12:17:51.873662Z",
     "shell.execute_reply.started": "2021-12-22T12:17:51.849745Z"
    },
    "tags": []
   },
   "outputs": [
    {
     "data": {
      "text/plain": [
       "7.068111455108359"
      ]
     },
     "execution_count": 30,
     "metadata": {},
     "output_type": "execute_result"
    }
   ],
   "source": [
    "context_sizes.mean()"
   ]
  },
  {
   "cell_type": "code",
   "execution_count": 31,
   "id": "559058ef-4f99-4204-80cb-4a4529debeb1",
   "metadata": {
    "execution": {
     "iopub.execute_input": "2021-12-22T12:18:01.962296Z",
     "iopub.status.busy": "2021-12-22T12:18:01.962296Z",
     "iopub.status.idle": "2021-12-22T12:18:01.989306Z",
     "shell.execute_reply": "2021-12-22T12:18:01.984883Z",
     "shell.execute_reply.started": "2021-12-22T12:18:01.962296Z"
    },
    "tags": []
   },
   "outputs": [
    {
     "data": {
      "text/plain": [
       "2.456117369440923"
      ]
     },
     "execution_count": 31,
     "metadata": {},
     "output_type": "execute_result"
    }
   ],
   "source": [
    "context_sizes.std()"
   ]
  },
  {
   "cell_type": "code",
   "execution_count": 33,
   "id": "97c63b7e-f2cc-448d-897f-a60da71308eb",
   "metadata": {
    "execution": {
     "iopub.execute_input": "2021-12-22T12:18:23.775362Z",
     "iopub.status.busy": "2021-12-22T12:18:23.774261Z",
     "iopub.status.idle": "2021-12-22T12:18:23.792229Z",
     "shell.execute_reply": "2021-12-22T12:18:23.790799Z",
     "shell.execute_reply.started": "2021-12-22T12:18:23.775362Z"
    },
    "tags": []
   },
   "outputs": [
    {
     "data": {
      "text/plain": [
       "8.0"
      ]
     },
     "execution_count": 33,
     "metadata": {},
     "output_type": "execute_result"
    }
   ],
   "source": [
    "np.median(context_sizes)"
   ]
  },
  {
   "cell_type": "code",
   "execution_count": 89,
   "id": "eb237583-708b-4c6a-bfbd-84b0c1b6d35a",
   "metadata": {
    "execution": {
     "iopub.execute_input": "2021-12-22T13:20:46.787973Z",
     "iopub.status.busy": "2021-12-22T13:20:46.786876Z",
     "iopub.status.idle": "2021-12-22T13:20:46.975191Z",
     "shell.execute_reply": "2021-12-22T13:20:46.974225Z",
     "shell.execute_reply.started": "2021-12-22T13:20:46.787973Z"
    },
    "tags": []
   },
   "outputs": [
    {
     "name": "stderr",
     "output_type": "stream",
     "text": [
      "C:\\ProgramData\\Anaconda3\\envs\\thesis\\lib\\site-packages\\ipykernel_launcher.py:3: UserWarning: FixedFormatter should only be used together with FixedLocator\n",
      "  This is separate from the ipykernel package so we can avoid doing imports until\n",
      "C:\\ProgramData\\Anaconda3\\envs\\thesis\\lib\\site-packages\\ipykernel_launcher.py:4: UserWarning: FixedFormatter should only be used together with FixedLocator\n",
      "  after removing the cwd from sys.path.\n"
     ]
    },
    {
     "data": {
      "image/png": "[encoded data removed]",
      "text/plain": [
       "<Figure size 504x360 with 1 Axes>"
      ]
     },
     "metadata": {
      "needs_background": "light"
     },
     "output_type": "display_data"
    }
   ],
   "source": [
    "fig, ax = plt.subplots(figsize=(7,5))\n",
    "ax.hist(context_sizes, bins=9)\n",
    "ax.set_xticklabels(range(1,11,1), size=15)\n",
    "ax.set_yticklabels(range(0,140,20), size=15)\n",
    "plt.show()"
   ]
  },
  {
   "cell_type": "code",
   "execution_count": 104,
   "id": "d8629d0b-1a5e-4e72-a284-1113d278285f",
   "metadata": {
    "execution": {
     "iopub.execute_input": "2021-12-22T13:24:25.656837Z",
     "iopub.status.busy": "2021-12-22T13:24:25.656123Z",
     "iopub.status.idle": "2021-12-22T13:24:25.669245Z",
     "shell.execute_reply": "2021-12-22T13:24:25.668288Z",
     "shell.execute_reply.started": "2021-12-22T13:24:25.656837Z"
    },
    "tags": []
   },
   "outputs": [
    {
     "data": {
      "text/plain": [
       "(4566,)"
      ]
     },
     "execution_count": 104,
     "metadata": {},
     "output_type": "execute_result"
    }
   ],
   "source": [
    "# mean arg length\n",
    "arg_lengths = np.array([len(a.sentences) for a in clr_train_set])\n",
    "arg_lengths.shape"
   ]
  },
  {
   "cell_type": "code",
   "execution_count": 105,
   "id": "23e03c18-0b2c-46ad-aa87-d0b62487fc05",
   "metadata": {
    "execution": {
     "iopub.execute_input": "2021-12-22T13:24:26.765073Z",
     "iopub.status.busy": "2021-12-22T13:24:26.764073Z",
     "iopub.status.idle": "2021-12-22T13:24:26.788384Z",
     "shell.execute_reply": "2021-12-22T13:24:26.787523Z",
     "shell.execute_reply.started": "2021-12-22T13:24:26.765073Z"
    },
    "tags": []
   },
   "outputs": [
    {
     "data": {
      "text/plain": [
       "18.471747700394218"
      ]
     },
     "execution_count": 105,
     "metadata": {},
     "output_type": "execute_result"
    }
   ],
   "source": [
    "arg_lengths.mean()"
   ]
  },
  {
   "cell_type": "code",
   "execution_count": 106,
   "id": "a5802d75-d766-4490-8791-07988fc165b8",
   "metadata": {
    "execution": {
     "iopub.execute_input": "2021-12-22T13:24:27.529635Z",
     "iopub.status.busy": "2021-12-22T13:24:27.528607Z",
     "iopub.status.idle": "2021-12-22T13:24:27.551985Z",
     "shell.execute_reply": "2021-12-22T13:24:27.551054Z",
     "shell.execute_reply.started": "2021-12-22T13:24:27.529635Z"
    },
    "tags": []
   },
   "outputs": [
    {
     "data": {
      "text/plain": [
       "18.062976023208726"
      ]
     },
     "execution_count": 106,
     "metadata": {},
     "output_type": "execute_result"
    }
   ],
   "source": [
    "arg_lengths.std()"
   ]
  },
  {
   "cell_type": "code",
   "execution_count": 107,
   "id": "4e20194c-8d3c-4261-998b-1cb44a31e9fe",
   "metadata": {
    "execution": {
     "iopub.execute_input": "2021-12-22T13:24:28.248681Z",
     "iopub.status.busy": "2021-12-22T13:24:28.248494Z",
     "iopub.status.idle": "2021-12-22T13:24:28.267209Z",
     "shell.execute_reply": "2021-12-22T13:24:28.266229Z",
     "shell.execute_reply.started": "2021-12-22T13:24:28.248681Z"
    },
    "tags": []
   },
   "outputs": [
    {
     "data": {
      "text/plain": [
       "3"
      ]
     },
     "execution_count": 107,
     "metadata": {},
     "output_type": "execute_result"
    }
   ],
   "source": [
    "arg_lengths.min()"
   ]
  },
  {
   "cell_type": "code",
   "execution_count": 108,
   "id": "9d6697e9-1263-4855-af74-72ecc4c9e21b",
   "metadata": {
    "execution": {
     "iopub.execute_input": "2021-12-22T13:24:28.909089Z",
     "iopub.status.busy": "2021-12-22T13:24:28.908083Z",
     "iopub.status.idle": "2021-12-22T13:24:28.922272Z",
     "shell.execute_reply": "2021-12-22T13:24:28.921275Z",
     "shell.execute_reply.started": "2021-12-22T13:24:28.909089Z"
    },
    "tags": []
   },
   "outputs": [
    {
     "data": {
      "text/plain": [
       "152"
      ]
     },
     "execution_count": 108,
     "metadata": {},
     "output_type": "execute_result"
    }
   ],
   "source": [
    "arg_lengths.max()"
   ]
  },
  {
   "cell_type": "code",
   "execution_count": 109,
   "id": "25364ac1-d21c-469f-8133-1a354035dad8",
   "metadata": {
    "execution": {
     "iopub.execute_input": "2021-12-22T13:24:29.523939Z",
     "iopub.status.busy": "2021-12-22T13:24:29.523341Z",
     "iopub.status.idle": "2021-12-22T13:24:29.545269Z",
     "shell.execute_reply": "2021-12-22T13:24:29.544300Z",
     "shell.execute_reply.started": "2021-12-22T13:24:29.523939Z"
    },
    "tags": []
   },
   "outputs": [
    {
     "data": {
      "text/plain": [
       "11.0"
      ]
     },
     "execution_count": 109,
     "metadata": {},
     "output_type": "execute_result"
    }
   ],
   "source": [
    "np.median(arg_lengths)"
   ]
  },
  {
   "cell_type": "code",
   "execution_count": 125,
   "id": "cb2def02-8b42-437e-b1ce-c5b03a72b865",
   "metadata": {
    "execution": {
     "iopub.execute_input": "2021-12-22T13:27:30.334646Z",
     "iopub.status.busy": "2021-12-22T13:27:30.333655Z",
     "iopub.status.idle": "2021-12-22T13:27:30.624875Z",
     "shell.execute_reply": "2021-12-22T13:27:30.623815Z",
     "shell.execute_reply.started": "2021-12-22T13:27:30.334646Z"
    },
    "tags": []
   },
   "outputs": [
    {
     "name": "stderr",
     "output_type": "stream",
     "text": [
      "C:\\ProgramData\\Anaconda3\\envs\\thesis\\lib\\site-packages\\ipykernel_launcher.py:3: UserWarning: FixedFormatter should only be used together with FixedLocator\n",
      "  This is separate from the ipykernel package so we can avoid doing imports until\n",
      "C:\\ProgramData\\Anaconda3\\envs\\thesis\\lib\\site-packages\\ipykernel_launcher.py:4: UserWarning: FixedFormatter should only be used together with FixedLocator\n",
      "  after removing the cwd from sys.path.\n"
     ]
    },
    {
     "data": {
      "image/png": "[encoded data removed]",
      "text/plain": [
       "<Figure size 504x360 with 1 Axes>"
      ]
     },
     "metadata": {
      "needs_background": "light"
     },
     "output_type": "display_data"
    }
   ],
   "source": [
    "fig, ax = plt.subplots(figsize=(7,5))\n",
    "ax.hist([len(a.sentences) for a in clr_train_set], bins=50)\n",
    "ax.set_xticklabels(range(-20,180,20), size=15)\n",
    "ax.set_yticklabels(range(0,1200,200), size=15)\n",
    "plt.show()"
   ]
  },
  {
   "cell_type": "markdown",
   "id": "a7b4620f-7111-4b8b-848c-b3bf58248069",
   "metadata": {},
   "source": [
    "## Query based"
   ]
  },
  {
   "cell_type": "code",
   "execution_count": 41,
   "id": "32fe3765-823b-480f-954f-f3878e0204cf",
   "metadata": {
    "execution": {
     "iopub.execute_input": "2021-12-22T12:26:57.823230Z",
     "iopub.status.busy": "2021-12-22T12:26:57.823230Z",
     "iopub.status.idle": "2021-12-22T12:26:58.552317Z",
     "shell.execute_reply": "2021-12-22T12:26:58.551272Z",
     "shell.execute_reply.started": "2021-12-22T12:26:57.823230Z"
    },
    "tags": []
   },
   "outputs": [],
   "source": [
    "qb_train_set = pickle.load(open(r\"C:\\Users\\Jonas\\git\\thesis\\not-gitted\\argsme-crawled\\1632239915.4824035-3756-arguments-cleaned-test.pickle\", 'rb'))"
   ]
  },
  {
   "cell_type": "code",
   "execution_count": 42,
   "id": "c40ecad3-863d-470f-9e02-71d191f4e66c",
   "metadata": {
    "execution": {
     "iopub.execute_input": "2021-12-22T12:27:10.240296Z",
     "iopub.status.busy": "2021-12-22T12:27:10.239262Z",
     "iopub.status.idle": "2021-12-22T12:27:10.253028Z",
     "shell.execute_reply": "2021-12-22T12:27:10.252082Z",
     "shell.execute_reply.started": "2021-12-22T12:27:10.240296Z"
    },
    "tags": []
   },
   "outputs": [],
   "source": [
    "qb_train_data = DataHandler(qb_train_set)"
   ]
  },
  {
   "cell_type": "code",
   "execution_count": 43,
   "id": "0b1af154-416e-4358-9632-1985d0bc066b",
   "metadata": {
    "execution": {
     "iopub.execute_input": "2021-12-22T12:27:15.250134Z",
     "iopub.status.busy": "2021-12-22T12:27:15.250134Z",
     "iopub.status.idle": "2021-12-22T12:27:15.269388Z",
     "shell.execute_reply": "2021-12-22T12:27:15.268646Z",
     "shell.execute_reply.started": "2021-12-22T12:27:15.250134Z"
    },
    "tags": []
   },
   "outputs": [
    {
     "data": {
      "text/plain": [
       "3756"
      ]
     },
     "execution_count": 43,
     "metadata": {},
     "output_type": "execute_result"
    }
   ],
   "source": [
    "len(qb_train_data.get_arguments())"
   ]
  },
  {
   "cell_type": "code",
   "execution_count": 44,
   "id": "c3623584-f2d5-4724-b526-41fa31dded28",
   "metadata": {
    "execution": {
     "iopub.execute_input": "2021-12-22T12:27:24.163267Z",
     "iopub.status.busy": "2021-12-22T12:27:24.162267Z",
     "iopub.status.idle": "2021-12-22T12:27:24.191064Z",
     "shell.execute_reply": "2021-12-22T12:27:24.185026Z",
     "shell.execute_reply.started": "2021-12-22T12:27:24.163267Z"
    },
    "tags": []
   },
   "outputs": [
    {
     "data": {
      "text/plain": [
       "3756"
      ]
     },
     "execution_count": 44,
     "metadata": {},
     "output_type": "execute_result"
    }
   ],
   "source": [
    "len(qb_train_data.get_filtered_arguments([DataHandler.get_args_filter_length(3)]))"
   ]
  },
  {
   "cell_type": "code",
   "execution_count": 45,
   "id": "eee1f0cf-35d1-4738-8581-3ab6e3431904",
   "metadata": {
    "execution": {
     "iopub.execute_input": "2021-12-22T12:27:34.002613Z",
     "iopub.status.busy": "2021-12-22T12:27:34.002613Z",
     "iopub.status.idle": "2021-12-22T12:27:34.013516Z",
     "shell.execute_reply": "2021-12-22T12:27:34.012555Z",
     "shell.execute_reply.started": "2021-12-22T12:27:34.002613Z"
    },
    "tags": []
   },
   "outputs": [
    {
     "data": {
      "text/plain": [
       "475"
      ]
     },
     "execution_count": 45,
     "metadata": {},
     "output_type": "execute_result"
    }
   ],
   "source": [
    "context_keys = DataHandler.get_query_context_keys(qb_train_data.get_arguments())\n",
    "len(context_keys)"
   ]
  },
  {
   "cell_type": "code",
   "execution_count": 51,
   "id": "ee399644-c151-465b-aadd-90e819220747",
   "metadata": {
    "execution": {
     "iopub.execute_input": "2021-12-22T12:27:56.954321Z",
     "iopub.status.busy": "2021-12-22T12:27:56.953313Z",
     "iopub.status.idle": "2021-12-22T12:27:57.387496Z",
     "shell.execute_reply": "2021-12-22T12:27:57.386629Z",
     "shell.execute_reply.started": "2021-12-22T12:27:56.954321Z"
    },
    "tags": []
   },
   "outputs": [],
   "source": [
    "contexts = dict()\n",
    "for k in context_keys:\n",
    "    contexts[k] = DataHandler.get_query_context(qb_train_data.get_arguments(), k)"
   ]
  },
  {
   "cell_type": "code",
   "execution_count": 52,
   "id": "dfd6dc60-5739-4753-8ab3-46354f1e0356",
   "metadata": {
    "execution": {
     "iopub.execute_input": "2021-12-22T12:27:58.150508Z",
     "iopub.status.busy": "2021-12-22T12:27:58.150097Z",
     "iopub.status.idle": "2021-12-22T12:27:58.171035Z",
     "shell.execute_reply": "2021-12-22T12:27:58.169932Z",
     "shell.execute_reply.started": "2021-12-22T12:27:58.150508Z"
    },
    "tags": []
   },
   "outputs": [],
   "source": [
    "context_sizes = np.array([len(v) for v in contexts.values()])"
   ]
  },
  {
   "cell_type": "code",
   "execution_count": 53,
   "id": "e8b10f26-d412-4b59-9358-f76d2f153a93",
   "metadata": {
    "execution": {
     "iopub.execute_input": "2021-12-22T12:27:59.123298Z",
     "iopub.status.busy": "2021-12-22T12:27:59.123298Z",
     "iopub.status.idle": "2021-12-22T12:27:59.138203Z",
     "shell.execute_reply": "2021-12-22T12:27:59.137205Z",
     "shell.execute_reply.started": "2021-12-22T12:27:59.123298Z"
    },
    "tags": []
   },
   "outputs": [
    {
     "data": {
      "text/plain": [
       "7.907368421052632"
      ]
     },
     "execution_count": 53,
     "metadata": {},
     "output_type": "execute_result"
    }
   ],
   "source": [
    "context_sizes.mean()"
   ]
  },
  {
   "cell_type": "code",
   "execution_count": 54,
   "id": "904d75fa-0444-4c61-aa84-7e1d34151152",
   "metadata": {
    "execution": {
     "iopub.execute_input": "2021-12-22T12:28:00.777583Z",
     "iopub.status.busy": "2021-12-22T12:28:00.776624Z",
     "iopub.status.idle": "2021-12-22T12:28:00.793223Z",
     "shell.execute_reply": "2021-12-22T12:28:00.792218Z",
     "shell.execute_reply.started": "2021-12-22T12:28:00.777583Z"
    },
    "tags": []
   },
   "outputs": [
    {
     "data": {
      "text/plain": [
       "2.033365998859664"
      ]
     },
     "execution_count": 54,
     "metadata": {},
     "output_type": "execute_result"
    }
   ],
   "source": [
    "context_sizes.std()"
   ]
  },
  {
   "cell_type": "code",
   "execution_count": 55,
   "id": "ea964310-cdce-4886-9d32-d4e8bbba2934",
   "metadata": {
    "execution": {
     "iopub.execute_input": "2021-12-22T12:28:01.467558Z",
     "iopub.status.busy": "2021-12-22T12:28:01.467325Z",
     "iopub.status.idle": "2021-12-22T12:28:01.480587Z",
     "shell.execute_reply": "2021-12-22T12:28:01.479325Z",
     "shell.execute_reply.started": "2021-12-22T12:28:01.467558Z"
    },
    "tags": []
   },
   "outputs": [
    {
     "data": {
      "text/plain": [
       "8.0"
      ]
     },
     "execution_count": 55,
     "metadata": {},
     "output_type": "execute_result"
    }
   ],
   "source": [
    "np.median(context_sizes)"
   ]
  },
  {
   "cell_type": "code",
   "execution_count": 92,
   "id": "8a4921d4-d10e-4dc6-ba01-cfeee4953674",
   "metadata": {
    "execution": {
     "iopub.execute_input": "2021-12-22T13:21:30.217204Z",
     "iopub.status.busy": "2021-12-22T13:21:30.217204Z",
     "iopub.status.idle": "2021-12-22T13:21:30.394256Z",
     "shell.execute_reply": "2021-12-22T13:21:30.393324Z",
     "shell.execute_reply.started": "2021-12-22T13:21:30.217204Z"
    },
    "tags": []
   },
   "outputs": [
    {
     "name": "stderr",
     "output_type": "stream",
     "text": [
      "C:\\ProgramData\\Anaconda3\\envs\\thesis\\lib\\site-packages\\ipykernel_launcher.py:3: UserWarning: FixedFormatter should only be used together with FixedLocator\n",
      "  This is separate from the ipykernel package so we can avoid doing imports until\n",
      "C:\\ProgramData\\Anaconda3\\envs\\thesis\\lib\\site-packages\\ipykernel_launcher.py:4: UserWarning: FixedFormatter should only be used together with FixedLocator\n",
      "  after removing the cwd from sys.path.\n"
     ]
    },
    {
     "data": {
      "image/png": "[encoded data removed]",
      "text/plain": [
       "<Figure size 504x360 with 1 Axes>"
      ]
     },
     "metadata": {
      "needs_background": "light"
     },
     "output_type": "display_data"
    }
   ],
   "source": [
    "fig, ax = plt.subplots(figsize=(7,5))\n",
    "ax.hist(context_sizes, bins=9)\n",
    "ax.set_xticklabels(range(1,11,1), size=15)\n",
    "ax.set_yticklabels(range(0,140,20), size=15)\n",
    "plt.show()"
   ]
  },
  {
   "cell_type": "code",
   "execution_count": 112,
   "id": "f82414ef-9b77-4907-8711-0e4a2c835717",
   "metadata": {
    "execution": {
     "iopub.execute_input": "2021-12-22T13:25:19.759271Z",
     "iopub.status.busy": "2021-12-22T13:25:19.758238Z",
     "iopub.status.idle": "2021-12-22T13:25:19.771293Z",
     "shell.execute_reply": "2021-12-22T13:25:19.770125Z",
     "shell.execute_reply.started": "2021-12-22T13:25:19.759271Z"
    },
    "tags": []
   },
   "outputs": [
    {
     "data": {
      "text/plain": [
       "(3756,)"
      ]
     },
     "execution_count": 112,
     "metadata": {},
     "output_type": "execute_result"
    }
   ],
   "source": [
    "# mean arg length\n",
    "arg_lengths = np.array([len(a.sentences) for a in qb_train_set])\n",
    "arg_lengths.shape"
   ]
  },
  {
   "cell_type": "code",
   "execution_count": 113,
   "id": "52533a3f-4616-4e3d-b545-5c04c32f50f1",
   "metadata": {
    "execution": {
     "iopub.execute_input": "2021-12-22T13:25:20.704281Z",
     "iopub.status.busy": "2021-12-22T13:25:20.704281Z",
     "iopub.status.idle": "2021-12-22T13:25:20.720163Z",
     "shell.execute_reply": "2021-12-22T13:25:20.719717Z",
     "shell.execute_reply.started": "2021-12-22T13:25:20.704281Z"
    },
    "tags": []
   },
   "outputs": [
    {
     "data": {
      "text/plain": [
       "20.945686900958467"
      ]
     },
     "execution_count": 113,
     "metadata": {},
     "output_type": "execute_result"
    }
   ],
   "source": [
    "arg_lengths.mean()"
   ]
  },
  {
   "cell_type": "code",
   "execution_count": 114,
   "id": "b965b4ec-1ed1-4a53-a825-3c493a837041",
   "metadata": {
    "execution": {
     "iopub.execute_input": "2021-12-22T13:25:21.422228Z",
     "iopub.status.busy": "2021-12-22T13:25:21.422228Z",
     "iopub.status.idle": "2021-12-22T13:25:21.437069Z",
     "shell.execute_reply": "2021-12-22T13:25:21.436074Z",
     "shell.execute_reply.started": "2021-12-22T13:25:21.422228Z"
    },
    "tags": []
   },
   "outputs": [
    {
     "data": {
      "text/plain": [
       "3"
      ]
     },
     "execution_count": 114,
     "metadata": {},
     "output_type": "execute_result"
    }
   ],
   "source": [
    "arg_lengths.min()"
   ]
  },
  {
   "cell_type": "code",
   "execution_count": 115,
   "id": "4c4dde2a-e971-43a0-971b-3ea52cd70102",
   "metadata": {
    "execution": {
     "iopub.execute_input": "2021-12-22T13:25:22.128503Z",
     "iopub.status.busy": "2021-12-22T13:25:22.127364Z",
     "iopub.status.idle": "2021-12-22T13:25:22.139078Z",
     "shell.execute_reply": "2021-12-22T13:25:22.138014Z",
     "shell.execute_reply.started": "2021-12-22T13:25:22.128503Z"
    },
    "tags": []
   },
   "outputs": [
    {
     "data": {
      "text/plain": [
       "158"
      ]
     },
     "execution_count": 115,
     "metadata": {},
     "output_type": "execute_result"
    }
   ],
   "source": [
    "arg_lengths.max()"
   ]
  },
  {
   "cell_type": "code",
   "execution_count": 116,
   "id": "2725417f-9740-4a5c-bfee-1843093ffb02",
   "metadata": {
    "execution": {
     "iopub.execute_input": "2021-12-22T13:25:22.950926Z",
     "iopub.status.busy": "2021-12-22T13:25:22.950926Z",
     "iopub.status.idle": "2021-12-22T13:25:22.964911Z",
     "shell.execute_reply": "2021-12-22T13:25:22.963944Z",
     "shell.execute_reply.started": "2021-12-22T13:25:22.950926Z"
    },
    "tags": []
   },
   "outputs": [
    {
     "data": {
      "text/plain": [
       "13.0"
      ]
     },
     "execution_count": 116,
     "metadata": {},
     "output_type": "execute_result"
    }
   ],
   "source": [
    "np.median(arg_lengths)"
   ]
  },
  {
   "cell_type": "code",
   "execution_count": 123,
   "id": "89c8b4ce-b18b-48d8-992f-756b6c4f066e",
   "metadata": {
    "execution": {
     "iopub.execute_input": "2021-12-22T13:26:32.193946Z",
     "iopub.status.busy": "2021-12-22T13:26:32.193946Z",
     "iopub.status.idle": "2021-12-22T13:26:32.513104Z",
     "shell.execute_reply": "2021-12-22T13:26:32.512134Z",
     "shell.execute_reply.started": "2021-12-22T13:26:32.193946Z"
    },
    "tags": []
   },
   "outputs": [
    {
     "name": "stderr",
     "output_type": "stream",
     "text": [
      "C:\\ProgramData\\Anaconda3\\envs\\thesis\\lib\\site-packages\\ipykernel_launcher.py:3: UserWarning: FixedFormatter should only be used together with FixedLocator\n",
      "  This is separate from the ipykernel package so we can avoid doing imports until\n",
      "C:\\ProgramData\\Anaconda3\\envs\\thesis\\lib\\site-packages\\ipykernel_launcher.py:4: UserWarning: FixedFormatter should only be used together with FixedLocator\n",
      "  after removing the cwd from sys.path.\n"
     ]
    },
    {
     "data": {
      "image/png": "[encoded data removed]",
      "text/plain": [
       "<Figure size 504x360 with 1 Axes>"
      ]
     },
     "metadata": {
      "needs_background": "light"
     },
     "output_type": "display_data"
    }
   ],
   "source": [
    "fig, ax = plt.subplots(figsize=(7,5))\n",
    "ax.hist([len(a.sentences) for a in qb_train_set], bins=50)\n",
    "ax.set_xticklabels(range(-20,180,20), size=15)\n",
    "ax.set_yticklabels(range(0,1200,200), size=15)\n",
    "plt.show()"
   ]
  }
 ],
 "metadata": {
  "kernelspec": {
   "display_name": "thesis",
   "language": "python",
   "name": "thesis"
  },
  "language_info": {
   "codemirror_mode": {
    "name": "ipython",
    "version": 3
   },
   "file_extension": ".py",
   "mimetype": "text/x-python",
   "name": "python",
   "nbconvert_exporter": "python",
   "pygments_lexer": "ipython3",
   "version": "3.7.10"
  }
 },
 "nbformat": 4,
 "nbformat_minor": 5
}
