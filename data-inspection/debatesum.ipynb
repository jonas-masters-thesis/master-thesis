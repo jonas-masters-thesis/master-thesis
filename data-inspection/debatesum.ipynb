{
 "cells": [
  {
   "cell_type": "code",
   "execution_count": 1,
   "id": "narrow-james",
   "metadata": {
    "execution": {
     "iopub.execute_input": "2021-04-15T10:01:41.196184Z",
     "iopub.status.busy": "2021-04-15T10:01:41.195158Z",
     "iopub.status.idle": "2021-04-15T10:01:42.766001Z",
     "shell.execute_reply": "2021-04-15T10:01:42.765051Z",
     "shell.execute_reply.started": "2021-04-15T10:01:41.195158Z"
    },
    "tags": []
   },
   "outputs": [],
   "source": [
    "import pandas as pd\n",
    "import numpy as np"
   ]
  },
  {
   "cell_type": "code",
   "execution_count": 27,
   "id": "norwegian-victim",
   "metadata": {
    "execution": {
     "iopub.execute_input": "2021-04-15T10:11:36.903954Z",
     "iopub.status.busy": "2021-04-15T10:11:36.902951Z",
     "iopub.status.idle": "2021-04-15T10:11:36.907773Z",
     "shell.execute_reply": "2021-04-15T10:11:36.906964Z",
     "shell.execute_reply.started": "2021-04-15T10:11:36.903954Z"
    },
    "tags": []
   },
   "outputs": [],
   "source": [
    "DATA_PATH = '../../not-gitted/DebateSum/debateall.csv'"
   ]
  },
  {
   "cell_type": "code",
   "execution_count": 28,
   "id": "confident-material",
   "metadata": {
    "execution": {
     "iopub.execute_input": "2021-04-15T10:11:37.965822Z",
     "iopub.status.busy": "2021-04-15T10:11:37.964876Z",
     "iopub.status.idle": "2021-04-15T10:11:52.320983Z",
     "shell.execute_reply": "2021-04-15T10:11:52.320154Z",
     "shell.execute_reply.started": "2021-04-15T10:11:37.965822Z"
    },
    "tags": []
   },
   "outputs": [],
   "source": [
    "data = pd.read_csv(DATA_PATH, sep=',')"
   ]
  },
  {
   "cell_type": "code",
   "execution_count": 21,
   "id": "better-instrumentation",
   "metadata": {
    "execution": {
     "iopub.execute_input": "2021-04-15T10:08:51.256367Z",
     "iopub.status.busy": "2021-04-15T10:08:51.256367Z",
     "iopub.status.idle": "2021-04-15T10:08:51.284370Z",
     "shell.execute_reply": "2021-04-15T10:08:51.283370Z",
     "shell.execute_reply.started": "2021-04-15T10:08:51.256367Z"
    },
    "tags": []
   },
   "outputs": [
    {
     "data": {
      "text/html": [
       "<div>\n",
       "<style scoped>\n",
       "    .dataframe tbody tr th:only-of-type {\n",
       "        vertical-align: middle;\n",
       "    }\n",
       "\n",
       "    .dataframe tbody tr th {\n",
       "        vertical-align: top;\n",
       "    }\n",
       "\n",
       "    .dataframe thead th {\n",
       "        text-align: right;\n",
       "    }\n",
       "</style>\n",
       "<table border=\"1\" class=\"dataframe\">\n",
       "  <thead>\n",
       "    <tr style=\"text-align: right;\">\n",
       "      <th></th>\n",
       "      <th>Full-Document</th>\n",
       "      <th>Citation</th>\n",
       "      <th>Extract</th>\n",
       "      <th>Abstract</th>\n",
       "      <th>#CharsDocument</th>\n",
       "      <th>#CharsAbstract</th>\n",
       "      <th>#CharsExtract</th>\n",
       "      <th>#WordsDocument</th>\n",
       "      <th>#WordsAbstract</th>\n",
       "      <th>#WordsExtract</th>\n",
       "      <th>AbsCompressionRatio</th>\n",
       "      <th>ExtCompressionRatio</th>\n",
       "      <th>OriginalDebateFileName</th>\n",
       "    </tr>\n",
       "  </thead>\n",
       "  <tbody>\n",
       "    <tr>\n",
       "      <th>0</th>\n",
       "      <td>The Trump Administration has been quietly fund...</td>\n",
       "      <td>Hunt 18 Edward Hunt writes about war and empir...</td>\n",
       "      <td>The Trump Administration has been quietly fund...</td>\n",
       "      <td>This file was produced by the following studen...</td>\n",
       "      <td>5041</td>\n",
       "      <td>147</td>\n",
       "      <td>2106</td>\n",
       "      <td>788</td>\n",
       "      <td>25</td>\n",
       "      <td>326</td>\n",
       "      <td>0.031726</td>\n",
       "      <td>0.413706</td>\n",
       "      <td>Mexico Honduras  - Wake 2019.html5</td>\n",
       "    </tr>\n",
       "    <tr>\n",
       "      <th>1</th>\n",
       "      <td>The border between the United States and Mexic...</td>\n",
       "      <td>Monzo et al 17. Lilia D. Monzó, associate pro...</td>\n",
       "      <td>The border between the United States and Mexic...</td>\n",
       "      <td>Imperialism in Mexico is not just a one-off in...</td>\n",
       "      <td>9849</td>\n",
       "      <td>431</td>\n",
       "      <td>4481</td>\n",
       "      <td>1559</td>\n",
       "      <td>71</td>\n",
       "      <td>693</td>\n",
       "      <td>0.045542</td>\n",
       "      <td>0.444516</td>\n",
       "      <td>Mexico Honduras  - Wake 2019.html5</td>\n",
       "    </tr>\n",
       "    <tr>\n",
       "      <th>2</th>\n",
       "      <td>Today we face a planetary crisis. Environmenta...</td>\n",
       "      <td>Helland and Lindgren 16 Leonardo E. Figueroa H...</td>\n",
       "      <td>Today we face a planetary crisis. Environmenta...</td>\n",
       "      <td>The will of dominion over Mexico is supplanted...</td>\n",
       "      <td>20340</td>\n",
       "      <td>698</td>\n",
       "      <td>8956</td>\n",
       "      <td>2660</td>\n",
       "      <td>109</td>\n",
       "      <td>1200</td>\n",
       "      <td>0.040977</td>\n",
       "      <td>0.451128</td>\n",
       "      <td>Mexico Honduras  - Wake 2019.html5</td>\n",
       "    </tr>\n",
       "    <tr>\n",
       "      <th>3</th>\n",
       "      <td>“They talk to me about progress, about ‘achiev...</td>\n",
       "      <td>Lystrup 15. Lauren; University of California, ...</td>\n",
       "      <td>They talk about progress, achievements,’ disea...</td>\n",
       "      <td>Death is not a symptom or consequence of moder...</td>\n",
       "      <td>8774</td>\n",
       "      <td>425</td>\n",
       "      <td>4818</td>\n",
       "      <td>1272</td>\n",
       "      <td>63</td>\n",
       "      <td>701</td>\n",
       "      <td>0.049528</td>\n",
       "      <td>0.551101</td>\n",
       "      <td>Mexico Honduras  - Wake 2019.html5</td>\n",
       "    </tr>\n",
       "    <tr>\n",
       "      <th>4</th>\n",
       "      <td>The Zapatista movement has garnered much atten...</td>\n",
       "      <td>Lystrup 15. Lauren, University of California, ...</td>\n",
       "      <td>The Zapatista movement garnered attention in t...</td>\n",
       "      <td>Plan: The United States federal government sho...</td>\n",
       "      <td>6955</td>\n",
       "      <td>161</td>\n",
       "      <td>3522</td>\n",
       "      <td>1023</td>\n",
       "      <td>23</td>\n",
       "      <td>510</td>\n",
       "      <td>0.022483</td>\n",
       "      <td>0.498534</td>\n",
       "      <td>Mexico Honduras  - Wake 2019.html5</td>\n",
       "    </tr>\n",
       "  </tbody>\n",
       "</table>\n",
       "</div>"
      ],
      "text/plain": [
       "                                       Full-Document  \\\n",
       "0  The Trump Administration has been quietly fund...   \n",
       "1  The border between the United States and Mexic...   \n",
       "2  Today we face a planetary crisis. Environmenta...   \n",
       "3  “They talk to me about progress, about ‘achiev...   \n",
       "4  The Zapatista movement has garnered much atten...   \n",
       "\n",
       "                                            Citation  \\\n",
       "0  Hunt 18 Edward Hunt writes about war and empir...   \n",
       "1  Monzo et al 17. Lilia D. Monzó, associate pro...   \n",
       "2  Helland and Lindgren 16 Leonardo E. Figueroa H...   \n",
       "3  Lystrup 15. Lauren; University of California, ...   \n",
       "4  Lystrup 15. Lauren, University of California, ...   \n",
       "\n",
       "                                             Extract  \\\n",
       "0  The Trump Administration has been quietly fund...   \n",
       "1  The border between the United States and Mexic...   \n",
       "2  Today we face a planetary crisis. Environmenta...   \n",
       "3  They talk about progress, achievements,’ disea...   \n",
       "4  The Zapatista movement garnered attention in t...   \n",
       "\n",
       "                                            Abstract  #CharsDocument  \\\n",
       "0  This file was produced by the following studen...            5041   \n",
       "1  Imperialism in Mexico is not just a one-off in...            9849   \n",
       "2  The will of dominion over Mexico is supplanted...           20340   \n",
       "3  Death is not a symptom or consequence of moder...            8774   \n",
       "4  Plan: The United States federal government sho...            6955   \n",
       "\n",
       "   #CharsAbstract  #CharsExtract  #WordsDocument  #WordsAbstract  \\\n",
       "0             147           2106             788              25   \n",
       "1             431           4481            1559              71   \n",
       "2             698           8956            2660             109   \n",
       "3             425           4818            1272              63   \n",
       "4             161           3522            1023              23   \n",
       "\n",
       "   #WordsExtract  AbsCompressionRatio  ExtCompressionRatio  \\\n",
       "0            326             0.031726             0.413706   \n",
       "1            693             0.045542             0.444516   \n",
       "2           1200             0.040977             0.451128   \n",
       "3            701             0.049528             0.551101   \n",
       "4            510             0.022483             0.498534   \n",
       "\n",
       "               OriginalDebateFileName  \n",
       "0  Mexico Honduras  - Wake 2019.html5  \n",
       "1  Mexico Honduras  - Wake 2019.html5  \n",
       "2  Mexico Honduras  - Wake 2019.html5  \n",
       "3  Mexico Honduras  - Wake 2019.html5  \n",
       "4  Mexico Honduras  - Wake 2019.html5  "
      ]
     },
     "execution_count": 21,
     "metadata": {},
     "output_type": "execute_result"
    }
   ],
   "source": [
    "data.head()"
   ]
  },
  {
   "cell_type": "code",
   "execution_count": 22,
   "id": "tender-victory",
   "metadata": {
    "execution": {
     "iopub.execute_input": "2021-04-15T10:08:57.921805Z",
     "iopub.status.busy": "2021-04-15T10:08:57.920783Z",
     "iopub.status.idle": "2021-04-15T10:08:57.931795Z",
     "shell.execute_reply": "2021-04-15T10:08:57.930786Z",
     "shell.execute_reply.started": "2021-04-15T10:08:57.921805Z"
    },
    "tags": []
   },
   "outputs": [
    {
     "data": {
      "text/plain": [
       "Index(['Full-Document', 'Citation', 'Extract', 'Abstract', '#CharsDocument',\n",
       "       '#CharsAbstract', '#CharsExtract', '#WordsDocument', '#WordsAbstract',\n",
       "       '#WordsExtract', 'AbsCompressionRatio', 'ExtCompressionRatio',\n",
       "       'OriginalDebateFileName'],\n",
       "      dtype='object')"
      ]
     },
     "execution_count": 22,
     "metadata": {},
     "output_type": "execute_result"
    }
   ],
   "source": [
    "data.columns"
   ]
  },
  {
   "cell_type": "code",
   "execution_count": 30,
   "id": "enclosed-attack",
   "metadata": {
    "execution": {
     "iopub.execute_input": "2021-04-15T10:12:23.749743Z",
     "iopub.status.busy": "2021-04-15T10:12:23.749743Z",
     "iopub.status.idle": "2021-04-15T10:12:23.765336Z",
     "shell.execute_reply": "2021-04-15T10:12:23.764335Z",
     "shell.execute_reply.started": "2021-04-15T10:12:23.749743Z"
    },
    "tags": []
   },
   "outputs": [
    {
     "data": {
      "text/plain": [
       "0.45948481620996334"
      ]
     },
     "execution_count": 30,
     "metadata": {},
     "output_type": "execute_result"
    }
   ],
   "source": [
    "data['ExtCompressionRatio'].values.mean()"
   ]
  }
 ],
 "metadata": {
  "kernelspec": {
   "display_name": "thesis",
   "language": "python",
   "name": "thesis"
  },
  "language_info": {
   "codemirror_mode": {
    "name": "ipython",
    "version": 3
   },
   "file_extension": ".py",
   "mimetype": "text/x-python",
   "name": "python",
   "nbconvert_exporter": "python",
   "pygments_lexer": "ipython3",
   "version": "3.7.10"
  }
 },
 "nbformat": 4,
 "nbformat_minor": 5
}
