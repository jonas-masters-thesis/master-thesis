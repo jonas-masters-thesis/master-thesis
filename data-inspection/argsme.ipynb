{
 "cells": [
  {
   "cell_type": "code",
   "execution_count": 10,
   "id": "sudden-entrepreneur",
   "metadata": {
    "execution": {
     "iopub.execute_input": "2021-08-19T05:46:44.372834Z",
     "iopub.status.busy": "2021-08-19T05:46:44.372834Z",
     "iopub.status.idle": "2021-08-19T05:46:46.567183Z",
     "shell.execute_reply": "2021-08-19T05:46:46.566459Z",
     "shell.execute_reply.started": "2021-08-19T05:46:44.372834Z"
    },
    "tags": []
   },
   "outputs": [],
   "source": [
    "import json\n",
    "import pandas as pd"
   ]
  },
  {
   "cell_type": "code",
   "execution_count": 3,
   "id": "induced-earth",
   "metadata": {
    "execution": {
     "iopub.execute_input": "2021-08-19T05:41:34.742547Z",
     "iopub.status.busy": "2021-08-19T05:41:34.741528Z",
     "iopub.status.idle": "2021-08-19T05:41:34.757926Z",
     "shell.execute_reply": "2021-08-19T05:41:34.756927Z",
     "shell.execute_reply.started": "2021-08-19T05:41:34.742547Z"
    },
    "tags": []
   },
   "outputs": [],
   "source": [
    "DATA_PATH = '../../not-gitted/argsme-1.0-cleaned/args-me-1.0-cleaned-as-list.json'"
   ]
  },
  {
   "cell_type": "code",
   "execution_count": 4,
   "id": "private-advertising",
   "metadata": {
    "execution": {
     "iopub.execute_input": "2021-08-19T05:41:35.833700Z",
     "iopub.status.busy": "2021-08-19T05:41:35.833700Z",
     "iopub.status.idle": "2021-08-19T05:41:44.510295Z",
     "shell.execute_reply": "2021-08-19T05:41:44.509406Z",
     "shell.execute_reply.started": "2021-08-19T05:41:35.833700Z"
    },
    "tags": []
   },
   "outputs": [],
   "source": [
    "with open(DATA_PATH, 'r', encoding='utf-8') as f:\n",
    "    data = json.load(f)"
   ]
  },
  {
   "cell_type": "code",
   "execution_count": 5,
   "id": "forced-mauritius",
   "metadata": {
    "execution": {
     "iopub.execute_input": "2021-08-19T05:41:44.512272Z",
     "iopub.status.busy": "2021-08-19T05:41:44.511251Z",
     "iopub.status.idle": "2021-08-19T05:41:44.532860Z",
     "shell.execute_reply": "2021-08-19T05:41:44.524968Z",
     "shell.execute_reply.started": "2021-08-19T05:41:44.511251Z"
    },
    "tags": []
   },
   "outputs": [
    {
     "data": {
      "text/plain": [
       "382545"
      ]
     },
     "execution_count": 5,
     "metadata": {},
     "output_type": "execute_result"
    }
   ],
   "source": [
    "len(data)"
   ]
  },
  {
   "cell_type": "code",
   "execution_count": 6,
   "id": "neural-affairs",
   "metadata": {
    "execution": {
     "iopub.execute_input": "2021-08-19T05:41:49.145251Z",
     "iopub.status.busy": "2021-08-19T05:41:49.144203Z",
     "iopub.status.idle": "2021-08-19T05:41:49.182576Z",
     "shell.execute_reply": "2021-08-19T05:41:49.174224Z",
     "shell.execute_reply.started": "2021-08-19T05:41:49.145251Z"
    },
    "tags": []
   },
   "outputs": [
    {
     "name": "stdout",
     "output_type": "stream",
     "text": [
      "[\n",
      "  {\n",
      "    \"premises\": [\n",
      "      {\n",
      "        \"text\": \"My opponent forfeited every round. None of my arguments were answered. I don\\u2019t like the idea of winning by default, but here we are.Tule: it\\u2019s good for students to get involved and address big issues like teen pregnancy. You need to be able to answer arguments like mine and not simply prepare for an abstinence-only type of response. You should also be aware that, in the U.S., condoms may be sold to minors in ANY state. A retailer who says it is illegal to sell you them is, frankly, wrong.\",\n",
      "        \"stance\": \"CON\"\n",
      "      }\n",
      "    ],\n",
      "    \"context\": {\n",
      "      \"sourceId\": \"c67482ba-2019-04-18T13:32:05Z\",\n",
      "      \"previousArgumentInSourceId\": \"\",\n",
      "      \"acquisitionTime\": \"2019-04-18T13:32:05Z\",\n",
      "      \"discussionTitle\": \"Contraceptive Forms for High School Students\",\n",
      "      \"sourceTitle\": \"Debate Argument: Contraceptive Forms for High School Students | Debate.org\",\n",
      "      \"sourceUrl\": \"https://www.debate.org/debates/Contraceptive-Forms-for-High-School-Students/1/\",\n",
      "      \"nextArgumentInSourceId\": \"c67482ba-2019-04-18T13:32:05Z-00001-000\"\n",
      "    },\n",
      "    \"id\": \"c67482ba-2019-04-18T13:32:05Z-00000-000\",\n",
      "    \"conclusion\": \"Contraceptive Forms for High School Students\"\n",
      "  },\n",
      "  {\n",
      "    \"premises\": [\n",
      "      {\n",
      "        \"text\": \"How do you propose the school will fund your program? Condoms cost money and checking an \\\"opt out\\\" list before handing them out takes time away from staff members whenever they could be doing their actual jobs. Your \\\"opt out\\\" option is only be a token to parental authority and would be easily subverted. If everyone in school except a handful of students had access to free condoms, do you not think those students would simply ask their friends to provide them with condoms?\",\n",
      "        \"stance\": \"CON\"\n",
      "      }\n",
      "    ],\n",
      "    \"context\": {\n",
      "      \"sourceId\": \"c67482ba-2019-04-18T13:32:05Z\",\n",
      "      \"previousArgumentInSourceId\": \"c67482ba-2019-04-18T13:32:05Z-00000-000\",\n",
      "      \"acquisitionTime\": \"2019-04-18T13:32:05Z\",\n",
      "      \"discussionTitle\": \"Contraceptive Forms for High School Students\",\n",
      "      \"sourceTitle\": \"Debate Argument: Contraceptive Forms for High School Students | Debate.org\",\n",
      "      \"sourceUrl\": \"https://www.debate.org/debates/Contraceptive-Forms-for-High-School-Students/1/\",\n",
      "      \"nextArgumentInSourceId\": \"c67482ba-2019-04-18T13:32:05Z-00002-000\"\n",
      "    },\n",
      "    \"id\": \"c67482ba-2019-04-18T13:32:05Z-00001-000\",\n",
      "    \"conclusion\": \"Contraceptive Forms for High School Students\"\n",
      "  }\n",
      "]\n"
     ]
    }
   ],
   "source": [
    "print(json.dumps(data[:2], indent=2))"
   ]
  },
  {
   "cell_type": "code",
   "execution_count": 7,
   "id": "sporting-courage",
   "metadata": {
    "execution": {
     "iopub.execute_input": "2021-08-19T05:41:58.339635Z",
     "iopub.status.busy": "2021-08-19T05:41:58.339635Z",
     "iopub.status.idle": "2021-08-19T05:41:58.552755Z",
     "shell.execute_reply": "2021-08-19T05:41:58.549000Z",
     "shell.execute_reply.started": "2021-08-19T05:41:58.339635Z"
    },
    "tags": []
   },
   "outputs": [],
   "source": [
    "issues = set([a['context']['discussionTitle'] for a in data])"
   ]
  },
  {
   "cell_type": "code",
   "execution_count": 8,
   "id": "framed-steps",
   "metadata": {
    "execution": {
     "iopub.execute_input": "2021-08-19T05:42:11.884522Z",
     "iopub.status.busy": "2021-08-19T05:42:11.884522Z",
     "iopub.status.idle": "2021-08-19T05:42:11.904543Z",
     "shell.execute_reply": "2021-08-19T05:42:11.895910Z",
     "shell.execute_reply.started": "2021-08-19T05:42:11.884522Z"
    },
    "tags": []
   },
   "outputs": [
    {
     "data": {
      "text/plain": [
       "52316"
      ]
     },
     "execution_count": 8,
     "metadata": {},
     "output_type": "execute_result"
    }
   ],
   "source": [
    "len(issues)"
   ]
  },
  {
   "cell_type": "code",
   "execution_count": 11,
   "id": "accepting-accounting",
   "metadata": {
    "execution": {
     "iopub.execute_input": "2021-08-19T05:47:11.405503Z",
     "iopub.status.busy": "2021-08-19T05:47:11.405503Z",
     "iopub.status.idle": "2021-08-19T05:47:12.122795Z",
     "shell.execute_reply": "2021-08-19T05:47:12.121829Z",
     "shell.execute_reply.started": "2021-08-19T05:47:11.405503Z"
    },
    "tags": []
   },
   "outputs": [
    {
     "data": {
      "text/html": [
       "<div>\n",
       "<style scoped>\n",
       "    .dataframe tbody tr th:only-of-type {\n",
       "        vertical-align: middle;\n",
       "    }\n",
       "\n",
       "    .dataframe tbody tr th {\n",
       "        vertical-align: top;\n",
       "    }\n",
       "\n",
       "    .dataframe thead th {\n",
       "        text-align: right;\n",
       "    }\n",
       "</style>\n",
       "<table border=\"1\" class=\"dataframe\">\n",
       "  <thead>\n",
       "    <tr style=\"text-align: right;\">\n",
       "      <th></th>\n",
       "      <th>text</th>\n",
       "      <th>conclusion</th>\n",
       "    </tr>\n",
       "  </thead>\n",
       "  <tbody>\n",
       "    <tr>\n",
       "      <th>0</th>\n",
       "      <td>My opponent forfeited every round. None of my ...</td>\n",
       "      <td>Contraceptive Forms for High School Students</td>\n",
       "    </tr>\n",
       "    <tr>\n",
       "      <th>1</th>\n",
       "      <td>How do you propose the school will fund your p...</td>\n",
       "      <td>Contraceptive Forms for High School Students</td>\n",
       "    </tr>\n",
       "    <tr>\n",
       "      <th>2</th>\n",
       "      <td>Schools have no compelling interest in providi...</td>\n",
       "      <td>Contraceptive Forms for High School Students</td>\n",
       "    </tr>\n",
       "    <tr>\n",
       "      <th>3</th>\n",
       "      <td>As a senior at my school. My group and I are f...</td>\n",
       "      <td>Contraceptive Forms for High School Students</td>\n",
       "    </tr>\n",
       "    <tr>\n",
       "      <th>4</th>\n",
       "      <td>The resolution used by Pro *assumes* that Aust...</td>\n",
       "      <td>Australia should be a more significant country</td>\n",
       "    </tr>\n",
       "    <tr>\n",
       "      <th>...</th>\n",
       "      <td>...</td>\n",
       "      <td>...</td>\n",
       "    </tr>\n",
       "    <tr>\n",
       "      <th>382540</th>\n",
       "      <td>Seth Sandronsky. \"Rethinking Charter Schools\"....</td>\n",
       "      <td>Charter schools actively resist teacher unioni...</td>\n",
       "    </tr>\n",
       "    <tr>\n",
       "      <th>382541</th>\n",
       "      <td>Charter schools proliferated too quickly to mo...</td>\n",
       "      <td>Charter schools</td>\n",
       "    </tr>\n",
       "    <tr>\n",
       "      <th>382542</th>\n",
       "      <td>Public schools can offer everything charter sc...</td>\n",
       "      <td>Charter schools</td>\n",
       "    </tr>\n",
       "    <tr>\n",
       "      <th>382543</th>\n",
       "      <td>Charter schools are damaging private schools</td>\n",
       "      <td>Charter schools</td>\n",
       "    </tr>\n",
       "    <tr>\n",
       "      <th>382544</th>\n",
       "      <td>Charter schools are exploited most by affable ...</td>\n",
       "      <td>Charter schools</td>\n",
       "    </tr>\n",
       "  </tbody>\n",
       "</table>\n",
       "<p>382545 rows × 2 columns</p>\n",
       "</div>"
      ],
      "text/plain": [
       "                                                     text  \\\n",
       "0       My opponent forfeited every round. None of my ...   \n",
       "1       How do you propose the school will fund your p...   \n",
       "2       Schools have no compelling interest in providi...   \n",
       "3       As a senior at my school. My group and I are f...   \n",
       "4       The resolution used by Pro *assumes* that Aust...   \n",
       "...                                                   ...   \n",
       "382540  Seth Sandronsky. \"Rethinking Charter Schools\"....   \n",
       "382541  Charter schools proliferated too quickly to mo...   \n",
       "382542  Public schools can offer everything charter sc...   \n",
       "382543       Charter schools are damaging private schools   \n",
       "382544  Charter schools are exploited most by affable ...   \n",
       "\n",
       "                                               conclusion  \n",
       "0            Contraceptive Forms for High School Students  \n",
       "1            Contraceptive Forms for High School Students  \n",
       "2            Contraceptive Forms for High School Students  \n",
       "3            Contraceptive Forms for High School Students  \n",
       "4          Australia should be a more significant country  \n",
       "...                                                   ...  \n",
       "382540  Charter schools actively resist teacher unioni...  \n",
       "382541                                    Charter schools  \n",
       "382542                                    Charter schools  \n",
       "382543                                    Charter schools  \n",
       "382544                                    Charter schools  \n",
       "\n",
       "[382545 rows x 2 columns]"
      ]
     },
     "execution_count": 11,
     "metadata": {},
     "output_type": "execute_result"
    }
   ],
   "source": [
    "records = [{'text':a['premises'][0]['text'], 'conclusion': a['conclusion']} for a in data]\n",
    "df = pd.DataFrame.from_records(records)\n",
    "df"
   ]
  }
 ],
 "metadata": {
  "kernelspec": {
   "display_name": "thesis",
   "language": "python",
   "name": "thesis"
  },
  "language_info": {
   "codemirror_mode": {
    "name": "ipython",
    "version": 3
   },
   "file_extension": ".py",
   "mimetype": "text/x-python",
   "name": "python",
   "nbconvert_exporter": "python",
   "pygments_lexer": "ipython3",
   "version": "3.7.10"
  }
 },
 "nbformat": 4,
 "nbformat_minor": 5
}
