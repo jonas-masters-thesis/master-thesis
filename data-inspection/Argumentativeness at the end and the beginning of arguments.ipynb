{
 "cells": [
  {
   "cell_type": "code",
   "execution_count": 1,
   "id": "1a5c8f0c-b018-4966-a957-761820b45290",
   "metadata": {
    "execution": {
     "iopub.execute_input": "2021-11-30T05:58:18.314108Z",
     "iopub.status.busy": "2021-11-30T05:58:18.314108Z",
     "iopub.status.idle": "2021-11-30T05:58:34.937552Z",
     "shell.execute_reply": "2021-11-30T05:58:34.936128Z",
     "shell.execute_reply.started": "2021-11-30T05:58:18.314108Z"
    },
    "tags": []
   },
   "outputs": [],
   "source": [
    "import numpy as np\n",
    "import pandas as pd\n",
    "import pickle\n",
    "from IPython.display import display_html\n",
    "import matplotlib.pyplot as plt\n",
    "import json\n",
    "from tqdm import tqdm\n",
    "from nltk import sent_tokenize"
   ]
  },
  {
   "cell_type": "code",
   "execution_count": 2,
   "id": "26cc9622-89b1-472a-998c-01df3c2667cf",
   "metadata": {
    "execution": {
     "iopub.execute_input": "2021-11-30T05:58:34.939474Z",
     "iopub.status.busy": "2021-11-30T05:58:34.938476Z",
     "iopub.status.idle": "2021-11-30T05:58:34.952956Z",
     "shell.execute_reply": "2021-11-30T05:58:34.951995Z",
     "shell.execute_reply.started": "2021-11-30T05:58:34.939474Z"
    },
    "tags": []
   },
   "outputs": [],
   "source": [
    "import os\n",
    "import sys\n",
    "shared_path = '../shared/'\n",
    "if shared_path not in sys.path:\n",
    "    sys.path.append(shared_path)\n",
    "    \n",
    "clr_path = '../contra-lexrank'\n",
    "if clr_path not in sys.path:\n",
    "    sys.path.append(clr_path)\n",
    "\n",
    "mmd_path = '../mmd'\n",
    "if mmd_path not in sys.path:\n",
    "    sys.path.append(mmd_path)"
   ]
  },
  {
   "cell_type": "code",
   "execution_count": 3,
   "id": "13fa906c-97d7-44ad-85c4-b765c7d53d6c",
   "metadata": {
    "execution": {
     "iopub.execute_input": "2021-11-30T05:58:34.953979Z",
     "iopub.status.busy": "2021-11-30T05:58:34.953979Z",
     "iopub.status.idle": "2021-11-30T05:58:47.078678Z",
     "shell.execute_reply": "2021-11-30T05:58:47.078678Z",
     "shell.execute_reply.started": "2021-11-30T05:58:34.953979Z"
    },
    "tags": []
   },
   "outputs": [],
   "source": [
    "from Argument import Argument\n",
    "from DataHandler import DataHandler\n",
    "from ArgumentativenessScorer import ArgumentativenessScorer\n",
    "from FeaturedArgument import FeaturedArgument"
   ]
  },
  {
   "cell_type": "code",
   "execution_count": 4,
   "id": "8d652682-43a8-4c02-a869-871382982ef4",
   "metadata": {
    "execution": {
     "iopub.execute_input": "2021-11-30T05:58:47.080677Z",
     "iopub.status.busy": "2021-11-30T05:58:47.080677Z",
     "iopub.status.idle": "2021-11-30T05:58:47.095219Z",
     "shell.execute_reply": "2021-11-30T05:58:47.094203Z",
     "shell.execute_reply.started": "2021-11-30T05:58:47.080677Z"
    },
    "tags": []
   },
   "outputs": [],
   "source": [
    "AMSC_PATH = '../../not-gitted/dataset_as_json_file.pickle'"
   ]
  },
  {
   "cell_type": "code",
   "execution_count": 5,
   "id": "d5989d01-e470-4b1b-a767-6737762914a5",
   "metadata": {
    "execution": {
     "iopub.execute_input": "2021-11-30T05:58:47.096234Z",
     "iopub.status.busy": "2021-11-30T05:58:47.095219Z",
     "iopub.status.idle": "2021-11-30T05:58:47.125594Z",
     "shell.execute_reply": "2021-11-30T05:58:47.124888Z",
     "shell.execute_reply.started": "2021-11-30T05:58:47.096234Z"
    },
    "tags": []
   },
   "outputs": [],
   "source": [
    "data = DataHandler()\n",
    "data.load_bin(AMSC_PATH)"
   ]
  },
  {
   "cell_type": "code",
   "execution_count": 6,
   "id": "b635b734-b87c-463a-ae34-76f679d46b37",
   "metadata": {
    "execution": {
     "iopub.execute_input": "2021-11-30T05:58:47.128152Z",
     "iopub.status.busy": "2021-11-30T05:58:47.127159Z",
     "iopub.status.idle": "2021-11-30T05:58:47.141286Z",
     "shell.execute_reply": "2021-11-30T05:58:47.140277Z",
     "shell.execute_reply.started": "2021-11-30T05:58:47.128152Z"
    },
    "tags": []
   },
   "outputs": [],
   "source": [
    "filtered_arguments = data.get_filtered_arguments([DataHandler.get_args_filter_length(length=3)])"
   ]
  },
  {
   "cell_type": "code",
   "execution_count": 7,
   "id": "b3462941-5f46-49dd-ac92-9c3cd2812271",
   "metadata": {
    "execution": {
     "iopub.execute_input": "2021-11-30T05:58:47.142239Z",
     "iopub.status.busy": "2021-11-30T05:58:47.142239Z",
     "iopub.status.idle": "2021-11-30T05:58:47.163250Z",
     "shell.execute_reply": "2021-11-30T05:58:47.156260Z",
     "shell.execute_reply.started": "2021-11-30T05:58:47.142239Z"
    },
    "tags": []
   },
   "outputs": [],
   "source": [
    "arg_scorer = ArgumentativenessScorer(\n",
    "    calculation=None,\n",
    "    discourse_markers='C:/Users/Jonas/git/thesis/code/contra-lexrank/discourse-markers.txt',\n",
    "    claim_lexicon='C:/Users/Jonas/git/thesis/code/contra-lexrank/ClaimLexicon.txt'\n",
    ")"
   ]
  },
  {
   "cell_type": "code",
   "execution_count": 8,
   "id": "0d421be2-2c29-428e-a4dc-3a7f872c3dd3",
   "metadata": {
    "execution": {
     "iopub.execute_input": "2021-11-30T05:58:47.167315Z",
     "iopub.status.busy": "2021-11-30T05:58:47.166260Z",
     "iopub.status.idle": "2021-11-30T05:58:47.344205Z",
     "shell.execute_reply": "2021-11-30T05:58:47.343324Z",
     "shell.execute_reply.started": "2021-11-30T05:58:47.167315Z"
    },
    "tags": []
   },
   "outputs": [],
   "source": [
    "filtered_arguments = arg_scorer.transform(filtered_arguments)"
   ]
  },
  {
   "cell_type": "markdown",
   "id": "19e90ee1-42a1-4e60-940d-ebe8a6eb8351",
   "metadata": {},
   "source": [
    "# Are claims rather at the beginning of an argument or at the end?"
   ]
  },
  {
   "cell_type": "code",
   "execution_count": 11,
   "id": "6bcfe5bf-cf90-413e-bdfe-d06a92ba04df",
   "metadata": {
    "execution": {
     "iopub.execute_input": "2021-08-16T06:54:14.926692Z",
     "iopub.status.busy": "2021-08-16T06:54:14.925701Z",
     "iopub.status.idle": "2021-08-16T06:54:14.950694Z",
     "shell.execute_reply": "2021-08-16T06:54:14.947696Z",
     "shell.execute_reply.started": "2021-08-16T06:54:14.926692Z"
    },
    "tags": []
   },
   "outputs": [
    {
     "data": {
      "text/plain": [
       "[('In 2011 there were about 730,322 abortions reported to the centers for disease control.',\n",
       "  0.07692307692307693),\n",
       " (\"There are about 1.7% of abortion of women's ages from 15-44 each year.\",\n",
       "  0.15384615384615385),\n",
       " ('Women who already had abortion earlier in there life time have abortion again.',\n",
       "  0.23076923076923078),\n",
       " ('At the age of 45 a women will have at least one abortion.',\n",
       "  0.15384615384615385),\n",
       " ('By the 12th week of pregnancies 88.7% of women have abortion.',\n",
       "  0.15384615384615385),\n",
       " ('In the U.S. black women are 3.3 times likely to have an abortion than white women.',\n",
       "  0.23076923076923078)]"
      ]
     },
     "execution_count": 11,
     "metadata": {},
     "output_type": "execute_result"
    }
   ],
   "source": [
    "[(a,b) for a, b in zip(filtered_arguments[0].sentences, filtered_arguments[0].argumentativeness_scores[0])]"
   ]
  },
  {
   "cell_type": "code",
   "execution_count": 7,
   "id": "fdff4b39-16e7-4672-a8f6-db2ccc3af0f0",
   "metadata": {
    "execution": {
     "iopub.execute_input": "2021-11-26T08:40:25.572730Z",
     "iopub.status.busy": "2021-11-26T08:40:25.572730Z",
     "iopub.status.idle": "2021-11-26T08:40:25.600934Z",
     "shell.execute_reply": "2021-11-26T08:40:25.599930Z",
     "shell.execute_reply.started": "2021-11-26T08:40:25.572730Z"
    },
    "tags": []
   },
   "outputs": [
    {
     "data": {
      "text/plain": [
       "array([0, 2, 1], dtype=int64)"
      ]
     },
     "execution_count": 7,
     "metadata": {},
     "output_type": "execute_result"
    }
   ],
   "source": [
    "np.argsort([1,3,2])"
   ]
  },
  {
   "cell_type": "code",
   "execution_count": 15,
   "id": "131ced00-17e5-4bc6-bdb1-7109095b0d1e",
   "metadata": {
    "execution": {
     "iopub.execute_input": "2021-11-26T08:44:18.257287Z",
     "iopub.status.busy": "2021-11-26T08:44:18.256125Z",
     "iopub.status.idle": "2021-11-26T08:44:18.283754Z",
     "shell.execute_reply": "2021-11-26T08:44:18.280940Z",
     "shell.execute_reply.started": "2021-11-26T08:44:18.257287Z"
    },
    "tags": []
   },
   "outputs": [],
   "source": [
    "sent_idx_ordered_asc_argscores = list()\n",
    "for argument in filtered_arguments:\n",
    "    indices = np.argsort(argument.argumentativeness_scores[0])\n",
    "    indices_length_normalized = indices/(len(argument.sentences)-1)\n",
    "    sent_idx_ordered_asc_argscores.append(indices_length_normalized)\n",
    "    break"
   ]
  },
  {
   "cell_type": "code",
   "execution_count": 13,
   "id": "7fbcbcde-a986-478b-ab05-16f33430b52b",
   "metadata": {
    "execution": {
     "iopub.execute_input": "2021-08-16T06:54:16.722991Z",
     "iopub.status.busy": "2021-08-16T06:54:16.721809Z",
     "iopub.status.idle": "2021-08-16T06:54:17.123530Z",
     "shell.execute_reply": "2021-08-16T06:54:17.121667Z",
     "shell.execute_reply.started": "2021-08-16T06:54:16.722991Z"
    },
    "tags": []
   },
   "outputs": [
    {
     "data": {
      "image/png": "[encoded data removed]",
      "text/plain": [
       "<Figure size 432x288 with 1 Axes>"
      ]
     },
     "metadata": {
      "needs_background": "light"
     },
     "output_type": "display_data"
    }
   ],
   "source": [
    "plt.hist(np.hstack(sent_idx_ordered_asc_argscores), bins='auto')\n",
    "\n",
    "plt.title(\"Histogram with 'auto' bins\")\n",
    "plt.show()"
   ]
  },
  {
   "cell_type": "code",
   "execution_count": 9,
   "id": "f5ffc177-50ad-4fe2-b2dd-adc9da1c3e96",
   "metadata": {
    "execution": {
     "iopub.execute_input": "2021-11-30T06:00:41.015776Z",
     "iopub.status.busy": "2021-11-30T06:00:41.015776Z",
     "iopub.status.idle": "2021-11-30T06:00:41.043480Z",
     "shell.execute_reply": "2021-11-30T06:00:41.041475Z",
     "shell.execute_reply.started": "2021-11-30T06:00:41.015776Z"
    },
    "tags": []
   },
   "outputs": [
    {
     "data": {
      "text/plain": [
       "array([0, 1, 2, 3, 4, 5])"
      ]
     },
     "execution_count": 9,
     "metadata": {},
     "output_type": "execute_result"
    }
   ],
   "source": [
    "np.arange(6)"
   ]
  },
  {
   "cell_type": "code",
   "execution_count": 27,
   "id": "a50b56aa-b101-4e52-bc31-8c9fe4d0ca56",
   "metadata": {
    "execution": {
     "iopub.execute_input": "2021-11-30T06:11:21.457018Z",
     "iopub.status.busy": "2021-11-30T06:11:21.457018Z",
     "iopub.status.idle": "2021-11-30T06:11:21.468847Z",
     "shell.execute_reply": "2021-11-30T06:11:21.467845Z",
     "shell.execute_reply.started": "2021-11-30T06:11:21.457018Z"
    },
    "tags": []
   },
   "outputs": [],
   "source": [
    "x = list()\n",
    "y = list()\n",
    "for argument in filtered_arguments:\n",
    "    arg_scores = argument.argumentativeness_scores[0]\n",
    "    indices = np.arange(len(arg_scores))\n",
    "    indices_length_normalized = indices/(len(argument.sentences)-1)\n",
    "    x.extend(indices_length_normalized)\n",
    "    y.extend(arg_scores)"
   ]
  },
  {
   "cell_type": "code",
   "execution_count": 21,
   "id": "0ee90749-a92d-4624-9b42-d4fefe3c56f7",
   "metadata": {
    "execution": {
     "iopub.execute_input": "2021-11-30T06:07:43.384477Z",
     "iopub.status.busy": "2021-11-30T06:07:43.384477Z",
     "iopub.status.idle": "2021-11-30T06:07:43.405193Z",
     "shell.execute_reply": "2021-11-30T06:07:43.404245Z",
     "shell.execute_reply.started": "2021-11-30T06:07:43.384477Z"
    },
    "tags": []
   },
   "outputs": [
    {
     "data": {
      "text/plain": [
       "(9, 9)"
      ]
     },
     "execution_count": 21,
     "metadata": {},
     "output_type": "execute_result"
    }
   ],
   "source": [
    "len(x), len(y)"
   ]
  },
  {
   "cell_type": "code",
   "execution_count": 25,
   "id": "cf854d36-c831-4454-8927-59361a68ae4d",
   "metadata": {
    "execution": {
     "iopub.execute_input": "2021-11-30T06:08:41.170331Z",
     "iopub.status.busy": "2021-11-30T06:08:41.169385Z",
     "iopub.status.idle": "2021-11-30T06:08:41.186040Z",
     "shell.execute_reply": "2021-11-30T06:08:41.185041Z",
     "shell.execute_reply.started": "2021-11-30T06:08:41.170331Z"
    },
    "tags": []
   },
   "outputs": [
    {
     "data": {
      "text/plain": [
       "[['In 2011 there were about 730,322 abortions reported to the centers for disease control.',\n",
       "  \"There are about 1.7% of abortion of women's ages from 15-44 each year.\",\n",
       "  'Women who already had abortion earlier in there life time have abortion again.',\n",
       "  'At the age of 45 a women will have at least one abortion.',\n",
       "  'By the 12th week of pregnancies 88.7% of women have abortion.',\n",
       "  'In the U.S. black women are 3.3 times likely to have an abortion than white women.'],\n",
       " ['Abortion is wrong!', 'Abortion Is gross!', 'Abortion is MURDER!!!!']]"
      ]
     },
     "execution_count": 25,
     "metadata": {},
     "output_type": "execute_result"
    }
   ],
   "source": [
    "[a.sentences for a in filtered_arguments[:2]]"
   ]
  },
  {
   "cell_type": "code",
   "execution_count": 26,
   "id": "81cce852-692c-487d-964c-ac5ec62409c1",
   "metadata": {
    "execution": {
     "iopub.execute_input": "2021-11-30T06:09:23.823339Z",
     "iopub.status.busy": "2021-11-30T06:09:23.823339Z",
     "iopub.status.idle": "2021-11-30T06:09:23.834520Z",
     "shell.execute_reply": "2021-11-30T06:09:23.833508Z",
     "shell.execute_reply.started": "2021-11-30T06:09:23.823339Z"
    },
    "tags": []
   },
   "outputs": [
    {
     "data": {
      "text/plain": [
       "[array([0.07692308, 0.15384615, 0.23076923, 0.15384615, 0.15384615,\n",
       "        0.23076923]),\n",
       " array([0.5 , 0.25, 0.25])]"
      ]
     },
     "execution_count": 26,
     "metadata": {},
     "output_type": "execute_result"
    }
   ],
   "source": [
    "[a.argumentativeness_scores[0] for a in filtered_arguments[:2]]"
   ]
  },
  {
   "cell_type": "code",
   "execution_count": 22,
   "id": "9e1b115e-a2d7-4979-a7f5-1b95cc58573c",
   "metadata": {
    "execution": {
     "iopub.execute_input": "2021-11-30T06:07:51.202741Z",
     "iopub.status.busy": "2021-11-30T06:07:51.202741Z",
     "iopub.status.idle": "2021-11-30T06:07:51.215706Z",
     "shell.execute_reply": "2021-11-30T06:07:51.214711Z",
     "shell.execute_reply.started": "2021-11-30T06:07:51.202741Z"
    },
    "tags": []
   },
   "outputs": [
    {
     "data": {
      "text/plain": [
       "([0.0, 0.2, 0.4, 0.6, 0.8, 1.0, 0.0, 0.5, 1.0],\n",
       " [0.07692307692307693,\n",
       "  0.15384615384615385,\n",
       "  0.23076923076923078,\n",
       "  0.15384615384615385,\n",
       "  0.15384615384615385,\n",
       "  0.23076923076923078,\n",
       "  0.5,\n",
       "  0.25,\n",
       "  0.25])"
      ]
     },
     "execution_count": 22,
     "metadata": {},
     "output_type": "execute_result"
    }
   ],
   "source": [
    "x, y"
   ]
  },
  {
   "cell_type": "code",
   "execution_count": 28,
   "id": "a9273292-1392-45a6-92c7-c104beb63334",
   "metadata": {
    "execution": {
     "iopub.execute_input": "2021-11-30T06:11:24.015060Z",
     "iopub.status.busy": "2021-11-30T06:11:24.014040Z",
     "iopub.status.idle": "2021-11-30T06:11:26.114815Z",
     "shell.execute_reply": "2021-11-30T06:11:26.113838Z",
     "shell.execute_reply.started": "2021-11-30T06:11:24.015060Z"
    },
    "tags": []
   },
   "outputs": [
    {
     "data": {
      "image/png": "[encoded data removed]",
      "text/plain": [
       "<Figure size 432x288 with 1 Axes>"
      ]
     },
     "metadata": {
      "needs_background": "light"
     },
     "output_type": "display_data"
    }
   ],
   "source": [
    "plt.bar(x=x, height=y, width=.01)\n",
    "plt.show()"
   ]
  },
  {
   "cell_type": "code",
   "execution_count": 30,
   "id": "5a7bc55a-d9be-4d95-a261-fcaff8777646",
   "metadata": {
    "execution": {
     "iopub.execute_input": "2021-11-30T06:13:44.045348Z",
     "iopub.status.busy": "2021-11-30T06:13:44.044349Z",
     "iopub.status.idle": "2021-11-30T06:13:44.052348Z",
     "shell.execute_reply": "2021-11-30T06:13:44.051350Z",
     "shell.execute_reply.started": "2021-11-30T06:13:44.045348Z"
    },
    "tags": []
   },
   "outputs": [],
   "source": [
    "ARGSME_PATH = '../../not-gitted/argsme-1.0-cleaned/args-me-1.0-cleaned-as-list.json'"
   ]
  },
  {
   "cell_type": "code",
   "execution_count": 31,
   "id": "adf3fa74-1dec-490d-ab30-8fe654bd99ac",
   "metadata": {
    "execution": {
     "iopub.execute_input": "2021-11-30T06:13:45.242899Z",
     "iopub.status.busy": "2021-11-30T06:13:45.241917Z",
     "iopub.status.idle": "2021-11-30T06:18:04.068566Z",
     "shell.execute_reply": "2021-11-30T06:18:04.068566Z",
     "shell.execute_reply.started": "2021-11-30T06:13:45.242899Z"
    },
    "tags": []
   },
   "outputs": [
    {
     "name": "stderr",
     "output_type": "stream",
     "text": [
      "100%|████████████████████████████████████████████████████████████████████████| 382545/382545 [04:11<00:00, 1521.32it/s]\n"
     ]
    }
   ],
   "source": [
    "with open(ARGSME_PATH, 'r') as file:\n",
    "    argsme_json = json.load(file)\n",
    "    \n",
    "argsme = list()\n",
    "for a in tqdm(argsme_json):\n",
    "    argsme.append(\n",
    "        Argument(topic=a['context']['discussionTitle'],\n",
    "                       query=a['context']['discussionTitle'],\n",
    "                       arg_id=a['id'], \n",
    "                       sentences=sent_tokenize(a['premises'][0]['text']))\n",
    "    )"
   ]
  },
  {
   "cell_type": "code",
   "execution_count": 32,
   "id": "6b1594f2-03e9-4b11-be71-99a72dff4951",
   "metadata": {
    "execution": {
     "iopub.execute_input": "2021-11-30T06:18:04.763144Z",
     "iopub.status.busy": "2021-11-30T06:18:04.762154Z",
     "iopub.status.idle": "2021-11-30T06:28:45.690424Z",
     "shell.execute_reply": "2021-11-30T06:28:45.689647Z",
     "shell.execute_reply.started": "2021-11-30T06:18:04.763144Z"
    },
    "tags": []
   },
   "outputs": [
    {
     "name": "stderr",
     "output_type": "stream",
     "text": [
      "No markers were found for argument c376f2b4-2019-04-18T17:22:19Z-00003-000.\n"
     ]
    }
   ],
   "source": [
    "argsme = arg_scorer.transform(argsme)"
   ]
  },
  {
   "cell_type": "code",
   "execution_count": 38,
   "id": "956dd803-5383-4409-be27-cdab6c2e66cc",
   "metadata": {
    "execution": {
     "iopub.execute_input": "2021-11-30T06:46:58.752338Z",
     "iopub.status.busy": "2021-11-30T06:46:58.752338Z",
     "iopub.status.idle": "2021-11-30T06:47:02.358291Z",
     "shell.execute_reply": "2021-11-30T06:47:02.357275Z",
     "shell.execute_reply.started": "2021-11-30T06:46:58.752338Z"
    },
    "tags": []
   },
   "outputs": [
    {
     "name": "stderr",
     "output_type": "stream",
     "text": [
      "  0%|                                                                                       | 0/382545 [00:00<?, ?it/s]C:\\ProgramData\\Anaconda3\\envs\\thesis\\lib\\site-packages\\ipykernel_launcher.py:7: RuntimeWarning: invalid value encountered in true_divide\n",
      "  import sys\n",
      "100%|██████████████████████████████████████████████████████████████████████| 382545/382545 [00:03<00:00, 107307.94it/s]\n"
     ]
    }
   ],
   "source": [
    "x_prime = list()\n",
    "y_prime = list()\n",
    "for argument in tqdm(argsme):\n",
    "    if len(argument.argumentativeness_scores) >0:\n",
    "        y_prime.extend(argument.argumentativeness_scores[0])\n",
    "        indices = np.arange(len(argument.sentences))\n",
    "        indices_length_normalized = indices/(len(argument.sentences)-1)\n",
    "        x_prime.extend(indices_length_normalized)"
   ]
  },
  {
   "cell_type": "code",
   "execution_count": 40,
   "id": "fcc02c4e-4acd-4a89-9830-ba407d02fb1c",
   "metadata": {
    "execution": {
     "iopub.execute_input": "2021-11-30T06:47:30.466371Z",
     "iopub.status.busy": "2021-11-30T06:47:30.466371Z",
     "iopub.status.idle": "2021-11-30T06:47:30.478477Z",
     "shell.execute_reply": "2021-11-30T06:47:30.477930Z",
     "shell.execute_reply.started": "2021-11-30T06:47:30.466371Z"
    },
    "tags": []
   },
   "outputs": [
    {
     "data": {
      "text/plain": [
       "(6143992, 6143992)"
      ]
     },
     "execution_count": 40,
     "metadata": {},
     "output_type": "execute_result"
    }
   ],
   "source": [
    "len(x_prime), len(y_prime)"
   ]
  },
  {
   "cell_type": "code",
   "execution_count": null,
   "id": "ac510c17-abc6-47e8-be9e-2bdd657868a6",
   "metadata": {
    "execution": {
     "iopub.execute_input": "2021-11-30T06:48:00.131691Z",
     "iopub.status.busy": "2021-11-30T06:48:00.131691Z"
    },
    "tags": []
   },
   "outputs": [],
   "source": [
    "plt.bar(x=x_prime, height=y_prime)#, width=.01)\n",
    "plt.show()"
   ]
  },
  {
   "cell_type": "code",
   "execution_count": null,
   "id": "8afb2f7e-c417-42c7-ab47-1247704e08b5",
   "metadata": {},
   "outputs": [],
   "source": []
  }
 ],
 "metadata": {
  "kernelspec": {
   "display_name": "thesis",
   "language": "python",
   "name": "thesis"
  },
  "language_info": {
   "codemirror_mode": {
    "name": "ipython",
    "version": 3
   },
   "file_extension": ".py",
   "mimetype": "text/x-python",
   "name": "python",
   "nbconvert_exporter": "python",
   "pygments_lexer": "ipython3",
   "version": "3.7.10"
  }
 },
 "nbformat": 4,
 "nbformat_minor": 5
}
