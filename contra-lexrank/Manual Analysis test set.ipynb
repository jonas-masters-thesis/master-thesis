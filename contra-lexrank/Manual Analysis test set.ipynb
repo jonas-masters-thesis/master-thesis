{
 "cells": [
  {
   "cell_type": "code",
   "execution_count": 1,
   "id": "a360c964-f6f1-4776-915a-3d4315981a77",
   "metadata": {
    "execution": {
     "iopub.execute_input": "2021-12-08T06:07:51.445121Z",
     "iopub.status.busy": "2021-12-08T06:07:51.441121Z",
     "iopub.status.idle": "2021-12-08T06:07:53.562319Z",
     "shell.execute_reply": "2021-12-08T06:07:53.561365Z",
     "shell.execute_reply.started": "2021-12-08T06:07:51.444120Z"
    },
    "tags": []
   },
   "outputs": [],
   "source": [
    "import pandas as pd\n",
    "import numpy as np\n",
    "import json as j\n",
    "import pickle as p\n",
    "from scipy.stats import pearsonr, spearmanr, kendalltau\n",
    "from scipy import stats\n",
    "import sys\n",
    "\n",
    "from nltk.tokenize import word_tokenize\n",
    "\n",
    "from matplotlib.image import NonUniformImage\n",
    "import matplotlib.pyplot as plt\n",
    "# https://numpy.org/doc/stable/reference/generated/numpy.histogram2d.html\n",
    "\n",
    "from IPython.display import display_html"
   ]
  },
  {
   "cell_type": "code",
   "execution_count": 2,
   "id": "091bc7b3-b4de-42dd-a6cf-ae93af7fdc99",
   "metadata": {
    "execution": {
     "iopub.execute_input": "2021-12-08T06:07:53.566512Z",
     "iopub.status.busy": "2021-12-08T06:07:53.566512Z",
     "iopub.status.idle": "2021-12-08T06:07:53.594000Z",
     "shell.execute_reply": "2021-12-08T06:07:53.591395Z",
     "shell.execute_reply.started": "2021-12-08T06:07:53.566512Z"
    },
    "tags": []
   },
   "outputs": [],
   "source": [
    "shared_path = 'C:/Users/Jonas/git/thesis/code/shared'\n",
    "if shared_path not in sys.path:\n",
    "    sys.path.append(shared_path)\n",
    "    \n",
    "from Argument import Argument\n",
    "from DataHandler import DataHandler"
   ]
  },
  {
   "cell_type": "code",
   "execution_count": 3,
   "id": "4a4a8897-570b-4293-9c50-40df24177ee3",
   "metadata": {
    "execution": {
     "iopub.execute_input": "2021-12-08T06:07:53.678219Z",
     "iopub.status.busy": "2021-12-08T06:07:53.677220Z",
     "iopub.status.idle": "2021-12-08T06:07:54.693943Z",
     "shell.execute_reply": "2021-12-08T06:07:54.692940Z",
     "shell.execute_reply.started": "2021-12-08T06:07:53.678219Z"
    },
    "tags": []
   },
   "outputs": [],
   "source": [
    "data = DataHandler()\n",
    "data.load_bin('results/1632239915.4824035-3756-arguments-cleaned-test-w-excerpts.pickle')"
   ]
  },
  {
   "cell_type": "code",
   "execution_count": 4,
   "id": "7844f550-76bd-4b9b-93d4-aec5d3442694",
   "metadata": {
    "execution": {
     "iopub.execute_input": "2021-12-08T06:07:54.695945Z",
     "iopub.status.busy": "2021-12-08T06:07:54.694942Z",
     "iopub.status.idle": "2021-12-08T06:07:54.708943Z",
     "shell.execute_reply": "2021-12-08T06:07:54.708943Z",
     "shell.execute_reply.started": "2021-12-08T06:07:54.695945Z"
    },
    "tags": []
   },
   "outputs": [
    {
     "data": {
      "text/plain": [
       "True"
      ]
     },
     "execution_count": 4,
     "metadata": {},
     "output_type": "execute_result"
    }
   ],
   "source": [
    "data.validate()"
   ]
  },
  {
   "cell_type": "code",
   "execution_count": 5,
   "id": "a0a28163-ec89-48bb-bd46-41593e6f0320",
   "metadata": {
    "execution": {
     "iopub.execute_input": "2021-12-08T06:07:55.296855Z",
     "iopub.status.busy": "2021-12-08T06:07:55.296855Z",
     "iopub.status.idle": "2021-12-08T06:07:55.306598Z",
     "shell.execute_reply": "2021-12-08T06:07:55.305595Z",
     "shell.execute_reply.started": "2021-12-08T06:07:55.296855Z"
    },
    "tags": []
   },
   "outputs": [],
   "source": [
    "arguments = data.get_arguments()"
   ]
  },
  {
   "cell_type": "code",
   "execution_count": 6,
   "id": "0f3e4956-fbdb-4170-bd33-2a3b9432ccbd",
   "metadata": {
    "execution": {
     "iopub.execute_input": "2021-12-08T06:07:55.855212Z",
     "iopub.status.busy": "2021-12-08T06:07:55.854204Z",
     "iopub.status.idle": "2021-12-08T06:07:55.864857Z",
     "shell.execute_reply": "2021-12-08T06:07:55.863921Z",
     "shell.execute_reply.started": "2021-12-08T06:07:55.855212Z"
    },
    "tags": []
   },
   "outputs": [],
   "source": [
    "arg_contexts = {k: [] for k in DataHandler.get_query_context_keys(arguments)}"
   ]
  },
  {
   "cell_type": "code",
   "execution_count": 7,
   "id": "d37d9650-bf6e-4f2f-9b76-fcf00c3388bf",
   "metadata": {
    "execution": {
     "iopub.execute_input": "2021-12-08T06:07:56.736953Z",
     "iopub.status.busy": "2021-12-08T06:07:56.736953Z",
     "iopub.status.idle": "2021-12-08T06:07:57.150153Z",
     "shell.execute_reply": "2021-12-08T06:07:57.149343Z",
     "shell.execute_reply.started": "2021-12-08T06:07:56.736953Z"
    },
    "tags": []
   },
   "outputs": [],
   "source": [
    "for k in arg_contexts.keys():\n",
    "    arg_contexts[k] = DataHandler.get_query_context(arguments, k)"
   ]
  },
  {
   "cell_type": "code",
   "execution_count": 8,
   "id": "cc4cb953-6e73-4abe-8504-883188b62ec5",
   "metadata": {
    "execution": {
     "iopub.execute_input": "2021-12-08T06:07:57.485585Z",
     "iopub.status.busy": "2021-12-08T06:07:57.485585Z",
     "iopub.status.idle": "2021-12-08T06:07:57.576439Z",
     "shell.execute_reply": "2021-12-08T06:07:57.575469Z",
     "shell.execute_reply.started": "2021-12-08T06:07:57.485585Z"
    },
    "tags": []
   },
   "outputs": [],
   "source": [
    "records = list()\n",
    "for k in arg_contexts.keys():\n",
    "    a = [len(b.sentences) for b in arg_contexts[k]]\n",
    "    records.append({\n",
    "        'context': k,\n",
    "        'len': len(arg_contexts[k]),\n",
    "        'arg_lengths': a,\n",
    "        'mean_arg_length':  np.mean(a),\n",
    "        'std_arg_length':  np.std(a),\n",
    "        'median_arg_length': np.median(a),\n",
    "        'max_arg_length': np.max(a),\n",
    "    })\n",
    "context_sizes = pd.DataFrame.from_records(records)"
   ]
  },
  {
   "cell_type": "code",
   "execution_count": null,
   "id": "490e8797-817e-421a-8961-9f08108b4d8b",
   "metadata": {
    "tags": []
   },
   "outputs": [],
   "source": [
    "context_sizes.sort_values(by=['len'], ascending=True)[:20]"
   ]
  },
  {
   "cell_type": "code",
   "execution_count": 12,
   "id": "58a15e21-0126-41e4-ae74-9893619bdee2",
   "metadata": {
    "execution": {
     "iopub.execute_input": "2021-12-07T10:40:59.762773Z",
     "iopub.status.busy": "2021-12-07T10:40:59.762773Z",
     "iopub.status.idle": "2021-12-07T10:40:59.783780Z",
     "shell.execute_reply": "2021-12-07T10:40:59.776703Z",
     "shell.execute_reply.started": "2021-12-07T10:40:59.762773Z"
    },
    "tags": []
   },
   "outputs": [
    {
     "data": {
      "text/plain": [
       "(469, 7)"
      ]
     },
     "execution_count": 12,
     "metadata": {},
     "output_type": "execute_result"
    }
   ],
   "source": [
    "context_sizes.shape"
   ]
  },
  {
   "cell_type": "code",
   "execution_count": 23,
   "id": "eb7647c1-5462-4d8c-855c-2f115af255ab",
   "metadata": {
    "execution": {
     "iopub.execute_input": "2021-12-08T06:18:08.994702Z",
     "iopub.status.busy": "2021-12-08T06:18:08.993695Z",
     "iopub.status.idle": "2021-12-08T06:18:09.031082Z",
     "shell.execute_reply": "2021-12-08T06:18:09.030078Z",
     "shell.execute_reply.started": "2021-12-08T06:18:08.994702Z"
    },
    "tags": []
   },
   "outputs": [
    {
     "data": {
      "text/html": [
       "<div>\n",
       "<style scoped>\n",
       "    .dataframe tbody tr th:only-of-type {\n",
       "        vertical-align: middle;\n",
       "    }\n",
       "\n",
       "    .dataframe tbody tr th {\n",
       "        vertical-align: top;\n",
       "    }\n",
       "\n",
       "    .dataframe thead th {\n",
       "        text-align: right;\n",
       "    }\n",
       "</style>\n",
       "<table border=\"1\" class=\"dataframe\">\n",
       "  <thead>\n",
       "    <tr style=\"text-align: right;\">\n",
       "      <th></th>\n",
       "      <th>context</th>\n",
       "      <th>len</th>\n",
       "      <th>arg_lengths</th>\n",
       "      <th>mean_arg_length</th>\n",
       "      <th>std_arg_length</th>\n",
       "      <th>median_arg_length</th>\n",
       "      <th>max_arg_length</th>\n",
       "    </tr>\n",
       "  </thead>\n",
       "  <tbody>\n",
       "    <tr>\n",
       "      <th>7</th>\n",
       "      <td>transnational_governance</td>\n",
       "      <td>3</td>\n",
       "      <td>[14, 6, 7]</td>\n",
       "      <td>9.000000</td>\n",
       "      <td>3.559026</td>\n",
       "      <td>7.0</td>\n",
       "      <td>14</td>\n",
       "    </tr>\n",
       "    <tr>\n",
       "      <th>426</th>\n",
       "      <td>law</td>\n",
       "      <td>3</td>\n",
       "      <td>[9, 7, 4]</td>\n",
       "      <td>6.666667</td>\n",
       "      <td>2.054805</td>\n",
       "      <td>7.0</td>\n",
       "      <td>9</td>\n",
       "    </tr>\n",
       "    <tr>\n",
       "      <th>405</th>\n",
       "      <td>urbanization</td>\n",
       "      <td>3</td>\n",
       "      <td>[3, 9, 8]</td>\n",
       "      <td>6.666667</td>\n",
       "      <td>2.624669</td>\n",
       "      <td>8.0</td>\n",
       "      <td>9</td>\n",
       "    </tr>\n",
       "    <tr>\n",
       "      <th>332</th>\n",
       "      <td>heart</td>\n",
       "      <td>3</td>\n",
       "      <td>[10, 3, 4]</td>\n",
       "      <td>5.666667</td>\n",
       "      <td>3.091206</td>\n",
       "      <td>4.0</td>\n",
       "      <td>10</td>\n",
       "    </tr>\n",
       "    <tr>\n",
       "      <th>458</th>\n",
       "      <td>pokemon</td>\n",
       "      <td>3</td>\n",
       "      <td>[4, 9, 13]</td>\n",
       "      <td>8.666667</td>\n",
       "      <td>3.681787</td>\n",
       "      <td>9.0</td>\n",
       "      <td>13</td>\n",
       "    </tr>\n",
       "    <tr>\n",
       "      <th>189</th>\n",
       "      <td>merkel</td>\n",
       "      <td>3</td>\n",
       "      <td>[6, 4, 4]</td>\n",
       "      <td>4.666667</td>\n",
       "      <td>0.942809</td>\n",
       "      <td>4.0</td>\n",
       "      <td>6</td>\n",
       "    </tr>\n",
       "    <tr>\n",
       "      <th>183</th>\n",
       "      <td>radio</td>\n",
       "      <td>3</td>\n",
       "      <td>[5, 10, 15]</td>\n",
       "      <td>10.000000</td>\n",
       "      <td>4.082483</td>\n",
       "      <td>10.0</td>\n",
       "      <td>15</td>\n",
       "    </tr>\n",
       "    <tr>\n",
       "      <th>157</th>\n",
       "      <td>religion</td>\n",
       "      <td>3</td>\n",
       "      <td>[4, 4, 4]</td>\n",
       "      <td>4.000000</td>\n",
       "      <td>0.000000</td>\n",
       "      <td>4.0</td>\n",
       "      <td>4</td>\n",
       "    </tr>\n",
       "    <tr>\n",
       "      <th>195</th>\n",
       "      <td>star_wars</td>\n",
       "      <td>3</td>\n",
       "      <td>[3, 14, 10]</td>\n",
       "      <td>9.000000</td>\n",
       "      <td>4.546061</td>\n",
       "      <td>10.0</td>\n",
       "      <td>14</td>\n",
       "    </tr>\n",
       "    <tr>\n",
       "      <th>113</th>\n",
       "      <td>elon_musk</td>\n",
       "      <td>3</td>\n",
       "      <td>[6, 3, 8]</td>\n",
       "      <td>5.666667</td>\n",
       "      <td>2.054805</td>\n",
       "      <td>6.0</td>\n",
       "      <td>8</td>\n",
       "    </tr>\n",
       "    <tr>\n",
       "      <th>95</th>\n",
       "      <td>arduino</td>\n",
       "      <td>3</td>\n",
       "      <td>[6, 8, 3]</td>\n",
       "      <td>5.666667</td>\n",
       "      <td>2.054805</td>\n",
       "      <td>6.0</td>\n",
       "      <td>8</td>\n",
       "    </tr>\n",
       "    <tr>\n",
       "      <th>162</th>\n",
       "      <td>russia_is_bad</td>\n",
       "      <td>4</td>\n",
       "      <td>[13, 3, 5, 6]</td>\n",
       "      <td>6.750000</td>\n",
       "      <td>3.766630</td>\n",
       "      <td>5.5</td>\n",
       "      <td>13</td>\n",
       "    </tr>\n",
       "    <tr>\n",
       "      <th>204</th>\n",
       "      <td>trade_network</td>\n",
       "      <td>4</td>\n",
       "      <td>[6, 3, 6, 7]</td>\n",
       "      <td>5.500000</td>\n",
       "      <td>1.500000</td>\n",
       "      <td>6.0</td>\n",
       "      <td>7</td>\n",
       "    </tr>\n",
       "    <tr>\n",
       "      <th>272</th>\n",
       "      <td>rick_and_morty</td>\n",
       "      <td>4</td>\n",
       "      <td>[5, 5, 7, 5]</td>\n",
       "      <td>5.500000</td>\n",
       "      <td>0.866025</td>\n",
       "      <td>5.0</td>\n",
       "      <td>7</td>\n",
       "    </tr>\n",
       "    <tr>\n",
       "      <th>45</th>\n",
       "      <td>corpus</td>\n",
       "      <td>4</td>\n",
       "      <td>[5, 6, 5, 10]</td>\n",
       "      <td>6.500000</td>\n",
       "      <td>2.061553</td>\n",
       "      <td>5.5</td>\n",
       "      <td>10</td>\n",
       "    </tr>\n",
       "    <tr>\n",
       "      <th>121</th>\n",
       "      <td>beer</td>\n",
       "      <td>4</td>\n",
       "      <td>[12, 12, 19, 5]</td>\n",
       "      <td>12.000000</td>\n",
       "      <td>4.949747</td>\n",
       "      <td>12.0</td>\n",
       "      <td>19</td>\n",
       "    </tr>\n",
       "    <tr>\n",
       "      <th>81</th>\n",
       "      <td>is_golf_a_sport</td>\n",
       "      <td>4</td>\n",
       "      <td>[7, 3, 6, 13]</td>\n",
       "      <td>7.250000</td>\n",
       "      <td>3.631460</td>\n",
       "      <td>6.5</td>\n",
       "      <td>13</td>\n",
       "    </tr>\n",
       "    <tr>\n",
       "      <th>443</th>\n",
       "      <td>sausage</td>\n",
       "      <td>5</td>\n",
       "      <td>[7, 12, 4, 6, 11]</td>\n",
       "      <td>8.000000</td>\n",
       "      <td>3.033150</td>\n",
       "      <td>7.0</td>\n",
       "      <td>12</td>\n",
       "    </tr>\n",
       "    <tr>\n",
       "      <th>435</th>\n",
       "      <td>he_very_rich_employ_expert_accountants_and_law...</td>\n",
       "      <td>5</td>\n",
       "      <td>[6, 5, 9, 3, 7]</td>\n",
       "      <td>6.000000</td>\n",
       "      <td>2.000000</td>\n",
       "      <td>6.0</td>\n",
       "      <td>9</td>\n",
       "    </tr>\n",
       "    <tr>\n",
       "      <th>311</th>\n",
       "      <td>revenue</td>\n",
       "      <td>5</td>\n",
       "      <td>[17, 4, 8, 7, 4]</td>\n",
       "      <td>8.000000</td>\n",
       "      <td>4.774935</td>\n",
       "      <td>7.0</td>\n",
       "      <td>17</td>\n",
       "    </tr>\n",
       "    <tr>\n",
       "      <th>88</th>\n",
       "      <td>information</td>\n",
       "      <td>5</td>\n",
       "      <td>[7, 17, 4, 8, 17]</td>\n",
       "      <td>10.600000</td>\n",
       "      <td>5.388877</td>\n",
       "      <td>8.0</td>\n",
       "      <td>17</td>\n",
       "    </tr>\n",
       "    <tr>\n",
       "      <th>293</th>\n",
       "      <td>royals</td>\n",
       "      <td>5</td>\n",
       "      <td>[5, 9, 13, 3, 3]</td>\n",
       "      <td>6.600000</td>\n",
       "      <td>3.878144</td>\n",
       "      <td>5.0</td>\n",
       "      <td>13</td>\n",
       "    </tr>\n",
       "    <tr>\n",
       "      <th>218</th>\n",
       "      <td>taking_the_train</td>\n",
       "      <td>5</td>\n",
       "      <td>[8, 5, 17, 5, 3]</td>\n",
       "      <td>7.600000</td>\n",
       "      <td>4.963869</td>\n",
       "      <td>5.0</td>\n",
       "      <td>17</td>\n",
       "    </tr>\n",
       "    <tr>\n",
       "      <th>116</th>\n",
       "      <td>rap-battle</td>\n",
       "      <td>5</td>\n",
       "      <td>[3, 7, 4, 10, 6]</td>\n",
       "      <td>6.000000</td>\n",
       "      <td>2.449490</td>\n",
       "      <td>6.0</td>\n",
       "      <td>10</td>\n",
       "    </tr>\n",
       "    <tr>\n",
       "      <th>401</th>\n",
       "      <td>only_the_moderately_well-off_pay_inheritance_tax.</td>\n",
       "      <td>5</td>\n",
       "      <td>[3, 5, 6, 9, 7]</td>\n",
       "      <td>6.000000</td>\n",
       "      <td>2.000000</td>\n",
       "      <td>6.0</td>\n",
       "      <td>9</td>\n",
       "    </tr>\n",
       "    <tr>\n",
       "      <th>460</th>\n",
       "      <td>the_very_rich_employ_expert_accountants_and_la...</td>\n",
       "      <td>5</td>\n",
       "      <td>[5, 9, 3, 7, 6]</td>\n",
       "      <td>6.000000</td>\n",
       "      <td>2.000000</td>\n",
       "      <td>6.0</td>\n",
       "      <td>9</td>\n",
       "    </tr>\n",
       "  </tbody>\n",
       "</table>\n",
       "</div>"
      ],
      "text/plain": [
       "                                               context  len  \\\n",
       "7                             transnational_governance    3   \n",
       "426                                                law    3   \n",
       "405                                       urbanization    3   \n",
       "332                                              heart    3   \n",
       "458                                            pokemon    3   \n",
       "189                                             merkel    3   \n",
       "183                                              radio    3   \n",
       "157                                           religion    3   \n",
       "195                                          star_wars    3   \n",
       "113                                          elon_musk    3   \n",
       "95                                             arduino    3   \n",
       "162                                      russia_is_bad    4   \n",
       "204                                      trade_network    4   \n",
       "272                                     rick_and_morty    4   \n",
       "45                                              corpus    4   \n",
       "121                                               beer    4   \n",
       "81                                     is_golf_a_sport    4   \n",
       "443                                            sausage    5   \n",
       "435  he_very_rich_employ_expert_accountants_and_law...    5   \n",
       "311                                            revenue    5   \n",
       "88                                         information    5   \n",
       "293                                             royals    5   \n",
       "218                                   taking_the_train    5   \n",
       "116                                         rap-battle    5   \n",
       "401  only_the_moderately_well-off_pay_inheritance_tax.    5   \n",
       "460  the_very_rich_employ_expert_accountants_and_la...    5   \n",
       "\n",
       "           arg_lengths  mean_arg_length  std_arg_length  median_arg_length  \\\n",
       "7           [14, 6, 7]         9.000000        3.559026                7.0   \n",
       "426          [9, 7, 4]         6.666667        2.054805                7.0   \n",
       "405          [3, 9, 8]         6.666667        2.624669                8.0   \n",
       "332         [10, 3, 4]         5.666667        3.091206                4.0   \n",
       "458         [4, 9, 13]         8.666667        3.681787                9.0   \n",
       "189          [6, 4, 4]         4.666667        0.942809                4.0   \n",
       "183        [5, 10, 15]        10.000000        4.082483               10.0   \n",
       "157          [4, 4, 4]         4.000000        0.000000                4.0   \n",
       "195        [3, 14, 10]         9.000000        4.546061               10.0   \n",
       "113          [6, 3, 8]         5.666667        2.054805                6.0   \n",
       "95           [6, 8, 3]         5.666667        2.054805                6.0   \n",
       "162      [13, 3, 5, 6]         6.750000        3.766630                5.5   \n",
       "204       [6, 3, 6, 7]         5.500000        1.500000                6.0   \n",
       "272       [5, 5, 7, 5]         5.500000        0.866025                5.0   \n",
       "45       [5, 6, 5, 10]         6.500000        2.061553                5.5   \n",
       "121    [12, 12, 19, 5]        12.000000        4.949747               12.0   \n",
       "81       [7, 3, 6, 13]         7.250000        3.631460                6.5   \n",
       "443  [7, 12, 4, 6, 11]         8.000000        3.033150                7.0   \n",
       "435    [6, 5, 9, 3, 7]         6.000000        2.000000                6.0   \n",
       "311   [17, 4, 8, 7, 4]         8.000000        4.774935                7.0   \n",
       "88   [7, 17, 4, 8, 17]        10.600000        5.388877                8.0   \n",
       "293   [5, 9, 13, 3, 3]         6.600000        3.878144                5.0   \n",
       "218   [8, 5, 17, 5, 3]         7.600000        4.963869                5.0   \n",
       "116   [3, 7, 4, 10, 6]         6.000000        2.449490                6.0   \n",
       "401    [3, 5, 6, 9, 7]         6.000000        2.000000                6.0   \n",
       "460    [5, 9, 3, 7, 6]         6.000000        2.000000                6.0   \n",
       "\n",
       "     max_arg_length  \n",
       "7                14  \n",
       "426               9  \n",
       "405               9  \n",
       "332              10  \n",
       "458              13  \n",
       "189               6  \n",
       "183              15  \n",
       "157               4  \n",
       "195              14  \n",
       "113               8  \n",
       "95                8  \n",
       "162              13  \n",
       "204               7  \n",
       "272               7  \n",
       "45               10  \n",
       "121              19  \n",
       "81               13  \n",
       "443              12  \n",
       "435               9  \n",
       "311              17  \n",
       "88               17  \n",
       "293              13  \n",
       "218              17  \n",
       "116              10  \n",
       "401               9  \n",
       "460               9  "
      ]
     },
     "execution_count": 23,
     "metadata": {},
     "output_type": "execute_result"
    }
   ],
   "source": [
    "context_sizes\\\n",
    "    [\\\n",
    "     (context_sizes.len <= 5)\\\n",
    "     & (context_sizes.max_arg_length <= 20)\\\n",
    "    ]\\\n",
    "    .sort_values(by=['len'], ascending=True)"
   ]
  },
  {
   "cell_type": "code",
   "execution_count": 9,
   "id": "ec424285-88e2-4c6c-a645-a5e458602895",
   "metadata": {
    "execution": {
     "iopub.execute_input": "2021-12-08T06:08:01.467787Z",
     "iopub.status.busy": "2021-12-08T06:08:01.466802Z",
     "iopub.status.idle": "2021-12-08T06:08:01.505968Z",
     "shell.execute_reply": "2021-12-08T06:08:01.500038Z",
     "shell.execute_reply.started": "2021-12-08T06:08:01.467787Z"
    },
    "jupyter": {
     "source_hidden": true
    },
    "tags": []
   },
   "outputs": [],
   "source": [
    "def print_arg(arg, hl=None):\n",
    "    html_str = f'<p style=\"text-align:right\">{arg.arg_id}</p><div style=\"border: solid black 1px; padding-left: 5px\">'\n",
    "    for idx, s in enumerate(arg.sentences):\n",
    "        if hl is None:\n",
    "            html_str += f'<span style=\"color:grey\">{idx+1:02d} </span><span style=\"width:50%; background-color:{\"yellow\" if s in arg.snippet else \"white\"}\">{s}</span><br>'\n",
    "        else:\n",
    "            html_str += f'<span style=\"color:grey\">{idx+1:02d} </span><span style=\"width:50%; background-color:{\"yellow\" if idx in hl else \"white\"}\">{s}</span><br>'\n",
    "    display_html(html_str+ '</div>', raw=True)\n",
    "    \n",
    "def print_arg(arg, hl=None):\n",
    "    html_str = f'<p style=\"text-align:right\">{arg.arg_id}</p><div style=\"border: solid black 1px; padding-left: 5px\">'\n",
    "    tex_str = r\"\"\"\\noindent\\begin{tabularx}{\\textwidth}{|rX|}\n",
    "\t\t\\multicolumn{2}{r}{\\textcolor{gray}{\"\"\" + arg.arg_id + r\"\"\"}}\\\\\n",
    "        \\hline\"\"\" + '\\n'\n",
    "    for idx, s in enumerate(arg.sentences):\n",
    "        if hl is None:\n",
    "            html_str += f'<span style=\"color:grey\">{idx+1:02d} </span><span style=\"width:50%; background-color:{\"yellow\" if s in arg.snippet else \"white\"}\">{s}</span><br>'\n",
    "            tex_str += (r'\\textcolor{gray}{'+ f'{idx+1:02d}' + r'}&'+ ('\\\\hl' if s in arg.snippet else '') + r'{'+ s +r'}\\\\' + '\\n')\n",
    "        else:\n",
    "            html_str += f'<span style=\"color:grey\">{idx+1:02d} </span><span style=\"width:50%; background-color:{\"yellow\" if idx in hl else \"white\"}\">{s}</span><br>'\n",
    "            tex_str += r'\\textcolor{gray}{'+ f'{idx+1:02d}' + r'}&'+ ('\\\\hl' if idx in hl else '') + r'{'+ s +r'}\\\\' + '\\n'\n",
    "    display_html(html_str+ '</div>', raw=True)\n",
    "    print(tex_str+'\\hline\\n\\end{tabularx}')"
   ]
  },
  {
   "cell_type": "code",
   "execution_count": 32,
   "id": "3d2d0e67-680c-4754-9030-8e54711f81d5",
   "metadata": {
    "collapsed": true,
    "execution": {
     "iopub.execute_input": "2021-12-08T06:27:26.534669Z",
     "iopub.status.busy": "2021-12-08T06:27:26.534669Z",
     "iopub.status.idle": "2021-12-08T06:27:26.557667Z",
     "shell.execute_reply": "2021-12-08T06:27:26.557667Z",
     "shell.execute_reply.started": "2021-12-08T06:27:26.534669Z"
    },
    "jupyter": {
     "outputs_hidden": true
    },
    "tags": []
   },
   "outputs": [
    {
     "data": {
      "text/html": [
       "<p style=\"text-align:right\">Sccb2cd3b-A64e0401</p><div style=\"border: solid black 1px; padding-left: 5px\"><span style=\"color:grey\">01 </span><span style=\"width:50%; background-color:white\">Since 1984 the law has been 21 years old to consume alcohol.</span><br><span style=\"color:grey\">02 </span><span style=\"width:50%; background-color:white\">The age to fight?</span><br><span style=\"color:grey\">03 </span><span style=\"width:50%; background-color:white\">Think back to World Wars and battles before, we had boys, and when I say boys I mean children as young as six or seven on the battlefield.</span><br><span style=\"color:grey\">04 </span><span style=\"width:50%; background-color:white\">Our country is one of tradition and not much for change.</span><br><span style=\"color:grey\">05 </span><span style=\"width:50%; background-color:yellow\">The drinking age was set 24 years ago and has not been touched since, we accept that for what it is, and it is mainly young adults and teens in high school who argue with it.</span><br><span style=\"color:grey\">06 </span><span style=\"width:50%; background-color:white\">The age now to fight for our country is 18, only three years younger than the drinking age.</span><br><span style=\"color:grey\">07 </span><span style=\"width:50%; background-color:white\">It’s not that long to wait in reality.</span><br><span style=\"color:grey\">08 </span><span style=\"width:50%; background-color:white\">And most people are generally proud to go fight for their country, if they sign up it is because it’s something they want to do.</span><br><span style=\"color:grey\">09 </span><span style=\"width:50%; background-color:yellow\">Though drafts have been instated before, it has been several years, so those willing to sign up for the military know what they are getting themselves into.</span><br></div>"
      ]
     },
     "metadata": {},
     "output_type": "display_data"
    },
    {
     "name": "stdout",
     "output_type": "stream",
     "text": [
      "\\noindent\\begin{tabularx}{\\textwidth}{|rX|}\n",
      "\t\t\\multicolumn{2}{r}{\\textcolor{gray}{Sccb2cd3b-A64e0401}}\\\\\n",
      "        \\hline\n",
      "\\textcolor{gray}{01}&{Since 1984 the law has been 21 years old to consume alcohol.}\\\\\n",
      "\\textcolor{gray}{02}&{The age to fight?}\\\\\n",
      "\\textcolor{gray}{03}&{Think back to World Wars and battles before, we had boys, and when I say boys I mean children as young as six or seven on the battlefield.}\\\\\n",
      "\\textcolor{gray}{04}&{Our country is one of tradition and not much for change.}\\\\\n",
      "\\textcolor{gray}{05}&\\hl{The drinking age was set 24 years ago and has not been touched since, we accept that for what it is, and it is mainly young adults and teens in high school who argue with it.}\\\\\n",
      "\\textcolor{gray}{06}&{The age now to fight for our country is 18, only three years younger than the drinking age.}\\\\\n",
      "\\textcolor{gray}{07}&{It’s not that long to wait in reality.}\\\\\n",
      "\\textcolor{gray}{08}&{And most people are generally proud to go fight for their country, if they sign up it is because it’s something they want to do.}\\\\\n",
      "\\textcolor{gray}{09}&\\hl{Though drafts have been instated before, it has been several years, so those willing to sign up for the military know what they are getting themselves into.}\\\\\n",
      "\\hline\n",
      "\\end{tabularx}\n"
     ]
    },
    {
     "data": {
      "text/html": [
       "<p style=\"text-align:right\">S838c9eec-Aa9606e58</p><div style=\"border: solid black 1px; padding-left: 5px\"><span style=\"color:grey\">01 </span><span style=\"width:50%; background-color:yellow\">Which set of moral laws are you referring to?</span><br><span style=\"color:grey\">02 </span><span style=\"width:50%; background-color:white\">For example, Christians would point to the Bible for their moral laws.</span><br><span style=\"color:grey\">03 </span><span style=\"width:50%; background-color:white\">I believe there are no moral absolutes.</span><br><span style=\"color:grey\">04 </span><span style=\"width:50%; background-color:white\">I also believe society has improved over time.</span><br><span style=\"color:grey\">05 </span><span style=\"width:50%; background-color:white\">For example, there is now an international police force, NATO, whose goal is to limit the violence of wars and protect human rights.</span><br><span style=\"color:grey\">06 </span><span style=\"width:50%; background-color:white\">A better analogy is if a person is attacked and fatally shoots their aggressor and your moral law says killing is wrong.</span><br><span style=\"color:grey\">07 </span><span style=\"width:50%; background-color:yellow\">Was the moral law not broken?</span><br></div>"
      ]
     },
     "metadata": {},
     "output_type": "display_data"
    },
    {
     "name": "stdout",
     "output_type": "stream",
     "text": [
      "\\noindent\\begin{tabularx}{\\textwidth}{|rX|}\n",
      "\t\t\\multicolumn{2}{r}{\\textcolor{gray}{S838c9eec-Aa9606e58}}\\\\\n",
      "        \\hline\n",
      "\\textcolor{gray}{01}&\\hl{Which set of moral laws are you referring to?}\\\\\n",
      "\\textcolor{gray}{02}&{For example, Christians would point to the Bible for their moral laws.}\\\\\n",
      "\\textcolor{gray}{03}&{I believe there are no moral absolutes.}\\\\\n",
      "\\textcolor{gray}{04}&{I also believe society has improved over time.}\\\\\n",
      "\\textcolor{gray}{05}&{For example, there is now an international police force, NATO, whose goal is to limit the violence of wars and protect human rights.}\\\\\n",
      "\\textcolor{gray}{06}&{A better analogy is if a person is attacked and fatally shoots their aggressor and your moral law says killing is wrong.}\\\\\n",
      "\\textcolor{gray}{07}&\\hl{Was the moral law not broken?}\\\\\n",
      "\\hline\n",
      "\\end{tabularx}\n"
     ]
    },
    {
     "data": {
      "text/html": [
       "<p style=\"text-align:right\">Sc66f7c55-A331e55ef</p><div style=\"border: solid black 1px; padding-left: 5px\"><span style=\"color:grey\">01 </span><span style=\"width:50%; background-color:white\">Jessica's law forces every single person charged with brutal child molestation into one of two categories.</span><br><span style=\"color:grey\">02 </span><span style=\"width:50%; background-color:white\">Mandatory minimum of 25 years in prison, or innocent.</span><br><span style=\"color:grey\">03 </span><span style=\"width:50%; background-color:yellow\">The reality is that most of these people probably deserve something in the way of 7-15 years depending on all the factors, which is what they were getting prior to Jessica's Law.</span><br><span style=\"color:grey\">04 </span><span style=\"width:50%; background-color:yellow\">There will always be a few people who get off lighter then they diserve no matter what the crime is, but mandatory minimums will actually make the problem worse.</span><br></div>"
      ]
     },
     "metadata": {},
     "output_type": "display_data"
    },
    {
     "name": "stdout",
     "output_type": "stream",
     "text": [
      "\\noindent\\begin{tabularx}{\\textwidth}{|rX|}\n",
      "\t\t\\multicolumn{2}{r}{\\textcolor{gray}{Sc66f7c55-A331e55ef}}\\\\\n",
      "        \\hline\n",
      "\\textcolor{gray}{01}&{Jessica's law forces every single person charged with brutal child molestation into one of two categories.}\\\\\n",
      "\\textcolor{gray}{02}&{Mandatory minimum of 25 years in prison, or innocent.}\\\\\n",
      "\\textcolor{gray}{03}&\\hl{The reality is that most of these people probably deserve something in the way of 7-15 years depending on all the factors, which is what they were getting prior to Jessica's Law.}\\\\\n",
      "\\textcolor{gray}{04}&\\hl{There will always be a few people who get off lighter then they diserve no matter what the crime is, but mandatory minimums will actually make the problem worse.}\\\\\n",
      "\\hline\n",
      "\\end{tabularx}\n"
     ]
    }
   ],
   "source": [
    "for a in arg_contexts['law']:\n",
    "    print_arg(a, a.excerpt_indices)"
   ]
  },
  {
   "cell_type": "code",
   "execution_count": 33,
   "id": "b2ee020a-da35-4973-a40a-cc50befbc707",
   "metadata": {
    "collapsed": true,
    "execution": {
     "iopub.execute_input": "2021-12-08T06:29:26.565031Z",
     "iopub.status.busy": "2021-12-08T06:29:26.564029Z",
     "iopub.status.idle": "2021-12-08T06:29:26.576027Z",
     "shell.execute_reply": "2021-12-08T06:29:26.575030Z",
     "shell.execute_reply.started": "2021-12-08T06:29:26.565031Z"
    },
    "jupyter": {
     "outputs_hidden": true
    },
    "tags": []
   },
   "outputs": [
    {
     "data": {
      "text/html": [
       "<p style=\"text-align:right\">S4dd1e93f-Af1374301</p><div style=\"border: solid black 1px; padding-left: 5px\"><span style=\"color:grey\">01 </span><span style=\"width:50%; background-color:yellow\">I'm here to debate is star wars a remake of star trek!</span><br><span style=\"color:grey\">02 </span><span style=\"width:50%; background-color:yellow\">My opinion is that yes star wars is basically a remake of star trek.</span><br><span style=\"color:grey\">03 </span><span style=\"width:50%; background-color:white\">One of the reasons is that star trek was made first then star wars came out its basically just a better-animated action packed movie.</span><br></div>"
      ]
     },
     "metadata": {},
     "output_type": "display_data"
    },
    {
     "name": "stdout",
     "output_type": "stream",
     "text": [
      "\\noindent\\begin{tabularx}{\\textwidth}{|rX|}\n",
      "\t\t\\multicolumn{2}{r}{\\textcolor{gray}{S4dd1e93f-Af1374301}}\\\\\n",
      "        \\hline\n",
      "\\textcolor{gray}{01}&\\hl{I'm here to debate is star wars a remake of star trek!}\\\\\n",
      "\\textcolor{gray}{02}&\\hl{My opinion is that yes star wars is basically a remake of star trek.}\\\\\n",
      "\\textcolor{gray}{03}&{One of the reasons is that star trek was made first then star wars came out its basically just a better-animated action packed movie.}\\\\\n",
      "\\hline\n",
      "\\end{tabularx}\n"
     ]
    },
    {
     "data": {
      "text/html": [
       "<p style=\"text-align:right\">S7851b886-Aa35939db</p><div style=\"border: solid black 1px; padding-left: 5px\"><span style=\"color:grey\">01 </span><span style=\"width:50%; background-color:white\">I think Star Trek is much better overall.</span><br><span style=\"color:grey\">02 </span><span style=\"width:50%; background-color:white\">The message of Star Trek is stronger than Star Wars.</span><br><span style=\"color:grey\">03 </span><span style=\"width:50%; background-color:yellow\">With ST, you have episodes dealing with racism , AIDS , philosophy of mind and rights , euthanasia and much more.</span><br><span style=\"color:grey\">04 </span><span style=\"width:50%; background-color:white\">Star Wars paints a black and white picture of morality, whereas Star Trek often reveals shades of grey .</span><br><span style=\"color:grey\">05 </span><span style=\"width:50%; background-color:white\">Having a TV record allows them to have a variety of stories.</span><br><span style=\"color:grey\">06 </span><span style=\"width:50%; background-color:white\">This is like the problem above, Star Wars is all about the Sith/Force/Jedi.</span><br><span style=\"color:grey\">07 </span><span style=\"width:50%; background-color:yellow\">It is one clear and common good v. evil trope [10].</span><br><span style=\"color:grey\">08 </span><span style=\"width:50%; background-color:white\">Star Trek is about exploration, the TV format allows them to have a variety of enemies, problems, and characters.</span><br><span style=\"color:grey\">09 </span><span style=\"width:50%; background-color:white\">The TV format also allows for deeper character development.</span><br><span style=\"color:grey\">10 </span><span style=\"width:50%; background-color:white\">Effects wise, maybe Star Wars does beat early Star Trek when comparing it to older films.</span><br><span style=\"color:grey\">11 </span><span style=\"width:50%; background-color:white\">Although, those movies aren't suppose to have big space wars like Star Wars does.</span><br><span style=\"color:grey\">12 </span><span style=\"width:50%; background-color:white\">With Star Wars, there's doubt that the prequels were originally conceived.</span><br><span style=\"color:grey\">13 </span><span style=\"width:50%; background-color:white\">There seems to be a lot of mistakes in the retconning, which create plot holes [12].</span><br><span style=\"color:grey\">14 </span><span style=\"width:50%; background-color:white\">I conclude that Star Trek is philosophically superior, has a better amount of stories, better character development, and less problems with its retconning.</span><br></div>"
      ]
     },
     "metadata": {},
     "output_type": "display_data"
    },
    {
     "name": "stdout",
     "output_type": "stream",
     "text": [
      "\\noindent\\begin{tabularx}{\\textwidth}{|rX|}\n",
      "\t\t\\multicolumn{2}{r}{\\textcolor{gray}{S7851b886-Aa35939db}}\\\\\n",
      "        \\hline\n",
      "\\textcolor{gray}{01}&{I think Star Trek is much better overall.}\\\\\n",
      "\\textcolor{gray}{02}&{The message of Star Trek is stronger than Star Wars.}\\\\\n",
      "\\textcolor{gray}{03}&\\hl{With ST, you have episodes dealing with racism , AIDS , philosophy of mind and rights , euthanasia and much more.}\\\\\n",
      "\\textcolor{gray}{04}&{Star Wars paints a black and white picture of morality, whereas Star Trek often reveals shades of grey .}\\\\\n",
      "\\textcolor{gray}{05}&{Having a TV record allows them to have a variety of stories.}\\\\\n",
      "\\textcolor{gray}{06}&{This is like the problem above, Star Wars is all about the Sith/Force/Jedi.}\\\\\n",
      "\\textcolor{gray}{07}&\\hl{It is one clear and common good v. evil trope [10].}\\\\\n",
      "\\textcolor{gray}{08}&{Star Trek is about exploration, the TV format allows them to have a variety of enemies, problems, and characters.}\\\\\n",
      "\\textcolor{gray}{09}&{The TV format also allows for deeper character development.}\\\\\n",
      "\\textcolor{gray}{10}&{Effects wise, maybe Star Wars does beat early Star Trek when comparing it to older films.}\\\\\n",
      "\\textcolor{gray}{11}&{Although, those movies aren't suppose to have big space wars like Star Wars does.}\\\\\n",
      "\\textcolor{gray}{12}&{With Star Wars, there's doubt that the prequels were originally conceived.}\\\\\n",
      "\\textcolor{gray}{13}&{There seems to be a lot of mistakes in the retconning, which create plot holes [12].}\\\\\n",
      "\\textcolor{gray}{14}&{I conclude that Star Trek is philosophically superior, has a better amount of stories, better character development, and less problems with its retconning.}\\\\\n",
      "\\hline\n",
      "\\end{tabularx}\n"
     ]
    },
    {
     "data": {
      "text/html": [
       "<p style=\"text-align:right\">S14bc8da3-A2416ee7f</p><div style=\"border: solid black 1px; padding-left: 5px\"><span style=\"color:grey\">01 </span><span style=\"width:50%; background-color:yellow\">What with Star Trek: The Original Series, The Next Generation, Voyager, Deep Space 9, Enterprise, and soon-to-be-12 movies, the total run time of all canon Star Trek material is over 22 days.</span><br><span style=\"color:grey\">02 </span><span style=\"width:50%; background-color:white\">Star Wars has three moviessix, if you count the prequels.</span><br><span style=\"color:grey\">03 </span><span style=\"width:50%; background-color:white\">The total run time of all six movies is less than 14 hours.</span><br><span style=\"color:grey\">04 </span><span style=\"width:50%; background-color:white\">Though both franchises also boast a healthy extended universe in the form of novels, comics, and games, Star Trek handily beats Star Wars in screen time by more than 21 days.</span><br><span style=\"color:grey\">05 </span><span style=\"width:50%; background-color:white\">Let me rephrase that.</span><br><span style=\"color:grey\">06 </span><span style=\"width:50%; background-color:white\">Star Trek has over 37 times the material available for your viewing pleasure than Star Wars does.</span><br><span style=\"color:grey\">07 </span><span style=\"width:50%; background-color:yellow\">That is pretty much unbeatable.</span><br><span style=\"color:grey\">08 </span><span style=\"width:50%; background-color:white\">The Star Trek franchise has the wonderful ability to both summon tremendous nostalgia and still produce sexy new stuff.</span><br><span style=\"color:grey\">09 </span><span style=\"width:50%; background-color:white\">To compare with Star Wars, the original Star Trek series debuted in 1966, and A New Hope came eleven years later in 1977.</span><br><span style=\"color:grey\">10 </span><span style=\"width:50%; background-color:white\">The Revenge of the Sith came out in 2006 and has a respectable 80% on Rotten Tomatoes, but in 2009 Star Trek starring Chris Pine and Zachary Quinto was released, and that holds an impressive Rotten-Tomatoes 95%.</span><br></div>"
      ]
     },
     "metadata": {},
     "output_type": "display_data"
    },
    {
     "name": "stdout",
     "output_type": "stream",
     "text": [
      "\\noindent\\begin{tabularx}{\\textwidth}{|rX|}\n",
      "\t\t\\multicolumn{2}{r}{\\textcolor{gray}{S14bc8da3-A2416ee7f}}\\\\\n",
      "        \\hline\n",
      "\\textcolor{gray}{01}&\\hl{What with Star Trek: The Original Series, The Next Generation, Voyager, Deep Space 9, Enterprise, and soon-to-be-12 movies, the total run time of all canon Star Trek material is over 22 days.}\\\\\n",
      "\\textcolor{gray}{02}&{Star Wars has three moviessix, if you count the prequels.}\\\\\n",
      "\\textcolor{gray}{03}&{The total run time of all six movies is less than 14 hours.}\\\\\n",
      "\\textcolor{gray}{04}&{Though both franchises also boast a healthy extended universe in the form of novels, comics, and games, Star Trek handily beats Star Wars in screen time by more than 21 days.}\\\\\n",
      "\\textcolor{gray}{05}&{Let me rephrase that.}\\\\\n",
      "\\textcolor{gray}{06}&{Star Trek has over 37 times the material available for your viewing pleasure than Star Wars does.}\\\\\n",
      "\\textcolor{gray}{07}&\\hl{That is pretty much unbeatable.}\\\\\n",
      "\\textcolor{gray}{08}&{The Star Trek franchise has the wonderful ability to both summon tremendous nostalgia and still produce sexy new stuff.}\\\\\n",
      "\\textcolor{gray}{09}&{To compare with Star Wars, the original Star Trek series debuted in 1966, and A New Hope came eleven years later in 1977.}\\\\\n",
      "\\textcolor{gray}{10}&{The Revenge of the Sith came out in 2006 and has a respectable 80% on Rotten Tomatoes, but in 2009 Star Trek starring Chris Pine and Zachary Quinto was released, and that holds an impressive Rotten-Tomatoes 95%.}\\\\\n",
      "\\hline\n",
      "\\end{tabularx}\n"
     ]
    }
   ],
   "source": [
    "for a in arg_contexts['star_wars']:#['religion']:\n",
    "    print_arg(a, a.excerpt_indices)"
   ]
  },
  {
   "cell_type": "code",
   "execution_count": 86,
   "id": "cafaac64-08f2-4b8a-bacd-6afabddb158c",
   "metadata": {
    "execution": {
     "iopub.execute_input": "2021-10-07T08:44:10.914022Z",
     "iopub.status.busy": "2021-10-07T08:44:10.914022Z",
     "iopub.status.idle": "2021-10-07T08:44:10.927573Z",
     "shell.execute_reply": "2021-10-07T08:44:10.926576Z",
     "shell.execute_reply.started": "2021-10-07T08:44:10.914022Z"
    },
    "tags": []
   },
   "outputs": [
    {
     "data": {
      "text/plain": [
       "15"
      ]
     },
     "execution_count": 86,
     "metadata": {},
     "output_type": "execute_result"
    }
   ],
   "source": [
    "possible_contexts_for_human_annotation_study = {\n",
    "    'merkel', #3, 4.7\n",
    "    'religion', #3, 4.\n",
    "    'transnational_governance', # 3, 9.\n",
    "    'aliens', # 10, 6.1\n",
    "    'covid_vaccination_should_be_mandatory', # 6, 4.5\n",
    "    'russia_is_bad', # 4, 6.75\n",
    "    'trade_network', # 4, 5.5\n",
    "    'forests', # 6, 5.3, maybe select only a few of the arguments\n",
    "    'leaving_school_early', # 6, 5.2 - bad example, not diverse\n",
    "    'urbanization', # 3, 6.7\n",
    "    'star_wars', #3, 9.\n",
    "    'is_golf_a_sport', # 4, 7.25\n",
    "    'league_of_legends', # 6, 3.5\n",
    "    'veganism_is_healthy',# 3, 17.3\n",
    "    'public_transport', # 4, 23.35\n",
    "    'free_knowledge', \n",
    "    'covid_vaccination', \n",
    "    \n",
    "    #'does_germany_produce_green_energy', #6, 9.2\n",
    "    #'radio', # 3, 10.\n",
    "    #'law', #3, 6.7\n",
    "}\n",
    "len(possible_contexts_for_human_annotation_study)"
   ]
  },
  {
   "cell_type": "code",
   "execution_count": 12,
   "id": "d2635a64-c04c-40b2-9fea-990c32fb5980",
   "metadata": {
    "collapsed": true,
    "execution": {
     "iopub.execute_input": "2021-12-07T15:19:29.886129Z",
     "iopub.status.busy": "2021-12-07T15:19:29.885112Z",
     "iopub.status.idle": "2021-12-07T15:19:29.919114Z",
     "shell.execute_reply": "2021-12-07T15:19:29.917167Z",
     "shell.execute_reply.started": "2021-12-07T15:19:29.886129Z"
    },
    "jupyter": {
     "outputs_hidden": true
    },
    "tags": []
   },
   "outputs": [
    {
     "data": {
      "text/html": [
       "<p style=\"text-align:right\">Sdc20d85-A5589f58</p><div style=\"border: solid black 1px; padding-left: 5px\"><span style=\"color:grey\">01 </span><span style=\"width:50%; background-color:yellow\">I do believe that there will be some significance to this bill, however the trust the people of India had with the Government of India has truly dissipated overtime.</span><br><span style=\"color:grey\">02 </span><span style=\"width:50%; background-color:yellow\">After many grueling events like that of the Coal Ministry ,where even our PM Manmohan Singh indicated that corruption in India is evident and it has always been there :</span><br><span style=\"color:grey\">03 </span><span style=\"width:50%; background-color:white\">It will be hard for the people to even believe that action will be taken, on the corrupt officers and politicians that control most India's local economic trade.</span><br><span style=\"color:grey\">04 </span><span style=\"width:50%; background-color:white\">Not always will they be caught or even forwarded to the tops of the Corruption agencies in India.</span><br><span style=\"color:grey\">05 </span><span style=\"width:50%; background-color:white\">When you said : transparency and this will build faith of people on its government.</span><br><span style=\"color:grey\">06 </span><span style=\"width:50%; background-color:white\">By that time and perhaps the past , corruption was evident and known throughout the Indian government, even by our PM , who was rather upset that it was there and that the exposure that lost the governments credibility.</span><br><span style=\"color:grey\">07 </span><span style=\"width:50%; background-color:white\">It doesn't take a whole group to credibility but rather only one person to ruin the name of India.</span><br><span style=\"color:grey\">08 </span><span style=\"width:50%; background-color:white\">India was built on the sweat, blood and connections / power/ handwork.</span><br><span style=\"color:grey\">09 </span><span style=\"width:50%; background-color:white\">Yet along with these advancements arose Corruption.</span><br><span style=\"color:grey\">10 </span><span style=\"width:50%; background-color:white\">It is now part of the foundations of which India has built its emerging superpower upon.</span><br><span style=\"color:grey\">11 </span><span style=\"width:50%; background-color:white\">And for India to eradicate this problem , not only will it be hard, but it will also change the way Indian do business, rock it and put into jeopardy the work that has been done to make it so successful.</span><br></div>"
      ]
     },
     "metadata": {},
     "output_type": "display_data"
    },
    {
     "name": "stdout",
     "output_type": "stream",
     "text": [
      "\\noindent\\begin{tabularx}{\\textwidth}{|rX|}\n",
      "\t\t\\multicolumn{2}{r}{\\textcolor{gray}{Sdc20d85-A5589f58}}\\\\\n",
      "        \\hline\n",
      "\\textcolor{gray}{01}&\\hl{I do believe that there will be some significance to this bill, however the trust the people of India had with the Government of India has truly dissipated overtime.}\\\\\n",
      "\\textcolor{gray}{02}&\\hl{After many grueling events like that of the Coal Ministry ,where even our PM Manmohan Singh indicated that corruption in India is evident and it has always been there :}\\\\\n",
      "\\textcolor{gray}{03}&{It will be hard for the people to even believe that action will be taken, on the corrupt officers and politicians that control most India's local economic trade.}\\\\\n",
      "\\textcolor{gray}{04}&{Not always will they be caught or even forwarded to the tops of the Corruption agencies in India.}\\\\\n",
      "\\textcolor{gray}{05}&{When you said : transparency and this will build faith of people on its government.}\\\\\n",
      "\\textcolor{gray}{06}&{By that time and perhaps the past , corruption was evident and known throughout the Indian government, even by our PM , who was rather upset that it was there and that the exposure that lost the governments credibility.}\\\\\n",
      "\\textcolor{gray}{07}&{It doesn't take a whole group to credibility but rather only one person to ruin the name of India.}\\\\\n",
      "\\textcolor{gray}{08}&{India was built on the sweat, blood and connections / power/ handwork.}\\\\\n",
      "\\textcolor{gray}{09}&{Yet along with these advancements arose Corruption.}\\\\\n",
      "\\textcolor{gray}{10}&{It is now part of the foundations of which India has built its emerging superpower upon.}\\\\\n",
      "\\textcolor{gray}{11}&{And for India to eradicate this problem , not only will it be hard, but it will also change the way Indian do business, rock it and put into jeopardy the work that has been done to make it so successful.}\\\\\n",
      "\\hline\n",
      "\\end{tabularx}\n"
     ]
    },
    {
     "data": {
      "text/html": [
       "<p style=\"text-align:right\">S49d644cb-A26a78655</p><div style=\"border: solid black 1px; padding-left: 5px\"><span style=\"color:grey\">01 </span><span style=\"width:50%; background-color:white\">It's common sense that faith is an immaterial reality.</span><br><span style=\"color:grey\">02 </span><span style=\"width:50%; background-color:white\">You can't weigh or measure the chemistry of faith.</span><br><span style=\"color:grey\">03 </span><span style=\"width:50%; background-color:white\">I stood on the premise of faith being an immaterial reality and is universal regardless of your worldview.</span><br><span style=\"color:grey\">04 </span><span style=\"width:50%; background-color:white\">You have already acknowledged that faith is universal.</span><br><span style=\"color:grey\">05 </span><span style=\"width:50%; background-color:white\">I don't see how it's winning in your favor.</span><br><span style=\"color:grey\">06 </span><span style=\"width:50%; background-color:white\">Don't give your hopes up.</span><br><span style=\"color:grey\">07 </span><span style=\"width:50%; background-color:white\">The burden of proof is for you to disprove me and demonstrate that faith is not immaterial and/or not universal.</span><br><span style=\"color:grey\">08 </span><span style=\"width:50%; background-color:white\">Faith is an abstract object like the laws of logic or philosophical propositions.</span><br><span style=\"color:grey\">09 </span><span style=\"width:50%; background-color:white\">Faith seems to exists as properties of persons, Not as mere abstractions.</span><br><span style=\"color:grey\">10 </span><span style=\"width:50%; background-color:white\">Since the abstract object faith is not itself faithful (just as quickness is not quick or laziness not lazy), It would seem to follow that in the absence of any people faith does not exist.</span><br><span style=\"color:grey\">11 </span><span style=\"width:50%; background-color:white\">Which seems to contradict the hypothesis.</span><br><span style=\"color:grey\">12 </span><span style=\"width:50%; background-color:white\">You can't leave them floating in the unintelligible way.</span><br><span style=\"color:grey\">13 </span><span style=\"width:50%; background-color:white\">The nature of faith seems to be grounded in a divine Creator and Lawgiver.</span><br><span style=\"color:grey\">14 </span><span style=\"width:50%; background-color:white\">Because faith is independent of human conventions just like the laws of logic.</span><br><span style=\"color:grey\">15 </span><span style=\"width:50%; background-color:white\">Humans just use words to describe it in order to verbally communicate it or create contingent things that represent their idea of faith.</span><br><span style=\"color:grey\">16 </span><span style=\"width:50%; background-color:white\">Now about faith in religion.</span><br><span style=\"color:grey\">17 </span><span style=\"width:50%; background-color:white\">Faith in the Bible means to simply trust.</span><br><span style=\"color:grey\">18 </span><span style=\"width:50%; background-color:white\">This stuff is not complicated.</span><br><span style=\"color:grey\">19 </span><span style=\"width:50%; background-color:white\">Saying faith is universal is not unfair.</span><br><span style=\"color:grey\">20 </span><span style=\"width:50%; background-color:white\">By definition if you have trust in anything then by definition you have faith in it.</span><br><span style=\"color:grey\">21 </span><span style=\"width:50%; background-color:white\">It's not tough.</span><br><span style=\"color:grey\">22 </span><span style=\"width:50%; background-color:white\">You can object to the term.</span><br><span style=\"color:grey\">23 </span><span style=\"width:50%; background-color:yellow\">You can use a different term to describe it.</span><br><span style=\"color:grey\">24 </span><span style=\"width:50%; background-color:white\">By definition that is what faith is or means.</span><br><span style=\"color:grey\">25 </span><span style=\"width:50%; background-color:white\">Abstract objects (which are immaterial) although can be EXPRESSED in material, Are independent of human conventions.</span><br><span style=\"color:grey\">26 </span><span style=\"width:50%; background-color:white\">For example the laws of logic are independent of human minds.</span><br><span style=\"color:grey\">27 </span><span style=\"width:50%; background-color:white\">Before there were any humans on the earth, Is the statement, there are no humans on the earth true?</span><br><span style=\"color:grey\">28 </span><span style=\"width:50%; background-color:white\">I'm going to say it another way.</span><br><span style=\"color:grey\">29 </span><span style=\"width:50%; background-color:white\">Faith is much like the laws of logic.</span><br><span style=\"color:grey\">30 </span><span style=\"width:50%; background-color:white\">Abstract objects and immaterial and independent of human conventions.</span><br><span style=\"color:grey\">31 </span><span style=\"width:50%; background-color:white\">Logic isn't a thing and neither is faith.</span><br><span style=\"color:grey\">32 </span><span style=\"width:50%; background-color:white\">It isn't created by anybody.</span><br><span style=\"color:grey\">33 </span><span style=\"width:50%; background-color:white\">Logic is a word that refers to the inescapable rules of existence.</span><br><span style=\"color:grey\">34 </span><span style=\"width:50%; background-color:white\">These rules are not contingent.</span><br><span style=\"color:grey\">35 </span><span style=\"width:50%; background-color:white\">They apply to everything that exists.</span><br><span style=\"color:grey\">36 </span><span style=\"width:50%; background-color:white\">For anything that exists, Exists, And it is false to claim that it does not exist.</span><br><span style=\"color:grey\">37 </span><span style=\"width:50%; background-color:white\">Everything that exists, Exists; and it doesn't non exist because if it didn't exist it wouldn't exist in the first place.</span><br><span style=\"color:grey\">38 </span><span style=\"width:50%; background-color:white\">Faith and logic isn't just true in this universe or true in a material sense it's true literally every case of existence.</span><br><span style=\"color:grey\">39 </span><span style=\"width:50%; background-color:yellow\">In any possible universe.</span><br><span style=\"color:grey\">40 </span><span style=\"width:50%; background-color:white\">Logic and faith is not in the universe.</span><br><span style=\"color:grey\">41 </span><span style=\"width:50%; background-color:white\">The universe does not contain logic or faith.</span><br><span style=\"color:grey\">42 </span><span style=\"width:50%; background-color:white\">Logic/faith and existence are not able to be separated from one another.</span><br><span style=\"color:grey\">43 </span><span style=\"width:50%; background-color:white\">But nobody is forcing the laws of logic or faith down your throat.</span><br><span style=\"color:grey\">44 </span><span style=\"width:50%; background-color:white\">There's no cosmic force doing that.</span><br><span style=\"color:grey\">45 </span><span style=\"width:50%; background-color:white\">Laws of logic (like faith) are necessary and couldn't be any other way.</span><br><span style=\"color:grey\">46 </span><span style=\"width:50%; background-color:white\">Logic or faith is NOT an entity that you can point out.</span><br><span style=\"color:grey\">47 </span><span style=\"width:50%; background-color:white\">It's woven into the fabric of everything that exists.</span><br><span style=\"color:grey\">48 </span><span style=\"width:50%; background-color:white\">You could say that it's a necessary part of any existent thing.</span><br><span style=\"color:grey\">49 </span><span style=\"width:50%; background-color:white\">The laws of logic applies to all existent things.</span><br><span style=\"color:grey\">50 </span><span style=\"width:50%; background-color:white\">Much like faith.</span><br></div>"
      ]
     },
     "metadata": {},
     "output_type": "display_data"
    },
    {
     "name": "stdout",
     "output_type": "stream",
     "text": [
      "\\noindent\\begin{tabularx}{\\textwidth}{|rX|}\n",
      "\t\t\\multicolumn{2}{r}{\\textcolor{gray}{S49d644cb-A26a78655}}\\\\\n",
      "        \\hline\n",
      "\\textcolor{gray}{01}&{It's common sense that faith is an immaterial reality.}\\\\\n",
      "\\textcolor{gray}{02}&{You can't weigh or measure the chemistry of faith.}\\\\\n",
      "\\textcolor{gray}{03}&{I stood on the premise of faith being an immaterial reality and is universal regardless of your worldview.}\\\\\n",
      "\\textcolor{gray}{04}&{You have already acknowledged that faith is universal.}\\\\\n",
      "\\textcolor{gray}{05}&{I don't see how it's winning in your favor.}\\\\\n",
      "\\textcolor{gray}{06}&{Don't give your hopes up.}\\\\\n",
      "\\textcolor{gray}{07}&{The burden of proof is for you to disprove me and demonstrate that faith is not immaterial and/or not universal.}\\\\\n",
      "\\textcolor{gray}{08}&{Faith is an abstract object like the laws of logic or philosophical propositions.}\\\\\n",
      "\\textcolor{gray}{09}&{Faith seems to exists as properties of persons, Not as mere abstractions.}\\\\\n",
      "\\textcolor{gray}{10}&{Since the abstract object faith is not itself faithful (just as quickness is not quick or laziness not lazy), It would seem to follow that in the absence of any people faith does not exist.}\\\\\n",
      "\\textcolor{gray}{11}&{Which seems to contradict the hypothesis.}\\\\\n",
      "\\textcolor{gray}{12}&{You can't leave them floating in the unintelligible way.}\\\\\n",
      "\\textcolor{gray}{13}&{The nature of faith seems to be grounded in a divine Creator and Lawgiver.}\\\\\n",
      "\\textcolor{gray}{14}&{Because faith is independent of human conventions just like the laws of logic.}\\\\\n",
      "\\textcolor{gray}{15}&{Humans just use words to describe it in order to verbally communicate it or create contingent things that represent their idea of faith.}\\\\\n",
      "\\textcolor{gray}{16}&{Now about faith in religion.}\\\\\n",
      "\\textcolor{gray}{17}&{Faith in the Bible means to simply trust.}\\\\\n",
      "\\textcolor{gray}{18}&{This stuff is not complicated.}\\\\\n",
      "\\textcolor{gray}{19}&{Saying faith is universal is not unfair.}\\\\\n",
      "\\textcolor{gray}{20}&{By definition if you have trust in anything then by definition you have faith in it.}\\\\\n",
      "\\textcolor{gray}{21}&{It's not tough.}\\\\\n",
      "\\textcolor{gray}{22}&{You can object to the term.}\\\\\n",
      "\\textcolor{gray}{23}&\\hl{You can use a different term to describe it.}\\\\\n",
      "\\textcolor{gray}{24}&{By definition that is what faith is or means.}\\\\\n",
      "\\textcolor{gray}{25}&{Abstract objects (which are immaterial) although can be EXPRESSED in material, Are independent of human conventions.}\\\\\n",
      "\\textcolor{gray}{26}&{For example the laws of logic are independent of human minds.}\\\\\n",
      "\\textcolor{gray}{27}&{Before there were any humans on the earth, Is the statement, there are no humans on the earth true?}\\\\\n",
      "\\textcolor{gray}{28}&{I'm going to say it another way.}\\\\\n",
      "\\textcolor{gray}{29}&{Faith is much like the laws of logic.}\\\\\n",
      "\\textcolor{gray}{30}&{Abstract objects and immaterial and independent of human conventions.}\\\\\n",
      "\\textcolor{gray}{31}&{Logic isn't a thing and neither is faith.}\\\\\n",
      "\\textcolor{gray}{32}&{It isn't created by anybody.}\\\\\n",
      "\\textcolor{gray}{33}&{Logic is a word that refers to the inescapable rules of existence.}\\\\\n",
      "\\textcolor{gray}{34}&{These rules are not contingent.}\\\\\n",
      "\\textcolor{gray}{35}&{They apply to everything that exists.}\\\\\n",
      "\\textcolor{gray}{36}&{For anything that exists, Exists, And it is false to claim that it does not exist.}\\\\\n",
      "\\textcolor{gray}{37}&{Everything that exists, Exists; and it doesn't non exist because if it didn't exist it wouldn't exist in the first place.}\\\\\n",
      "\\textcolor{gray}{38}&{Faith and logic isn't just true in this universe or true in a material sense it's true literally every case of existence.}\\\\\n",
      "\\textcolor{gray}{39}&\\hl{In any possible universe.}\\\\\n",
      "\\textcolor{gray}{40}&{Logic and faith is not in the universe.}\\\\\n",
      "\\textcolor{gray}{41}&{The universe does not contain logic or faith.}\\\\\n",
      "\\textcolor{gray}{42}&{Logic/faith and existence are not able to be separated from one another.}\\\\\n",
      "\\textcolor{gray}{43}&{But nobody is forcing the laws of logic or faith down your throat.}\\\\\n",
      "\\textcolor{gray}{44}&{There's no cosmic force doing that.}\\\\\n",
      "\\textcolor{gray}{45}&{Laws of logic (like faith) are necessary and couldn't be any other way.}\\\\\n",
      "\\textcolor{gray}{46}&{Logic or faith is NOT an entity that you can point out.}\\\\\n",
      "\\textcolor{gray}{47}&{It's woven into the fabric of everything that exists.}\\\\\n",
      "\\textcolor{gray}{48}&{You could say that it's a necessary part of any existent thing.}\\\\\n",
      "\\textcolor{gray}{49}&{The laws of logic applies to all existent things.}\\\\\n",
      "\\textcolor{gray}{50}&{Much like faith.}\\\\\n",
      "\\hline\n",
      "\\end{tabularx}\n"
     ]
    }
   ],
   "source": [
    "for a in arguments:\n",
    "    if a.arg_id in ['S49d644cb-A26a78655', 'Sdc20d85-A5589f58']:\n",
    "        print_arg(a, hl=a.excerpt_indices)"
   ]
  },
  {
   "cell_type": "markdown",
   "id": "af6faa1a-4125-496a-ab0e-39279bb8ebdc",
   "metadata": {},
   "source": [
    "__Observations__\n",
    "* Even though sources/citations are important, they are likely to be snippets. \n",
    "    * [(Sb579644e-A6e00f137, 'transnational_governance'), ('S51d0a818-Aa4696306', 'radio'), ('Seb991d36-A9c551936', 'educational_costs'), ]\n",
    "* Some arguments suffer from definitions for their debates, and thus, they are not helpful in any way. \n",
    "    * [('Sde25d56-Ad969d36', 'league_of_legends),('Scd5f8176-A6735859a', ), ('S6abdbffe-A55b0fc1c', 'should_hydraulic_fracturing_be_used'), ('S6abdbffe-Afd4941b','should_hydraulic_fracturing_be_used')]\n",
    "* Arguments often show characteristics of its round-based origin (debates) where the opponent is addressed, but since the original context is not here, arguments are difficult to understand. General problem of argument search engine's data.\n",
    "    * S63f15303-A2de94d75, ('Sce447b24-Aec66db96', 'veganism_is_healthy')\n",
    "* Two sentences might be to short for an argument with 70–80 sentences.\n",
    "    * 'nuclear_energy_should_be_banned', 'S49d644cb-A26a78655'"
   ]
  },
  {
   "cell_type": "markdown",
   "id": "357f30ba-3658-4a01-b874-bbebf1ed4db0",
   "metadata": {},
   "source": [
    "__Arising questions__\n",
    "* Are long sentence more likely to be snippet sentences (e.g. context transnational_governance)? Maybe only in short arguments, see nuclear_energy_should_be_banned."
   ]
  },
  {
   "cell_type": "code",
   "execution_count": 10,
   "id": "0b5044ca-84f5-4f7a-b241-47cb6ebdfff8",
   "metadata": {
    "execution": {
     "iopub.execute_input": "2021-12-08T06:08:05.775253Z",
     "iopub.status.busy": "2021-12-08T06:08:05.775253Z",
     "iopub.status.idle": "2021-12-08T06:08:17.724527Z",
     "shell.execute_reply": "2021-12-08T06:08:17.723401Z",
     "shell.execute_reply.started": "2021-12-08T06:08:05.775253Z"
    },
    "tags": []
   },
   "outputs": [],
   "source": [
    "records = list()\n",
    "for argument in arguments:\n",
    "    tokenss = [len(word_tokenize(s)) for s in argument.sentences]\n",
    "    snippet_len = sum(np.take(tokenss, argument.excerpt_indices))\n",
    "    total_len = sum(tokenss)\n",
    "    records.append({\n",
    "        'id': argument.arg_id,\n",
    "        'snippet_len': snippet_len,\n",
    "        'total_len': total_len\n",
    "    })\n",
    "    \n",
    "lengths = pd.DataFrame.from_records(records)"
   ]
  },
  {
   "cell_type": "code",
   "execution_count": 11,
   "id": "09ca66db-ec83-40cd-bcde-5b43c5534874",
   "metadata": {
    "execution": {
     "iopub.execute_input": "2021-12-08T06:08:17.726523Z",
     "iopub.status.busy": "2021-12-08T06:08:17.726523Z",
     "iopub.status.idle": "2021-12-08T06:08:17.834759Z",
     "shell.execute_reply": "2021-12-08T06:08:17.833756Z",
     "shell.execute_reply.started": "2021-12-08T06:08:17.726523Z"
    },
    "tags": []
   },
   "outputs": [],
   "source": [
    "lengths['ratio'] = lengths.apply(lambda r: r.snippet_len/r.total_len, axis=1)\n",
    "\n",
    "lengths.sort_values(by=['total_len'], ascending=False, inplace=True)"
   ]
  },
  {
   "cell_type": "code",
   "execution_count": 50,
   "id": "ab3b25e5-e6e7-4411-97b0-b0c320aad123",
   "metadata": {
    "execution": {
     "iopub.execute_input": "2021-10-07T07:01:52.960207Z",
     "iopub.status.busy": "2021-10-07T07:01:52.960207Z",
     "iopub.status.idle": "2021-10-07T07:01:52.977218Z",
     "shell.execute_reply": "2021-10-07T07:01:52.969206Z",
     "shell.execute_reply.started": "2021-10-07T07:01:52.960207Z"
    },
    "tags": []
   },
   "outputs": [
    {
     "data": {
      "text/plain": [
       "1872.0"
      ]
     },
     "execution_count": 50,
     "metadata": {},
     "output_type": "execute_result"
    }
   ],
   "source": [
    "len(lengths)/2"
   ]
  },
  {
   "cell_type": "code",
   "execution_count": 12,
   "id": "8ec4ee48-4af1-4163-82f1-8c3f84dc2984",
   "metadata": {
    "execution": {
     "iopub.execute_input": "2021-12-08T06:08:17.836756Z",
     "iopub.status.busy": "2021-12-08T06:08:17.835757Z",
     "iopub.status.idle": "2021-12-08T06:08:17.866834Z",
     "shell.execute_reply": "2021-12-08T06:08:17.865833Z",
     "shell.execute_reply.started": "2021-12-08T06:08:17.836756Z"
    },
    "tags": []
   },
   "outputs": [
    {
     "name": "stdout",
     "output_type": "stream",
     "text": [
      "30.681623931623932\n",
      "25.96550612276313\n",
      "25.0\n"
     ]
    },
    {
     "data": {
      "text/html": [
       "<div>\n",
       "<style scoped>\n",
       "    .dataframe tbody tr th:only-of-type {\n",
       "        vertical-align: middle;\n",
       "    }\n",
       "\n",
       "    .dataframe tbody tr th {\n",
       "        vertical-align: top;\n",
       "    }\n",
       "\n",
       "    .dataframe thead th {\n",
       "        text-align: right;\n",
       "    }\n",
       "</style>\n",
       "<table border=\"1\" class=\"dataframe\">\n",
       "  <thead>\n",
       "    <tr style=\"text-align: right;\">\n",
       "      <th></th>\n",
       "      <th>id</th>\n",
       "      <th>snippet_len</th>\n",
       "      <th>total_len</th>\n",
       "      <th>ratio</th>\n",
       "    </tr>\n",
       "  </thead>\n",
       "  <tbody>\n",
       "    <tr>\n",
       "      <th>655</th>\n",
       "      <td>Saf65bf4-Ad3dcdf26</td>\n",
       "      <td>21</td>\n",
       "      <td>2375</td>\n",
       "      <td>0.008842</td>\n",
       "    </tr>\n",
       "    <tr>\n",
       "      <th>1749</th>\n",
       "      <td>Saf65bf4-Ad3dcdf26</td>\n",
       "      <td>13</td>\n",
       "      <td>2375</td>\n",
       "      <td>0.005474</td>\n",
       "    </tr>\n",
       "    <tr>\n",
       "      <th>1341</th>\n",
       "      <td>S5ca6a540-A570bfcb0</td>\n",
       "      <td>12</td>\n",
       "      <td>2169</td>\n",
       "      <td>0.005533</td>\n",
       "    </tr>\n",
       "    <tr>\n",
       "      <th>972</th>\n",
       "      <td>S49b852c5-Aca2c632e</td>\n",
       "      <td>17</td>\n",
       "      <td>2065</td>\n",
       "      <td>0.008232</td>\n",
       "    </tr>\n",
       "    <tr>\n",
       "      <th>307</th>\n",
       "      <td>S31709ab5-Afd037052</td>\n",
       "      <td>19</td>\n",
       "      <td>2028</td>\n",
       "      <td>0.009369</td>\n",
       "    </tr>\n",
       "    <tr>\n",
       "      <th>...</th>\n",
       "      <td>...</td>\n",
       "      <td>...</td>\n",
       "      <td>...</td>\n",
       "      <td>...</td>\n",
       "    </tr>\n",
       "    <tr>\n",
       "      <th>1516</th>\n",
       "      <td>Se2925fe3-Ad7b9e813</td>\n",
       "      <td>31</td>\n",
       "      <td>274</td>\n",
       "      <td>0.113139</td>\n",
       "    </tr>\n",
       "    <tr>\n",
       "      <th>2957</th>\n",
       "      <td>S93e5aabc-Ae217e8a2</td>\n",
       "      <td>29</td>\n",
       "      <td>273</td>\n",
       "      <td>0.106227</td>\n",
       "    </tr>\n",
       "    <tr>\n",
       "      <th>538</th>\n",
       "      <td>Sdc20d85-A5589f58</td>\n",
       "      <td>62</td>\n",
       "      <td>273</td>\n",
       "      <td>0.227106</td>\n",
       "    </tr>\n",
       "    <tr>\n",
       "      <th>1555</th>\n",
       "      <td>S8cffdcea-Ac3559fe0</td>\n",
       "      <td>18</td>\n",
       "      <td>273</td>\n",
       "      <td>0.065934</td>\n",
       "    </tr>\n",
       "    <tr>\n",
       "      <th>1499</th>\n",
       "      <td>S148e7c0b-A30ca423</td>\n",
       "      <td>80</td>\n",
       "      <td>273</td>\n",
       "      <td>0.293040</td>\n",
       "    </tr>\n",
       "  </tbody>\n",
       "</table>\n",
       "<p>1872 rows × 4 columns</p>\n",
       "</div>"
      ],
      "text/plain": [
       "                       id  snippet_len  total_len     ratio\n",
       "655    Saf65bf4-Ad3dcdf26           21       2375  0.008842\n",
       "1749   Saf65bf4-Ad3dcdf26           13       2375  0.005474\n",
       "1341  S5ca6a540-A570bfcb0           12       2169  0.005533\n",
       "972   S49b852c5-Aca2c632e           17       2065  0.008232\n",
       "307   S31709ab5-Afd037052           19       2028  0.009369\n",
       "...                   ...          ...        ...       ...\n",
       "1516  Se2925fe3-Ad7b9e813           31        274  0.113139\n",
       "2957  S93e5aabc-Ae217e8a2           29        273  0.106227\n",
       "538     Sdc20d85-A5589f58           62        273  0.227106\n",
       "1555  S8cffdcea-Ac3559fe0           18        273  0.065934\n",
       "1499   S148e7c0b-A30ca423           80        273  0.293040\n",
       "\n",
       "[1872 rows x 4 columns]"
      ]
     },
     "execution_count": 12,
     "metadata": {},
     "output_type": "execute_result"
    }
   ],
   "source": [
    "top_half = lengths[:1872]# [lengths.total_len > lengths.total_len.mean()]\n",
    "print(top_half.snippet_len.mean())\n",
    "print(top_half.snippet_len.std())\n",
    "print(top_half.snippet_len.median())\n",
    "top_half"
   ]
  },
  {
   "cell_type": "code",
   "execution_count": 13,
   "id": "eaa5d81c-95c4-4998-b1c6-c7d092be66a6",
   "metadata": {
    "execution": {
     "iopub.execute_input": "2021-12-08T06:08:17.868835Z",
     "iopub.status.busy": "2021-12-08T06:08:17.867835Z",
     "iopub.status.idle": "2021-12-08T06:08:17.881865Z",
     "shell.execute_reply": "2021-12-08T06:08:17.881865Z",
     "shell.execute_reply.started": "2021-12-08T06:08:17.868835Z"
    },
    "tags": []
   },
   "outputs": [
    {
     "data": {
      "text/plain": [
       "ShapiroResult(statistic=0.6901222467422485, pvalue=0.0)"
      ]
     },
     "execution_count": 13,
     "metadata": {},
     "output_type": "execute_result"
    }
   ],
   "source": [
    "shapiro_test = stats.shapiro(top_half.snippet_len)\n",
    "shapiro_test"
   ]
  },
  {
   "cell_type": "markdown",
   "id": "2619660a-3670-4fba-bf42-89939cfd93e4",
   "metadata": {},
   "source": [
    "Since the p-value is below .05, we reject the null hypothesis and assume data is not normally distributed."
   ]
  },
  {
   "cell_type": "code",
   "execution_count": 14,
   "id": "8a21059e-2937-4d43-bfb3-bf62eeaf8b88",
   "metadata": {
    "execution": {
     "iopub.execute_input": "2021-12-08T06:08:17.883834Z",
     "iopub.status.busy": "2021-12-08T06:08:17.883834Z",
     "iopub.status.idle": "2021-12-08T06:08:18.121420Z",
     "shell.execute_reply": "2021-12-08T06:08:18.120352Z",
     "shell.execute_reply.started": "2021-12-08T06:08:17.883834Z"
    },
    "tags": []
   },
   "outputs": [
    {
     "data": {
      "text/plain": [
       "<AxesSubplot:>"
      ]
     },
     "execution_count": 14,
     "metadata": {},
     "output_type": "execute_result"
    },
    {
     "data": {
      "image/png": "[encoded data removed]",
      "text/plain": [
       "<Figure size 432x288 with 1 Axes>"
      ]
     },
     "metadata": {
      "needs_background": "light"
     },
     "output_type": "display_data"
    }
   ],
   "source": [
    "top_half.snippet_len.hist()"
   ]
  },
  {
   "cell_type": "code",
   "execution_count": 15,
   "id": "7a069364-0cf4-47b2-b2b6-0ebb7b315e24",
   "metadata": {
    "execution": {
     "iopub.execute_input": "2021-12-08T06:08:18.122359Z",
     "iopub.status.busy": "2021-12-08T06:08:18.122359Z",
     "iopub.status.idle": "2021-12-08T06:08:18.152366Z",
     "shell.execute_reply": "2021-12-08T06:08:18.151356Z",
     "shell.execute_reply.started": "2021-12-08T06:08:18.122359Z"
    },
    "tags": []
   },
   "outputs": [
    {
     "name": "stdout",
     "output_type": "stream",
     "text": [
      "39.83707264957265\n",
      "21.19552541897168\n",
      "36.0\n"
     ]
    },
    {
     "data": {
      "text/html": [
       "<div>\n",
       "<style scoped>\n",
       "    .dataframe tbody tr th:only-of-type {\n",
       "        vertical-align: middle;\n",
       "    }\n",
       "\n",
       "    .dataframe tbody tr th {\n",
       "        vertical-align: top;\n",
       "    }\n",
       "\n",
       "    .dataframe thead th {\n",
       "        text-align: right;\n",
       "    }\n",
       "</style>\n",
       "<table border=\"1\" class=\"dataframe\">\n",
       "  <thead>\n",
       "    <tr style=\"text-align: right;\">\n",
       "      <th></th>\n",
       "      <th>id</th>\n",
       "      <th>snippet_len</th>\n",
       "      <th>total_len</th>\n",
       "      <th>ratio</th>\n",
       "    </tr>\n",
       "  </thead>\n",
       "  <tbody>\n",
       "    <tr>\n",
       "      <th>2012</th>\n",
       "      <td>Scf884b6d-Acda03f28</td>\n",
       "      <td>13</td>\n",
       "      <td>272</td>\n",
       "      <td>0.047794</td>\n",
       "    </tr>\n",
       "    <tr>\n",
       "      <th>3042</th>\n",
       "      <td>Sa442c039-Adc0a9bed</td>\n",
       "      <td>25</td>\n",
       "      <td>272</td>\n",
       "      <td>0.091912</td>\n",
       "    </tr>\n",
       "    <tr>\n",
       "      <th>3710</th>\n",
       "      <td>Sa442c039-Adc0a9bed</td>\n",
       "      <td>57</td>\n",
       "      <td>272</td>\n",
       "      <td>0.209559</td>\n",
       "    </tr>\n",
       "    <tr>\n",
       "      <th>3392</th>\n",
       "      <td>S43726286-A6b0a804e</td>\n",
       "      <td>87</td>\n",
       "      <td>272</td>\n",
       "      <td>0.319853</td>\n",
       "    </tr>\n",
       "    <tr>\n",
       "      <th>1272</th>\n",
       "      <td>Sbde3cf2-A97ab918d</td>\n",
       "      <td>39</td>\n",
       "      <td>272</td>\n",
       "      <td>0.143382</td>\n",
       "    </tr>\n",
       "    <tr>\n",
       "      <th>...</th>\n",
       "      <td>...</td>\n",
       "      <td>...</td>\n",
       "      <td>...</td>\n",
       "      <td>...</td>\n",
       "    </tr>\n",
       "    <tr>\n",
       "      <th>774</th>\n",
       "      <td>S3a0c8d79-A5b6b54d2</td>\n",
       "      <td>10</td>\n",
       "      <td>18</td>\n",
       "      <td>0.555556</td>\n",
       "    </tr>\n",
       "    <tr>\n",
       "      <th>2822</th>\n",
       "      <td>Sd616d15d-Ad04f0fc4</td>\n",
       "      <td>12</td>\n",
       "      <td>18</td>\n",
       "      <td>0.666667</td>\n",
       "    </tr>\n",
       "    <tr>\n",
       "      <th>3665</th>\n",
       "      <td>S847e73c4-Ae2932a47</td>\n",
       "      <td>13</td>\n",
       "      <td>16</td>\n",
       "      <td>0.812500</td>\n",
       "    </tr>\n",
       "    <tr>\n",
       "      <th>1337</th>\n",
       "      <td>Sdc1cf314-Afa964db2</td>\n",
       "      <td>7</td>\n",
       "      <td>13</td>\n",
       "      <td>0.538462</td>\n",
       "    </tr>\n",
       "    <tr>\n",
       "      <th>629</th>\n",
       "      <td>S43d81132-A94ac14f9</td>\n",
       "      <td>6</td>\n",
       "      <td>12</td>\n",
       "      <td>0.500000</td>\n",
       "    </tr>\n",
       "  </tbody>\n",
       "</table>\n",
       "<p>1872 rows × 4 columns</p>\n",
       "</div>"
      ],
      "text/plain": [
       "                       id  snippet_len  total_len     ratio\n",
       "2012  Scf884b6d-Acda03f28           13        272  0.047794\n",
       "3042  Sa442c039-Adc0a9bed           25        272  0.091912\n",
       "3710  Sa442c039-Adc0a9bed           57        272  0.209559\n",
       "3392  S43726286-A6b0a804e           87        272  0.319853\n",
       "1272   Sbde3cf2-A97ab918d           39        272  0.143382\n",
       "...                   ...          ...        ...       ...\n",
       "774   S3a0c8d79-A5b6b54d2           10         18  0.555556\n",
       "2822  Sd616d15d-Ad04f0fc4           12         18  0.666667\n",
       "3665  S847e73c4-Ae2932a47           13         16  0.812500\n",
       "1337  Sdc1cf314-Afa964db2            7         13  0.538462\n",
       "629   S43d81132-A94ac14f9            6         12  0.500000\n",
       "\n",
       "[1872 rows x 4 columns]"
      ]
     },
     "execution_count": 15,
     "metadata": {},
     "output_type": "execute_result"
    }
   ],
   "source": [
    "bottom_half = lengths[1872:]#[lengths.total_len <= lengths.total_len.mean()]\n",
    "print(bottom_half.snippet_len.mean())\n",
    "print(bottom_half.snippet_len.std())\n",
    "print(bottom_half.snippet_len.median())\n",
    "bottom_half"
   ]
  },
  {
   "cell_type": "code",
   "execution_count": 16,
   "id": "40411a44-d543-4352-84c1-2a2892c0733a",
   "metadata": {
    "execution": {
     "iopub.execute_input": "2021-12-08T06:08:18.152366Z",
     "iopub.status.busy": "2021-12-08T06:08:18.152366Z",
     "iopub.status.idle": "2021-12-08T06:08:18.167891Z",
     "shell.execute_reply": "2021-12-08T06:08:18.166889Z",
     "shell.execute_reply.started": "2021-12-08T06:08:18.152366Z"
    },
    "tags": []
   },
   "outputs": [
    {
     "data": {
      "text/plain": [
       "ShapiroResult(statistic=0.892426609992981, pvalue=2.8191982034816695e-34)"
      ]
     },
     "execution_count": 16,
     "metadata": {},
     "output_type": "execute_result"
    }
   ],
   "source": [
    "shapiro_test = stats.shapiro(bottom_half.snippet_len)\n",
    "shapiro_test"
   ]
  },
  {
   "cell_type": "markdown",
   "id": "82ce3f91-355b-494c-943e-30d66c8556a9",
   "metadata": {},
   "source": [
    "Since the p-value is below .05, we reject the null hypothesis and assume data is not normally distributed."
   ]
  },
  {
   "cell_type": "code",
   "execution_count": 17,
   "id": "5518233e-c5d3-413b-afe8-768f6347ff62",
   "metadata": {
    "execution": {
     "iopub.execute_input": "2021-12-08T06:08:18.168892Z",
     "iopub.status.busy": "2021-12-08T06:08:18.168892Z",
     "iopub.status.idle": "2021-12-08T06:08:18.326266Z",
     "shell.execute_reply": "2021-12-08T06:08:18.325263Z",
     "shell.execute_reply.started": "2021-12-08T06:08:18.168892Z"
    },
    "tags": []
   },
   "outputs": [
    {
     "data": {
      "text/plain": [
       "<AxesSubplot:>"
      ]
     },
     "execution_count": 17,
     "metadata": {},
     "output_type": "execute_result"
    },
    {
     "data": {
      "image/png": "[encoded data removed]",
      "text/plain": [
       "<Figure size 432x288 with 1 Axes>"
      ]
     },
     "metadata": {
      "needs_background": "light"
     },
     "output_type": "display_data"
    }
   ],
   "source": [
    "bottom_half.snippet_len.hist()"
   ]
  },
  {
   "cell_type": "code",
   "execution_count": 18,
   "id": "3d0c7c93-67e0-46a5-abea-9ec5000fa4bb",
   "metadata": {
    "execution": {
     "iopub.execute_input": "2021-12-08T06:08:18.327229Z",
     "iopub.status.busy": "2021-12-08T06:08:18.327229Z",
     "iopub.status.idle": "2021-12-08T06:08:18.339971Z",
     "shell.execute_reply": "2021-12-08T06:08:18.339971Z",
     "shell.execute_reply.started": "2021-12-08T06:08:18.327229Z"
    },
    "tags": []
   },
   "outputs": [
    {
     "data": {
      "text/plain": [
       "WilcoxonResult(statistic=502553.0, pvalue=4.824935364257393e-53)"
      ]
     },
     "execution_count": 18,
     "metadata": {},
     "output_type": "execute_result"
    }
   ],
   "source": [
    "wilcoxon = stats.wilcoxon(top_half.snippet_len, bottom_half.snippet_len, alternative='two-sided')\n",
    "wilcoxon"
   ]
  },
  {
   "cell_type": "code",
   "execution_count": 19,
   "id": "dabdb10d-e72e-4581-9bde-94c8bc765e9d",
   "metadata": {
    "execution": {
     "iopub.execute_input": "2021-12-08T06:08:18.342861Z",
     "iopub.status.busy": "2021-12-08T06:08:18.341894Z",
     "iopub.status.idle": "2021-12-08T06:08:18.355861Z",
     "shell.execute_reply": "2021-12-08T06:08:18.355861Z",
     "shell.execute_reply.started": "2021-12-08T06:08:18.342861Z"
    },
    "tags": []
   },
   "outputs": [
    {
     "data": {
      "text/plain": [
       "MannwhitneyuResult(statistic=1147900.0, pvalue=1.2901763770525478e-74)"
      ]
     },
     "execution_count": 19,
     "metadata": {},
     "output_type": "execute_result"
    }
   ],
   "source": [
    "mwu = stats.mannwhitneyu(top_half.snippet_len, bottom_half.snippet_len, alternative='two-sided')\n",
    "mwu"
   ]
  },
  {
   "cell_type": "markdown",
   "id": "573dc8dc-a824-41cd-a3cf-b679ef25cef9",
   "metadata": {},
   "source": [
    "**We reject the null-hypothesis because the p-value is less than .05. Thus, we assume there is a significant difference snippet length between long and short arguments.**"
   ]
  },
  {
   "cell_type": "code",
   "execution_count": 20,
   "id": "688f7f82-6f34-478e-896d-8dcd9095e2f8",
   "metadata": {
    "execution": {
     "iopub.execute_input": "2021-12-08T06:08:22.800657Z",
     "iopub.status.busy": "2021-12-08T06:08:22.799659Z",
     "iopub.status.idle": "2021-12-08T06:08:22.811657Z",
     "shell.execute_reply": "2021-12-08T06:08:22.810655Z",
     "shell.execute_reply.started": "2021-12-08T06:08:22.800657Z"
    },
    "tags": []
   },
   "outputs": [
    {
     "data": {
      "text/plain": [
       "(-0.23421863900092157, 7.914930496730328e-48)"
      ]
     },
     "execution_count": 20,
     "metadata": {},
     "output_type": "execute_result"
    }
   ],
   "source": [
    "r = pearsonr(lengths.snippet_len, lengths.total_len)\n",
    "r"
   ]
  },
  {
   "cell_type": "code",
   "execution_count": 21,
   "id": "a9795250-2150-4c58-a554-b3d37384e5b7",
   "metadata": {
    "execution": {
     "iopub.execute_input": "2021-12-08T06:08:26.308626Z",
     "iopub.status.busy": "2021-12-08T06:08:26.307626Z",
     "iopub.status.idle": "2021-12-08T06:08:26.323628Z",
     "shell.execute_reply": "2021-12-08T06:08:26.322625Z",
     "shell.execute_reply.started": "2021-12-08T06:08:26.308626Z"
    },
    "tags": []
   },
   "outputs": [
    {
     "data": {
      "text/plain": [
       "SpearmanrResult(correlation=-0.2894676287178492, pvalue=3.498316107406892e-73)"
      ]
     },
     "execution_count": 21,
     "metadata": {},
     "output_type": "execute_result"
    }
   ],
   "source": [
    "s = spearmanr(lengths.snippet_len, lengths.total_len)\n",
    "s"
   ]
  },
  {
   "cell_type": "code",
   "execution_count": 22,
   "id": "89d5655c-97b2-4235-8f69-420ae7658e13",
   "metadata": {
    "execution": {
     "iopub.execute_input": "2021-12-08T06:08:27.161998Z",
     "iopub.status.busy": "2021-12-08T06:08:27.161998Z",
     "iopub.status.idle": "2021-12-08T06:08:27.171993Z",
     "shell.execute_reply": "2021-12-08T06:08:27.170999Z",
     "shell.execute_reply.started": "2021-12-08T06:08:27.161998Z"
    },
    "tags": []
   },
   "outputs": [
    {
     "data": {
      "text/plain": [
       "KendalltauResult(correlation=-0.18663642469206987, pvalue=1.3457167326414163e-64)"
      ]
     },
     "execution_count": 22,
     "metadata": {},
     "output_type": "execute_result"
    }
   ],
   "source": [
    "t = kendalltau(lengths.snippet_len, lengths.total_len)\n",
    "t"
   ]
  },
  {
   "cell_type": "markdown",
   "id": "0dfb5beb-f78b-4829-9bd0-775311928dc0",
   "metadata": {},
   "source": [
    "We do not find strong correlation between snippet and total length."
   ]
  }
 ],
 "metadata": {
  "kernelspec": {
   "display_name": "thesis",
   "language": "python",
   "name": "thesis"
  },
  "language_info": {
   "codemirror_mode": {
    "name": "ipython",
    "version": 3
   },
   "file_extension": ".py",
   "mimetype": "text/x-python",
   "name": "python",
   "nbconvert_exporter": "python",
   "pygments_lexer": "ipython3",
   "version": "3.7.10"
  }
 },
 "nbformat": 4,
 "nbformat_minor": 5
}
