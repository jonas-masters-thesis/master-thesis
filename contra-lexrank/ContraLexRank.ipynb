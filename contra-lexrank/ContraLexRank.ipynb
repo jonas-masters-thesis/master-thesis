{
 "cells": [
  {
   "cell_type": "code",
   "execution_count": 1,
   "id": "sitting-adelaide",
   "metadata": {
    "execution": {
     "iopub.execute_input": "2021-04-02T12:20:11.655903Z",
     "iopub.status.busy": "2021-04-02T12:20:11.653903Z",
     "iopub.status.idle": "2021-04-02T12:20:17.086641Z",
     "shell.execute_reply": "2021-04-02T12:20:17.085649Z",
     "shell.execute_reply.started": "2021-04-02T12:20:11.654904Z"
    },
    "tags": []
   },
   "outputs": [],
   "source": [
    "from DataHandler import DataHandler\n",
    "from CentralityScorer import CentralityScorer\n",
    "from ArgumentativenessScorer import ArgumentativenessScorer\n",
    "from ContrastivenessScorer import ContrastivenessScorer\n",
    "from WordEmbeddingTransformer import WordEmbeddingTransformer\n",
    "\n",
    "from sklearn.base import BaseEstimator\n",
    "import numpy as np"
   ]
  },
  {
   "cell_type": "markdown",
   "id": "revised-nutrition",
   "metadata": {},
   "source": [
    "# Load data"
   ]
  },
  {
   "cell_type": "code",
   "execution_count": 2,
   "id": "extraordinary-feedback",
   "metadata": {
    "execution": {
     "iopub.execute_input": "2021-04-02T12:20:18.981171Z",
     "iopub.status.busy": "2021-04-02T12:20:18.981171Z",
     "iopub.status.idle": "2021-04-02T12:20:19.015167Z",
     "shell.execute_reply": "2021-04-02T12:20:19.014206Z",
     "shell.execute_reply.started": "2021-04-02T12:20:18.981171Z"
    },
    "tags": []
   },
   "outputs": [
    {
     "data": {
      "text/plain": [
       "100"
      ]
     },
     "execution_count": 2,
     "metadata": {},
     "output_type": "execute_result"
    }
   ],
   "source": [
    "data = DataHandler()\n",
    "#data.load_json('../../not-gitted/dataset_as_json_file.json')\n",
    "data.load_bin('../../not-gitted/dataset_as_json_file.pickle')\n",
    "len(data.get_arguments())"
   ]
  },
  {
   "cell_type": "code",
   "execution_count": 3,
   "id": "industrial-reserve",
   "metadata": {
    "execution": {
     "iopub.execute_input": "2021-04-02T12:20:20.944600Z",
     "iopub.status.busy": "2021-04-02T12:20:20.943564Z",
     "iopub.status.idle": "2021-04-02T12:20:20.963461Z",
     "shell.execute_reply": "2021-04-02T12:20:20.962459Z",
     "shell.execute_reply.started": "2021-04-02T12:20:20.944600Z"
    },
    "tags": []
   },
   "outputs": [
    {
     "name": "stdout",
     "output_type": "stream",
     "text": [
      "['In 2011 there were about 730,322 abortions reported to the centers for disease control.', \"There are about 1.7% of abortion of women's ages from 15-44 each year.\", 'Women who already had abortion earlier in there life time have abortion again.', 'At the age of 45 a women will have at least one abortion.', 'By the 12th week of pregnancies 88.7% of women have abortion.', 'In the U.S. black women are 3.3 times likely to have an abortion than white women.']\n"
     ]
    }
   ],
   "source": [
    "print(data.get_arguments()[0].sentences)"
   ]
  },
  {
   "cell_type": "markdown",
   "id": "given-incentive",
   "metadata": {},
   "source": [
    "# Contra LexRank"
   ]
  },
  {
   "cell_type": "markdown",
   "id": "retired-ranch",
   "metadata": {},
   "source": [
    "LexRank is a graph based model (based on PageRank) to assess centrality of sentences. Each node represents one sentence, and the weighted edges in between give the similarity of two sentences. The second term is to account for argumentativeness of the sentences, which is neglected at the moment.\n",
    "$$\n",
    "P(s_i) = (1-\\alpha) \\cdot \\sum_{s_j \\ne s_i} \\frac{sim(s_i, s_j)}{\\sum_{s_j \\ne s_k} sim(s_j, s_k)} P(s_j) + \\alpha \\cdot \\frac{arg(s_i)}{\\sum_{s_k}arg(s_k)}\n",
    "$$\n",
    "Now, the idea is to account for contrastiveness between a sentence and its context to make the summary of an argument dissimilar to other summaries of the same stance. First approach is to extend the above formula by dissimilarity term $\\delta_C(s_i)$:\n",
    "$$P(s_i) = \\alpha_0 \\cdot \\sum_{s_j \\ne s_i} \\frac{sim(s_i, s_j)}{\\sum_{s_j \\ne s_k} sim(s_j, s_k)} P(s_j) + \\alpha_1 \\cdot \\frac{arg(s_i)}{\\sum_{s_k}arg(s_k)} + \\alpha_2\\cdot\\delta_C(s_i)\n",
    "$$\n",
    "where $\\delta_C$ denotes the dissimilarity towards some context, i.e, a collection of other arguments, and $\\alpha_l\\in [0,1]$ with  $\\sum_{l=0}^2 \\alpha_l = 1$. This could be\n",
    "* $\\delta_C(s_i)=\\sum_{c \\in C}1-sim(s_i, c)$ "
   ]
  },
  {
   "cell_type": "code",
   "execution_count": 7,
   "id": "proper-million",
   "metadata": {
    "execution": {
     "iopub.execute_input": "2021-04-02T12:22:49.346561Z",
     "iopub.status.busy": "2021-04-02T12:22:49.345589Z",
     "iopub.status.idle": "2021-04-02T12:22:49.363833Z",
     "shell.execute_reply": "2021-04-02T12:22:49.362829Z",
     "shell.execute_reply.started": "2021-04-02T12:22:49.346561Z"
    },
    "tags": []
   },
   "outputs": [
    {
     "data": {
      "text/plain": [
       "int"
      ]
     },
     "execution_count": 7,
     "metadata": {},
     "output_type": "execute_result"
    }
   ],
   "source": [
    "type(1)"
   ]
  },
  {
   "cell_type": "code",
   "execution_count": 12,
   "id": "cardiovascular-italy",
   "metadata": {
    "execution": {
     "iopub.execute_input": "2021-04-02T12:26:51.554691Z",
     "iopub.status.busy": "2021-04-02T12:26:51.554691Z",
     "iopub.status.idle": "2021-04-02T12:26:51.576686Z",
     "shell.execute_reply": "2021-04-02T12:26:51.575686Z",
     "shell.execute_reply.started": "2021-04-02T12:26:51.554691Z"
    },
    "tags": []
   },
   "outputs": [],
   "source": [
    "class ContraLexRank(BaseEstimator):\n",
    "    def __init__(self,\n",
    "                 centrality_scorer: CentralityScorer,\n",
    "                 arg_scorer: ArgumentativenessScorer,\n",
    "                 contra_scorer: ContrastivenessScorer,\n",
    "                 alpha: float):\n",
    "        self.centrality_scorer = centrality_scorer\n",
    "        self.arg_scorer = arg_scorer\n",
    "        self.contra_scorer = contra_scorer\n",
    "        self.alpha = alpha\n",
    "\n",
    "    def fit(self, X, y=None):\n",
    "        # Todo: Refactor as pipeline https://scikit-learn.org/stable/modules/generated/sklearn.pipeline.Pipeline.html\n",
    "        #X = self.word_embedding.transform(X)\n",
    "        X = self.arg_scorer.transform(X)\n",
    "        #self.contra_scorer\n",
    "        return self\n",
    "\n",
    "    def predict(self, X):\n",
    "        X = self.centrality_scorer.transform(X)\n",
    "        for argument in X:\n",
    "            _total_score = (1-self.alpha) * np.array(argument.centrality_scores) + self.alpha * np.array(argument.argumentativeness_scores)\n",
    "            idx = np.argsort(_total_scores)\n",
    "            excerpt = list()\n",
    "            excerpt.append(argument.sentences[idx[-1]])\n",
    "            if len(idx) >=2:\n",
    "                excerpt.append(argument.sentences[idx[-2]])\n",
    "            argument.excerpt = excerpt\n",
    "        return X"
   ]
  },
  {
   "cell_type": "code",
   "execution_count": 13,
   "id": "intense-invalid",
   "metadata": {
    "execution": {
     "iopub.execute_input": "2021-04-02T12:26:52.501780Z",
     "iopub.status.busy": "2021-04-02T12:26:52.501780Z",
     "iopub.status.idle": "2021-04-02T12:26:52.510780Z",
     "shell.execute_reply": "2021-04-02T12:26:52.509782Z",
     "shell.execute_reply.started": "2021-04-02T12:26:52.501780Z"
    },
    "tags": []
   },
   "outputs": [
    {
     "name": "stdout",
     "output_type": "stream",
     "text": [
      "ContrastivenessScorer initialized.\n"
     ]
    }
   ],
   "source": [
    "clr = ContraLexRank(CentralityScorer(), ArgumentativenessScorer(), ContrastivenessScorer(), .5)"
   ]
  },
  {
   "cell_type": "code",
   "execution_count": 14,
   "id": "further-drill",
   "metadata": {
    "execution": {
     "iopub.execute_input": "2021-04-02T12:26:53.116649Z",
     "iopub.status.busy": "2021-04-02T12:26:53.116649Z",
     "iopub.status.idle": "2021-04-02T12:26:53.397129Z",
     "shell.execute_reply": "2021-04-02T12:26:53.396114Z",
     "shell.execute_reply.started": "2021-04-02T12:26:53.116649Z"
    },
    "tags": []
   },
   "outputs": [
    {
     "ename": "ValueError",
     "evalue": "operands could not be broadcast together with shapes (6,) (12,) ",
     "output_type": "error",
     "traceback": [
      "\u001b[1;31m---------------------------------------------------------------------------\u001b[0m",
      "\u001b[1;31mValueError\u001b[0m                                Traceback (most recent call last)",
      "\u001b[1;32m<ipython-input-14-2e7299f8d16c>\u001b[0m in \u001b[0;36m<module>\u001b[1;34m\u001b[0m\n\u001b[0;32m      1\u001b[0m \u001b[0mclr\u001b[0m\u001b[1;33m.\u001b[0m\u001b[0mfit\u001b[0m\u001b[1;33m(\u001b[0m\u001b[0mdata\u001b[0m\u001b[1;33m.\u001b[0m\u001b[0mget_arguments\u001b[0m\u001b[1;33m(\u001b[0m\u001b[1;33m)\u001b[0m\u001b[1;33m[\u001b[0m\u001b[1;33m:\u001b[0m\u001b[1;36m20\u001b[0m\u001b[1;33m]\u001b[0m\u001b[1;33m)\u001b[0m\u001b[1;33m\u001b[0m\u001b[1;33m\u001b[0m\u001b[0m\n\u001b[1;32m----> 2\u001b[1;33m \u001b[0mresult\u001b[0m \u001b[1;33m=\u001b[0m \u001b[0mclr\u001b[0m\u001b[1;33m.\u001b[0m\u001b[0mpredict\u001b[0m\u001b[1;33m(\u001b[0m\u001b[0mdata\u001b[0m\u001b[1;33m.\u001b[0m\u001b[0mget_arguments\u001b[0m\u001b[1;33m(\u001b[0m\u001b[1;33m)\u001b[0m\u001b[1;33m[\u001b[0m\u001b[1;33m:\u001b[0m\u001b[1;36m20\u001b[0m\u001b[1;33m]\u001b[0m\u001b[1;33m)\u001b[0m\u001b[1;33m\u001b[0m\u001b[1;33m\u001b[0m\u001b[0m\n\u001b[0m",
      "\u001b[1;32m<ipython-input-12-b737e9a690f2>\u001b[0m in \u001b[0;36mpredict\u001b[1;34m(self, X)\u001b[0m\n\u001b[0;32m     20\u001b[0m         \u001b[0mX\u001b[0m \u001b[1;33m=\u001b[0m \u001b[0mself\u001b[0m\u001b[1;33m.\u001b[0m\u001b[0mcentrality_scorer\u001b[0m\u001b[1;33m.\u001b[0m\u001b[0mtransform\u001b[0m\u001b[1;33m(\u001b[0m\u001b[0mX\u001b[0m\u001b[1;33m)\u001b[0m\u001b[1;33m\u001b[0m\u001b[1;33m\u001b[0m\u001b[0m\n\u001b[0;32m     21\u001b[0m         \u001b[1;32mfor\u001b[0m \u001b[0margument\u001b[0m \u001b[1;32min\u001b[0m \u001b[0mX\u001b[0m\u001b[1;33m:\u001b[0m\u001b[1;33m\u001b[0m\u001b[1;33m\u001b[0m\u001b[0m\n\u001b[1;32m---> 22\u001b[1;33m             \u001b[0m_total_score\u001b[0m \u001b[1;33m=\u001b[0m \u001b[1;33m(\u001b[0m\u001b[1;36m1\u001b[0m\u001b[1;33m-\u001b[0m\u001b[0mself\u001b[0m\u001b[1;33m.\u001b[0m\u001b[0malpha\u001b[0m\u001b[1;33m)\u001b[0m \u001b[1;33m*\u001b[0m \u001b[0mnp\u001b[0m\u001b[1;33m.\u001b[0m\u001b[0marray\u001b[0m\u001b[1;33m(\u001b[0m\u001b[0margument\u001b[0m\u001b[1;33m.\u001b[0m\u001b[0mcentrality_scores\u001b[0m\u001b[1;33m)\u001b[0m \u001b[1;33m+\u001b[0m \u001b[0mself\u001b[0m\u001b[1;33m.\u001b[0m\u001b[0malpha\u001b[0m \u001b[1;33m*\u001b[0m \u001b[0mnp\u001b[0m\u001b[1;33m.\u001b[0m\u001b[0marray\u001b[0m\u001b[1;33m(\u001b[0m\u001b[0margument\u001b[0m\u001b[1;33m.\u001b[0m\u001b[0margumentativeness_scores\u001b[0m\u001b[1;33m)\u001b[0m\u001b[1;33m\u001b[0m\u001b[1;33m\u001b[0m\u001b[0m\n\u001b[0m\u001b[0;32m     23\u001b[0m             \u001b[0midx\u001b[0m \u001b[1;33m=\u001b[0m \u001b[0mnp\u001b[0m\u001b[1;33m.\u001b[0m\u001b[0margsort\u001b[0m\u001b[1;33m(\u001b[0m\u001b[0m_total_scores\u001b[0m\u001b[1;33m)\u001b[0m\u001b[1;33m\u001b[0m\u001b[1;33m\u001b[0m\u001b[0m\n\u001b[0;32m     24\u001b[0m             \u001b[0mexcerpt\u001b[0m \u001b[1;33m=\u001b[0m \u001b[0mlist\u001b[0m\u001b[1;33m(\u001b[0m\u001b[1;33m)\u001b[0m\u001b[1;33m\u001b[0m\u001b[1;33m\u001b[0m\u001b[0m\n",
      "\u001b[1;31mValueError\u001b[0m: operands could not be broadcast together with shapes (6,) (12,) "
     ]
    }
   ],
   "source": [
    "clr.fit(data.get_arguments()[:20])\n",
    "result = clr.predict(data.get_arguments()[:20])"
   ]
  },
  {
   "cell_type": "code",
   "execution_count": 70,
   "id": "bearing-afternoon",
   "metadata": {
    "execution": {
     "iopub.execute_input": "2021-03-23T09:23:47.894506Z",
     "iopub.status.busy": "2021-03-23T09:23:47.894506Z",
     "iopub.status.idle": "2021-03-23T09:23:47.909467Z",
     "shell.execute_reply": "2021-03-23T09:23:47.907465Z",
     "shell.execute_reply.started": "2021-03-23T09:23:47.894506Z"
    },
    "tags": []
   },
   "outputs": [
    {
     "data": {
      "text/plain": [
       "(['What this means is that: 1) Abortion is proposed as a singular type 2) However, according to my opponent, there is a difference in the morality/ethics of abortion, varying based on the time of incubation (meaning that there are two types of abortion) 3) Not getting pregnant is a singular type 4) My opponent judged that abortion is (ethically/morally) the equivalent not getting pregnant in the first place, despite there being black-and-white differences (i.e. singular term) in regards to the abortion in question C) Therefore, my opponent has to keep the morality/ethics of abortion either wrong or \"okay\" (due to the construction of the resolution requiring abortion to equal not getting pregnant), yet my opponent has argued that the ethics/morality of abortion varies!',\n",
       "  'Having an abortion is the equivalent of not getting pregnant in the first place\".'],\n",
       " ['There is no child death involved in not getting pregnant, yet there is always child death with abortion.',\n",
       "  'Thus, abortion is not always the equivalent of not getting pregnant.'])"
      ]
     },
     "execution_count": 70,
     "metadata": {},
     "output_type": "execute_result"
    }
   ],
   "source": [
    "result[4].excerpt, result[4].snippet"
   ]
  },
  {
   "cell_type": "code",
   "execution_count": 29,
   "id": "roman-granny",
   "metadata": {
    "execution": {
     "iopub.execute_input": "2021-03-23T09:16:19.156806Z",
     "iopub.status.busy": "2021-03-23T09:16:19.156806Z",
     "iopub.status.idle": "2021-03-23T09:16:19.178827Z",
     "shell.execute_reply": "2021-03-23T09:16:19.173830Z",
     "shell.execute_reply.started": "2021-03-23T09:16:19.156806Z"
    },
    "tags": []
   },
   "outputs": [
    {
     "data": {
      "text/plain": [
       "2"
      ]
     },
     "execution_count": 29,
     "metadata": {},
     "output_type": "execute_result"
    }
   ],
   "source": [
    "np.argsort(result[0].centrality_scores)[-2]"
   ]
  }
 ],
 "metadata": {
  "kernelspec": {
   "display_name": "thesis",
   "language": "python",
   "name": "thesis"
  },
  "language_info": {
   "codemirror_mode": {
    "name": "ipython",
    "version": 3
   },
   "file_extension": ".py",
   "mimetype": "text/x-python",
   "name": "python",
   "nbconvert_exporter": "python",
   "pygments_lexer": "ipython3",
   "version": "3.7.10"
  },
  "toc-autonumbering": true
 },
 "nbformat": 4,
 "nbformat_minor": 5
}
