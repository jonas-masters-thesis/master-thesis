{
 "cells": [
  {
   "cell_type": "code",
   "execution_count": 18,
   "id": "a93d05cc-d563-433e-ae67-bfc4411a5a60",
   "metadata": {
    "execution": {
     "iopub.execute_input": "2021-11-11T15:58:10.360309Z",
     "iopub.status.busy": "2021-11-11T15:58:10.360309Z",
     "iopub.status.idle": "2021-11-11T15:58:10.382447Z",
     "shell.execute_reply": "2021-11-11T15:58:10.380437Z",
     "shell.execute_reply.started": "2021-11-11T15:58:10.360309Z"
    },
    "tags": []
   },
   "outputs": [],
   "source": [
    "import json\n",
    "import numpy as np\n",
    "from scipy.stats import pearsonr, spearmanr, kendalltau\n",
    "import sys\n",
    "import pandas as pd"
   ]
  },
  {
   "cell_type": "code",
   "execution_count": 4,
   "id": "52536358-9e3a-43ba-b297-a55c9cbc9203",
   "metadata": {
    "execution": {
     "iopub.execute_input": "2021-11-11T15:40:20.844332Z",
     "iopub.status.busy": "2021-11-11T15:40:20.844332Z",
     "iopub.status.idle": "2021-11-11T15:40:20.877522Z",
     "shell.execute_reply": "2021-11-11T15:40:20.875520Z",
     "shell.execute_reply.started": "2021-11-11T15:40:20.844332Z"
    },
    "tags": []
   },
   "outputs": [],
   "source": [
    "shared_path = '../shared'\n",
    "clr_path = '../contra-lexrank'\n",
    "\n",
    "if shared_path not in sys.path:\n",
    "    sys.path.append(shared_path)\n",
    "    \n",
    "if clr_path not in sys.path:\n",
    "    sys.path.append(clr_path)\n",
    "    \n",
    "from Argument import Argument\n",
    "from ArgumentativenessScorer import ArgumentativenessScorer"
   ]
  },
  {
   "cell_type": "code",
   "execution_count": 13,
   "id": "8bdc5b05-85bc-4a27-9658-50000546551f",
   "metadata": {
    "execution": {
     "iopub.execute_input": "2021-11-11T15:55:04.895851Z",
     "iopub.status.busy": "2021-11-11T15:55:04.894850Z",
     "iopub.status.idle": "2021-11-11T15:55:04.913613Z",
     "shell.execute_reply": "2021-11-11T15:55:04.911892Z",
     "shell.execute_reply.started": "2021-11-11T15:55:04.894850Z"
    },
    "tags": []
   },
   "outputs": [],
   "source": [
    "ascorer = ArgumentativenessScorer(discourse_markers='../contra-lexrank/discourse-markers.txt', claim_lexicon='../contra-lexrank/ClaimLexicon.txt')"
   ]
  },
  {
   "cell_type": "code",
   "execution_count": 5,
   "id": "c11b753d-4af9-4388-9fd0-bcb8ce278540",
   "metadata": {
    "execution": {
     "iopub.execute_input": "2021-11-11T15:43:17.066200Z",
     "iopub.status.busy": "2021-11-11T15:43:17.065194Z",
     "iopub.status.idle": "2021-11-11T15:43:17.182342Z",
     "shell.execute_reply": "2021-11-11T15:43:17.177347Z",
     "shell.execute_reply.started": "2021-11-11T15:43:17.066200Z"
    },
    "tags": []
   },
   "outputs": [],
   "source": [
    "argQ = json.load(open(r\"C:\\Users\\Jonas\\git\\thesis\\code\\evaluation\\results\\GW 2021-09-27\\1632239915.4824035-3756-arguments-cleaned-test-sent-argQ.json\"))"
   ]
  },
  {
   "cell_type": "code",
   "execution_count": 7,
   "id": "f31e4130-c931-43bc-ad03-c12621f812a3",
   "metadata": {
    "execution": {
     "iopub.execute_input": "2021-11-11T15:45:59.300803Z",
     "iopub.status.busy": "2021-11-11T15:45:59.300803Z",
     "iopub.status.idle": "2021-11-11T15:45:59.487471Z",
     "shell.execute_reply": "2021-11-11T15:45:59.486443Z",
     "shell.execute_reply.started": "2021-11-11T15:45:59.300803Z"
    },
    "tags": []
   },
   "outputs": [],
   "source": [
    "args = json.load(open(r\"C:\\Users\\Jonas\\git\\thesis\\code\\paraphraseing\\results\\clr-test-predictions.json\"))"
   ]
  },
  {
   "cell_type": "code",
   "execution_count": 37,
   "id": "2939081d-0f5e-46e4-bead-d9b9dc45d42a",
   "metadata": {
    "execution": {
     "iopub.execute_input": "2021-11-11T16:08:50.893835Z",
     "iopub.status.busy": "2021-11-11T16:08:50.892841Z",
     "iopub.status.idle": "2021-11-11T16:09:01.122660Z",
     "shell.execute_reply": "2021-11-11T16:09:01.121670Z",
     "shell.execute_reply.started": "2021-11-11T16:08:50.893835Z"
    },
    "tags": []
   },
   "outputs": [
    {
     "data": {
      "text/plain": [
       "78436"
      ]
     },
     "execution_count": 37,
     "metadata": {},
     "output_type": "execute_result"
    }
   ],
   "source": [
    "records = list()\n",
    "for a in args:\n",
    "    if (a['arg_id'] in argQ.keys()) and (len(argQ[a['arg_id']]) == len(a['sentences'])):\n",
    "        claimscores = [ascorer.arg(s) for s in a['sentences']]\n",
    "        for i, s in enumerate(a['sentences']):\n",
    "            #claimscore = ascorer.arg(s)\n",
    "            records.append({\n",
    "                'arg_id': a['arg_id'],\n",
    "                's_idx': i,\n",
    "                'sentence': s,\n",
    "                'quality': argQ[a['arg_id']][i],\n",
    "                'claimscore': claimscores[i],\n",
    "                'arg_score': claimscores[i]/sum(claimscores)\n",
    "            })\n",
    "len(records)"
   ]
  },
  {
   "cell_type": "code",
   "execution_count": 38,
   "id": "6a9083cc-1ed0-46a7-9275-d06901545aba",
   "metadata": {
    "execution": {
     "iopub.execute_input": "2021-11-11T16:09:02.345397Z",
     "iopub.status.busy": "2021-11-11T16:09:02.345397Z",
     "iopub.status.idle": "2021-11-11T16:09:02.610147Z",
     "shell.execute_reply": "2021-11-11T16:09:02.609182Z",
     "shell.execute_reply.started": "2021-11-11T16:09:02.345397Z"
    },
    "tags": []
   },
   "outputs": [],
   "source": [
    "df = pd.DataFrame.from_records(records)"
   ]
  },
  {
   "cell_type": "code",
   "execution_count": 39,
   "id": "0713ad13-c6d9-4f94-b673-83022b8542a2",
   "metadata": {
    "execution": {
     "iopub.execute_input": "2021-11-11T16:09:03.905092Z",
     "iopub.status.busy": "2021-11-11T16:09:03.902078Z",
     "iopub.status.idle": "2021-11-11T16:09:03.975417Z",
     "shell.execute_reply": "2021-11-11T16:09:03.967426Z",
     "shell.execute_reply.started": "2021-11-11T16:09:03.903075Z"
    },
    "tags": []
   },
   "outputs": [
    {
     "data": {
      "text/html": [
       "<div>\n",
       "<style scoped>\n",
       "    .dataframe tbody tr th:only-of-type {\n",
       "        vertical-align: middle;\n",
       "    }\n",
       "\n",
       "    .dataframe tbody tr th {\n",
       "        vertical-align: top;\n",
       "    }\n",
       "\n",
       "    .dataframe thead th {\n",
       "        text-align: right;\n",
       "    }\n",
       "</style>\n",
       "<table border=\"1\" class=\"dataframe\">\n",
       "  <thead>\n",
       "    <tr style=\"text-align: right;\">\n",
       "      <th></th>\n",
       "      <th>arg_id</th>\n",
       "      <th>s_idx</th>\n",
       "      <th>sentence</th>\n",
       "      <th>quality</th>\n",
       "      <th>claimscore</th>\n",
       "      <th>arg_score</th>\n",
       "    </tr>\n",
       "  </thead>\n",
       "  <tbody>\n",
       "    <tr>\n",
       "      <th>0</th>\n",
       "      <td>S3cfe9d25-Ae369c47f</td>\n",
       "      <td>0</td>\n",
       "      <td>OK, some people don’t like big government, but...</td>\n",
       "      <td>0.605042</td>\n",
       "      <td>5</td>\n",
       "      <td>0.312500</td>\n",
       "    </tr>\n",
       "    <tr>\n",
       "      <th>1</th>\n",
       "      <td>S3cfe9d25-Ae369c47f</td>\n",
       "      <td>1</td>\n",
       "      <td>Likewise better schooling, transport, cuts in ...</td>\n",
       "      <td>0.631418</td>\n",
       "      <td>5</td>\n",
       "      <td>0.312500</td>\n",
       "    </tr>\n",
       "    <tr>\n",
       "      <th>2</th>\n",
       "      <td>S3cfe9d25-Ae369c47f</td>\n",
       "      <td>2</td>\n",
       "      <td>Please note that the title of this debate is ‘...</td>\n",
       "      <td>0.610603</td>\n",
       "      <td>2</td>\n",
       "      <td>0.125000</td>\n",
       "    </tr>\n",
       "    <tr>\n",
       "      <th>3</th>\n",
       "      <td>S3cfe9d25-Ae369c47f</td>\n",
       "      <td>3</td>\n",
       "      <td>I agree that 100% income tax would be insane, ...</td>\n",
       "      <td>0.644531</td>\n",
       "      <td>2</td>\n",
       "      <td>0.125000</td>\n",
       "    </tr>\n",
       "    <tr>\n",
       "      <th>4</th>\n",
       "      <td>S3cfe9d25-Ae369c47f</td>\n",
       "      <td>4</td>\n",
       "      <td>Money earned from a 100% inheritance tax would...</td>\n",
       "      <td>0.717869</td>\n",
       "      <td>2</td>\n",
       "      <td>0.125000</td>\n",
       "    </tr>\n",
       "    <tr>\n",
       "      <th>...</th>\n",
       "      <td>...</td>\n",
       "      <td>...</td>\n",
       "      <td>...</td>\n",
       "      <td>...</td>\n",
       "      <td>...</td>\n",
       "      <td>...</td>\n",
       "    </tr>\n",
       "    <tr>\n",
       "      <th>78431</th>\n",
       "      <td>Sd43ea1d8-Abf4f568e</td>\n",
       "      <td>5</td>\n",
       "      <td>But Tesla is currently already selling fine in...</td>\n",
       "      <td>0.679457</td>\n",
       "      <td>2</td>\n",
       "      <td>0.068966</td>\n",
       "    </tr>\n",
       "    <tr>\n",
       "      <th>78432</th>\n",
       "      <td>Sd43ea1d8-Abf4f568e</td>\n",
       "      <td>6</td>\n",
       "      <td>These few American states are only a small per...</td>\n",
       "      <td>0.632599</td>\n",
       "      <td>3</td>\n",
       "      <td>0.103448</td>\n",
       "    </tr>\n",
       "    <tr>\n",
       "      <th>78433</th>\n",
       "      <td>Sd43ea1d8-Abf4f568e</td>\n",
       "      <td>7</td>\n",
       "      <td>Tesla Model 3 should in no way be compared to ...</td>\n",
       "      <td>0.651541</td>\n",
       "      <td>2</td>\n",
       "      <td>0.068966</td>\n",
       "    </tr>\n",
       "    <tr>\n",
       "      <th>78434</th>\n",
       "      <td>Sd43ea1d8-Abf4f568e</td>\n",
       "      <td>8</td>\n",
       "      <td>I wasn't comparing Model 3 with a BMW i3, but ...</td>\n",
       "      <td>0.607059</td>\n",
       "      <td>3</td>\n",
       "      <td>0.103448</td>\n",
       "    </tr>\n",
       "    <tr>\n",
       "      <th>78435</th>\n",
       "      <td>Sd43ea1d8-Abf4f568e</td>\n",
       "      <td>9</td>\n",
       "      <td>I found it interesting and I hope other people...</td>\n",
       "      <td>0.600297</td>\n",
       "      <td>2</td>\n",
       "      <td>0.068966</td>\n",
       "    </tr>\n",
       "  </tbody>\n",
       "</table>\n",
       "<p>78436 rows × 6 columns</p>\n",
       "</div>"
      ],
      "text/plain": [
       "                    arg_id  s_idx  \\\n",
       "0      S3cfe9d25-Ae369c47f      0   \n",
       "1      S3cfe9d25-Ae369c47f      1   \n",
       "2      S3cfe9d25-Ae369c47f      2   \n",
       "3      S3cfe9d25-Ae369c47f      3   \n",
       "4      S3cfe9d25-Ae369c47f      4   \n",
       "...                    ...    ...   \n",
       "78431  Sd43ea1d8-Abf4f568e      5   \n",
       "78432  Sd43ea1d8-Abf4f568e      6   \n",
       "78433  Sd43ea1d8-Abf4f568e      7   \n",
       "78434  Sd43ea1d8-Abf4f568e      8   \n",
       "78435  Sd43ea1d8-Abf4f568e      9   \n",
       "\n",
       "                                                sentence   quality  \\\n",
       "0      OK, some people don’t like big government, but...  0.605042   \n",
       "1      Likewise better schooling, transport, cuts in ...  0.631418   \n",
       "2      Please note that the title of this debate is ‘...  0.610603   \n",
       "3      I agree that 100% income tax would be insane, ...  0.644531   \n",
       "4      Money earned from a 100% inheritance tax would...  0.717869   \n",
       "...                                                  ...       ...   \n",
       "78431  But Tesla is currently already selling fine in...  0.679457   \n",
       "78432  These few American states are only a small per...  0.632599   \n",
       "78433  Tesla Model 3 should in no way be compared to ...  0.651541   \n",
       "78434  I wasn't comparing Model 3 with a BMW i3, but ...  0.607059   \n",
       "78435  I found it interesting and I hope other people...  0.600297   \n",
       "\n",
       "       claimscore  arg_score  \n",
       "0               5   0.312500  \n",
       "1               5   0.312500  \n",
       "2               2   0.125000  \n",
       "3               2   0.125000  \n",
       "4               2   0.125000  \n",
       "...           ...        ...  \n",
       "78431           2   0.068966  \n",
       "78432           3   0.103448  \n",
       "78433           2   0.068966  \n",
       "78434           3   0.103448  \n",
       "78435           2   0.068966  \n",
       "\n",
       "[78436 rows x 6 columns]"
      ]
     },
     "execution_count": 39,
     "metadata": {},
     "output_type": "execute_result"
    }
   ],
   "source": [
    "df"
   ]
  },
  {
   "cell_type": "code",
   "execution_count": 40,
   "id": "cffee7e4-035a-490c-bc4b-cb3e45b1232f",
   "metadata": {
    "execution": {
     "iopub.execute_input": "2021-11-11T16:09:04.022416Z",
     "iopub.status.busy": "2021-11-11T16:09:04.018404Z",
     "iopub.status.idle": "2021-11-11T16:09:04.061408Z",
     "shell.execute_reply": "2021-11-11T16:09:04.060410Z",
     "shell.execute_reply.started": "2021-11-11T16:09:04.022416Z"
    },
    "tags": []
   },
   "outputs": [
    {
     "data": {
      "text/plain": [
       "(0.2197581831559959, 0.0)"
      ]
     },
     "execution_count": 40,
     "metadata": {},
     "output_type": "execute_result"
    }
   ],
   "source": [
    "pearsonr(df.quality, df.claimscore)"
   ]
  },
  {
   "cell_type": "code",
   "execution_count": 42,
   "id": "50f96f22-1424-41a4-8043-0a5e7d8351a8",
   "metadata": {
    "execution": {
     "iopub.execute_input": "2021-11-11T16:09:04.217402Z",
     "iopub.status.busy": "2021-11-11T16:09:04.217402Z",
     "iopub.status.idle": "2021-11-11T16:09:04.279000Z",
     "shell.execute_reply": "2021-11-11T16:09:04.277999Z",
     "shell.execute_reply.started": "2021-11-11T16:09:04.217402Z"
    },
    "tags": []
   },
   "outputs": [
    {
     "data": {
      "text/plain": [
       "SpearmanrResult(correlation=0.23324589512199295, pvalue=0.0)"
      ]
     },
     "execution_count": 42,
     "metadata": {},
     "output_type": "execute_result"
    }
   ],
   "source": [
    "spearmanr(df.quality, df.claimscore)"
   ]
  },
  {
   "cell_type": "code",
   "execution_count": 43,
   "id": "3cee0408-2389-4e96-993d-344978e54917",
   "metadata": {
    "execution": {
     "iopub.execute_input": "2021-11-11T16:09:04.361588Z",
     "iopub.status.busy": "2021-11-11T16:09:04.361588Z",
     "iopub.status.idle": "2021-11-11T16:09:04.422589Z",
     "shell.execute_reply": "2021-11-11T16:09:04.421589Z",
     "shell.execute_reply.started": "2021-11-11T16:09:04.361588Z"
    },
    "tags": []
   },
   "outputs": [
    {
     "data": {
      "text/plain": [
       "KendalltauResult(correlation=0.17436511825733217, pvalue=0.0)"
      ]
     },
     "execution_count": 43,
     "metadata": {},
     "output_type": "execute_result"
    }
   ],
   "source": [
    "kendalltau(df.quality, df.claimscore)"
   ]
  }
 ],
 "metadata": {
  "kernelspec": {
   "display_name": "thesis",
   "language": "python",
   "name": "thesis"
  },
  "language_info": {
   "codemirror_mode": {
    "name": "ipython",
    "version": 3
   },
   "file_extension": ".py",
   "mimetype": "text/x-python",
   "name": "python",
   "nbconvert_exporter": "python",
   "pygments_lexer": "ipython3",
   "version": "3.7.10"
  }
 },
 "nbformat": 4,
 "nbformat_minor": 5
}
