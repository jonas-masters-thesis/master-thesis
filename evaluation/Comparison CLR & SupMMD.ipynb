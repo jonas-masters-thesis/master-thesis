{
 "cells": [
  {
   "cell_type": "code",
   "execution_count": 4,
   "id": "37cfec66-e95a-4022-aed6-a334c535976e",
   "metadata": {
    "execution": {
     "iopub.execute_input": "2021-12-07T08:55:22.582205Z",
     "iopub.status.busy": "2021-12-07T08:55:22.581195Z",
     "iopub.status.idle": "2021-12-07T08:55:24.640354Z",
     "shell.execute_reply": "2021-12-07T08:55:24.639378Z",
     "shell.execute_reply.started": "2021-12-07T08:55:22.581195Z"
    },
    "tags": []
   },
   "outputs": [],
   "source": [
    "import pandas as pd\n",
    "import numpy as np\n",
    "import json\n",
    "import pickle\n",
    "from scipy.stats import pearsonr, spearmanr, kendalltau\n",
    "from scipy import stats\n",
    "import sys\n",
    "\n",
    "from matplotlib.image import NonUniformImage\n",
    "import matplotlib.pyplot as plt\n",
    "# https://numpy.org/doc/stable/reference/generated/numpy.histogram2d.html\n",
    "\n",
    "from IPython.display import display_html\n",
    "import sys"
   ]
  },
  {
   "cell_type": "code",
   "execution_count": 5,
   "id": "b595804f-b688-494f-bc25-54c9a27660dd",
   "metadata": {
    "execution": {
     "iopub.execute_input": "2021-12-07T08:55:24.663314Z",
     "iopub.status.busy": "2021-12-07T08:55:24.663314Z",
     "iopub.status.idle": "2021-12-07T08:55:40.972634Z",
     "shell.execute_reply": "2021-12-07T08:55:40.971634Z",
     "shell.execute_reply.started": "2021-12-07T08:55:24.663314Z"
    },
    "tags": []
   },
   "outputs": [],
   "source": [
    "shared_path = 'C:/Users/Jonas/git/thesis/code/shared'\n",
    "if shared_path not in sys.path:\n",
    "    sys.path.append(shared_path)\n",
    "\n",
    "mmd_path = 'C:/Users/Jonas/git/thesis/code/mmd'\n",
    "if mmd_path not in sys.path:\n",
    "    sys.path.append(mmd_path)\n",
    "\n",
    "from Argument import Argument\n",
    "from FeaturedArgument import FeaturedArgument\n",
    "from MMDBase import MMDBase\n",
    "from Inference import Inference\n",
    "from Trainer import Trainer\n",
    "from DataHandler import DataHandler"
   ]
  },
  {
   "cell_type": "code",
   "execution_count": 6,
   "id": "07d9b9b8-9820-4920-ad14-a7b2911ef599",
   "metadata": {
    "execution": {
     "iopub.execute_input": "2021-12-07T08:55:40.979634Z",
     "iopub.status.busy": "2021-12-07T08:55:40.978634Z",
     "iopub.status.idle": "2021-12-07T08:55:40.988633Z",
     "shell.execute_reply": "2021-12-07T08:55:40.987635Z",
     "shell.execute_reply.started": "2021-12-07T08:55:40.979634Z"
    },
    "tags": []
   },
   "outputs": [],
   "source": [
    "CLR_RESULTS = 'C:/Users/Jonas/git/thesis/code/evaluation/clr-context-level-results.csv'\n",
    "SUPMMD_RESULTS = 'C:/Users/Jonas/git/thesis/code/evaluation/supmmd-context-level-results.csv'"
   ]
  },
  {
   "cell_type": "code",
   "execution_count": 7,
   "id": "870c57a0-f99c-4442-9b26-0641a2e9caed",
   "metadata": {
    "execution": {
     "iopub.execute_input": "2021-12-07T08:55:40.993636Z",
     "iopub.status.busy": "2021-12-07T08:55:40.992634Z",
     "iopub.status.idle": "2021-12-07T08:55:41.327238Z",
     "shell.execute_reply": "2021-12-07T08:55:41.319244Z",
     "shell.execute_reply.started": "2021-12-07T08:55:40.993636Z"
    },
    "tags": []
   },
   "outputs": [
    {
     "data": {
      "text/html": [
       "<div>\n",
       "<style scoped>\n",
       "    .dataframe tbody tr th:only-of-type {\n",
       "        vertical-align: middle;\n",
       "    }\n",
       "\n",
       "    .dataframe tbody tr th {\n",
       "        vertical-align: top;\n",
       "    }\n",
       "\n",
       "    .dataframe thead th {\n",
       "        text-align: right;\n",
       "    }\n",
       "</style>\n",
       "<table border=\"1\" class=\"dataframe\">\n",
       "  <thead>\n",
       "    <tr style=\"text-align: right;\">\n",
       "      <th></th>\n",
       "      <th>d_1</th>\n",
       "      <th>d_2</th>\n",
       "      <th>d_3</th>\n",
       "      <th>avg_edge_corr</th>\n",
       "      <th>avg_silhouette_coef</th>\n",
       "      <th>would_you_like_to_live_in_the_world_of_harry_potter_edge_corr</th>\n",
       "      <th>would_you_like_to_live_in_the_world_of_harry_potter_silhouette_coef</th>\n",
       "      <th>because_edge_corr</th>\n",
       "      <th>because_silhouette_coef</th>\n",
       "      <th>messi_edge_corr</th>\n",
       "      <th>...</th>\n",
       "      <th>earth_is_flat_as_a_pizza_soc</th>\n",
       "      <th>colonizing_mars_argumentativeness</th>\n",
       "      <th>colonizing_mars_degree_centrality</th>\n",
       "      <th>colonizing_mars_soc</th>\n",
       "      <th>argument_argumentativeness</th>\n",
       "      <th>argument_degree_centrality</th>\n",
       "      <th>argument_soc</th>\n",
       "      <th>avg_argumentativeness</th>\n",
       "      <th>avg_degree_centrality</th>\n",
       "      <th>avg_soc</th>\n",
       "    </tr>\n",
       "  </thead>\n",
       "  <tbody>\n",
       "    <tr>\n",
       "      <th>1</th>\n",
       "      <td>0.8</td>\n",
       "      <td>0.9</td>\n",
       "      <td>0.7</td>\n",
       "      <td>0.297291</td>\n",
       "      <td>0.052845</td>\n",
       "      <td>0.293301</td>\n",
       "      <td>0.03437</td>\n",
       "      <td>0.272316</td>\n",
       "      <td>0.096157</td>\n",
       "      <td>0.252635</td>\n",
       "      <td>...</td>\n",
       "      <td>0.335256</td>\n",
       "      <td>0.611835</td>\n",
       "      <td>0.310528</td>\n",
       "      <td>0.421981</td>\n",
       "      <td>0.617595</td>\n",
       "      <td>0.704921</td>\n",
       "      <td>0.642418</td>\n",
       "      <td>0.624813</td>\n",
       "      <td>0.592285</td>\n",
       "      <td>0.581716</td>\n",
       "    </tr>\n",
       "  </tbody>\n",
       "</table>\n",
       "<p>1 rows × 2344 columns</p>\n",
       "</div>"
      ],
      "text/plain": [
       "   d_1  d_2  d_3  avg_edge_corr  avg_silhouette_coef  \\\n",
       "1  0.8  0.9  0.7       0.297291             0.052845   \n",
       "\n",
       "   would_you_like_to_live_in_the_world_of_harry_potter_edge_corr  \\\n",
       "1                                           0.293301               \n",
       "\n",
       "   would_you_like_to_live_in_the_world_of_harry_potter_silhouette_coef  \\\n",
       "1                                            0.03437                     \n",
       "\n",
       "   because_edge_corr  because_silhouette_coef  messi_edge_corr  ...  \\\n",
       "1           0.272316                 0.096157         0.252635  ...   \n",
       "\n",
       "   earth_is_flat_as_a_pizza_soc  colonizing_mars_argumentativeness  \\\n",
       "1                      0.335256                           0.611835   \n",
       "\n",
       "   colonizing_mars_degree_centrality  colonizing_mars_soc  \\\n",
       "1                           0.310528             0.421981   \n",
       "\n",
       "   argument_argumentativeness  argument_degree_centrality  argument_soc  \\\n",
       "1                    0.617595                    0.704921      0.642418   \n",
       "\n",
       "   avg_argumentativeness  avg_degree_centrality   avg_soc  \n",
       "1               0.624813               0.592285  0.581716  \n",
       "\n",
       "[1 rows x 2344 columns]"
      ]
     },
     "execution_count": 7,
     "metadata": {},
     "output_type": "execute_result"
    }
   ],
   "source": [
    "clr_results = pd.read_csv(CLR_RESULTS)[1:]\n",
    "clr_results"
   ]
  },
  {
   "cell_type": "code",
   "execution_count": 8,
   "id": "846d340e-43df-4bab-a747-6d572c4499a3",
   "metadata": {
    "execution": {
     "iopub.execute_input": "2021-12-07T08:55:41.343212Z",
     "iopub.status.busy": "2021-12-07T08:55:41.340333Z",
     "iopub.status.idle": "2021-12-07T08:55:41.367207Z",
     "shell.execute_reply": "2021-12-07T08:55:41.366206Z",
     "shell.execute_reply.started": "2021-12-07T08:55:41.342211Z"
    },
    "tags": []
   },
   "outputs": [],
   "source": [
    "def mean_x(x, df, insert):\n",
    "    x_cols = list(filter(lambda c: c.endswith(x), df.columns))\n",
    "    sub_df = df[x_cols]\n",
    "    mean = sub_df.iloc[0].mean()\n",
    "    df.insert(loc = insert,\n",
    "              column = f'avg_{x}',\n",
    "              value = [mean])"
   ]
  },
  {
   "cell_type": "code",
   "execution_count": 9,
   "id": "fb331f32-4e7d-4d37-8a05-2bf8868731ec",
   "metadata": {
    "execution": {
     "iopub.execute_input": "2021-12-07T08:55:41.373207Z",
     "iopub.status.busy": "2021-12-07T08:55:41.373207Z",
     "iopub.status.idle": "2021-12-07T08:55:41.652208Z",
     "shell.execute_reply": "2021-12-07T08:55:41.651206Z",
     "shell.execute_reply.started": "2021-12-07T08:55:41.373207Z"
    },
    "tags": []
   },
   "outputs": [
    {
     "data": {
      "text/html": [
       "<div>\n",
       "<style scoped>\n",
       "    .dataframe tbody tr th:only-of-type {\n",
       "        vertical-align: middle;\n",
       "    }\n",
       "\n",
       "    .dataframe tbody tr th {\n",
       "        vertical-align: top;\n",
       "    }\n",
       "\n",
       "    .dataframe thead th {\n",
       "        text-align: right;\n",
       "    }\n",
       "</style>\n",
       "<table border=\"1\" class=\"dataframe\">\n",
       "  <thead>\n",
       "    <tr style=\"text-align: right;\">\n",
       "      <th></th>\n",
       "      <th>gamma</th>\n",
       "      <th>lambda</th>\n",
       "      <th>avg_edge_corr</th>\n",
       "      <th>avg_silhouette_coef</th>\n",
       "      <th>avg_argumentativeness</th>\n",
       "      <th>avg_soc</th>\n",
       "      <th>avg_normalized_weighted_degree_centrality</th>\n",
       "      <th>urbanization_edge_corr</th>\n",
       "      <th>urbanization_silhouette_coef</th>\n",
       "      <th>parenting_styles_child_development_edge_corr</th>\n",
       "      <th>...</th>\n",
       "      <th>wuhan_virus_soc</th>\n",
       "      <th>xbox_argumentativeness</th>\n",
       "      <th>xbox_normalized_weighted_degree_centrality</th>\n",
       "      <th>xbox_soc</th>\n",
       "      <th>xbox_series_argumentativeness</th>\n",
       "      <th>xbox_series_normalized_weighted_degree_centrality</th>\n",
       "      <th>xbox_series_soc</th>\n",
       "      <th>zoos_argumentativeness</th>\n",
       "      <th>zoos_normalized_weighted_degree_centrality</th>\n",
       "      <th>zoos_soc</th>\n",
       "    </tr>\n",
       "  </thead>\n",
       "  <tbody>\n",
       "    <tr>\n",
       "      <th>1</th>\n",
       "      <td>2.0</td>\n",
       "      <td>0.875</td>\n",
       "      <td>0.25194</td>\n",
       "      <td>0.043299</td>\n",
       "      <td>0.640298</td>\n",
       "      <td>0.733804</td>\n",
       "      <td>0.741911</td>\n",
       "      <td>0.457492</td>\n",
       "      <td>0.132784</td>\n",
       "      <td>0.293565</td>\n",
       "      <td>...</td>\n",
       "      <td>0.83239</td>\n",
       "      <td>0.633935</td>\n",
       "      <td>1.137358</td>\n",
       "      <td>0.855957</td>\n",
       "      <td>0.631221</td>\n",
       "      <td>0.817243</td>\n",
       "      <td>0.77662</td>\n",
       "      <td>0.657525</td>\n",
       "      <td>0.715271</td>\n",
       "      <td>0.738807</td>\n",
       "    </tr>\n",
       "  </tbody>\n",
       "</table>\n",
       "<p>1 rows × 2343 columns</p>\n",
       "</div>"
      ],
      "text/plain": [
       "   gamma  lambda  avg_edge_corr  avg_silhouette_coef  avg_argumentativeness  \\\n",
       "1    2.0   0.875        0.25194             0.043299               0.640298   \n",
       "\n",
       "    avg_soc  avg_normalized_weighted_degree_centrality  \\\n",
       "1  0.733804                                   0.741911   \n",
       "\n",
       "   urbanization_edge_corr  urbanization_silhouette_coef  \\\n",
       "1                0.457492                      0.132784   \n",
       "\n",
       "   parenting_styles_child_development_edge_corr  ...  wuhan_virus_soc  \\\n",
       "1                                      0.293565  ...          0.83239   \n",
       "\n",
       "   xbox_argumentativeness  xbox_normalized_weighted_degree_centrality  \\\n",
       "1                0.633935                                    1.137358   \n",
       "\n",
       "   xbox_soc  xbox_series_argumentativeness  \\\n",
       "1  0.855957                       0.631221   \n",
       "\n",
       "   xbox_series_normalized_weighted_degree_centrality  xbox_series_soc  \\\n",
       "1                                           0.817243          0.77662   \n",
       "\n",
       "   zoos_argumentativeness  zoos_normalized_weighted_degree_centrality  \\\n",
       "1                0.657525                                    0.715271   \n",
       "\n",
       "   zoos_soc  \n",
       "1  0.738807  \n",
       "\n",
       "[1 rows x 2343 columns]"
      ]
     },
     "execution_count": 9,
     "metadata": {},
     "output_type": "execute_result"
    }
   ],
   "source": [
    "supmmd_results = pd.read_csv(SUPMMD_RESULTS)[1:]\n",
    "mean_x('normalized_weighted_degree_centrality', supmmd_results, 4)\n",
    "mean_x('soc', supmmd_results, 4)\n",
    "mean_x('argumentativeness', supmmd_results, 4)\n",
    "supmmd_results"
   ]
  },
  {
   "cell_type": "code",
   "execution_count": 10,
   "id": "78d04d37-889f-4d00-921f-f51ace15abb2",
   "metadata": {
    "execution": {
     "iopub.execute_input": "2021-12-07T08:55:41.656208Z",
     "iopub.status.busy": "2021-12-07T08:55:41.655208Z",
     "iopub.status.idle": "2021-12-07T08:55:41.676231Z",
     "shell.execute_reply": "2021-12-07T08:55:41.668239Z",
     "shell.execute_reply.started": "2021-12-07T08:55:41.656208Z"
    },
    "tags": []
   },
   "outputs": [],
   "source": [
    "records = [\n",
    "    {\n",
    "        'model': 'clr',\n",
    "        'edge_correlation': clr_results['avg_edge_corr'].iloc[0],\n",
    "        'silhouette_coefficient': clr_results['avg_silhouette_coef'].iloc[0],\n",
    "        'argumentativeness': clr_results['avg_argumentativeness'].iloc[0],\n",
    "        'degree_centralitiy': clr_results['avg_degree_centrality'].iloc[0],\n",
    "        'soc': clr_results['avg_soc'].iloc[0]\n",
    "    },\n",
    "    {\n",
    "        'model': 'supmmd',\n",
    "        'edge_correlation': supmmd_results['avg_edge_corr'].iloc[0],\n",
    "        'silhouette_coefficient': supmmd_results['avg_silhouette_coef'].iloc[0],\n",
    "        'argumentativeness': supmmd_results['avg_argumentativeness'].iloc[0],\n",
    "        'degree_centralitiy': supmmd_results['avg_normalized_weighted_degree_centrality'].iloc[0],\n",
    "        'soc': supmmd_results['avg_soc'].iloc[0]\n",
    "    },\n",
    "]\n",
    "df = pd.DataFrame.from_records(records)"
   ]
  },
  {
   "cell_type": "code",
   "execution_count": 11,
   "id": "4bfb0fea-6d51-49fb-b5a0-3f54674e5c93",
   "metadata": {
    "execution": {
     "iopub.execute_input": "2021-12-07T08:55:44.304086Z",
     "iopub.status.busy": "2021-12-07T08:55:44.304086Z",
     "iopub.status.idle": "2021-12-07T08:55:44.327694Z",
     "shell.execute_reply": "2021-12-07T08:55:44.321732Z",
     "shell.execute_reply.started": "2021-12-07T08:55:44.304086Z"
    },
    "tags": []
   },
   "outputs": [
    {
     "data": {
      "text/html": [
       "<div>\n",
       "<style scoped>\n",
       "    .dataframe tbody tr th:only-of-type {\n",
       "        vertical-align: middle;\n",
       "    }\n",
       "\n",
       "    .dataframe tbody tr th {\n",
       "        vertical-align: top;\n",
       "    }\n",
       "\n",
       "    .dataframe thead th {\n",
       "        text-align: right;\n",
       "    }\n",
       "</style>\n",
       "<table border=\"1\" class=\"dataframe\">\n",
       "  <thead>\n",
       "    <tr style=\"text-align: right;\">\n",
       "      <th></th>\n",
       "      <th>model</th>\n",
       "      <th>edge_correlation</th>\n",
       "      <th>silhouette_coefficient</th>\n",
       "      <th>argumentativeness</th>\n",
       "      <th>degree_centralitiy</th>\n",
       "      <th>soc</th>\n",
       "    </tr>\n",
       "  </thead>\n",
       "  <tbody>\n",
       "    <tr>\n",
       "      <th>0</th>\n",
       "      <td>clr</td>\n",
       "      <td>0.297291</td>\n",
       "      <td>0.052845</td>\n",
       "      <td>0.624813</td>\n",
       "      <td>0.592285</td>\n",
       "      <td>0.581716</td>\n",
       "    </tr>\n",
       "    <tr>\n",
       "      <th>1</th>\n",
       "      <td>supmmd</td>\n",
       "      <td>0.251940</td>\n",
       "      <td>0.043299</td>\n",
       "      <td>0.640298</td>\n",
       "      <td>0.741911</td>\n",
       "      <td>0.733804</td>\n",
       "    </tr>\n",
       "  </tbody>\n",
       "</table>\n",
       "</div>"
      ],
      "text/plain": [
       "    model  edge_correlation  silhouette_coefficient  argumentativeness  \\\n",
       "0     clr          0.297291                0.052845           0.624813   \n",
       "1  supmmd          0.251940                0.043299           0.640298   \n",
       "\n",
       "   degree_centralitiy       soc  \n",
       "0            0.592285  0.581716  \n",
       "1            0.741911  0.733804  "
      ]
     },
     "execution_count": 11,
     "metadata": {},
     "output_type": "execute_result"
    }
   ],
   "source": [
    "df"
   ]
  },
  {
   "cell_type": "code",
   "execution_count": 15,
   "id": "29cbbd53-a424-45f1-b755-6b552e6fbf14",
   "metadata": {
    "execution": {
     "iopub.execute_input": "2021-12-04T07:45:12.745814Z",
     "iopub.status.busy": "2021-12-04T07:45:12.745814Z",
     "iopub.status.idle": "2021-12-04T07:45:12.783469Z",
     "shell.execute_reply": "2021-12-04T07:45:12.782287Z",
     "shell.execute_reply.started": "2021-12-04T07:45:12.745814Z"
    },
    "tags": []
   },
   "outputs": [
    {
     "name": "stdout",
     "output_type": "stream",
     "text": [
      "\\begin{tabular}{lrrr}\n",
      "\\toprule\n",
      " model &  edge\\_correlation &  silhouette\\_coefficient &  argumentativeness \\\\\n",
      "\\midrule\n",
      "   clr &          0.297291 &                0.052845 &           0.624813 \\\\\n",
      "supmmd &          0.251940 &                0.043299 &           0.640298 \\\\\n",
      "\\bottomrule\n",
      "\\end{tabular}\n",
      "\n"
     ]
    }
   ],
   "source": [
    "print(df.iloc[:, :-2].to_latex(index=False))"
   ]
  },
  {
   "cell_type": "code",
   "execution_count": 12,
   "id": "68a98379-3a1c-44bb-b75b-ebbe3675aae3",
   "metadata": {
    "execution": {
     "iopub.execute_input": "2021-12-07T08:55:44.346798Z",
     "iopub.status.busy": "2021-12-07T08:55:44.345798Z",
     "iopub.status.idle": "2021-12-07T08:55:44.377286Z",
     "shell.execute_reply": "2021-12-07T08:55:44.369631Z",
     "shell.execute_reply.started": "2021-12-07T08:55:44.346798Z"
    },
    "tags": []
   },
   "outputs": [],
   "source": [
    "def test(measure, threshold=.05):\n",
    "    clr_cols = list(filter(lambda c: c.endswith(measure) and not c.startswith('avg'), clr_results.columns))\n",
    "    supmmd_cols = list(filter(lambda c: c.endswith(measure) and not c.startswith('avg'), supmmd_results.columns))\n",
    "    \n",
    "    # normal distribution\n",
    "    print(f'Nullhypothesis: CLR-{measure} sample is normally distributed. Performing Shapiro-Wilk test.')\n",
    "    clr_sample = clr_results[clr_cols].iloc[0].values\n",
    "    print(len(clr_sample))\n",
    "    clr_shapiro = stats.shapiro(clr_sample)\n",
    "    print(f'\\t{clr_shapiro}')\n",
    "    if clr_shapiro.pvalue < threshold:\n",
    "        print(f'\\tp-value is smaller than {threshold}, thus, we have to reject the nullhypothesis and assume our data is not normally distributed.')\n",
    "        clr_normal = False\n",
    "    else:\n",
    "        print('\\tWe cannot reject the nullhypothesis and therefore assume the data is normally distributed.')\n",
    "        clr_normal = True\n",
    "        \n",
    "    print(f'Nullhypothesis: SUPMMD-{measure} sample is normally distributed. Performing Shapiro-Wilk test.')\n",
    "    supmmd_sample = supmmd_results[supmmd_cols].iloc[0].values\n",
    "    supmmd_shapiro = stats.shapiro(supmmd_sample)\n",
    "    print(f'\\t{supmmd_shapiro}')\n",
    "    if supmmd_shapiro.pvalue < threshold:\n",
    "        print(f'\\tp-value is smaller than {threshold}, thus, we have to reject the nullhypothesis and assume our data is not normally distributed.')\n",
    "        supmmd_normal = False\n",
    "    else:\n",
    "        print('\\tWe cannot reject the nullhypothesis and therefore assume the data is normally distributed.')\n",
    "        supmmd_normal = True\n",
    "        \n",
    "    # test difference\n",
    "    if clr_normal and supmmd_normal:\n",
    "        print('NotImplemented')\n",
    "    else:\n",
    "        print('Nullhypothesis: Median of differences is zero; Alt-Hypothesis: Median of differneces is not zero.')\n",
    "        results = stats.wilcoxon(clr_sample, supmmd_sample, alternative='two-sided')\n",
    "        print(f'\\t{results}')\n",
    "        if results.pvalue < threshold:\n",
    "            print(f'\\tp-value is smaller than {threshold}, thus, we have to reject the nullhypothesis and assume there is a significant difference.')\n",
    "            print(f'\\tmeans: clr-{measure} {np.median(clr_sample)}, supmmd-{measure} {np.median(supmmd_sample)}\\n')\n",
    "            return True\n",
    "        else:\n",
    "            print(f'\\tWe cannot reject the nullhypothesis and therefore assume ther is no signigicant difference.')\n",
    "            print(f'\\tmeans: clr-{measure} {np.median(clr_sample)}, supmmd-{measure} {np.median(supmmd_sample)}\\n')\n",
    "            return False"
   ]
  },
  {
   "cell_type": "code",
   "execution_count": 17,
   "id": "8196a447-3890-4370-8c2f-050e7309bb84",
   "metadata": {
    "execution": {
     "iopub.execute_input": "2021-12-04T07:52:45.867281Z",
     "iopub.status.busy": "2021-12-04T07:52:45.865896Z",
     "iopub.status.idle": "2021-12-04T07:52:45.908372Z",
     "shell.execute_reply": "2021-12-04T07:52:45.905376Z",
     "shell.execute_reply.started": "2021-12-04T07:52:45.867281Z"
    },
    "tags": []
   },
   "outputs": [
    {
     "name": "stdout",
     "output_type": "stream",
     "text": [
      "Nullhypothesis: CLR-edge_corr sample is normally distributed. Performing Shapiro-Wilk test.\n",
      "469\n",
      "\tShapiroResult(statistic=0.9627195000648499, pvalue=1.5744869852341026e-09)\n",
      "\tp-value is smaller than 0.05, thus, we have to reject the nullhypothesis and assume our data is not normally distributed.\n",
      "Nullhypothesis: SUPMMD-edge_corr sample is normally distributed. Performing Shapiro-Wilk test.\n",
      "\tShapiroResult(statistic=0.9558092951774597, pvalue=1.2162026941098247e-10)\n",
      "\tp-value is smaller than 0.05, thus, we have to reject the nullhypothesis and assume our data is not normally distributed.\n",
      "Nullhypothesis: Median of differences is zero; Alt-Hypothesis: Median of differneces is not zero.\n",
      "\tWilcoxonResult(statistic=23555.0, pvalue=6.3154587405405856e-27)\n",
      "\tp-value is smaller than 0.05, thus, we have to reject the nullhypothesis and assume there is a significant difference.\n",
      "\tmeans: clr-edge_corr 0.2863647928370369, supmmd-edge_corr 0.2450067512675922\n",
      "\n"
     ]
    },
    {
     "data": {
      "text/plain": [
       "True"
      ]
     },
     "execution_count": 17,
     "metadata": {},
     "output_type": "execute_result"
    }
   ],
   "source": [
    "test('edge_corr')"
   ]
  },
  {
   "cell_type": "code",
   "execution_count": 37,
   "id": "1708672d-3a79-4adb-a2a5-09e071774e19",
   "metadata": {
    "execution": {
     "iopub.execute_input": "2021-10-29T11:44:53.285204Z",
     "iopub.status.busy": "2021-10-29T11:44:53.285204Z",
     "iopub.status.idle": "2021-10-29T11:44:53.309142Z",
     "shell.execute_reply": "2021-10-29T11:44:53.308122Z",
     "shell.execute_reply.started": "2021-10-29T11:44:53.285204Z"
    },
    "tags": []
   },
   "outputs": [
    {
     "name": "stdout",
     "output_type": "stream",
     "text": [
      "Nullhypothesis: CLR-silhouette_coef sample is normally distributed. Performing Shapiro-Wilk test.\n",
      "\tShapiroResult(statistic=0.9031959176063538, pvalue=1.0985877036056386e-16)\n",
      "\tp-value is smaller than 0.05, thus, we have to reject the nullhypothesis and assume our data is not normally distributed.\n",
      "Nullhypothesis: SUPMMD-silhouette_coef sample is normally distributed. Performing Shapiro-Wilk test.\n",
      "\tShapiroResult(statistic=0.9366644620895386, pvalue=3.1474885089748106e-13)\n",
      "\tp-value is smaller than 0.05, thus, we have to reject the nullhypothesis and assume our data is not normally distributed.\n",
      "Nullhypothesis: Median of differences is zero; Alt-Hypothesis: Median of differneces is not zero.\n",
      "\tWilcoxonResult(statistic=41408.0, pvalue=3.0876953217944584e-06)\n",
      "\tp-value is smaller than 0.05, thus, we have to reject the nullhypothesis and assume there is a significant difference.\n",
      "\tmeans: clr-silhouette_coef 0.04814030975103378, supmmd-silhouette_coef 0.039540767669677734\n",
      "\n"
     ]
    },
    {
     "data": {
      "text/plain": [
       "True"
      ]
     },
     "execution_count": 37,
     "metadata": {},
     "output_type": "execute_result"
    }
   ],
   "source": [
    "test('silhouette_coef')"
   ]
  },
  {
   "cell_type": "code",
   "execution_count": 13,
   "id": "2a5c637d-6fa9-4f2b-ad7c-8aeee155ab22",
   "metadata": {
    "execution": {
     "iopub.execute_input": "2021-12-07T08:55:44.449472Z",
     "iopub.status.busy": "2021-12-07T08:55:44.449472Z",
     "iopub.status.idle": "2021-12-07T08:55:44.496501Z",
     "shell.execute_reply": "2021-12-07T08:55:44.496501Z",
     "shell.execute_reply.started": "2021-12-07T08:55:44.449472Z"
    },
    "tags": []
   },
   "outputs": [
    {
     "name": "stdout",
     "output_type": "stream",
     "text": [
      "Nullhypothesis: CLR-argumentativeness sample is normally distributed. Performing Shapiro-Wilk test.\n",
      "466\n",
      "\tShapiroResult(statistic=0.960915207862854, pvalue=8.649387317483104e-10)\n",
      "\tp-value is smaller than 0.05, thus, we have to reject the nullhypothesis and assume our data is not normally distributed.\n",
      "Nullhypothesis: SUPMMD-argumentativeness sample is normally distributed. Performing Shapiro-Wilk test.\n",
      "\tShapiroResult(statistic=0.9872132539749146, pvalue=0.0004128992441110313)\n",
      "\tp-value is smaller than 0.05, thus, we have to reject the nullhypothesis and assume our data is not normally distributed.\n",
      "Nullhypothesis: Median of differences is zero; Alt-Hypothesis: Median of differneces is not zero.\n",
      "\tWilcoxonResult(statistic=27835.0, pvalue=6.534862226541666e-20)\n",
      "\tp-value is smaller than 0.05, thus, we have to reject the nullhypothesis and assume there is a significant difference.\n",
      "\tmeans: clr-argumentativeness 0.6226257724421365, supmmd-argumentativeness 0.6395443316016878\n",
      "\n"
     ]
    },
    {
     "data": {
      "text/plain": [
       "True"
      ]
     },
     "execution_count": 13,
     "metadata": {},
     "output_type": "execute_result"
    }
   ],
   "source": [
    "test('argumentativeness')"
   ]
  },
  {
   "cell_type": "code",
   "execution_count": 48,
   "id": "2f20fba9-ef13-4c38-90fd-e1cdc9beaf98",
   "metadata": {
    "execution": {
     "iopub.execute_input": "2021-10-29T11:52:44.844536Z",
     "iopub.status.busy": "2021-10-29T11:52:44.844536Z",
     "iopub.status.idle": "2021-10-29T11:52:44.867562Z",
     "shell.execute_reply": "2021-10-29T11:52:44.865570Z",
     "shell.execute_reply.started": "2021-10-29T11:52:44.844536Z"
    },
    "tags": []
   },
   "outputs": [
    {
     "name": "stdout",
     "output_type": "stream",
     "text": [
      "Nullhypothesis: CLR-degree_centrality sample is normally distributed. Performing Shapiro-Wilk test.\n",
      "\tShapiroResult(statistic=0.9886589050292969, pvalue=0.0011196475243195891)\n",
      "\tp-value is smaller than 0.05, thus, we have to reject the nullhypothesis and assume our data is not normally distributed.\n",
      "Nullhypothesis: SUPMMD-degree_centrality sample is normally distributed. Performing Shapiro-Wilk test.\n",
      "\tShapiroResult(statistic=0.9947377443313599, pvalue=0.11189080029726028)\n",
      "\tWe cannot reject the nullhypothesis and therefore assume the data is normally distributed.\n",
      "Nullhypothesis: Median of differences is zero; Alt-Hypothesis: Median of differneces is not zero.\n",
      "\tWilcoxonResult(statistic=27724.0, pvalue=4.5893136801715095e-20)\n",
      "\tp-value is smaller than 0.05, thus, we have to reject the nullhypothesis and assume there is a significant difference.\n",
      "\tmeans: clr-degree_centrality 0.6000113553612569, supmmd-degree_centrality 0.736553494731448\n",
      "\n"
     ]
    },
    {
     "data": {
      "text/plain": [
       "True"
      ]
     },
     "execution_count": 48,
     "metadata": {},
     "output_type": "execute_result"
    }
   ],
   "source": [
    "test('degree_centrality')"
   ]
  },
  {
   "cell_type": "code",
   "execution_count": 49,
   "id": "d05a42b7-64d9-4d20-bd9d-dc5f5d1945de",
   "metadata": {
    "execution": {
     "iopub.execute_input": "2021-10-29T11:52:56.648212Z",
     "iopub.status.busy": "2021-10-29T11:52:56.647235Z",
     "iopub.status.idle": "2021-10-29T11:52:56.694066Z",
     "shell.execute_reply": "2021-10-29T11:52:56.693068Z",
     "shell.execute_reply.started": "2021-10-29T11:52:56.648212Z"
    },
    "tags": []
   },
   "outputs": [
    {
     "name": "stdout",
     "output_type": "stream",
     "text": [
      "Nullhypothesis: CLR-soc sample is normally distributed. Performing Shapiro-Wilk test.\n",
      "\tShapiroResult(statistic=0.989068865776062, pvalue=0.0014973264187574387)\n",
      "\tp-value is smaller than 0.05, thus, we have to reject the nullhypothesis and assume our data is not normally distributed.\n",
      "Nullhypothesis: SUPMMD-soc sample is normally distributed. Performing Shapiro-Wilk test.\n",
      "\tShapiroResult(statistic=0.9810604453086853, pvalue=9.123237759922631e-06)\n",
      "\tp-value is smaller than 0.05, thus, we have to reject the nullhypothesis and assume our data is not normally distributed.\n",
      "Nullhypothesis: Median of differences is zero; Alt-Hypothesis: Median of differneces is not zero.\n",
      "\tWilcoxonResult(statistic=15159.0, pvalue=1.7153768662778463e-41)\n",
      "\tp-value is smaller than 0.05, thus, we have to reject the nullhypothesis and assume there is a significant difference.\n",
      "\tmeans: clr-soc 0.5991484081106526, supmmd-soc 0.7390324546231164\n",
      "\n"
     ]
    },
    {
     "data": {
      "text/plain": [
       "True"
      ]
     },
     "execution_count": 49,
     "metadata": {},
     "output_type": "execute_result"
    }
   ],
   "source": [
    "test('soc')"
   ]
  },
  {
   "cell_type": "markdown",
   "id": "8078e429-c150-4065-80de-1d27a91322fc",
   "metadata": {},
   "source": [
    "The CLR achieves significantly larger scores in the contrastiveness dimensions (edge, silhouette). In contrast, SupMMD's results show significantly larger values for representativeness and argumentativeness."
   ]
  },
  {
   "cell_type": "code",
   "execution_count": 14,
   "id": "f31c4b9f-f7d8-4dc8-b0f8-660140505a17",
   "metadata": {
    "execution": {
     "iopub.execute_input": "2021-12-07T10:01:37.460466Z",
     "iopub.status.busy": "2021-12-07T10:01:37.459453Z",
     "iopub.status.idle": "2021-12-07T10:01:39.004050Z",
     "shell.execute_reply": "2021-12-07T10:01:38.998027Z",
     "shell.execute_reply.started": "2021-12-07T10:01:37.460466Z"
    },
    "tags": []
   },
   "outputs": [
    {
     "data": {
      "text/plain": [
       "True"
      ]
     },
     "execution_count": 14,
     "metadata": {},
     "output_type": "execute_result"
    }
   ],
   "source": [
    "clr_data = DataHandler()\n",
    "clr_data.load_bin('C:/Users/Jonas/git/thesis/code/contra-lexrank/results/1632239915.4824035-3756-arguments-cleaned-test-w-excerpts.pickle')\n",
    "clr_data.validate()"
   ]
  },
  {
   "cell_type": "code",
   "execution_count": 15,
   "id": "0eb6a46d-8017-4ce1-9e2b-c27d2cf57831",
   "metadata": {
    "execution": {
     "iopub.execute_input": "2021-12-07T10:01:39.585608Z",
     "iopub.status.busy": "2021-12-07T10:01:39.584610Z",
     "iopub.status.idle": "2021-12-07T10:01:41.135165Z",
     "shell.execute_reply": "2021-12-07T10:01:41.134197Z",
     "shell.execute_reply.started": "2021-12-07T10:01:39.584610Z"
    },
    "tags": []
   },
   "outputs": [
    {
     "data": {
      "text/plain": [
       "True"
      ]
     },
     "execution_count": 15,
     "metadata": {},
     "output_type": "execute_result"
    }
   ],
   "source": [
    "with open('C:/Users/Jonas/git/thesis/code/mmd/results/GW Eval-test 2021-10-24/test-data-with-excerpts.pickle', 'rb') as f:\n",
    "    _args = pickle.load(f)\n",
    "supmmd_data = DataHandler(_args)\n",
    "supmmd_data.validate()"
   ]
  },
  {
   "cell_type": "code",
   "execution_count": 16,
   "id": "0305c7ad-f294-4a7f-af2a-4c43be80764e",
   "metadata": {
    "execution": {
     "iopub.execute_input": "2021-12-07T10:01:41.898480Z",
     "iopub.status.busy": "2021-12-07T10:01:41.898480Z",
     "iopub.status.idle": "2021-12-07T10:01:41.924507Z",
     "shell.execute_reply": "2021-12-07T10:01:41.916479Z",
     "shell.execute_reply.started": "2021-12-07T10:01:41.898480Z"
    },
    "tags": []
   },
   "outputs": [],
   "source": [
    "with open('C:/Users/Jonas/git/thesis/code/contra-lexrank/results/GW 2021-10-05 Test/arg_contexts.json', 'r') as file:\n",
    "    arg_contexts = json.load(file)"
   ]
  },
  {
   "cell_type": "code",
   "execution_count": 17,
   "id": "b6c40a55-b9dc-42d4-bb86-7ada43191b12",
   "metadata": {
    "execution": {
     "iopub.execute_input": "2021-12-07T10:01:42.999690Z",
     "iopub.status.busy": "2021-12-07T10:01:42.998690Z",
     "iopub.status.idle": "2021-12-07T10:01:43.448130Z",
     "shell.execute_reply": "2021-12-07T10:01:43.447271Z",
     "shell.execute_reply.started": "2021-12-07T10:01:42.999690Z"
    },
    "tags": []
   },
   "outputs": [],
   "source": [
    "clr_arg_contexts = {k: [] for k in DataHandler.get_query_context_keys(clr_data.get_arguments())}\n",
    "\n",
    "for k in clr_arg_contexts.keys():\n",
    "    clr_arg_contexts[k] = DataHandler.get_query_context(clr_data.get_arguments(), k)"
   ]
  },
  {
   "cell_type": "code",
   "execution_count": 18,
   "id": "6f04a046-0a0b-4f2a-b1a2-f0f86fe030c5",
   "metadata": {
    "execution": {
     "iopub.execute_input": "2021-12-07T10:01:43.734876Z",
     "iopub.status.busy": "2021-12-07T10:01:43.733878Z",
     "iopub.status.idle": "2021-12-07T10:01:44.247674Z",
     "shell.execute_reply": "2021-12-07T10:01:44.246864Z",
     "shell.execute_reply.started": "2021-12-07T10:01:43.734876Z"
    },
    "tags": []
   },
   "outputs": [],
   "source": [
    "supmmd_arg_contexts = {k: [] for k in DataHandler.get_query_context_keys(supmmd_data.get_arguments())}\n",
    "\n",
    "for k in supmmd_arg_contexts.keys():\n",
    "    supmmd_arg_contexts[k] = DataHandler.get_query_context(supmmd_data.get_arguments(), k)"
   ]
  },
  {
   "cell_type": "code",
   "execution_count": 19,
   "id": "041fc142-1332-4173-b436-c61e65d780c7",
   "metadata": {
    "execution": {
     "iopub.execute_input": "2021-12-07T10:01:44.725129Z",
     "iopub.status.busy": "2021-12-07T10:01:44.725129Z",
     "iopub.status.idle": "2021-12-07T10:01:44.798260Z",
     "shell.execute_reply": "2021-12-07T10:01:44.797394Z",
     "shell.execute_reply.started": "2021-12-07T10:01:44.725129Z"
    },
    "tags": []
   },
   "outputs": [],
   "source": [
    "records = list()\n",
    "for k in clr_arg_contexts.keys():\n",
    "    a = [len(b.sentences) for b in clr_arg_contexts[k]]\n",
    "    #print(a)\n",
    "    records.append({\n",
    "        'context': k,\n",
    "        'len': len(clr_arg_contexts[k]),\n",
    "        'arg_lengths': a,\n",
    "        'mean_arg_length':  np.mean(a),\n",
    "        'std_arg_length':  np.std(a),\n",
    "        'median_arg_length': np.median(a),\n",
    "        'max_arg_length': np.max(a),\n",
    "    })\n",
    "context_sizes = pd.DataFrame.from_records(records)"
   ]
  },
  {
   "cell_type": "code",
   "execution_count": 20,
   "id": "a9155755-d9c7-4932-b7e7-94dd7e659a73",
   "metadata": {
    "execution": {
     "iopub.execute_input": "2021-12-07T10:01:48.835241Z",
     "iopub.status.busy": "2021-12-07T10:01:48.835241Z",
     "iopub.status.idle": "2021-12-07T10:01:48.903421Z",
     "shell.execute_reply": "2021-12-07T10:01:48.902342Z",
     "shell.execute_reply.started": "2021-12-07T10:01:48.835241Z"
    },
    "tags": []
   },
   "outputs": [
    {
     "data": {
      "text/html": [
       "<div>\n",
       "<style scoped>\n",
       "    .dataframe tbody tr th:only-of-type {\n",
       "        vertical-align: middle;\n",
       "    }\n",
       "\n",
       "    .dataframe tbody tr th {\n",
       "        vertical-align: top;\n",
       "    }\n",
       "\n",
       "    .dataframe thead th {\n",
       "        text-align: right;\n",
       "    }\n",
       "</style>\n",
       "<table border=\"1\" class=\"dataframe\">\n",
       "  <thead>\n",
       "    <tr style=\"text-align: right;\">\n",
       "      <th></th>\n",
       "      <th>context</th>\n",
       "      <th>len</th>\n",
       "      <th>arg_lengths</th>\n",
       "      <th>mean_arg_length</th>\n",
       "      <th>std_arg_length</th>\n",
       "      <th>median_arg_length</th>\n",
       "      <th>max_arg_length</th>\n",
       "    </tr>\n",
       "  </thead>\n",
       "  <tbody>\n",
       "    <tr>\n",
       "      <th>264</th>\n",
       "      <td>veganism_is_healthy</td>\n",
       "      <td>3</td>\n",
       "      <td>[11, 14, 27]</td>\n",
       "      <td>17.333333</td>\n",
       "      <td>6.944222</td>\n",
       "      <td>14.0</td>\n",
       "      <td>27</td>\n",
       "    </tr>\n",
       "    <tr>\n",
       "      <th>151</th>\n",
       "      <td>radio</td>\n",
       "      <td>3</td>\n",
       "      <td>[5, 10, 15]</td>\n",
       "      <td>10.000000</td>\n",
       "      <td>4.082483</td>\n",
       "      <td>10.0</td>\n",
       "      <td>15</td>\n",
       "    </tr>\n",
       "    <tr>\n",
       "      <th>187</th>\n",
       "      <td>star_wars</td>\n",
       "      <td>3</td>\n",
       "      <td>[3, 14, 10]</td>\n",
       "      <td>9.000000</td>\n",
       "      <td>4.546061</td>\n",
       "      <td>10.0</td>\n",
       "      <td>14</td>\n",
       "    </tr>\n",
       "    <tr>\n",
       "      <th>81</th>\n",
       "      <td>nuclear_energy_should_be_banned</td>\n",
       "      <td>3</td>\n",
       "      <td>[73, 76, 82]</td>\n",
       "      <td>77.000000</td>\n",
       "      <td>3.741657</td>\n",
       "      <td>76.0</td>\n",
       "      <td>82</td>\n",
       "    </tr>\n",
       "    <tr>\n",
       "      <th>92</th>\n",
       "      <td>climate_change</td>\n",
       "      <td>3</td>\n",
       "      <td>[11, 35, 11]</td>\n",
       "      <td>19.000000</td>\n",
       "      <td>11.313708</td>\n",
       "      <td>11.0</td>\n",
       "      <td>35</td>\n",
       "    </tr>\n",
       "    <tr>\n",
       "      <th>418</th>\n",
       "      <td>arduino</td>\n",
       "      <td>3</td>\n",
       "      <td>[6, 8, 3]</td>\n",
       "      <td>5.666667</td>\n",
       "      <td>2.054805</td>\n",
       "      <td>6.0</td>\n",
       "      <td>8</td>\n",
       "    </tr>\n",
       "    <tr>\n",
       "      <th>374</th>\n",
       "      <td>transnational_governance</td>\n",
       "      <td>3</td>\n",
       "      <td>[14, 6, 7]</td>\n",
       "      <td>9.000000</td>\n",
       "      <td>3.559026</td>\n",
       "      <td>7.0</td>\n",
       "      <td>14</td>\n",
       "    </tr>\n",
       "    <tr>\n",
       "      <th>459</th>\n",
       "      <td>elon_musk</td>\n",
       "      <td>3</td>\n",
       "      <td>[6, 3, 8]</td>\n",
       "      <td>5.666667</td>\n",
       "      <td>2.054805</td>\n",
       "      <td>6.0</td>\n",
       "      <td>8</td>\n",
       "    </tr>\n",
       "    <tr>\n",
       "      <th>99</th>\n",
       "      <td>pokemon</td>\n",
       "      <td>3</td>\n",
       "      <td>[4, 9, 13]</td>\n",
       "      <td>8.666667</td>\n",
       "      <td>3.681787</td>\n",
       "      <td>9.0</td>\n",
       "      <td>13</td>\n",
       "    </tr>\n",
       "    <tr>\n",
       "      <th>271</th>\n",
       "      <td>heart</td>\n",
       "      <td>3</td>\n",
       "      <td>[10, 3, 4]</td>\n",
       "      <td>5.666667</td>\n",
       "      <td>3.091206</td>\n",
       "      <td>4.0</td>\n",
       "      <td>10</td>\n",
       "    </tr>\n",
       "    <tr>\n",
       "      <th>105</th>\n",
       "      <td>nuclear_power</td>\n",
       "      <td>3</td>\n",
       "      <td>[74, 43, 45]</td>\n",
       "      <td>54.000000</td>\n",
       "      <td>14.165686</td>\n",
       "      <td>45.0</td>\n",
       "      <td>74</td>\n",
       "    </tr>\n",
       "    <tr>\n",
       "      <th>141</th>\n",
       "      <td>merkel</td>\n",
       "      <td>3</td>\n",
       "      <td>[6, 4, 4]</td>\n",
       "      <td>4.666667</td>\n",
       "      <td>0.942809</td>\n",
       "      <td>4.0</td>\n",
       "      <td>6</td>\n",
       "    </tr>\n",
       "    <tr>\n",
       "      <th>207</th>\n",
       "      <td>charlie_watts_is_a_rolling_stone</td>\n",
       "      <td>3</td>\n",
       "      <td>[25, 10, 20]</td>\n",
       "      <td>18.333333</td>\n",
       "      <td>6.236096</td>\n",
       "      <td>20.0</td>\n",
       "      <td>25</td>\n",
       "    </tr>\n",
       "    <tr>\n",
       "      <th>412</th>\n",
       "      <td>religion</td>\n",
       "      <td>3</td>\n",
       "      <td>[4, 4, 4]</td>\n",
       "      <td>4.000000</td>\n",
       "      <td>0.000000</td>\n",
       "      <td>4.0</td>\n",
       "      <td>4</td>\n",
       "    </tr>\n",
       "    <tr>\n",
       "      <th>45</th>\n",
       "      <td>urbanization</td>\n",
       "      <td>3</td>\n",
       "      <td>[3, 9, 8]</td>\n",
       "      <td>6.666667</td>\n",
       "      <td>2.624669</td>\n",
       "      <td>8.0</td>\n",
       "      <td>9</td>\n",
       "    </tr>\n",
       "    <tr>\n",
       "      <th>200</th>\n",
       "      <td>law</td>\n",
       "      <td>3</td>\n",
       "      <td>[9, 7, 4]</td>\n",
       "      <td>6.666667</td>\n",
       "      <td>2.054805</td>\n",
       "      <td>7.0</td>\n",
       "      <td>9</td>\n",
       "    </tr>\n",
       "    <tr>\n",
       "      <th>2</th>\n",
       "      <td>should_hydraulic_fracturing_be_used</td>\n",
       "      <td>3</td>\n",
       "      <td>[3, 3, 34]</td>\n",
       "      <td>13.333333</td>\n",
       "      <td>14.613540</td>\n",
       "      <td>3.0</td>\n",
       "      <td>34</td>\n",
       "    </tr>\n",
       "    <tr>\n",
       "      <th>462</th>\n",
       "      <td>ludwig</td>\n",
       "      <td>3</td>\n",
       "      <td>[13, 37, 39]</td>\n",
       "      <td>29.666667</td>\n",
       "      <td>11.813363</td>\n",
       "      <td>37.0</td>\n",
       "      <td>39</td>\n",
       "    </tr>\n",
       "    <tr>\n",
       "      <th>353</th>\n",
       "      <td>black_lives</td>\n",
       "      <td>4</td>\n",
       "      <td>[23, 33, 5, 3]</td>\n",
       "      <td>16.000000</td>\n",
       "      <td>12.529964</td>\n",
       "      <td>14.0</td>\n",
       "      <td>33</td>\n",
       "    </tr>\n",
       "    <tr>\n",
       "      <th>322</th>\n",
       "      <td>refugees</td>\n",
       "      <td>4</td>\n",
       "      <td>[5, 6, 24, 4]</td>\n",
       "      <td>9.750000</td>\n",
       "      <td>8.257572</td>\n",
       "      <td>5.5</td>\n",
       "      <td>24</td>\n",
       "    </tr>\n",
       "  </tbody>\n",
       "</table>\n",
       "</div>"
      ],
      "text/plain": [
       "                                 context  len     arg_lengths  \\\n",
       "264                  veganism_is_healthy    3    [11, 14, 27]   \n",
       "151                                radio    3     [5, 10, 15]   \n",
       "187                            star_wars    3     [3, 14, 10]   \n",
       "81       nuclear_energy_should_be_banned    3    [73, 76, 82]   \n",
       "92                        climate_change    3    [11, 35, 11]   \n",
       "418                              arduino    3       [6, 8, 3]   \n",
       "374             transnational_governance    3      [14, 6, 7]   \n",
       "459                            elon_musk    3       [6, 3, 8]   \n",
       "99                               pokemon    3      [4, 9, 13]   \n",
       "271                                heart    3      [10, 3, 4]   \n",
       "105                        nuclear_power    3    [74, 43, 45]   \n",
       "141                               merkel    3       [6, 4, 4]   \n",
       "207     charlie_watts_is_a_rolling_stone    3    [25, 10, 20]   \n",
       "412                             religion    3       [4, 4, 4]   \n",
       "45                          urbanization    3       [3, 9, 8]   \n",
       "200                                  law    3       [9, 7, 4]   \n",
       "2    should_hydraulic_fracturing_be_used    3      [3, 3, 34]   \n",
       "462                               ludwig    3    [13, 37, 39]   \n",
       "353                          black_lives    4  [23, 33, 5, 3]   \n",
       "322                             refugees    4   [5, 6, 24, 4]   \n",
       "\n",
       "     mean_arg_length  std_arg_length  median_arg_length  max_arg_length  \n",
       "264        17.333333        6.944222               14.0              27  \n",
       "151        10.000000        4.082483               10.0              15  \n",
       "187         9.000000        4.546061               10.0              14  \n",
       "81         77.000000        3.741657               76.0              82  \n",
       "92         19.000000       11.313708               11.0              35  \n",
       "418         5.666667        2.054805                6.0               8  \n",
       "374         9.000000        3.559026                7.0              14  \n",
       "459         5.666667        2.054805                6.0               8  \n",
       "99          8.666667        3.681787                9.0              13  \n",
       "271         5.666667        3.091206                4.0              10  \n",
       "105        54.000000       14.165686               45.0              74  \n",
       "141         4.666667        0.942809                4.0               6  \n",
       "207        18.333333        6.236096               20.0              25  \n",
       "412         4.000000        0.000000                4.0               4  \n",
       "45          6.666667        2.624669                8.0               9  \n",
       "200         6.666667        2.054805                7.0               9  \n",
       "2          13.333333       14.613540                3.0              34  \n",
       "462        29.666667       11.813363               37.0              39  \n",
       "353        16.000000       12.529964               14.0              33  \n",
       "322         9.750000        8.257572                5.5              24  "
      ]
     },
     "execution_count": 20,
     "metadata": {},
     "output_type": "execute_result"
    }
   ],
   "source": [
    "context_sizes.sort_values(by=['len'], ascending=True)[:20]"
   ]
  },
  {
   "cell_type": "code",
   "execution_count": 21,
   "id": "b6917615-6feb-4d64-9ae8-21ead8a72d65",
   "metadata": {
    "execution": {
     "iopub.execute_input": "2021-12-07T10:01:51.334672Z",
     "iopub.status.busy": "2021-12-07T10:01:51.334672Z",
     "iopub.status.idle": "2021-12-07T10:01:51.399788Z",
     "shell.execute_reply": "2021-12-07T10:01:51.394799Z",
     "shell.execute_reply.started": "2021-12-07T10:01:51.334672Z"
    },
    "tags": []
   },
   "outputs": [
    {
     "data": {
      "text/html": [
       "<div>\n",
       "<style scoped>\n",
       "    .dataframe tbody tr th:only-of-type {\n",
       "        vertical-align: middle;\n",
       "    }\n",
       "\n",
       "    .dataframe tbody tr th {\n",
       "        vertical-align: top;\n",
       "    }\n",
       "\n",
       "    .dataframe thead th {\n",
       "        text-align: right;\n",
       "    }\n",
       "</style>\n",
       "<table border=\"1\" class=\"dataframe\">\n",
       "  <thead>\n",
       "    <tr style=\"text-align: right;\">\n",
       "      <th></th>\n",
       "      <th>context</th>\n",
       "      <th>len</th>\n",
       "      <th>arg_lengths</th>\n",
       "      <th>mean_arg_length</th>\n",
       "      <th>std_arg_length</th>\n",
       "      <th>median_arg_length</th>\n",
       "      <th>max_arg_length</th>\n",
       "    </tr>\n",
       "  </thead>\n",
       "  <tbody>\n",
       "    <tr>\n",
       "      <th>45</th>\n",
       "      <td>urbanization</td>\n",
       "      <td>3</td>\n",
       "      <td>[3, 9, 8]</td>\n",
       "      <td>6.666667</td>\n",
       "      <td>2.624669</td>\n",
       "      <td>8.0</td>\n",
       "      <td>9</td>\n",
       "    </tr>\n",
       "    <tr>\n",
       "      <th>418</th>\n",
       "      <td>arduino</td>\n",
       "      <td>3</td>\n",
       "      <td>[6, 8, 3]</td>\n",
       "      <td>5.666667</td>\n",
       "      <td>2.054805</td>\n",
       "      <td>6.0</td>\n",
       "      <td>8</td>\n",
       "    </tr>\n",
       "    <tr>\n",
       "      <th>412</th>\n",
       "      <td>religion</td>\n",
       "      <td>3</td>\n",
       "      <td>[4, 4, 4]</td>\n",
       "      <td>4.000000</td>\n",
       "      <td>0.000000</td>\n",
       "      <td>4.0</td>\n",
       "      <td>4</td>\n",
       "    </tr>\n",
       "    <tr>\n",
       "      <th>374</th>\n",
       "      <td>transnational_governance</td>\n",
       "      <td>3</td>\n",
       "      <td>[14, 6, 7]</td>\n",
       "      <td>9.000000</td>\n",
       "      <td>3.559026</td>\n",
       "      <td>7.0</td>\n",
       "      <td>14</td>\n",
       "    </tr>\n",
       "    <tr>\n",
       "      <th>271</th>\n",
       "      <td>heart</td>\n",
       "      <td>3</td>\n",
       "      <td>[10, 3, 4]</td>\n",
       "      <td>5.666667</td>\n",
       "      <td>3.091206</td>\n",
       "      <td>4.0</td>\n",
       "      <td>10</td>\n",
       "    </tr>\n",
       "    <tr>\n",
       "      <th>200</th>\n",
       "      <td>law</td>\n",
       "      <td>3</td>\n",
       "      <td>[9, 7, 4]</td>\n",
       "      <td>6.666667</td>\n",
       "      <td>2.054805</td>\n",
       "      <td>7.0</td>\n",
       "      <td>9</td>\n",
       "    </tr>\n",
       "    <tr>\n",
       "      <th>187</th>\n",
       "      <td>star_wars</td>\n",
       "      <td>3</td>\n",
       "      <td>[3, 14, 10]</td>\n",
       "      <td>9.000000</td>\n",
       "      <td>4.546061</td>\n",
       "      <td>10.0</td>\n",
       "      <td>14</td>\n",
       "    </tr>\n",
       "    <tr>\n",
       "      <th>459</th>\n",
       "      <td>elon_musk</td>\n",
       "      <td>3</td>\n",
       "      <td>[6, 3, 8]</td>\n",
       "      <td>5.666667</td>\n",
       "      <td>2.054805</td>\n",
       "      <td>6.0</td>\n",
       "      <td>8</td>\n",
       "    </tr>\n",
       "    <tr>\n",
       "      <th>151</th>\n",
       "      <td>radio</td>\n",
       "      <td>3</td>\n",
       "      <td>[5, 10, 15]</td>\n",
       "      <td>10.000000</td>\n",
       "      <td>4.082483</td>\n",
       "      <td>10.0</td>\n",
       "      <td>15</td>\n",
       "    </tr>\n",
       "    <tr>\n",
       "      <th>141</th>\n",
       "      <td>merkel</td>\n",
       "      <td>3</td>\n",
       "      <td>[6, 4, 4]</td>\n",
       "      <td>4.666667</td>\n",
       "      <td>0.942809</td>\n",
       "      <td>4.0</td>\n",
       "      <td>6</td>\n",
       "    </tr>\n",
       "    <tr>\n",
       "      <th>99</th>\n",
       "      <td>pokemon</td>\n",
       "      <td>3</td>\n",
       "      <td>[4, 9, 13]</td>\n",
       "      <td>8.666667</td>\n",
       "      <td>3.681787</td>\n",
       "      <td>9.0</td>\n",
       "      <td>13</td>\n",
       "    </tr>\n",
       "    <tr>\n",
       "      <th>166</th>\n",
       "      <td>russia_is_bad</td>\n",
       "      <td>4</td>\n",
       "      <td>[13, 3, 5, 6]</td>\n",
       "      <td>6.750000</td>\n",
       "      <td>3.766630</td>\n",
       "      <td>5.5</td>\n",
       "      <td>13</td>\n",
       "    </tr>\n",
       "    <tr>\n",
       "      <th>438</th>\n",
       "      <td>is_golf_a_sport</td>\n",
       "      <td>4</td>\n",
       "      <td>[7, 3, 6, 13]</td>\n",
       "      <td>7.250000</td>\n",
       "      <td>3.631460</td>\n",
       "      <td>6.5</td>\n",
       "      <td>13</td>\n",
       "    </tr>\n",
       "    <tr>\n",
       "      <th>331</th>\n",
       "      <td>corpus</td>\n",
       "      <td>4</td>\n",
       "      <td>[5, 6, 5, 10]</td>\n",
       "      <td>6.500000</td>\n",
       "      <td>2.061553</td>\n",
       "      <td>5.5</td>\n",
       "      <td>10</td>\n",
       "    </tr>\n",
       "    <tr>\n",
       "      <th>396</th>\n",
       "      <td>rick_and_morty</td>\n",
       "      <td>4</td>\n",
       "      <td>[5, 5, 7, 5]</td>\n",
       "      <td>5.500000</td>\n",
       "      <td>0.866025</td>\n",
       "      <td>5.0</td>\n",
       "      <td>7</td>\n",
       "    </tr>\n",
       "    <tr>\n",
       "      <th>217</th>\n",
       "      <td>trade_network</td>\n",
       "      <td>4</td>\n",
       "      <td>[6, 3, 6, 7]</td>\n",
       "      <td>5.500000</td>\n",
       "      <td>1.500000</td>\n",
       "      <td>6.0</td>\n",
       "      <td>7</td>\n",
       "    </tr>\n",
       "    <tr>\n",
       "      <th>171</th>\n",
       "      <td>sausage</td>\n",
       "      <td>5</td>\n",
       "      <td>[7, 12, 4, 6, 11]</td>\n",
       "      <td>8.000000</td>\n",
       "      <td>3.033150</td>\n",
       "      <td>7.0</td>\n",
       "      <td>12</td>\n",
       "    </tr>\n",
       "    <tr>\n",
       "      <th>224</th>\n",
       "      <td>rap-battle</td>\n",
       "      <td>5</td>\n",
       "      <td>[3, 7, 4, 10, 6]</td>\n",
       "      <td>6.000000</td>\n",
       "      <td>2.449490</td>\n",
       "      <td>6.0</td>\n",
       "      <td>10</td>\n",
       "    </tr>\n",
       "    <tr>\n",
       "      <th>321</th>\n",
       "      <td>he_very_rich_employ_expert_accountants_and_law...</td>\n",
       "      <td>5</td>\n",
       "      <td>[6, 5, 9, 3, 7]</td>\n",
       "      <td>6.000000</td>\n",
       "      <td>2.000000</td>\n",
       "      <td>6.0</td>\n",
       "      <td>9</td>\n",
       "    </tr>\n",
       "    <tr>\n",
       "      <th>329</th>\n",
       "      <td>royals</td>\n",
       "      <td>5</td>\n",
       "      <td>[5, 9, 13, 3, 3]</td>\n",
       "      <td>6.600000</td>\n",
       "      <td>3.878144</td>\n",
       "      <td>5.0</td>\n",
       "      <td>13</td>\n",
       "    </tr>\n",
       "    <tr>\n",
       "      <th>108</th>\n",
       "      <td>the_very_rich_employ_expert_accountants_and_la...</td>\n",
       "      <td>5</td>\n",
       "      <td>[5, 9, 3, 7, 6]</td>\n",
       "      <td>6.000000</td>\n",
       "      <td>2.000000</td>\n",
       "      <td>6.0</td>\n",
       "      <td>9</td>\n",
       "    </tr>\n",
       "    <tr>\n",
       "      <th>184</th>\n",
       "      <td>only_the_moderately_well-off_pay_inheritance_tax.</td>\n",
       "      <td>5</td>\n",
       "      <td>[3, 5, 6, 9, 7]</td>\n",
       "      <td>6.000000</td>\n",
       "      <td>2.000000</td>\n",
       "      <td>6.0</td>\n",
       "      <td>9</td>\n",
       "    </tr>\n",
       "  </tbody>\n",
       "</table>\n",
       "</div>"
      ],
      "text/plain": [
       "                                               context  len  \\\n",
       "45                                        urbanization    3   \n",
       "418                                            arduino    3   \n",
       "412                                           religion    3   \n",
       "374                           transnational_governance    3   \n",
       "271                                              heart    3   \n",
       "200                                                law    3   \n",
       "187                                          star_wars    3   \n",
       "459                                          elon_musk    3   \n",
       "151                                              radio    3   \n",
       "141                                             merkel    3   \n",
       "99                                             pokemon    3   \n",
       "166                                      russia_is_bad    4   \n",
       "438                                    is_golf_a_sport    4   \n",
       "331                                             corpus    4   \n",
       "396                                     rick_and_morty    4   \n",
       "217                                      trade_network    4   \n",
       "171                                            sausage    5   \n",
       "224                                         rap-battle    5   \n",
       "321  he_very_rich_employ_expert_accountants_and_law...    5   \n",
       "329                                             royals    5   \n",
       "108  the_very_rich_employ_expert_accountants_and_la...    5   \n",
       "184  only_the_moderately_well-off_pay_inheritance_tax.    5   \n",
       "\n",
       "           arg_lengths  mean_arg_length  std_arg_length  median_arg_length  \\\n",
       "45           [3, 9, 8]         6.666667        2.624669                8.0   \n",
       "418          [6, 8, 3]         5.666667        2.054805                6.0   \n",
       "412          [4, 4, 4]         4.000000        0.000000                4.0   \n",
       "374         [14, 6, 7]         9.000000        3.559026                7.0   \n",
       "271         [10, 3, 4]         5.666667        3.091206                4.0   \n",
       "200          [9, 7, 4]         6.666667        2.054805                7.0   \n",
       "187        [3, 14, 10]         9.000000        4.546061               10.0   \n",
       "459          [6, 3, 8]         5.666667        2.054805                6.0   \n",
       "151        [5, 10, 15]        10.000000        4.082483               10.0   \n",
       "141          [6, 4, 4]         4.666667        0.942809                4.0   \n",
       "99          [4, 9, 13]         8.666667        3.681787                9.0   \n",
       "166      [13, 3, 5, 6]         6.750000        3.766630                5.5   \n",
       "438      [7, 3, 6, 13]         7.250000        3.631460                6.5   \n",
       "331      [5, 6, 5, 10]         6.500000        2.061553                5.5   \n",
       "396       [5, 5, 7, 5]         5.500000        0.866025                5.0   \n",
       "217       [6, 3, 6, 7]         5.500000        1.500000                6.0   \n",
       "171  [7, 12, 4, 6, 11]         8.000000        3.033150                7.0   \n",
       "224   [3, 7, 4, 10, 6]         6.000000        2.449490                6.0   \n",
       "321    [6, 5, 9, 3, 7]         6.000000        2.000000                6.0   \n",
       "329   [5, 9, 13, 3, 3]         6.600000        3.878144                5.0   \n",
       "108    [5, 9, 3, 7, 6]         6.000000        2.000000                6.0   \n",
       "184    [3, 5, 6, 9, 7]         6.000000        2.000000                6.0   \n",
       "\n",
       "     max_arg_length  \n",
       "45                9  \n",
       "418               8  \n",
       "412               4  \n",
       "374              14  \n",
       "271              10  \n",
       "200               9  \n",
       "187              14  \n",
       "459               8  \n",
       "151              15  \n",
       "141               6  \n",
       "99               13  \n",
       "166              13  \n",
       "438              13  \n",
       "331              10  \n",
       "396               7  \n",
       "217               7  \n",
       "171              12  \n",
       "224              10  \n",
       "321               9  \n",
       "329              13  \n",
       "108               9  \n",
       "184               9  "
      ]
     },
     "execution_count": 21,
     "metadata": {},
     "output_type": "execute_result"
    }
   ],
   "source": [
    "context_sizes\\\n",
    "    [\\\n",
    "     (context_sizes.len <= 5) &\\\n",
    "     (context_sizes.max_arg_length <= 15)]\\\n",
    "    .sort_values(by=['len'], ascending=True)"
   ]
  },
  {
   "cell_type": "code",
   "execution_count": 22,
   "id": "56e9a4b9-4354-4a2a-9777-561aa9fd4f82",
   "metadata": {
    "execution": {
     "iopub.execute_input": "2021-12-07T10:02:01.622683Z",
     "iopub.status.busy": "2021-12-07T10:02:01.621564Z",
     "iopub.status.idle": "2021-12-07T10:02:01.633676Z",
     "shell.execute_reply": "2021-12-07T10:02:01.632676Z",
     "shell.execute_reply.started": "2021-12-07T10:02:01.622683Z"
    },
    "jupyter": {
     "source_hidden": true
    },
    "tags": []
   },
   "outputs": [],
   "source": [
    "def print_arg(arg, hl=None):\n",
    "    html_str = f'<p style=\"text-align:right\">{arg.arg_id}</p><div style=\"border: solid black 1px; padding-left: 5px\">'\n",
    "    for idx, s in enumerate(arg.sentences):\n",
    "        if hl is None:\n",
    "            html_str += f'<span style=\"color:grey\">{idx+1:02d} </span><span style=\"width:50%; background-color:{\"yellow\" if s in arg.snippet else \"white\"}\">{s}</span><br>'\n",
    "        else:\n",
    "            html_str += f'<span style=\"color:grey\">{idx+1:02d} </span><span style=\"width:50%; background-color:{\"yellow\" if idx in hl else \"white\"}\">{s}</span><br>'\n",
    "    #display_html(html_str+ '</div>', raw=True)\n",
    "    return html_str+ '</div>'\n",
    "    \n",
    "def print_context(context):\n",
    "    html_str = f\"\"\"<table><tr><th style=\"text-align: center;\">clr</th><th style=\"text-align: center;\">supmmd</th></tr>\"\"\"\n",
    "    sa = supmmd_arg_contexts[context]\n",
    "    ca = clr_arg_contexts[context]\n",
    "    \n",
    "    for a in sa:\n",
    "        x = [arg for arg in ca if arg.arg_id == a.arg_id][0]\n",
    "        html_str += f\"\"\"\n",
    "            <tr>\n",
    "                <td style=\"text-align: left;\">{print_arg(x, x.excerpt_indices)}</td>\n",
    "                <td style=\"text-align: left;\">{print_arg(a, a.excerpt_indices)}</td>\n",
    "            </tr\n",
    "        \"\"\"\n",
    "    display_html(html_str+'</table>', raw=True)"
   ]
  },
  {
   "cell_type": "code",
   "execution_count": 23,
   "id": "e261215c-10d2-42ce-8cb1-4197f6e8f569",
   "metadata": {
    "execution": {
     "iopub.execute_input": "2021-12-07T10:02:06.536309Z",
     "iopub.status.busy": "2021-12-07T10:02:06.535297Z",
     "iopub.status.idle": "2021-12-07T10:02:06.556298Z",
     "shell.execute_reply": "2021-12-07T10:02:06.555297Z",
     "shell.execute_reply.started": "2021-12-07T10:02:06.535297Z"
    },
    "tags": []
   },
   "outputs": [
    {
     "data": {
      "text/html": [
       "<table><tr><th style=\"text-align: center;\">clr</th><th style=\"text-align: center;\">supmmd</th></tr>\n",
       "            <tr>\n",
       "                <td style=\"text-align: left;\"><p style=\"text-align:right\">Sf0d01479-Abc2109c3</p><div style=\"border: solid black 1px; padding-left: 5px\"><span style=\"color:grey\">01 </span><span style=\"width:50%; background-color:white\">Greetings Internet, Before I address the issue of abortion you first must address and define life.</span><br><span style=\"color:grey\">02 </span><span style=\"width:50%; background-color:yellow\">Life:the quality that distinguishes a vital and functional being from a dead body.</span><br><span style=\"color:grey\">03 </span><span style=\"width:50%; background-color:white\">Being dead, lack of a heart beat.</span><br><span style=\"color:grey\">04 </span><span style=\"width:50%; background-color:yellow\">Six to eight weeks the child inside its mother has a heart beat.</span><br><span style=\"color:grey\">05 </span><span style=\"width:50%; background-color:white\">To extinguish the heart beat intentionally as in abortion should fall under the same category as murder both morally and judicially.</span><br><span style=\"color:grey\">06 </span><span style=\"width:50%; background-color:white\">A popular question the other side likes to discuss is What if the mother is raped Or Incest.</span><br><span style=\"color:grey\">07 </span><span style=\"width:50%; background-color:white\">Once that child has a heartbeat it should be aloud the same rights as an other US citizen.</span><br><span style=\"color:grey\">08 </span><span style=\"width:50%; background-color:white\">Is it not the child's fault the mother was raped?</span><br><span style=\"color:grey\">09 </span><span style=\"width:50%; background-color:white\">I am not by any means taking away from the horrible nature of a woman being raped.</span><br><span style=\"color:grey\">10 </span><span style=\"width:50%; background-color:white\">But by committing another violent act to cover up another will not take the rape away and will not close the mental wounds inflicted on the woman.</span><br></div></td>\n",
       "                <td style=\"text-align: left;\"><p style=\"text-align:right\">Sf0d01479-Abc2109c3</p><div style=\"border: solid black 1px; padding-left: 5px\"><span style=\"color:grey\">01 </span><span style=\"width:50%; background-color:white\">Greetings Internet, Before I address the issue of abortion you first must address and define life.</span><br><span style=\"color:grey\">02 </span><span style=\"width:50%; background-color:white\">Life:the quality that distinguishes a vital and functional being from a dead body.</span><br><span style=\"color:grey\">03 </span><span style=\"width:50%; background-color:white\">Being dead, lack of a heart beat.</span><br><span style=\"color:grey\">04 </span><span style=\"width:50%; background-color:yellow\">Six to eight weeks the child inside its mother has a heart beat.</span><br><span style=\"color:grey\">05 </span><span style=\"width:50%; background-color:white\">To extinguish the heart beat intentionally as in abortion should fall under the same category as murder both morally and judicially.</span><br><span style=\"color:grey\">06 </span><span style=\"width:50%; background-color:white\">A popular question the other side likes to discuss is What if the mother is raped Or Incest.</span><br><span style=\"color:grey\">07 </span><span style=\"width:50%; background-color:white\">Once that child has a heartbeat it should be aloud the same rights as an other US citizen.</span><br><span style=\"color:grey\">08 </span><span style=\"width:50%; background-color:white\">Is it not the child's fault the mother was raped?</span><br><span style=\"color:grey\">09 </span><span style=\"width:50%; background-color:white\">I am not by any means taking away from the horrible nature of a woman being raped.</span><br><span style=\"color:grey\">10 </span><span style=\"width:50%; background-color:yellow\">But by committing another violent act to cover up another will not take the rape away and will not close the mental wounds inflicted on the woman.</span><br></div></td>\n",
       "            </tr\n",
       "        \n",
       "            <tr>\n",
       "                <td style=\"text-align: left;\"><p style=\"text-align:right\">S27a82f4b-Ae4ab8095</p><div style=\"border: solid black 1px; padding-left: 5px\"><span style=\"color:grey\">01 </span><span style=\"width:50%; background-color:yellow\">They hurt really bad.</span><br><span style=\"color:grey\">02 </span><span style=\"width:50%; background-color:white\">I'm not sure what that blob of text you just wrote is.</span><br><span style=\"color:grey\">03 </span><span style=\"width:50%; background-color:yellow\">Heart attacks are bad and thats final.</span><br></div></td>\n",
       "                <td style=\"text-align: left;\"><p style=\"text-align:right\">S27a82f4b-Ae4ab8095</p><div style=\"border: solid black 1px; padding-left: 5px\"><span style=\"color:grey\">01 </span><span style=\"width:50%; background-color:yellow\">They hurt really bad.</span><br><span style=\"color:grey\">02 </span><span style=\"width:50%; background-color:yellow\">I'm not sure what that blob of text you just wrote is.</span><br><span style=\"color:grey\">03 </span><span style=\"width:50%; background-color:white\">Heart attacks are bad and thats final.</span><br></div></td>\n",
       "            </tr\n",
       "        \n",
       "            <tr>\n",
       "                <td style=\"text-align: left;\"><p style=\"text-align:right\">S27a82f4b-A5d84e874</p><div style=\"border: solid black 1px; padding-left: 5px\"><span style=\"color:grey\">01 </span><span style=\"width:50%; background-color:yellow\">I have shown that heart attacks are deadly.</span><br><span style=\"color:grey\">02 </span><span style=\"width:50%; background-color:yellow\">Maybe they don't always kill you but they are bad for you.</span><br><span style=\"color:grey\">03 </span><span style=\"width:50%; background-color:white\">Always.</span><br><span style=\"color:grey\">04 </span><span style=\"width:50%; background-color:white\">Also, it would be nice if Pro provided a source.</span><br></div></td>\n",
       "                <td style=\"text-align: left;\"><p style=\"text-align:right\">S27a82f4b-A5d84e874</p><div style=\"border: solid black 1px; padding-left: 5px\"><span style=\"color:grey\">01 </span><span style=\"width:50%; background-color:white\">I have shown that heart attacks are deadly.</span><br><span style=\"color:grey\">02 </span><span style=\"width:50%; background-color:yellow\">Maybe they don't always kill you but they are bad for you.</span><br><span style=\"color:grey\">03 </span><span style=\"width:50%; background-color:white\">Always.</span><br><span style=\"color:grey\">04 </span><span style=\"width:50%; background-color:yellow\">Also, it would be nice if Pro provided a source.</span><br></div></td>\n",
       "            </tr\n",
       "        </table>"
      ]
     },
     "metadata": {},
     "output_type": "display_data"
    }
   ],
   "source": [
    "print_context('heart')"
   ]
  },
  {
   "cell_type": "markdown",
   "id": "eda34a37-f220-4f32-8a9a-ee555322a6cc",
   "metadata": {},
   "source": [
    "How often do the approaches agree on the snippet?"
   ]
  },
  {
   "cell_type": "code",
   "execution_count": 24,
   "id": "ea75de70-09f6-4ac4-b413-7ccfdfb7dc31",
   "metadata": {
    "execution": {
     "iopub.execute_input": "2021-12-07T10:02:44.259796Z",
     "iopub.status.busy": "2021-12-07T10:02:44.259796Z",
     "iopub.status.idle": "2021-12-07T10:02:44.278414Z",
     "shell.execute_reply": "2021-12-07T10:02:44.277412Z",
     "shell.execute_reply.started": "2021-12-07T10:02:44.259796Z"
    },
    "tags": []
   },
   "outputs": [
    {
     "data": {
      "text/plain": [
       "3297"
      ]
     },
     "execution_count": 24,
     "metadata": {},
     "output_type": "execute_result"
    }
   ],
   "source": [
    "ids = set([a.arg_id for a in supmmd_data.get_arguments()])\n",
    "len(ids)"
   ]
  },
  {
   "cell_type": "code",
   "execution_count": 25,
   "id": "0618a376-4028-46c1-97a8-4ab64b061acd",
   "metadata": {
    "execution": {
     "iopub.execute_input": "2021-12-07T10:02:48.400589Z",
     "iopub.status.busy": "2021-12-07T10:02:48.399587Z",
     "iopub.status.idle": "2021-12-07T10:02:54.767879Z",
     "shell.execute_reply": "2021-12-07T10:02:54.766988Z",
     "shell.execute_reply.started": "2021-12-07T10:02:48.400589Z"
    },
    "tags": []
   },
   "outputs": [],
   "source": [
    "all_equal = list()\n",
    "any_equal = list()\n",
    "none_equal = list()\n",
    "for id in ids:\n",
    "    sm = [a for a in supmmd_data.get_arguments() if a.arg_id == id][0]\n",
    "    cm = [a for a in clr_data.get_arguments() if a.arg_id == id][0]\n",
    "    if (sm.excerpt_indices[0] == cm.excerpt_indices[0]) and (sm.excerpt_indices[1] == cm.excerpt_indices[1]):\n",
    "        all_equal.append(id)\n",
    "    elif (sm.excerpt_indices[0] == cm.excerpt_indices[0]) or (sm.excerpt_indices[1] == cm.excerpt_indices[1]):\n",
    "        any_equal.append(id)\n",
    "    else:\n",
    "        none_equal.append(id)"
   ]
  },
  {
   "cell_type": "code",
   "execution_count": 31,
   "id": "6138d1fd-d5b9-4914-8e5c-b18262d567d8",
   "metadata": {
    "execution": {
     "iopub.execute_input": "2021-12-07T10:04:49.411280Z",
     "iopub.status.busy": "2021-12-07T10:04:49.411280Z",
     "iopub.status.idle": "2021-12-07T10:04:49.427273Z",
     "shell.execute_reply": "2021-12-07T10:04:49.427273Z",
     "shell.execute_reply.started": "2021-12-07T10:04:49.411280Z"
    },
    "tags": []
   },
   "outputs": [
    {
     "data": {
      "text/plain": [
       "(76, 0.02305125872004853)"
      ]
     },
     "execution_count": 31,
     "metadata": {},
     "output_type": "execute_result"
    }
   ],
   "source": [
    "len(all_equal), len(all_equal)/len(ids)"
   ]
  },
  {
   "cell_type": "code",
   "execution_count": 32,
   "id": "12e42134-89cf-449f-aa72-ed9d2d64ccb4",
   "metadata": {
    "execution": {
     "iopub.execute_input": "2021-12-07T10:04:57.210808Z",
     "iopub.status.busy": "2021-12-07T10:04:57.210808Z",
     "iopub.status.idle": "2021-12-07T10:04:57.228808Z",
     "shell.execute_reply": "2021-12-07T10:04:57.221822Z",
     "shell.execute_reply.started": "2021-12-07T10:04:57.210808Z"
    },
    "tags": []
   },
   "outputs": [
    {
     "data": {
      "text/plain": [
       "(551, 0.16712162572035183)"
      ]
     },
     "execution_count": 32,
     "metadata": {},
     "output_type": "execute_result"
    }
   ],
   "source": [
    "len(any_equal), len(any_equal)/len(ids)"
   ]
  },
  {
   "cell_type": "code",
   "execution_count": 33,
   "id": "77c1941b-e1b8-4882-89b8-7efd198e853d",
   "metadata": {
    "execution": {
     "iopub.execute_input": "2021-12-07T10:05:06.144544Z",
     "iopub.status.busy": "2021-12-07T10:05:06.143547Z",
     "iopub.status.idle": "2021-12-07T10:05:06.162256Z",
     "shell.execute_reply": "2021-12-07T10:05:06.157547Z",
     "shell.execute_reply.started": "2021-12-07T10:05:06.144544Z"
    },
    "tags": []
   },
   "outputs": [
    {
     "data": {
      "text/plain": [
       "(2670, 0.8098271155595996)"
      ]
     },
     "execution_count": 33,
     "metadata": {},
     "output_type": "execute_result"
    }
   ],
   "source": [
    "len(none_equal), len(none_equal)/len(ids)"
   ]
  },
  {
   "cell_type": "code",
   "execution_count": 30,
   "id": "bf84bf3d-bcfc-4199-9bf5-446b280e1d32",
   "metadata": {
    "execution": {
     "iopub.execute_input": "2021-12-07T10:04:17.680535Z",
     "iopub.status.busy": "2021-12-07T10:04:17.680535Z",
     "iopub.status.idle": "2021-12-07T10:04:17.985473Z",
     "shell.execute_reply": "2021-12-07T10:04:17.984474Z",
     "shell.execute_reply.started": "2021-12-07T10:04:17.680535Z"
    },
    "tags": []
   },
   "outputs": [
    {
     "data": {
      "image/png": "[encoded data removed]",
      "text/plain": [
       "<Figure size 504x360 with 1 Axes>"
      ]
     },
     "metadata": {
      "needs_background": "light"
     },
     "output_type": "display_data"
    }
   ],
   "source": [
    "def addlabels(x,y):\n",
    "    for i in range(len(x)):\n",
    "        plt.text(i, y[i], y[i], ha = 'center')\n",
    "\n",
    "objects = ('all equal', 'any equal', 'none equal')\n",
    "y_pos = np.arange(len(objects))\n",
    "performance = [len(all_equal), len(any_equal), len(none_equal)]\n",
    "plt.figure(figsize=(7,5))\n",
    "plt.bar(y_pos, performance, align='center', alpha=1.)\n",
    "\n",
    "addlabels(objects, performance)\n",
    "plt.xticks(y_pos, objects)\n",
    "plt.ylabel('')\n",
    "plt.title('Number of times the approaches agree on all, any or none of the snippet sentences.')\n",
    "\n",
    "plt.show()"
   ]
  }
 ],
 "metadata": {
  "kernelspec": {
   "display_name": "thesis",
   "language": "python",
   "name": "thesis"
  },
  "language_info": {
   "codemirror_mode": {
    "name": "ipython",
    "version": 3
   },
   "file_extension": ".py",
   "mimetype": "text/x-python",
   "name": "python",
   "nbconvert_exporter": "python",
   "pygments_lexer": "ipython3",
   "version": "3.7.10"
  }
 },
 "nbformat": 4,
 "nbformat_minor": 5
}
