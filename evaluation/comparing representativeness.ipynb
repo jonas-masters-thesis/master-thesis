{
 "cells": [
  {
   "cell_type": "code",
   "execution_count": 9,
   "id": "46fa537c-15c9-44ab-89a1-21cac85b4845",
   "metadata": {
    "execution": {
     "iopub.execute_input": "2021-12-04T09:06:54.931560Z",
     "iopub.status.busy": "2021-12-04T09:06:54.931560Z",
     "iopub.status.idle": "2021-12-04T09:06:54.946903Z",
     "shell.execute_reply": "2021-12-04T09:06:54.944729Z",
     "shell.execute_reply.started": "2021-12-04T09:06:54.931560Z"
    },
    "tags": []
   },
   "outputs": [],
   "source": [
    "import pandas as pd\n",
    "import numpy as np\n",
    "import json\n",
    "import pickle\n",
    "from scipy.stats import pearsonr, spearmanr, kendalltau\n",
    "from scipy import stats\n",
    "import sys\n",
    "\n",
    "from matplotlib.image import NonUniformImage\n",
    "import matplotlib.pyplot as plt\n",
    "# https://numpy.org/doc/stable/reference/generated/numpy.histogram2d.html\n",
    "\n",
    "from IPython.display import display_html\n",
    "import sys\n",
    "\n",
    "from rouge_score import rouge_scorer\n",
    "from tqdm import tqdm"
   ]
  },
  {
   "cell_type": "code",
   "execution_count": 2,
   "id": "30efa34b-ba12-4042-bfe2-c78974539b7a",
   "metadata": {
    "execution": {
     "iopub.execute_input": "2021-12-04T08:56:54.366608Z",
     "iopub.status.busy": "2021-12-04T08:56:54.365608Z",
     "iopub.status.idle": "2021-12-04T08:57:04.934929Z",
     "shell.execute_reply": "2021-12-04T08:57:04.934000Z",
     "shell.execute_reply.started": "2021-12-04T08:56:54.366608Z"
    },
    "tags": []
   },
   "outputs": [],
   "source": [
    "shared_path = 'C:/Users/Jonas/git/thesis/code/shared'\n",
    "if shared_path not in sys.path:\n",
    "    sys.path.append(shared_path)\n",
    "\n",
    "mmd_path = 'C:/Users/Jonas/git/thesis/code/mmd'\n",
    "if mmd_path not in sys.path:\n",
    "    sys.path.append(mmd_path)\n",
    "\n",
    "from Argument import Argument\n",
    "from FeaturedArgument import FeaturedArgument\n",
    "from MMDBase import MMDBase\n",
    "from Inference import Inference\n",
    "from Trainer import Trainer\n",
    "from DataHandler import DataHandler"
   ]
  },
  {
   "cell_type": "markdown",
   "id": "f1d52889-5d79-4b6e-93ba-3a50507b7bac",
   "metadata": {},
   "source": [
    "# SupMMD"
   ]
  },
  {
   "cell_type": "code",
   "execution_count": 3,
   "id": "ce149e1f-10e1-42dd-ac8b-118c28e830a2",
   "metadata": {
    "execution": {
     "iopub.execute_input": "2021-12-04T08:59:11.661219Z",
     "iopub.status.busy": "2021-12-04T08:59:11.661219Z",
     "iopub.status.idle": "2021-12-04T08:59:11.672875Z",
     "shell.execute_reply": "2021-12-04T08:59:11.670876Z",
     "shell.execute_reply.started": "2021-12-04T08:59:11.661219Z"
    },
    "tags": []
   },
   "outputs": [],
   "source": [
    "MMD_PATH = '../mmd/results/GW Eval-test 2021-10-24/test-data-with-excerpts.pickle'"
   ]
  },
  {
   "cell_type": "code",
   "execution_count": 4,
   "id": "2bfa20b5-7d2d-4304-bece-1359de05a940",
   "metadata": {
    "execution": {
     "iopub.execute_input": "2021-12-04T08:59:53.263307Z",
     "iopub.status.busy": "2021-12-04T08:59:53.263307Z",
     "iopub.status.idle": "2021-12-04T08:59:55.097568Z",
     "shell.execute_reply": "2021-12-04T08:59:55.094630Z",
     "shell.execute_reply.started": "2021-12-04T08:59:53.263307Z"
    },
    "tags": []
   },
   "outputs": [],
   "source": [
    "with open(MMD_PATH, 'rb') as file:\n",
    "    data_mmd = pickle.load(file)"
   ]
  },
  {
   "cell_type": "code",
   "execution_count": 7,
   "id": "a943a750-268a-41c1-888e-2a4be3b4c131",
   "metadata": {
    "execution": {
     "iopub.execute_input": "2021-12-04T09:04:42.915038Z",
     "iopub.status.busy": "2021-12-04T09:04:42.913848Z",
     "iopub.status.idle": "2021-12-04T09:04:42.927049Z",
     "shell.execute_reply": "2021-12-04T09:04:42.926050Z",
     "shell.execute_reply.started": "2021-12-04T09:04:42.915038Z"
    },
    "tags": []
   },
   "outputs": [],
   "source": [
    "scorer = rouge_scorer.RougeScorer(['rouge1', 'rouge2', 'rougeL', 'rougeLsum'], use_stemmer=False)"
   ]
  },
  {
   "cell_type": "code",
   "execution_count": 10,
   "id": "8a2fcc07-b890-4653-a820-ab35554e4c8c",
   "metadata": {
    "execution": {
     "iopub.execute_input": "2021-12-04T09:07:05.827366Z",
     "iopub.status.busy": "2021-12-04T09:07:05.826630Z",
     "iopub.status.idle": "2021-12-04T09:09:58.814312Z",
     "shell.execute_reply": "2021-12-04T09:09:58.813302Z",
     "shell.execute_reply.started": "2021-12-04T09:07:05.826630Z"
    },
    "tags": []
   },
   "outputs": [
    {
     "name": "stderr",
     "output_type": "stream",
     "text": [
      "100%|██████████████████████████████████████████████████████████████████████████████| 3744/3744 [02:52<00:00, 21.65it/s]\n"
     ]
    }
   ],
   "source": [
    "data_mmd_rep = list()\n",
    "for fa in tqdm(data_mmd):\n",
    "    excerpt = ' '.join(fa.excerpt)\n",
    "    text = ' '.join(fa.sentences)\n",
    "    rouge = scorer.score(text, excerpt)\n",
    "    data_mmd_rep.append(rouge)"
   ]
  },
  {
   "cell_type": "code",
   "execution_count": 12,
   "id": "475ca458-d1e4-4109-9331-f3e696b75829",
   "metadata": {
    "execution": {
     "iopub.execute_input": "2021-12-04T09:15:28.615248Z",
     "iopub.status.busy": "2021-12-04T09:15:28.614696Z",
     "iopub.status.idle": "2021-12-04T09:15:28.619696Z",
     "shell.execute_reply": "2021-12-04T09:15:28.618693Z",
     "shell.execute_reply.started": "2021-12-04T09:15:28.615248Z"
    },
    "tags": []
   },
   "outputs": [],
   "source": [
    "n = len(data_mmd_rep)"
   ]
  },
  {
   "cell_type": "code",
   "execution_count": 13,
   "id": "84b9ce48-19e1-4d21-aa57-98535ceafa32",
   "metadata": {
    "execution": {
     "iopub.execute_input": "2021-12-04T09:16:16.611089Z",
     "iopub.status.busy": "2021-12-04T09:16:16.609042Z",
     "iopub.status.idle": "2021-12-04T09:16:16.650116Z",
     "shell.execute_reply": "2021-12-04T09:16:16.648076Z",
     "shell.execute_reply.started": "2021-12-04T09:16:16.611089Z"
    },
    "tags": []
   },
   "outputs": [],
   "source": [
    "r1_recall = sum([r['rouge1'].recall for r in data_mmd_rep])/n\n",
    "r2_recall = sum([r['rouge2'].recall for r in data_mmd_rep])/n\n",
    "rL_recall = sum([r['rougeL'].recall for r in data_mmd_rep])/n\n",
    "\n",
    "r1_fmeasure = sum([r['rouge1'].fmeasure for r in data_mmd_rep])/n\n",
    "r2_fmeasure = sum([r['rouge2'].fmeasure for r in data_mmd_rep])/n\n",
    "rL_fmeasure = sum([r['rougeL'].fmeasure for r in data_mmd_rep])/n"
   ]
  },
  {
   "cell_type": "code",
   "execution_count": 14,
   "id": "748c72fc-6607-45d4-a22d-84a872fccd7c",
   "metadata": {
    "execution": {
     "iopub.execute_input": "2021-12-04T09:16:29.500144Z",
     "iopub.status.busy": "2021-12-04T09:16:29.500144Z",
     "iopub.status.idle": "2021-12-04T09:16:29.515028Z",
     "shell.execute_reply": "2021-12-04T09:16:29.513952Z",
     "shell.execute_reply.started": "2021-12-04T09:16:29.500144Z"
    },
    "tags": []
   },
   "outputs": [
    {
     "data": {
      "text/plain": [
       "0.2802228818719131"
      ]
     },
     "execution_count": 14,
     "metadata": {},
     "output_type": "execute_result"
    }
   ],
   "source": [
    "r1_recall"
   ]
  },
  {
   "cell_type": "code",
   "execution_count": 15,
   "id": "7497e458-278f-4cda-b4e2-db2d31710c07",
   "metadata": {
    "execution": {
     "iopub.execute_input": "2021-12-04T09:16:42.612786Z",
     "iopub.status.busy": "2021-12-04T09:16:42.612786Z",
     "iopub.status.idle": "2021-12-04T09:16:42.623960Z",
     "shell.execute_reply": "2021-12-04T09:16:42.621960Z",
     "shell.execute_reply.started": "2021-12-04T09:16:42.612786Z"
    },
    "tags": []
   },
   "outputs": [
    {
     "data": {
      "text/plain": [
       "0.27169925785179283"
      ]
     },
     "execution_count": 15,
     "metadata": {},
     "output_type": "execute_result"
    }
   ],
   "source": [
    "r2_recall"
   ]
  },
  {
   "cell_type": "code",
   "execution_count": 16,
   "id": "1313e3cc-f374-4518-8fbe-bca087b475b0",
   "metadata": {
    "execution": {
     "iopub.execute_input": "2021-12-04T09:16:45.963317Z",
     "iopub.status.busy": "2021-12-04T09:16:45.960968Z",
     "iopub.status.idle": "2021-12-04T09:16:45.980754Z",
     "shell.execute_reply": "2021-12-04T09:16:45.979746Z",
     "shell.execute_reply.started": "2021-12-04T09:16:45.963317Z"
    },
    "tags": []
   },
   "outputs": [
    {
     "data": {
      "text/plain": [
       "0.23780356400666777"
      ]
     },
     "execution_count": 16,
     "metadata": {},
     "output_type": "execute_result"
    }
   ],
   "source": [
    "rL_recall"
   ]
  },
  {
   "cell_type": "code",
   "execution_count": 17,
   "id": "d3434b3a-b374-476a-8f2d-f9cb64c72485",
   "metadata": {
    "execution": {
     "iopub.execute_input": "2021-12-04T09:16:56.389547Z",
     "iopub.status.busy": "2021-12-04T09:16:56.388549Z",
     "iopub.status.idle": "2021-12-04T09:16:56.413583Z",
     "shell.execute_reply": "2021-12-04T09:16:56.411112Z",
     "shell.execute_reply.started": "2021-12-04T09:16:56.389547Z"
    },
    "tags": []
   },
   "outputs": [
    {
     "data": {
      "text/plain": [
       "0.3868338830293076"
      ]
     },
     "execution_count": 17,
     "metadata": {},
     "output_type": "execute_result"
    }
   ],
   "source": [
    "r1_fmeasure"
   ]
  },
  {
   "cell_type": "code",
   "execution_count": 18,
   "id": "8f5b0e5c-bd9d-418d-b3c4-b38011ba6243",
   "metadata": {
    "execution": {
     "iopub.execute_input": "2021-12-04T09:17:01.812829Z",
     "iopub.status.busy": "2021-12-04T09:17:01.812149Z",
     "iopub.status.idle": "2021-12-04T09:17:01.826660Z",
     "shell.execute_reply": "2021-12-04T09:17:01.824258Z",
     "shell.execute_reply.started": "2021-12-04T09:17:01.812149Z"
    },
    "tags": []
   },
   "outputs": [
    {
     "data": {
      "text/plain": [
       "0.375518742543417"
      ]
     },
     "execution_count": 18,
     "metadata": {},
     "output_type": "execute_result"
    }
   ],
   "source": [
    "r2_fmeasure"
   ]
  },
  {
   "cell_type": "code",
   "execution_count": 19,
   "id": "3deab2d6-fd43-4386-afb5-13b9ad40de4d",
   "metadata": {
    "execution": {
     "iopub.execute_input": "2021-12-04T09:17:05.541331Z",
     "iopub.status.busy": "2021-12-04T09:17:05.540190Z",
     "iopub.status.idle": "2021-12-04T09:17:05.558787Z",
     "shell.execute_reply": "2021-12-04T09:17:05.557759Z",
     "shell.execute_reply.started": "2021-12-04T09:17:05.541199Z"
    },
    "tags": []
   },
   "outputs": [
    {
     "data": {
      "text/plain": [
       "0.3280817270831581"
      ]
     },
     "execution_count": 19,
     "metadata": {},
     "output_type": "execute_result"
    }
   ],
   "source": [
    "rL_fmeasure"
   ]
  },
  {
   "cell_type": "markdown",
   "id": "a2004a23-6aff-47bb-9efe-dfd60b2514cf",
   "metadata": {},
   "source": [
    "# CLR"
   ]
  },
  {
   "cell_type": "code",
   "execution_count": 22,
   "id": "4314f745-e6fc-4245-b40a-b7871f421822",
   "metadata": {
    "execution": {
     "iopub.execute_input": "2021-12-04T09:23:24.928823Z",
     "iopub.status.busy": "2021-12-04T09:23:24.927812Z",
     "iopub.status.idle": "2021-12-04T09:23:24.942792Z",
     "shell.execute_reply": "2021-12-04T09:23:24.940685Z",
     "shell.execute_reply.started": "2021-12-04T09:23:24.928823Z"
    },
    "tags": []
   },
   "outputs": [],
   "source": [
    "CLR_PATH = '../contra-lexrank/results/GW 2021-10-05 Test/clr-test-predictions.json'"
   ]
  },
  {
   "cell_type": "code",
   "execution_count": 23,
   "id": "0605c614-3e8e-42a5-8e2e-78ef484e5ece",
   "metadata": {
    "execution": {
     "iopub.execute_input": "2021-12-04T09:23:26.172206Z",
     "iopub.status.busy": "2021-12-04T09:23:26.171380Z",
     "iopub.status.idle": "2021-12-04T09:23:26.398766Z",
     "shell.execute_reply": "2021-12-04T09:23:26.396523Z",
     "shell.execute_reply.started": "2021-12-04T09:23:26.172206Z"
    },
    "tags": []
   },
   "outputs": [],
   "source": [
    "with open(CLR_PATH, 'r') as file:\n",
    "    data_clr = json.load(file)"
   ]
  },
  {
   "cell_type": "code",
   "execution_count": 30,
   "id": "72c9bf63-dcba-4fef-aa0e-b0721cb9b43d",
   "metadata": {
    "execution": {
     "iopub.execute_input": "2021-12-04T09:27:13.571823Z",
     "iopub.status.busy": "2021-12-04T09:27:13.570824Z",
     "iopub.status.idle": "2021-12-04T09:29:05.155933Z",
     "shell.execute_reply": "2021-12-04T09:29:05.154498Z",
     "shell.execute_reply.started": "2021-12-04T09:27:13.570824Z"
    },
    "tags": []
   },
   "outputs": [
    {
     "name": "stderr",
     "output_type": "stream",
     "text": [
      "100%|██████████████████████████████████████████████████████████████████████████████| 3744/3744 [01:51<00:00, 33.56it/s]\n"
     ]
    }
   ],
   "source": [
    "data_clr_rep = list()\n",
    "for a in tqdm(data_clr):\n",
    "    excerpt = ' '.join(a['excerpt'])\n",
    "    text = ' '.join(a['sentences'])\n",
    "    rouge = scorer.score(text, excerpt)\n",
    "    data_clr_rep.append(rouge)"
   ]
  },
  {
   "cell_type": "code",
   "execution_count": 32,
   "id": "3df97046-194a-46a8-aa1b-51bba0f07687",
   "metadata": {
    "execution": {
     "iopub.execute_input": "2021-12-04T09:37:07.999904Z",
     "iopub.status.busy": "2021-12-04T09:37:07.999714Z",
     "iopub.status.idle": "2021-12-04T09:37:08.017590Z",
     "shell.execute_reply": "2021-12-04T09:37:08.016588Z",
     "shell.execute_reply.started": "2021-12-04T09:37:07.999904Z"
    },
    "tags": []
   },
   "outputs": [],
   "source": [
    "n_prime = len(data_clr_rep)"
   ]
  },
  {
   "cell_type": "code",
   "execution_count": 33,
   "id": "c338ba3d-bdd8-4316-8f82-5b641d7bdcd6",
   "metadata": {
    "execution": {
     "iopub.execute_input": "2021-12-04T09:37:09.071491Z",
     "iopub.status.busy": "2021-12-04T09:37:09.070096Z",
     "iopub.status.idle": "2021-12-04T09:37:09.095314Z",
     "shell.execute_reply": "2021-12-04T09:37:09.094351Z",
     "shell.execute_reply.started": "2021-12-04T09:37:09.071491Z"
    },
    "tags": []
   },
   "outputs": [],
   "source": [
    "clr_r1_recall = sum([r['rouge1'].recall for r in data_clr_rep])/n_prime\n",
    "clr_r2_recall = sum([r['rouge2'].recall for r in data_clr_rep])/n_prime\n",
    "clr_rL_recall = sum([r['rougeL'].recall for r in data_clr_rep])/n_prime\n",
    "\n",
    "clr_r1_fmeasure = sum([r['rouge1'].fmeasure for r in data_clr_rep])/n_prime\n",
    "clr_r2_fmeasure = sum([r['rouge2'].fmeasure for r in data_clr_rep])/n_prime\n",
    "clr_rL_fmeasure = sum([r['rougeL'].fmeasure for r in data_clr_rep])/n_prime"
   ]
  },
  {
   "cell_type": "code",
   "execution_count": 34,
   "id": "d560979a-2d69-4c6b-8921-a44ea18ee759",
   "metadata": {
    "execution": {
     "iopub.execute_input": "2021-12-04T09:37:10.123789Z",
     "iopub.status.busy": "2021-12-04T09:37:10.122669Z",
     "iopub.status.idle": "2021-12-04T09:37:10.148538Z",
     "shell.execute_reply": "2021-12-04T09:37:10.147540Z",
     "shell.execute_reply.started": "2021-12-04T09:37:10.123789Z"
    },
    "tags": []
   },
   "outputs": [
    {
     "data": {
      "text/plain": [
       "0.2126940591665541"
      ]
     },
     "execution_count": 34,
     "metadata": {},
     "output_type": "execute_result"
    }
   ],
   "source": [
    "clr_r1_recall"
   ]
  },
  {
   "cell_type": "code",
   "execution_count": 35,
   "id": "e0a80933-aac7-4e4d-a087-8944fccb2244",
   "metadata": {
    "execution": {
     "iopub.execute_input": "2021-12-04T09:37:10.834016Z",
     "iopub.status.busy": "2021-12-04T09:37:10.834016Z",
     "iopub.status.idle": "2021-12-04T09:37:10.850534Z",
     "shell.execute_reply": "2021-12-04T09:37:10.849245Z",
     "shell.execute_reply.started": "2021-12-04T09:37:10.834016Z"
    },
    "tags": []
   },
   "outputs": [
    {
     "data": {
      "text/plain": [
       "0.20485652896223877"
      ]
     },
     "execution_count": 35,
     "metadata": {},
     "output_type": "execute_result"
    }
   ],
   "source": [
    "clr_r2_recall"
   ]
  },
  {
   "cell_type": "code",
   "execution_count": 36,
   "id": "9efb40ec-ba38-4314-b0f4-54295e590340",
   "metadata": {
    "execution": {
     "iopub.execute_input": "2021-12-04T09:37:11.429453Z",
     "iopub.status.busy": "2021-12-04T09:37:11.429453Z",
     "iopub.status.idle": "2021-12-04T09:37:11.452952Z",
     "shell.execute_reply": "2021-12-04T09:37:11.450946Z",
     "shell.execute_reply.started": "2021-12-04T09:37:11.429453Z"
    },
    "tags": []
   },
   "outputs": [
    {
     "data": {
      "text/plain": [
       "0.2126940591665541"
      ]
     },
     "execution_count": 36,
     "metadata": {},
     "output_type": "execute_result"
    }
   ],
   "source": [
    "clr_rL_recall"
   ]
  },
  {
   "cell_type": "code",
   "execution_count": 37,
   "id": "b8866570-3ef4-48c9-a8bc-255cee2b6224",
   "metadata": {
    "execution": {
     "iopub.execute_input": "2021-12-04T09:37:12.032336Z",
     "iopub.status.busy": "2021-12-04T09:37:12.031067Z",
     "iopub.status.idle": "2021-12-04T09:37:12.048568Z",
     "shell.execute_reply": "2021-12-04T09:37:12.047463Z",
     "shell.execute_reply.started": "2021-12-04T09:37:12.032336Z"
    },
    "tags": []
   },
   "outputs": [
    {
     "data": {
      "text/plain": [
       "0.3037500285980203"
      ]
     },
     "execution_count": 37,
     "metadata": {},
     "output_type": "execute_result"
    }
   ],
   "source": [
    "clr_r1_fmeasure"
   ]
  },
  {
   "cell_type": "code",
   "execution_count": 38,
   "id": "081f15c7-62fe-4189-84b7-58271b74a881",
   "metadata": {
    "execution": {
     "iopub.execute_input": "2021-12-04T09:37:12.637994Z",
     "iopub.status.busy": "2021-12-04T09:37:12.636998Z",
     "iopub.status.idle": "2021-12-04T09:37:12.651690Z",
     "shell.execute_reply": "2021-12-04T09:37:12.649561Z",
     "shell.execute_reply.started": "2021-12-04T09:37:12.637994Z"
    },
    "tags": []
   },
   "outputs": [
    {
     "data": {
      "text/plain": [
       "0.2926785519638841"
      ]
     },
     "execution_count": 38,
     "metadata": {},
     "output_type": "execute_result"
    }
   ],
   "source": [
    "clr_r2_fmeasure"
   ]
  },
  {
   "cell_type": "code",
   "execution_count": 39,
   "id": "9d514e29-fee4-4a91-b1f8-f617cf8ae91d",
   "metadata": {
    "execution": {
     "iopub.execute_input": "2021-12-04T09:37:13.205718Z",
     "iopub.status.busy": "2021-12-04T09:37:13.205063Z",
     "iopub.status.idle": "2021-12-04T09:37:13.218708Z",
     "shell.execute_reply": "2021-12-04T09:37:13.216517Z",
     "shell.execute_reply.started": "2021-12-04T09:37:13.205718Z"
    },
    "tags": []
   },
   "outputs": [
    {
     "data": {
      "text/plain": [
       "0.3037500285980203"
      ]
     },
     "execution_count": 39,
     "metadata": {},
     "output_type": "execute_result"
    }
   ],
   "source": [
    "clr_rL_fmeasure"
   ]
  },
  {
   "cell_type": "markdown",
   "id": "27debfac-ce40-4da1-8104-5b7a2cc15207",
   "metadata": {},
   "source": [
    "# Generic"
   ]
  }
 ],
 "metadata": {
  "kernelspec": {
   "display_name": "thesis",
   "language": "python",
   "name": "thesis"
  },
  "language_info": {
   "codemirror_mode": {
    "name": "ipython",
    "version": 3
   },
   "file_extension": ".py",
   "mimetype": "text/x-python",
   "name": "python",
   "nbconvert_exporter": "python",
   "pygments_lexer": "ipython3",
   "version": "3.7.10"
  }
 },
 "nbformat": 4,
 "nbformat_minor": 5
}
