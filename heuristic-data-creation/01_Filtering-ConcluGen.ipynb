{
 "cells": [
  {
   "cell_type": "code",
   "execution_count": 133,
   "id": "767bcdf1",
   "metadata": {
    "execution": {
     "iopub.execute_input": "2021-08-12T14:08:38.186745Z",
     "iopub.status.busy": "2021-08-12T14:08:38.185747Z",
     "iopub.status.idle": "2021-08-12T14:08:38.195748Z",
     "shell.execute_reply": "2021-08-12T14:08:38.194748Z",
     "shell.execute_reply.started": "2021-08-12T14:08:38.186745Z"
    },
    "tags": []
   },
   "outputs": [],
   "source": [
    "import pandas as pd\n",
    "import numpy as np\n",
    "import json\n",
    "from tqdm import tqdm\n",
    "from nltk import sent_tokenize, word_tokenize\n",
    "from IPython.display import display\n",
    "import re\n",
    "from collections import Counter\n",
    "import hashlib"
   ]
  },
  {
   "cell_type": "markdown",
   "id": "2938f3c0-5d29-4aa6-b338-cdbe8c85a54b",
   "metadata": {},
   "source": [
    "\"Topic: An argumentative text's topic is a description of what it is about. For argumentative texts from debates, we use the associated debate title as the topic. For CMV posts, their titles are also their conclusions; here, topic information is considered missing (denoted as 'NA' token).\" [Syed.2020](https://webis.de/downloads/publications/papers/syed_2021a.pdf)"
   ]
  },
  {
   "cell_type": "code",
   "execution_count": 149,
   "id": "26b5965b",
   "metadata": {
    "execution": {
     "iopub.execute_input": "2021-08-12T14:21:35.532231Z",
     "iopub.status.busy": "2021-08-12T14:21:35.532231Z",
     "iopub.status.idle": "2021-08-12T14:21:35.552565Z",
     "shell.execute_reply": "2021-08-12T14:21:35.551801Z",
     "shell.execute_reply.started": "2021-08-12T14:21:35.532231Z"
    },
    "tags": []
   },
   "outputs": [],
   "source": [
    "def parse(name):\n",
    "    args = list()\n",
    "    with open(f'../../not-gitted/webis-conclugen-2021/topic/{name}.source', 'r', encoding='utf-8') as f:\n",
    "        sources = f.readlines()\n",
    "    with open(f'../../not-gitted/webis-conclugen-2021/topic/{name}.target', 'r', encoding='utf-8') as f:\n",
    "        targets = f.readlines()\n",
    "    hashes = set()\n",
    "    dup = list()\n",
    "    for source, target in tqdm(zip(sources, targets)):\n",
    "        _, topic, argument, __ = re.split('<\\|[A-Z]*\\|>', source)\n",
    "        h = hashlib.sha256((argument + target).encode()).hexdigest()\n",
    "        hashes.add(h)\n",
    "        if h in hashes:\n",
    "            dup.append(h)\n",
    "        args.append({\n",
    "            'premises': [{'text': argument}],\n",
    "            'conclusion': target,\n",
    "            'context': {'discussionTitle': topic},\n",
    "            'id': h\n",
    "        })\n",
    "    return args, set(dup)"
   ]
  },
  {
   "cell_type": "code",
   "execution_count": 150,
   "id": "b20be3bd",
   "metadata": {
    "execution": {
     "iopub.execute_input": "2021-08-12T14:21:36.682026Z",
     "iopub.status.busy": "2021-08-12T14:21:36.682026Z",
     "iopub.status.idle": "2021-08-12T14:21:39.090109Z",
     "shell.execute_reply": "2021-08-12T14:21:39.089100Z",
     "shell.execute_reply.started": "2021-08-12T14:21:36.682026Z"
    },
    "tags": []
   },
   "outputs": [
    {
     "name": "stderr",
     "output_type": "stream",
     "text": [
      "123538it [00:01, 67822.71it/s]\n",
      "1374it [00:00, 41621.94it/s]\n"
     ]
    }
   ],
   "source": [
    "d = list()\n",
    "d_train, dup_tr = parse('train')\n",
    "d_test, dup_te = parse('test')"
   ]
  },
  {
   "cell_type": "code",
   "execution_count": 151,
   "id": "351dd1d7",
   "metadata": {
    "execution": {
     "iopub.execute_input": "2021-08-12T14:21:39.092101Z",
     "iopub.status.busy": "2021-08-12T14:21:39.092101Z",
     "iopub.status.idle": "2021-08-12T14:21:39.118203Z",
     "shell.execute_reply": "2021-08-12T14:21:39.105128Z",
     "shell.execute_reply.started": "2021-08-12T14:21:39.092101Z"
    },
    "tags": []
   },
   "outputs": [
    {
     "data": {
      "text/plain": [
       "124912"
      ]
     },
     "execution_count": 151,
     "metadata": {},
     "output_type": "execute_result"
    }
   ],
   "source": [
    "d.extend(d_train)\n",
    "d.extend(d_test)\n",
    "len(d)"
   ]
  },
  {
   "cell_type": "markdown",
   "id": "32f72011",
   "metadata": {},
   "source": [
    "# Filter conclusions"
   ]
  },
  {
   "cell_type": "code",
   "execution_count": 153,
   "id": "722c185b",
   "metadata": {
    "execution": {
     "iopub.execute_input": "2021-08-12T14:21:41.975633Z",
     "iopub.status.busy": "2021-08-12T14:21:41.975633Z",
     "iopub.status.idle": "2021-08-12T14:21:41.997552Z",
     "shell.execute_reply": "2021-08-12T14:21:41.996527Z",
     "shell.execute_reply.started": "2021-08-12T14:21:41.975633Z"
    },
    "tags": []
   },
   "outputs": [],
   "source": [
    "def get_conclusions(arguments):\n",
    "    rows = list()\n",
    "    for argument in tqdm(arguments):\n",
    "        conclusion = argument['conclusion']\n",
    "        conc_len = len(word_tokenize(conclusion))\n",
    "        rows.append({'conclusion': conclusion, 'conc_len': conc_len})\n",
    "\n",
    "    rows = list({v['conclusion']: v for v in rows}.values())\n",
    "    args = pd.DataFrame.from_records(rows)\n",
    "    #args.to_csv('results/conclusions.csv', index\n",
    "    return args"
   ]
  },
  {
   "cell_type": "code",
   "execution_count": 154,
   "id": "8b12fbe3",
   "metadata": {
    "execution": {
     "iopub.execute_input": "2021-08-12T14:21:42.929653Z",
     "iopub.status.busy": "2021-08-12T14:21:42.928627Z",
     "iopub.status.idle": "2021-08-12T14:22:11.477081Z",
     "shell.execute_reply": "2021-08-12T14:22:11.476080Z",
     "shell.execute_reply.started": "2021-08-12T14:21:42.929653Z"
    },
    "tags": []
   },
   "outputs": [
    {
     "name": "stderr",
     "output_type": "stream",
     "text": [
      "100%|████████████████████████████████████████████████████████████████████████| 124912/124912 [00:28<00:00, 4418.31it/s]\n"
     ]
    },
    {
     "data": {
      "text/html": [
       "<div>\n",
       "<style scoped>\n",
       "    .dataframe tbody tr th:only-of-type {\n",
       "        vertical-align: middle;\n",
       "    }\n",
       "\n",
       "    .dataframe tbody tr th {\n",
       "        vertical-align: top;\n",
       "    }\n",
       "\n",
       "    .dataframe thead th {\n",
       "        text-align: right;\n",
       "    }\n",
       "</style>\n",
       "<table border=\"1\" class=\"dataframe\">\n",
       "  <thead>\n",
       "    <tr style=\"text-align: right;\">\n",
       "      <th></th>\n",
       "      <th>conclusion</th>\n",
       "      <th>conc_len</th>\n",
       "    </tr>\n",
       "  </thead>\n",
       "  <tbody>\n",
       "    <tr>\n",
       "      <th>0</th>\n",
       "      <td>It is unethical to expose children to the pres...</td>\n",
       "      <td>11</td>\n",
       "    </tr>\n",
       "    <tr>\n",
       "      <th>1</th>\n",
       "      <td>DACA Students should have zero financial aide ...</td>\n",
       "      <td>17</td>\n",
       "    </tr>\n",
       "    <tr>\n",
       "      <th>2</th>\n",
       "      <td>If you look like a man go to the men bathroom....</td>\n",
       "      <td>24</td>\n",
       "    </tr>\n",
       "    <tr>\n",
       "      <th>3</th>\n",
       "      <td>political subreddits should ban posts discoura...</td>\n",
       "      <td>7</td>\n",
       "    </tr>\n",
       "    <tr>\n",
       "      <th>4</th>\n",
       "      <td>In some EU countries, unemployment benefits ar...</td>\n",
       "      <td>20</td>\n",
       "    </tr>\n",
       "    <tr>\n",
       "      <th>...</th>\n",
       "      <td>...</td>\n",
       "      <td>...</td>\n",
       "    </tr>\n",
       "    <tr>\n",
       "      <th>98134</th>\n",
       "      <td>Left-wing Brits should vote to Remain in the EU\\n</td>\n",
       "      <td>9</td>\n",
       "    </tr>\n",
       "    <tr>\n",
       "      <th>98135</th>\n",
       "      <td>Internet anonymity enables citizens to exercis...</td>\n",
       "      <td>11</td>\n",
       "    </tr>\n",
       "    <tr>\n",
       "      <th>98136</th>\n",
       "      <td>Bran can become his own army by warging into a...</td>\n",
       "      <td>19</td>\n",
       "    </tr>\n",
       "    <tr>\n",
       "      <th>98137</th>\n",
       "      <td>Utilitarianism has no flaws\\n</td>\n",
       "      <td>4</td>\n",
       "    </tr>\n",
       "    <tr>\n",
       "      <th>98138</th>\n",
       "      <td>Betting should be illegal. I think it is uneth...</td>\n",
       "      <td>27</td>\n",
       "    </tr>\n",
       "  </tbody>\n",
       "</table>\n",
       "<p>98139 rows × 2 columns</p>\n",
       "</div>"
      ],
      "text/plain": [
       "                                              conclusion  conc_len\n",
       "0      It is unethical to expose children to the pres...        11\n",
       "1      DACA Students should have zero financial aide ...        17\n",
       "2      If you look like a man go to the men bathroom....        24\n",
       "3      political subreddits should ban posts discoura...         7\n",
       "4      In some EU countries, unemployment benefits ar...        20\n",
       "...                                                  ...       ...\n",
       "98134  Left-wing Brits should vote to Remain in the EU\\n         9\n",
       "98135  Internet anonymity enables citizens to exercis...        11\n",
       "98136  Bran can become his own army by warging into a...        19\n",
       "98137                      Utilitarianism has no flaws\\n         4\n",
       "98138  Betting should be illegal. I think it is uneth...        27\n",
       "\n",
       "[98139 rows x 2 columns]"
      ]
     },
     "execution_count": 154,
     "metadata": {},
     "output_type": "execute_result"
    }
   ],
   "source": [
    "conclusions = get_conclusions(d)\n",
    "conclusions"
   ]
  },
  {
   "cell_type": "markdown",
   "id": "ac8a9dca",
   "metadata": {},
   "source": [
    "__Filter conclusions that are have length above average+std__"
   ]
  },
  {
   "cell_type": "code",
   "execution_count": 158,
   "id": "d3c0d89e",
   "metadata": {
    "execution": {
     "iopub.execute_input": "2021-08-12T14:23:45.116573Z",
     "iopub.status.busy": "2021-08-12T14:23:45.116573Z",
     "iopub.status.idle": "2021-08-12T14:23:45.131561Z",
     "shell.execute_reply": "2021-08-12T14:23:45.129540Z",
     "shell.execute_reply.started": "2021-08-12T14:23:45.116573Z"
    },
    "tags": []
   },
   "outputs": [
    {
     "name": "stdout",
     "output_type": "stream",
     "text": [
      "mean = 18.218098819022\n",
      " std = 9.168070354484506\n"
     ]
    }
   ],
   "source": [
    "mean_length = np.mean(conclusions.conc_len.values)\n",
    "std_length = np.std(conclusions.conc_len.values)\n",
    "print(f'mean = {mean_length}\\n std = {std_length}')\n",
    "threshold = mean_length + std_length"
   ]
  },
  {
   "cell_type": "code",
   "execution_count": 159,
   "id": "8bac9b3a",
   "metadata": {
    "execution": {
     "iopub.execute_input": "2021-08-12T14:23:46.732648Z",
     "iopub.status.busy": "2021-08-12T14:23:46.732648Z",
     "iopub.status.idle": "2021-08-12T14:23:46.754639Z",
     "shell.execute_reply": "2021-08-12T14:23:46.753638Z",
     "shell.execute_reply.started": "2021-08-12T14:23:46.732648Z"
    },
    "tags": []
   },
   "outputs": [
    {
     "data": {
      "text/plain": [
       "27.386169173506506"
      ]
     },
     "execution_count": 159,
     "metadata": {},
     "output_type": "execute_result"
    }
   ],
   "source": [
    "mean_length + std_length"
   ]
  },
  {
   "cell_type": "code",
   "execution_count": 160,
   "id": "dc98cbe8",
   "metadata": {
    "execution": {
     "iopub.execute_input": "2021-08-12T14:23:47.506027Z",
     "iopub.status.busy": "2021-08-12T14:23:47.506027Z",
     "iopub.status.idle": "2021-08-12T14:23:47.550391Z",
     "shell.execute_reply": "2021-08-12T14:23:47.548442Z",
     "shell.execute_reply.started": "2021-08-12T14:23:47.506027Z"
    },
    "tags": []
   },
   "outputs": [
    {
     "data": {
      "text/html": [
       "<div>\n",
       "<style scoped>\n",
       "    .dataframe tbody tr th:only-of-type {\n",
       "        vertical-align: middle;\n",
       "    }\n",
       "\n",
       "    .dataframe tbody tr th {\n",
       "        vertical-align: top;\n",
       "    }\n",
       "\n",
       "    .dataframe thead th {\n",
       "        text-align: right;\n",
       "    }\n",
       "</style>\n",
       "<table border=\"1\" class=\"dataframe\">\n",
       "  <thead>\n",
       "    <tr style=\"text-align: right;\">\n",
       "      <th></th>\n",
       "      <th>conclusion</th>\n",
       "      <th>conc_len</th>\n",
       "    </tr>\n",
       "  </thead>\n",
       "  <tbody>\n",
       "    <tr>\n",
       "      <th>7</th>\n",
       "      <td>Just because women are fine with being asked o...</td>\n",
       "      <td>28</td>\n",
       "    </tr>\n",
       "    <tr>\n",
       "      <th>9</th>\n",
       "      <td>Gen-ed requirements in college, particularly i...</td>\n",
       "      <td>40</td>\n",
       "    </tr>\n",
       "    <tr>\n",
       "      <th>13</th>\n",
       "      <td>Not necessarily, if it were correctly framed a...</td>\n",
       "      <td>80</td>\n",
       "    </tr>\n",
       "    <tr>\n",
       "      <th>14</th>\n",
       "      <td>Imagine you had to build a Global Hawk with pi...</td>\n",
       "      <td>45</td>\n",
       "    </tr>\n",
       "    <tr>\n",
       "      <th>16</th>\n",
       "      <td>Not having a consistent definition of an objec...</td>\n",
       "      <td>35</td>\n",
       "    </tr>\n",
       "    <tr>\n",
       "      <th>...</th>\n",
       "      <td>...</td>\n",
       "      <td>...</td>\n",
       "    </tr>\n",
       "    <tr>\n",
       "      <th>98113</th>\n",
       "      <td>If teachers desire to bias students, they can ...</td>\n",
       "      <td>47</td>\n",
       "    </tr>\n",
       "    <tr>\n",
       "      <th>98116</th>\n",
       "      <td>Economic facts and conclusions of a legalisati...</td>\n",
       "      <td>29</td>\n",
       "    </tr>\n",
       "    <tr>\n",
       "      <th>98123</th>\n",
       "      <td>That is no reason to excuse lies such as £350,...</td>\n",
       "      <td>53</td>\n",
       "    </tr>\n",
       "    <tr>\n",
       "      <th>98124</th>\n",
       "      <td>Until the Middle Ages Church leaders were elec...</td>\n",
       "      <td>34</td>\n",
       "    </tr>\n",
       "    <tr>\n",
       "      <th>98132</th>\n",
       "      <td>When individuals face the real world, they wil...</td>\n",
       "      <td>28</td>\n",
       "    </tr>\n",
       "  </tbody>\n",
       "</table>\n",
       "<p>13167 rows × 2 columns</p>\n",
       "</div>"
      ],
      "text/plain": [
       "                                              conclusion  conc_len\n",
       "7      Just because women are fine with being asked o...        28\n",
       "9      Gen-ed requirements in college, particularly i...        40\n",
       "13     Not necessarily, if it were correctly framed a...        80\n",
       "14     Imagine you had to build a Global Hawk with pi...        45\n",
       "16     Not having a consistent definition of an objec...        35\n",
       "...                                                  ...       ...\n",
       "98113  If teachers desire to bias students, they can ...        47\n",
       "98116  Economic facts and conclusions of a legalisati...        29\n",
       "98123  That is no reason to excuse lies such as £350,...        53\n",
       "98124  Until the Middle Ages Church leaders were elec...        34\n",
       "98132  When individuals face the real world, they wil...        28\n",
       "\n",
       "[13167 rows x 2 columns]"
      ]
     },
     "execution_count": 160,
     "metadata": {},
     "output_type": "execute_result"
    }
   ],
   "source": [
    "filtered_conclusions = conclusions[conclusions.conc_len>=threshold]\n",
    "filtered_conclusions"
   ]
  },
  {
   "cell_type": "markdown",
   "id": "dbb479b8",
   "metadata": {},
   "source": [
    "__Conclusions are not questions__ [Eggs 2000](file:///C:/Users/Jonas/OneDrive/Library/ca/Text-%20und%20Gespr%C3%A4chslinguistik%20Ein%20internationales%20Handbuch%20zeitgen%C3%B6ssischer%20Forschung,%20Band%201%20Linguistics%20of%20Text%20and%20Conversation%20An%20International%20Handbook%20of%20Contemporary%20Research%20by%20Klaus%20Brinker,%20(z-lib.org).pdf) (p.397 ff.)"
   ]
  },
  {
   "cell_type": "markdown",
   "id": "7ddab101",
   "metadata": {},
   "source": [
    "Questions are introduced by:"
   ]
  },
  {
   "cell_type": "code",
   "execution_count": 161,
   "id": "a68bcb8b",
   "metadata": {
    "execution": {
     "iopub.execute_input": "2021-08-12T14:23:49.792384Z",
     "iopub.status.busy": "2021-08-12T14:23:49.791384Z",
     "iopub.status.idle": "2021-08-12T14:23:49.815401Z",
     "shell.execute_reply": "2021-08-12T14:23:49.806399Z",
     "shell.execute_reply.started": "2021-08-12T14:23:49.792384Z"
    },
    "tags": []
   },
   "outputs": [],
   "source": [
    "question_marker = ('who', 'where', 'what', 'how', 'which', 'why', 'is', 'are', 'do', 'does', 'did', 'was', 'were')"
   ]
  },
  {
   "cell_type": "code",
   "execution_count": 162,
   "id": "a0fd67b6",
   "metadata": {
    "execution": {
     "iopub.execute_input": "2021-08-12T14:23:50.518750Z",
     "iopub.status.busy": "2021-08-12T14:23:50.518750Z",
     "iopub.status.idle": "2021-08-12T14:23:54.012616Z",
     "shell.execute_reply": "2021-08-12T14:23:54.004581Z",
     "shell.execute_reply.started": "2021-08-12T14:23:50.518750Z"
    },
    "tags": []
   },
   "outputs": [
    {
     "data": {
      "text/html": [
       "<div>\n",
       "<style scoped>\n",
       "    .dataframe tbody tr th:only-of-type {\n",
       "        vertical-align: middle;\n",
       "    }\n",
       "\n",
       "    .dataframe tbody tr th {\n",
       "        vertical-align: top;\n",
       "    }\n",
       "\n",
       "    .dataframe thead th {\n",
       "        text-align: right;\n",
       "    }\n",
       "</style>\n",
       "<table border=\"1\" class=\"dataframe\">\n",
       "  <thead>\n",
       "    <tr style=\"text-align: right;\">\n",
       "      <th></th>\n",
       "      <th>conclusion</th>\n",
       "      <th>conc_len</th>\n",
       "    </tr>\n",
       "  </thead>\n",
       "  <tbody>\n",
       "    <tr>\n",
       "      <th>7</th>\n",
       "      <td>Just because women are fine with being asked o...</td>\n",
       "      <td>28</td>\n",
       "    </tr>\n",
       "    <tr>\n",
       "      <th>9</th>\n",
       "      <td>Gen-ed requirements in college, particularly i...</td>\n",
       "      <td>40</td>\n",
       "    </tr>\n",
       "    <tr>\n",
       "      <th>13</th>\n",
       "      <td>Not necessarily, if it were correctly framed a...</td>\n",
       "      <td>80</td>\n",
       "    </tr>\n",
       "    <tr>\n",
       "      <th>14</th>\n",
       "      <td>Imagine you had to build a Global Hawk with pi...</td>\n",
       "      <td>45</td>\n",
       "    </tr>\n",
       "    <tr>\n",
       "      <th>16</th>\n",
       "      <td>Not having a consistent definition of an objec...</td>\n",
       "      <td>35</td>\n",
       "    </tr>\n",
       "    <tr>\n",
       "      <th>...</th>\n",
       "      <td>...</td>\n",
       "      <td>...</td>\n",
       "    </tr>\n",
       "    <tr>\n",
       "      <th>98113</th>\n",
       "      <td>If teachers desire to bias students, they can ...</td>\n",
       "      <td>47</td>\n",
       "    </tr>\n",
       "    <tr>\n",
       "      <th>98116</th>\n",
       "      <td>Economic facts and conclusions of a legalisati...</td>\n",
       "      <td>29</td>\n",
       "    </tr>\n",
       "    <tr>\n",
       "      <th>98123</th>\n",
       "      <td>That is no reason to excuse lies such as £350,...</td>\n",
       "      <td>53</td>\n",
       "    </tr>\n",
       "    <tr>\n",
       "      <th>98124</th>\n",
       "      <td>Until the Middle Ages Church leaders were elec...</td>\n",
       "      <td>34</td>\n",
       "    </tr>\n",
       "    <tr>\n",
       "      <th>98132</th>\n",
       "      <td>When individuals face the real world, they wil...</td>\n",
       "      <td>28</td>\n",
       "    </tr>\n",
       "  </tbody>\n",
       "</table>\n",
       "<p>13124 rows × 2 columns</p>\n",
       "</div>"
      ],
      "text/plain": [
       "                                              conclusion  conc_len\n",
       "7      Just because women are fine with being asked o...        28\n",
       "9      Gen-ed requirements in college, particularly i...        40\n",
       "13     Not necessarily, if it were correctly framed a...        80\n",
       "14     Imagine you had to build a Global Hawk with pi...        45\n",
       "16     Not having a consistent definition of an objec...        35\n",
       "...                                                  ...       ...\n",
       "98113  If teachers desire to bias students, they can ...        47\n",
       "98116  Economic facts and conclusions of a legalisati...        29\n",
       "98123  That is no reason to excuse lies such as £350,...        53\n",
       "98124  Until the Middle Ages Church leaders were elec...        34\n",
       "98132  When individuals face the real world, they wil...        28\n",
       "\n",
       "[13124 rows x 2 columns]"
      ]
     },
     "execution_count": 162,
     "metadata": {},
     "output_type": "execute_result"
    }
   ],
   "source": [
    "filtered_conclusions = filtered_conclusions[filtered_conclusions.conclusion.apply(lambda c: word_tokenize(c)[0].lower() not in question_marker)]\n",
    "filtered_conclusions"
   ]
  },
  {
   "cell_type": "code",
   "execution_count": 163,
   "id": "03dee35b",
   "metadata": {
    "execution": {
     "iopub.execute_input": "2021-08-12T14:23:54.018573Z",
     "iopub.status.busy": "2021-08-12T14:23:54.017562Z",
     "iopub.status.idle": "2021-08-12T14:23:54.070575Z",
     "shell.execute_reply": "2021-08-12T14:23:54.068620Z",
     "shell.execute_reply.started": "2021-08-12T14:23:54.018573Z"
    },
    "tags": []
   },
   "outputs": [
    {
     "data": {
      "text/html": [
       "<div>\n",
       "<style scoped>\n",
       "    .dataframe tbody tr th:only-of-type {\n",
       "        vertical-align: middle;\n",
       "    }\n",
       "\n",
       "    .dataframe tbody tr th {\n",
       "        vertical-align: top;\n",
       "    }\n",
       "\n",
       "    .dataframe thead th {\n",
       "        text-align: right;\n",
       "    }\n",
       "</style>\n",
       "<table border=\"1\" class=\"dataframe\">\n",
       "  <thead>\n",
       "    <tr style=\"text-align: right;\">\n",
       "      <th></th>\n",
       "      <th>conc_len</th>\n",
       "    </tr>\n",
       "  </thead>\n",
       "  <tbody>\n",
       "    <tr>\n",
       "      <th>count</th>\n",
       "      <td>13124.000000</td>\n",
       "    </tr>\n",
       "    <tr>\n",
       "      <th>mean</th>\n",
       "      <td>35.827568</td>\n",
       "    </tr>\n",
       "    <tr>\n",
       "      <th>std</th>\n",
       "      <td>8.568806</td>\n",
       "    </tr>\n",
       "    <tr>\n",
       "      <th>min</th>\n",
       "      <td>28.000000</td>\n",
       "    </tr>\n",
       "    <tr>\n",
       "      <th>25%</th>\n",
       "      <td>30.000000</td>\n",
       "    </tr>\n",
       "    <tr>\n",
       "      <th>50%</th>\n",
       "      <td>33.000000</td>\n",
       "    </tr>\n",
       "    <tr>\n",
       "      <th>75%</th>\n",
       "      <td>39.000000</td>\n",
       "    </tr>\n",
       "    <tr>\n",
       "      <th>max</th>\n",
       "      <td>236.000000</td>\n",
       "    </tr>\n",
       "  </tbody>\n",
       "</table>\n",
       "</div>"
      ],
      "text/plain": [
       "           conc_len\n",
       "count  13124.000000\n",
       "mean      35.827568\n",
       "std        8.568806\n",
       "min       28.000000\n",
       "25%       30.000000\n",
       "50%       33.000000\n",
       "75%       39.000000\n",
       "max      236.000000"
      ]
     },
     "execution_count": 163,
     "metadata": {},
     "output_type": "execute_result"
    }
   ],
   "source": [
    "filtered_conclusions.describe()"
   ]
  },
  {
   "cell_type": "code",
   "execution_count": 164,
   "id": "6b51cf24",
   "metadata": {
    "execution": {
     "iopub.execute_input": "2021-08-12T14:23:54.086581Z",
     "iopub.status.busy": "2021-08-12T14:23:54.081586Z",
     "iopub.status.idle": "2021-08-12T14:23:54.101564Z",
     "shell.execute_reply": "2021-08-12T14:23:54.099597Z",
     "shell.execute_reply.started": "2021-08-12T14:23:54.086581Z"
    },
    "tags": []
   },
   "outputs": [],
   "source": [
    "conclusions_we_want = set(filtered_conclusions.conclusion.values)"
   ]
  },
  {
   "cell_type": "code",
   "execution_count": 165,
   "id": "2359ddce",
   "metadata": {
    "execution": {
     "iopub.execute_input": "2021-08-12T14:23:54.157914Z",
     "iopub.status.busy": "2021-08-12T14:23:54.156893Z",
     "iopub.status.idle": "2021-08-12T14:23:54.181898Z",
     "shell.execute_reply": "2021-08-12T14:23:54.177996Z",
     "shell.execute_reply.started": "2021-08-12T14:23:54.157914Z"
    },
    "tags": []
   },
   "outputs": [
    {
     "data": {
      "text/plain": [
       "13124"
      ]
     },
     "execution_count": 165,
     "metadata": {},
     "output_type": "execute_result"
    }
   ],
   "source": [
    "len(conclusions_we_want)"
   ]
  },
  {
   "cell_type": "markdown",
   "id": "42e0566e",
   "metadata": {},
   "source": [
    "# Filter sentences"
   ]
  },
  {
   "cell_type": "code",
   "execution_count": 166,
   "id": "675b71e7",
   "metadata": {
    "execution": {
     "iopub.execute_input": "2021-08-12T14:23:57.562443Z",
     "iopub.status.busy": "2021-08-12T14:23:57.562443Z",
     "iopub.status.idle": "2021-08-12T14:24:38.233926Z",
     "shell.execute_reply": "2021-08-12T14:24:38.225949Z",
     "shell.execute_reply.started": "2021-08-12T14:23:57.562443Z"
    },
    "tags": []
   },
   "outputs": [
    {
     "name": "stderr",
     "output_type": "stream",
     "text": [
      "100%|████████████████████████████████████████████████████████████████████████| 124912/124912 [00:40<00:00, 3072.83it/s]\n"
     ]
    }
   ],
   "source": [
    "for argument in tqdm(d):\n",
    "    sentences = sent_tokenize(argument['premises'][0]['text'])\n",
    "    argument['premises'][0]['sentences'] = sentences"
   ]
  },
  {
   "cell_type": "code",
   "execution_count": 167,
   "id": "b3640ad6",
   "metadata": {
    "execution": {
     "iopub.execute_input": "2021-08-12T14:24:38.239911Z",
     "iopub.status.busy": "2021-08-12T14:24:38.238928Z",
     "iopub.status.idle": "2021-08-12T14:24:38.257921Z",
     "shell.execute_reply": "2021-08-12T14:24:38.256100Z",
     "shell.execute_reply.started": "2021-08-12T14:24:38.239911Z"
    },
    "tags": []
   },
   "outputs": [],
   "source": [
    "def keep(arg):\n",
    "    \"\"\"\n",
    "    Check whether text contains any letters. Returns true if so.\n",
    "    \"\"\"\n",
    "    return any(c.isalpha() for c in arg['premises'][0]['text'])"
   ]
  },
  {
   "cell_type": "code",
   "execution_count": 168,
   "id": "4fc4e42c",
   "metadata": {
    "execution": {
     "iopub.execute_input": "2021-08-12T14:24:38.273932Z",
     "iopub.status.busy": "2021-08-12T14:24:38.269930Z",
     "iopub.status.idle": "2021-08-12T14:24:38.603573Z",
     "shell.execute_reply": "2021-08-12T14:24:38.602570Z",
     "shell.execute_reply.started": "2021-08-12T14:24:38.272957Z"
    },
    "tags": []
   },
   "outputs": [
    {
     "name": "stderr",
     "output_type": "stream",
     "text": [
      "100%|██████████████████████████████████████████████████████████████████████| 124912/124912 [00:00<00:00, 428220.94it/s]\n"
     ]
    }
   ],
   "source": [
    "filtered_arguments = list()\n",
    "for argument in tqdm(d):\n",
    "    if len(argument['premises'][0]['sentences']) > 2 and keep(argument):\n",
    "        filtered_arguments.append(argument['id'])"
   ]
  },
  {
   "cell_type": "code",
   "execution_count": 169,
   "id": "e5b0cb52",
   "metadata": {
    "execution": {
     "iopub.execute_input": "2021-08-12T14:25:27.863525Z",
     "iopub.status.busy": "2021-08-12T14:25:27.862539Z",
     "iopub.status.idle": "2021-08-12T14:25:27.881529Z",
     "shell.execute_reply": "2021-08-12T14:25:27.879542Z",
     "shell.execute_reply.started": "2021-08-12T14:25:27.863525Z"
    },
    "tags": []
   },
   "outputs": [],
   "source": [
    "arguments_we_want = set(filtered_arguments)"
   ]
  },
  {
   "cell_type": "code",
   "execution_count": 170,
   "id": "6c4d45b6",
   "metadata": {
    "execution": {
     "iopub.execute_input": "2021-08-12T14:25:28.553463Z",
     "iopub.status.busy": "2021-08-12T14:25:28.552463Z",
     "iopub.status.idle": "2021-08-12T14:25:28.575651Z",
     "shell.execute_reply": "2021-08-12T14:25:28.568649Z",
     "shell.execute_reply.started": "2021-08-12T14:25:28.552463Z"
    },
    "tags": []
   },
   "outputs": [
    {
     "data": {
      "text/plain": [
       "69110"
      ]
     },
     "execution_count": 170,
     "metadata": {},
     "output_type": "execute_result"
    }
   ],
   "source": [
    "len(arguments_we_want)"
   ]
  },
  {
   "cell_type": "markdown",
   "id": "12793e5e",
   "metadata": {},
   "source": [
    "# Filter dataset"
   ]
  },
  {
   "cell_type": "code",
   "execution_count": 171,
   "id": "22939150",
   "metadata": {
    "execution": {
     "iopub.execute_input": "2021-08-12T14:25:29.927867Z",
     "iopub.status.busy": "2021-08-12T14:25:29.927867Z",
     "iopub.status.idle": "2021-08-12T14:25:30.137864Z",
     "shell.execute_reply": "2021-08-12T14:25:30.136863Z",
     "shell.execute_reply.started": "2021-08-12T14:25:29.927867Z"
    },
    "tags": []
   },
   "outputs": [
    {
     "name": "stderr",
     "output_type": "stream",
     "text": [
      "100%|██████████████████████████████████████████████████████████████████████| 124912/124912 [00:00<00:00, 821816.81it/s]\n"
     ]
    }
   ],
   "source": [
    "filtered_d = list()\n",
    "for argument in tqdm(d):\n",
    "    if argument['conclusion'] in conclusions_we_want and argument['id'] in arguments_we_want:\n",
    "        filtered_d.append(argument)"
   ]
  },
  {
   "cell_type": "code",
   "execution_count": 172,
   "id": "924d2383",
   "metadata": {
    "execution": {
     "iopub.execute_input": "2021-08-12T14:25:39.218664Z",
     "iopub.status.busy": "2021-08-12T14:25:39.217693Z",
     "iopub.status.idle": "2021-08-12T14:25:39.232681Z",
     "shell.execute_reply": "2021-08-12T14:25:39.226674Z",
     "shell.execute_reply.started": "2021-08-12T14:25:39.217693Z"
    },
    "tags": []
   },
   "outputs": [
    {
     "data": {
      "text/plain": [
       "8686"
      ]
     },
     "execution_count": 172,
     "metadata": {},
     "output_type": "execute_result"
    }
   ],
   "source": [
    "len(filtered_d)"
   ]
  },
  {
   "cell_type": "code",
   "execution_count": 173,
   "id": "d5e2a69b",
   "metadata": {
    "execution": {
     "iopub.execute_input": "2021-08-12T14:25:41.451602Z",
     "iopub.status.busy": "2021-08-12T14:25:41.451602Z",
     "iopub.status.idle": "2021-08-12T14:25:42.097645Z",
     "shell.execute_reply": "2021-08-12T14:25:42.096795Z",
     "shell.execute_reply.started": "2021-08-12T14:25:41.451602Z"
    },
    "tags": []
   },
   "outputs": [],
   "source": [
    "with open('data/filtered-conclugen.json', 'w', encoding='utf-8') as f:\n",
    "    json.dump(filtered_d, f, indent=4)"
   ]
  },
  {
   "cell_type": "markdown",
   "id": "12e3ca7f",
   "metadata": {},
   "source": [
    "# Contexts"
   ]
  },
  {
   "cell_type": "code",
   "execution_count": 174,
   "id": "78a3e863",
   "metadata": {
    "execution": {
     "iopub.execute_input": "2021-08-12T14:25:46.237793Z",
     "iopub.status.busy": "2021-08-12T14:25:46.237793Z",
     "iopub.status.idle": "2021-08-12T14:25:46.281812Z",
     "shell.execute_reply": "2021-08-12T14:25:46.280820Z",
     "shell.execute_reply.started": "2021-08-12T14:25:46.237793Z"
    },
    "tags": []
   },
   "outputs": [
    {
     "name": "stderr",
     "output_type": "stream",
     "text": [
      "100%|██████████████████████████████████████████████████████████████████████████| 8686/8686 [00:00<00:00, 666234.93it/s]\n"
     ]
    }
   ],
   "source": [
    "discussion_title_arg_counts = dict()\n",
    "for argument in tqdm(filtered_d):\n",
    "    title = argument['context']['discussionTitle']\n",
    "    if title in discussion_title_arg_counts:\n",
    "        discussion_title_arg_counts[title] +=1\n",
    "    else:\n",
    "        discussion_title_arg_counts[title] = 1"
   ]
  },
  {
   "cell_type": "code",
   "execution_count": 175,
   "id": "bd20d30a",
   "metadata": {
    "execution": {
     "iopub.execute_input": "2021-08-12T14:25:49.627270Z",
     "iopub.status.busy": "2021-08-12T14:25:49.627270Z",
     "iopub.status.idle": "2021-08-12T14:25:49.683268Z",
     "shell.execute_reply": "2021-08-12T14:25:49.673294Z",
     "shell.execute_reply.started": "2021-08-12T14:25:49.627270Z"
    },
    "tags": []
   },
   "outputs": [],
   "source": [
    "contexts = pd.DataFrame.from_dict([{'title': k, 'count': v} for k, v in discussion_title_arg_counts.items()])"
   ]
  },
  {
   "cell_type": "code",
   "execution_count": 176,
   "id": "76f60b69",
   "metadata": {
    "execution": {
     "iopub.execute_input": "2021-08-12T14:25:51.449253Z",
     "iopub.status.busy": "2021-08-12T14:25:51.449253Z",
     "iopub.status.idle": "2021-08-12T14:25:51.500301Z",
     "shell.execute_reply": "2021-08-12T14:25:51.499278Z",
     "shell.execute_reply.started": "2021-08-12T14:25:51.449253Z"
    },
    "tags": []
   },
   "outputs": [
    {
     "name": "stderr",
     "output_type": "stream",
     "text": [
      "C:\\ProgramData\\Anaconda3\\envs\\thesis\\lib\\site-packages\\ipykernel_launcher.py:1: UserWarning: Boolean Series key will be reindexed to match DataFrame index.\n",
      "  \"\"\"Entry point for launching an IPython kernel.\n"
     ]
    },
    {
     "data": {
      "text/html": [
       "<div>\n",
       "<style scoped>\n",
       "    .dataframe tbody tr th:only-of-type {\n",
       "        vertical-align: middle;\n",
       "    }\n",
       "\n",
       "    .dataframe tbody tr th {\n",
       "        vertical-align: top;\n",
       "    }\n",
       "\n",
       "    .dataframe thead th {\n",
       "        text-align: right;\n",
       "    }\n",
       "</style>\n",
       "<table border=\"1\" class=\"dataframe\">\n",
       "  <thead>\n",
       "    <tr style=\"text-align: right;\">\n",
       "      <th></th>\n",
       "      <th>title</th>\n",
       "      <th>count</th>\n",
       "    </tr>\n",
       "  </thead>\n",
       "  <tbody>\n",
       "    <tr>\n",
       "      <th>1</th>\n",
       "      <td>Should the UK Remain in the EU if the only Alt...</td>\n",
       "      <td>19</td>\n",
       "    </tr>\n",
       "    <tr>\n",
       "      <th>2</th>\n",
       "      <td>Is Morality Objective?</td>\n",
       "      <td>67</td>\n",
       "    </tr>\n",
       "    <tr>\n",
       "      <th>3</th>\n",
       "      <td>The Rebel Alliance would defeat the United Fed...</td>\n",
       "      <td>66</td>\n",
       "    </tr>\n",
       "    <tr>\n",
       "      <th>4</th>\n",
       "      <td>Should \"women-only\" spaces be open to anyone i...</td>\n",
       "      <td>27</td>\n",
       "    </tr>\n",
       "    <tr>\n",
       "      <th>5</th>\n",
       "      <td>Time for a Maximum Wage? Should the US Limit C...</td>\n",
       "      <td>10</td>\n",
       "    </tr>\n",
       "    <tr>\n",
       "      <th>...</th>\n",
       "      <td>...</td>\n",
       "      <td>...</td>\n",
       "    </tr>\n",
       "    <tr>\n",
       "      <th>536</th>\n",
       "      <td>Should Internet Access Be A Basic Human Right?</td>\n",
       "      <td>2</td>\n",
       "    </tr>\n",
       "    <tr>\n",
       "      <th>541</th>\n",
       "      <td>Should Commercial Surrogacy be Legal in Libera...</td>\n",
       "      <td>2</td>\n",
       "    </tr>\n",
       "    <tr>\n",
       "      <th>542</th>\n",
       "      <td>What will life look like once humans achieve l...</td>\n",
       "      <td>2</td>\n",
       "    </tr>\n",
       "    <tr>\n",
       "      <th>544</th>\n",
       "      <td>Mike Pence Would Make a Better President than ...</td>\n",
       "      <td>2</td>\n",
       "    </tr>\n",
       "    <tr>\n",
       "      <th>554</th>\n",
       "      <td>Are Cryptocurrencies And Blockchain Technologi...</td>\n",
       "      <td>2</td>\n",
       "    </tr>\n",
       "  </tbody>\n",
       "</table>\n",
       "<p>320 rows × 2 columns</p>\n",
       "</div>"
      ],
      "text/plain": [
       "                                                 title  count\n",
       "1    Should the UK Remain in the EU if the only Alt...     19\n",
       "2                               Is Morality Objective?     67\n",
       "3    The Rebel Alliance would defeat the United Fed...     66\n",
       "4    Should \"women-only\" spaces be open to anyone i...     27\n",
       "5    Time for a Maximum Wage? Should the US Limit C...     10\n",
       "..                                                 ...    ...\n",
       "536     Should Internet Access Be A Basic Human Right?      2\n",
       "541  Should Commercial Surrogacy be Legal in Libera...      2\n",
       "542  What will life look like once humans achieve l...      2\n",
       "544  Mike Pence Would Make a Better President than ...      2\n",
       "554  Are Cryptocurrencies And Blockchain Technologi...      2\n",
       "\n",
       "[320 rows x 2 columns]"
      ]
     },
     "execution_count": 176,
     "metadata": {},
     "output_type": "execute_result"
    }
   ],
   "source": [
    "filtered_contexts = contexts[contexts['count'] >= 2][contexts['title']!='NA']\n",
    "filtered_contexts"
   ]
  },
  {
   "cell_type": "code",
   "execution_count": 177,
   "id": "fe22d803",
   "metadata": {
    "execution": {
     "iopub.execute_input": "2021-08-12T14:25:53.025508Z",
     "iopub.status.busy": "2021-08-12T14:25:53.025508Z",
     "iopub.status.idle": "2021-08-12T14:25:53.043500Z",
     "shell.execute_reply": "2021-08-12T14:25:53.042578Z",
     "shell.execute_reply.started": "2021-08-12T14:25:53.025508Z"
    },
    "tags": []
   },
   "outputs": [
    {
     "data": {
      "text/html": [
       "<div>\n",
       "<style scoped>\n",
       "    .dataframe tbody tr th:only-of-type {\n",
       "        vertical-align: middle;\n",
       "    }\n",
       "\n",
       "    .dataframe tbody tr th {\n",
       "        vertical-align: top;\n",
       "    }\n",
       "\n",
       "    .dataframe thead th {\n",
       "        text-align: right;\n",
       "    }\n",
       "</style>\n",
       "<table border=\"1\" class=\"dataframe\">\n",
       "  <thead>\n",
       "    <tr style=\"text-align: right;\">\n",
       "      <th></th>\n",
       "      <th>count</th>\n",
       "    </tr>\n",
       "  </thead>\n",
       "  <tbody>\n",
       "    <tr>\n",
       "      <th>count</th>\n",
       "      <td>320.000000</td>\n",
       "    </tr>\n",
       "    <tr>\n",
       "      <th>mean</th>\n",
       "      <td>8.834375</td>\n",
       "    </tr>\n",
       "    <tr>\n",
       "      <th>std</th>\n",
       "      <td>14.371059</td>\n",
       "    </tr>\n",
       "    <tr>\n",
       "      <th>min</th>\n",
       "      <td>2.000000</td>\n",
       "    </tr>\n",
       "    <tr>\n",
       "      <th>25%</th>\n",
       "      <td>2.000000</td>\n",
       "    </tr>\n",
       "    <tr>\n",
       "      <th>50%</th>\n",
       "      <td>4.000000</td>\n",
       "    </tr>\n",
       "    <tr>\n",
       "      <th>75%</th>\n",
       "      <td>8.000000</td>\n",
       "    </tr>\n",
       "    <tr>\n",
       "      <th>max</th>\n",
       "      <td>93.000000</td>\n",
       "    </tr>\n",
       "  </tbody>\n",
       "</table>\n",
       "</div>"
      ],
      "text/plain": [
       "            count\n",
       "count  320.000000\n",
       "mean     8.834375\n",
       "std     14.371059\n",
       "min      2.000000\n",
       "25%      2.000000\n",
       "50%      4.000000\n",
       "75%      8.000000\n",
       "max     93.000000"
      ]
     },
     "execution_count": 177,
     "metadata": {},
     "output_type": "execute_result"
    }
   ],
   "source": [
    "filtered_contexts.describe()"
   ]
  },
  {
   "cell_type": "code",
   "execution_count": 178,
   "id": "6d06a212",
   "metadata": {
    "execution": {
     "iopub.execute_input": "2021-08-12T14:25:57.685590Z",
     "iopub.status.busy": "2021-08-12T14:25:57.684591Z",
     "iopub.status.idle": "2021-08-12T14:25:57.750612Z",
     "shell.execute_reply": "2021-08-12T14:25:57.746595Z",
     "shell.execute_reply.started": "2021-08-12T14:25:57.684591Z"
    },
    "tags": []
   },
   "outputs": [
    {
     "name": "stderr",
     "output_type": "stream",
     "text": [
      "100%|██████████████████████████████████████████████████████████████████████████| 8686/8686 [00:00<00:00, 228987.77it/s]\n"
     ]
    }
   ],
   "source": [
    "ready_to_summarize = list()\n",
    "for argument in tqdm(filtered_d):\n",
    "    if argument['context']['discussionTitle'] in context_ids:\n",
    "        ready_to_summarize.append(argument)"
   ]
  },
  {
   "cell_type": "code",
   "execution_count": 179,
   "id": "e997fe5b",
   "metadata": {
    "execution": {
     "iopub.execute_input": "2021-08-12T14:26:01.736150Z",
     "iopub.status.busy": "2021-08-12T14:26:01.736150Z",
     "iopub.status.idle": "2021-08-12T14:26:01.757151Z",
     "shell.execute_reply": "2021-08-12T14:26:01.750259Z",
     "shell.execute_reply.started": "2021-08-12T14:26:01.736150Z"
    },
    "tags": []
   },
   "outputs": [
    {
     "data": {
      "text/plain": [
       "2827"
      ]
     },
     "execution_count": 179,
     "metadata": {},
     "output_type": "execute_result"
    }
   ],
   "source": [
    "len(ready_to_summarize)"
   ]
  },
  {
   "cell_type": "code",
   "execution_count": 181,
   "id": "8cdecdcc",
   "metadata": {
    "execution": {
     "iopub.execute_input": "2021-08-12T14:26:13.869401Z",
     "iopub.status.busy": "2021-08-12T14:26:13.868399Z",
     "iopub.status.idle": "2021-08-12T14:26:14.106377Z",
     "shell.execute_reply": "2021-08-12T14:26:14.105425Z",
     "shell.execute_reply.started": "2021-08-12T14:26:13.869401Z"
    },
    "tags": []
   },
   "outputs": [],
   "source": [
    "with open('data/filtered-conclugen-to-summarize.json', 'w', encoding='utf-8') as f:\n",
    "    json.dump(ready_to_summarize, f, indent=4)"
   ]
  }
 ],
 "metadata": {
  "kernelspec": {
   "display_name": "thesis",
   "language": "python",
   "name": "thesis"
  },
  "language_info": {
   "codemirror_mode": {
    "name": "ipython",
    "version": 3
   },
   "file_extension": ".py",
   "mimetype": "text/x-python",
   "name": "python",
   "nbconvert_exporter": "python",
   "pygments_lexer": "ipython3",
   "version": "3.7.10"
  }
 },
 "nbformat": 4,
 "nbformat_minor": 5
}
