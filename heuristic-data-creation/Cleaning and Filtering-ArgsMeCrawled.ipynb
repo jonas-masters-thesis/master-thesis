{
 "cells": [
  {
   "cell_type": "code",
   "execution_count": 1,
   "id": "a0f86408",
   "metadata": {
    "execution": {
     "iopub.execute_input": "2021-11-26T11:26:53.079498Z",
     "iopub.status.busy": "2021-11-26T11:26:53.079498Z",
     "iopub.status.idle": "2021-11-26T11:26:54.901444Z",
     "shell.execute_reply": "2021-11-26T11:26:54.901444Z",
     "shell.execute_reply.started": "2021-11-26T11:26:53.079498Z"
    },
    "tags": []
   },
   "outputs": [],
   "source": [
    "import pandas as pd\n",
    "import numpy as np\n",
    "import json\n",
    "from tqdm import tqdm\n",
    "from nltk import sent_tokenize, word_tokenize\n",
    "from IPython.display import display\n",
    "import re\n",
    "import json\n",
    "import pickle\n",
    "import operator\n",
    "import toolz"
   ]
  },
  {
   "cell_type": "code",
   "execution_count": 2,
   "id": "6da84faf-b3ca-470a-801d-be07ef7dc228",
   "metadata": {
    "execution": {
     "iopub.execute_input": "2021-11-26T11:26:55.821198Z",
     "iopub.status.busy": "2021-11-26T11:26:55.821198Z",
     "iopub.status.idle": "2021-11-26T11:26:55.836872Z",
     "shell.execute_reply": "2021-11-26T11:26:55.836872Z",
     "shell.execute_reply.started": "2021-11-26T11:26:55.821198Z"
    },
    "tags": []
   },
   "outputs": [],
   "source": [
    "import sys"
   ]
  },
  {
   "cell_type": "code",
   "execution_count": 3,
   "id": "45046f45-fff0-4d98-a8b8-16334152ca50",
   "metadata": {
    "execution": {
     "iopub.execute_input": "2021-11-26T11:26:57.929294Z",
     "iopub.status.busy": "2021-11-26T11:26:57.929294Z",
     "iopub.status.idle": "2021-11-26T11:26:57.944549Z",
     "shell.execute_reply": "2021-11-26T11:26:57.944549Z",
     "shell.execute_reply.started": "2021-11-26T11:26:57.929294Z"
    },
    "tags": []
   },
   "outputs": [],
   "source": [
    "sys.path.append('../shared/')\n",
    "\n",
    "from Argument import Argument"
   ]
  },
  {
   "cell_type": "code",
   "execution_count": 4,
   "id": "dda6d0b9",
   "metadata": {
    "execution": {
     "iopub.execute_input": "2021-11-26T11:26:59.001250Z",
     "iopub.status.busy": "2021-11-26T11:26:59.001250Z",
     "iopub.status.idle": "2021-11-26T11:26:59.781365Z",
     "shell.execute_reply": "2021-11-26T11:26:59.781365Z",
     "shell.execute_reply.started": "2021-11-26T11:26:59.001250Z"
    },
    "tags": []
   },
   "outputs": [],
   "source": [
    "with open('../../not-gitted/argsme-crawled/1629700068.9873986-4566-arguments-cleaned.pickle', 'rb') as f:\n",
    "        e = pickle.load(f)"
   ]
  },
  {
   "cell_type": "code",
   "execution_count": 6,
   "id": "0ae35ea3-6032-4c37-841c-8df9fcd36bcd",
   "metadata": {
    "execution": {
     "iopub.execute_input": "2021-11-26T11:27:27.359130Z",
     "iopub.status.busy": "2021-11-26T11:27:27.359130Z",
     "iopub.status.idle": "2021-11-26T11:27:27.390412Z",
     "shell.execute_reply": "2021-11-26T11:27:27.390412Z",
     "shell.execute_reply.started": "2021-11-26T11:27:27.359130Z"
    },
    "tags": []
   },
   "outputs": [
    {
     "data": {
      "text/plain": [
       "(3, 768)"
      ]
     },
     "execution_count": 6,
     "metadata": {},
     "output_type": "execute_result"
    }
   ],
   "source": [
    "e[0].sentence_embeddings.shape"
   ]
  },
  {
   "cell_type": "code",
   "execution_count": 10,
   "id": "ec5b1e39",
   "metadata": {
    "execution": {
     "iopub.execute_input": "2021-09-27T06:10:43.083838Z",
     "iopub.status.busy": "2021-09-27T06:10:43.083838Z",
     "iopub.status.idle": "2021-09-27T06:10:43.107839Z",
     "shell.execute_reply": "2021-09-27T06:10:43.102843Z",
     "shell.execute_reply.started": "2021-09-27T06:10:43.083838Z"
    },
    "tags": []
   },
   "outputs": [
    {
     "data": {
      "text/plain": [
       "4566"
      ]
     },
     "execution_count": 10,
     "metadata": {},
     "output_type": "execute_result"
    }
   ],
   "source": [
    "len(e)"
   ]
  },
  {
   "cell_type": "code",
   "execution_count": 11,
   "id": "11d03d04-4036-4751-8a79-ea8275c3ce13",
   "metadata": {
    "execution": {
     "iopub.execute_input": "2021-09-27T06:10:46.269816Z",
     "iopub.status.busy": "2021-09-27T06:10:46.269816Z",
     "iopub.status.idle": "2021-09-27T06:10:46.523245Z",
     "shell.execute_reply": "2021-09-27T06:10:46.522540Z",
     "shell.execute_reply.started": "2021-09-27T06:10:46.269816Z"
    },
    "tags": []
   },
   "outputs": [],
   "source": [
    "with open('../../not-gitted/argsme-crawled/1632239915.4824035-4390-arguments-cleaned-test.pickle', 'rb') as f:\n",
    "        d = pickle.load(f)"
   ]
  },
  {
   "cell_type": "code",
   "execution_count": 12,
   "id": "ebd7cbde-122a-4e7a-a9a4-f947c6f65665",
   "metadata": {
    "execution": {
     "iopub.execute_input": "2021-09-27T06:10:47.149297Z",
     "iopub.status.busy": "2021-09-27T06:10:47.149297Z",
     "iopub.status.idle": "2021-09-27T06:10:47.170319Z",
     "shell.execute_reply": "2021-09-27T06:10:47.162343Z",
     "shell.execute_reply.started": "2021-09-27T06:10:47.149297Z"
    },
    "tags": []
   },
   "outputs": [],
   "source": [
    "d = list(toolz.unique(d, key=lambda a: a.arg_id+a.query))"
   ]
  },
  {
   "cell_type": "code",
   "execution_count": 13,
   "id": "d6c5f6e6-2069-4f44-a026-4daeb828e303",
   "metadata": {
    "execution": {
     "iopub.execute_input": "2021-09-27T06:10:48.019545Z",
     "iopub.status.busy": "2021-09-27T06:10:48.018548Z",
     "iopub.status.idle": "2021-09-27T06:10:48.029518Z",
     "shell.execute_reply": "2021-09-27T06:10:48.028521Z",
     "shell.execute_reply.started": "2021-09-27T06:10:48.019545Z"
    },
    "tags": []
   },
   "outputs": [
    {
     "data": {
      "text/plain": [
       "4390"
      ]
     },
     "execution_count": 13,
     "metadata": {},
     "output_type": "execute_result"
    }
   ],
   "source": [
    "len(d)"
   ]
  },
  {
   "cell_type": "code",
   "execution_count": 15,
   "id": "0aa12f36-f196-4e0d-9a77-599fd9e8da13",
   "metadata": {
    "execution": {
     "iopub.execute_input": "2021-09-27T06:10:56.273611Z",
     "iopub.status.busy": "2021-09-27T06:10:56.272616Z",
     "iopub.status.idle": "2021-09-27T06:10:56.291573Z",
     "shell.execute_reply": "2021-09-27T06:10:56.289573Z",
     "shell.execute_reply.started": "2021-09-27T06:10:56.273611Z"
    },
    "tags": []
   },
   "outputs": [],
   "source": [
    "e_ids = {a.arg_id for a in e}\n",
    "d_ids = {a.arg_id for a in d}"
   ]
  },
  {
   "cell_type": "code",
   "execution_count": 16,
   "id": "08eba729-7ef9-452c-8362-b556e1f02b8f",
   "metadata": {
    "execution": {
     "iopub.execute_input": "2021-09-27T06:10:57.764023Z",
     "iopub.status.busy": "2021-09-27T06:10:57.763024Z",
     "iopub.status.idle": "2021-09-27T06:10:57.786019Z",
     "shell.execute_reply": "2021-09-27T06:10:57.785058Z",
     "shell.execute_reply.started": "2021-09-27T06:10:57.764023Z"
    },
    "tags": []
   },
   "outputs": [
    {
     "data": {
      "text/plain": [
       "False"
      ]
     },
     "execution_count": 16,
     "metadata": {},
     "output_type": "execute_result"
    }
   ],
   "source": [
    "e_ids == d_ids"
   ]
  },
  {
   "cell_type": "code",
   "execution_count": 17,
   "id": "80a231eb-155e-44ec-805f-a9f97ba2654c",
   "metadata": {
    "execution": {
     "iopub.execute_input": "2021-09-27T06:10:58.985276Z",
     "iopub.status.busy": "2021-09-27T06:10:58.985276Z",
     "iopub.status.idle": "2021-09-27T06:10:59.010245Z",
     "shell.execute_reply": "2021-09-27T06:10:59.007247Z",
     "shell.execute_reply.started": "2021-09-27T06:10:58.985276Z"
    },
    "tags": []
   },
   "outputs": [
    {
     "name": "stdout",
     "output_type": "stream",
     "text": [
      "4439 3873\n"
     ]
    }
   ],
   "source": [
    "print(len(e_ids), len(d_ids))"
   ]
  },
  {
   "cell_type": "code",
   "execution_count": 18,
   "id": "c6fced6a-7546-4f6a-bd93-172c5b617786",
   "metadata": {
    "execution": {
     "iopub.execute_input": "2021-09-27T06:11:07.494725Z",
     "iopub.status.busy": "2021-09-27T06:11:07.493749Z",
     "iopub.status.idle": "2021-09-27T06:11:07.511741Z",
     "shell.execute_reply": "2021-09-27T06:11:07.503728Z",
     "shell.execute_reply.started": "2021-09-27T06:11:07.494725Z"
    },
    "tags": []
   },
   "outputs": [
    {
     "data": {
      "text/plain": [
       "555"
      ]
     },
     "execution_count": 18,
     "metadata": {},
     "output_type": "execute_result"
    }
   ],
   "source": [
    "len(e_ids.intersection(d_ids))"
   ]
  },
  {
   "cell_type": "code",
   "execution_count": 22,
   "id": "79e6c223-86eb-4162-b816-91b827fc4008",
   "metadata": {
    "execution": {
     "iopub.execute_input": "2021-09-27T06:12:46.794742Z",
     "iopub.status.busy": "2021-09-27T06:12:46.794742Z",
     "iopub.status.idle": "2021-09-27T06:12:46.805743Z",
     "shell.execute_reply": "2021-09-27T06:12:46.804743Z",
     "shell.execute_reply.started": "2021-09-27T06:12:46.794742Z"
    },
    "tags": []
   },
   "outputs": [],
   "source": [
    "only_test_ids = d_ids - e_ids"
   ]
  },
  {
   "cell_type": "code",
   "execution_count": 23,
   "id": "337e4b5a-15a8-435f-8e2c-00a9586b2f35",
   "metadata": {
    "execution": {
     "iopub.execute_input": "2021-09-27T06:12:47.441399Z",
     "iopub.status.busy": "2021-09-27T06:12:47.441399Z",
     "iopub.status.idle": "2021-09-27T06:12:47.465385Z",
     "shell.execute_reply": "2021-09-27T06:12:47.461387Z",
     "shell.execute_reply.started": "2021-09-27T06:12:47.441399Z"
    },
    "tags": []
   },
   "outputs": [
    {
     "data": {
      "text/plain": [
       "3318"
      ]
     },
     "execution_count": 23,
     "metadata": {},
     "output_type": "execute_result"
    }
   ],
   "source": [
    "len(only_test_ids)"
   ]
  },
  {
   "cell_type": "code",
   "execution_count": 24,
   "id": "d6cb4884-cf23-4450-b8ac-09051aa91945",
   "metadata": {
    "execution": {
     "iopub.execute_input": "2021-09-27T06:13:19.597496Z",
     "iopub.status.busy": "2021-09-27T06:13:19.597496Z",
     "iopub.status.idle": "2021-09-27T06:13:19.617512Z",
     "shell.execute_reply": "2021-09-27T06:13:19.607516Z",
     "shell.execute_reply.started": "2021-09-27T06:13:19.597496Z"
    },
    "tags": []
   },
   "outputs": [],
   "source": [
    "d = set(filter(lambda a: a.arg_id in only_test_ids, d))"
   ]
  },
  {
   "cell_type": "code",
   "execution_count": 25,
   "id": "1ac5d356-ea5a-45f9-9581-4969dc3e38b7",
   "metadata": {
    "execution": {
     "iopub.execute_input": "2021-09-27T06:13:23.004053Z",
     "iopub.status.busy": "2021-09-27T06:13:23.003082Z",
     "iopub.status.idle": "2021-09-27T06:13:23.026064Z",
     "shell.execute_reply": "2021-09-27T06:13:23.019078Z",
     "shell.execute_reply.started": "2021-09-27T06:13:23.004053Z"
    },
    "tags": []
   },
   "outputs": [
    {
     "data": {
      "text/plain": [
       "3771"
      ]
     },
     "execution_count": 25,
     "metadata": {},
     "output_type": "execute_result"
    }
   ],
   "source": [
    "len(d)"
   ]
  },
  {
   "cell_type": "markdown",
   "id": "f4044b8d",
   "metadata": {},
   "source": [
    "# Filter sentences"
   ]
  },
  {
   "cell_type": "code",
   "execution_count": 26,
   "id": "37db347b-bf1f-4e9e-af50-e8dba74803c1",
   "metadata": {
    "execution": {
     "iopub.execute_input": "2021-09-27T06:13:35.200670Z",
     "iopub.status.busy": "2021-09-27T06:13:35.200670Z",
     "iopub.status.idle": "2021-09-27T06:13:35.221671Z",
     "shell.execute_reply": "2021-09-27T06:13:35.220676Z",
     "shell.execute_reply.started": "2021-09-27T06:13:35.200670Z"
    },
    "tags": []
   },
   "outputs": [],
   "source": [
    "def clean(string):\n",
    "    #regex = r\"(?i)\\b((?:https?://|www\\d{0,3}[.]|[a-z0-9.\\-]+[.][a-z]{2,4}/)(?:[^\\s()<>]+|\\(([^\\s()<>]+|(\\([^\\s()<>]+\\)))*\\))+(?:\\(([^\\s()<>]+|(\\([^\\s()<>]+\\)))*\\)|[^\\s`!()\\[\\]{};:'\\\".,<>?«»“”‘’]))[.]*\"\n",
    "    regex = r'http[s]?://(?:[a-zA-Z]|[0-9]|[$-_@.&+]|[!*\\(\\),]|(?:%[0-9a-fA-F][0-9a-fA-F]))+'\n",
    "    #url = list(re.findall(regex,string))\n",
    "    #if len(url) > 0:\n",
    "        #print([x for x in url])\n",
    "    string = re.sub(regex, '', string)\n",
    "    string = string.strip()\n",
    "    string = re.sub(r'\"', '', string)\n",
    "    string = re.sub(r'[“”]', '', string)\n",
    "    string = re.sub(r'\\\\', '', string)\n",
    "    string = re.sub(r'[-]{2,}', '', string)\n",
    "    string = re.sub(r'\\[[0-9]\\]','', string)\n",
    "    string = re.sub(r'^[^\\w(]+', '', string) # sentences that start with special characters (non-alpha chars, except '(')\n",
    "    string = re.sub(r'\\s{2,}', ' ', string)\n",
    "    \n",
    "    return string.strip()\n",
    "    \n",
    "\n",
    "def remove(string):\n",
    "    regex = r\"^[\\[\\(]?([0-9]+|[Ii]+)[\\]\\)]?\\.?$\"\n",
    "    pattern = re.compile(regex)\n",
    "    pattern2 = re.compile(r'^[\\s]+$')\n",
    "    return pattern.match(string) \\\n",
    "        or pattern2.match(string) \\\n",
    "        or len(string) < 3 \\\n",
    "        or len([c for c in string if c.isalpha()]) < 2 \\\n",
    "        or all(not c.isalpha() for c in string) \\\n",
    "        or string.lower().startswith('thank') \\\n",
    "        or string.lower().startswith('good luck') \\\n",
    "        or string.lower().startswith('sources') \\\n",
    "        or string.lower().startswith('references')"
   ]
  },
  {
   "cell_type": "code",
   "execution_count": 27,
   "id": "5ee3c749-af18-4a12-af94-eb4ddabdaa88",
   "metadata": {
    "execution": {
     "iopub.execute_input": "2021-09-27T06:13:41.289416Z",
     "iopub.status.busy": "2021-09-27T06:13:41.289416Z",
     "iopub.status.idle": "2021-09-27T06:13:41.301416Z",
     "shell.execute_reply": "2021-09-27T06:13:41.299415Z",
     "shell.execute_reply.started": "2021-09-27T06:13:41.289416Z"
    },
    "tags": []
   },
   "outputs": [],
   "source": [
    "def fix_sentence_splitting(sentences):\n",
    "    target_sentences = list()\n",
    "    for i_s, s in enumerate(sentences):\n",
    "        if s[0].isalpha() and s[0].islower() and i_s > 1:\n",
    "            current_collection = ''\n",
    "            if len(target_sentences) > 1:\n",
    "                current_collection += target_sentences.pop()\n",
    "                current_collection += ' ' + s\n",
    "                target_sentences.append(current_collection)\n",
    "            else:\n",
    "                # nothing to append to\n",
    "                target_sentences.append(s)\n",
    "        else:\n",
    "            target_sentences.append(s)\n",
    "\n",
    "    return target_sentences"
   ]
  },
  {
   "cell_type": "code",
   "execution_count": 28,
   "id": "e04091dd-ca82-4a8b-9a8f-18eeced5c613",
   "metadata": {
    "execution": {
     "iopub.execute_input": "2021-09-27T06:13:44.775899Z",
     "iopub.status.busy": "2021-09-27T06:13:44.774867Z",
     "iopub.status.idle": "2021-09-27T06:13:47.897321Z",
     "shell.execute_reply": "2021-09-27T06:13:47.896356Z",
     "shell.execute_reply.started": "2021-09-27T06:13:44.775899Z"
    },
    "tags": []
   },
   "outputs": [
    {
     "name": "stderr",
     "output_type": "stream",
     "text": [
      "100%|████████████████████████████████████████████████████████████████████████████| 3771/3771 [00:03<00:00, 1213.92it/s]\n"
     ]
    }
   ],
   "source": [
    "for a in tqdm(d):\n",
    "    sents = list()\n",
    "    for s in a.sentences:\n",
    "        s = clean(s)\n",
    "        r = remove(s)\n",
    "        if not r:\n",
    "            #print(s, r)\n",
    "            sents.append(s)\n",
    "    if len(sents) == 0 or all(len(t) == 0 for t in sents):\n",
    "        print(f\"No sentence argument: {a.arg_id}\")\n",
    "    else:\n",
    "        sents = fix_sentence_splitting(sents)\n",
    "    #print(sents)\n",
    "    a.sentences = sents"
   ]
  },
  {
   "cell_type": "code",
   "execution_count": 29,
   "id": "24e1c9b0-1269-4782-9874-0da676083093",
   "metadata": {
    "execution": {
     "iopub.execute_input": "2021-09-27T06:13:49.285824Z",
     "iopub.status.busy": "2021-09-27T06:13:49.285824Z",
     "iopub.status.idle": "2021-09-27T06:13:49.312823Z",
     "shell.execute_reply": "2021-09-27T06:13:49.311854Z",
     "shell.execute_reply.started": "2021-09-27T06:13:49.285824Z"
    },
    "tags": []
   },
   "outputs": [
    {
     "ename": "IndexError",
     "evalue": "list index out of range",
     "output_type": "error",
     "traceback": [
      "\u001b[1;31m---------------------------------------------------------------------------\u001b[0m",
      "\u001b[1;31mIndexError\u001b[0m                                Traceback (most recent call last)",
      "\u001b[1;32m<ipython-input-29-dc5605f00d70>\u001b[0m in \u001b[0;36m<module>\u001b[1;34m\u001b[0m\n\u001b[1;32m----> 1\u001b[1;33m \u001b[1;33m[\u001b[0m\u001b[0ma\u001b[0m \u001b[1;32mfor\u001b[0m \u001b[0ma\u001b[0m \u001b[1;32min\u001b[0m \u001b[0md\u001b[0m \u001b[1;32mif\u001b[0m \u001b[0ma\u001b[0m\u001b[1;33m.\u001b[0m\u001b[0marg_id\u001b[0m \u001b[1;33m==\u001b[0m \u001b[1;34m'S47ca84a7-A120f3ad4'\u001b[0m\u001b[1;33m]\u001b[0m\u001b[1;33m[\u001b[0m\u001b[1;36m0\u001b[0m\u001b[1;33m]\u001b[0m\u001b[1;33m.\u001b[0m\u001b[0msentences\u001b[0m\u001b[1;33m[\u001b[0m\u001b[1;33m-\u001b[0m\u001b[1;36m1\u001b[0m\u001b[1;33m]\u001b[0m\u001b[1;33m\u001b[0m\u001b[1;33m\u001b[0m\u001b[0m\n\u001b[0m",
      "\u001b[1;31mIndexError\u001b[0m: list index out of range"
     ]
    }
   ],
   "source": [
    "[a for a in d if a.arg_id == 'S47ca84a7-A120f3ad4'][0].sentences[-1]"
   ]
  },
  {
   "cell_type": "code",
   "execution_count": 30,
   "id": "1cde4b3a-3aef-4df5-8d8d-26fecc002057",
   "metadata": {
    "execution": {
     "iopub.execute_input": "2021-09-27T06:13:50.529831Z",
     "iopub.status.busy": "2021-09-27T06:13:50.529831Z",
     "iopub.status.idle": "2021-09-27T06:13:50.568833Z",
     "shell.execute_reply": "2021-09-27T06:13:50.567830Z",
     "shell.execute_reply.started": "2021-09-27T06:13:50.529831Z"
    },
    "tags": []
   },
   "outputs": [
    {
     "ename": "IndexError",
     "evalue": "list index out of range",
     "output_type": "error",
     "traceback": [
      "\u001b[1;31m---------------------------------------------------------------------------\u001b[0m",
      "\u001b[1;31mIndexError\u001b[0m                                Traceback (most recent call last)",
      "\u001b[1;32m<ipython-input-30-2300062d8ebf>\u001b[0m in \u001b[0;36m<module>\u001b[1;34m\u001b[0m\n\u001b[1;32m----> 1\u001b[1;33m \u001b[1;33m[\u001b[0m\u001b[0ma\u001b[0m \u001b[1;32mfor\u001b[0m \u001b[0ma\u001b[0m \u001b[1;32min\u001b[0m \u001b[0md\u001b[0m \u001b[1;32mif\u001b[0m \u001b[0ma\u001b[0m\u001b[1;33m.\u001b[0m\u001b[0marg_id\u001b[0m \u001b[1;33m==\u001b[0m \u001b[1;34m'S939644dc-A309e66cd'\u001b[0m\u001b[1;33m]\u001b[0m\u001b[1;33m[\u001b[0m\u001b[1;36m0\u001b[0m\u001b[1;33m]\u001b[0m\u001b[1;33m.\u001b[0m\u001b[0msentences\u001b[0m\u001b[1;31m#[13]#.lower().startswith('thank')\u001b[0m\u001b[1;33m\u001b[0m\u001b[1;33m\u001b[0m\u001b[0m\n\u001b[0m",
      "\u001b[1;31mIndexError\u001b[0m: list index out of range"
     ]
    }
   ],
   "source": [
    "[a for a in d if a.arg_id == 'S939644dc-A309e66cd'][0].sentences#[13]#.lower().startswith('thank')"
   ]
  },
  {
   "cell_type": "code",
   "execution_count": 31,
   "id": "d4a75dd8-fd2b-477a-8bb3-f8fe522f282b",
   "metadata": {
    "execution": {
     "iopub.execute_input": "2021-09-27T06:13:55.376951Z",
     "iopub.status.busy": "2021-09-27T06:13:55.375969Z",
     "iopub.status.idle": "2021-09-27T06:13:55.395946Z",
     "shell.execute_reply": "2021-09-27T06:13:55.394945Z",
     "shell.execute_reply.started": "2021-09-27T06:13:55.376951Z"
    },
    "tags": []
   },
   "outputs": [
    {
     "data": {
      "text/plain": [
       "3771"
      ]
     },
     "execution_count": 31,
     "metadata": {},
     "output_type": "execute_result"
    }
   ],
   "source": [
    "len(d)"
   ]
  },
  {
   "cell_type": "code",
   "execution_count": 32,
   "id": "1266e4ae",
   "metadata": {
    "execution": {
     "iopub.execute_input": "2021-09-27T06:13:57.237461Z",
     "iopub.status.busy": "2021-09-27T06:13:57.236462Z",
     "iopub.status.idle": "2021-09-27T06:13:57.279483Z",
     "shell.execute_reply": "2021-09-27T06:13:57.269477Z",
     "shell.execute_reply.started": "2021-09-27T06:13:57.237461Z"
    },
    "tags": []
   },
   "outputs": [
    {
     "name": "stderr",
     "output_type": "stream",
     "text": [
      "100%|██████████████████████████████████████████████████████████████████████████| 3771/3771 [00:00<00:00, 418952.68it/s]\n"
     ]
    }
   ],
   "source": [
    "filtered_arguments = list()\n",
    "filtered_arg_ids = list()\n",
    "for argument in tqdm(d):\n",
    "    if len(argument.sentences) > 2:\n",
    "        filtered_arguments.append(argument)\n",
    "        filtered_arg_ids.append(argument.arg_id)"
   ]
  },
  {
   "cell_type": "code",
   "execution_count": 33,
   "id": "3781f69b-6c88-4e4b-8a5d-2762e58774ea",
   "metadata": {
    "execution": {
     "iopub.execute_input": "2021-09-27T06:13:58.586342Z",
     "iopub.status.busy": "2021-09-27T06:13:58.585333Z",
     "iopub.status.idle": "2021-09-27T06:13:58.608359Z",
     "shell.execute_reply": "2021-09-27T06:13:58.600364Z",
     "shell.execute_reply.started": "2021-09-27T06:13:58.586342Z"
    },
    "tags": []
   },
   "outputs": [
    {
     "data": {
      "text/plain": [
       "3761"
      ]
     },
     "execution_count": 33,
     "metadata": {},
     "output_type": "execute_result"
    }
   ],
   "source": [
    "len(filtered_arguments)"
   ]
  },
  {
   "cell_type": "markdown",
   "id": "b00e2233",
   "metadata": {},
   "source": [
    "# Contexts"
   ]
  },
  {
   "cell_type": "code",
   "execution_count": 34,
   "id": "d7ae86d5",
   "metadata": {
    "execution": {
     "iopub.execute_input": "2021-09-27T06:14:04.230663Z",
     "iopub.status.busy": "2021-09-27T06:14:04.230663Z",
     "iopub.status.idle": "2021-09-27T06:14:04.289683Z",
     "shell.execute_reply": "2021-09-27T06:14:04.283663Z",
     "shell.execute_reply.started": "2021-09-27T06:14:04.230663Z"
    },
    "tags": []
   },
   "outputs": [
    {
     "name": "stderr",
     "output_type": "stream",
     "text": [
      "100%|██████████████████████████████████████████████████████████████████████████| 3761/3761 [00:00<00:00, 470131.05it/s]\n"
     ]
    }
   ],
   "source": [
    "discussion_title_arg_counts = dict()\n",
    "for argument in tqdm(filtered_arguments):\n",
    "    title = argument.query\n",
    "    if title in discussion_title_arg_counts:\n",
    "        discussion_title_arg_counts[title] +=1\n",
    "    else:\n",
    "        discussion_title_arg_counts[title] = 1"
   ]
  },
  {
   "cell_type": "code",
   "execution_count": 35,
   "id": "eb0317fd",
   "metadata": {
    "execution": {
     "iopub.execute_input": "2021-09-27T06:14:07.481711Z",
     "iopub.status.busy": "2021-09-27T06:14:07.481711Z",
     "iopub.status.idle": "2021-09-27T06:14:07.508679Z",
     "shell.execute_reply": "2021-09-27T06:14:07.507715Z",
     "shell.execute_reply.started": "2021-09-27T06:14:07.481711Z"
    },
    "tags": []
   },
   "outputs": [],
   "source": [
    "contexts = pd.DataFrame.from_dict([{'title': k, 'count': v} for k, v in discussion_title_arg_counts.items()])"
   ]
  },
  {
   "cell_type": "code",
   "execution_count": 36,
   "id": "18cc04b0",
   "metadata": {
    "execution": {
     "iopub.execute_input": "2021-09-27T06:14:12.393642Z",
     "iopub.status.busy": "2021-09-27T06:14:12.392640Z",
     "iopub.status.idle": "2021-09-27T06:14:12.433686Z",
     "shell.execute_reply": "2021-09-27T06:14:12.423652Z",
     "shell.execute_reply.started": "2021-09-27T06:14:12.393642Z"
    },
    "tags": []
   },
   "outputs": [
    {
     "data": {
      "text/html": [
       "<div>\n",
       "<style scoped>\n",
       "    .dataframe tbody tr th:only-of-type {\n",
       "        vertical-align: middle;\n",
       "    }\n",
       "\n",
       "    .dataframe tbody tr th {\n",
       "        vertical-align: top;\n",
       "    }\n",
       "\n",
       "    .dataframe thead th {\n",
       "        text-align: right;\n",
       "    }\n",
       "</style>\n",
       "<table border=\"1\" class=\"dataframe\">\n",
       "  <thead>\n",
       "    <tr style=\"text-align: right;\">\n",
       "      <th></th>\n",
       "      <th>title</th>\n",
       "      <th>count</th>\n",
       "    </tr>\n",
       "  </thead>\n",
       "  <tbody>\n",
       "    <tr>\n",
       "      <th>0</th>\n",
       "      <td>the_very_rich_employ_expert_accountants_and_la...</td>\n",
       "      <td>5</td>\n",
       "    </tr>\n",
       "    <tr>\n",
       "      <th>1</th>\n",
       "      <td>k-pop</td>\n",
       "      <td>8</td>\n",
       "    </tr>\n",
       "    <tr>\n",
       "      <th>2</th>\n",
       "      <td>violence</td>\n",
       "      <td>8</td>\n",
       "    </tr>\n",
       "    <tr>\n",
       "      <th>3</th>\n",
       "      <td>fracking</td>\n",
       "      <td>10</td>\n",
       "    </tr>\n",
       "    <tr>\n",
       "      <th>4</th>\n",
       "      <td>decision_theory_is_important</td>\n",
       "      <td>9</td>\n",
       "    </tr>\n",
       "    <tr>\n",
       "      <th>...</th>\n",
       "      <td>...</td>\n",
       "      <td>...</td>\n",
       "    </tr>\n",
       "    <tr>\n",
       "      <th>474</th>\n",
       "      <td>trade_network</td>\n",
       "      <td>4</td>\n",
       "    </tr>\n",
       "    <tr>\n",
       "      <th>475</th>\n",
       "      <td>star_wars</td>\n",
       "      <td>3</td>\n",
       "    </tr>\n",
       "    <tr>\n",
       "      <th>476</th>\n",
       "      <td>arsenal</td>\n",
       "      <td>7</td>\n",
       "    </tr>\n",
       "    <tr>\n",
       "      <th>477</th>\n",
       "      <td>home_schooling</td>\n",
       "      <td>4</td>\n",
       "    </tr>\n",
       "    <tr>\n",
       "      <th>478</th>\n",
       "      <td>heart</td>\n",
       "      <td>3</td>\n",
       "    </tr>\n",
       "  </tbody>\n",
       "</table>\n",
       "<p>475 rows × 2 columns</p>\n",
       "</div>"
      ],
      "text/plain": [
       "                                                 title  count\n",
       "0    the_very_rich_employ_expert_accountants_and_la...      5\n",
       "1                                                k-pop      8\n",
       "2                                             violence      8\n",
       "3                                             fracking     10\n",
       "4                         decision_theory_is_important      9\n",
       "..                                                 ...    ...\n",
       "474                                      trade_network      4\n",
       "475                                          star_wars      3\n",
       "476                                            arsenal      7\n",
       "477                                     home_schooling      4\n",
       "478                                              heart      3\n",
       "\n",
       "[475 rows x 2 columns]"
      ]
     },
     "execution_count": 36,
     "metadata": {},
     "output_type": "execute_result"
    }
   ],
   "source": [
    "filtered_contexts = contexts[contexts['count'] >= 2]\n",
    "filtered_contexts"
   ]
  },
  {
   "cell_type": "code",
   "execution_count": 37,
   "id": "5c330f9e",
   "metadata": {
    "execution": {
     "iopub.execute_input": "2021-09-27T06:14:27.040961Z",
     "iopub.status.busy": "2021-09-27T06:14:27.040961Z",
     "iopub.status.idle": "2021-09-27T06:14:27.084961Z",
     "shell.execute_reply": "2021-09-27T06:14:27.083964Z",
     "shell.execute_reply.started": "2021-09-27T06:14:27.040961Z"
    },
    "tags": []
   },
   "outputs": [
    {
     "data": {
      "text/html": [
       "<div>\n",
       "<style scoped>\n",
       "    .dataframe tbody tr th:only-of-type {\n",
       "        vertical-align: middle;\n",
       "    }\n",
       "\n",
       "    .dataframe tbody tr th {\n",
       "        vertical-align: top;\n",
       "    }\n",
       "\n",
       "    .dataframe thead th {\n",
       "        text-align: right;\n",
       "    }\n",
       "</style>\n",
       "<table border=\"1\" class=\"dataframe\">\n",
       "  <thead>\n",
       "    <tr style=\"text-align: right;\">\n",
       "      <th></th>\n",
       "      <th>count</th>\n",
       "    </tr>\n",
       "  </thead>\n",
       "  <tbody>\n",
       "    <tr>\n",
       "      <th>count</th>\n",
       "      <td>475.000000</td>\n",
       "    </tr>\n",
       "    <tr>\n",
       "      <th>mean</th>\n",
       "      <td>7.907368</td>\n",
       "    </tr>\n",
       "    <tr>\n",
       "      <th>std</th>\n",
       "      <td>2.035510</td>\n",
       "    </tr>\n",
       "    <tr>\n",
       "      <th>min</th>\n",
       "      <td>2.000000</td>\n",
       "    </tr>\n",
       "    <tr>\n",
       "      <th>25%</th>\n",
       "      <td>7.000000</td>\n",
       "    </tr>\n",
       "    <tr>\n",
       "      <th>50%</th>\n",
       "      <td>8.000000</td>\n",
       "    </tr>\n",
       "    <tr>\n",
       "      <th>75%</th>\n",
       "      <td>9.500000</td>\n",
       "    </tr>\n",
       "    <tr>\n",
       "      <th>max</th>\n",
       "      <td>10.000000</td>\n",
       "    </tr>\n",
       "  </tbody>\n",
       "</table>\n",
       "</div>"
      ],
      "text/plain": [
       "            count\n",
       "count  475.000000\n",
       "mean     7.907368\n",
       "std      2.035510\n",
       "min      2.000000\n",
       "25%      7.000000\n",
       "50%      8.000000\n",
       "75%      9.500000\n",
       "max     10.000000"
      ]
     },
     "execution_count": 37,
     "metadata": {},
     "output_type": "execute_result"
    }
   ],
   "source": [
    "filtered_contexts.describe()"
   ]
  },
  {
   "cell_type": "code",
   "execution_count": 38,
   "id": "480c5639",
   "metadata": {
    "execution": {
     "iopub.execute_input": "2021-09-27T06:14:31.722875Z",
     "iopub.status.busy": "2021-09-27T06:14:31.722875Z",
     "iopub.status.idle": "2021-09-27T06:14:31.742877Z",
     "shell.execute_reply": "2021-09-27T06:14:31.739904Z",
     "shell.execute_reply.started": "2021-09-27T06:14:31.722875Z"
    },
    "tags": []
   },
   "outputs": [
    {
     "data": {
      "text/plain": [
       "475"
      ]
     },
     "execution_count": 38,
     "metadata": {},
     "output_type": "execute_result"
    }
   ],
   "source": [
    "context_ids = set(filtered_contexts['title'])\n",
    "len(context_ids)"
   ]
  },
  {
   "cell_type": "code",
   "execution_count": 39,
   "id": "c590289f",
   "metadata": {
    "execution": {
     "iopub.execute_input": "2021-09-27T06:14:33.833577Z",
     "iopub.status.busy": "2021-09-27T06:14:33.833577Z",
     "iopub.status.idle": "2021-09-27T06:14:33.881570Z",
     "shell.execute_reply": "2021-09-27T06:14:33.878572Z",
     "shell.execute_reply.started": "2021-09-27T06:14:33.833577Z"
    },
    "tags": []
   },
   "outputs": [
    {
     "name": "stderr",
     "output_type": "stream",
     "text": [
      "100%|██████████████████████████████████████████████████████████████████████████| 3761/3761 [00:00<00:00, 250851.19it/s]\n"
     ]
    }
   ],
   "source": [
    "ready_to_summarize = list()\n",
    "for argument in tqdm(filtered_arguments):\n",
    "    if argument.query in context_ids:\n",
    "        ready_to_summarize.append(argument)"
   ]
  },
  {
   "cell_type": "code",
   "execution_count": 40,
   "id": "65b6867a",
   "metadata": {
    "execution": {
     "iopub.execute_input": "2021-09-27T06:14:35.649511Z",
     "iopub.status.busy": "2021-09-27T06:14:35.649511Z",
     "iopub.status.idle": "2021-09-27T06:14:35.659504Z",
     "shell.execute_reply": "2021-09-27T06:14:35.657508Z",
     "shell.execute_reply.started": "2021-09-27T06:14:35.649511Z"
    },
    "tags": []
   },
   "outputs": [
    {
     "data": {
      "text/plain": [
       "3756"
      ]
     },
     "execution_count": 40,
     "metadata": {},
     "output_type": "execute_result"
    }
   ],
   "source": [
    "len(ready_to_summarize)"
   ]
  },
  {
   "cell_type": "code",
   "execution_count": 41,
   "id": "5ad72d29-dca3-4de5-9a5b-895c6aae2a98",
   "metadata": {
    "execution": {
     "iopub.execute_input": "2021-09-27T06:14:42.214602Z",
     "iopub.status.busy": "2021-09-27T06:14:42.214602Z",
     "iopub.status.idle": "2021-09-27T06:14:42.238581Z",
     "shell.execute_reply": "2021-09-27T06:14:42.236600Z",
     "shell.execute_reply.started": "2021-09-27T06:14:42.214602Z"
    },
    "tags": []
   },
   "outputs": [],
   "source": [
    "for a in ready_to_summarize:\n",
    "    a.sentence_embeddings = list()"
   ]
  },
  {
   "cell_type": "code",
   "execution_count": 42,
   "id": "4a834baf",
   "metadata": {
    "execution": {
     "iopub.execute_input": "2021-09-27T06:15:21.998959Z",
     "iopub.status.busy": "2021-09-27T06:15:21.998959Z",
     "iopub.status.idle": "2021-09-27T06:15:22.144958Z",
     "shell.execute_reply": "2021-09-27T06:15:22.143136Z",
     "shell.execute_reply.started": "2021-09-27T06:15:21.998959Z"
    },
    "tags": []
   },
   "outputs": [],
   "source": [
    "with open('../../not-gitted/argsme-crawled/1632239915.4824035-3756-arguments-cleaned-test.pickle', 'wb') as f:\n",
    "        pickle.dump(ready_to_summarize, f)"
   ]
  }
 ],
 "metadata": {
  "kernelspec": {
   "display_name": "thesis",
   "language": "python",
   "name": "thesis"
  },
  "language_info": {
   "codemirror_mode": {
    "name": "ipython",
    "version": 3
   },
   "file_extension": ".py",
   "mimetype": "text/x-python",
   "name": "python",
   "nbconvert_exporter": "python",
   "pygments_lexer": "ipython3",
   "version": "3.7.10"
  }
 },
 "nbformat": 4,
 "nbformat_minor": 5
}
