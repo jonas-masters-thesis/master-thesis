{
 "cells": [
  {
   "cell_type": "code",
   "execution_count": 17,
   "id": "dbb21a6b-ca0f-4920-90ea-30a3552f2274",
   "metadata": {
    "execution": {
     "iopub.execute_input": "2021-08-12T09:38:58.184293Z",
     "iopub.status.busy": "2021-08-12T09:38:58.184293Z",
     "iopub.status.idle": "2021-08-12T09:38:58.198291Z",
     "shell.execute_reply": "2021-08-12T09:38:58.197291Z",
     "shell.execute_reply.started": "2021-08-12T09:38:58.184293Z"
    },
    "tags": []
   },
   "outputs": [],
   "source": [
    "import torch\n",
    "from transformers import AutoTokenizer, AutoModelForSequenceClassification, TextClassificationPipeline, BertForSequenceClassification"
   ]
  },
  {
   "cell_type": "code",
   "execution_count": 8,
   "id": "7b56fe40-e168-43ce-a51b-9891f4a019ff",
   "metadata": {
    "execution": {
     "iopub.execute_input": "2021-08-12T09:32:15.747790Z",
     "iopub.status.busy": "2021-08-12T09:32:15.746766Z",
     "iopub.status.idle": "2021-08-12T09:32:15.786433Z",
     "shell.execute_reply": "2021-08-12T09:32:15.785438Z",
     "shell.execute_reply.started": "2021-08-12T09:32:15.747790Z"
    },
    "tags": []
   },
   "outputs": [],
   "source": [
    "import os\n",
    "import sys\n",
    "shared_path = '../shared/'\n",
    "if shared_path not in sys.path:\n",
    "    sys.path.append(shared_path)\n",
    "    \n",
    "from Argument import Argument\n",
    "from DataHandler import DataHandler"
   ]
  },
  {
   "cell_type": "markdown",
   "id": "f0eae888-5ab8-4b7e-9442-6324a2259e42",
   "metadata": {},
   "source": [
    "https://huggingface.co/chkla/roberta-argument"
   ]
  },
  {
   "cell_type": "code",
   "execution_count": 2,
   "id": "2d7570c5-647a-48a6-a2e0-78aa6639d9c6",
   "metadata": {
    "execution": {
     "iopub.execute_input": "2021-08-12T09:18:18.105160Z",
     "iopub.status.busy": "2021-08-12T09:18:18.105160Z",
     "iopub.status.idle": "2021-08-12T09:21:11.347264Z",
     "shell.execute_reply": "2021-08-12T09:21:11.346263Z",
     "shell.execute_reply.started": "2021-08-12T09:18:18.105160Z"
    },
    "tags": []
   },
   "outputs": [
    {
     "data": {
      "application/vnd.jupyter.widget-view+json": {
       "model_id": "d5a2ee3188594e3b95205bb999ab2bfe",
       "version_major": 2,
       "version_minor": 0
      },
      "text/plain": [
       "HBox(children=(FloatProgress(value=0.0, description='Downloading', max=790.0, style=ProgressStyle(description_…"
      ]
     },
     "metadata": {},
     "output_type": "display_data"
    },
    {
     "name": "stdout",
     "output_type": "stream",
     "text": [
      "\n"
     ]
    },
    {
     "data": {
      "application/vnd.jupyter.widget-view+json": {
       "model_id": "0704501652eb4c5dab251560925b153b",
       "version_major": 2,
       "version_minor": 0
      },
      "text/plain": [
       "HBox(children=(FloatProgress(value=0.0, description='Downloading', max=798293.0, style=ProgressStyle(descripti…"
      ]
     },
     "metadata": {},
     "output_type": "display_data"
    },
    {
     "name": "stdout",
     "output_type": "stream",
     "text": [
      "\n"
     ]
    },
    {
     "data": {
      "application/vnd.jupyter.widget-view+json": {
       "model_id": "3e6e83baa97a468b96923cefbde473a6",
       "version_major": 2,
       "version_minor": 0
      },
      "text/plain": [
       "HBox(children=(FloatProgress(value=0.0, description='Downloading', max=456356.0, style=ProgressStyle(descripti…"
      ]
     },
     "metadata": {},
     "output_type": "display_data"
    },
    {
     "name": "stdout",
     "output_type": "stream",
     "text": [
      "\n"
     ]
    },
    {
     "data": {
      "application/vnd.jupyter.widget-view+json": {
       "model_id": "5aa7b11e67f54e7c8046240b26a61d5a",
       "version_major": 2,
       "version_minor": 0
      },
      "text/plain": [
       "HBox(children=(FloatProgress(value=0.0, description='Downloading', max=239.0, style=ProgressStyle(description_…"
      ]
     },
     "metadata": {},
     "output_type": "display_data"
    },
    {
     "name": "stdout",
     "output_type": "stream",
     "text": [
      "\n"
     ]
    },
    {
     "data": {
      "application/vnd.jupyter.widget-view+json": {
       "model_id": "902f28d8941a48dabf11c1459f1b2425",
       "version_major": 2,
       "version_minor": 0
      },
      "text/plain": [
       "HBox(children=(FloatProgress(value=0.0, description='Downloading', max=255.0, style=ProgressStyle(description_…"
      ]
     },
     "metadata": {},
     "output_type": "display_data"
    },
    {
     "name": "stdout",
     "output_type": "stream",
     "text": [
      "\n"
     ]
    },
    {
     "data": {
      "application/vnd.jupyter.widget-view+json": {
       "model_id": "4521d4082b12479c97d5d8257727759c",
       "version_major": 2,
       "version_minor": 0
      },
      "text/plain": [
       "HBox(children=(FloatProgress(value=0.0, description='Downloading', max=498679241.0, style=ProgressStyle(descri…"
      ]
     },
     "metadata": {},
     "output_type": "display_data"
    },
    {
     "name": "stdout",
     "output_type": "stream",
     "text": [
      "\n"
     ]
    }
   ],
   "source": [
    "tokenizer = AutoTokenizer.from_pretrained(\"chkla/roberta-argument\")\n",
    "\n",
    "model = AutoModelForSequenceClassification.from_pretrained(\"chkla/roberta-argument\")"
   ]
  },
  {
   "cell_type": "code",
   "execution_count": 6,
   "id": "7959ff8c-af4b-4605-9990-92949f9fe82f",
   "metadata": {
    "execution": {
     "iopub.execute_input": "2021-08-12T09:29:47.807672Z",
     "iopub.status.busy": "2021-08-12T09:29:47.807672Z",
     "iopub.status.idle": "2021-08-12T09:29:47.839761Z",
     "shell.execute_reply": "2021-08-12T09:29:47.831769Z",
     "shell.execute_reply.started": "2021-08-12T09:29:47.807672Z"
    },
    "tags": []
   },
   "outputs": [],
   "source": [
    "pipeline = TextClassificationPipeline(model=model, tokenizer=tokenizer, framework='pt', task='RobArg')"
   ]
  },
  {
   "cell_type": "code",
   "execution_count": 7,
   "id": "1fefadcf-5fcf-428c-b666-8ff823f3d91a",
   "metadata": {
    "execution": {
     "iopub.execute_input": "2021-08-12T09:30:51.237100Z",
     "iopub.status.busy": "2021-08-12T09:30:51.236101Z",
     "iopub.status.idle": "2021-08-12T09:30:51.585002Z",
     "shell.execute_reply": "2021-08-12T09:30:51.583024Z",
     "shell.execute_reply.started": "2021-08-12T09:30:51.237100Z"
    },
    "tags": []
   },
   "outputs": [
    {
     "data": {
      "text/plain": [
       "[{'label': 'NON-ARGUMENT', 'score': 0.5093926787376404}]"
      ]
     },
     "execution_count": 7,
     "metadata": {},
     "output_type": "execute_result"
    }
   ],
   "source": [
    "pipeline(['climate change is human-caused as several scientifc studies have show'])"
   ]
  },
  {
   "cell_type": "code",
   "execution_count": 9,
   "id": "7779d9c0-fbd9-439e-9362-132010b5092d",
   "metadata": {
    "execution": {
     "iopub.execute_input": "2021-08-12T09:32:38.924074Z",
     "iopub.status.busy": "2021-08-12T09:32:38.923074Z",
     "iopub.status.idle": "2021-08-12T09:32:38.999322Z",
     "shell.execute_reply": "2021-08-12T09:32:38.992328Z",
     "shell.execute_reply.started": "2021-08-12T09:32:38.924074Z"
    },
    "tags": []
   },
   "outputs": [],
   "source": [
    "AMSC_PATH = '../../not-gitted/dataset_as_json_file.pickle'\n",
    "data = DataHandler()\n",
    "data.load_bin(AMSC_PATH)"
   ]
  },
  {
   "cell_type": "code",
   "execution_count": 26,
   "id": "3089b7f3-7f89-42bd-b823-15b64abbf845",
   "metadata": {
    "execution": {
     "iopub.execute_input": "2021-08-12T09:45:54.718960Z",
     "iopub.status.busy": "2021-08-12T09:45:54.717959Z",
     "iopub.status.idle": "2021-08-12T09:45:54.739961Z",
     "shell.execute_reply": "2021-08-12T09:45:54.737975Z",
     "shell.execute_reply.started": "2021-08-12T09:45:54.718960Z"
    },
    "tags": []
   },
   "outputs": [],
   "source": [
    "full_args = list()\n",
    "too_long = list() # usually, only the snippet should be scored, so no worries about the long ones\n",
    "for a in data.get_arguments():\n",
    "    full_text = ' '.join(a.sentences)\n",
    "    if len(full_text) <= 512:\n",
    "        full_args.append(full_text)\n",
    "    else:\n",
    "        too_long.append(full_text)"
   ]
  },
  {
   "cell_type": "code",
   "execution_count": 15,
   "id": "eafc90b3-50e8-4e38-92dc-4261f24c6e44",
   "metadata": {
    "execution": {
     "iopub.execute_input": "2021-08-12T09:35:45.031430Z",
     "iopub.status.busy": "2021-08-12T09:35:45.031430Z",
     "iopub.status.idle": "2021-08-12T09:35:45.052453Z",
     "shell.execute_reply": "2021-08-12T09:35:45.041454Z",
     "shell.execute_reply.started": "2021-08-12T09:35:45.031430Z"
    },
    "tags": []
   },
   "outputs": [
    {
     "data": {
      "text/plain": [
       "46"
      ]
     },
     "execution_count": 15,
     "metadata": {},
     "output_type": "execute_result"
    }
   ],
   "source": [
    "len(full_args)"
   ]
  },
  {
   "cell_type": "code",
   "execution_count": 16,
   "id": "dc014d7e-8715-40c2-8810-59e354295fd3",
   "metadata": {
    "execution": {
     "iopub.execute_input": "2021-08-12T09:35:50.338939Z",
     "iopub.status.busy": "2021-08-12T09:35:50.338939Z",
     "iopub.status.idle": "2021-08-12T09:36:07.098442Z",
     "shell.execute_reply": "2021-08-12T09:36:07.091436Z",
     "shell.execute_reply.started": "2021-08-12T09:35:50.338939Z"
    },
    "tags": []
   },
   "outputs": [
    {
     "data": {
      "text/plain": [
       "[{'label': 'NON-ARGUMENT', 'score': 0.6045750379562378},\n",
       " {'label': 'ARGUMENT', 'score': 0.9114399552345276},\n",
       " {'label': 'NON-ARGUMENT', 'score': 0.5103525519371033},\n",
       " {'label': 'NON-ARGUMENT', 'score': 0.9918693900108337},\n",
       " {'label': 'NON-ARGUMENT', 'score': 0.9873208999633789},\n",
       " {'label': 'NON-ARGUMENT', 'score': 0.9436517357826233},\n",
       " {'label': 'NON-ARGUMENT', 'score': 0.9521360993385315},\n",
       " {'label': 'NON-ARGUMENT', 'score': 0.9903400540351868},\n",
       " {'label': 'NON-ARGUMENT', 'score': 0.9812140464782715},\n",
       " {'label': 'ARGUMENT', 'score': 0.5846001505851746},\n",
       " {'label': 'NON-ARGUMENT', 'score': 0.6325599551200867},\n",
       " {'label': 'NON-ARGUMENT', 'score': 0.613366425037384},\n",
       " {'label': 'ARGUMENT', 'score': 0.8401924967765808},\n",
       " {'label': 'NON-ARGUMENT', 'score': 0.5460851192474365},\n",
       " {'label': 'NON-ARGUMENT', 'score': 0.5590177774429321},\n",
       " {'label': 'ARGUMENT', 'score': 0.9483023285865784},\n",
       " {'label': 'ARGUMENT', 'score': 0.820514440536499},\n",
       " {'label': 'ARGUMENT', 'score': 0.9417255520820618},\n",
       " {'label': 'NON-ARGUMENT', 'score': 0.8402958512306213},\n",
       " {'label': 'NON-ARGUMENT', 'score': 0.9428471922874451},\n",
       " {'label': 'NON-ARGUMENT', 'score': 0.9877132773399353},\n",
       " {'label': 'ARGUMENT', 'score': 0.5742315649986267},\n",
       " {'label': 'ARGUMENT', 'score': 0.521354615688324},\n",
       " {'label': 'ARGUMENT', 'score': 0.5528885126113892},\n",
       " {'label': 'NON-ARGUMENT', 'score': 0.665314793586731},\n",
       " {'label': 'ARGUMENT', 'score': 0.6322652101516724},\n",
       " {'label': 'NON-ARGUMENT', 'score': 0.9936140179634094},\n",
       " {'label': 'NON-ARGUMENT', 'score': 0.9375369548797607},\n",
       " {'label': 'NON-ARGUMENT', 'score': 0.9669577479362488},\n",
       " {'label': 'NON-ARGUMENT', 'score': 0.9645989537239075},\n",
       " {'label': 'NON-ARGUMENT', 'score': 0.8876125812530518},\n",
       " {'label': 'ARGUMENT', 'score': 0.9637642502784729},\n",
       " {'label': 'ARGUMENT', 'score': 0.9782508611679077},\n",
       " {'label': 'ARGUMENT', 'score': 0.9782508611679077},\n",
       " {'label': 'ARGUMENT', 'score': 0.9662163853645325},\n",
       " {'label': 'ARGUMENT', 'score': 0.8314633965492249},\n",
       " {'label': 'ARGUMENT', 'score': 0.9380474090576172},\n",
       " {'label': 'NON-ARGUMENT', 'score': 0.9548677802085876},\n",
       " {'label': 'NON-ARGUMENT', 'score': 0.9817023873329163},\n",
       " {'label': 'NON-ARGUMENT', 'score': 0.9916855096817017},\n",
       " {'label': 'NON-ARGUMENT', 'score': 0.9198048114776611},\n",
       " {'label': 'NON-ARGUMENT', 'score': 0.9667579531669617},\n",
       " {'label': 'NON-ARGUMENT', 'score': 0.9915584921836853},\n",
       " {'label': 'ARGUMENT', 'score': 0.7621071934700012},\n",
       " {'label': 'ARGUMENT', 'score': 0.9471828937530518},\n",
       " {'label': 'ARGUMENT', 'score': 0.7014718651771545}]"
      ]
     },
     "execution_count": 16,
     "metadata": {},
     "output_type": "execute_result"
    }
   ],
   "source": [
    "pipeline(full_args)"
   ]
  },
  {
   "cell_type": "code",
   "execution_count": 19,
   "id": "55a820fa-32b5-41d7-b963-b1698afefb7f",
   "metadata": {
    "execution": {
     "iopub.execute_input": "2021-08-12T09:40:28.862214Z",
     "iopub.status.busy": "2021-08-12T09:40:28.862214Z",
     "iopub.status.idle": "2021-08-12T09:40:35.009292Z",
     "shell.execute_reply": "2021-08-12T09:40:35.002277Z",
     "shell.execute_reply.started": "2021-08-12T09:40:28.862214Z"
    },
    "tags": []
   },
   "outputs": [],
   "source": [
    "aq_tokenizer = AutoTokenizer.from_pretrained('bert-base-uncased')\n",
    "aq_model = BertForSequenceClassification.from_pretrained('../bert-finetuning/results/argQ-bert-base-uncased')"
   ]
  },
  {
   "cell_type": "code",
   "execution_count": 21,
   "id": "8ebb0eeb-eb7d-4a3d-9690-44a11dfb565b",
   "metadata": {
    "execution": {
     "iopub.execute_input": "2021-08-12T09:41:27.674603Z",
     "iopub.status.busy": "2021-08-12T09:41:27.674603Z",
     "iopub.status.idle": "2021-08-12T09:41:27.697047Z",
     "shell.execute_reply": "2021-08-12T09:41:27.692489Z",
     "shell.execute_reply.started": "2021-08-12T09:41:27.674603Z"
    },
    "tags": []
   },
   "outputs": [],
   "source": [
    "aq_pipe = TextClassificationPipeline(model=aq_model, tokenizer=aq_tokenizer, framework='pt', task='ArgQ')"
   ]
  },
  {
   "cell_type": "code",
   "execution_count": 24,
   "id": "ee259870-4e61-4538-b67a-9e2e7fa2d900",
   "metadata": {
    "execution": {
     "iopub.execute_input": "2021-08-12T09:43:13.006262Z",
     "iopub.status.busy": "2021-08-12T09:43:13.006262Z",
     "iopub.status.idle": "2021-08-12T09:43:32.055787Z",
     "shell.execute_reply": "2021-08-12T09:43:32.054790Z",
     "shell.execute_reply.started": "2021-08-12T09:43:13.006262Z"
    },
    "tags": []
   },
   "outputs": [
    {
     "name": "stdout",
     "output_type": "stream",
     "text": [
      "Wall time: 19 s\n"
     ]
    },
    {
     "data": {
      "text/plain": [
       "[{'label': 'LABEL_0', 'score': 0.6622899174690247},\n",
       " {'label': 'LABEL_0', 'score': 0.6620169878005981},\n",
       " {'label': 'LABEL_0', 'score': 0.6113019585609436},\n",
       " {'label': 'LABEL_0', 'score': 0.6381762027740479},\n",
       " {'label': 'LABEL_0', 'score': 0.6885226964950562},\n",
       " {'label': 'LABEL_0', 'score': 0.649756669998169},\n",
       " {'label': 'LABEL_0', 'score': 0.6256880164146423},\n",
       " {'label': 'LABEL_0', 'score': 0.6511229276657104},\n",
       " {'label': 'LABEL_0', 'score': 0.653847336769104},\n",
       " {'label': 'LABEL_0', 'score': 0.6165847182273865},\n",
       " {'label': 'LABEL_0', 'score': 0.6644134521484375},\n",
       " {'label': 'LABEL_0', 'score': 0.6766158938407898},\n",
       " {'label': 'LABEL_0', 'score': 0.645361065864563},\n",
       " {'label': 'LABEL_0', 'score': 0.7158547639846802},\n",
       " {'label': 'LABEL_0', 'score': 0.6039143800735474},\n",
       " {'label': 'LABEL_0', 'score': 0.6621943712234497},\n",
       " {'label': 'LABEL_0', 'score': 0.6857247948646545},\n",
       " {'label': 'LABEL_0', 'score': 0.7086217999458313},\n",
       " {'label': 'LABEL_0', 'score': 0.6754872798919678},\n",
       " {'label': 'LABEL_0', 'score': 0.6158011555671692},\n",
       " {'label': 'LABEL_0', 'score': 0.5879724621772766},\n",
       " {'label': 'LABEL_0', 'score': 0.7054951190948486},\n",
       " {'label': 'LABEL_0', 'score': 0.6592985987663269},\n",
       " {'label': 'LABEL_0', 'score': 0.6608780026435852},\n",
       " {'label': 'LABEL_0', 'score': 0.6965144276618958},\n",
       " {'label': 'LABEL_0', 'score': 0.7003094553947449},\n",
       " {'label': 'LABEL_0', 'score': 0.6317998170852661},\n",
       " {'label': 'LABEL_0', 'score': 0.6225982308387756},\n",
       " {'label': 'LABEL_0', 'score': 0.5791367292404175},\n",
       " {'label': 'LABEL_0', 'score': 0.613473117351532},\n",
       " {'label': 'LABEL_0', 'score': 0.6903708577156067},\n",
       " {'label': 'LABEL_0', 'score': 0.6620909571647644},\n",
       " {'label': 'LABEL_0', 'score': 0.7054345607757568},\n",
       " {'label': 'LABEL_0', 'score': 0.7054345607757568},\n",
       " {'label': 'LABEL_0', 'score': 0.70700603723526},\n",
       " {'label': 'LABEL_0', 'score': 0.6830382943153381},\n",
       " {'label': 'LABEL_0', 'score': 0.631065845489502},\n",
       " {'label': 'LABEL_0', 'score': 0.6132465600967407},\n",
       " {'label': 'LABEL_0', 'score': 0.5772656798362732},\n",
       " {'label': 'LABEL_0', 'score': 0.5502045154571533},\n",
       " {'label': 'LABEL_0', 'score': 0.7039660215377808},\n",
       " {'label': 'LABEL_0', 'score': 0.5522779226303101},\n",
       " {'label': 'LABEL_0', 'score': 0.5627879500389099},\n",
       " {'label': 'LABEL_0', 'score': 0.6722885370254517},\n",
       " {'label': 'LABEL_0', 'score': 0.6682021021842957},\n",
       " {'label': 'LABEL_0', 'score': 0.6723165512084961}]"
      ]
     },
     "execution_count": 24,
     "metadata": {},
     "output_type": "execute_result"
    }
   ],
   "source": [
    "%%time\n",
    "aq_pipe(full_args)"
   ]
  }
 ],
 "metadata": {
  "kernelspec": {
   "display_name": "thesis",
   "language": "python",
   "name": "thesis"
  },
  "language_info": {
   "codemirror_mode": {
    "name": "ipython",
    "version": 3
   },
   "file_extension": ".py",
   "mimetype": "text/x-python",
   "name": "python",
   "nbconvert_exporter": "python",
   "pygments_lexer": "ipython3",
   "version": "3.7.10"
  }
 },
 "nbformat": 4,
 "nbformat_minor": 5
}
