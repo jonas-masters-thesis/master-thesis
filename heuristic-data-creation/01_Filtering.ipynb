{
 "cells": [
  {
   "cell_type": "code",
   "execution_count": 1,
   "id": "a0f86408",
   "metadata": {
    "execution": {
     "iopub.execute_input": "2022-01-06T08:59:11.221467Z",
     "iopub.status.busy": "2022-01-06T08:59:11.221467Z",
     "iopub.status.idle": "2022-01-06T08:59:18.034309Z",
     "shell.execute_reply": "2022-01-06T08:59:18.033328Z",
     "shell.execute_reply.started": "2022-01-06T08:59:11.221467Z"
    },
    "tags": []
   },
   "outputs": [],
   "source": [
    "import pandas as pd\n",
    "import numpy as np\n",
    "import json\n",
    "from tqdm import tqdm\n",
    "from nltk import sent_tokenize, word_tokenize\n",
    "from IPython.display import display\n",
    "import re\n",
    "import json\n",
    "import matplotlib.pyplot as plt"
   ]
  },
  {
   "cell_type": "code",
   "execution_count": 2,
   "id": "dda6d0b9",
   "metadata": {
    "execution": {
     "iopub.execute_input": "2022-01-06T08:59:18.038310Z",
     "iopub.status.busy": "2022-01-06T08:59:18.038310Z",
     "iopub.status.idle": "2022-01-06T08:59:25.407423Z",
     "shell.execute_reply": "2022-01-06T08:59:25.406424Z",
     "shell.execute_reply.started": "2022-01-06T08:59:18.038310Z"
    },
    "tags": []
   },
   "outputs": [],
   "source": [
    "with open('../../not-gitted/argsme-1.0-cleaned/args-me-1.0-cleaned-as-list.json', 'r') as f:\n",
    "        d = json.load(f)"
   ]
  },
  {
   "cell_type": "code",
   "execution_count": 3,
   "id": "ec5b1e39",
   "metadata": {
    "execution": {
     "iopub.execute_input": "2022-01-06T08:59:25.473220Z",
     "iopub.status.busy": "2022-01-06T08:59:25.472220Z",
     "iopub.status.idle": "2022-01-06T08:59:25.487362Z",
     "shell.execute_reply": "2022-01-06T08:59:25.485368Z",
     "shell.execute_reply.started": "2022-01-06T08:59:25.472220Z"
    },
    "tags": []
   },
   "outputs": [
    {
     "data": {
      "text/plain": [
       "382545"
      ]
     },
     "execution_count": 3,
     "metadata": {},
     "output_type": "execute_result"
    }
   ],
   "source": [
    "len(d)"
   ]
  },
  {
   "cell_type": "code",
   "execution_count": 4,
   "id": "34aca72a-f8b8-4a76-9b25-1ad21324aca5",
   "metadata": {
    "execution": {
     "iopub.execute_input": "2022-01-06T08:59:25.494423Z",
     "iopub.status.busy": "2022-01-06T08:59:25.493410Z",
     "iopub.status.idle": "2022-01-06T08:59:25.517776Z",
     "shell.execute_reply": "2022-01-06T08:59:25.516935Z",
     "shell.execute_reply.started": "2022-01-06T08:59:25.494423Z"
    },
    "tags": []
   },
   "outputs": [
    {
     "name": "stdout",
     "output_type": "stream",
     "text": [
      "{\n",
      "  \"premises\": [\n",
      "    {\n",
      "      \"text\": \"I stand in affirmation. First I will start with definitions Lodz Ghetto- The Jew \\\"Ghetto\\\" Which existed from 1939 until 1944 during WWII Jew- a person whose religion is Judaism. (dictionary.com) Rumkowski- Mordechai Chaim Rumkowski, the Alteste (Elder of the Jews) of the inhabitants of the Lodz Ghetto. With that out of the way, i'm going to state a couple of reasons why I believe he did help the poor Jews in the ghetto. 1. He allegedly cut down the first deportations of Jews and Gypsies to the concentration camp (Chelmna) in half. 2. He made the ghetto valuable to the Nazis by making factories which supplied the Germans with everything from munitions to textiles. Therefore, the Nazis were more reluctant to kill all the Jews in the ghetto. 3. He preserved the ghetto and it was the longest lasting ghetto of the war. 4. Around 800 people eventually survived the ordeal, the largest of any ghetto. I hope someone decided to debate this with me.\",\n",
      "      \"stance\": \"PRO\"\n",
      "    }\n",
      "  ],\n",
      "  \"context\": {\n",
      "    \"sourceId\": \"46c634d4-2019-04-18T19:30:44Z\",\n",
      "    \"previousArgumentInSourceId\": \"46c634d4-2019-04-18T19:30:44Z-00004-000\",\n",
      "    \"acquisitionTime\": \"2019-04-18T19:30:44Z\",\n",
      "    \"discussionTitle\": \"Rumkowski did everything he could to help the suffering Jews in Lodz Ghetto\",\n",
      "    \"sourceTitle\": \"Debate Topic: Rumkowski did everything he could to help the suffering Jews in Lodz Ghetto | Debate.org\",\n",
      "    \"sourceUrl\": \"https://www.debate.org/debates/Rumkowski-did-everything-he-could-to-help-the-suffering-Jews-in-Lodz-Ghetto/1/\",\n",
      "    \"nextArgumentInSourceId\": \"\"\n",
      "  },\n",
      "  \"id\": \"46c634d4-2019-04-18T19:30:44Z-00005-000\",\n",
      "  \"conclusion\": \"Rumkowski did everything he could to help the suffering Jews in Lodz Ghetto\"\n",
      "}\n"
     ]
    }
   ],
   "source": [
    "print(json.dumps(d[13254], indent=2))"
   ]
  },
  {
   "cell_type": "markdown",
   "id": "0dee9282",
   "metadata": {},
   "source": [
    "# Filter conclusions"
   ]
  },
  {
   "cell_type": "code",
   "execution_count": 5,
   "id": "4c5beac1",
   "metadata": {
    "execution": {
     "iopub.execute_input": "2022-01-06T08:59:25.528853Z",
     "iopub.status.busy": "2022-01-06T08:59:25.528853Z",
     "iopub.status.idle": "2022-01-06T08:59:25.548347Z",
     "shell.execute_reply": "2022-01-06T08:59:25.547376Z",
     "shell.execute_reply.started": "2022-01-06T08:59:25.528853Z"
    },
    "tags": []
   },
   "outputs": [],
   "source": [
    "def get_conclusions(arguments):\n",
    "    rows = list()\n",
    "    for argument in tqdm(arguments):\n",
    "        conclusion = argument['conclusion']\n",
    "        id = argument['id']\n",
    "        conc_len = len(word_tokenize(conclusion))\n",
    "        rows.append({'id': id, 'conclusion': conclusion, 'conc_len': conc_len})\n",
    "\n",
    "    rows = list({v['id'][:-9]: v for v in rows}.values())\n",
    "    args = pd.DataFrame.from_records(rows)\n",
    "    #args.to_csv('results/conclusions.csv', index\n",
    "    return args"
   ]
  },
  {
   "cell_type": "code",
   "execution_count": 6,
   "id": "0249dae1",
   "metadata": {
    "execution": {
     "iopub.execute_input": "2022-01-06T08:59:25.552343Z",
     "iopub.status.busy": "2022-01-06T08:59:25.552343Z",
     "iopub.status.idle": "2022-01-06T09:00:09.466271Z",
     "shell.execute_reply": "2022-01-06T09:00:09.465270Z",
     "shell.execute_reply.started": "2022-01-06T08:59:25.552343Z"
    },
    "tags": []
   },
   "outputs": [
    {
     "name": "stderr",
     "output_type": "stream",
     "text": [
      "100%|████████████████████████████████████████████████████████████████████████| 382545/382545 [00:43<00:00, 8775.43it/s]\n"
     ]
    },
    {
     "data": {
      "text/html": [
       "<div>\n",
       "<style scoped>\n",
       "    .dataframe tbody tr th:only-of-type {\n",
       "        vertical-align: middle;\n",
       "    }\n",
       "\n",
       "    .dataframe tbody tr th {\n",
       "        vertical-align: top;\n",
       "    }\n",
       "\n",
       "    .dataframe thead th {\n",
       "        text-align: right;\n",
       "    }\n",
       "</style>\n",
       "<table border=\"1\" class=\"dataframe\">\n",
       "  <thead>\n",
       "    <tr style=\"text-align: right;\">\n",
       "      <th></th>\n",
       "      <th>id</th>\n",
       "      <th>conclusion</th>\n",
       "      <th>conc_len</th>\n",
       "    </tr>\n",
       "  </thead>\n",
       "  <tbody>\n",
       "    <tr>\n",
       "      <th>0</th>\n",
       "      <td>c67482ba-2019-04-18T13:32:05Z-00003-000</td>\n",
       "      <td>Contraceptive Forms for High School Students</td>\n",
       "      <td>6</td>\n",
       "    </tr>\n",
       "    <tr>\n",
       "      <th>1</th>\n",
       "      <td>4d3d4471-2019-04-18T11:45:01Z-00003-000</td>\n",
       "      <td>Australia should be a more significant country</td>\n",
       "      <td>7</td>\n",
       "    </tr>\n",
       "    <tr>\n",
       "      <th>2</th>\n",
       "      <td>fbe6ad2-2019-04-18T11:12:36Z-00006-000</td>\n",
       "      <td>The closet dementia of the superior ego god co...</td>\n",
       "      <td>20</td>\n",
       "    </tr>\n",
       "    <tr>\n",
       "      <th>3</th>\n",
       "      <td>3e59690a-2019-04-18T16:49:22Z-00002-000</td>\n",
       "      <td>Composition Contest</td>\n",
       "      <td>2</td>\n",
       "    </tr>\n",
       "    <tr>\n",
       "      <th>4</th>\n",
       "      <td>c3e9c4a6-2019-04-18T14:36:11Z-00004-000</td>\n",
       "      <td>Debates are harder when you are the first one ...</td>\n",
       "      <td>14</td>\n",
       "    </tr>\n",
       "    <tr>\n",
       "      <th>...</th>\n",
       "      <td>...</td>\n",
       "      <td>...</td>\n",
       "      <td>...</td>\n",
       "    </tr>\n",
       "    <tr>\n",
       "      <th>59628</th>\n",
       "      <td>87d0ccd3-2019-04-17T11:47:45Z-00048-000</td>\n",
       "      <td>Prostitution</td>\n",
       "      <td>1</td>\n",
       "    </tr>\n",
       "    <tr>\n",
       "      <th>59629</th>\n",
       "      <td>a7c47a5c-2019-04-17T11:47:49Z-00003-000</td>\n",
       "      <td>Legalization of drugs</td>\n",
       "      <td>3</td>\n",
       "    </tr>\n",
       "    <tr>\n",
       "      <th>59630</th>\n",
       "      <td>36fa654a-2019-04-17T11:47:28Z-00026-000</td>\n",
       "      <td>Banks are unlikely to pass tax on to consumers</td>\n",
       "      <td>9</td>\n",
       "    </tr>\n",
       "    <tr>\n",
       "      <th>59631</th>\n",
       "      <td>2772ce32-2019-04-17T11:47:25Z-00007-000</td>\n",
       "      <td>Ground zero mosque</td>\n",
       "      <td>3</td>\n",
       "    </tr>\n",
       "    <tr>\n",
       "      <th>59632</th>\n",
       "      <td>671509c8-2019-04-17T11:47:34Z-00007-000</td>\n",
       "      <td>Charter schools</td>\n",
       "      <td>2</td>\n",
       "    </tr>\n",
       "  </tbody>\n",
       "</table>\n",
       "<p>59633 rows × 3 columns</p>\n",
       "</div>"
      ],
      "text/plain": [
       "                                            id  \\\n",
       "0      c67482ba-2019-04-18T13:32:05Z-00003-000   \n",
       "1      4d3d4471-2019-04-18T11:45:01Z-00003-000   \n",
       "2       fbe6ad2-2019-04-18T11:12:36Z-00006-000   \n",
       "3      3e59690a-2019-04-18T16:49:22Z-00002-000   \n",
       "4      c3e9c4a6-2019-04-18T14:36:11Z-00004-000   \n",
       "...                                        ...   \n",
       "59628  87d0ccd3-2019-04-17T11:47:45Z-00048-000   \n",
       "59629  a7c47a5c-2019-04-17T11:47:49Z-00003-000   \n",
       "59630  36fa654a-2019-04-17T11:47:28Z-00026-000   \n",
       "59631  2772ce32-2019-04-17T11:47:25Z-00007-000   \n",
       "59632  671509c8-2019-04-17T11:47:34Z-00007-000   \n",
       "\n",
       "                                              conclusion  conc_len  \n",
       "0           Contraceptive Forms for High School Students         6  \n",
       "1         Australia should be a more significant country         7  \n",
       "2      The closet dementia of the superior ego god co...        20  \n",
       "3                                    Composition Contest         2  \n",
       "4      Debates are harder when you are the first one ...        14  \n",
       "...                                                  ...       ...  \n",
       "59628                                       Prostitution         1  \n",
       "59629                              Legalization of drugs         3  \n",
       "59630     Banks are unlikely to pass tax on to consumers         9  \n",
       "59631                                 Ground zero mosque         3  \n",
       "59632                                    Charter schools         2  \n",
       "\n",
       "[59633 rows x 3 columns]"
      ]
     },
     "execution_count": 6,
     "metadata": {},
     "output_type": "execute_result"
    }
   ],
   "source": [
    "conclusions = get_conclusions(d)\n",
    "conclusions"
   ]
  },
  {
   "cell_type": "markdown",
   "id": "6172c612",
   "metadata": {},
   "source": [
    "__Filter conclusions that are have length above average+std__"
   ]
  },
  {
   "cell_type": "code",
   "execution_count": 7,
   "id": "1d4067b5-f43a-49ba-ab46-065b49ac4808",
   "metadata": {
    "execution": {
     "iopub.execute_input": "2022-01-06T09:00:32.774074Z",
     "iopub.status.busy": "2022-01-06T09:00:32.774074Z",
     "iopub.status.idle": "2022-01-06T09:00:33.101338Z",
     "shell.execute_reply": "2022-01-06T09:00:33.101133Z",
     "shell.execute_reply.started": "2022-01-06T09:00:32.774074Z"
    },
    "tags": []
   },
   "outputs": [
    {
     "data": {
      "text/plain": [
       "<AxesSubplot:>"
      ]
     },
     "execution_count": 7,
     "metadata": {},
     "output_type": "execute_result"
    },
    {
     "data": {
      "image/png": "[encoded data removed]",
      "text/plain": [
       "<Figure size 432x288 with 1 Axes>"
      ]
     },
     "metadata": {
      "needs_background": "light"
     },
     "output_type": "display_data"
    }
   ],
   "source": [
    "conclusions.boxplot(column='conc_len', vert=False)#, rot=90)\n",
    "#conclusions[['conc_len']].T.boxplot(vert=False)\n",
    "#plt.subplots_adjust(left=0.25)\n",
    "#plt.show()"
   ]
  },
  {
   "cell_type": "code",
   "execution_count": 12,
   "id": "1e958e54-d8e7-49a3-966e-ada7f476532d",
   "metadata": {
    "execution": {
     "iopub.execute_input": "2022-01-06T09:02:14.457453Z",
     "iopub.status.busy": "2022-01-06T09:02:14.457453Z",
     "iopub.status.idle": "2022-01-06T09:02:14.646393Z",
     "shell.execute_reply": "2022-01-06T09:02:14.645427Z",
     "shell.execute_reply.started": "2022-01-06T09:02:14.457453Z"
    },
    "tags": []
   },
   "outputs": [
    {
     "name": "stderr",
     "output_type": "stream",
     "text": [
      "C:\\ProgramData\\Anaconda3\\envs\\thesis\\lib\\site-packages\\ipykernel_launcher.py:5: UserWarning: FixedFormatter should only be used together with FixedLocator\n",
      "  \"\"\"\n"
     ]
    },
    {
     "data": {
      "image/png": "[encoded data removed]",
      "text/plain": [
       "<Figure size 504x360 with 1 Axes>"
      ]
     },
     "metadata": {
      "needs_background": "light"
     },
     "output_type": "display_data"
    }
   ],
   "source": [
    "fig, ax = plt.subplots(figsize=(7,5))\n",
    "ax.boxplot(conclusions.conc_len.values, vert=False, showmeans=True, labels=[''])\n",
    "ax.grid(True)\n",
    "ax.set_xlabel(\"Conclusion length\", size=15)\n",
    "ax.set_xticklabels(range(-10,60,10), size=15)\n",
    "#plt.ylabel(\"Calorie Burnage\")\n",
    "plt.savefig('conc_len_boxplot.pdf')"
   ]
  },
  {
   "cell_type": "code",
   "execution_count": 15,
   "id": "191a68db-5206-4654-89e2-71abab0abd40",
   "metadata": {
    "execution": {
     "iopub.execute_input": "2022-01-06T09:03:02.633921Z",
     "iopub.status.busy": "2022-01-06T09:03:02.633057Z",
     "iopub.status.idle": "2022-01-06T09:03:02.761268Z",
     "shell.execute_reply": "2022-01-06T09:03:02.760423Z",
     "shell.execute_reply.started": "2022-01-06T09:03:02.633921Z"
    },
    "tags": []
   },
   "outputs": [
    {
     "data": {
      "image/png": "[encoded data removed]",
      "text/plain": [
       "<Figure size 432x288 with 1 Axes>"
      ]
     },
     "metadata": {
      "needs_background": "light"
     },
     "output_type": "display_data"
    }
   ],
   "source": [
    "plt.boxplot(conclusions.conc_len.values, vert=False, showmeans=True, labels=[''])\n",
    "plt.grid(True)\n",
    "plt.show()"
   ]
  },
  {
   "cell_type": "code",
   "execution_count": 18,
   "id": "2afd26ce-4244-4c84-829b-a8e5eb689d75",
   "metadata": {
    "execution": {
     "iopub.execute_input": "2021-11-27T12:12:49.285822Z",
     "iopub.status.busy": "2021-11-27T12:12:49.284639Z",
     "iopub.status.idle": "2021-11-27T12:12:49.913494Z",
     "shell.execute_reply": "2021-11-27T12:12:49.912496Z",
     "shell.execute_reply.started": "2021-11-27T12:12:49.285822Z"
    },
    "tags": []
   },
   "outputs": [
    {
     "data": {
      "image/png": "[encoded data removed]",
      "text/plain": [
       "<Figure size 432x288 with 1 Axes>"
      ]
     },
     "metadata": {
      "needs_background": "light"
     },
     "output_type": "display_data"
    }
   ],
   "source": [
    "plt.violinplot(conclusions.conc_len.values, vert=False,showmeans=True,showextrema=True)\n",
    "plt.grid(True)\n",
    "plt.xlabel(\"Conclusion length\")\n",
    "#plt.ylabel(\"Calorie Burnage\")\n",
    "plt.savefig('conc_len.violinplot.pdf')"
   ]
  },
  {
   "cell_type": "code",
   "execution_count": 23,
   "id": "6a28376e-ed63-4d2d-807c-1a421313fde3",
   "metadata": {
    "execution": {
     "iopub.execute_input": "2021-11-27T12:19:11.475573Z",
     "iopub.status.busy": "2021-11-27T12:19:11.475105Z",
     "iopub.status.idle": "2021-11-27T12:19:14.644451Z",
     "shell.execute_reply": "2021-11-27T12:19:14.643814Z",
     "shell.execute_reply.started": "2021-11-27T12:19:11.475573Z"
    },
    "tags": []
   },
   "outputs": [
    {
     "data": {
      "text/plain": [
       "<AxesSubplot:ylabel='Density'>"
      ]
     },
     "execution_count": 23,
     "metadata": {},
     "output_type": "execute_result"
    },
    {
     "data": {
      "image/png": "[encoded data removed]",
      "text/plain": [
       "<Figure size 432x288 with 1 Axes>"
      ]
     },
     "metadata": {
      "needs_background": "light"
     },
     "output_type": "display_data"
    }
   ],
   "source": [
    "conclusions.conc_len.plot(kind='density')"
   ]
  },
  {
   "cell_type": "code",
   "execution_count": 28,
   "id": "023a1c75-f814-4e46-9dc8-18c21d1c63c3",
   "metadata": {
    "execution": {
     "iopub.execute_input": "2021-11-27T12:21:13.839503Z",
     "iopub.status.busy": "2021-11-27T12:21:13.838504Z",
     "iopub.status.idle": "2021-11-27T12:21:14.738440Z",
     "shell.execute_reply": "2021-11-27T12:21:14.737440Z",
     "shell.execute_reply.started": "2021-11-27T12:21:13.838504Z"
    },
    "tags": []
   },
   "outputs": [
    {
     "data": {
      "text/plain": [
       "<AxesSubplot:>"
      ]
     },
     "execution_count": 28,
     "metadata": {},
     "output_type": "execute_result"
    },
    {
     "data": {
      "image/png": "[encoded data removed]",
      "text/plain": [
       "<Figure size 432x288 with 1 Axes>"
      ]
     },
     "metadata": {
      "needs_background": "light"
     },
     "output_type": "display_data"
    }
   ],
   "source": [
    "conclusions.conc_len.hist(bins=300)"
   ]
  },
  {
   "cell_type": "code",
   "execution_count": 7,
   "id": "1a4d5476",
   "metadata": {
    "execution": {
     "iopub.execute_input": "2021-11-27T11:37:22.701411Z",
     "iopub.status.busy": "2021-11-27T11:37:22.700503Z",
     "iopub.status.idle": "2021-11-27T11:37:22.723174Z",
     "shell.execute_reply": "2021-11-27T11:37:22.721178Z",
     "shell.execute_reply.started": "2021-11-27T11:37:22.701411Z"
    },
    "tags": []
   },
   "outputs": [
    {
     "name": "stdout",
     "output_type": "stream",
     "text": [
      "mean = 7.904633340600004\n",
      " std = 4.512036141161882\n"
     ]
    }
   ],
   "source": [
    "mean_length = np.mean(conclusions.conc_len.values)\n",
    "std_length = np.std(conclusions.conc_len.values)\n",
    "print(f'mean = {mean_length}\\n std = {std_length}')\n",
    "threshold = mean_length + std_length"
   ]
  },
  {
   "cell_type": "code",
   "execution_count": 13,
   "id": "e3f22dc2",
   "metadata": {
    "execution": {
     "iopub.execute_input": "2021-08-12T10:31:08.006187Z",
     "iopub.status.busy": "2021-08-12T10:31:08.005185Z",
     "iopub.status.idle": "2021-08-12T10:31:08.029310Z",
     "shell.execute_reply": "2021-08-12T10:31:08.024505Z",
     "shell.execute_reply.started": "2021-08-12T10:31:08.005185Z"
    },
    "tags": []
   },
   "outputs": [
    {
     "data": {
      "text/plain": [
       "12.416669481761886"
      ]
     },
     "execution_count": 13,
     "metadata": {},
     "output_type": "execute_result"
    }
   ],
   "source": [
    "mean_length + std_length"
   ]
  },
  {
   "cell_type": "code",
   "execution_count": 14,
   "id": "cd1e8272",
   "metadata": {
    "execution": {
     "iopub.execute_input": "2021-08-12T10:31:09.025278Z",
     "iopub.status.busy": "2021-08-12T10:31:09.025278Z",
     "iopub.status.idle": "2021-08-12T10:31:09.121882Z",
     "shell.execute_reply": "2021-08-12T10:31:09.114887Z",
     "shell.execute_reply.started": "2021-08-12T10:31:09.025278Z"
    },
    "tags": []
   },
   "outputs": [
    {
     "data": {
      "text/html": [
       "<div>\n",
       "<style scoped>\n",
       "    .dataframe tbody tr th:only-of-type {\n",
       "        vertical-align: middle;\n",
       "    }\n",
       "\n",
       "    .dataframe tbody tr th {\n",
       "        vertical-align: top;\n",
       "    }\n",
       "\n",
       "    .dataframe thead th {\n",
       "        text-align: right;\n",
       "    }\n",
       "</style>\n",
       "<table border=\"1\" class=\"dataframe\">\n",
       "  <thead>\n",
       "    <tr style=\"text-align: right;\">\n",
       "      <th></th>\n",
       "      <th>id</th>\n",
       "      <th>conclusion</th>\n",
       "      <th>conc_len</th>\n",
       "    </tr>\n",
       "  </thead>\n",
       "  <tbody>\n",
       "    <tr>\n",
       "      <th>2</th>\n",
       "      <td>fbe6ad2-2019-04-18T11:12:36Z-00006-000</td>\n",
       "      <td>The closet dementia of the superior ego god co...</td>\n",
       "      <td>20</td>\n",
       "    </tr>\n",
       "    <tr>\n",
       "      <th>4</th>\n",
       "      <td>c3e9c4a6-2019-04-18T14:36:11Z-00004-000</td>\n",
       "      <td>Debates are harder when you are the first one ...</td>\n",
       "      <td>14</td>\n",
       "    </tr>\n",
       "    <tr>\n",
       "      <th>13</th>\n",
       "      <td>ffd45b01-2019-04-18T18:54:19Z-00005-000</td>\n",
       "      <td>Anybody who used performance enhancing drugs i...</td>\n",
       "      <td>18</td>\n",
       "    </tr>\n",
       "    <tr>\n",
       "      <th>41</th>\n",
       "      <td>fb0633f8-2019-04-18T15:37:26Z-00005-000</td>\n",
       "      <td>Is it ok for a women to kick a guy in the balls</td>\n",
       "      <td>13</td>\n",
       "    </tr>\n",
       "    <tr>\n",
       "      <th>42</th>\n",
       "      <td>f11351ad-2019-04-18T13:01:46Z-00000-000</td>\n",
       "      <td>Who should be the next President of the United...</td>\n",
       "      <td>22</td>\n",
       "    </tr>\n",
       "    <tr>\n",
       "      <th>...</th>\n",
       "      <td>...</td>\n",
       "      <td>...</td>\n",
       "      <td>...</td>\n",
       "    </tr>\n",
       "    <tr>\n",
       "      <th>59521</th>\n",
       "      <td>92418529-2019-04-17T11:47:30Z-00028-000</td>\n",
       "      <td>If we could go to the Moon in 1969, we can go ...</td>\n",
       "      <td>17</td>\n",
       "    </tr>\n",
       "    <tr>\n",
       "      <th>59549</th>\n",
       "      <td>66e94586-2019-04-17T11:47:39Z-00004-000</td>\n",
       "      <td>The leader of a socialist party will not suppo...</td>\n",
       "      <td>13</td>\n",
       "    </tr>\n",
       "    <tr>\n",
       "      <th>59558</th>\n",
       "      <td>b1ddd96f-2019-04-17T11:47:40Z-00056-000</td>\n",
       "      <td>Some spin-off technology will come from unmann...</td>\n",
       "      <td>16</td>\n",
       "    </tr>\n",
       "    <tr>\n",
       "      <th>59559</th>\n",
       "      <td>d67f6b84-2019-04-17T11:47:43Z-00317-000</td>\n",
       "      <td>Iran's influence in Iraq would grow significan...</td>\n",
       "      <td>14</td>\n",
       "    </tr>\n",
       "    <tr>\n",
       "      <th>59595</th>\n",
       "      <td>f8b36ff0-2019-04-17T11:47:41Z-00023-000</td>\n",
       "      <td>Pre-selecting writers of articles is not a sou...</td>\n",
       "      <td>14</td>\n",
       "    </tr>\n",
       "  </tbody>\n",
       "</table>\n",
       "<p>9542 rows × 3 columns</p>\n",
       "</div>"
      ],
      "text/plain": [
       "                                            id  \\\n",
       "2       fbe6ad2-2019-04-18T11:12:36Z-00006-000   \n",
       "4      c3e9c4a6-2019-04-18T14:36:11Z-00004-000   \n",
       "13     ffd45b01-2019-04-18T18:54:19Z-00005-000   \n",
       "41     fb0633f8-2019-04-18T15:37:26Z-00005-000   \n",
       "42     f11351ad-2019-04-18T13:01:46Z-00000-000   \n",
       "...                                        ...   \n",
       "59521  92418529-2019-04-17T11:47:30Z-00028-000   \n",
       "59549  66e94586-2019-04-17T11:47:39Z-00004-000   \n",
       "59558  b1ddd96f-2019-04-17T11:47:40Z-00056-000   \n",
       "59559  d67f6b84-2019-04-17T11:47:43Z-00317-000   \n",
       "59595  f8b36ff0-2019-04-17T11:47:41Z-00023-000   \n",
       "\n",
       "                                              conclusion  conc_len  \n",
       "2      The closet dementia of the superior ego god co...        20  \n",
       "4      Debates are harder when you are the first one ...        14  \n",
       "13     Anybody who used performance enhancing drugs i...        18  \n",
       "41       Is it ok for a women to kick a guy in the balls        13  \n",
       "42     Who should be the next President of the United...        22  \n",
       "...                                                  ...       ...  \n",
       "59521  If we could go to the Moon in 1969, we can go ...        17  \n",
       "59549  The leader of a socialist party will not suppo...        13  \n",
       "59558  Some spin-off technology will come from unmann...        16  \n",
       "59559  Iran's influence in Iraq would grow significan...        14  \n",
       "59595  Pre-selecting writers of articles is not a sou...        14  \n",
       "\n",
       "[9542 rows x 3 columns]"
      ]
     },
     "execution_count": 14,
     "metadata": {},
     "output_type": "execute_result"
    }
   ],
   "source": [
    "filtered_conclusions = conclusions[conclusions.conc_len>=threshold]\n",
    "filtered_conclusions"
   ]
  },
  {
   "cell_type": "markdown",
   "id": "fb7a88ac",
   "metadata": {},
   "source": [
    "__Conclusions are not questions__ [Eggs 2000](file:///C:/Users/Jonas/OneDrive/Library/ca/Text-%20und%20Gespr%C3%A4chslinguistik%20Ein%20internationales%20Handbuch%20zeitgen%C3%B6ssischer%20Forschung,%20Band%201%20Linguistics%20of%20Text%20and%20Conversation%20An%20International%20Handbook%20of%20Contemporary%20Research%20by%20Klaus%20Brinker,%20(z-lib.org).pdf) (p.397 ff.)"
   ]
  },
  {
   "cell_type": "code",
   "execution_count": 15,
   "id": "b60fa0cd",
   "metadata": {
    "execution": {
     "iopub.execute_input": "2021-08-12T10:31:10.990142Z",
     "iopub.status.busy": "2021-08-12T10:31:10.990142Z",
     "iopub.status.idle": "2021-08-12T10:31:11.033288Z",
     "shell.execute_reply": "2021-08-12T10:31:11.032323Z",
     "shell.execute_reply.started": "2021-08-12T10:31:10.990142Z"
    },
    "tags": []
   },
   "outputs": [
    {
     "data": {
      "text/plain": [
       "42    Who should be the next President of the United...\n",
       "Name: conclusion, dtype: object"
      ]
     },
     "execution_count": 15,
     "metadata": {},
     "output_type": "execute_result"
    }
   ],
   "source": [
    "filtered_conclusions.loc[[42]].conclusion"
   ]
  },
  {
   "cell_type": "markdown",
   "id": "141173a2",
   "metadata": {},
   "source": [
    "Questions are introduced by:"
   ]
  },
  {
   "cell_type": "code",
   "execution_count": 32,
   "id": "7458055a",
   "metadata": {
    "execution": {
     "iopub.execute_input": "2021-11-27T12:53:16.502768Z",
     "iopub.status.busy": "2021-11-27T12:53:16.500730Z",
     "iopub.status.idle": "2021-11-27T12:53:16.527620Z",
     "shell.execute_reply": "2021-11-27T12:53:16.524334Z",
     "shell.execute_reply.started": "2021-11-27T12:53:16.502768Z"
    },
    "tags": []
   },
   "outputs": [],
   "source": [
    "question_marker = {'who', 'where', 'what', 'how', 'which', 'why', 'is', 'are', 'do', 'does', 'did', 'was', 'were'}"
   ]
  },
  {
   "cell_type": "code",
   "execution_count": 34,
   "id": "6e067b48-7512-46b1-9d5d-731fd2cfda56",
   "metadata": {
    "execution": {
     "iopub.execute_input": "2021-11-27T12:54:26.234738Z",
     "iopub.status.busy": "2021-11-27T12:54:26.233824Z",
     "iopub.status.idle": "2021-11-27T12:54:26.260737Z",
     "shell.execute_reply": "2021-11-27T12:54:26.258515Z",
     "shell.execute_reply.started": "2021-11-27T12:54:26.234738Z"
    },
    "tags": []
   },
   "outputs": [
    {
     "name": "stdout",
     "output_type": "stream",
     "text": [
      "\\text{which},\n",
      "\\text{who},\n",
      "\\text{were},\n",
      "\\text{was},\n",
      "\\text{did},\n",
      "\\text{are},\n",
      "\\text{where},\n",
      "\\text{does},\n",
      "\\text{why},\n",
      "\\text{do},\n",
      "\\text{how},\n",
      "\\text{what},\n",
      "\\text{is},\n"
     ]
    }
   ],
   "source": [
    "for m in question_marker:\n",
    "    print(r'\\text{'+m+r'},')"
   ]
  },
  {
   "cell_type": "code",
   "execution_count": 17,
   "id": "c8e8923a",
   "metadata": {
    "execution": {
     "iopub.execute_input": "2021-08-12T10:31:22.054935Z",
     "iopub.status.busy": "2021-08-12T10:31:22.053938Z",
     "iopub.status.idle": "2021-08-12T10:31:23.543051Z",
     "shell.execute_reply": "2021-08-12T10:31:23.542086Z",
     "shell.execute_reply.started": "2021-08-12T10:31:22.054935Z"
    },
    "tags": []
   },
   "outputs": [
    {
     "data": {
      "text/html": [
       "<div>\n",
       "<style scoped>\n",
       "    .dataframe tbody tr th:only-of-type {\n",
       "        vertical-align: middle;\n",
       "    }\n",
       "\n",
       "    .dataframe tbody tr th {\n",
       "        vertical-align: top;\n",
       "    }\n",
       "\n",
       "    .dataframe thead th {\n",
       "        text-align: right;\n",
       "    }\n",
       "</style>\n",
       "<table border=\"1\" class=\"dataframe\">\n",
       "  <thead>\n",
       "    <tr style=\"text-align: right;\">\n",
       "      <th></th>\n",
       "      <th>id</th>\n",
       "      <th>conclusion</th>\n",
       "      <th>conc_len</th>\n",
       "    </tr>\n",
       "  </thead>\n",
       "  <tbody>\n",
       "    <tr>\n",
       "      <th>2</th>\n",
       "      <td>fbe6ad2-2019-04-18T11:12:36Z-00006-000</td>\n",
       "      <td>The closet dementia of the superior ego god co...</td>\n",
       "      <td>20</td>\n",
       "    </tr>\n",
       "    <tr>\n",
       "      <th>4</th>\n",
       "      <td>c3e9c4a6-2019-04-18T14:36:11Z-00004-000</td>\n",
       "      <td>Debates are harder when you are the first one ...</td>\n",
       "      <td>14</td>\n",
       "    </tr>\n",
       "    <tr>\n",
       "      <th>13</th>\n",
       "      <td>ffd45b01-2019-04-18T18:54:19Z-00005-000</td>\n",
       "      <td>Anybody who used performance enhancing drugs i...</td>\n",
       "      <td>18</td>\n",
       "    </tr>\n",
       "    <tr>\n",
       "      <th>45</th>\n",
       "      <td>93953a8c-2019-04-18T15:19:33Z-00000-000</td>\n",
       "      <td>In Western Countries, Men's rights are more of...</td>\n",
       "      <td>17</td>\n",
       "    </tr>\n",
       "    <tr>\n",
       "      <th>52</th>\n",
       "      <td>dec39437-2019-04-18T19:47:38Z-00005-000</td>\n",
       "      <td>Liberals should become more optimistic about t...</td>\n",
       "      <td>14</td>\n",
       "    </tr>\n",
       "    <tr>\n",
       "      <th>...</th>\n",
       "      <td>...</td>\n",
       "      <td>...</td>\n",
       "      <td>...</td>\n",
       "    </tr>\n",
       "    <tr>\n",
       "      <th>59521</th>\n",
       "      <td>92418529-2019-04-17T11:47:30Z-00028-000</td>\n",
       "      <td>If we could go to the Moon in 1969, we can go ...</td>\n",
       "      <td>17</td>\n",
       "    </tr>\n",
       "    <tr>\n",
       "      <th>59549</th>\n",
       "      <td>66e94586-2019-04-17T11:47:39Z-00004-000</td>\n",
       "      <td>The leader of a socialist party will not suppo...</td>\n",
       "      <td>13</td>\n",
       "    </tr>\n",
       "    <tr>\n",
       "      <th>59558</th>\n",
       "      <td>b1ddd96f-2019-04-17T11:47:40Z-00056-000</td>\n",
       "      <td>Some spin-off technology will come from unmann...</td>\n",
       "      <td>16</td>\n",
       "    </tr>\n",
       "    <tr>\n",
       "      <th>59559</th>\n",
       "      <td>d67f6b84-2019-04-17T11:47:43Z-00317-000</td>\n",
       "      <td>Iran's influence in Iraq would grow significan...</td>\n",
       "      <td>14</td>\n",
       "    </tr>\n",
       "    <tr>\n",
       "      <th>59595</th>\n",
       "      <td>f8b36ff0-2019-04-17T11:47:41Z-00023-000</td>\n",
       "      <td>Pre-selecting writers of articles is not a sou...</td>\n",
       "      <td>14</td>\n",
       "    </tr>\n",
       "  </tbody>\n",
       "</table>\n",
       "<p>9065 rows × 3 columns</p>\n",
       "</div>"
      ],
      "text/plain": [
       "                                            id  \\\n",
       "2       fbe6ad2-2019-04-18T11:12:36Z-00006-000   \n",
       "4      c3e9c4a6-2019-04-18T14:36:11Z-00004-000   \n",
       "13     ffd45b01-2019-04-18T18:54:19Z-00005-000   \n",
       "45     93953a8c-2019-04-18T15:19:33Z-00000-000   \n",
       "52     dec39437-2019-04-18T19:47:38Z-00005-000   \n",
       "...                                        ...   \n",
       "59521  92418529-2019-04-17T11:47:30Z-00028-000   \n",
       "59549  66e94586-2019-04-17T11:47:39Z-00004-000   \n",
       "59558  b1ddd96f-2019-04-17T11:47:40Z-00056-000   \n",
       "59559  d67f6b84-2019-04-17T11:47:43Z-00317-000   \n",
       "59595  f8b36ff0-2019-04-17T11:47:41Z-00023-000   \n",
       "\n",
       "                                              conclusion  conc_len  \n",
       "2      The closet dementia of the superior ego god co...        20  \n",
       "4      Debates are harder when you are the first one ...        14  \n",
       "13     Anybody who used performance enhancing drugs i...        18  \n",
       "45     In Western Countries, Men's rights are more of...        17  \n",
       "52     Liberals should become more optimistic about t...        14  \n",
       "...                                                  ...       ...  \n",
       "59521  If we could go to the Moon in 1969, we can go ...        17  \n",
       "59549  The leader of a socialist party will not suppo...        13  \n",
       "59558  Some spin-off technology will come from unmann...        16  \n",
       "59559  Iran's influence in Iraq would grow significan...        14  \n",
       "59595  Pre-selecting writers of articles is not a sou...        14  \n",
       "\n",
       "[9065 rows x 3 columns]"
      ]
     },
     "execution_count": 17,
     "metadata": {},
     "output_type": "execute_result"
    }
   ],
   "source": [
    "filtered_conclusions = filtered_conclusions[filtered_conclusions.conclusion.apply(lambda c: word_tokenize(c)[0].lower() not in question_marker)]\n",
    "filtered_conclusions"
   ]
  },
  {
   "cell_type": "code",
   "execution_count": 18,
   "id": "4b327d97",
   "metadata": {
    "execution": {
     "iopub.execute_input": "2021-08-12T10:31:26.990548Z",
     "iopub.status.busy": "2021-08-12T10:31:26.990548Z",
     "iopub.status.idle": "2021-08-12T10:31:27.032231Z",
     "shell.execute_reply": "2021-08-12T10:31:27.030296Z",
     "shell.execute_reply.started": "2021-08-12T10:31:26.990548Z"
    },
    "tags": []
   },
   "outputs": [
    {
     "data": {
      "text/html": [
       "<div>\n",
       "<style scoped>\n",
       "    .dataframe tbody tr th:only-of-type {\n",
       "        vertical-align: middle;\n",
       "    }\n",
       "\n",
       "    .dataframe tbody tr th {\n",
       "        vertical-align: top;\n",
       "    }\n",
       "\n",
       "    .dataframe thead th {\n",
       "        text-align: right;\n",
       "    }\n",
       "</style>\n",
       "<table border=\"1\" class=\"dataframe\">\n",
       "  <thead>\n",
       "    <tr style=\"text-align: right;\">\n",
       "      <th></th>\n",
       "      <th>conc_len</th>\n",
       "    </tr>\n",
       "  </thead>\n",
       "  <tbody>\n",
       "    <tr>\n",
       "      <th>count</th>\n",
       "      <td>9065.000000</td>\n",
       "    </tr>\n",
       "    <tr>\n",
       "      <th>mean</th>\n",
       "      <td>15.660673</td>\n",
       "    </tr>\n",
       "    <tr>\n",
       "      <th>std</th>\n",
       "      <td>2.740067</td>\n",
       "    </tr>\n",
       "    <tr>\n",
       "      <th>min</th>\n",
       "      <td>13.000000</td>\n",
       "    </tr>\n",
       "    <tr>\n",
       "      <th>25%</th>\n",
       "      <td>14.000000</td>\n",
       "    </tr>\n",
       "    <tr>\n",
       "      <th>50%</th>\n",
       "      <td>15.000000</td>\n",
       "    </tr>\n",
       "    <tr>\n",
       "      <th>75%</th>\n",
       "      <td>17.000000</td>\n",
       "    </tr>\n",
       "    <tr>\n",
       "      <th>max</th>\n",
       "      <td>55.000000</td>\n",
       "    </tr>\n",
       "  </tbody>\n",
       "</table>\n",
       "</div>"
      ],
      "text/plain": [
       "          conc_len\n",
       "count  9065.000000\n",
       "mean     15.660673\n",
       "std       2.740067\n",
       "min      13.000000\n",
       "25%      14.000000\n",
       "50%      15.000000\n",
       "75%      17.000000\n",
       "max      55.000000"
      ]
     },
     "execution_count": 18,
     "metadata": {},
     "output_type": "execute_result"
    }
   ],
   "source": [
    "filtered_conclusions.describe()"
   ]
  },
  {
   "cell_type": "code",
   "execution_count": 19,
   "id": "7ce02ef2",
   "metadata": {
    "execution": {
     "iopub.execute_input": "2021-08-12T10:31:31.780533Z",
     "iopub.status.busy": "2021-08-12T10:31:31.780533Z",
     "iopub.status.idle": "2021-08-12T10:31:31.805558Z",
     "shell.execute_reply": "2021-08-12T10:31:31.799586Z",
     "shell.execute_reply.started": "2021-08-12T10:31:31.780533Z"
    },
    "tags": []
   },
   "outputs": [],
   "source": [
    "conclusions_we_want = set(filtered_conclusions.conclusion.values)"
   ]
  },
  {
   "cell_type": "code",
   "execution_count": 20,
   "id": "e781142f",
   "metadata": {
    "execution": {
     "iopub.execute_input": "2021-08-12T10:31:37.660534Z",
     "iopub.status.busy": "2021-08-12T10:31:37.659558Z",
     "iopub.status.idle": "2021-08-12T10:31:37.681194Z",
     "shell.execute_reply": "2021-08-12T10:31:37.675229Z",
     "shell.execute_reply.started": "2021-08-12T10:31:37.659558Z"
    },
    "tags": []
   },
   "outputs": [
    {
     "data": {
      "text/plain": [
       "8582"
      ]
     },
     "execution_count": 20,
     "metadata": {},
     "output_type": "execute_result"
    }
   ],
   "source": [
    "len(conclusions_we_want)"
   ]
  },
  {
   "cell_type": "markdown",
   "id": "f4044b8d",
   "metadata": {},
   "source": [
    "# Filter sentences"
   ]
  },
  {
   "cell_type": "code",
   "execution_count": 21,
   "id": "ecddce00",
   "metadata": {
    "execution": {
     "iopub.execute_input": "2021-08-12T12:09:41.023333Z",
     "iopub.status.busy": "2021-08-12T12:09:41.022333Z",
     "iopub.status.idle": "2021-08-12T12:16:45.358729Z",
     "shell.execute_reply": "2021-08-12T12:16:45.349779Z",
     "shell.execute_reply.started": "2021-08-12T12:09:41.023333Z"
    },
    "tags": []
   },
   "outputs": [
    {
     "name": "stderr",
     "output_type": "stream",
     "text": [
      "100%|█████████████████████████████████████████████████████████████████████████| 382545/382545 [07:04<00:00, 901.56it/s]\n"
     ]
    }
   ],
   "source": [
    "for argument in tqdm(d):\n",
    "    sentences = sent_tokenize(argument['premises'][0]['text'])\n",
    "    argument['premises'][0]['sentences'] = sentences"
   ]
  },
  {
   "cell_type": "code",
   "execution_count": 22,
   "id": "b410153c",
   "metadata": {
    "execution": {
     "iopub.execute_input": "2021-08-12T12:16:45.360729Z",
     "iopub.status.busy": "2021-08-12T12:16:45.360729Z",
     "iopub.status.idle": "2021-08-12T12:16:45.390869Z",
     "shell.execute_reply": "2021-08-12T12:16:45.380885Z",
     "shell.execute_reply.started": "2021-08-12T12:16:45.360729Z"
    },
    "tags": []
   },
   "outputs": [],
   "source": [
    "def keep(arg):\n",
    "    \"\"\"\n",
    "    Check whether text contains any letters. Returns true if so.\n",
    "    \"\"\"\n",
    "    return any(c.isalpha() for c in arg['premises'][0]['text'])"
   ]
  },
  {
   "cell_type": "code",
   "execution_count": 23,
   "id": "1266e4ae",
   "metadata": {
    "execution": {
     "iopub.execute_input": "2021-08-12T12:16:45.408447Z",
     "iopub.status.busy": "2021-08-12T12:16:45.404438Z",
     "iopub.status.idle": "2021-08-12T12:16:46.614808Z",
     "shell.execute_reply": "2021-08-12T12:16:46.613805Z",
     "shell.execute_reply.started": "2021-08-12T12:16:45.407440Z"
    },
    "tags": []
   },
   "outputs": [
    {
     "name": "stderr",
     "output_type": "stream",
     "text": [
      "100%|██████████████████████████████████████████████████████████████████████| 382545/382545 [00:01<00:00, 330390.29it/s]\n"
     ]
    }
   ],
   "source": [
    "filtered_arguments = list()\n",
    "for argument in tqdm(d):\n",
    "    if len(argument['premises'][0]['sentences']) >= 2 and keep(argument):\n",
    "        filtered_arguments.append(argument['id'])"
   ]
  },
  {
   "cell_type": "code",
   "execution_count": 24,
   "id": "24144744",
   "metadata": {
    "execution": {
     "iopub.execute_input": "2021-08-12T12:16:46.616811Z",
     "iopub.status.busy": "2021-08-12T12:16:46.615808Z",
     "iopub.status.idle": "2021-08-12T12:16:46.710823Z",
     "shell.execute_reply": "2021-08-12T12:16:46.709805Z",
     "shell.execute_reply.started": "2021-08-12T12:16:46.616811Z"
    },
    "tags": []
   },
   "outputs": [],
   "source": [
    "arguments_we_want = set(filtered_arguments)"
   ]
  },
  {
   "cell_type": "code",
   "execution_count": 25,
   "id": "e39bbe80",
   "metadata": {
    "execution": {
     "iopub.execute_input": "2021-08-12T12:16:46.711806Z",
     "iopub.status.busy": "2021-08-12T12:16:46.711806Z",
     "iopub.status.idle": "2021-08-12T12:16:46.734934Z",
     "shell.execute_reply": "2021-08-12T12:16:46.725832Z",
     "shell.execute_reply.started": "2021-08-12T12:16:46.711806Z"
    },
    "tags": []
   },
   "outputs": [
    {
     "data": {
      "text/plain": [
       "305931"
      ]
     },
     "execution_count": 25,
     "metadata": {},
     "output_type": "execute_result"
    }
   ],
   "source": [
    "len(arguments_we_want)"
   ]
  },
  {
   "cell_type": "markdown",
   "id": "360c06c3",
   "metadata": {},
   "source": [
    "# Filter dataset"
   ]
  },
  {
   "cell_type": "code",
   "execution_count": 26,
   "id": "cc0fc756",
   "metadata": {
    "execution": {
     "iopub.execute_input": "2021-08-12T12:16:46.741921Z",
     "iopub.status.busy": "2021-08-12T12:16:46.740917Z",
     "iopub.status.idle": "2021-08-12T12:16:47.261281Z",
     "shell.execute_reply": "2021-08-12T12:16:47.260268Z",
     "shell.execute_reply.started": "2021-08-12T12:16:46.741921Z"
    },
    "tags": []
   },
   "outputs": [
    {
     "name": "stderr",
     "output_type": "stream",
     "text": [
      "100%|██████████████████████████████████████████████████████████████████████| 382545/382545 [00:00<00:00, 898345.15it/s]\n"
     ]
    }
   ],
   "source": [
    "filtered_d = list()\n",
    "for argument in tqdm(d):\n",
    "    if argument['conclusion'] in conclusions_we_want and argument['id'] in arguments_we_want:\n",
    "        filtered_d.append(argument)"
   ]
  },
  {
   "cell_type": "code",
   "execution_count": 27,
   "id": "970f740a",
   "metadata": {
    "execution": {
     "iopub.execute_input": "2021-08-12T12:16:47.263267Z",
     "iopub.status.busy": "2021-08-12T12:16:47.262269Z",
     "iopub.status.idle": "2021-08-12T12:16:47.278275Z",
     "shell.execute_reply": "2021-08-12T12:16:47.276378Z",
     "shell.execute_reply.started": "2021-08-12T12:16:47.263267Z"
    },
    "tags": []
   },
   "outputs": [
    {
     "data": {
      "text/plain": [
       "44279"
      ]
     },
     "execution_count": 27,
     "metadata": {},
     "output_type": "execute_result"
    }
   ],
   "source": [
    "len(filtered_d)"
   ]
  },
  {
   "cell_type": "code",
   "execution_count": 24,
   "id": "23302a9a",
   "metadata": {
    "execution": {
     "iopub.execute_input": "2021-07-04T12:36:11.708846Z",
     "iopub.status.busy": "2021-07-04T12:36:11.707845Z",
     "iopub.status.idle": "2021-07-04T12:36:16.722797Z",
     "shell.execute_reply": "2021-07-04T12:36:16.722033Z",
     "shell.execute_reply.started": "2021-07-04T12:36:11.708846Z"
    },
    "tags": []
   },
   "outputs": [],
   "source": [
    "with open('data/filtered-args-me.json', 'w', encoding='utf-8') as f:\n",
    "    json.dump(filtered_d, f, indent=4)"
   ]
  },
  {
   "cell_type": "markdown",
   "id": "b00e2233",
   "metadata": {},
   "source": [
    "# Contexts"
   ]
  },
  {
   "cell_type": "code",
   "execution_count": 28,
   "id": "d7ae86d5",
   "metadata": {
    "execution": {
     "iopub.execute_input": "2021-08-12T12:16:47.288332Z",
     "iopub.status.busy": "2021-08-12T12:16:47.286314Z",
     "iopub.status.idle": "2021-08-12T12:16:47.575404Z",
     "shell.execute_reply": "2021-08-12T12:16:47.574419Z",
     "shell.execute_reply.started": "2021-08-12T12:16:47.288332Z"
    },
    "tags": []
   },
   "outputs": [
    {
     "name": "stderr",
     "output_type": "stream",
     "text": [
      "100%|████████████████████████████████████████████████████████████████████████| 44279/44279 [00:00<00:00, 182902.70it/s]\n"
     ]
    }
   ],
   "source": [
    "discussion_title_arg_counts = dict()\n",
    "for argument in tqdm(filtered_d):\n",
    "    title = argument['context']['discussionTitle']\n",
    "    if title in discussion_title_arg_counts:\n",
    "        discussion_title_arg_counts[title] +=1\n",
    "    else:\n",
    "        discussion_title_arg_counts[title] = 1"
   ]
  },
  {
   "cell_type": "code",
   "execution_count": 29,
   "id": "eb0317fd",
   "metadata": {
    "execution": {
     "iopub.execute_input": "2021-08-12T12:16:55.492148Z",
     "iopub.status.busy": "2021-08-12T12:16:55.491147Z",
     "iopub.status.idle": "2021-08-12T12:16:55.557614Z",
     "shell.execute_reply": "2021-08-12T12:16:55.556554Z",
     "shell.execute_reply.started": "2021-08-12T12:16:55.492148Z"
    },
    "tags": []
   },
   "outputs": [],
   "source": [
    "contexts = pd.DataFrame.from_dict([{'title': k, 'count': v} for k, v in discussion_title_arg_counts.items()])"
   ]
  },
  {
   "cell_type": "code",
   "execution_count": 30,
   "id": "18cc04b0",
   "metadata": {
    "execution": {
     "iopub.execute_input": "2021-08-12T12:16:58.626211Z",
     "iopub.status.busy": "2021-08-12T12:16:58.626211Z",
     "iopub.status.idle": "2021-08-12T12:16:58.710153Z",
     "shell.execute_reply": "2021-08-12T12:16:58.703148Z",
     "shell.execute_reply.started": "2021-08-12T12:16:58.626211Z"
    },
    "tags": []
   },
   "outputs": [
    {
     "data": {
      "text/html": [
       "<div>\n",
       "<style scoped>\n",
       "    .dataframe tbody tr th:only-of-type {\n",
       "        vertical-align: middle;\n",
       "    }\n",
       "\n",
       "    .dataframe tbody tr th {\n",
       "        vertical-align: top;\n",
       "    }\n",
       "\n",
       "    .dataframe thead th {\n",
       "        text-align: right;\n",
       "    }\n",
       "</style>\n",
       "<table border=\"1\" class=\"dataframe\">\n",
       "  <thead>\n",
       "    <tr style=\"text-align: right;\">\n",
       "      <th></th>\n",
       "      <th>title</th>\n",
       "      <th>count</th>\n",
       "    </tr>\n",
       "  </thead>\n",
       "  <tbody>\n",
       "    <tr>\n",
       "      <th>0</th>\n",
       "      <td>The closet dementia of the superior ego god co...</td>\n",
       "      <td>6</td>\n",
       "    </tr>\n",
       "    <tr>\n",
       "      <th>1</th>\n",
       "      <td>Debates are harder when you are the first one ...</td>\n",
       "      <td>5</td>\n",
       "    </tr>\n",
       "    <tr>\n",
       "      <th>2</th>\n",
       "      <td>Anybody who used performance enhancing drugs i...</td>\n",
       "      <td>6</td>\n",
       "    </tr>\n",
       "    <tr>\n",
       "      <th>3</th>\n",
       "      <td>In Western Countries, Men's rights are more of...</td>\n",
       "      <td>5</td>\n",
       "    </tr>\n",
       "    <tr>\n",
       "      <th>4</th>\n",
       "      <td>Liberals should become more optimistic about t...</td>\n",
       "      <td>6</td>\n",
       "    </tr>\n",
       "    <tr>\n",
       "      <th>...</th>\n",
       "      <td>...</td>\n",
       "      <td>...</td>\n",
       "    </tr>\n",
       "    <tr>\n",
       "      <th>8459</th>\n",
       "      <td>Anti-Bribery Laws On Corporations Should Be Ab...</td>\n",
       "      <td>2</td>\n",
       "    </tr>\n",
       "    <tr>\n",
       "      <th>8461</th>\n",
       "      <td>Prison, Limiting to Violent Offenders</td>\n",
       "      <td>2</td>\n",
       "    </tr>\n",
       "    <tr>\n",
       "      <th>8462</th>\n",
       "      <td>Energy Crisis: Nuclear vs Renewable Sources</td>\n",
       "      <td>2</td>\n",
       "    </tr>\n",
       "    <tr>\n",
       "      <th>8463</th>\n",
       "      <td>Equal Maternity and Paternity Leave</td>\n",
       "      <td>2</td>\n",
       "    </tr>\n",
       "    <tr>\n",
       "      <th>8464</th>\n",
       "      <td>Companies should provide alternative interview...</td>\n",
       "      <td>2</td>\n",
       "    </tr>\n",
       "  </tbody>\n",
       "</table>\n",
       "<p>8171 rows × 2 columns</p>\n",
       "</div>"
      ],
      "text/plain": [
       "                                                  title  count\n",
       "0     The closet dementia of the superior ego god co...      6\n",
       "1     Debates are harder when you are the first one ...      5\n",
       "2     Anybody who used performance enhancing drugs i...      6\n",
       "3     In Western Countries, Men's rights are more of...      5\n",
       "4     Liberals should become more optimistic about t...      6\n",
       "...                                                 ...    ...\n",
       "8459  Anti-Bribery Laws On Corporations Should Be Ab...      2\n",
       "8461              Prison, Limiting to Violent Offenders      2\n",
       "8462        Energy Crisis: Nuclear vs Renewable Sources      2\n",
       "8463                Equal Maternity and Paternity Leave      2\n",
       "8464  Companies should provide alternative interview...      2\n",
       "\n",
       "[8171 rows x 2 columns]"
      ]
     },
     "execution_count": 30,
     "metadata": {},
     "output_type": "execute_result"
    }
   ],
   "source": [
    "filtered_contexts = contexts[contexts['count'] >= 2]\n",
    "filtered_contexts"
   ]
  },
  {
   "cell_type": "code",
   "execution_count": 51,
   "id": "5c330f9e",
   "metadata": {},
   "outputs": [
    {
     "data": {
      "text/html": [
       "<div>\n",
       "<style scoped>\n",
       "    .dataframe tbody tr th:only-of-type {\n",
       "        vertical-align: middle;\n",
       "    }\n",
       "\n",
       "    .dataframe tbody tr th {\n",
       "        vertical-align: top;\n",
       "    }\n",
       "\n",
       "    .dataframe thead th {\n",
       "        text-align: right;\n",
       "    }\n",
       "</style>\n",
       "<table border=\"1\" class=\"dataframe\">\n",
       "  <thead>\n",
       "    <tr style=\"text-align: right;\">\n",
       "      <th></th>\n",
       "      <th>count</th>\n",
       "    </tr>\n",
       "  </thead>\n",
       "  <tbody>\n",
       "    <tr>\n",
       "      <th>count</th>\n",
       "      <td>8171.000000</td>\n",
       "    </tr>\n",
       "    <tr>\n",
       "      <th>mean</th>\n",
       "      <td>5.382083</td>\n",
       "    </tr>\n",
       "    <tr>\n",
       "      <th>std</th>\n",
       "      <td>2.918206</td>\n",
       "    </tr>\n",
       "    <tr>\n",
       "      <th>min</th>\n",
       "      <td>2.000000</td>\n",
       "    </tr>\n",
       "    <tr>\n",
       "      <th>25%</th>\n",
       "      <td>4.000000</td>\n",
       "    </tr>\n",
       "    <tr>\n",
       "      <th>50%</th>\n",
       "      <td>5.000000</td>\n",
       "    </tr>\n",
       "    <tr>\n",
       "      <th>75%</th>\n",
       "      <td>6.000000</td>\n",
       "    </tr>\n",
       "    <tr>\n",
       "      <th>max</th>\n",
       "      <td>50.000000</td>\n",
       "    </tr>\n",
       "  </tbody>\n",
       "</table>\n",
       "</div>"
      ],
      "text/plain": [
       "             count\n",
       "count  8171.000000\n",
       "mean      5.382083\n",
       "std       2.918206\n",
       "min       2.000000\n",
       "25%       4.000000\n",
       "50%       5.000000\n",
       "75%       6.000000\n",
       "max      50.000000"
      ]
     },
     "execution_count": 51,
     "metadata": {},
     "output_type": "execute_result"
    }
   ],
   "source": [
    "filtered_contexts.describe()"
   ]
  },
  {
   "cell_type": "code",
   "execution_count": 31,
   "id": "480c5639",
   "metadata": {
    "execution": {
     "iopub.execute_input": "2021-08-12T12:17:30.097152Z",
     "iopub.status.busy": "2021-08-12T12:17:30.096374Z",
     "iopub.status.idle": "2021-08-12T12:17:30.117169Z",
     "shell.execute_reply": "2021-08-12T12:17:30.109181Z",
     "shell.execute_reply.started": "2021-08-12T12:17:30.097152Z"
    },
    "tags": []
   },
   "outputs": [
    {
     "data": {
      "text/plain": [
       "8171"
      ]
     },
     "execution_count": 31,
     "metadata": {},
     "output_type": "execute_result"
    }
   ],
   "source": [
    "context_ids = set(filtered_contexts['title'])\n",
    "len(context_ids)"
   ]
  },
  {
   "cell_type": "code",
   "execution_count": 32,
   "id": "c590289f",
   "metadata": {
    "execution": {
     "iopub.execute_input": "2021-08-12T12:17:34.033081Z",
     "iopub.status.busy": "2021-08-12T12:17:34.032081Z",
     "iopub.status.idle": "2021-08-12T12:17:34.164089Z",
     "shell.execute_reply": "2021-08-12T12:17:34.163084Z",
     "shell.execute_reply.started": "2021-08-12T12:17:34.033081Z"
    },
    "tags": []
   },
   "outputs": [
    {
     "name": "stderr",
     "output_type": "stream",
     "text": [
      "100%|████████████████████████████████████████████████████████████████████████| 44279/44279 [00:00<00:00, 381707.09it/s]\n"
     ]
    }
   ],
   "source": [
    "ready_to_summarize = list()\n",
    "for argument in tqdm(filtered_d):\n",
    "    if argument['context']['discussionTitle'] in context_ids:\n",
    "        ready_to_summarize.append(argument)"
   ]
  },
  {
   "cell_type": "code",
   "execution_count": 33,
   "id": "65b6867a",
   "metadata": {
    "execution": {
     "iopub.execute_input": "2021-08-12T12:18:13.109126Z",
     "iopub.status.busy": "2021-08-12T12:18:13.108123Z",
     "iopub.status.idle": "2021-08-12T12:18:13.124146Z",
     "shell.execute_reply": "2021-08-12T12:18:13.119126Z",
     "shell.execute_reply.started": "2021-08-12T12:18:13.109126Z"
    },
    "tags": []
   },
   "outputs": [
    {
     "data": {
      "text/plain": [
       "43977"
      ]
     },
     "execution_count": 33,
     "metadata": {},
     "output_type": "execute_result"
    }
   ],
   "source": [
    "len(ready_to_summarize)"
   ]
  },
  {
   "cell_type": "code",
   "execution_count": 60,
   "id": "4a834baf",
   "metadata": {
    "execution": {
     "iopub.execute_input": "2021-07-04T12:36:11.708846Z",
     "iopub.status.busy": "2021-07-04T12:36:11.707845Z",
     "iopub.status.idle": "2021-07-04T12:36:16.722797Z",
     "shell.execute_reply": "2021-07-04T12:36:16.722033Z",
     "shell.execute_reply.started": "2021-07-04T12:36:11.708846Z"
    },
    "tags": []
   },
   "outputs": [],
   "source": [
    "with open('data/filtered-args-me-to-summarize.json', 'w', encoding='utf-8') as f:\n",
    "    json.dump(ready_to_summarize, f, indent=4)"
   ]
  }
 ],
 "metadata": {
  "kernelspec": {
   "display_name": "thesis",
   "language": "python",
   "name": "thesis"
  },
  "language_info": {
   "codemirror_mode": {
    "name": "ipython",
    "version": 3
   },
   "file_extension": ".py",
   "mimetype": "text/x-python",
   "name": "python",
   "nbconvert_exporter": "python",
   "pygments_lexer": "ipython3",
   "version": "3.7.10"
  }
 },
 "nbformat": 4,
 "nbformat_minor": 5
}
