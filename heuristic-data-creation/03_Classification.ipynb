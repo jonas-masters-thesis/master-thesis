{
 "cells": [
  {
   "cell_type": "code",
   "execution_count": 31,
   "id": "2213eec7-260c-4b31-9368-34361f4b3803",
   "metadata": {
    "execution": {
     "iopub.execute_input": "2021-07-06T09:08:49.035454Z",
     "iopub.status.busy": "2021-07-06T09:08:49.035454Z",
     "iopub.status.idle": "2021-07-06T09:08:49.056428Z",
     "shell.execute_reply": "2021-07-06T09:08:49.055460Z",
     "shell.execute_reply.started": "2021-07-06T09:08:49.035454Z"
    },
    "tags": []
   },
   "outputs": [],
   "source": [
    "import pickle\n",
    "import numpy as np\n",
    "from tqdm import tqdm\n",
    "from collections import Counter\n",
    "\n",
    "from sklearn import preprocessing\n",
    "from sklearn.model_selection import train_test_split\n",
    "\n",
    "from MKLpy.algorithms import GRAM, MEMO, RMKL\n",
    "from MKLpy.scheduler  import ReduceOnWorsening\n",
    "from MKLpy.callbacks  import EarlyStopping, Monitor\n",
    "from MKLpy import generators\n",
    "from MKLpy.preprocessing import kernel_normalization, normalization, rescale_01, rescale, centering\n",
    "from MKLpy.model_selection import train_test_split as mkl_train_test_split, cross_val_score\n",
    "\n",
    "from imblearn.under_sampling import RandomUnderSampler"
   ]
  },
  {
   "cell_type": "code",
   "execution_count": 51,
   "id": "48d52ab3-06e9-435b-a5ea-bd68bbd1a0db",
   "metadata": {
    "execution": {
     "iopub.execute_input": "2021-07-06T09:34:21.172735Z",
     "iopub.status.busy": "2021-07-06T09:34:21.171737Z",
     "iopub.status.idle": "2021-07-06T09:34:21.192736Z",
     "shell.execute_reply": "2021-07-06T09:34:21.186769Z",
     "shell.execute_reply.started": "2021-07-06T09:34:21.172735Z"
    },
    "tags": []
   },
   "outputs": [],
   "source": [
    "from sklearn.metrics import f1_score, accuracy_score, recall_score, precision_score\n",
    "from sklearn.dummy import DummyClassifier"
   ]
  },
  {
   "cell_type": "code",
   "execution_count": 2,
   "id": "8b5bc24e-cde3-47fd-a65f-c733e976724d",
   "metadata": {
    "execution": {
     "iopub.execute_input": "2021-07-06T08:33:47.706313Z",
     "iopub.status.busy": "2021-07-06T08:33:47.706313Z",
     "iopub.status.idle": "2021-07-06T08:33:50.181779Z",
     "shell.execute_reply": "2021-07-06T08:33:50.179984Z",
     "shell.execute_reply.started": "2021-07-06T08:33:47.706313Z"
    },
    "tags": []
   },
   "outputs": [],
   "source": [
    "with open('data/features.json.pickle', 'rb') as f:\n",
    "    d = pickle.load(f)"
   ]
  },
  {
   "cell_type": "code",
   "execution_count": 3,
   "id": "057cf276-86b4-4c9a-aff4-f10b58b655e3",
   "metadata": {
    "execution": {
     "iopub.execute_input": "2021-07-06T08:33:50.182779Z",
     "iopub.status.busy": "2021-07-06T08:33:50.182779Z",
     "iopub.status.idle": "2021-07-06T08:33:50.197778Z",
     "shell.execute_reply": "2021-07-06T08:33:50.195805Z",
     "shell.execute_reply.started": "2021-07-06T08:33:50.182779Z"
    },
    "tags": []
   },
   "outputs": [
    {
     "data": {
      "text/plain": [
       "44279"
      ]
     },
     "execution_count": 3,
     "metadata": {},
     "output_type": "execute_result"
    }
   ],
   "source": [
    "len(d)"
   ]
  },
  {
   "cell_type": "markdown",
   "id": "ade5dc28-d02d-4ddc-87a0-86e49d1b2eb8",
   "metadata": {},
   "source": [
    "# Format data"
   ]
  },
  {
   "cell_type": "markdown",
   "id": "01263808-6ab9-40b1-bd54-6dc07284c1db",
   "metadata": {},
   "source": [
    "## Features"
   ]
  },
  {
   "cell_type": "code",
   "execution_count": 12,
   "id": "a9cef779-2d21-4a47-80f0-0bc7572d1a05",
   "metadata": {
    "execution": {
     "iopub.execute_input": "2021-07-06T05:37:41.626254Z",
     "iopub.status.busy": "2021-07-06T05:37:41.625253Z",
     "iopub.status.idle": "2021-07-06T05:37:41.651255Z",
     "shell.execute_reply": "2021-07-06T05:37:41.650287Z",
     "shell.execute_reply.started": "2021-07-06T05:37:41.626254Z"
    },
    "tags": []
   },
   "outputs": [
    {
     "data": {
      "text/plain": [
       "{'premises': [{'text': 'Why is it that so-called christians, Because there is no such a thing as a christian, Have serious trouble as READING and COMPREHENDING? Its not that difficult, Nor is it that hard. It was stated unto you a very simple \"* \"You are asking why God would forgive the murderer. \" OK we\"re done. You paid absolutely no attention whatsoever to the verses presented and instead went off into your own la la land. \" But nah, All you did was babble on and on and on. So in this sense, It was YOU that forfeited. Sheesh! Bye.',\n",
       "   'stance': 'PRO',\n",
       "   'sentences': ['Why is it that so-called christians, Because there is no such a thing as a christian, Have serious trouble as READING and COMPREHENDING?',\n",
       "    'Its not that difficult, Nor is it that hard.',\n",
       "    'It was stated unto you a very simple \"* \"You are asking why God would forgive the murderer. \"',\n",
       "    'OK we\"re done.',\n",
       "    'You paid absolutely no attention whatsoever to the verses presented and instead went off into your own la la land. \"',\n",
       "    'But nah, All you did was babble on and on and on.',\n",
       "    'So in this sense, It was YOU that forfeited.',\n",
       "    'Sheesh!',\n",
       "    'Bye.'],\n",
       "   'ub_grams': <9x215820 sparse matrix of type '<class 'numpy.float64'>'\n",
       "   \twith 15 stored elements in Compressed Sparse Row format>,\n",
       "   'position': array([0, 1, 2, 3, 3, 3, 3, 3, 3]),\n",
       "   'word_counts': array([26, 11, 21,  6, 21, 14, 11,  2,  2]),\n",
       "   'noun_counts': array([6, 0, 2, 0, 3, 0, 2, 1, 1]),\n",
       "   'tfisf': array([0.70710678, 3.02911382, 0.        , 0.        , 0.        ,\n",
       "          0.        , 0.        , 0.        , 0.        ]),\n",
       "   'lr': array([1.01017908, 0.99141209, 1.06088576, 1.        , 0.85902885,\n",
       "          0.91205775, 1.16643649, 1.        , 1.        ])}],\n",
       " 'context': {'sourceId': 'fbe6ad2-2019-04-18T11:12:36Z',\n",
       "  'previousArgumentInSourceId': 'fbe6ad2-2019-04-18T11:12:36Z-00000-000',\n",
       "  'acquisitionTime': '2019-04-18T11:12:36Z',\n",
       "  'discussionTitle': 'The closet dementia of the superior ego god complex, The bible and why you should not believe in god',\n",
       "  'sourceTitle': 'Online Debate: The closet dementia of the superior ego god complex, The bible and why you should not believe in god | Debate.org',\n",
       "  'sourceUrl': 'https://www.debate.org/debates/The-closet-dementia-of-the-superior-ego-god-complex-The-bible-and-why-you-should-not-believe-in-god/1/',\n",
       "  'nextArgumentInSourceId': 'fbe6ad2-2019-04-18T11:12:36Z-00002-000'},\n",
       " 'id': 'fbe6ad2-2019-04-18T11:12:36Z-00001-000',\n",
       " 'conclusion': 'The closet dementia of the superior ego god complex, The bible and why you should not believe in god',\n",
       " 'reference': [5, 7]}"
      ]
     },
     "execution_count": 12,
     "metadata": {},
     "output_type": "execute_result"
    }
   ],
   "source": [
    "d[0]"
   ]
  },
  {
   "cell_type": "code",
   "execution_count": 4,
   "id": "1da30a19-bbf1-44b1-9435-1c6fd8f57136",
   "metadata": {
    "execution": {
     "iopub.execute_input": "2021-07-06T08:33:51.031925Z",
     "iopub.status.busy": "2021-07-06T08:33:51.031925Z",
     "iopub.status.idle": "2021-07-06T08:33:51.043909Z",
     "shell.execute_reply": "2021-07-06T08:33:51.042897Z",
     "shell.execute_reply.started": "2021-07-06T08:33:51.031925Z"
    },
    "tags": []
   },
   "outputs": [],
   "source": [
    "def blow_up_references(ref_arr, length):\n",
    "    arr = np.full(length, -1)\n",
    "    for i in ref_arr:\n",
    "        arr[i] = 1\n",
    "    return arr"
   ]
  },
  {
   "cell_type": "code",
   "execution_count": 5,
   "id": "620c6a5a-6b54-4c6f-a5ef-f8a994db5cd6",
   "metadata": {
    "execution": {
     "iopub.execute_input": "2021-07-06T08:33:52.068132Z",
     "iopub.status.busy": "2021-07-06T08:33:52.067142Z",
     "iopub.status.idle": "2021-07-06T08:34:00.327345Z",
     "shell.execute_reply": "2021-07-06T08:34:00.326344Z",
     "shell.execute_reply.started": "2021-07-06T08:33:52.067142Z"
    },
    "tags": []
   },
   "outputs": [
    {
     "name": "stderr",
     "output_type": "stream",
     "text": [
      "100%|██████████████████████████████████████████████████████████████████████████| 44279/44279 [00:06<00:00, 6458.39it/s]\n"
     ]
    }
   ],
   "source": [
    "X = list()\n",
    "y = list()\n",
    "\n",
    "for argument in tqdm(d):\n",
    "    premise = argument['premises'][0]\n",
    "    n = len(premise['sentences'])\n",
    "    labels = blow_up_references(argument['reference'], n)\n",
    "    for i in range(n):\n",
    "        x = np.full(5, 0)\n",
    "        x[0] = premise['position'][i]\n",
    "        x[1] = premise['word_counts'][i]\n",
    "        x[2] = premise['noun_counts'][i]\n",
    "        x[4] = premise['tfisf'][i]\n",
    "        x[5] = premise['lr'][i]\n",
    "        X.append(x)\n",
    "        y.append(labels[i])\n",
    "        \n",
    "X = np.array(X)\n",
    "y = np.array(y)"
   ]
  },
  {
   "cell_type": "code",
   "execution_count": 6,
   "id": "d8141ef7-ede8-46b7-a8a6-6cbc39e6fec4",
   "metadata": {
    "execution": {
     "iopub.execute_input": "2021-07-06T08:34:00.329377Z",
     "iopub.status.busy": "2021-07-06T08:34:00.329377Z",
     "iopub.status.idle": "2021-07-06T08:34:00.343351Z",
     "shell.execute_reply": "2021-07-06T08:34:00.342346Z",
     "shell.execute_reply.started": "2021-07-06T08:34:00.329377Z"
    },
    "tags": []
   },
   "outputs": [
    {
     "data": {
      "text/plain": [
       "((1063129, 5), (1063129,))"
      ]
     },
     "execution_count": 6,
     "metadata": {},
     "output_type": "execute_result"
    }
   ],
   "source": [
    "X.shape, y.shape"
   ]
  },
  {
   "cell_type": "markdown",
   "id": "270338ad-4437-43ba-9ba7-7056f5894f33",
   "metadata": {
    "execution": {
     "iopub.execute_input": "2021-07-06T06:29:34.644278Z",
     "iopub.status.busy": "2021-07-06T06:29:34.643274Z",
     "iopub.status.idle": "2021-07-06T06:29:34.893560Z",
     "shell.execute_reply": "2021-07-06T06:29:34.892708Z",
     "shell.execute_reply.started": "2021-07-06T06:29:34.644278Z"
    },
    "tags": []
   },
   "source": [
    "scaler = preprocessing.StandardScaler()\n",
    "X = scaler.fit_transform(X)\n",
    "\n",
    "X"
   ]
  },
  {
   "cell_type": "markdown",
   "id": "b714b5e1-0a28-4fe1-8b5c-a934d9e64cc8",
   "metadata": {},
   "source": [
    "## Balancing\n",
    "We have high imbalance, and too much data to fit in memory, thus undersampling fits neatly in the setting."
   ]
  },
  {
   "cell_type": "code",
   "execution_count": 7,
   "id": "33159e16-bf51-474a-91cc-315271282737",
   "metadata": {
    "execution": {
     "iopub.execute_input": "2021-07-06T08:52:27.851179Z",
     "iopub.status.busy": "2021-07-06T08:52:27.851179Z",
     "iopub.status.idle": "2021-07-06T08:52:28.161155Z",
     "shell.execute_reply": "2021-07-06T08:52:28.160151Z",
     "shell.execute_reply.started": "2021-07-06T08:52:27.851179Z"
    },
    "tags": []
   },
   "outputs": [
    {
     "data": {
      "text/plain": [
       "Counter({-1: 976553, 1: 86576})"
      ]
     },
     "execution_count": 7,
     "metadata": {},
     "output_type": "execute_result"
    }
   ],
   "source": [
    "Counter(y)"
   ]
  },
  {
   "cell_type": "code",
   "execution_count": 8,
   "id": "f49df001-5e40-4175-a3ea-1ac5b466ec42",
   "metadata": {
    "execution": {
     "iopub.execute_input": "2021-07-06T08:52:31.255532Z",
     "iopub.status.busy": "2021-07-06T08:52:31.254532Z",
     "iopub.status.idle": "2021-07-06T08:52:31.619688Z",
     "shell.execute_reply": "2021-07-06T08:52:31.617736Z",
     "shell.execute_reply.started": "2021-07-06T08:52:31.255532Z"
    },
    "tags": []
   },
   "outputs": [],
   "source": [
    "rus = RandomUnderSampler(random_state=42)\n",
    "X_res, y_res = rus.fit_resample(X, y)"
   ]
  },
  {
   "cell_type": "code",
   "execution_count": 9,
   "id": "7760301b-090d-45f1-9fce-a3e121e47910",
   "metadata": {
    "execution": {
     "iopub.execute_input": "2021-07-06T08:52:33.085750Z",
     "iopub.status.busy": "2021-07-06T08:52:33.084768Z",
     "iopub.status.idle": "2021-07-06T08:52:33.101749Z",
     "shell.execute_reply": "2021-07-06T08:52:33.100747Z",
     "shell.execute_reply.started": "2021-07-06T08:52:33.085750Z"
    },
    "tags": []
   },
   "outputs": [
    {
     "data": {
      "text/plain": [
       "((173152, 5), (173152,))"
      ]
     },
     "execution_count": 9,
     "metadata": {},
     "output_type": "execute_result"
    }
   ],
   "source": [
    "X_res.shape, y_res.shape"
   ]
  },
  {
   "cell_type": "code",
   "execution_count": 10,
   "id": "de794d90-5ae6-4218-86fd-b22ec9744b97",
   "metadata": {
    "execution": {
     "iopub.execute_input": "2021-07-06T08:52:34.765876Z",
     "iopub.status.busy": "2021-07-06T08:52:34.765876Z",
     "iopub.status.idle": "2021-07-06T08:52:34.813855Z",
     "shell.execute_reply": "2021-07-06T08:52:34.812890Z",
     "shell.execute_reply.started": "2021-07-06T08:52:34.765876Z"
    },
    "tags": []
   },
   "outputs": [
    {
     "data": {
      "text/plain": [
       "Counter({-1: 86576, 1: 86576})"
      ]
     },
     "execution_count": 10,
     "metadata": {},
     "output_type": "execute_result"
    }
   ],
   "source": [
    "Counter(y_res)"
   ]
  },
  {
   "cell_type": "code",
   "execution_count": 12,
   "id": "d0f69333-a9b3-464a-bf77-e79c17ff0630",
   "metadata": {
    "execution": {
     "iopub.execute_input": "2021-07-06T08:52:50.620161Z",
     "iopub.status.busy": "2021-07-06T08:52:50.619147Z",
     "iopub.status.idle": "2021-07-06T08:52:50.641139Z",
     "shell.execute_reply": "2021-07-06T08:52:50.639189Z",
     "shell.execute_reply.started": "2021-07-06T08:52:50.620161Z"
    },
    "tags": []
   },
   "outputs": [
    {
     "name": "stdout",
     "output_type": "stream",
     "text": [
      "Reduction from 1063129 to 173152 (0.8371298309048102)\n"
     ]
    }
   ],
   "source": [
    "orig_size = len(X)\n",
    "res_size = len(X_res)\n",
    "print(f'Reduction from {orig_size} to {res_size} ({(orig_size-res_size)/orig_size})')"
   ]
  },
  {
   "cell_type": "code",
   "execution_count": 13,
   "id": "56e5a5bf-710c-4af6-ab0a-fb607a5a10b1",
   "metadata": {
    "execution": {
     "iopub.execute_input": "2021-07-06T08:52:55.688638Z",
     "iopub.status.busy": "2021-07-06T08:52:55.688638Z",
     "iopub.status.idle": "2021-07-06T08:52:55.720227Z",
     "shell.execute_reply": "2021-07-06T08:52:55.719220Z",
     "shell.execute_reply.started": "2021-07-06T08:52:55.688638Z"
    },
    "tags": []
   },
   "outputs": [],
   "source": [
    "indices = list(range(res_size))\n",
    "selected_indices = np.random.choice(indices, 1000)"
   ]
  },
  {
   "cell_type": "code",
   "execution_count": 14,
   "id": "db72fc2a-9eb8-4b0b-ba74-b628b30bfa5d",
   "metadata": {
    "execution": {
     "iopub.execute_input": "2021-07-06T08:53:10.120697Z",
     "iopub.status.busy": "2021-07-06T08:53:10.120697Z",
     "iopub.status.idle": "2021-07-06T08:53:10.144695Z",
     "shell.execute_reply": "2021-07-06T08:53:10.139716Z",
     "shell.execute_reply.started": "2021-07-06T08:53:10.120697Z"
    },
    "tags": []
   },
   "outputs": [
    {
     "data": {
      "text/plain": [
       "((1000, 5), (1000,))"
      ]
     },
     "execution_count": 14,
     "metadata": {},
     "output_type": "execute_result"
    }
   ],
   "source": [
    "X_res = np.take(X_res, selected_indices, axis=0)\n",
    "y_res = np.take(y_res, selected_indices, axis=0)\n",
    "X_res.shape, y_res.shape"
   ]
  },
  {
   "cell_type": "code",
   "execution_count": 15,
   "id": "c84785a4-07e0-4f52-9146-590fdc91de65",
   "metadata": {
    "execution": {
     "iopub.execute_input": "2021-07-06T08:53:53.488080Z",
     "iopub.status.busy": "2021-07-06T08:53:53.487083Z",
     "iopub.status.idle": "2021-07-06T08:53:53.502103Z",
     "shell.execute_reply": "2021-07-06T08:53:53.501108Z",
     "shell.execute_reply.started": "2021-07-06T08:53:53.488080Z"
    },
    "tags": []
   },
   "outputs": [],
   "source": [
    "X_res = rescale_01(X_res)"
   ]
  },
  {
   "cell_type": "code",
   "execution_count": 16,
   "id": "e86ae4c9-0bab-4696-9196-583a977e4e2e",
   "metadata": {
    "execution": {
     "iopub.execute_input": "2021-07-06T08:53:58.314926Z",
     "iopub.status.busy": "2021-07-06T08:53:58.313913Z",
     "iopub.status.idle": "2021-07-06T08:53:58.348910Z",
     "shell.execute_reply": "2021-07-06T08:53:58.347912Z",
     "shell.execute_reply.started": "2021-07-06T08:53:58.314926Z"
    },
    "tags": []
   },
   "outputs": [
    {
     "data": {
      "text/plain": [
       "tensor([[1.0000, 0.0522, 0.1129, 0.0000, 0.0000],\n",
       "        [1.0000, 0.0672, 0.0806, 0.0000, 0.0000],\n",
       "        [1.0000, 0.0522, 0.0968, 0.0000, 0.0000],\n",
       "        ...,\n",
       "        [1.0000, 0.0858, 0.0806, 0.0000, 0.5000],\n",
       "        [1.0000, 0.1455, 0.1774, 0.0000, 0.0000],\n",
       "        [1.0000, 0.0149, 0.0323, 0.0000, 0.0000]], dtype=torch.float64)"
      ]
     },
     "execution_count": 16,
     "metadata": {},
     "output_type": "execute_result"
    }
   ],
   "source": [
    "X_res"
   ]
  },
  {
   "cell_type": "code",
   "execution_count": 65,
   "id": "6ceb99a4-8235-420c-8d0f-dce6a3350eca",
   "metadata": {
    "execution": {
     "iopub.execute_input": "2021-07-06T09:43:26.932211Z",
     "iopub.status.busy": "2021-07-06T09:43:26.931211Z",
     "iopub.status.idle": "2021-07-06T09:43:26.960249Z",
     "shell.execute_reply": "2021-07-06T09:43:26.952306Z",
     "shell.execute_reply.started": "2021-07-06T09:43:26.931211Z"
    },
    "tags": []
   },
   "outputs": [
    {
     "data": {
      "text/plain": [
       "Counter({1: 499, -1: 501})"
      ]
     },
     "execution_count": 65,
     "metadata": {},
     "output_type": "execute_result"
    }
   ],
   "source": [
    "Counter(y_res)"
   ]
  },
  {
   "cell_type": "markdown",
   "id": "a7780f56-dcd6-436e-ade9-64bbc3c25b2c",
   "metadata": {},
   "source": [
    "# Training"
   ]
  },
  {
   "cell_type": "markdown",
   "id": "634720c1-f418-443f-a458-471d2c1dddea",
   "metadata": {},
   "source": [
    "## Kernels"
   ]
  },
  {
   "cell_type": "code",
   "execution_count": 18,
   "id": "e2bcbef4-82cf-4ed2-8bfc-41187a6c58c3",
   "metadata": {
    "execution": {
     "iopub.execute_input": "2021-07-06T08:57:20.746642Z",
     "iopub.status.busy": "2021-07-06T08:57:20.745649Z",
     "iopub.status.idle": "2021-07-06T08:57:20.760645Z",
     "shell.execute_reply": "2021-07-06T08:57:20.759667Z",
     "shell.execute_reply.started": "2021-07-06T08:57:20.746642Z"
    },
    "tags": []
   },
   "outputs": [],
   "source": [
    "KL = generators.RBF_generator(X_res, gamma = [.001, .01, .1], cache=False)"
   ]
  },
  {
   "cell_type": "code",
   "execution_count": 19,
   "id": "13e7c7fc-75c6-4129-8fb2-e017ec32fd60",
   "metadata": {
    "execution": {
     "iopub.execute_input": "2021-07-06T08:57:27.839913Z",
     "iopub.status.busy": "2021-07-06T08:57:27.839913Z",
     "iopub.status.idle": "2021-07-06T08:57:28.044910Z",
     "shell.execute_reply": "2021-07-06T08:57:28.043911Z",
     "shell.execute_reply.started": "2021-07-06T08:57:27.839913Z"
    },
    "tags": []
   },
   "outputs": [],
   "source": [
    "KL = [kernel_normalization(K) for K in KL]"
   ]
  },
  {
   "cell_type": "code",
   "execution_count": 24,
   "id": "6de6c3e1-17ad-486c-a0fb-967f706f012f",
   "metadata": {
    "execution": {
     "iopub.execute_input": "2021-07-06T08:58:52.917940Z",
     "iopub.status.busy": "2021-07-06T08:58:52.917940Z",
     "iopub.status.idle": "2021-07-06T08:58:52.989955Z",
     "shell.execute_reply": "2021-07-06T08:58:52.980950Z",
     "shell.execute_reply.started": "2021-07-06T08:58:52.917940Z"
    },
    "tags": []
   },
   "outputs": [],
   "source": [
    "KLtr, KLte, ytr, yte = mkl_train_test_split(KL, y_res, test_size=.3, random_state=42)"
   ]
  },
  {
   "cell_type": "code",
   "execution_count": 25,
   "id": "91adab47-b78c-4888-ac7d-2dd2c3a6889a",
   "metadata": {
    "execution": {
     "iopub.execute_input": "2021-07-06T08:58:55.271311Z",
     "iopub.status.busy": "2021-07-06T08:58:55.270293Z",
     "iopub.status.idle": "2021-07-06T08:58:55.276291Z",
     "shell.execute_reply": "2021-07-06T08:58:55.275324Z",
     "shell.execute_reply.started": "2021-07-06T08:58:55.271311Z"
    },
    "tags": []
   },
   "outputs": [],
   "source": [
    "monitor = Monitor()"
   ]
  },
  {
   "cell_type": "code",
   "execution_count": 26,
   "id": "38a395e1-4a35-41fa-a04e-1aae83ae9e2b",
   "metadata": {
    "execution": {
     "iopub.execute_input": "2021-07-06T08:58:55.991081Z",
     "iopub.status.busy": "2021-07-06T08:58:55.990089Z",
     "iopub.status.idle": "2021-07-06T08:58:55.995081Z",
     "shell.execute_reply": "2021-07-06T08:58:55.994084Z",
     "shell.execute_reply.started": "2021-07-06T08:58:55.991081Z"
    },
    "tags": []
   },
   "outputs": [],
   "source": [
    "earlystop = EarlyStopping(\n",
    "    KLte, yte,      #validation data, KL is a validation kernels list\n",
    "    patience=5,     #max number of acceptable negative steps\n",
    "    cooldown=1,     #how ofter we run a measurement, 1 means every optimization step\n",
    "    metric='roc_auc',#the metric we monitor, roc_auc or accuracy\n",
    ")"
   ]
  },
  {
   "cell_type": "code",
   "execution_count": 27,
   "id": "5086c453-9fc8-4658-8b9e-de662190cdaf",
   "metadata": {
    "execution": {
     "iopub.execute_input": "2021-07-06T08:58:57.054112Z",
     "iopub.status.busy": "2021-07-06T08:58:57.054112Z",
     "iopub.status.idle": "2021-07-06T08:58:57.074124Z",
     "shell.execute_reply": "2021-07-06T08:58:57.073093Z",
     "shell.execute_reply.started": "2021-07-06T08:58:57.054112Z"
    },
    "tags": []
   },
   "outputs": [],
   "source": [
    "#ReduceOnWorsening automatically reduces the \n",
    "#learning rate when a worsening solution occurs\n",
    "scheduler = ReduceOnWorsening()"
   ]
  },
  {
   "cell_type": "code",
   "execution_count": 55,
   "id": "dacc81c3-763f-403a-974b-892018717d43",
   "metadata": {
    "execution": {
     "iopub.execute_input": "2021-07-06T09:37:55.446204Z",
     "iopub.status.busy": "2021-07-06T09:37:55.445204Z",
     "iopub.status.idle": "2021-07-06T09:37:55.454174Z",
     "shell.execute_reply": "2021-07-06T09:37:55.453173Z",
     "shell.execute_reply.started": "2021-07-06T09:37:55.445204Z"
    },
    "tags": []
   },
   "outputs": [],
   "source": [
    "def scr(estimator, X):\n",
    "    y_pred = estimator.predict(KLte)\n",
    "    print(f'f1_score\\t: {f1_score(yte, y_pred)}')\n",
    "    print(f'accuracy\\t: {accuracy_score(yte, y_pred)}')\n",
    "    print(f'recall\\t\\t: {recall_score(yte, y_pred)}')\n",
    "    print(f'precision\\t: {precision_score(yte, y_pred)}')"
   ]
  },
  {
   "cell_type": "code",
   "execution_count": null,
   "id": "03b819e7-7d33-450c-a90a-09a4eb46c4bb",
   "metadata": {
    "tags": []
   },
   "outputs": [],
   "source": [
    "mkl = GRAM(\n",
    "    max_iter=1000,          \n",
    "    learning_rate=.01,      \n",
    "    callbacks=[earlystop, monitor],\n",
    "    scheduler=scheduler\n",
    ").fit(KLtr, ytr)"
   ]
  },
  {
   "cell_type": "code",
   "execution_count": 59,
   "id": "8ca9a082-94ce-4229-9f40-7fb22e2b1666",
   "metadata": {
    "execution": {
     "iopub.execute_input": "2021-07-06T09:39:21.175296Z",
     "iopub.status.busy": "2021-07-06T09:39:21.175296Z",
     "iopub.status.idle": "2021-07-06T09:39:37.101410Z",
     "shell.execute_reply": "2021-07-06T09:39:37.092418Z",
     "shell.execute_reply.started": "2021-07-06T09:39:21.175296Z"
    },
    "tags": []
   },
   "outputs": [
    {
     "name": "stdout",
     "output_type": "stream",
     "text": [
      "torch.Size([3, 3])\n",
      "torch.Size([3]) torch.Size([700]) torch.Size([3]) torch.Size([700]) torch.Size([700, 700]) torch.Size([3, 3]) 3\n",
      "ok\n",
      "f1_score\t: 0.6894409937888198\n",
      "accuracy\t: 0.6666666666666666\n",
      "recall\t\t: 0.6727272727272727\n",
      "precision\t: 0.7070063694267515\n"
     ]
    }
   ],
   "source": [
    "memo = MEMO(\n",
    "    theta = 10.0,\n",
    "    min_margin = 1e-4,\n",
    "    solver = 'auto',\n",
    "    callbacks=[earlystop, monitor],\n",
    "    scheduler = scheduler\n",
    ").fit(KLtr, ytr)\n",
    "\n",
    "scr(memo, KLte)"
   ]
  },
  {
   "cell_type": "code",
   "execution_count": 64,
   "id": "c7c837d0-f55c-4d55-83e3-add262b725d7",
   "metadata": {
    "execution": {
     "iopub.execute_input": "2021-07-06T09:42:30.071101Z",
     "iopub.status.busy": "2021-07-06T09:42:30.071101Z",
     "iopub.status.idle": "2021-07-06T09:42:31.163117Z",
     "shell.execute_reply": "2021-07-06T09:42:31.155129Z",
     "shell.execute_reply.started": "2021-07-06T09:42:30.071101Z"
    },
    "tags": []
   },
   "outputs": [
    {
     "name": "stdout",
     "output_type": "stream",
     "text": [
      "f1_score\t: 0.5322580645161291\n",
      "accuracy\t: 0.6133333333333333\n",
      "recall\t\t: 0.4\n",
      "precision\t: 0.7951807228915663\n"
     ]
    }
   ],
   "source": [
    "rmkl = RMKL(\n",
    "    C = 1.0,\n",
    "    callbacks=[earlystop, monitor],\n",
    "    scheduler = scheduler\n",
    ")\n",
    "rmkl.fit(KLtr, ytr)\n",
    "\n",
    "scr(rmkl, KLte)"
   ]
  },
  {
   "cell_type": "code",
   "execution_count": null,
   "id": "3698c934-5cf7-4323-ae2f-9016b6ce1369",
   "metadata": {},
   "outputs": [],
   "source": []
  },
  {
   "cell_type": "code",
   "execution_count": 36,
   "id": "166932a7-0acd-4df6-ab3f-577ccba8b66d",
   "metadata": {
    "execution": {
     "iopub.execute_input": "2021-07-06T09:13:07.848024Z",
     "iopub.status.busy": "2021-07-06T09:13:07.848024Z",
     "iopub.status.idle": "2021-07-06T09:13:10.529285Z",
     "shell.execute_reply": "2021-07-06T09:13:10.516302Z",
     "shell.execute_reply.started": "2021-07-06T09:13:07.848024Z"
    },
    "tags": []
   },
   "outputs": [
    {
     "name": "stdout",
     "output_type": "stream",
     "text": [
      "torch.Size([3, 3])\n",
      "torch.Size([3]) torch.Size([466]) torch.Size([3]) torch.Size([466]) torch.Size([466, 466]) torch.Size([3, 3]) 3\n",
      "ok\n"
     ]
    },
    {
     "ename": "RuntimeError",
     "evalue": "size mismatch, get 300, 300x700,466",
     "output_type": "error",
     "traceback": [
      "\u001b[1;31m---------------------------------------------------------------------------\u001b[0m",
      "\u001b[1;31mRuntimeError\u001b[0m                              Traceback (most recent call last)",
      "\u001b[1;32m<ipython-input-36-b2df69918987>\u001b[0m in \u001b[0;36m<module>\u001b[1;34m\u001b[0m\n\u001b[1;32m----> 1\u001b[1;33m \u001b[0mscores\u001b[0m \u001b[1;33m=\u001b[0m \u001b[0mcross_val_score\u001b[0m\u001b[1;33m(\u001b[0m\u001b[0mKLtr\u001b[0m\u001b[1;33m,\u001b[0m \u001b[0mytr\u001b[0m\u001b[1;33m,\u001b[0m \u001b[0mmemo\u001b[0m\u001b[1;33m,\u001b[0m \u001b[0mn_folds\u001b[0m\u001b[1;33m=\u001b[0m\u001b[1;36m3\u001b[0m\u001b[1;33m,\u001b[0m \u001b[0mscoring\u001b[0m\u001b[1;33m=\u001b[0m\u001b[1;34m'accuracy'\u001b[0m\u001b[1;33m)\u001b[0m\u001b[1;33m\u001b[0m\u001b[1;33m\u001b[0m\u001b[0m\n\u001b[0m",
      "\u001b[1;32mC:\\ProgramData\\Anaconda3\\envs\\thesis\\lib\\site-packages\\MKLpy\\model_selection.py\u001b[0m in \u001b[0;36mcross_val_score\u001b[1;34m(KL, Y, estimator, cv, n_folds, scoring, random_state, shuffle)\u001b[0m\n\u001b[0;32m     31\u001b[0m         \u001b[0mKLtr\u001b[0m \u001b[1;33m=\u001b[0m \u001b[1;33m[\u001b[0m\u001b[0mK\u001b[0m\u001b[1;33m[\u001b[0m\u001b[0mtrain\u001b[0m\u001b[1;33m]\u001b[0m\u001b[1;33m[\u001b[0m\u001b[1;33m:\u001b[0m\u001b[1;33m,\u001b[0m\u001b[0mtrain\u001b[0m\u001b[1;33m]\u001b[0m \u001b[1;32mfor\u001b[0m \u001b[0mK\u001b[0m \u001b[1;32min\u001b[0m \u001b[0mKL\u001b[0m\u001b[1;33m]\u001b[0m\u001b[1;33m\u001b[0m\u001b[1;33m\u001b[0m\u001b[0m\n\u001b[0;32m     32\u001b[0m         \u001b[0mKLte\u001b[0m \u001b[1;33m=\u001b[0m \u001b[1;33m[\u001b[0m\u001b[0mK\u001b[0m\u001b[1;33m[\u001b[0m\u001b[0mtest\u001b[0m \u001b[1;33m]\u001b[0m\u001b[1;33m[\u001b[0m\u001b[1;33m:\u001b[0m\u001b[1;33m,\u001b[0m\u001b[0mtrain\u001b[0m\u001b[1;33m]\u001b[0m \u001b[1;32mfor\u001b[0m \u001b[0mK\u001b[0m \u001b[1;32min\u001b[0m \u001b[0mKL\u001b[0m\u001b[1;33m]\u001b[0m\u001b[1;33m\u001b[0m\u001b[1;33m\u001b[0m\u001b[0m\n\u001b[1;32m---> 33\u001b[1;33m         \u001b[0mclf\u001b[0m \u001b[1;33m=\u001b[0m \u001b[0mestimator\u001b[0m\u001b[1;33m.\u001b[0m\u001b[0mfit\u001b[0m\u001b[1;33m(\u001b[0m\u001b[0mKLtr\u001b[0m\u001b[1;33m,\u001b[0m\u001b[0mY\u001b[0m\u001b[1;33m[\u001b[0m\u001b[0mtrain\u001b[0m\u001b[1;33m]\u001b[0m\u001b[1;33m)\u001b[0m\u001b[1;33m\u001b[0m\u001b[1;33m\u001b[0m\u001b[0m\n\u001b[0m\u001b[0;32m     34\u001b[0m         \u001b[0my\u001b[0m \u001b[1;33m=\u001b[0m \u001b[0mf\u001b[0m\u001b[1;33m(\u001b[0m\u001b[0mKLte\u001b[0m\u001b[1;33m)\u001b[0m\u001b[1;33m\u001b[0m\u001b[1;33m\u001b[0m\u001b[0m\n\u001b[0;32m     35\u001b[0m         \u001b[0mresults\u001b[0m\u001b[1;33m.\u001b[0m\u001b[0mappend\u001b[0m\u001b[1;33m(\u001b[0m\u001b[0mscorer\u001b[0m\u001b[1;33m(\u001b[0m\u001b[0mY\u001b[0m\u001b[1;33m[\u001b[0m\u001b[0mtest\u001b[0m\u001b[1;33m]\u001b[0m\u001b[1;33m,\u001b[0m\u001b[0my\u001b[0m\u001b[1;33m)\u001b[0m\u001b[1;33m)\u001b[0m\u001b[1;33m\u001b[0m\u001b[1;33m\u001b[0m\u001b[0m\n",
      "\u001b[1;32mC:\\ProgramData\\Anaconda3\\envs\\thesis\\lib\\site-packages\\MKLpy\\algorithms\\base.py\u001b[0m in \u001b[0;36mfit\u001b[1;34m(self, KL, Y)\u001b[0m\n\u001b[0;32m     89\u001b[0m                         \u001b[0mself\u001b[0m\u001b[1;33m.\u001b[0m\u001b[0msolution\u001b[0m \u001b[1;33m=\u001b[0m \u001b[0mself\u001b[0m\u001b[1;33m.\u001b[0m\u001b[0mclf\u001b[0m\u001b[1;33m.\u001b[0m\u001b[0msolution\u001b[0m\u001b[1;33m\u001b[0m\u001b[1;33m\u001b[0m\u001b[0m\n\u001b[0;32m     90\u001b[0m                 \u001b[1;32melse\u001b[0m \u001b[1;33m:\u001b[0m\u001b[1;33m\u001b[0m\u001b[1;33m\u001b[0m\u001b[0m\n\u001b[1;32m---> 91\u001b[1;33m                         \u001b[0mself\u001b[0m\u001b[1;33m.\u001b[0m\u001b[0m_fit\u001b[0m\u001b[1;33m(\u001b[0m\u001b[1;33m)\u001b[0m                                     \u001b[1;31m# fit the model\u001b[0m\u001b[1;33m\u001b[0m\u001b[1;33m\u001b[0m\u001b[0m\n\u001b[0m\u001b[0;32m     92\u001b[0m \u001b[1;33m\u001b[0m\u001b[0m\n\u001b[0;32m     93\u001b[0m                 \u001b[0mself\u001b[0m\u001b[1;33m.\u001b[0m\u001b[0mis_fitted\u001b[0m \u001b[1;33m=\u001b[0m \u001b[1;32mTrue\u001b[0m\u001b[1;33m\u001b[0m\u001b[1;33m\u001b[0m\u001b[0m\n",
      "\u001b[1;32mC:\\ProgramData\\Anaconda3\\envs\\thesis\\lib\\site-packages\\MKLpy\\algorithms\\base.py\u001b[0m in \u001b[0;36m_fit\u001b[1;34m(self)\u001b[0m\n\u001b[0;32m     96\u001b[0m \u001b[1;33m\u001b[0m\u001b[0m\n\u001b[0;32m     97\u001b[0m         \u001b[1;32mdef\u001b[0m \u001b[0m_fit\u001b[0m\u001b[1;33m(\u001b[0m\u001b[0mself\u001b[0m\u001b[1;33m)\u001b[0m\u001b[1;33m:\u001b[0m\u001b[1;33m\u001b[0m\u001b[1;33m\u001b[0m\u001b[0m\n\u001b[1;32m---> 98\u001b[1;33m                 \u001b[0mself\u001b[0m\u001b[1;33m.\u001b[0m\u001b[0msolution\u001b[0m \u001b[1;33m=\u001b[0m \u001b[0mself\u001b[0m\u001b[1;33m.\u001b[0m\u001b[0m_combine_kernels\u001b[0m\u001b[1;33m(\u001b[0m\u001b[1;33m)\u001b[0m \u001b[1;31m# call combine_kernels without re-preprocess\u001b[0m\u001b[1;33m\u001b[0m\u001b[1;33m\u001b[0m\u001b[0m\n\u001b[0m\u001b[0;32m     99\u001b[0m                 \u001b[1;32mif\u001b[0m \u001b[0mself\u001b[0m\u001b[1;33m.\u001b[0m\u001b[0mlearner\u001b[0m\u001b[1;33m:\u001b[0m\u001b[1;33m\u001b[0m\u001b[1;33m\u001b[0m\u001b[0m\n\u001b[0;32m    100\u001b[0m                         \u001b[0mself\u001b[0m\u001b[1;33m.\u001b[0m\u001b[0mlearner\u001b[0m\u001b[1;33m.\u001b[0m\u001b[0mfit\u001b[0m\u001b[1;33m(\u001b[0m\u001b[0mself\u001b[0m\u001b[1;33m.\u001b[0m\u001b[0msolution\u001b[0m\u001b[1;33m.\u001b[0m\u001b[0mker_matrix\u001b[0m\u001b[1;33m,\u001b[0m \u001b[0mself\u001b[0m\u001b[1;33m.\u001b[0m\u001b[0mY\u001b[0m\u001b[1;33m)\u001b[0m\u001b[1;33m\u001b[0m\u001b[1;33m\u001b[0m\u001b[0m\n",
      "\u001b[1;32mC:\\ProgramData\\Anaconda3\\envs\\thesis\\lib\\site-packages\\MKLpy\\algorithms\\base.py\u001b[0m in \u001b[0;36m_combine_kernels\u001b[1;34m(self)\u001b[0m\n\u001b[0;32m    241\u001b[0m \u001b[1;33m\u001b[0m\u001b[0m\n\u001b[0;32m    242\u001b[0m                         \u001b[1;31m# on_step_end is invoked only when the current step is saved\u001b[0m\u001b[1;33m\u001b[0m\u001b[1;33m\u001b[0m\u001b[1;33m\u001b[0m\u001b[0m\n\u001b[1;32m--> 243\u001b[1;33m                         \u001b[1;32mfor\u001b[0m \u001b[0mcallback\u001b[0m \u001b[1;32min\u001b[0m \u001b[0mself\u001b[0m\u001b[1;33m.\u001b[0m\u001b[0mcallbacks\u001b[0m\u001b[1;33m:\u001b[0m \u001b[0mcallback\u001b[0m\u001b[1;33m.\u001b[0m\u001b[0mon_step_end\u001b[0m\u001b[1;33m(\u001b[0m\u001b[0mstep\u001b[0m\u001b[1;33m)\u001b[0m\u001b[1;33m\u001b[0m\u001b[1;33m\u001b[0m\u001b[0m\n\u001b[0m\u001b[0;32m    244\u001b[0m                         \u001b[1;31m#if improvement < self.tolerance: self.convergence = True\u001b[0m\u001b[1;33m\u001b[0m\u001b[1;33m\u001b[0m\u001b[1;33m\u001b[0m\u001b[0m\n\u001b[0;32m    245\u001b[0m                         \u001b[1;31m# end cycle\u001b[0m\u001b[1;33m\u001b[0m\u001b[1;33m\u001b[0m\u001b[1;33m\u001b[0m\u001b[0m\n",
      "\u001b[1;32mC:\\ProgramData\\Anaconda3\\envs\\thesis\\lib\\site-packages\\MKLpy\\callbacks.py\u001b[0m in \u001b[0;36mon_step_end\u001b[1;34m(self, step)\u001b[0m\n\u001b[0;32m     90\u001b[0m                         \u001b[1;32mreturn\u001b[0m\u001b[1;33m\u001b[0m\u001b[1;33m\u001b[0m\u001b[0m\n\u001b[0;32m     91\u001b[0m \u001b[1;33m\u001b[0m\u001b[0m\n\u001b[1;32m---> 92\u001b[1;33m                 \u001b[0mys\u001b[0m \u001b[1;33m=\u001b[0m \u001b[0mself\u001b[0m\u001b[1;33m.\u001b[0m\u001b[0mf\u001b[0m\u001b[1;33m(\u001b[0m\u001b[0mself\u001b[0m\u001b[1;33m.\u001b[0m\u001b[0mKLva\u001b[0m\u001b[1;33m)\u001b[0m\u001b[1;33m\u001b[0m\u001b[1;33m\u001b[0m\u001b[0m\n\u001b[0m\u001b[0;32m     93\u001b[0m                 \u001b[0mcurrent\u001b[0m \u001b[1;33m=\u001b[0m \u001b[0mself\u001b[0m\u001b[1;33m.\u001b[0m\u001b[0mscorer\u001b[0m\u001b[1;33m(\u001b[0m\u001b[0mself\u001b[0m\u001b[1;33m.\u001b[0m\u001b[0mYva\u001b[0m\u001b[1;33m,\u001b[0m \u001b[0mys\u001b[0m\u001b[1;33m)\u001b[0m\u001b[1;33m\u001b[0m\u001b[1;33m\u001b[0m\u001b[0m\n\u001b[0;32m     94\u001b[0m                 \u001b[0mself\u001b[0m\u001b[1;33m.\u001b[0m\u001b[0mvals\u001b[0m\u001b[1;33m.\u001b[0m\u001b[0mappend\u001b[0m\u001b[1;33m(\u001b[0m\u001b[0mcurrent\u001b[0m\u001b[1;33m)\u001b[0m\u001b[1;33m\u001b[0m\u001b[1;33m\u001b[0m\u001b[0m\n",
      "\u001b[1;32mC:\\ProgramData\\Anaconda3\\envs\\thesis\\lib\\site-packages\\MKLpy\\algorithms\\base.py\u001b[0m in \u001b[0;36mdecision_function\u001b[1;34m(self, KL)\u001b[0m\n\u001b[0;32m    135\u001b[0m                         \u001b[1;32mreturn\u001b[0m \u001b[0mself\u001b[0m\u001b[1;33m.\u001b[0m\u001b[0mlearner\u001b[0m\u001b[1;33m.\u001b[0m\u001b[0mdecision_function\u001b[0m\u001b[1;33m(\u001b[0m\u001b[0mself\u001b[0m\u001b[1;33m.\u001b[0m\u001b[0mfunc_form\u001b[0m\u001b[1;33m(\u001b[0m\u001b[0mKL\u001b[0m\u001b[1;33m,\u001b[0m\u001b[0mself\u001b[0m\u001b[1;33m.\u001b[0m\u001b[0msolution\u001b[0m\u001b[1;33m.\u001b[0m\u001b[0mweights\u001b[0m\u001b[1;33m)\u001b[0m\u001b[1;33m)\u001b[0m\u001b[1;33m\u001b[0m\u001b[1;33m\u001b[0m\u001b[0m\n\u001b[0;32m    136\u001b[0m                 \u001b[1;32melse\u001b[0m\u001b[1;33m:\u001b[0m\u001b[1;33m\u001b[0m\u001b[1;33m\u001b[0m\u001b[0m\n\u001b[1;32m--> 137\u001b[1;33m                         \u001b[1;32mreturn\u001b[0m \u001b[0mself\u001b[0m\u001b[1;33m.\u001b[0m\u001b[0mscore\u001b[0m\u001b[1;33m(\u001b[0m\u001b[0mKL\u001b[0m\u001b[1;33m)\u001b[0m\u001b[1;33m\u001b[0m\u001b[1;33m\u001b[0m\u001b[0m\n\u001b[0m\u001b[0;32m    138\u001b[0m \u001b[1;33m\u001b[0m\u001b[0m\n\u001b[0;32m    139\u001b[0m \u001b[1;33m\u001b[0m\u001b[0m\n",
      "\u001b[1;32mC:\\ProgramData\\Anaconda3\\envs\\thesis\\lib\\site-packages\\MKLpy\\algorithms\\base.py\u001b[0m in \u001b[0;36mscore\u001b[1;34m(self, KL)\u001b[0m\n\u001b[0;32m    254\u001b[0m                 \u001b[0mKte\u001b[0m \u001b[1;33m=\u001b[0m \u001b[0mself\u001b[0m\u001b[1;33m.\u001b[0m\u001b[0mfunc_form\u001b[0m\u001b[1;33m(\u001b[0m\u001b[0mKL\u001b[0m\u001b[1;33m,\u001b[0m \u001b[0mself\u001b[0m\u001b[1;33m.\u001b[0m\u001b[0msolution\u001b[0m\u001b[1;33m.\u001b[0m\u001b[0mweights\u001b[0m\u001b[1;33m)\u001b[0m\u001b[1;33m\u001b[0m\u001b[1;33m\u001b[0m\u001b[0m\n\u001b[0;32m    255\u001b[0m                 \u001b[0mygamma\u001b[0m \u001b[1;33m=\u001b[0m \u001b[0mself\u001b[0m\u001b[1;33m.\u001b[0m\u001b[0msolution\u001b[0m\u001b[1;33m.\u001b[0m\u001b[0mdual_coef\u001b[0m\u001b[1;33m.\u001b[0m\u001b[0mT\u001b[0m \u001b[1;33m*\u001b[0m \u001b[0mtorch\u001b[0m\u001b[1;33m.\u001b[0m\u001b[0mtensor\u001b[0m\u001b[1;33m(\u001b[0m\u001b[1;33m[\u001b[0m\u001b[1;36m1\u001b[0m \u001b[1;32mif\u001b[0m \u001b[0my\u001b[0m\u001b[1;33m==\u001b[0m\u001b[0mself\u001b[0m\u001b[1;33m.\u001b[0m\u001b[0mclasses_\u001b[0m\u001b[1;33m[\u001b[0m\u001b[1;36m1\u001b[0m\u001b[1;33m]\u001b[0m \u001b[1;32melse\u001b[0m \u001b[1;33m-\u001b[0m\u001b[1;36m1\u001b[0m \u001b[1;32mfor\u001b[0m \u001b[0my\u001b[0m \u001b[1;32min\u001b[0m \u001b[0mself\u001b[0m\u001b[1;33m.\u001b[0m\u001b[0mY\u001b[0m\u001b[1;33m]\u001b[0m\u001b[1;33m)\u001b[0m\u001b[1;33m\u001b[0m\u001b[1;33m\u001b[0m\u001b[0m\n\u001b[1;32m--> 256\u001b[1;33m                 \u001b[1;32mreturn\u001b[0m \u001b[0mKte\u001b[0m \u001b[1;33m@\u001b[0m \u001b[0mygamma\u001b[0m \u001b[1;33m-\u001b[0m \u001b[0mself\u001b[0m\u001b[1;33m.\u001b[0m\u001b[0msolution\u001b[0m\u001b[1;33m.\u001b[0m\u001b[0mbias\u001b[0m\u001b[1;33m\u001b[0m\u001b[1;33m\u001b[0m\u001b[0m\n\u001b[0m",
      "\u001b[1;31mRuntimeError\u001b[0m: size mismatch, get 300, 300x700,466"
     ]
    }
   ],
   "source": [
    "scores = cross_val_score(KLtr, ytr, memo, n_folds=3, scoring='accuracy')"
   ]
  }
 ],
 "metadata": {
  "kernelspec": {
   "display_name": "thesis",
   "language": "python",
   "name": "thesis"
  },
  "language_info": {
   "codemirror_mode": {
    "name": "ipython",
    "version": 3
   },
   "file_extension": ".py",
   "mimetype": "text/x-python",
   "name": "python",
   "nbconvert_exporter": "python",
   "pygments_lexer": "ipython3",
   "version": "3.7.10"
  }
 },
 "nbformat": 4,
 "nbformat_minor": 5
}
