{
 "cells": [
  {
   "cell_type": "code",
   "execution_count": 65,
   "id": "f442185e-135b-4ff5-a746-b92929d60f8a",
   "metadata": {
    "execution": {
     "iopub.execute_input": "2021-09-09T09:32:21.326786Z",
     "iopub.status.busy": "2021-09-09T09:32:21.326786Z",
     "iopub.status.idle": "2021-09-09T09:32:21.957475Z",
     "shell.execute_reply": "2021-09-09T09:32:21.953701Z",
     "shell.execute_reply.started": "2021-09-09T09:32:21.326786Z"
    },
    "tags": []
   },
   "outputs": [],
   "source": [
    "import json\n",
    "import re\n",
    "from nltk import word_tokenize\n",
    "import numpy as np\n",
    "import scipy.stats as stats\n",
    "import matplotlib.pyplot as plt"
   ]
  },
  {
   "cell_type": "code",
   "execution_count": 51,
   "id": "9788affc-0873-44da-aa90-6d459bdcab22",
   "metadata": {
    "execution": {
     "iopub.execute_input": "2021-09-09T09:17:28.195473Z",
     "iopub.status.busy": "2021-09-09T09:17:28.194490Z",
     "iopub.status.idle": "2021-09-09T09:17:40.123638Z",
     "shell.execute_reply": "2021-09-09T09:17:40.122790Z",
     "shell.execute_reply.started": "2021-09-09T09:17:28.195473Z"
    },
    "tags": []
   },
   "outputs": [],
   "source": [
    "logs = list()\n",
    "with open('queries-2021-07-19-11-58-42-args-me-6999bf8866-85grs.log', 'r', encoding='utf-8') as file:\n",
    "    for line in file.readlines():\n",
    "        line = line.lstrip()\n",
    "        logs.append(json.loads(line))\n",
    "        \n",
    "with open('queries-2021-05-06-11-41-59-args-me-6999bf8866-p7bj7.log', 'r', encoding='utf-8') as file:\n",
    "    for line in file.readlines():\n",
    "        line = line.lstrip()\n",
    "        logs.append(json.loads(line))"
   ]
  },
  {
   "cell_type": "code",
   "execution_count": 52,
   "id": "feb10443-1841-4fc5-8004-0c970bd2ed01",
   "metadata": {
    "execution": {
     "iopub.execute_input": "2021-09-09T09:17:44.833576Z",
     "iopub.status.busy": "2021-09-09T09:17:44.832537Z",
     "iopub.status.idle": "2021-09-09T09:17:44.845537Z",
     "shell.execute_reply": "2021-09-09T09:17:44.844536Z",
     "shell.execute_reply.started": "2021-09-09T09:17:44.833576Z"
    },
    "tags": []
   },
   "outputs": [
    {
     "data": {
      "text/plain": [
       "1796167"
      ]
     },
     "execution_count": 52,
     "metadata": {},
     "output_type": "execute_result"
    }
   ],
   "source": [
    "len(logs)"
   ]
  },
  {
   "cell_type": "code",
   "execution_count": 53,
   "id": "d4582c43-a28d-454e-966a-27f5f3698cfb",
   "metadata": {
    "execution": {
     "iopub.execute_input": "2021-09-09T09:17:50.207871Z",
     "iopub.status.busy": "2021-09-09T09:17:50.206834Z",
     "iopub.status.idle": "2021-09-09T09:17:51.097520Z",
     "shell.execute_reply": "2021-09-09T09:17:51.096673Z",
     "shell.execute_reply.started": "2021-09-09T09:17:50.207871Z"
    },
    "tags": []
   },
   "outputs": [],
   "source": [
    "queries = {l['text'] for l in logs if l['url'].startswith('http://www.args.me/search')}"
   ]
  },
  {
   "cell_type": "code",
   "execution_count": 54,
   "id": "bf4905b7-a902-46dc-9018-051f9cc8c437",
   "metadata": {
    "execution": {
     "iopub.execute_input": "2021-09-09T09:18:03.806261Z",
     "iopub.status.busy": "2021-09-09T09:18:03.805223Z",
     "iopub.status.idle": "2021-09-09T09:18:03.827213Z",
     "shell.execute_reply": "2021-09-09T09:18:03.826213Z",
     "shell.execute_reply.started": "2021-09-09T09:18:03.806261Z"
    },
    "tags": []
   },
   "outputs": [
    {
     "data": {
      "text/plain": [
       "901"
      ]
     },
     "execution_count": 54,
     "metadata": {},
     "output_type": "execute_result"
    }
   ],
   "source": [
    "len(queries)"
   ]
  },
  {
   "cell_type": "code",
   "execution_count": 55,
   "id": "2a41e36b-4605-418d-87fc-2a0667b6ef9c",
   "metadata": {
    "execution": {
     "iopub.execute_input": "2021-09-09T09:18:28.223894Z",
     "iopub.status.busy": "2021-09-09T09:18:28.222898Z",
     "iopub.status.idle": "2021-09-09T09:18:28.237914Z",
     "shell.execute_reply": "2021-09-09T09:18:28.235898Z",
     "shell.execute_reply.started": "2021-09-09T09:18:28.223894Z"
    },
    "tags": []
   },
   "outputs": [],
   "source": [
    "def clean(query):\n",
    "    query = query.strip()\n",
    "    query = re.sub(r'\"', '', query)\n",
    "    query = re.sub('\\'', '', query)\n",
    "    return query\n",
    "\n",
    "def keep(query):\n",
    "    if len(query) <1:\n",
    "        return False\n",
    "    \n",
    "    return True"
   ]
  },
  {
   "cell_type": "code",
   "execution_count": 56,
   "id": "c92b1066-2605-4bae-bb8b-159138b6cd7b",
   "metadata": {
    "execution": {
     "iopub.execute_input": "2021-09-09T09:18:29.342987Z",
     "iopub.status.busy": "2021-09-09T09:18:29.342987Z",
     "iopub.status.idle": "2021-09-09T09:18:29.378992Z",
     "shell.execute_reply": "2021-09-09T09:18:29.378087Z",
     "shell.execute_reply.started": "2021-09-09T09:18:29.342987Z"
    },
    "tags": []
   },
   "outputs": [],
   "source": [
    "queries = list(filter(keep, map(clean, queries)))"
   ]
  },
  {
   "cell_type": "code",
   "execution_count": 57,
   "id": "bc7421af-c58a-4191-b185-9be267b0c697",
   "metadata": {
    "execution": {
     "iopub.execute_input": "2021-09-09T09:18:30.140985Z",
     "iopub.status.busy": "2021-09-09T09:18:30.139986Z",
     "iopub.status.idle": "2021-09-09T09:18:30.365985Z",
     "shell.execute_reply": "2021-09-09T09:18:30.364999Z",
     "shell.execute_reply.started": "2021-09-09T09:18:30.140985Z"
    },
    "tags": []
   },
   "outputs": [],
   "source": [
    "tokens = list(map(word_tokenize, queries))"
   ]
  },
  {
   "cell_type": "code",
   "execution_count": 58,
   "id": "4abf74a5-f73a-4136-8a1e-8113ec06be4a",
   "metadata": {
    "execution": {
     "iopub.execute_input": "2021-09-09T09:18:30.837010Z",
     "iopub.status.busy": "2021-09-09T09:18:30.834004Z",
     "iopub.status.idle": "2021-09-09T09:18:30.858988Z",
     "shell.execute_reply": "2021-09-09T09:18:30.857989Z",
     "shell.execute_reply.started": "2021-09-09T09:18:30.837010Z"
    },
    "tags": []
   },
   "outputs": [],
   "source": [
    "lengths = np.array(list(map(len, tokens)))"
   ]
  },
  {
   "cell_type": "code",
   "execution_count": 59,
   "id": "e8d50d4c-3a31-4f98-9958-1814101fab6f",
   "metadata": {
    "execution": {
     "iopub.execute_input": "2021-09-09T09:18:31.809171Z",
     "iopub.status.busy": "2021-09-09T09:18:31.809171Z",
     "iopub.status.idle": "2021-09-09T09:18:31.841172Z",
     "shell.execute_reply": "2021-09-09T09:18:31.839175Z",
     "shell.execute_reply.started": "2021-09-09T09:18:31.809171Z"
    },
    "tags": []
   },
   "outputs": [
    {
     "data": {
      "text/plain": [
       "array([ 3,  1,  1,  3,  3,  1,  2,  1,  3,  1,  7,  4,  3,  2,  6,  2,  1,\n",
       "        1,  1,  1,  2,  1,  6,  1,  2,  6,  1,  1,  1,  1,  3,  2,  2,  2,\n",
       "        3,  1,  9,  1,  2,  2,  2,  2,  2,  2,  5,  1,  4,  1,  3, 11,  2,\n",
       "        2,  2,  1,  3,  1,  2,  1,  6,  1,  2,  2,  1,  2,  2,  2,  2,  5,\n",
       "        2,  3,  1,  1, 11,  1,  3,  1,  1,  2,  2,  2,  2,  2,  1,  7,  1,\n",
       "        8,  1,  1,  1,  1,  2,  2,  1,  2,  2,  1,  1,  1,  1,  1,  5,  4,\n",
       "        1,  1,  2,  2, 72,  1,  2,  4,  4,  2,  1,  3,  3,  4,  1,  2,  1,\n",
       "        1,  1,  2,  1,  4,  1,  1,  1,  5,  2,  1,  1,  1,  1,  2,  1,  1,\n",
       "        3,  1,  3,  2,  1,  2,  2,  2,  2,  1,  1,  1,  2,  2,  3,  2,  1,\n",
       "        4,  1,  1,  1,  5,  5,  1,  1,  1,  2,  1,  2,  2,  1,  2,  2,  2,\n",
       "        5,  1,  1,  1,  1,  1,  1,  1,  1,  2,  1,  3,  2,  1,  1,  1,  6,\n",
       "        5,  1,  1,  1,  1,  1,  2,  2,  5,  4,  2,  1,  1,  1,  3,  1,  1,\n",
       "        3,  2,  6,  2,  1,  1,  1,  2,  1,  2,  1,  1,  1,  3,  1,  2,  2,\n",
       "        1,  1,  1,  1, 10,  1,  1,  1,  2,  5,  1, 10,  1,  2,  2,  9,  1,\n",
       "        2,  1,  2,  3,  2,  8,  1,  1,  2,  1,  1,  2,  1,  2,  2,  3,  2,\n",
       "        3,  5,  2,  2,  3,  7,  1,  5,  3,  1,  1,  2,  1,  2,  1,  1,  1,\n",
       "        1,  5,  1,  1,  5,  4,  4,  2,  1,  1,  2,  1,  2,  1,  3,  5,  1,\n",
       "        1,  3,  2,  1,  2,  1,  2,  1,  1,  1,  1,  1,  3,  1,  7,  5,  2,\n",
       "        3,  2,  1, 10,  2,  1,  1,  2,  6,  1,  1,  1,  1,  1,  1,  2,  2,\n",
       "        4,  1,  3,  3,  2,  4,  7,  1,  3,  6,  3,  1,  4,  2,  1,  1,  1,\n",
       "        2,  1,  4,  2,  5,  3,  1,  2,  1,  2,  9,  3,  2,  1,  2,  1,  3,\n",
       "        3,  3,  2,  1,  3,  1,  2,  1,  1,  1,  1,  1,  1,  1,  1,  1,  3,\n",
       "        1,  2,  6,  2,  4,  5,  1,  2, 10,  2,  5,  2,  1,  2,  6,  2,  2,\n",
       "       32,  5,  2,  3,  5,  2,  1,  1,  2,  1,  2,  2,  5,  2,  2,  1,  1,\n",
       "        5,  1,  4,  1,  9,  1,  2,  6,  1,  4,  3,  1,  1,  3,  2,  2,  2,\n",
       "        1,  1,  1,  4,  5,  5,  1,  1,  3,  2,  9,  1,  3,  1,  1,  3,  1,\n",
       "        1,  8,  1,  6,  5,  6,  1,  3,  1,  6,  3,  1,  2,  4,  4,  1,  2,\n",
       "        1,  4,  1,  3,  5,  1,  2,  3,  1,  1,  1,  1,  3,  5,  9,  3,  3,\n",
       "        7,  1,  2,  1,  1,  2,  3,  2,  4,  2,  1,  1,  1,  1,  1,  2,  2,\n",
       "        1,  5,  4,  1,  1,  1,  3,  2,  6,  1,  1,  1,  5,  1,  5,  6,  1,\n",
       "        1,  1,  3,  1,  8,  1,  2,  2,  1,  1,  1,  1,  1,  3,  8,  1,  1,\n",
       "        2,  1,  3,  2,  2,  4, 10,  1,  3,  1,  5,  5,  1,  1,  1,  1,  1,\n",
       "        1,  1,  4,  2,  6,  2,  3,  5,  1,  1,  2,  1,  2,  1,  1,  2,  1,\n",
       "        1,  1,  1,  1,  1,  3,  1,  5,  1,  1,  1,  1,  2,  3,  2,  2,  2,\n",
       "        1,  1,  7,  6,  7,  1,  1,  1,  5,  1,  1,  1,  2,  1,  3,  1,  1,\n",
       "        1,  1,  6,  1,  3,  1,  1,  1,  4,  3,  2,  3,  4,  1,  8,  3,  2,\n",
       "        1,  5,  1,  4,  1,  2,  3,  2,  2,  4,  2,  5,  1,  6,  1,  3,  1,\n",
       "       12,  2,  9,  1,  4,  6,  1,  2,  2,  2,  1,  1,  1,  2,  1,  1,  1,\n",
       "        1,  3,  1,  1,  1,  2,  2,  4,  1,  2,  4,  1,  1,  1,  2,  2,  2,\n",
       "        2,  1,  3,  3,  2,  2,  2,  1,  1,  1,  1,  3,  1,  1,  1,  1,  1,\n",
       "        1,  1,  1,  4,  2,  1,  1,  1,  1,  1,  1,  7,  1,  1,  1,  1,  2,\n",
       "        1,  2,  2,  7,  4,  2, 12,  2,  4,  1,  1,  1,  6,  1,  1,  3,  1,\n",
       "        1,  1,  1,  2,  1,  2,  2,  2,  2,  4,  3,  2,  4,  1,  2,  1,  3,\n",
       "        4,  3,  1,  3,  2,  1,  1, 10,  1,  1,  2,  1,  1,  5,  5,  1,  1,\n",
       "        4,  1,  2,  1,  4,  2,  1,  1,  1,  1,  1,  1,  2,  4,  1,  1,  2,\n",
       "        1,  1,  4,  8,  1,  5,  1,  1,  4,  5,  3,  2,  2,  1,  1,  2,  1,\n",
       "        1,  1,  1,  2,  1,  5,  1,  2,  1,  2,  1,  3,  4,  1,  1,  1,  3,\n",
       "        3,  2,  1,  1,  1, 14,  2,  5,  2,  2,  1,  2,  2,  2,  1,  1,  1,\n",
       "        5,  3,  2,  1,  3,  1,  1,  2,  1,  2,  6,  3,  2,  1,  6,  2,  1,\n",
       "        6,  7,  2,  1,  6,  1,  3,  1,  1,  1,  3,  1,  2,  1,  1,  1,  1,\n",
       "        1,  1,  2,  1,  2,  3,  1,  7,  1,  1,  2,  1,  5,  1,  1,  2,  2,\n",
       "        1,  1,  2,  2,  3,  5,  3,  1,  1,  1,  2,  6,  1,  3,  1,  1,  3,\n",
       "        9,  2,  4,  4,  1,  1,  1,  1,  3,  1,  1,  2,  1,  2,  1,  1])"
      ]
     },
     "execution_count": 59,
     "metadata": {},
     "output_type": "execute_result"
    }
   ],
   "source": [
    "lengths"
   ]
  },
  {
   "cell_type": "code",
   "execution_count": 67,
   "id": "2f574cbf-4dde-44e7-b69c-7fc75663dc7f",
   "metadata": {
    "execution": {
     "iopub.execute_input": "2021-09-09T09:32:47.026033Z",
     "iopub.status.busy": "2021-09-09T09:32:47.025095Z",
     "iopub.status.idle": "2021-09-09T09:32:47.345691Z",
     "shell.execute_reply": "2021-09-09T09:32:47.344701Z",
     "shell.execute_reply.started": "2021-09-09T09:32:47.026033Z"
    },
    "tags": []
   },
   "outputs": [
    {
     "data": {
      "text/plain": [
       "(array([879.,  19.,   0.,   0.,   1.,   0.,   0.,   0.,   0.,   1.]),\n",
       " array([ 1. ,  8.1, 15.2, 22.3, 29.4, 36.5, 43.6, 50.7, 57.8, 64.9, 72. ]),\n",
       " <BarContainer object of 10 artists>)"
      ]
     },
     "execution_count": 67,
     "metadata": {},
     "output_type": "execute_result"
    },
    {
     "data": {
      "image/png": "[encoded data removed]",
      "text/plain": [
       "<Figure size 432x288 with 1 Axes>"
      ]
     },
     "metadata": {
      "needs_background": "light"
     },
     "output_type": "display_data"
    }
   ],
   "source": [
    "plt.hist(lengths)"
   ]
  },
  {
   "cell_type": "code",
   "execution_count": 60,
   "id": "196e717d-4028-4188-8684-92b050601a53",
   "metadata": {
    "execution": {
     "iopub.execute_input": "2021-09-09T09:18:36.613401Z",
     "iopub.status.busy": "2021-09-09T09:18:36.612404Z",
     "iopub.status.idle": "2021-09-09T09:18:36.642408Z",
     "shell.execute_reply": "2021-09-09T09:18:36.638416Z",
     "shell.execute_reply.started": "2021-09-09T09:18:36.613401Z"
    },
    "tags": []
   },
   "outputs": [
    {
     "name": "stdout",
     "output_type": "stream",
     "text": [
      "mean\t2.4066666666666667\n",
      "std\t3.1705520024121987\n",
      "median\t2.0\n"
     ]
    }
   ],
   "source": [
    "print(f'mean\\t{lengths.mean()}')\n",
    "print(f'std\\t{lengths.std()}')\n",
    "print(f'median\\t{np.median(lengths)}')"
   ]
  },
  {
   "cell_type": "code",
   "execution_count": 64,
   "id": "1b6b0767-ef7b-4bd0-8366-7da4a53cdc25",
   "metadata": {
    "execution": {
     "iopub.execute_input": "2021-09-09T09:30:54.586866Z",
     "iopub.status.busy": "2021-09-09T09:30:54.586866Z",
     "iopub.status.idle": "2021-09-09T09:30:54.615920Z",
     "shell.execute_reply": "2021-09-09T09:30:54.603889Z",
     "shell.execute_reply.started": "2021-09-09T09:30:54.586866Z"
    },
    "tags": []
   },
   "outputs": [
    {
     "data": {
      "text/plain": [
       "['would you like to live in the world of harry potter',\n",
       " 'The corona virus is the result of a lab accident .',\n",
       " 'Only the moderately well-off pay inheritance tax . The very rich employ expert accountants and lawyers to avoid the tax . Its therefore not the tax on the mega-wealthy that you might like - its a tax on the moderately successful , thrifty professional classes . And yes , plenty of them do emigrate . I know of at least a dozen who have emigrated to Switzerland precisely for that reason .',\n",
       " 'Berlin Huguenots switch to German from French in their services',\n",
       " 'which way is more interesting to live in the world',\n",
       " 'Should students have to wear school uniforms ? < /',\n",
       " 'does Narender modi win the election of 2024 in india',\n",
       " 'One problem might be that I thought we could use the args.me snippets as a baseline , but when I paste the full question into args.me , I get no results .',\n",
       " 'In early childhood education for sustainable developement is no matter',\n",
       " 'The very rich employ expert accountants and lawyers to avoid the tax',\n",
       " 'he very rich employ expert accountants and lawyers to avoid the tax',\n",
       " 'Is human activity primarily responsible for global climate change ?',\n",
       " '> < script > alert ( String.fromCharCode ( 88,83,83 ) ) < /script >']"
      ]
     },
     "execution_count": 64,
     "metadata": {},
     "output_type": "execute_result"
    }
   ],
   "source": [
    "list(map(lambda b:\" \".join(b), filter(lambda a: len(a)>=10, tokens)))"
   ]
  },
  {
   "cell_type": "markdown",
   "id": "cf21a3d3-549d-4143-8bb6-60b1a1250f5d",
   "metadata": {},
   "source": [
    "# Wiki Controversies"
   ]
  },
  {
   "cell_type": "code",
   "execution_count": 43,
   "id": "9582e295-f6bb-40e2-a418-9efe4033d9f3",
   "metadata": {
    "execution": {
     "iopub.execute_input": "2021-09-09T09:08:37.131028Z",
     "iopub.status.busy": "2021-09-09T09:08:37.130026Z",
     "iopub.status.idle": "2021-09-09T09:08:37.154035Z",
     "shell.execute_reply": "2021-09-09T09:08:37.148038Z",
     "shell.execute_reply.started": "2021-09-09T09:08:37.131028Z"
    },
    "tags": []
   },
   "outputs": [],
   "source": [
    "wiki_c = list()\n",
    "with open('wiki_controversies.txt', 'r', encoding='utf-8') as file:\n",
    "    for line in file.readlines():\n",
    "        line = line.lstrip()\n",
    "        wiki_c.append(line)"
   ]
  },
  {
   "cell_type": "code",
   "execution_count": 44,
   "id": "6c678218-d67d-4678-a08f-d6b4b9ff496f",
   "metadata": {
    "execution": {
     "iopub.execute_input": "2021-09-09T09:08:43.695332Z",
     "iopub.status.busy": "2021-09-09T09:08:43.695332Z",
     "iopub.status.idle": "2021-09-09T09:08:43.715332Z",
     "shell.execute_reply": "2021-09-09T09:08:43.713333Z",
     "shell.execute_reply.started": "2021-09-09T09:08:43.695332Z"
    },
    "tags": []
   },
   "outputs": [
    {
     "data": {
      "text/plain": [
       "1507"
      ]
     },
     "execution_count": 44,
     "metadata": {},
     "output_type": "execute_result"
    }
   ],
   "source": [
    "len(wiki_c)"
   ]
  },
  {
   "cell_type": "code",
   "execution_count": 46,
   "id": "9004dc62-c00d-4a35-b6a3-594e78c6d3bb",
   "metadata": {
    "execution": {
     "iopub.execute_input": "2021-09-09T09:09:29.627784Z",
     "iopub.status.busy": "2021-09-09T09:09:29.626785Z",
     "iopub.status.idle": "2021-09-09T09:09:29.886783Z",
     "shell.execute_reply": "2021-09-09T09:09:29.882836Z",
     "shell.execute_reply.started": "2021-09-09T09:09:29.627784Z"
    },
    "tags": []
   },
   "outputs": [],
   "source": [
    "wiki_c_tokens = list(map(word_tokenize, wiki_c))"
   ]
  },
  {
   "cell_type": "code",
   "execution_count": 47,
   "id": "0249e579-282f-4e88-bde2-0c5c5f140b8c",
   "metadata": {
    "execution": {
     "iopub.execute_input": "2021-09-09T09:09:43.146071Z",
     "iopub.status.busy": "2021-09-09T09:09:43.145072Z",
     "iopub.status.idle": "2021-09-09T09:09:43.164053Z",
     "shell.execute_reply": "2021-09-09T09:09:43.154061Z",
     "shell.execute_reply.started": "2021-09-09T09:09:43.146071Z"
    },
    "tags": []
   },
   "outputs": [],
   "source": [
    "wiki_c_lengths = np.array(list(map(len, wiki_c_tokens)))"
   ]
  },
  {
   "cell_type": "code",
   "execution_count": 48,
   "id": "d24b56a6-7adc-49ab-818d-1770117d5098",
   "metadata": {
    "execution": {
     "iopub.execute_input": "2021-09-09T09:10:03.348965Z",
     "iopub.status.busy": "2021-09-09T09:10:03.348965Z",
     "iopub.status.idle": "2021-09-09T09:10:03.356986Z",
     "shell.execute_reply": "2021-09-09T09:10:03.355985Z",
     "shell.execute_reply.started": "2021-09-09T09:10:03.348965Z"
    },
    "tags": []
   },
   "outputs": [
    {
     "data": {
      "text/plain": [
       "array([4, 1, 2, ..., 4, 2, 2])"
      ]
     },
     "execution_count": 48,
     "metadata": {},
     "output_type": "execute_result"
    }
   ],
   "source": [
    "wiki_c_lengths"
   ]
  },
  {
   "cell_type": "code",
   "execution_count": 68,
   "id": "d6a40f2b-aa01-4643-abc1-6be4427d6c07",
   "metadata": {
    "execution": {
     "iopub.execute_input": "2021-09-09T09:33:04.331897Z",
     "iopub.status.busy": "2021-09-09T09:33:04.331897Z",
     "iopub.status.idle": "2021-09-09T09:33:04.547889Z",
     "shell.execute_reply": "2021-09-09T09:33:04.546943Z",
     "shell.execute_reply.started": "2021-09-09T09:33:04.331897Z"
    },
    "tags": []
   },
   "outputs": [
    {
     "data": {
      "text/plain": [
       "(array([461., 745., 184.,  63.,   0.,  29.,  15.,   6.,   2.,   2.]),\n",
       " array([1. , 1.8, 2.6, 3.4, 4.2, 5. , 5.8, 6.6, 7.4, 8.2, 9. ]),\n",
       " <BarContainer object of 10 artists>)"
      ]
     },
     "execution_count": 68,
     "metadata": {},
     "output_type": "execute_result"
    },
    {
     "data": {
      "image/png": "[encoded data removed]",
      "text/plain": [
       "<Figure size 432x288 with 1 Axes>"
      ]
     },
     "metadata": {
      "needs_background": "light"
     },
     "output_type": "display_data"
    }
   ],
   "source": [
    "plt.hist(wiki_c_lengths)"
   ]
  },
  {
   "cell_type": "code",
   "execution_count": null,
   "id": "56613268-b636-4b90-b850-d65e6efd591e",
   "metadata": {},
   "outputs": [],
   "source": []
  },
  {
   "cell_type": "code",
   "execution_count": 61,
   "id": "268a91af-31f2-4fa0-be78-aca6f83706fe",
   "metadata": {
    "execution": {
     "iopub.execute_input": "2021-09-09T09:19:00.217470Z",
     "iopub.status.busy": "2021-09-09T09:19:00.217470Z",
     "iopub.status.idle": "2021-09-09T09:19:00.247478Z",
     "shell.execute_reply": "2021-09-09T09:19:00.246476Z",
     "shell.execute_reply.started": "2021-09-09T09:19:00.217470Z"
    },
    "tags": []
   },
   "outputs": [
    {
     "data": {
      "text/plain": [
       "9"
      ]
     },
     "execution_count": 61,
     "metadata": {},
     "output_type": "execute_result"
    }
   ],
   "source": [
    "wiki_c_lengths.max()"
   ]
  },
  {
   "cell_type": "code",
   "execution_count": 49,
   "id": "335fb018-0aff-4551-8f85-037569685361",
   "metadata": {
    "execution": {
     "iopub.execute_input": "2021-09-09T09:10:19.987071Z",
     "iopub.status.busy": "2021-09-09T09:10:19.987071Z",
     "iopub.status.idle": "2021-09-09T09:10:19.994074Z",
     "shell.execute_reply": "2021-09-09T09:10:19.993075Z",
     "shell.execute_reply.started": "2021-09-09T09:10:19.987071Z"
    },
    "tags": []
   },
   "outputs": [
    {
     "name": "stdout",
     "output_type": "stream",
     "text": [
      "mean\t2.0345056403450563\n",
      "std\t1.0671563297776527\n",
      "median\t2.0\n"
     ]
    }
   ],
   "source": [
    "print(f'mean\\t{wiki_c_lengths.mean()}')\n",
    "print(f'std\\t{wiki_c_lengths.std()}')\n",
    "print(f'median\\t{np.median(wiki_c_lengths)}')"
   ]
  },
  {
   "cell_type": "code",
   "execution_count": 71,
   "id": "bf0e1ec6-3e80-4fe0-a036-c9e88e1e6aa9",
   "metadata": {
    "execution": {
     "iopub.execute_input": "2021-09-09T09:33:55.435093Z",
     "iopub.status.busy": "2021-09-09T09:33:55.435093Z",
     "iopub.status.idle": "2021-09-09T09:33:55.457094Z",
     "shell.execute_reply": "2021-09-09T09:33:55.456091Z",
     "shell.execute_reply.started": "2021-09-09T09:33:55.435093Z"
    },
    "tags": []
   },
   "outputs": [
    {
     "data": {
      "text/plain": [
       "(900,)"
      ]
     },
     "execution_count": 71,
     "metadata": {},
     "output_type": "execute_result"
    }
   ],
   "source": [
    "lengths.shape"
   ]
  },
  {
   "cell_type": "markdown",
   "id": "d9a9c5f9-8e6e-4d9d-ba7b-092a572a08ee",
   "metadata": {},
   "source": [
    "\"null hypothesis that the distribution underlying sample x is the same as the distribution underlying sample y.\" [scipy](https://docs.scipy.org/doc/scipy/reference/generated/scipy.stats.mannwhitneyu.html)"
   ]
  },
  {
   "cell_type": "code",
   "execution_count": 74,
   "id": "4f3c52ed-d9f4-4793-88be-d392a7230699",
   "metadata": {
    "execution": {
     "iopub.execute_input": "2021-09-09T09:36:33.648959Z",
     "iopub.status.busy": "2021-09-09T09:36:33.647936Z",
     "iopub.status.idle": "2021-09-09T09:36:33.682937Z",
     "shell.execute_reply": "2021-09-09T09:36:33.681947Z",
     "shell.execute_reply.started": "2021-09-09T09:36:33.647936Z"
    },
    "tags": []
   },
   "outputs": [
    {
     "data": {
      "text/plain": [
       "MannwhitneyuResult(statistic=638443.5, pvalue=0.005232828867098179)"
      ]
     },
     "execution_count": 74,
     "metadata": {},
     "output_type": "execute_result"
    }
   ],
   "source": [
    "stats.mannwhitneyu(lengths, wiki_c_lengths)"
   ]
  },
  {
   "cell_type": "markdown",
   "id": "309b8819-0db3-42dc-8b55-fed376ac1c6c",
   "metadata": {},
   "source": [
    "Since p-value is smaller than 5%, thus, we reject the null hypothesis: Significant difference between the length of the two query sets."
   ]
  }
 ],
 "metadata": {
  "kernelspec": {
   "display_name": "thesis",
   "language": "python",
   "name": "thesis"
  },
  "language_info": {
   "codemirror_mode": {
    "name": "ipython",
    "version": 3
   },
   "file_extension": ".py",
   "mimetype": "text/x-python",
   "name": "python",
   "nbconvert_exporter": "python",
   "pygments_lexer": "ipython3",
   "version": "3.7.10"
  }
 },
 "nbformat": 4,
 "nbformat_minor": 5
}
