{
 "cells": [
  {
   "cell_type": "code",
   "execution_count": 10,
   "id": "c66ba740-ee48-468e-b435-4715c3479e14",
   "metadata": {
    "execution": {
     "iopub.execute_input": "2021-08-23T05:31:07.233941Z",
     "iopub.status.busy": "2021-08-23T05:31:07.233941Z",
     "iopub.status.idle": "2021-08-23T05:31:07.499948Z",
     "shell.execute_reply": "2021-08-23T05:31:07.497041Z",
     "shell.execute_reply.started": "2021-08-23T05:31:07.233941Z"
    },
    "tags": []
   },
   "outputs": [],
   "source": [
    "import urllib.request\n",
    "from bs4 import BeautifulSoup"
   ]
  },
  {
   "cell_type": "code",
   "execution_count": 13,
   "id": "df3d8f5c-d67c-48f2-b3eb-66b113894b32",
   "metadata": {
    "execution": {
     "iopub.execute_input": "2021-08-23T05:37:45.081480Z",
     "iopub.status.busy": "2021-08-23T05:37:45.080481Z",
     "iopub.status.idle": "2021-08-23T05:37:45.090477Z",
     "shell.execute_reply": "2021-08-23T05:37:45.088477Z",
     "shell.execute_reply.started": "2021-08-23T05:37:45.081480Z"
    },
    "tags": []
   },
   "outputs": [],
   "source": [
    "with open('Wikipedia List of controversial issues - Wikipedia.htm', 'r', encoding='utf-8') as file:\n",
    "    html = file.read()"
   ]
  },
  {
   "cell_type": "code",
   "execution_count": 15,
   "id": "28a66747-a2a6-4a7a-8bcd-fa8bb83a494e",
   "metadata": {
    "execution": {
     "iopub.execute_input": "2021-08-23T05:38:56.526146Z",
     "iopub.status.busy": "2021-08-23T05:38:56.525150Z",
     "iopub.status.idle": "2021-08-23T05:38:56.670144Z",
     "shell.execute_reply": "2021-08-23T05:38:56.669145Z",
     "shell.execute_reply.started": "2021-08-23T05:38:56.526146Z"
    },
    "tags": []
   },
   "outputs": [],
   "source": [
    "soup = BeautifulSoup(html)"
   ]
  },
  {
   "cell_type": "code",
   "execution_count": 25,
   "id": "d31df0ce-462c-4898-a83c-b699acbcaa10",
   "metadata": {
    "execution": {
     "iopub.execute_input": "2021-08-23T05:46:20.617022Z",
     "iopub.status.busy": "2021-08-23T05:46:20.616020Z",
     "iopub.status.idle": "2021-08-23T05:46:20.629035Z",
     "shell.execute_reply": "2021-08-23T05:46:20.628050Z",
     "shell.execute_reply.started": "2021-08-23T05:46:20.617022Z"
    },
    "tags": []
   },
   "outputs": [],
   "source": [
    "controversies = list() \n",
    "for tag in soup.find_all():\n",
    "    if tag.name == 'a':\n",
    "        controversies.append(tag.text.lower()+'\\n')\n",
    "    #print(\"%s -> %s\" % (tag.text, tag.name))"
   ]
  },
  {
   "cell_type": "code",
   "execution_count": 26,
   "id": "1794ff68-0c06-4229-9b61-d27c611c9356",
   "metadata": {
    "execution": {
     "iopub.execute_input": "2021-08-23T05:46:22.042033Z",
     "iopub.status.busy": "2021-08-23T05:46:22.042033Z",
     "iopub.status.idle": "2021-08-23T05:46:22.077037Z",
     "shell.execute_reply": "2021-08-23T05:46:22.067039Z",
     "shell.execute_reply.started": "2021-08-23T05:46:22.042033Z"
    },
    "tags": []
   },
   "outputs": [],
   "source": [
    "with open('wiki_controversies.txt', 'w', encoding='utf-8') as file:\n",
    "    file.writelines(controversies)"
   ]
  }
 ],
 "metadata": {
  "kernelspec": {
   "display_name": "thesis",
   "language": "python",
   "name": "thesis"
  },
  "language_info": {
   "codemirror_mode": {
    "name": "ipython",
    "version": 3
   },
   "file_extension": ".py",
   "mimetype": "text/x-python",
   "name": "python",
   "nbconvert_exporter": "python",
   "pygments_lexer": "ipython3",
   "version": "3.7.10"
  }
 },
 "nbformat": 4,
 "nbformat_minor": 5
}
