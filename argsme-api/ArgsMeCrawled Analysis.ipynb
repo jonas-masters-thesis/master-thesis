{
 "cells": [
  {
   "cell_type": "code",
   "execution_count": 38,
   "id": "cdc1509f-71f1-4a78-b533-52ef702ec6cf",
   "metadata": {
    "execution": {
     "iopub.execute_input": "2021-08-23T07:16:22.515365Z",
     "iopub.status.busy": "2021-08-23T07:16:22.515365Z",
     "iopub.status.idle": "2021-08-23T07:16:23.287996Z",
     "shell.execute_reply": "2021-08-23T07:16:23.286342Z",
     "shell.execute_reply.started": "2021-08-23T07:16:22.515365Z"
    },
    "tags": []
   },
   "outputs": [],
   "source": [
    "import numpy as np\n",
    "import os\n",
    "import sys\n",
    "import pickle\n",
    "from collections import Counter\n",
    "import pandas as pd"
   ]
  },
  {
   "cell_type": "code",
   "execution_count": 2,
   "id": "6a320265-2724-4a38-a87b-32665b30a08f",
   "metadata": {
    "execution": {
     "iopub.execute_input": "2021-08-23T06:53:00.168851Z",
     "iopub.status.busy": "2021-08-23T06:53:00.166852Z",
     "iopub.status.idle": "2021-08-23T06:53:00.188838Z",
     "shell.execute_reply": "2021-08-23T06:53:00.187840Z",
     "shell.execute_reply.started": "2021-08-23T06:53:00.168851Z"
    },
    "tags": []
   },
   "outputs": [],
   "source": [
    "shared_path = '../shared/'\n",
    "if shared_path not in sys.path:\n",
    "    sys.path.append(shared_path)\n",
    "    \n",
    "#hdc_path = '../heuristic-data-creation/'\n",
    "#if hdc_path not in sys.path:\n",
    "#    pass"
   ]
  },
  {
   "cell_type": "code",
   "execution_count": 18,
   "id": "bf133031-895b-4ebd-a032-494943390766",
   "metadata": {
    "execution": {
     "iopub.execute_input": "2021-08-23T07:08:52.967270Z",
     "iopub.status.busy": "2021-08-23T07:08:52.965242Z",
     "iopub.status.idle": "2021-08-23T07:08:53.006256Z",
     "shell.execute_reply": "2021-08-23T07:08:53.005275Z",
     "shell.execute_reply.started": "2021-08-23T07:08:52.966242Z"
    },
    "tags": []
   },
   "outputs": [],
   "source": [
    "from Argument import Argument\n",
    "from DataHandler import DataHandler"
   ]
  },
  {
   "cell_type": "code",
   "execution_count": 19,
   "id": "d01fff3e-4491-4cd8-8053-7d10623846a9",
   "metadata": {
    "execution": {
     "iopub.execute_input": "2021-08-23T07:09:22.734285Z",
     "iopub.status.busy": "2021-08-23T07:09:22.734285Z",
     "iopub.status.idle": "2021-08-23T07:09:24.368469Z",
     "shell.execute_reply": "2021-08-23T07:09:24.366807Z",
     "shell.execute_reply.started": "2021-08-23T07:09:22.734285Z"
    },
    "tags": []
   },
   "outputs": [],
   "source": [
    "data = DataHandler()\n",
    "data.load_bin('../../not-gitted/argsme-crawled/1629700068.9873986-6578-arguments.pickle')"
   ]
  },
  {
   "cell_type": "code",
   "execution_count": 20,
   "id": "8e802f65-e6df-436a-9c47-67cf52d5c7e1",
   "metadata": {
    "execution": {
     "iopub.execute_input": "2021-08-23T07:10:02.068281Z",
     "iopub.status.busy": "2021-08-23T07:10:02.067285Z",
     "iopub.status.idle": "2021-08-23T07:10:02.088321Z",
     "shell.execute_reply": "2021-08-23T07:10:02.084284Z",
     "shell.execute_reply.started": "2021-08-23T07:10:02.068281Z"
    },
    "tags": []
   },
   "outputs": [],
   "source": [
    "d = data.get_arguments()"
   ]
  },
  {
   "cell_type": "code",
   "execution_count": 21,
   "id": "4172af6b-95fa-43c5-a438-2819cc977a73",
   "metadata": {
    "execution": {
     "iopub.execute_input": "2021-08-23T07:10:35.476890Z",
     "iopub.status.busy": "2021-08-23T07:10:35.475918Z",
     "iopub.status.idle": "2021-08-23T07:10:35.512890Z",
     "shell.execute_reply": "2021-08-23T07:10:35.509919Z",
     "shell.execute_reply.started": "2021-08-23T07:10:35.476890Z"
    },
    "tags": []
   },
   "outputs": [
    {
     "data": {
      "text/plain": [
       "6578"
      ]
     },
     "execution_count": 21,
     "metadata": {},
     "output_type": "execute_result"
    }
   ],
   "source": [
    "len(d)"
   ]
  },
  {
   "cell_type": "code",
   "execution_count": 24,
   "id": "0c81390c-7239-419d-b116-599182cdfb4c",
   "metadata": {
    "execution": {
     "iopub.execute_input": "2021-08-23T07:10:57.692001Z",
     "iopub.status.busy": "2021-08-23T07:10:57.691001Z",
     "iopub.status.idle": "2021-08-23T07:10:57.726002Z",
     "shell.execute_reply": "2021-08-23T07:10:57.717052Z",
     "shell.execute_reply.started": "2021-08-23T07:10:57.692001Z"
    },
    "tags": []
   },
   "outputs": [],
   "source": [
    "filtered_d = data.get_filtered_arguments(DataHandler.get_args_filter_length(length=3))"
   ]
  },
  {
   "cell_type": "code",
   "execution_count": 25,
   "id": "39d1acee-79be-4998-ada2-a6d83fcbe9ad",
   "metadata": {
    "execution": {
     "iopub.execute_input": "2021-08-23T07:10:58.694040Z",
     "iopub.status.busy": "2021-08-23T07:10:58.694040Z",
     "iopub.status.idle": "2021-08-23T07:10:58.706003Z",
     "shell.execute_reply": "2021-08-23T07:10:58.704025Z",
     "shell.execute_reply.started": "2021-08-23T07:10:58.694040Z"
    },
    "tags": []
   },
   "outputs": [
    {
     "data": {
      "text/plain": [
       "5157"
      ]
     },
     "execution_count": 25,
     "metadata": {},
     "output_type": "execute_result"
    }
   ],
   "source": [
    "len(filtered_d)"
   ]
  },
  {
   "cell_type": "code",
   "execution_count": 44,
   "id": "c62996bb-d0e4-40d7-bfec-27c3008a37ca",
   "metadata": {
    "execution": {
     "iopub.execute_input": "2021-08-23T07:59:32.515045Z",
     "iopub.status.busy": "2021-08-23T07:59:32.515045Z",
     "iopub.status.idle": "2021-08-23T07:59:32.542067Z",
     "shell.execute_reply": "2021-08-23T07:59:32.534059Z",
     "shell.execute_reply.started": "2021-08-23T07:59:32.515045Z"
    },
    "tags": []
   },
   "outputs": [
    {
     "data": {
      "text/plain": [
       "[\"The goals of the British Empire in the War of 1812 was to prevent the U.S from annexing Canada, and than invaded the nation, but didn't gain or lose any land.\",\n",
       " \"The U.S's goals was to annex Canada, and was pushed back, but prevented the British from conquering them, and was deemed the Second War of Independence, and also lost no land, but got fishing rights in the Great Lakes.\",\n",
       " 'Canada, with British help repelled the U.S, but also, like the others, gained nothing of importance.',\n",
       " \"If the British/Canadians forces really won, it would've been by invading and annexing the U.S.\"]"
      ]
     },
     "execution_count": 44,
     "metadata": {},
     "output_type": "execute_result"
    }
   ],
   "source": [
    "filtered_d[1337].sentences"
   ]
  },
  {
   "cell_type": "code",
   "execution_count": 30,
   "id": "887bafee-67bc-402f-837e-ceb9b76e4a3b",
   "metadata": {
    "execution": {
     "iopub.execute_input": "2021-08-23T07:12:00.629508Z",
     "iopub.status.busy": "2021-08-23T07:12:00.628496Z",
     "iopub.status.idle": "2021-08-23T07:12:00.653494Z",
     "shell.execute_reply": "2021-08-23T07:12:00.651492Z",
     "shell.execute_reply.started": "2021-08-23T07:12:00.629508Z"
    },
    "tags": []
   },
   "outputs": [],
   "source": [
    "context_keys = data.get_query_context_keys(filtered_d)"
   ]
  },
  {
   "cell_type": "code",
   "execution_count": 36,
   "id": "1c4c3e56-cc78-497c-8c4e-b7851cc25f1e",
   "metadata": {
    "execution": {
     "iopub.execute_input": "2021-08-23T07:14:46.335605Z",
     "iopub.status.busy": "2021-08-23T07:14:46.335605Z",
     "iopub.status.idle": "2021-08-23T07:14:47.295797Z",
     "shell.execute_reply": "2021-08-23T07:14:47.293574Z",
     "shell.execute_reply.started": "2021-08-23T07:14:46.335605Z"
    },
    "tags": []
   },
   "outputs": [],
   "source": [
    "contexts = dict()\n",
    "for c in context_keys:\n",
    "    args = data.get_query_context(filtered_d, c)\n",
    "    if len(args) > 0:\n",
    "        contexts[c] = args"
   ]
  },
  {
   "cell_type": "code",
   "execution_count": 39,
   "id": "6d331f6b-766b-4d58-84a6-b07311aabf99",
   "metadata": {
    "execution": {
     "iopub.execute_input": "2021-08-23T07:16:41.341672Z",
     "iopub.status.busy": "2021-08-23T07:16:41.340672Z",
     "iopub.status.idle": "2021-08-23T07:16:41.418674Z",
     "shell.execute_reply": "2021-08-23T07:16:41.414682Z",
     "shell.execute_reply.started": "2021-08-23T07:16:41.341672Z"
    },
    "tags": []
   },
   "outputs": [
    {
     "data": {
      "text/html": [
       "<div>\n",
       "<style scoped>\n",
       "    .dataframe tbody tr th:only-of-type {\n",
       "        vertical-align: middle;\n",
       "    }\n",
       "\n",
       "    .dataframe tbody tr th {\n",
       "        vertical-align: top;\n",
       "    }\n",
       "\n",
       "    .dataframe thead th {\n",
       "        text-align: right;\n",
       "    }\n",
       "</style>\n",
       "<table border=\"1\" class=\"dataframe\">\n",
       "  <thead>\n",
       "    <tr style=\"text-align: right;\">\n",
       "      <th></th>\n",
       "      <th>context</th>\n",
       "      <th>context_length</th>\n",
       "    </tr>\n",
       "  </thead>\n",
       "  <tbody>\n",
       "    <tr>\n",
       "      <th>0</th>\n",
       "      <td>incest</td>\n",
       "      <td>10</td>\n",
       "    </tr>\n",
       "    <tr>\n",
       "      <th>1</th>\n",
       "      <td>ufos</td>\n",
       "      <td>3</td>\n",
       "    </tr>\n",
       "    <tr>\n",
       "      <th>2</th>\n",
       "      <td>noam_chomsky</td>\n",
       "      <td>10</td>\n",
       "    </tr>\n",
       "    <tr>\n",
       "      <th>3</th>\n",
       "      <td>jennifer_lopez</td>\n",
       "      <td>1</td>\n",
       "    </tr>\n",
       "    <tr>\n",
       "      <th>4</th>\n",
       "      <td>sedition</td>\n",
       "      <td>2</td>\n",
       "    </tr>\n",
       "    <tr>\n",
       "      <th>...</th>\n",
       "      <td>...</td>\n",
       "      <td>...</td>\n",
       "    </tr>\n",
       "    <tr>\n",
       "      <th>672</th>\n",
       "      <td>democratic_republic_of_the_congo</td>\n",
       "      <td>2</td>\n",
       "    </tr>\n",
       "    <tr>\n",
       "      <th>673</th>\n",
       "      <td>universal_health_care</td>\n",
       "      <td>10</td>\n",
       "    </tr>\n",
       "    <tr>\n",
       "      <th>674</th>\n",
       "      <td>dick_cheney</td>\n",
       "      <td>2</td>\n",
       "    </tr>\n",
       "    <tr>\n",
       "      <th>675</th>\n",
       "      <td>terrorism</td>\n",
       "      <td>7</td>\n",
       "    </tr>\n",
       "    <tr>\n",
       "      <th>676</th>\n",
       "      <td>rap_god</td>\n",
       "      <td>2</td>\n",
       "    </tr>\n",
       "  </tbody>\n",
       "</table>\n",
       "<p>677 rows × 2 columns</p>\n",
       "</div>"
      ],
      "text/plain": [
       "                              context  context_length\n",
       "0                              incest              10\n",
       "1                                ufos               3\n",
       "2                        noam_chomsky              10\n",
       "3                      jennifer_lopez               1\n",
       "4                            sedition               2\n",
       "..                                ...             ...\n",
       "672  democratic_republic_of_the_congo               2\n",
       "673             universal_health_care              10\n",
       "674                       dick_cheney               2\n",
       "675                         terrorism               7\n",
       "676                           rap_god               2\n",
       "\n",
       "[677 rows x 2 columns]"
      ]
     },
     "execution_count": 39,
     "metadata": {},
     "output_type": "execute_result"
    }
   ],
   "source": [
    "records = list()\n",
    "for c in contexts.keys():\n",
    "    no_args = len(contexts[c])\n",
    "    \n",
    "    records.append({\n",
    "        'context': c,\n",
    "        'context_length': no_args\n",
    "    })\n",
    "    \n",
    "cdf = pd.DataFrame.from_records(records)\n",
    "cdf"
   ]
  },
  {
   "cell_type": "code",
   "execution_count": 40,
   "id": "b35aad99-57c9-4dac-befb-9e2b4be03a70",
   "metadata": {
    "execution": {
     "iopub.execute_input": "2021-08-23T07:16:48.509554Z",
     "iopub.status.busy": "2021-08-23T07:16:48.509554Z",
     "iopub.status.idle": "2021-08-23T07:16:48.562554Z",
     "shell.execute_reply": "2021-08-23T07:16:48.561552Z",
     "shell.execute_reply.started": "2021-08-23T07:16:48.509554Z"
    },
    "tags": []
   },
   "outputs": [
    {
     "data": {
      "text/html": [
       "<div>\n",
       "<style scoped>\n",
       "    .dataframe tbody tr th:only-of-type {\n",
       "        vertical-align: middle;\n",
       "    }\n",
       "\n",
       "    .dataframe tbody tr th {\n",
       "        vertical-align: top;\n",
       "    }\n",
       "\n",
       "    .dataframe thead th {\n",
       "        text-align: right;\n",
       "    }\n",
       "</style>\n",
       "<table border=\"1\" class=\"dataframe\">\n",
       "  <thead>\n",
       "    <tr style=\"text-align: right;\">\n",
       "      <th></th>\n",
       "      <th>context_length</th>\n",
       "    </tr>\n",
       "  </thead>\n",
       "  <tbody>\n",
       "    <tr>\n",
       "      <th>count</th>\n",
       "      <td>677.000000</td>\n",
       "    </tr>\n",
       "    <tr>\n",
       "      <th>mean</th>\n",
       "      <td>7.617430</td>\n",
       "    </tr>\n",
       "    <tr>\n",
       "      <th>std</th>\n",
       "      <td>3.908706</td>\n",
       "    </tr>\n",
       "    <tr>\n",
       "      <th>min</th>\n",
       "      <td>1.000000</td>\n",
       "    </tr>\n",
       "    <tr>\n",
       "      <th>25%</th>\n",
       "      <td>5.000000</td>\n",
       "    </tr>\n",
       "    <tr>\n",
       "      <th>50%</th>\n",
       "      <td>8.000000</td>\n",
       "    </tr>\n",
       "    <tr>\n",
       "      <th>75%</th>\n",
       "      <td>9.000000</td>\n",
       "    </tr>\n",
       "    <tr>\n",
       "      <th>max</th>\n",
       "      <td>30.000000</td>\n",
       "    </tr>\n",
       "  </tbody>\n",
       "</table>\n",
       "</div>"
      ],
      "text/plain": [
       "       context_length\n",
       "count      677.000000\n",
       "mean         7.617430\n",
       "std          3.908706\n",
       "min          1.000000\n",
       "25%          5.000000\n",
       "50%          8.000000\n",
       "75%          9.000000\n",
       "max         30.000000"
      ]
     },
     "execution_count": 40,
     "metadata": {},
     "output_type": "execute_result"
    }
   ],
   "source": [
    "cdf.describe()"
   ]
  },
  {
   "cell_type": "code",
   "execution_count": 54,
   "id": "27360b52-2c67-4144-9569-a9dcb59c7040",
   "metadata": {
    "execution": {
     "iopub.execute_input": "2021-08-23T09:43:37.709248Z",
     "iopub.status.busy": "2021-08-23T09:43:37.707248Z",
     "iopub.status.idle": "2021-08-23T09:43:37.900386Z",
     "shell.execute_reply": "2021-08-23T09:43:37.898379Z",
     "shell.execute_reply.started": "2021-08-23T09:43:37.709248Z"
    },
    "tags": []
   },
   "outputs": [
    {
     "data": {
      "text/html": [
       "<div>\n",
       "<style scoped>\n",
       "    .dataframe tbody tr th:only-of-type {\n",
       "        vertical-align: middle;\n",
       "    }\n",
       "\n",
       "    .dataframe tbody tr th {\n",
       "        vertical-align: top;\n",
       "    }\n",
       "\n",
       "    .dataframe thead th {\n",
       "        text-align: right;\n",
       "    }\n",
       "</style>\n",
       "<table border=\"1\" class=\"dataframe\">\n",
       "  <thead>\n",
       "    <tr style=\"text-align: right;\">\n",
       "      <th></th>\n",
       "      <th>context</th>\n",
       "      <th>context_length</th>\n",
       "    </tr>\n",
       "  </thead>\n",
       "  <tbody>\n",
       "    <tr>\n",
       "      <th>0</th>\n",
       "      <td>incest</td>\n",
       "      <td>10</td>\n",
       "    </tr>\n",
       "    <tr>\n",
       "      <th>1</th>\n",
       "      <td>ufos</td>\n",
       "      <td>3</td>\n",
       "    </tr>\n",
       "    <tr>\n",
       "      <th>2</th>\n",
       "      <td>noam_chomsky</td>\n",
       "      <td>10</td>\n",
       "    </tr>\n",
       "    <tr>\n",
       "      <th>5</th>\n",
       "      <td>jehovah's_witnesses</td>\n",
       "      <td>8</td>\n",
       "    </tr>\n",
       "    <tr>\n",
       "      <th>6</th>\n",
       "      <td>joseph_stalin</td>\n",
       "      <td>6</td>\n",
       "    </tr>\n",
       "    <tr>\n",
       "      <th>...</th>\n",
       "      <td>...</td>\n",
       "      <td>...</td>\n",
       "    </tr>\n",
       "    <tr>\n",
       "      <th>668</th>\n",
       "      <td>affirmative_action</td>\n",
       "      <td>10</td>\n",
       "    </tr>\n",
       "    <tr>\n",
       "      <th>669</th>\n",
       "      <td>myspace</td>\n",
       "      <td>9</td>\n",
       "    </tr>\n",
       "    <tr>\n",
       "      <th>670</th>\n",
       "      <td>michael_savage</td>\n",
       "      <td>10</td>\n",
       "    </tr>\n",
       "    <tr>\n",
       "      <th>673</th>\n",
       "      <td>universal_health_care</td>\n",
       "      <td>10</td>\n",
       "    </tr>\n",
       "    <tr>\n",
       "      <th>675</th>\n",
       "      <td>terrorism</td>\n",
       "      <td>7</td>\n",
       "    </tr>\n",
       "  </tbody>\n",
       "</table>\n",
       "<p>607 rows × 2 columns</p>\n",
       "</div>"
      ],
      "text/plain": [
       "                   context  context_length\n",
       "0                   incest              10\n",
       "1                     ufos               3\n",
       "2             noam_chomsky              10\n",
       "5      jehovah's_witnesses               8\n",
       "6            joseph_stalin               6\n",
       "..                     ...             ...\n",
       "668     affirmative_action              10\n",
       "669                myspace               9\n",
       "670         michael_savage              10\n",
       "673  universal_health_care              10\n",
       "675              terrorism               7\n",
       "\n",
       "[607 rows x 2 columns]"
      ]
     },
     "execution_count": 54,
     "metadata": {},
     "output_type": "execute_result"
    }
   ],
   "source": [
    "cdf[cdf['context_length']>2]"
   ]
  },
  {
   "cell_type": "code",
   "execution_count": 52,
   "id": "78cc64ea-ccd4-4d54-8db2-9024b12697cf",
   "metadata": {
    "execution": {
     "iopub.execute_input": "2021-08-23T08:12:38.082971Z",
     "iopub.status.busy": "2021-08-23T08:12:38.082971Z",
     "iopub.status.idle": "2021-08-23T08:12:38.121987Z",
     "shell.execute_reply": "2021-08-23T08:12:38.119949Z",
     "shell.execute_reply.started": "2021-08-23T08:12:38.082971Z"
    },
    "tags": []
   },
   "outputs": [],
   "source": [
    "controversies = pd.read_csv('wiki_controversies.txt', sep=';', header=None)"
   ]
  },
  {
   "cell_type": "code",
   "execution_count": 53,
   "id": "ae946335-2190-4e71-9334-2ef9d3d871e1",
   "metadata": {
    "execution": {
     "iopub.execute_input": "2021-08-23T08:12:39.504405Z",
     "iopub.status.busy": "2021-08-23T08:12:39.503408Z",
     "iopub.status.idle": "2021-08-23T08:12:39.546200Z",
     "shell.execute_reply": "2021-08-23T08:12:39.538222Z",
     "shell.execute_reply.started": "2021-08-23T08:12:39.504405Z"
    },
    "tags": []
   },
   "outputs": [
    {
     "data": {
      "text/html": [
       "<div>\n",
       "<style scoped>\n",
       "    .dataframe tbody tr th:only-of-type {\n",
       "        vertical-align: middle;\n",
       "    }\n",
       "\n",
       "    .dataframe tbody tr th {\n",
       "        vertical-align: top;\n",
       "    }\n",
       "\n",
       "    .dataframe thead th {\n",
       "        text-align: right;\n",
       "    }\n",
       "</style>\n",
       "<table border=\"1\" class=\"dataframe\">\n",
       "  <thead>\n",
       "    <tr style=\"text-align: right;\">\n",
       "      <th></th>\n",
       "      <th>0</th>\n",
       "    </tr>\n",
       "  </thead>\n",
       "  <tbody>\n",
       "    <tr>\n",
       "      <th>0</th>\n",
       "      <td>2003 invasion of iraq</td>\n",
       "    </tr>\n",
       "    <tr>\n",
       "      <th>1</th>\n",
       "      <td>abortion</td>\n",
       "    </tr>\n",
       "    <tr>\n",
       "      <th>2</th>\n",
       "      <td>affirmative action</td>\n",
       "    </tr>\n",
       "    <tr>\n",
       "      <th>3</th>\n",
       "      <td>african national congress</td>\n",
       "    </tr>\n",
       "    <tr>\n",
       "      <th>4</th>\n",
       "      <td>alberta separatism</td>\n",
       "    </tr>\n",
       "    <tr>\n",
       "      <th>...</th>\n",
       "      <td>...</td>\n",
       "    </tr>\n",
       "    <tr>\n",
       "      <th>1502</th>\n",
       "      <td>student athletes</td>\n",
       "    </tr>\n",
       "    <tr>\n",
       "      <th>1503</th>\n",
       "      <td>super bowl xxxviii</td>\n",
       "    </tr>\n",
       "    <tr>\n",
       "      <th>1504</th>\n",
       "      <td>janet jackson wardrobe malfunction</td>\n",
       "    </tr>\n",
       "    <tr>\n",
       "      <th>1505</th>\n",
       "      <td>tonya harding</td>\n",
       "    </tr>\n",
       "    <tr>\n",
       "      <th>1506</th>\n",
       "      <td>larry nassar</td>\n",
       "    </tr>\n",
       "  </tbody>\n",
       "</table>\n",
       "<p>1507 rows × 1 columns</p>\n",
       "</div>"
      ],
      "text/plain": [
       "                                       0\n",
       "0                  2003 invasion of iraq\n",
       "1                               abortion\n",
       "2                     affirmative action\n",
       "3              african national congress\n",
       "4                     alberta separatism\n",
       "...                                  ...\n",
       "1502                    student athletes\n",
       "1503                  super bowl xxxviii\n",
       "1504  janet jackson wardrobe malfunction\n",
       "1505                       tonya harding\n",
       "1506                        larry nassar\n",
       "\n",
       "[1507 rows x 1 columns]"
      ]
     },
     "execution_count": 53,
     "metadata": {},
     "output_type": "execute_result"
    }
   ],
   "source": [
    "controversies"
   ]
  }
 ],
 "metadata": {
  "kernelspec": {
   "display_name": "thesis",
   "language": "python",
   "name": "thesis"
  },
  "language_info": {
   "codemirror_mode": {
    "name": "ipython",
    "version": 3
   },
   "file_extension": ".py",
   "mimetype": "text/x-python",
   "name": "python",
   "nbconvert_exporter": "python",
   "pygments_lexer": "ipython3",
   "version": "3.7.10"
  }
 },
 "nbformat": 4,
 "nbformat_minor": 5
}
